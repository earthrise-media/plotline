{
 "cells": [
  {
   "cell_type": "markdown",
   "metadata": {},
   "source": [
    "# Work in Progress aiming to create one dataset with all historical fewsnet data"
   ]
  },
  {
   "cell_type": "code",
   "execution_count": 21,
   "metadata": {},
   "outputs": [],
   "source": [
    "import geopandas as gpd\n",
    "import pandas as pd\n",
    "from requests.auth import HTTPBasicAuth\n",
    "import requests\n",
    "import json\n",
    "import plotly.express as px\n",
    "import os\n",
    "import rtree"
   ]
  },
  {
   "cell_type": "code",
   "execution_count": null,
   "metadata": {},
   "outputs": [],
   "source": []
  },
  {
   "cell_type": "code",
   "execution_count": 2,
   "metadata": {},
   "outputs": [],
   "source": [
    "# fewsnet_all = gpd.read_file(\"./data/FEWS_NET_LH_World.zip\")\n",
    "# fewsnet_all = fewsnet_all.to_crs(epsg=4326)\n",
    "# fewsnet_all.head(1)"
   ]
  },
  {
   "cell_type": "code",
   "execution_count": 3,
   "metadata": {},
   "outputs": [],
   "source": [
    "# testlink = gpd.read_file(\"https://fews.net/data_portal_download/download?data_file_path=http://shapefiles.fews.net.s3.amazonaws.com/HFIC/EA/east-africa201802.zip\")\n",
    "# testlink = testlink.to_crs(epsg=4326)\n",
    "# testlink"
   ]
  },
  {
   "cell_type": "code",
   "execution_count": 2,
   "metadata": {},
   "outputs": [
    {
     "data": {
      "text/html": [
       "<div>\n",
       "<style scoped>\n",
       "    .dataframe tbody tr th:only-of-type {\n",
       "        vertical-align: middle;\n",
       "    }\n",
       "\n",
       "    .dataframe tbody tr th {\n",
       "        vertical-align: top;\n",
       "    }\n",
       "\n",
       "    .dataframe thead th {\n",
       "        text-align: right;\n",
       "    }\n",
       "</style>\n",
       "<table border=\"1\" class=\"dataframe\">\n",
       "  <thead>\n",
       "    <tr style=\"text-align: right;\">\n",
       "      <th></th>\n",
       "      <th>OBJECTID</th>\n",
       "      <th>FNID</th>\n",
       "      <th>EFF_YEAR</th>\n",
       "      <th>COUNTRY</th>\n",
       "      <th>LZNUM</th>\n",
       "      <th>LZCODE</th>\n",
       "      <th>LZNAMEEN</th>\n",
       "      <th>LZNAMEFR</th>\n",
       "      <th>LZNAMESP</th>\n",
       "      <th>LZNAMEPT</th>\n",
       "      <th>CLASS</th>\n",
       "      <th>LZSZCODE</th>\n",
       "      <th>LZTYPE</th>\n",
       "      <th>MAINCROPS</th>\n",
       "      <th>MAINLSTOCK</th>\n",
       "      <th>geometry</th>\n",
       "    </tr>\n",
       "  </thead>\n",
       "  <tbody>\n",
       "    <tr>\n",
       "      <th>0</th>\n",
       "      <td>30</td>\n",
       "      <td>AO2013L102</td>\n",
       "      <td>2013</td>\n",
       "      <td>AO</td>\n",
       "      <td>2</td>\n",
       "      <td>AO02</td>\n",
       "      <td>Transitional banana and pineapple farming</td>\n",
       "      <td>None</td>\n",
       "      <td>None</td>\n",
       "      <td>Transicional do cultivo da banana e ananás</td>\n",
       "      <td>AS09</td>\n",
       "      <td>None</td>\n",
       "      <td>None</td>\n",
       "      <td>None</td>\n",
       "      <td>None</td>\n",
       "      <td>POLYGON ((14.32935 -10.30132, 14.35352 -10.313...</td>\n",
       "    </tr>\n",
       "    <tr>\n",
       "      <th>1</th>\n",
       "      <td>31</td>\n",
       "      <td>AO2013L104</td>\n",
       "      <td>2013</td>\n",
       "      <td>AO</td>\n",
       "      <td>4</td>\n",
       "      <td>AO04</td>\n",
       "      <td>Sub humid livestock and maize</td>\n",
       "      <td>None</td>\n",
       "      <td>None</td>\n",
       "      <td>Sub húmida de pastorícia e milho</td>\n",
       "      <td>PS03</td>\n",
       "      <td>None</td>\n",
       "      <td>None</td>\n",
       "      <td>None</td>\n",
       "      <td>None</td>\n",
       "      <td>POLYGON ((17.89424 -13.67606, 17.90491 -13.695...</td>\n",
       "    </tr>\n",
       "    <tr>\n",
       "      <th>2</th>\n",
       "      <td>32</td>\n",
       "      <td>AO2013L105</td>\n",
       "      <td>2013</td>\n",
       "      <td>AO</td>\n",
       "      <td>5</td>\n",
       "      <td>AO05</td>\n",
       "      <td>Mid-eastern cassava and savannah forest</td>\n",
       "      <td>None</td>\n",
       "      <td>None</td>\n",
       "      <td>Centro-este de mandioca e floresta de savana</td>\n",
       "      <td>AG04</td>\n",
       "      <td>None</td>\n",
       "      <td>None</td>\n",
       "      <td>None</td>\n",
       "      <td>None</td>\n",
       "      <td>POLYGON ((17.92018 -11.52576, 17.93213 -11.527...</td>\n",
       "    </tr>\n",
       "    <tr>\n",
       "      <th>3</th>\n",
       "      <td>33</td>\n",
       "      <td>AO2013L108</td>\n",
       "      <td>2013</td>\n",
       "      <td>AO</td>\n",
       "      <td>8</td>\n",
       "      <td>AO08</td>\n",
       "      <td>Transitional lowland maize, cassava, and beans</td>\n",
       "      <td>None</td>\n",
       "      <td>None</td>\n",
       "      <td>Baixa transicional de milho, mandioca e feijões</td>\n",
       "      <td>AS05</td>\n",
       "      <td>None</td>\n",
       "      <td>None</td>\n",
       "      <td>None</td>\n",
       "      <td>None</td>\n",
       "      <td>POLYGON ((13.83407 -7.65854, 13.83546 -7.68132...</td>\n",
       "    </tr>\n",
       "    <tr>\n",
       "      <th>4</th>\n",
       "      <td>34</td>\n",
       "      <td>AO2013L110</td>\n",
       "      <td>2013</td>\n",
       "      <td>AO</td>\n",
       "      <td>10</td>\n",
       "      <td>AO10</td>\n",
       "      <td>Savannah forest and market-oriented cassava</td>\n",
       "      <td>None</td>\n",
       "      <td>None</td>\n",
       "      <td>Floresta de savana e mandioca orientada ao mer...</td>\n",
       "      <td>AN08</td>\n",
       "      <td>None</td>\n",
       "      <td>None</td>\n",
       "      <td>None</td>\n",
       "      <td>None</td>\n",
       "      <td>POLYGON ((17.11363 -7.42542, 17.12791 -7.42627...</td>\n",
       "    </tr>\n",
       "    <tr>\n",
       "      <th>...</th>\n",
       "      <td>...</td>\n",
       "      <td>...</td>\n",
       "      <td>...</td>\n",
       "      <td>...</td>\n",
       "      <td>...</td>\n",
       "      <td>...</td>\n",
       "      <td>...</td>\n",
       "      <td>...</td>\n",
       "      <td>...</td>\n",
       "      <td>...</td>\n",
       "      <td>...</td>\n",
       "      <td>...</td>\n",
       "      <td>...</td>\n",
       "      <td>...</td>\n",
       "      <td>...</td>\n",
       "      <td>...</td>\n",
       "    </tr>\n",
       "    <tr>\n",
       "      <th>860</th>\n",
       "      <td>0</td>\n",
       "      <td>TD2021L104</td>\n",
       "      <td>2021</td>\n",
       "      <td>TD</td>\n",
       "      <td>4</td>\n",
       "      <td>TD04</td>\n",
       "      <td>Southeast Flood Retreat and Gum Arabic</td>\n",
       "      <td>Zone sud-est: cultures de décrue et gomme arab...</td>\n",
       "      <td>None</td>\n",
       "      <td>None</td>\n",
       "      <td>AN01</td>\n",
       "      <td>None</td>\n",
       "      <td>None</td>\n",
       "      <td>None</td>\n",
       "      <td>None</td>\n",
       "      <td>POLYGON ((22.47709 12.01926, 22.47845 12.01923...</td>\n",
       "    </tr>\n",
       "    <tr>\n",
       "      <th>861</th>\n",
       "      <td>0</td>\n",
       "      <td>TD2021L103</td>\n",
       "      <td>2021</td>\n",
       "      <td>TD</td>\n",
       "      <td>3</td>\n",
       "      <td>TD03</td>\n",
       "      <td>South-central Cereals</td>\n",
       "      <td>Zone sud-centrale céréaliculture</td>\n",
       "      <td>None</td>\n",
       "      <td>None</td>\n",
       "      <td>AN04</td>\n",
       "      <td>None</td>\n",
       "      <td>None</td>\n",
       "      <td>None</td>\n",
       "      <td>None</td>\n",
       "      <td>POLYGON ((19.40499 11.10400, 19.47900 11.04799...</td>\n",
       "    </tr>\n",
       "    <tr>\n",
       "      <th>862</th>\n",
       "      <td>0</td>\n",
       "      <td>TD2021L102</td>\n",
       "      <td>2021</td>\n",
       "      <td>TD</td>\n",
       "      <td>2</td>\n",
       "      <td>TD02</td>\n",
       "      <td>Southwest Rice</td>\n",
       "      <td>Zone sud-ouest de riz \\r</td>\n",
       "      <td>None</td>\n",
       "      <td>None</td>\n",
       "      <td>AS05</td>\n",
       "      <td>None</td>\n",
       "      <td>None</td>\n",
       "      <td>None</td>\n",
       "      <td>None</td>\n",
       "      <td>POLYGON ((15.39857 9.77331, 15.39858 9.77331, ...</td>\n",
       "    </tr>\n",
       "    <tr>\n",
       "      <th>863</th>\n",
       "      <td>0</td>\n",
       "      <td>TD2021L105</td>\n",
       "      <td>2021</td>\n",
       "      <td>TD</td>\n",
       "      <td>5</td>\n",
       "      <td>TD05</td>\n",
       "      <td>Central Agropastoral</td>\n",
       "      <td>Zone centrale agropastorale</td>\n",
       "      <td>None</td>\n",
       "      <td>None</td>\n",
       "      <td>PS03</td>\n",
       "      <td>None</td>\n",
       "      <td>None</td>\n",
       "      <td>None</td>\n",
       "      <td>None</td>\n",
       "      <td>POLYGON ((17.27100 13.66200, 17.23400 13.42700...</td>\n",
       "    </tr>\n",
       "    <tr>\n",
       "      <th>864</th>\n",
       "      <td>0</td>\n",
       "      <td>TD2021L107</td>\n",
       "      <td>2021</td>\n",
       "      <td>TD</td>\n",
       "      <td>7</td>\n",
       "      <td>TD07</td>\n",
       "      <td>Transhumance</td>\n",
       "      <td>Zone de transhumance</td>\n",
       "      <td>None</td>\n",
       "      <td>None</td>\n",
       "      <td>SH02</td>\n",
       "      <td>None</td>\n",
       "      <td>None</td>\n",
       "      <td>None</td>\n",
       "      <td>None</td>\n",
       "      <td>POLYGON ((16.41169 15.10599, 16.56397 15.01558...</td>\n",
       "    </tr>\n",
       "  </tbody>\n",
       "</table>\n",
       "<p>865 rows × 16 columns</p>\n",
       "</div>"
      ],
      "text/plain": [
       "     OBJECTID        FNID  EFF_YEAR COUNTRY  LZNUM LZCODE  \\\n",
       "0          30  AO2013L102      2013      AO      2   AO02   \n",
       "1          31  AO2013L104      2013      AO      4   AO04   \n",
       "2          32  AO2013L105      2013      AO      5   AO05   \n",
       "3          33  AO2013L108      2013      AO      8   AO08   \n",
       "4          34  AO2013L110      2013      AO     10   AO10   \n",
       "..        ...         ...       ...     ...    ...    ...   \n",
       "860         0  TD2021L104      2021      TD      4   TD04   \n",
       "861         0  TD2021L103      2021      TD      3   TD03   \n",
       "862         0  TD2021L102      2021      TD      2   TD02   \n",
       "863         0  TD2021L105      2021      TD      5   TD05   \n",
       "864         0  TD2021L107      2021      TD      7   TD07   \n",
       "\n",
       "                                           LZNAMEEN  \\\n",
       "0         Transitional banana and pineapple farming   \n",
       "1                     Sub humid livestock and maize   \n",
       "2           Mid-eastern cassava and savannah forest   \n",
       "3    Transitional lowland maize, cassava, and beans   \n",
       "4       Savannah forest and market-oriented cassava   \n",
       "..                                              ...   \n",
       "860          Southeast Flood Retreat and Gum Arabic   \n",
       "861                           South-central Cereals   \n",
       "862                                  Southwest Rice   \n",
       "863                            Central Agropastoral   \n",
       "864                                    Transhumance   \n",
       "\n",
       "                                              LZNAMEFR LZNAMESP  \\\n",
       "0                                                 None     None   \n",
       "1                                                 None     None   \n",
       "2                                                 None     None   \n",
       "3                                                 None     None   \n",
       "4                                                 None     None   \n",
       "..                                                 ...      ...   \n",
       "860  Zone sud-est: cultures de décrue et gomme arab...     None   \n",
       "861                   Zone sud-centrale céréaliculture     None   \n",
       "862                           Zone sud-ouest de riz \\r     None   \n",
       "863                        Zone centrale agropastorale     None   \n",
       "864                               Zone de transhumance     None   \n",
       "\n",
       "                                              LZNAMEPT CLASS LZSZCODE LZTYPE  \\\n",
       "0           Transicional do cultivo da banana e ananás  AS09     None   None   \n",
       "1                     Sub húmida de pastorícia e milho  PS03     None   None   \n",
       "2         Centro-este de mandioca e floresta de savana  AG04     None   None   \n",
       "3      Baixa transicional de milho, mandioca e feijões  AS05     None   None   \n",
       "4    Floresta de savana e mandioca orientada ao mer...  AN08     None   None   \n",
       "..                                                 ...   ...      ...    ...   \n",
       "860                                               None  AN01     None   None   \n",
       "861                                               None  AN04     None   None   \n",
       "862                                               None  AS05     None   None   \n",
       "863                                               None  PS03     None   None   \n",
       "864                                               None  SH02     None   None   \n",
       "\n",
       "    MAINCROPS MAINLSTOCK                                           geometry  \n",
       "0        None       None  POLYGON ((14.32935 -10.30132, 14.35352 -10.313...  \n",
       "1        None       None  POLYGON ((17.89424 -13.67606, 17.90491 -13.695...  \n",
       "2        None       None  POLYGON ((17.92018 -11.52576, 17.93213 -11.527...  \n",
       "3        None       None  POLYGON ((13.83407 -7.65854, 13.83546 -7.68132...  \n",
       "4        None       None  POLYGON ((17.11363 -7.42542, 17.12791 -7.42627...  \n",
       "..        ...        ...                                                ...  \n",
       "860      None       None  POLYGON ((22.47709 12.01926, 22.47845 12.01923...  \n",
       "861      None       None  POLYGON ((19.40499 11.10400, 19.47900 11.04799...  \n",
       "862      None       None  POLYGON ((15.39857 9.77331, 15.39858 9.77331, ...  \n",
       "863      None       None  POLYGON ((17.27100 13.66200, 17.23400 13.42700...  \n",
       "864      None       None  POLYGON ((16.41169 15.10599, 16.56397 15.01558...  \n",
       "\n",
       "[865 rows x 16 columns]"
      ]
     },
     "execution_count": 2,
     "metadata": {},
     "output_type": "execute_result"
    }
   ],
   "source": [
    "lhz = gpd.read_file(\"./data/FEWS_NET_LH_World.zip\")\n",
    "lhz = lhz.to_crs(epsg=4326)\n",
    "lhz"
   ]
  },
  {
   "cell_type": "code",
   "execution_count": 4,
   "metadata": {},
   "outputs": [
    {
     "data": {
      "text/html": [
       "<div>\n",
       "<style scoped>\n",
       "    .dataframe tbody tr th:only-of-type {\n",
       "        vertical-align: middle;\n",
       "    }\n",
       "\n",
       "    .dataframe tbody tr th {\n",
       "        vertical-align: top;\n",
       "    }\n",
       "\n",
       "    .dataframe thead th {\n",
       "        text-align: right;\n",
       "    }\n",
       "</style>\n",
       "<table border=\"1\" class=\"dataframe\">\n",
       "  <thead>\n",
       "    <tr style=\"text-align: right;\">\n",
       "      <th></th>\n",
       "      <th>FNID</th>\n",
       "      <th>EFF_YEAR</th>\n",
       "      <th>COUNTRY</th>\n",
       "      <th>ADMIN0</th>\n",
       "      <th>ADMIN1</th>\n",
       "      <th>ADMIN1FR</th>\n",
       "      <th>ADMIN1SP</th>\n",
       "      <th>ADMIN1PT</th>\n",
       "      <th>ALIASES</th>\n",
       "      <th>geometry</th>\n",
       "    </tr>\n",
       "  </thead>\n",
       "  <tbody>\n",
       "    <tr>\n",
       "      <th>0</th>\n",
       "      <td>AO2008A101</td>\n",
       "      <td>2008</td>\n",
       "      <td>AO</td>\n",
       "      <td>Angola</td>\n",
       "      <td>Bengo</td>\n",
       "      <td>None</td>\n",
       "      <td>None</td>\n",
       "      <td>Bengo</td>\n",
       "      <td>None</td>\n",
       "      <td>POLYGON ((13.99846 -7.65368, 13.99921 -7.65384...</td>\n",
       "    </tr>\n",
       "    <tr>\n",
       "      <th>1</th>\n",
       "      <td>AO2008A102</td>\n",
       "      <td>2008</td>\n",
       "      <td>AO</td>\n",
       "      <td>Angola</td>\n",
       "      <td>Benguela</td>\n",
       "      <td>None</td>\n",
       "      <td>None</td>\n",
       "      <td>Benguela</td>\n",
       "      <td>None</td>\n",
       "      <td>POLYGON ((13.87370 -11.76882, 13.87458 -11.768...</td>\n",
       "    </tr>\n",
       "    <tr>\n",
       "      <th>2</th>\n",
       "      <td>AO2008A103</td>\n",
       "      <td>2008</td>\n",
       "      <td>AO</td>\n",
       "      <td>Angola</td>\n",
       "      <td>Bie</td>\n",
       "      <td>None</td>\n",
       "      <td>None</td>\n",
       "      <td>Bie</td>\n",
       "      <td>None</td>\n",
       "      <td>POLYGON ((16.61016 -10.57761, 16.61522 -10.578...</td>\n",
       "    </tr>\n",
       "    <tr>\n",
       "      <th>3</th>\n",
       "      <td>AO2008A104</td>\n",
       "      <td>2008</td>\n",
       "      <td>AO</td>\n",
       "      <td>Angola</td>\n",
       "      <td>Cabinda</td>\n",
       "      <td>None</td>\n",
       "      <td>None</td>\n",
       "      <td>Cabinda</td>\n",
       "      <td>None</td>\n",
       "      <td>POLYGON ((12.82282 -4.40323, 12.83247 -4.40642...</td>\n",
       "    </tr>\n",
       "    <tr>\n",
       "      <th>4</th>\n",
       "      <td>AO2008A105</td>\n",
       "      <td>2008</td>\n",
       "      <td>AO</td>\n",
       "      <td>Angola</td>\n",
       "      <td>Cunene</td>\n",
       "      <td>None</td>\n",
       "      <td>None</td>\n",
       "      <td>Cunene</td>\n",
       "      <td>None</td>\n",
       "      <td>POLYGON ((16.54543 -15.13035, 16.54644 -15.130...</td>\n",
       "    </tr>\n",
       "    <tr>\n",
       "      <th>...</th>\n",
       "      <td>...</td>\n",
       "      <td>...</td>\n",
       "      <td>...</td>\n",
       "      <td>...</td>\n",
       "      <td>...</td>\n",
       "      <td>...</td>\n",
       "      <td>...</td>\n",
       "      <td>...</td>\n",
       "      <td>...</td>\n",
       "      <td>...</td>\n",
       "    </tr>\n",
       "    <tr>\n",
       "      <th>664</th>\n",
       "      <td>AF2017A122</td>\n",
       "      <td>2017</td>\n",
       "      <td>AF</td>\n",
       "      <td>Afghanistan</td>\n",
       "      <td>Sari Pul</td>\n",
       "      <td>None</td>\n",
       "      <td>None</td>\n",
       "      <td>None</td>\n",
       "      <td>~Sar-e-Pul~Sar-e Pul~</td>\n",
       "      <td>POLYGON ((66.00733 36.50566, 66.00871 36.50549...</td>\n",
       "    </tr>\n",
       "    <tr>\n",
       "      <th>665</th>\n",
       "      <td>AF2017A118</td>\n",
       "      <td>2017</td>\n",
       "      <td>AF</td>\n",
       "      <td>Afghanistan</td>\n",
       "      <td>Takhar</td>\n",
       "      <td>None</td>\n",
       "      <td>None</td>\n",
       "      <td>None</td>\n",
       "      <td>~Tekhar~Taluqan~Talukan~</td>\n",
       "      <td>MULTIPOLYGON (((70.06893 37.38423, 70.06896 37...</td>\n",
       "    </tr>\n",
       "    <tr>\n",
       "      <th>666</th>\n",
       "      <td>AF2017A125</td>\n",
       "      <td>2017</td>\n",
       "      <td>AF</td>\n",
       "      <td>Afghanistan</td>\n",
       "      <td>Uruzgan</td>\n",
       "      <td>None</td>\n",
       "      <td>None</td>\n",
       "      <td>None</td>\n",
       "      <td>~Oruzgan~Owruzgan~Urozgan~Orozgan~</td>\n",
       "      <td>POLYGON ((66.52982 33.59141, 66.53017 33.58970...</td>\n",
       "    </tr>\n",
       "    <tr>\n",
       "      <th>667</th>\n",
       "      <td>AF2017A104</td>\n",
       "      <td>2017</td>\n",
       "      <td>AF</td>\n",
       "      <td>Afghanistan</td>\n",
       "      <td>Wardak</td>\n",
       "      <td>None</td>\n",
       "      <td>None</td>\n",
       "      <td>None</td>\n",
       "      <td>~Maydan~Vardak~Werdek~Wardag~</td>\n",
       "      <td>POLYGON ((68.29716 34.78276, 68.29839 34.78109...</td>\n",
       "    </tr>\n",
       "    <tr>\n",
       "      <th>668</th>\n",
       "      <td>AF2017A126</td>\n",
       "      <td>2017</td>\n",
       "      <td>AF</td>\n",
       "      <td>Afghanistan</td>\n",
       "      <td>Zabul</td>\n",
       "      <td>None</td>\n",
       "      <td>None</td>\n",
       "      <td>None</td>\n",
       "      <td>~Qalat-e Ghelza'i~Kalat~Qalat~</td>\n",
       "      <td>POLYGON ((67.17045 33.04693, 67.17078 33.04293...</td>\n",
       "    </tr>\n",
       "  </tbody>\n",
       "</table>\n",
       "<p>669 rows × 10 columns</p>\n",
       "</div>"
      ],
      "text/plain": [
       "           FNID  EFF_YEAR COUNTRY       ADMIN0    ADMIN1 ADMIN1FR ADMIN1SP  \\\n",
       "0    AO2008A101      2008      AO       Angola     Bengo     None     None   \n",
       "1    AO2008A102      2008      AO       Angola  Benguela     None     None   \n",
       "2    AO2008A103      2008      AO       Angola       Bie     None     None   \n",
       "3    AO2008A104      2008      AO       Angola   Cabinda     None     None   \n",
       "4    AO2008A105      2008      AO       Angola    Cunene     None     None   \n",
       "..          ...       ...     ...          ...       ...      ...      ...   \n",
       "664  AF2017A122      2017      AF  Afghanistan  Sari Pul     None     None   \n",
       "665  AF2017A118      2017      AF  Afghanistan    Takhar     None     None   \n",
       "666  AF2017A125      2017      AF  Afghanistan   Uruzgan     None     None   \n",
       "667  AF2017A104      2017      AF  Afghanistan    Wardak     None     None   \n",
       "668  AF2017A126      2017      AF  Afghanistan     Zabul     None     None   \n",
       "\n",
       "     ADMIN1PT                             ALIASES  \\\n",
       "0       Bengo                                None   \n",
       "1    Benguela                                None   \n",
       "2         Bie                                None   \n",
       "3     Cabinda                                None   \n",
       "4      Cunene                                None   \n",
       "..        ...                                 ...   \n",
       "664      None               ~Sar-e-Pul~Sar-e Pul~   \n",
       "665      None            ~Tekhar~Taluqan~Talukan~   \n",
       "666      None  ~Oruzgan~Owruzgan~Urozgan~Orozgan~   \n",
       "667      None       ~Maydan~Vardak~Werdek~Wardag~   \n",
       "668      None      ~Qalat-e Ghelza'i~Kalat~Qalat~   \n",
       "\n",
       "                                              geometry  \n",
       "0    POLYGON ((13.99846 -7.65368, 13.99921 -7.65384...  \n",
       "1    POLYGON ((13.87370 -11.76882, 13.87458 -11.768...  \n",
       "2    POLYGON ((16.61016 -10.57761, 16.61522 -10.578...  \n",
       "3    POLYGON ((12.82282 -4.40323, 12.83247 -4.40642...  \n",
       "4    POLYGON ((16.54543 -15.13035, 16.54644 -15.130...  \n",
       "..                                                 ...  \n",
       "664  POLYGON ((66.00733 36.50566, 66.00871 36.50549...  \n",
       "665  MULTIPOLYGON (((70.06893 37.38423, 70.06896 37...  \n",
       "666  POLYGON ((66.52982 33.59141, 66.53017 33.58970...  \n",
       "667  POLYGON ((68.29716 34.78276, 68.29839 34.78109...  \n",
       "668  POLYGON ((67.17045 33.04693, 67.17078 33.04293...  \n",
       "\n",
       "[669 rows x 10 columns]"
      ]
     },
     "execution_count": 4,
     "metadata": {},
     "output_type": "execute_result"
    }
   ],
   "source": [
    "adm1 = gpd.read_file(\"./data/FEWSNET_World_Admin/FEWSNET_Admin1.shp\")\n",
    "adm1 = adm1.to_crs(epsg=4326)\n",
    "adm1"
   ]
  },
  {
   "cell_type": "code",
   "execution_count": 3,
   "metadata": {},
   "outputs": [
    {
     "data": {
      "text/html": [
       "<div>\n",
       "<style scoped>\n",
       "    .dataframe tbody tr th:only-of-type {\n",
       "        vertical-align: middle;\n",
       "    }\n",
       "\n",
       "    .dataframe tbody tr th {\n",
       "        vertical-align: top;\n",
       "    }\n",
       "\n",
       "    .dataframe thead th {\n",
       "        text-align: right;\n",
       "    }\n",
       "</style>\n",
       "<table border=\"1\" class=\"dataframe\">\n",
       "  <thead>\n",
       "    <tr style=\"text-align: right;\">\n",
       "      <th></th>\n",
       "      <th>FNID</th>\n",
       "      <th>EFF_YEAR</th>\n",
       "      <th>COUNTRY</th>\n",
       "      <th>ADMIN0</th>\n",
       "      <th>ADMIN1</th>\n",
       "      <th>ADMIN1FR</th>\n",
       "      <th>ADMIN1SP</th>\n",
       "      <th>ADMIN1PT</th>\n",
       "      <th>ADMIN2</th>\n",
       "      <th>ADMIN2FR</th>\n",
       "      <th>ADMIN2SP</th>\n",
       "      <th>ADMIN2PT</th>\n",
       "      <th>ALIASES</th>\n",
       "      <th>geometry</th>\n",
       "    </tr>\n",
       "  </thead>\n",
       "  <tbody>\n",
       "    <tr>\n",
       "      <th>0</th>\n",
       "      <td>AO2008A21701</td>\n",
       "      <td>2008</td>\n",
       "      <td>AO</td>\n",
       "      <td>Angola</td>\n",
       "      <td>Uige</td>\n",
       "      <td>None</td>\n",
       "      <td>None</td>\n",
       "      <td>Uige</td>\n",
       "      <td>Alto Cuale</td>\n",
       "      <td>None</td>\n",
       "      <td>None</td>\n",
       "      <td>Alto Cuale</td>\n",
       "      <td>None</td>\n",
       "      <td>POLYGON ((16.34542 -7.47550, 16.34498 -7.47693...</td>\n",
       "    </tr>\n",
       "    <tr>\n",
       "      <th>1</th>\n",
       "      <td>AO2008A21501</td>\n",
       "      <td>2008</td>\n",
       "      <td>AO</td>\n",
       "      <td>Angola</td>\n",
       "      <td>Moxico</td>\n",
       "      <td>None</td>\n",
       "      <td>None</td>\n",
       "      <td>Moxico</td>\n",
       "      <td>Alto Zambeze</td>\n",
       "      <td>None</td>\n",
       "      <td>None</td>\n",
       "      <td>Alto Zambeze</td>\n",
       "      <td>None</td>\n",
       "      <td>POLYGON ((24.01645 -11.01787, 24.01387 -11.030...</td>\n",
       "    </tr>\n",
       "    <tr>\n",
       "      <th>2</th>\n",
       "      <td>AO2008A20901</td>\n",
       "      <td>2008</td>\n",
       "      <td>AO</td>\n",
       "      <td>Angola</td>\n",
       "      <td>Kuanza Norte</td>\n",
       "      <td>None</td>\n",
       "      <td>None</td>\n",
       "      <td>Kuanza Norte</td>\n",
       "      <td>Ambaca</td>\n",
       "      <td>None</td>\n",
       "      <td>None</td>\n",
       "      <td>Ambaca</td>\n",
       "      <td>None</td>\n",
       "      <td>POLYGON ((15.69911 -8.01768, 15.70128 -8.01780...</td>\n",
       "    </tr>\n",
       "    <tr>\n",
       "      <th>3</th>\n",
       "      <td>AO2008A21001</td>\n",
       "      <td>2008</td>\n",
       "      <td>AO</td>\n",
       "      <td>Angola</td>\n",
       "      <td>Kuanza Sul</td>\n",
       "      <td>None</td>\n",
       "      <td>None</td>\n",
       "      <td>Kuanza Sul</td>\n",
       "      <td>Amboim</td>\n",
       "      <td>None</td>\n",
       "      <td>None</td>\n",
       "      <td>Amboim</td>\n",
       "      <td>None</td>\n",
       "      <td>POLYGON ((14.51918 -10.76831, 14.52180 -10.770...</td>\n",
       "    </tr>\n",
       "    <tr>\n",
       "      <th>4</th>\n",
       "      <td>AO2008A20101</td>\n",
       "      <td>2008</td>\n",
       "      <td>AO</td>\n",
       "      <td>Angola</td>\n",
       "      <td>Bengo</td>\n",
       "      <td>None</td>\n",
       "      <td>None</td>\n",
       "      <td>Bengo</td>\n",
       "      <td>Ambriz</td>\n",
       "      <td>None</td>\n",
       "      <td>None</td>\n",
       "      <td>Ambriz</td>\n",
       "      <td>None</td>\n",
       "      <td>POLYGON ((13.81469 -7.66262, 13.81628 -7.66297...</td>\n",
       "    </tr>\n",
       "    <tr>\n",
       "      <th>...</th>\n",
       "      <td>...</td>\n",
       "      <td>...</td>\n",
       "      <td>...</td>\n",
       "      <td>...</td>\n",
       "      <td>...</td>\n",
       "      <td>...</td>\n",
       "      <td>...</td>\n",
       "      <td>...</td>\n",
       "      <td>...</td>\n",
       "      <td>...</td>\n",
       "      <td>...</td>\n",
       "      <td>...</td>\n",
       "      <td>...</td>\n",
       "      <td>...</td>\n",
       "    </tr>\n",
       "    <tr>\n",
       "      <th>6560</th>\n",
       "      <td>AF2017A20105</td>\n",
       "      <td>2017</td>\n",
       "      <td>AF</td>\n",
       "      <td>Afghanistan</td>\n",
       "      <td>Kabul</td>\n",
       "      <td>None</td>\n",
       "      <td>None</td>\n",
       "      <td>None</td>\n",
       "      <td>Deh Sabz</td>\n",
       "      <td>None</td>\n",
       "      <td>None</td>\n",
       "      <td>None</td>\n",
       "      <td>~Dehsabz~Deh-e-Sabz~Deh-e Sabz~</td>\n",
       "      <td>POLYGON ((69.46155 34.58448, 69.46121 34.58369...</td>\n",
       "    </tr>\n",
       "    <tr>\n",
       "      <th>6561</th>\n",
       "      <td>AF2017A20907</td>\n",
       "      <td>2017</td>\n",
       "      <td>AF</td>\n",
       "      <td>Afghanistan</td>\n",
       "      <td>Baghlan</td>\n",
       "      <td>None</td>\n",
       "      <td>None</td>\n",
       "      <td>None</td>\n",
       "      <td>Andarab</td>\n",
       "      <td>None</td>\n",
       "      <td>None</td>\n",
       "      <td>None</td>\n",
       "      <td>None</td>\n",
       "      <td>POLYGON ((69.04545 35.81928, 69.04450 35.81818...</td>\n",
       "    </tr>\n",
       "    <tr>\n",
       "      <th>6562</th>\n",
       "      <td>AF2017A21713</td>\n",
       "      <td>2017</td>\n",
       "      <td>AF</td>\n",
       "      <td>Afghanistan</td>\n",
       "      <td>Badakhshan</td>\n",
       "      <td>None</td>\n",
       "      <td>None</td>\n",
       "      <td>None</td>\n",
       "      <td>Shahr-e-Buzorg</td>\n",
       "      <td>None</td>\n",
       "      <td>None</td>\n",
       "      <td>None</td>\n",
       "      <td>~Shahr-e Buzurg~Shahri Buzurg~Shahr-e Buzurg~</td>\n",
       "      <td>POLYGON ((70.06893 37.38423, 70.07026 37.38434...</td>\n",
       "    </tr>\n",
       "    <tr>\n",
       "      <th>6563</th>\n",
       "      <td>AF2017A20102</td>\n",
       "      <td>2017</td>\n",
       "      <td>AF</td>\n",
       "      <td>Afghanistan</td>\n",
       "      <td>Kabul</td>\n",
       "      <td>None</td>\n",
       "      <td>None</td>\n",
       "      <td>None</td>\n",
       "      <td>Paghman</td>\n",
       "      <td>None</td>\n",
       "      <td>None</td>\n",
       "      <td>None</td>\n",
       "      <td>None</td>\n",
       "      <td>POLYGON ((69.03724 34.59171, 69.03838 34.59173...</td>\n",
       "    </tr>\n",
       "    <tr>\n",
       "      <th>6564</th>\n",
       "      <td>AF2017A21816</td>\n",
       "      <td>2017</td>\n",
       "      <td>AF</td>\n",
       "      <td>Afghanistan</td>\n",
       "      <td>Takhar</td>\n",
       "      <td>None</td>\n",
       "      <td>None</td>\n",
       "      <td>None</td>\n",
       "      <td>Chah Ab</td>\n",
       "      <td>None</td>\n",
       "      <td>None</td>\n",
       "      <td>None</td>\n",
       "      <td>None</td>\n",
       "      <td>POLYGON ((69.95131 37.56805, 69.95389 37.56398...</td>\n",
       "    </tr>\n",
       "  </tbody>\n",
       "</table>\n",
       "<p>6565 rows × 14 columns</p>\n",
       "</div>"
      ],
      "text/plain": [
       "              FNID  EFF_YEAR COUNTRY       ADMIN0        ADMIN1 ADMIN1FR  \\\n",
       "0     AO2008A21701      2008      AO       Angola          Uige     None   \n",
       "1     AO2008A21501      2008      AO       Angola        Moxico     None   \n",
       "2     AO2008A20901      2008      AO       Angola  Kuanza Norte     None   \n",
       "3     AO2008A21001      2008      AO       Angola    Kuanza Sul     None   \n",
       "4     AO2008A20101      2008      AO       Angola         Bengo     None   \n",
       "...            ...       ...     ...          ...           ...      ...   \n",
       "6560  AF2017A20105      2017      AF  Afghanistan         Kabul     None   \n",
       "6561  AF2017A20907      2017      AF  Afghanistan       Baghlan     None   \n",
       "6562  AF2017A21713      2017      AF  Afghanistan    Badakhshan     None   \n",
       "6563  AF2017A20102      2017      AF  Afghanistan         Kabul     None   \n",
       "6564  AF2017A21816      2017      AF  Afghanistan        Takhar     None   \n",
       "\n",
       "     ADMIN1SP      ADMIN1PT          ADMIN2 ADMIN2FR ADMIN2SP      ADMIN2PT  \\\n",
       "0        None          Uige      Alto Cuale     None     None    Alto Cuale   \n",
       "1        None        Moxico    Alto Zambeze     None     None  Alto Zambeze   \n",
       "2        None  Kuanza Norte          Ambaca     None     None        Ambaca   \n",
       "3        None    Kuanza Sul          Amboim     None     None        Amboim   \n",
       "4        None         Bengo          Ambriz     None     None        Ambriz   \n",
       "...       ...           ...             ...      ...      ...           ...   \n",
       "6560     None          None        Deh Sabz     None     None          None   \n",
       "6561     None          None         Andarab     None     None          None   \n",
       "6562     None          None  Shahr-e-Buzorg     None     None          None   \n",
       "6563     None          None         Paghman     None     None          None   \n",
       "6564     None          None         Chah Ab     None     None          None   \n",
       "\n",
       "                                            ALIASES  \\\n",
       "0                                              None   \n",
       "1                                              None   \n",
       "2                                              None   \n",
       "3                                              None   \n",
       "4                                              None   \n",
       "...                                             ...   \n",
       "6560                ~Dehsabz~Deh-e-Sabz~Deh-e Sabz~   \n",
       "6561                                           None   \n",
       "6562  ~Shahr-e Buzurg~Shahri Buzurg~Shahr-e Buzurg~   \n",
       "6563                                           None   \n",
       "6564                                           None   \n",
       "\n",
       "                                               geometry  \n",
       "0     POLYGON ((16.34542 -7.47550, 16.34498 -7.47693...  \n",
       "1     POLYGON ((24.01645 -11.01787, 24.01387 -11.030...  \n",
       "2     POLYGON ((15.69911 -8.01768, 15.70128 -8.01780...  \n",
       "3     POLYGON ((14.51918 -10.76831, 14.52180 -10.770...  \n",
       "4     POLYGON ((13.81469 -7.66262, 13.81628 -7.66297...  \n",
       "...                                                 ...  \n",
       "6560  POLYGON ((69.46155 34.58448, 69.46121 34.58369...  \n",
       "6561  POLYGON ((69.04545 35.81928, 69.04450 35.81818...  \n",
       "6562  POLYGON ((70.06893 37.38423, 70.07026 37.38434...  \n",
       "6563  POLYGON ((69.03724 34.59171, 69.03838 34.59173...  \n",
       "6564  POLYGON ((69.95131 37.56805, 69.95389 37.56398...  \n",
       "\n",
       "[6565 rows x 14 columns]"
      ]
     },
     "execution_count": 3,
     "metadata": {},
     "output_type": "execute_result"
    }
   ],
   "source": [
    "adm2 = gpd.read_file(\"./data/FEWSNET_World_Admin/FEWSNET_Admin2.shp\")\n",
    "adm2 = adm2.to_crs(epsg=4326)\n",
    "adm2"
   ]
  },
  {
   "cell_type": "code",
   "execution_count": 7,
   "metadata": {},
   "outputs": [
    {
     "data": {
      "text/html": [
       "<div>\n",
       "<style scoped>\n",
       "    .dataframe tbody tr th:only-of-type {\n",
       "        vertical-align: middle;\n",
       "    }\n",
       "\n",
       "    .dataframe tbody tr th {\n",
       "        vertical-align: top;\n",
       "    }\n",
       "\n",
       "    .dataframe thead th {\n",
       "        text-align: right;\n",
       "    }\n",
       "</style>\n",
       "<table border=\"1\" class=\"dataframe\">\n",
       "  <thead>\n",
       "    <tr style=\"text-align: right;\">\n",
       "      <th></th>\n",
       "      <th>CS</th>\n",
       "      <th>HA0</th>\n",
       "      <th>geometry</th>\n",
       "    </tr>\n",
       "  </thead>\n",
       "  <tbody>\n",
       "    <tr>\n",
       "      <th>0</th>\n",
       "      <td>1.0</td>\n",
       "      <td>0.0</td>\n",
       "      <td>MULTIPOLYGON (((39.36784 -4.65351, 39.36945 -4...</td>\n",
       "    </tr>\n",
       "    <tr>\n",
       "      <th>1</th>\n",
       "      <td>1.0</td>\n",
       "      <td>1.0</td>\n",
       "      <td>MULTIPOLYGON (((42.78954 3.30069, 42.71921 3.2...</td>\n",
       "    </tr>\n",
       "    <tr>\n",
       "      <th>2</th>\n",
       "      <td>2.0</td>\n",
       "      <td>0.0</td>\n",
       "      <td>MULTIPOLYGON (((39.54055 -3.63975, 39.54312 -3...</td>\n",
       "    </tr>\n",
       "    <tr>\n",
       "      <th>3</th>\n",
       "      <td>2.0</td>\n",
       "      <td>1.0</td>\n",
       "      <td>MULTIPOLYGON (((44.45677 2.13468, 44.44286 2.1...</td>\n",
       "    </tr>\n",
       "    <tr>\n",
       "      <th>4</th>\n",
       "      <td>3.0</td>\n",
       "      <td>0.0</td>\n",
       "      <td>MULTIPOLYGON (((36.80593 -1.59263, 36.80575 -1...</td>\n",
       "    </tr>\n",
       "    <tr>\n",
       "      <th>5</th>\n",
       "      <td>3.0</td>\n",
       "      <td>1.0</td>\n",
       "      <td>MULTIPOLYGON (((31.37783 6.50423, 31.47383 6.3...</td>\n",
       "    </tr>\n",
       "    <tr>\n",
       "      <th>6</th>\n",
       "      <td>4.0</td>\n",
       "      <td>0.0</td>\n",
       "      <td>MULTIPOLYGON (((30.12183 6.35244, 30.15537 6.2...</td>\n",
       "    </tr>\n",
       "    <tr>\n",
       "      <th>7</th>\n",
       "      <td>88.0</td>\n",
       "      <td>0.0</td>\n",
       "      <td>MULTIPOLYGON (((29.67210 -0.88200, 29.67230 -0...</td>\n",
       "    </tr>\n",
       "    <tr>\n",
       "      <th>8</th>\n",
       "      <td>99.0</td>\n",
       "      <td>0.0</td>\n",
       "      <td>MULTIPOLYGON (((46.98970 8.00000, 47.01239 8.0...</td>\n",
       "    </tr>\n",
       "  </tbody>\n",
       "</table>\n",
       "</div>"
      ],
      "text/plain": [
       "     CS  HA0                                           geometry\n",
       "0   1.0  0.0  MULTIPOLYGON (((39.36784 -4.65351, 39.36945 -4...\n",
       "1   1.0  1.0  MULTIPOLYGON (((42.78954 3.30069, 42.71921 3.2...\n",
       "2   2.0  0.0  MULTIPOLYGON (((39.54055 -3.63975, 39.54312 -3...\n",
       "3   2.0  1.0  MULTIPOLYGON (((44.45677 2.13468, 44.44286 2.1...\n",
       "4   3.0  0.0  MULTIPOLYGON (((36.80593 -1.59263, 36.80575 -1...\n",
       "5   3.0  1.0  MULTIPOLYGON (((31.37783 6.50423, 31.47383 6.3...\n",
       "6   4.0  0.0  MULTIPOLYGON (((30.12183 6.35244, 30.15537 6.2...\n",
       "7  88.0  0.0  MULTIPOLYGON (((29.67210 -0.88200, 29.67230 -0...\n",
       "8  99.0  0.0  MULTIPOLYGON (((46.98970 8.00000, 47.01239 8.0..."
      ]
     },
     "execution_count": 7,
     "metadata": {},
     "output_type": "execute_result"
    }
   ],
   "source": [
    "minidf = gpd.read_file(\"./data/ALL_HFIC/East Africa/EA_201802_CS.shp\")\n",
    "minidf = minidf.to_crs(epsg=4326)\n",
    "minidf.head(20)"
   ]
  },
  {
   "cell_type": "code",
   "execution_count": 8,
   "metadata": {},
   "outputs": [
    {
     "data": {
      "text/html": [
       "<div>\n",
       "<style scoped>\n",
       "    .dataframe tbody tr th:only-of-type {\n",
       "        vertical-align: middle;\n",
       "    }\n",
       "\n",
       "    .dataframe tbody tr th {\n",
       "        vertical-align: top;\n",
       "    }\n",
       "\n",
       "    .dataframe thead th {\n",
       "        text-align: right;\n",
       "    }\n",
       "</style>\n",
       "<table border=\"1\" class=\"dataframe\">\n",
       "  <thead>\n",
       "    <tr style=\"text-align: right;\">\n",
       "      <th></th>\n",
       "      <th>cov_start</th>\n",
       "      <th>cov_end</th>\n",
       "      <th>report_mon</th>\n",
       "      <th>country</th>\n",
       "      <th>unit_name</th>\n",
       "      <th>ADMIN0</th>\n",
       "      <th>ADMIN1</th>\n",
       "      <th>ADMIN2</th>\n",
       "      <th>ADMIN3</th>\n",
       "      <th>LZCODE</th>\n",
       "      <th>LZNAME</th>\n",
       "      <th>CS</th>\n",
       "      <th>HA0</th>\n",
       "      <th>geometry</th>\n",
       "    </tr>\n",
       "  </thead>\n",
       "  <tbody>\n",
       "    <tr>\n",
       "      <th>0</th>\n",
       "      <td>10-2021</td>\n",
       "      <td>10-2021</td>\n",
       "      <td>10-2021</td>\n",
       "      <td>BI</td>\n",
       "      <td>Buragane, Makamba, Burundi</td>\n",
       "      <td>Burundi</td>\n",
       "      <td>Makamba</td>\n",
       "      <td>None</td>\n",
       "      <td>None</td>\n",
       "      <td>BI01</td>\n",
       "      <td>Buragane</td>\n",
       "      <td>1</td>\n",
       "      <td>0</td>\n",
       "      <td>POLYGON ((29.79122 -4.01030, 29.79211 -4.01100...</td>\n",
       "    </tr>\n",
       "    <tr>\n",
       "      <th>1</th>\n",
       "      <td>10-2021</td>\n",
       "      <td>10-2021</td>\n",
       "      <td>10-2021</td>\n",
       "      <td>BI</td>\n",
       "      <td>Buragane, Rutana, Burundi</td>\n",
       "      <td>Burundi</td>\n",
       "      <td>Rutana</td>\n",
       "      <td>None</td>\n",
       "      <td>None</td>\n",
       "      <td>BI01</td>\n",
       "      <td>Buragane</td>\n",
       "      <td>1</td>\n",
       "      <td>0</td>\n",
       "      <td>POLYGON ((29.97427 -3.97512, 29.97411 -3.97570...</td>\n",
       "    </tr>\n",
       "    <tr>\n",
       "      <th>2</th>\n",
       "      <td>10-2021</td>\n",
       "      <td>10-2021</td>\n",
       "      <td>10-2021</td>\n",
       "      <td>BI</td>\n",
       "      <td>Congo Ridge Millet, Bubanza, Burundi</td>\n",
       "      <td>Burundi</td>\n",
       "      <td>Bubanza</td>\n",
       "      <td>None</td>\n",
       "      <td>None</td>\n",
       "      <td>BI02</td>\n",
       "      <td>Congo Ridge Millet</td>\n",
       "      <td>1</td>\n",
       "      <td>0</td>\n",
       "      <td>POLYGON ((29.39921 -2.96037, 29.39955 -2.96100...</td>\n",
       "    </tr>\n",
       "    <tr>\n",
       "      <th>3</th>\n",
       "      <td>10-2021</td>\n",
       "      <td>10-2021</td>\n",
       "      <td>10-2021</td>\n",
       "      <td>BI</td>\n",
       "      <td>Congo Ridge Millet, Bujumbura Rural, Burundi</td>\n",
       "      <td>Burundi</td>\n",
       "      <td>Bujumbura Rural</td>\n",
       "      <td>None</td>\n",
       "      <td>None</td>\n",
       "      <td>BI02</td>\n",
       "      <td>Congo Ridge Millet</td>\n",
       "      <td>1</td>\n",
       "      <td>0</td>\n",
       "      <td>POLYGON ((29.50249 -3.26355, 29.50681 -3.26968...</td>\n",
       "    </tr>\n",
       "    <tr>\n",
       "      <th>4</th>\n",
       "      <td>10-2021</td>\n",
       "      <td>10-2021</td>\n",
       "      <td>10-2021</td>\n",
       "      <td>BI</td>\n",
       "      <td>Congo Ridge Millet, Bururi, Burundi</td>\n",
       "      <td>Burundi</td>\n",
       "      <td>Bururi</td>\n",
       "      <td>None</td>\n",
       "      <td>None</td>\n",
       "      <td>BI02</td>\n",
       "      <td>Congo Ridge Millet</td>\n",
       "      <td>1</td>\n",
       "      <td>0</td>\n",
       "      <td>POLYGON ((29.64906 -4.10597, 29.64796 -4.10726...</td>\n",
       "    </tr>\n",
       "    <tr>\n",
       "      <th>...</th>\n",
       "      <td>...</td>\n",
       "      <td>...</td>\n",
       "      <td>...</td>\n",
       "      <td>...</td>\n",
       "      <td>...</td>\n",
       "      <td>...</td>\n",
       "      <td>...</td>\n",
       "      <td>...</td>\n",
       "      <td>...</td>\n",
       "      <td>...</td>\n",
       "      <td>...</td>\n",
       "      <td>...</td>\n",
       "      <td>...</td>\n",
       "      <td>...</td>\n",
       "    </tr>\n",
       "    <tr>\n",
       "      <th>2599</th>\n",
       "      <td>10-2021</td>\n",
       "      <td>10-2021</td>\n",
       "      <td>10-2021</td>\n",
       "      <td>UG</td>\n",
       "      <td>West Nile Tobacco Cassava Sorghum Zone, Arua, ...</td>\n",
       "      <td>Uganda</td>\n",
       "      <td>Northern</td>\n",
       "      <td>Arua</td>\n",
       "      <td>None</td>\n",
       "      <td>UG15</td>\n",
       "      <td>None</td>\n",
       "      <td>2</td>\n",
       "      <td>0</td>\n",
       "      <td>MULTIPOLYGON (((31.20456 3.33572, 31.20450 3.3...</td>\n",
       "    </tr>\n",
       "    <tr>\n",
       "      <th>2600</th>\n",
       "      <td>10-2021</td>\n",
       "      <td>10-2021</td>\n",
       "      <td>10-2021</td>\n",
       "      <td>UG</td>\n",
       "      <td>West Nile Tobacco Cassava Sorghum Zone, Koboko...</td>\n",
       "      <td>Uganda</td>\n",
       "      <td>Northern</td>\n",
       "      <td>Koboko</td>\n",
       "      <td>None</td>\n",
       "      <td>UG15</td>\n",
       "      <td>None</td>\n",
       "      <td>2</td>\n",
       "      <td>0</td>\n",
       "      <td>POLYGON ((31.10081 3.74161, 31.10047 3.73584, ...</td>\n",
       "    </tr>\n",
       "    <tr>\n",
       "      <th>2601</th>\n",
       "      <td>10-2021</td>\n",
       "      <td>10-2021</td>\n",
       "      <td>10-2021</td>\n",
       "      <td>UG</td>\n",
       "      <td>West Nile Tobacco Cassava Sorghum Zone, Madi O...</td>\n",
       "      <td>Uganda</td>\n",
       "      <td>Northern</td>\n",
       "      <td>Madi Okollo</td>\n",
       "      <td>None</td>\n",
       "      <td>UG15</td>\n",
       "      <td>None</td>\n",
       "      <td>2</td>\n",
       "      <td>0</td>\n",
       "      <td>MULTIPOLYGON (((31.07543 2.82913, 31.07725 2.8...</td>\n",
       "    </tr>\n",
       "    <tr>\n",
       "      <th>2602</th>\n",
       "      <td>10-2021</td>\n",
       "      <td>10-2021</td>\n",
       "      <td>10-2021</td>\n",
       "      <td>UG</td>\n",
       "      <td>West Nile Tobacco Cassava Sorghum Zone, Marach...</td>\n",
       "      <td>Uganda</td>\n",
       "      <td>Northern</td>\n",
       "      <td>Maracha</td>\n",
       "      <td>None</td>\n",
       "      <td>UG15</td>\n",
       "      <td>None</td>\n",
       "      <td>2</td>\n",
       "      <td>0</td>\n",
       "      <td>POLYGON ((31.04593 3.32229, 31.04595 3.32224, ...</td>\n",
       "    </tr>\n",
       "    <tr>\n",
       "      <th>2603</th>\n",
       "      <td>10-2021</td>\n",
       "      <td>10-2021</td>\n",
       "      <td>10-2021</td>\n",
       "      <td>UG</td>\n",
       "      <td>West Nile Tobacco Cassava Sorghum Zone, Yumbe,...</td>\n",
       "      <td>Uganda</td>\n",
       "      <td>Northern</td>\n",
       "      <td>Yumbe</td>\n",
       "      <td>None</td>\n",
       "      <td>UG15</td>\n",
       "      <td>None</td>\n",
       "      <td>2</td>\n",
       "      <td>0</td>\n",
       "      <td>POLYGON ((31.29065 3.78949, 31.29040 3.78480, ...</td>\n",
       "    </tr>\n",
       "  </tbody>\n",
       "</table>\n",
       "<p>2604 rows × 14 columns</p>\n",
       "</div>"
      ],
      "text/plain": [
       "     cov_start  cov_end report_mon country  \\\n",
       "0      10-2021  10-2021    10-2021      BI   \n",
       "1      10-2021  10-2021    10-2021      BI   \n",
       "2      10-2021  10-2021    10-2021      BI   \n",
       "3      10-2021  10-2021    10-2021      BI   \n",
       "4      10-2021  10-2021    10-2021      BI   \n",
       "...        ...      ...        ...     ...   \n",
       "2599   10-2021  10-2021    10-2021      UG   \n",
       "2600   10-2021  10-2021    10-2021      UG   \n",
       "2601   10-2021  10-2021    10-2021      UG   \n",
       "2602   10-2021  10-2021    10-2021      UG   \n",
       "2603   10-2021  10-2021    10-2021      UG   \n",
       "\n",
       "                                              unit_name   ADMIN0  \\\n",
       "0                            Buragane, Makamba, Burundi  Burundi   \n",
       "1                             Buragane, Rutana, Burundi  Burundi   \n",
       "2                  Congo Ridge Millet, Bubanza, Burundi  Burundi   \n",
       "3          Congo Ridge Millet, Bujumbura Rural, Burundi  Burundi   \n",
       "4                   Congo Ridge Millet, Bururi, Burundi  Burundi   \n",
       "...                                                 ...      ...   \n",
       "2599  West Nile Tobacco Cassava Sorghum Zone, Arua, ...   Uganda   \n",
       "2600  West Nile Tobacco Cassava Sorghum Zone, Koboko...   Uganda   \n",
       "2601  West Nile Tobacco Cassava Sorghum Zone, Madi O...   Uganda   \n",
       "2602  West Nile Tobacco Cassava Sorghum Zone, Marach...   Uganda   \n",
       "2603  West Nile Tobacco Cassava Sorghum Zone, Yumbe,...   Uganda   \n",
       "\n",
       "               ADMIN1       ADMIN2 ADMIN3 LZCODE              LZNAME  CS  HA0  \\\n",
       "0             Makamba         None   None   BI01            Buragane   1    0   \n",
       "1              Rutana         None   None   BI01            Buragane   1    0   \n",
       "2             Bubanza         None   None   BI02  Congo Ridge Millet   1    0   \n",
       "3     Bujumbura Rural         None   None   BI02  Congo Ridge Millet   1    0   \n",
       "4              Bururi         None   None   BI02  Congo Ridge Millet   1    0   \n",
       "...               ...          ...    ...    ...                 ...  ..  ...   \n",
       "2599         Northern         Arua   None   UG15                None   2    0   \n",
       "2600         Northern       Koboko   None   UG15                None   2    0   \n",
       "2601         Northern  Madi Okollo   None   UG15                None   2    0   \n",
       "2602         Northern      Maracha   None   UG15                None   2    0   \n",
       "2603         Northern        Yumbe   None   UG15                None   2    0   \n",
       "\n",
       "                                               geometry  \n",
       "0     POLYGON ((29.79122 -4.01030, 29.79211 -4.01100...  \n",
       "1     POLYGON ((29.97427 -3.97512, 29.97411 -3.97570...  \n",
       "2     POLYGON ((29.39921 -2.96037, 29.39955 -2.96100...  \n",
       "3     POLYGON ((29.50249 -3.26355, 29.50681 -3.26968...  \n",
       "4     POLYGON ((29.64906 -4.10597, 29.64796 -4.10726...  \n",
       "...                                                 ...  \n",
       "2599  MULTIPOLYGON (((31.20456 3.33572, 31.20450 3.3...  \n",
       "2600  POLYGON ((31.10081 3.74161, 31.10047 3.73584, ...  \n",
       "2601  MULTIPOLYGON (((31.07543 2.82913, 31.07725 2.8...  \n",
       "2602  POLYGON ((31.04593 3.32229, 31.04595 3.32224, ...  \n",
       "2603  POLYGON ((31.29065 3.78949, 31.29040 3.78480, ...  \n",
       "\n",
       "[2604 rows x 14 columns]"
      ]
     },
     "execution_count": 8,
     "metadata": {},
     "output_type": "execute_result"
    }
   ],
   "source": [
    "largedf = gpd.read_file(\"./data/ALL_HFIC/East Africa/EA_202110_CS.shp\")\n",
    "largedf = largedf.to_crs(epsg=4326)\n",
    "largedf"
   ]
  },
  {
   "cell_type": "code",
   "execution_count": 5,
   "metadata": {},
   "outputs": [],
   "source": [
    "# goes through each folder and creates a dictionary with file name and column names\n",
    "# there is also a list created with just the file names for use later\n",
    "# It adds each of the files with more metadata to the large_files list\n",
    "\n",
    "large_files = []\n",
    "\n",
    "# Central America files\n",
    "cam_dict = {}\n",
    "cam_files = os.listdir(\"./data/ALL_HFIC/Central America and the Caribbean\")\n",
    "for file in cam_files:\n",
    "    if file.endswith(\".shp\"):\n",
    "        tempgdf = gpd.read_file(\"./data/ALL_HFIC/Central America and the Caribbean/\" + file)\n",
    "        cam_dict[file] = tempgdf.columns\n",
    "        if \"ADMIN1\" in tempgdf.columns:\n",
    "            large_files.append(file)\n",
    "\n",
    "# Central Asia files\n",
    "cas_dict = {}\n",
    "cas_files = os.listdir(\"./data/ALL_HFIC/Central Asia\")\n",
    "for file in cas_files:\n",
    "    if file.endswith(\".shp\"):\n",
    "        tempgdf = gpd.read_file(\"./data/ALL_HFIC/Central Asia/\" + file)\n",
    "        cas_dict[file] = tempgdf.columns\n",
    "        if \"ADMIN1\" in tempgdf.columns:\n",
    "            large_files.append(file)\n",
    "\n",
    "# East Africa files\n",
    "ea_dict = {}\n",
    "ea_files = os.listdir(\"./data/ALL_HFIC/East Africa\")\n",
    "for file in ea_files:\n",
    "    if file.endswith(\".shp\"):\n",
    "        tempgdf = gpd.read_file(\"./data/ALL_HFIC/East Africa/\" + file)\n",
    "        ea_dict[file] = tempgdf.columns\n",
    "        if \"ADMIN1\" in tempgdf.columns:\n",
    "            large_files.append(file)\n",
    "\n",
    "# West Africa files\n",
    "wa_dict = {}\n",
    "wa_files = os.listdir(\"./data/ALL_HFIC/West Africa\")\n",
    "for file in wa_files:\n",
    "    if file.endswith(\".shp\"):\n",
    "        tempgdf = gpd.read_file(\"./data/ALL_HFIC/West Africa/\" + file)\n",
    "        wa_dict[file] = tempgdf.columns\n",
    "        if \"ADMIN1\" in tempgdf.columns:\n",
    "            large_files.append(file)\n",
    "\n",
    "# South Africa files\n",
    "sa_dict = {}\n",
    "sa_files = os.listdir(\"./data/ALL_HFIC/Southern Africa\")\n",
    "for file in sa_files:\n",
    "    if file.endswith(\".shp\"):\n",
    "        tempgdf = gpd.read_file(\"./data/ALL_HFIC/Southern Africa/\" + file)\n",
    "        sa_dict[file] = tempgdf.columns\n",
    "        if \"ADMIN1\" in tempgdf.columns:\n",
    "            large_files.append(file)\n"
   ]
  },
  {
   "cell_type": "code",
   "execution_count": 6,
   "metadata": {},
   "outputs": [
    {
     "data": {
      "text/plain": [
       "['LAC_201107_CS.shp',\n",
       " 'LAC_200910_CS.shp',\n",
       " 'LAC_201204_CS.shp',\n",
       " 'LAC_201304_CS.shp',\n",
       " 'LAC_201410_CS.shp',\n",
       " 'CAaC_202110_CS.shp',\n",
       " 'EA_202110_CS.shp',\n",
       " 'WA_202110_CS.shp',\n",
       " 'SA_202110_CS.shp']"
      ]
     },
     "execution_count": 6,
     "metadata": {},
     "output_type": "execute_result"
    }
   ],
   "source": [
    "large_files"
   ]
  },
  {
   "cell_type": "markdown",
   "metadata": {},
   "source": [
    "At this point we have dictionaries of files in each part of the world. There are files with more metadata for every region besides central asia.\n",
    "There is one weird dataset in central asia, CA_201201_CS.shp, but it just has one extra column `CS201201_P` which is identical to the `CS` column so it shouldn't cause any issues."
   ]
  },
  {
   "cell_type": "code",
   "execution_count": 14,
   "metadata": {},
   "outputs": [
    {
     "data": {
      "text/html": [
       "<div>\n",
       "<style scoped>\n",
       "    .dataframe tbody tr th:only-of-type {\n",
       "        vertical-align: middle;\n",
       "    }\n",
       "\n",
       "    .dataframe tbody tr th {\n",
       "        vertical-align: top;\n",
       "    }\n",
       "\n",
       "    .dataframe thead th {\n",
       "        text-align: right;\n",
       "    }\n",
       "</style>\n",
       "<table border=\"1\" class=\"dataframe\">\n",
       "  <thead>\n",
       "    <tr style=\"text-align: right;\">\n",
       "      <th></th>\n",
       "      <th>OBJECTID</th>\n",
       "      <th>FNID</th>\n",
       "      <th>EFF_YEAR</th>\n",
       "      <th>COUNTRY</th>\n",
       "      <th>LZNUM</th>\n",
       "      <th>LZCODE</th>\n",
       "      <th>LZNAMEEN</th>\n",
       "      <th>LZNAMEFR</th>\n",
       "      <th>LZNAMESP</th>\n",
       "      <th>LZNAMEPT</th>\n",
       "      <th>CLASS</th>\n",
       "      <th>LZSZCODE</th>\n",
       "      <th>LZTYPE</th>\n",
       "      <th>MAINCROPS</th>\n",
       "      <th>MAINLSTOCK</th>\n",
       "      <th>geometry</th>\n",
       "    </tr>\n",
       "  </thead>\n",
       "  <tbody>\n",
       "    <tr>\n",
       "      <th>0</th>\n",
       "      <td>30</td>\n",
       "      <td>AO2013L102</td>\n",
       "      <td>2013</td>\n",
       "      <td>AO</td>\n",
       "      <td>2</td>\n",
       "      <td>AO02</td>\n",
       "      <td>Transitional banana and pineapple farming</td>\n",
       "      <td>None</td>\n",
       "      <td>None</td>\n",
       "      <td>Transicional do cultivo da banana e ananás</td>\n",
       "      <td>AS09</td>\n",
       "      <td>None</td>\n",
       "      <td>None</td>\n",
       "      <td>None</td>\n",
       "      <td>None</td>\n",
       "      <td>POLYGON ((14.32935 -10.30132, 14.35352 -10.313...</td>\n",
       "    </tr>\n",
       "    <tr>\n",
       "      <th>1</th>\n",
       "      <td>31</td>\n",
       "      <td>AO2013L104</td>\n",
       "      <td>2013</td>\n",
       "      <td>AO</td>\n",
       "      <td>4</td>\n",
       "      <td>AO04</td>\n",
       "      <td>Sub humid livestock and maize</td>\n",
       "      <td>None</td>\n",
       "      <td>None</td>\n",
       "      <td>Sub húmida de pastorícia e milho</td>\n",
       "      <td>PS03</td>\n",
       "      <td>None</td>\n",
       "      <td>None</td>\n",
       "      <td>None</td>\n",
       "      <td>None</td>\n",
       "      <td>POLYGON ((17.89424 -13.67606, 17.90491 -13.695...</td>\n",
       "    </tr>\n",
       "    <tr>\n",
       "      <th>2</th>\n",
       "      <td>32</td>\n",
       "      <td>AO2013L105</td>\n",
       "      <td>2013</td>\n",
       "      <td>AO</td>\n",
       "      <td>5</td>\n",
       "      <td>AO05</td>\n",
       "      <td>Mid-eastern cassava and savannah forest</td>\n",
       "      <td>None</td>\n",
       "      <td>None</td>\n",
       "      <td>Centro-este de mandioca e floresta de savana</td>\n",
       "      <td>AG04</td>\n",
       "      <td>None</td>\n",
       "      <td>None</td>\n",
       "      <td>None</td>\n",
       "      <td>None</td>\n",
       "      <td>POLYGON ((17.92018 -11.52576, 17.93213 -11.527...</td>\n",
       "    </tr>\n",
       "    <tr>\n",
       "      <th>3</th>\n",
       "      <td>33</td>\n",
       "      <td>AO2013L108</td>\n",
       "      <td>2013</td>\n",
       "      <td>AO</td>\n",
       "      <td>8</td>\n",
       "      <td>AO08</td>\n",
       "      <td>Transitional lowland maize, cassava, and beans</td>\n",
       "      <td>None</td>\n",
       "      <td>None</td>\n",
       "      <td>Baixa transicional de milho, mandioca e feijões</td>\n",
       "      <td>AS05</td>\n",
       "      <td>None</td>\n",
       "      <td>None</td>\n",
       "      <td>None</td>\n",
       "      <td>None</td>\n",
       "      <td>POLYGON ((13.83407 -7.65854, 13.83546 -7.68132...</td>\n",
       "    </tr>\n",
       "    <tr>\n",
       "      <th>4</th>\n",
       "      <td>34</td>\n",
       "      <td>AO2013L110</td>\n",
       "      <td>2013</td>\n",
       "      <td>AO</td>\n",
       "      <td>10</td>\n",
       "      <td>AO10</td>\n",
       "      <td>Savannah forest and market-oriented cassava</td>\n",
       "      <td>None</td>\n",
       "      <td>None</td>\n",
       "      <td>Floresta de savana e mandioca orientada ao mer...</td>\n",
       "      <td>AN08</td>\n",
       "      <td>None</td>\n",
       "      <td>None</td>\n",
       "      <td>None</td>\n",
       "      <td>None</td>\n",
       "      <td>POLYGON ((17.11363 -7.42542, 17.12791 -7.42627...</td>\n",
       "    </tr>\n",
       "    <tr>\n",
       "      <th>...</th>\n",
       "      <td>...</td>\n",
       "      <td>...</td>\n",
       "      <td>...</td>\n",
       "      <td>...</td>\n",
       "      <td>...</td>\n",
       "      <td>...</td>\n",
       "      <td>...</td>\n",
       "      <td>...</td>\n",
       "      <td>...</td>\n",
       "      <td>...</td>\n",
       "      <td>...</td>\n",
       "      <td>...</td>\n",
       "      <td>...</td>\n",
       "      <td>...</td>\n",
       "      <td>...</td>\n",
       "      <td>...</td>\n",
       "    </tr>\n",
       "    <tr>\n",
       "      <th>860</th>\n",
       "      <td>0</td>\n",
       "      <td>TD2021L104</td>\n",
       "      <td>2021</td>\n",
       "      <td>TD</td>\n",
       "      <td>4</td>\n",
       "      <td>TD04</td>\n",
       "      <td>Southeast Flood Retreat and Gum Arabic</td>\n",
       "      <td>Zone sud-est: cultures de décrue et gomme arab...</td>\n",
       "      <td>None</td>\n",
       "      <td>None</td>\n",
       "      <td>AN01</td>\n",
       "      <td>None</td>\n",
       "      <td>None</td>\n",
       "      <td>None</td>\n",
       "      <td>None</td>\n",
       "      <td>POLYGON ((22.47709 12.01926, 22.47845 12.01923...</td>\n",
       "    </tr>\n",
       "    <tr>\n",
       "      <th>861</th>\n",
       "      <td>0</td>\n",
       "      <td>TD2021L103</td>\n",
       "      <td>2021</td>\n",
       "      <td>TD</td>\n",
       "      <td>3</td>\n",
       "      <td>TD03</td>\n",
       "      <td>South-central Cereals</td>\n",
       "      <td>Zone sud-centrale céréaliculture</td>\n",
       "      <td>None</td>\n",
       "      <td>None</td>\n",
       "      <td>AN04</td>\n",
       "      <td>None</td>\n",
       "      <td>None</td>\n",
       "      <td>None</td>\n",
       "      <td>None</td>\n",
       "      <td>POLYGON ((19.40499 11.10400, 19.47900 11.04799...</td>\n",
       "    </tr>\n",
       "    <tr>\n",
       "      <th>862</th>\n",
       "      <td>0</td>\n",
       "      <td>TD2021L102</td>\n",
       "      <td>2021</td>\n",
       "      <td>TD</td>\n",
       "      <td>2</td>\n",
       "      <td>TD02</td>\n",
       "      <td>Southwest Rice</td>\n",
       "      <td>Zone sud-ouest de riz \\r</td>\n",
       "      <td>None</td>\n",
       "      <td>None</td>\n",
       "      <td>AS05</td>\n",
       "      <td>None</td>\n",
       "      <td>None</td>\n",
       "      <td>None</td>\n",
       "      <td>None</td>\n",
       "      <td>POLYGON ((15.39857 9.77331, 15.39858 9.77331, ...</td>\n",
       "    </tr>\n",
       "    <tr>\n",
       "      <th>863</th>\n",
       "      <td>0</td>\n",
       "      <td>TD2021L105</td>\n",
       "      <td>2021</td>\n",
       "      <td>TD</td>\n",
       "      <td>5</td>\n",
       "      <td>TD05</td>\n",
       "      <td>Central Agropastoral</td>\n",
       "      <td>Zone centrale agropastorale</td>\n",
       "      <td>None</td>\n",
       "      <td>None</td>\n",
       "      <td>PS03</td>\n",
       "      <td>None</td>\n",
       "      <td>None</td>\n",
       "      <td>None</td>\n",
       "      <td>None</td>\n",
       "      <td>POLYGON ((17.27100 13.66200, 17.23400 13.42700...</td>\n",
       "    </tr>\n",
       "    <tr>\n",
       "      <th>864</th>\n",
       "      <td>0</td>\n",
       "      <td>TD2021L107</td>\n",
       "      <td>2021</td>\n",
       "      <td>TD</td>\n",
       "      <td>7</td>\n",
       "      <td>TD07</td>\n",
       "      <td>Transhumance</td>\n",
       "      <td>Zone de transhumance</td>\n",
       "      <td>None</td>\n",
       "      <td>None</td>\n",
       "      <td>SH02</td>\n",
       "      <td>None</td>\n",
       "      <td>None</td>\n",
       "      <td>None</td>\n",
       "      <td>None</td>\n",
       "      <td>POLYGON ((16.41169 15.10599, 16.56397 15.01558...</td>\n",
       "    </tr>\n",
       "  </tbody>\n",
       "</table>\n",
       "<p>865 rows × 16 columns</p>\n",
       "</div>"
      ],
      "text/plain": [
       "     OBJECTID        FNID  EFF_YEAR COUNTRY  LZNUM LZCODE  \\\n",
       "0          30  AO2013L102      2013      AO      2   AO02   \n",
       "1          31  AO2013L104      2013      AO      4   AO04   \n",
       "2          32  AO2013L105      2013      AO      5   AO05   \n",
       "3          33  AO2013L108      2013      AO      8   AO08   \n",
       "4          34  AO2013L110      2013      AO     10   AO10   \n",
       "..        ...         ...       ...     ...    ...    ...   \n",
       "860         0  TD2021L104      2021      TD      4   TD04   \n",
       "861         0  TD2021L103      2021      TD      3   TD03   \n",
       "862         0  TD2021L102      2021      TD      2   TD02   \n",
       "863         0  TD2021L105      2021      TD      5   TD05   \n",
       "864         0  TD2021L107      2021      TD      7   TD07   \n",
       "\n",
       "                                           LZNAMEEN  \\\n",
       "0         Transitional banana and pineapple farming   \n",
       "1                     Sub humid livestock and maize   \n",
       "2           Mid-eastern cassava and savannah forest   \n",
       "3    Transitional lowland maize, cassava, and beans   \n",
       "4       Savannah forest and market-oriented cassava   \n",
       "..                                              ...   \n",
       "860          Southeast Flood Retreat and Gum Arabic   \n",
       "861                           South-central Cereals   \n",
       "862                                  Southwest Rice   \n",
       "863                            Central Agropastoral   \n",
       "864                                    Transhumance   \n",
       "\n",
       "                                              LZNAMEFR LZNAMESP  \\\n",
       "0                                                 None     None   \n",
       "1                                                 None     None   \n",
       "2                                                 None     None   \n",
       "3                                                 None     None   \n",
       "4                                                 None     None   \n",
       "..                                                 ...      ...   \n",
       "860  Zone sud-est: cultures de décrue et gomme arab...     None   \n",
       "861                   Zone sud-centrale céréaliculture     None   \n",
       "862                           Zone sud-ouest de riz \\r     None   \n",
       "863                        Zone centrale agropastorale     None   \n",
       "864                               Zone de transhumance     None   \n",
       "\n",
       "                                              LZNAMEPT CLASS LZSZCODE LZTYPE  \\\n",
       "0           Transicional do cultivo da banana e ananás  AS09     None   None   \n",
       "1                     Sub húmida de pastorícia e milho  PS03     None   None   \n",
       "2         Centro-este de mandioca e floresta de savana  AG04     None   None   \n",
       "3      Baixa transicional de milho, mandioca e feijões  AS05     None   None   \n",
       "4    Floresta de savana e mandioca orientada ao mer...  AN08     None   None   \n",
       "..                                                 ...   ...      ...    ...   \n",
       "860                                               None  AN01     None   None   \n",
       "861                                               None  AN04     None   None   \n",
       "862                                               None  AS05     None   None   \n",
       "863                                               None  PS03     None   None   \n",
       "864                                               None  SH02     None   None   \n",
       "\n",
       "    MAINCROPS MAINLSTOCK                                           geometry  \n",
       "0        None       None  POLYGON ((14.32935 -10.30132, 14.35352 -10.313...  \n",
       "1        None       None  POLYGON ((17.89424 -13.67606, 17.90491 -13.695...  \n",
       "2        None       None  POLYGON ((17.92018 -11.52576, 17.93213 -11.527...  \n",
       "3        None       None  POLYGON ((13.83407 -7.65854, 13.83546 -7.68132...  \n",
       "4        None       None  POLYGON ((17.11363 -7.42542, 17.12791 -7.42627...  \n",
       "..        ...        ...                                                ...  \n",
       "860      None       None  POLYGON ((22.47709 12.01926, 22.47845 12.01923...  \n",
       "861      None       None  POLYGON ((19.40499 11.10400, 19.47900 11.04799...  \n",
       "862      None       None  POLYGON ((15.39857 9.77331, 15.39858 9.77331, ...  \n",
       "863      None       None  POLYGON ((17.27100 13.66200, 17.23400 13.42700...  \n",
       "864      None       None  POLYGON ((16.41169 15.10599, 16.56397 15.01558...  \n",
       "\n",
       "[865 rows x 16 columns]"
      ]
     },
     "execution_count": 14,
     "metadata": {},
     "output_type": "execute_result"
    }
   ],
   "source": [
    "lhz_full = lhz\n",
    "lhz_full"
   ]
  },
  {
   "cell_type": "code",
   "execution_count": 17,
   "metadata": {},
   "outputs": [
    {
     "name": "stderr",
     "output_type": "stream",
     "text": [
      "/opt/homebrew/Caskroom/miniforge/base/envs/geo/lib/python3.10/site-packages/geopandas/geodataframe.py:2352: UserWarning:\n",
      "\n",
      "`keep_geom_type=True` in overlay resulted in 262 dropped geometries of different geometry types than df1 has. Set `keep_geom_type=False` to retain all geometries\n",
      "\n"
     ]
    },
    {
     "data": {
      "text/html": [
       "<div>\n",
       "<style scoped>\n",
       "    .dataframe tbody tr th:only-of-type {\n",
       "        vertical-align: middle;\n",
       "    }\n",
       "\n",
       "    .dataframe tbody tr th {\n",
       "        vertical-align: top;\n",
       "    }\n",
       "\n",
       "    .dataframe thead th {\n",
       "        text-align: right;\n",
       "    }\n",
       "</style>\n",
       "<table border=\"1\" class=\"dataframe\">\n",
       "  <thead>\n",
       "    <tr style=\"text-align: right;\">\n",
       "      <th></th>\n",
       "      <th>OBJECTID</th>\n",
       "      <th>FNID</th>\n",
       "      <th>EFF_YEAR</th>\n",
       "      <th>COUNTRY</th>\n",
       "      <th>LZNUM</th>\n",
       "      <th>LZCODE</th>\n",
       "      <th>LZNAMEEN</th>\n",
       "      <th>LZNAMEFR</th>\n",
       "      <th>LZNAMESP</th>\n",
       "      <th>LZNAMEPT</th>\n",
       "      <th>CLASS</th>\n",
       "      <th>LZSZCODE</th>\n",
       "      <th>LZTYPE</th>\n",
       "      <th>MAINCROPS</th>\n",
       "      <th>MAINLSTOCK</th>\n",
       "      <th>geometry</th>\n",
       "      <th>CS</th>\n",
       "    </tr>\n",
       "  </thead>\n",
       "  <tbody>\n",
       "    <tr>\n",
       "      <th>0</th>\n",
       "      <td>30</td>\n",
       "      <td>AO2013L102</td>\n",
       "      <td>2013</td>\n",
       "      <td>AO</td>\n",
       "      <td>2</td>\n",
       "      <td>AO02</td>\n",
       "      <td>Transitional banana and pineapple farming</td>\n",
       "      <td>None</td>\n",
       "      <td>None</td>\n",
       "      <td>Transicional do cultivo da banana e ananás</td>\n",
       "      <td>AS09</td>\n",
       "      <td>None</td>\n",
       "      <td>None</td>\n",
       "      <td>None</td>\n",
       "      <td>None</td>\n",
       "      <td>POLYGON ((14.32935 -10.30132, 14.35352 -10.313...</td>\n",
       "      <td>NaN</td>\n",
       "    </tr>\n",
       "    <tr>\n",
       "      <th>1</th>\n",
       "      <td>31</td>\n",
       "      <td>AO2013L104</td>\n",
       "      <td>2013</td>\n",
       "      <td>AO</td>\n",
       "      <td>4</td>\n",
       "      <td>AO04</td>\n",
       "      <td>Sub humid livestock and maize</td>\n",
       "      <td>None</td>\n",
       "      <td>None</td>\n",
       "      <td>Sub húmida de pastorícia e milho</td>\n",
       "      <td>PS03</td>\n",
       "      <td>None</td>\n",
       "      <td>None</td>\n",
       "      <td>None</td>\n",
       "      <td>None</td>\n",
       "      <td>POLYGON ((17.89424 -13.67606, 17.90491 -13.695...</td>\n",
       "      <td>NaN</td>\n",
       "    </tr>\n",
       "    <tr>\n",
       "      <th>2</th>\n",
       "      <td>32</td>\n",
       "      <td>AO2013L105</td>\n",
       "      <td>2013</td>\n",
       "      <td>AO</td>\n",
       "      <td>5</td>\n",
       "      <td>AO05</td>\n",
       "      <td>Mid-eastern cassava and savannah forest</td>\n",
       "      <td>None</td>\n",
       "      <td>None</td>\n",
       "      <td>Centro-este de mandioca e floresta de savana</td>\n",
       "      <td>AG04</td>\n",
       "      <td>None</td>\n",
       "      <td>None</td>\n",
       "      <td>None</td>\n",
       "      <td>None</td>\n",
       "      <td>POLYGON ((17.92018 -11.52576, 17.93213 -11.527...</td>\n",
       "      <td>NaN</td>\n",
       "    </tr>\n",
       "    <tr>\n",
       "      <th>3</th>\n",
       "      <td>33</td>\n",
       "      <td>AO2013L108</td>\n",
       "      <td>2013</td>\n",
       "      <td>AO</td>\n",
       "      <td>8</td>\n",
       "      <td>AO08</td>\n",
       "      <td>Transitional lowland maize, cassava, and beans</td>\n",
       "      <td>None</td>\n",
       "      <td>None</td>\n",
       "      <td>Baixa transicional de milho, mandioca e feijões</td>\n",
       "      <td>AS05</td>\n",
       "      <td>None</td>\n",
       "      <td>None</td>\n",
       "      <td>None</td>\n",
       "      <td>None</td>\n",
       "      <td>POLYGON ((13.83407 -7.65854, 13.83546 -7.68132...</td>\n",
       "      <td>NaN</td>\n",
       "    </tr>\n",
       "    <tr>\n",
       "      <th>4</th>\n",
       "      <td>34</td>\n",
       "      <td>AO2013L110</td>\n",
       "      <td>2013</td>\n",
       "      <td>AO</td>\n",
       "      <td>10</td>\n",
       "      <td>AO10</td>\n",
       "      <td>Savannah forest and market-oriented cassava</td>\n",
       "      <td>None</td>\n",
       "      <td>None</td>\n",
       "      <td>Floresta de savana e mandioca orientada ao mer...</td>\n",
       "      <td>AN08</td>\n",
       "      <td>None</td>\n",
       "      <td>None</td>\n",
       "      <td>None</td>\n",
       "      <td>None</td>\n",
       "      <td>POLYGON ((17.11363 -7.42542, 17.12791 -7.42627...</td>\n",
       "      <td>NaN</td>\n",
       "    </tr>\n",
       "    <tr>\n",
       "      <th>...</th>\n",
       "      <td>...</td>\n",
       "      <td>...</td>\n",
       "      <td>...</td>\n",
       "      <td>...</td>\n",
       "      <td>...</td>\n",
       "      <td>...</td>\n",
       "      <td>...</td>\n",
       "      <td>...</td>\n",
       "      <td>...</td>\n",
       "      <td>...</td>\n",
       "      <td>...</td>\n",
       "      <td>...</td>\n",
       "      <td>...</td>\n",
       "      <td>...</td>\n",
       "      <td>...</td>\n",
       "      <td>...</td>\n",
       "      <td>...</td>\n",
       "    </tr>\n",
       "    <tr>\n",
       "      <th>1303</th>\n",
       "      <td>0</td>\n",
       "      <td>TD2021L104</td>\n",
       "      <td>2021</td>\n",
       "      <td>TD</td>\n",
       "      <td>4</td>\n",
       "      <td>TD04</td>\n",
       "      <td>Southeast Flood Retreat and Gum Arabic</td>\n",
       "      <td>Zone sud-est: cultures de décrue et gomme arab...</td>\n",
       "      <td>None</td>\n",
       "      <td>None</td>\n",
       "      <td>AN01</td>\n",
       "      <td>None</td>\n",
       "      <td>None</td>\n",
       "      <td>None</td>\n",
       "      <td>None</td>\n",
       "      <td>POLYGON ((22.47709 12.01926, 22.47845 12.01923...</td>\n",
       "      <td>2.0</td>\n",
       "    </tr>\n",
       "    <tr>\n",
       "      <th>1304</th>\n",
       "      <td>0</td>\n",
       "      <td>TD2021L103</td>\n",
       "      <td>2021</td>\n",
       "      <td>TD</td>\n",
       "      <td>3</td>\n",
       "      <td>TD03</td>\n",
       "      <td>South-central Cereals</td>\n",
       "      <td>Zone sud-centrale céréaliculture</td>\n",
       "      <td>None</td>\n",
       "      <td>None</td>\n",
       "      <td>AN04</td>\n",
       "      <td>None</td>\n",
       "      <td>None</td>\n",
       "      <td>None</td>\n",
       "      <td>None</td>\n",
       "      <td>POLYGON ((19.40499 11.10400, 19.47900 11.04799...</td>\n",
       "      <td>NaN</td>\n",
       "    </tr>\n",
       "    <tr>\n",
       "      <th>1305</th>\n",
       "      <td>0</td>\n",
       "      <td>TD2021L102</td>\n",
       "      <td>2021</td>\n",
       "      <td>TD</td>\n",
       "      <td>2</td>\n",
       "      <td>TD02</td>\n",
       "      <td>Southwest Rice</td>\n",
       "      <td>Zone sud-ouest de riz \\r</td>\n",
       "      <td>None</td>\n",
       "      <td>None</td>\n",
       "      <td>AS05</td>\n",
       "      <td>None</td>\n",
       "      <td>None</td>\n",
       "      <td>None</td>\n",
       "      <td>None</td>\n",
       "      <td>POLYGON ((15.39857 9.77331, 15.39858 9.77331, ...</td>\n",
       "      <td>NaN</td>\n",
       "    </tr>\n",
       "    <tr>\n",
       "      <th>1306</th>\n",
       "      <td>0</td>\n",
       "      <td>TD2021L105</td>\n",
       "      <td>2021</td>\n",
       "      <td>TD</td>\n",
       "      <td>5</td>\n",
       "      <td>TD05</td>\n",
       "      <td>Central Agropastoral</td>\n",
       "      <td>Zone centrale agropastorale</td>\n",
       "      <td>None</td>\n",
       "      <td>None</td>\n",
       "      <td>PS03</td>\n",
       "      <td>None</td>\n",
       "      <td>None</td>\n",
       "      <td>None</td>\n",
       "      <td>None</td>\n",
       "      <td>POLYGON ((17.27100 13.66200, 17.23400 13.42700...</td>\n",
       "      <td>NaN</td>\n",
       "    </tr>\n",
       "    <tr>\n",
       "      <th>1307</th>\n",
       "      <td>0</td>\n",
       "      <td>TD2021L107</td>\n",
       "      <td>2021</td>\n",
       "      <td>TD</td>\n",
       "      <td>7</td>\n",
       "      <td>TD07</td>\n",
       "      <td>Transhumance</td>\n",
       "      <td>Zone de transhumance</td>\n",
       "      <td>None</td>\n",
       "      <td>None</td>\n",
       "      <td>SH02</td>\n",
       "      <td>None</td>\n",
       "      <td>None</td>\n",
       "      <td>None</td>\n",
       "      <td>None</td>\n",
       "      <td>POLYGON ((16.41169 15.10599, 16.56397 15.01558...</td>\n",
       "      <td>2.0</td>\n",
       "    </tr>\n",
       "  </tbody>\n",
       "</table>\n",
       "<p>1308 rows × 17 columns</p>\n",
       "</div>"
      ],
      "text/plain": [
       "      OBJECTID        FNID  EFF_YEAR COUNTRY  LZNUM LZCODE  \\\n",
       "0           30  AO2013L102      2013      AO      2   AO02   \n",
       "1           31  AO2013L104      2013      AO      4   AO04   \n",
       "2           32  AO2013L105      2013      AO      5   AO05   \n",
       "3           33  AO2013L108      2013      AO      8   AO08   \n",
       "4           34  AO2013L110      2013      AO     10   AO10   \n",
       "...        ...         ...       ...     ...    ...    ...   \n",
       "1303         0  TD2021L104      2021      TD      4   TD04   \n",
       "1304         0  TD2021L103      2021      TD      3   TD03   \n",
       "1305         0  TD2021L102      2021      TD      2   TD02   \n",
       "1306         0  TD2021L105      2021      TD      5   TD05   \n",
       "1307         0  TD2021L107      2021      TD      7   TD07   \n",
       "\n",
       "                                            LZNAMEEN  \\\n",
       "0          Transitional banana and pineapple farming   \n",
       "1                      Sub humid livestock and maize   \n",
       "2            Mid-eastern cassava and savannah forest   \n",
       "3     Transitional lowland maize, cassava, and beans   \n",
       "4        Savannah forest and market-oriented cassava   \n",
       "...                                              ...   \n",
       "1303          Southeast Flood Retreat and Gum Arabic   \n",
       "1304                           South-central Cereals   \n",
       "1305                                  Southwest Rice   \n",
       "1306                            Central Agropastoral   \n",
       "1307                                    Transhumance   \n",
       "\n",
       "                                               LZNAMEFR LZNAMESP  \\\n",
       "0                                                  None     None   \n",
       "1                                                  None     None   \n",
       "2                                                  None     None   \n",
       "3                                                  None     None   \n",
       "4                                                  None     None   \n",
       "...                                                 ...      ...   \n",
       "1303  Zone sud-est: cultures de décrue et gomme arab...     None   \n",
       "1304                   Zone sud-centrale céréaliculture     None   \n",
       "1305                           Zone sud-ouest de riz \\r     None   \n",
       "1306                        Zone centrale agropastorale     None   \n",
       "1307                               Zone de transhumance     None   \n",
       "\n",
       "                                               LZNAMEPT CLASS LZSZCODE LZTYPE  \\\n",
       "0            Transicional do cultivo da banana e ananás  AS09     None   None   \n",
       "1                      Sub húmida de pastorícia e milho  PS03     None   None   \n",
       "2          Centro-este de mandioca e floresta de savana  AG04     None   None   \n",
       "3       Baixa transicional de milho, mandioca e feijões  AS05     None   None   \n",
       "4     Floresta de savana e mandioca orientada ao mer...  AN08     None   None   \n",
       "...                                                 ...   ...      ...    ...   \n",
       "1303                                               None  AN01     None   None   \n",
       "1304                                               None  AN04     None   None   \n",
       "1305                                               None  AS05     None   None   \n",
       "1306                                               None  PS03     None   None   \n",
       "1307                                               None  SH02     None   None   \n",
       "\n",
       "     MAINCROPS MAINLSTOCK                                           geometry  \\\n",
       "0         None       None  POLYGON ((14.32935 -10.30132, 14.35352 -10.313...   \n",
       "1         None       None  POLYGON ((17.89424 -13.67606, 17.90491 -13.695...   \n",
       "2         None       None  POLYGON ((17.92018 -11.52576, 17.93213 -11.527...   \n",
       "3         None       None  POLYGON ((13.83407 -7.65854, 13.83546 -7.68132...   \n",
       "4         None       None  POLYGON ((17.11363 -7.42542, 17.12791 -7.42627...   \n",
       "...        ...        ...                                                ...   \n",
       "1303      None       None  POLYGON ((22.47709 12.01926, 22.47845 12.01923...   \n",
       "1304      None       None  POLYGON ((19.40499 11.10400, 19.47900 11.04799...   \n",
       "1305      None       None  POLYGON ((15.39857 9.77331, 15.39858 9.77331, ...   \n",
       "1306      None       None  POLYGON ((17.27100 13.66200, 17.23400 13.42700...   \n",
       "1307      None       None  POLYGON ((16.41169 15.10599, 16.56397 15.01558...   \n",
       "\n",
       "       CS  \n",
       "0     NaN  \n",
       "1     NaN  \n",
       "2     NaN  \n",
       "3     NaN  \n",
       "4     NaN  \n",
       "...   ...  \n",
       "1303  2.0  \n",
       "1304  NaN  \n",
       "1305  NaN  \n",
       "1306  NaN  \n",
       "1307  2.0  \n",
       "\n",
       "[1308 rows x 17 columns]"
      ]
     },
     "execution_count": 17,
     "metadata": {},
     "output_type": "execute_result"
    }
   ],
   "source": [
    "lhz_full = lhz\n",
    "# ea_files = os.listdir(\"./data/ALL_HFIC/East Africa\")\n",
    "ea_files = [\"EA_201802_CS.shp\"]\n",
    "for file in ea_files:\n",
    "    if file.endswith(\".shp\"):\n",
    "        if file not in large_files:\n",
    "            tempgdf = gpd.read_file(\"./data/ALL_HFIC/East Africa/\" + file)\n",
    "            tempgdf = tempgdf.to_crs(epsg=4326)\n",
    "            tempjoined = lhz.overlay(tempgdf, how='intersection')\n",
    "            # add CS column of tempjoined to lhz_full based on \"OBJECTID\" column\n",
    "            lhz_full = lhz_full.merge(tempjoined[[\"FNID\", \"CS\"]], on=\"FNID\", how=\"left\")            \n",
    "            # ea_dict[file] = tempgdf.columns\n",
    "            # if \"ADMIN1\" in tempgdf.columns:\n",
    "            #     large_files.append(file)\n",
    "lhz_full"
   ]
  },
  {
   "cell_type": "code",
   "execution_count": 18,
   "metadata": {},
   "outputs": [
    {
     "data": {
      "application/vnd.plotly.v1+json": {
       "config": {
        "plotlyServerURL": "https://plot.ly"
       },
       "data": [
        {
         "alignmentgroup": "True",
         "bingroup": "x",
         "hovertemplate": "FNID=%{x}<br>count=%{y}<extra></extra>",
         "legendgroup": "",
         "marker": {
          "color": "#636efa",
          "pattern": {
           "shape": ""
          }
         },
         "name": "",
         "offsetgroup": "",
         "orientation": "v",
         "showlegend": false,
         "type": "histogram",
         "x": [
          "AO2013L102",
          "AO2013L104",
          "AO2013L105",
          "AO2013L108",
          "AO2013L110",
          "AO2013L111",
          "AO2013L112",
          "AO2013L107",
          "AO2013L103",
          "AO2013L113",
          "AO2013L101",
          "AO2013L106",
          "AO2013L109",
          "BF2014L106",
          "BF2014L105",
          "BF2014L107",
          "BF2014L108",
          "BF2014L104",
          "BF2014L109",
          "BF2014L103",
          "BF2014L102",
          "BF2014L101",
          "BI2009L101",
          "BI2009L105",
          "BI2009L109",
          "BI2009L108",
          "BI2009L103",
          "BI2009L106",
          "BI2009L102",
          "BI2009L104",
          "BI2009L107",
          "CF2012L101",
          "CF2012L101",
          "CF2012L102",
          "CF2012L102",
          "CF2012L102",
          "CF2012L103",
          "CF2012L104",
          "CF2012L105",
          "CF2012L106",
          "CF2012L107",
          "CF2012L108",
          "CF2012L109",
          "CF2012L110",
          "CF2012L111",
          "ZW2011L101",
          "ZW2011L102",
          "ZW2011L103",
          "ZW2011L104",
          "ZW2011L105",
          "ZW2011L106",
          "ZW2011L107",
          "ZW2011L108",
          "ZW2011L109",
          "ZW2011L110",
          "ZW2011L111",
          "ZW2011L112",
          "ZW2011L113",
          "ZW2011L114",
          "ZW2011L115",
          "ZW2011L116",
          "ZW2011L117",
          "ZW2011L118",
          "ZW2011L119",
          "ZW2011L120",
          "ZW2011L121",
          "ZW2011L122",
          "ZW2011L123",
          "ZW2011L124",
          "ZW2011L100",
          "ZW2011L125",
          "ZW2011L126",
          "YE2011L101",
          "YE2011L101",
          "YE2011L102",
          "YE2011L102",
          "YE2011L102",
          "YE2011L103",
          "YE2011L103",
          "YE2011L103",
          "YE2011L104",
          "YE2011L104",
          "YE2011L104",
          "YE2011L105",
          "YE2011L105",
          "YE2011L106",
          "YE2011L106",
          "YE2011L107",
          "YE2011L107",
          "YE2011L107",
          "YE2011L107",
          "YE2011L108",
          "YE2011L108",
          "YE2011L108",
          "YE2011L109",
          "YE2011L109",
          "YE2011L110",
          "YE2011L110",
          "YE2011L111",
          "YE2011L111",
          "YE2011L112",
          "YE2011L112",
          "YE2011L113",
          "YE2011L113",
          "YE2011L114",
          "YE2011L114",
          "YE2011L115",
          "YE2011L115",
          "UG2014L139",
          "UG2014L139",
          "UG2014L140",
          "UG2014L140",
          "UG2014L128",
          "UG2014L128",
          "UG2014L127",
          "UG2014L127",
          "UG2014L137",
          "UG2014L137",
          "UG2014L129",
          "UG2014L129",
          "UG2014L112",
          "UG2014L113",
          "UG2014L113",
          "UG2014L114",
          "UG2014L114",
          "UG2014L120",
          "UG2014L120",
          "UG2014L120",
          "UG2014L121",
          "UG2014L121",
          "UG2014L122",
          "UG2014L122",
          "UG2014L130",
          "UG2014L131",
          "UG2014L132",
          "UG2014L125",
          "UG2014L133",
          "UG2014L134",
          "UG2014L126",
          "UG2014L126",
          "UG2014L136",
          "UG2014L124",
          "UG2014L124",
          "UG2014L123",
          "UG2014L141",
          "UG2014L141",
          "UG2014L111",
          "UG2014L110",
          "UG2014L110",
          "UG2014L110",
          "UG2014L138",
          "UG2014L138",
          "UG2014L135",
          "UG2014L135",
          "UG2014L105",
          "UG2014L105",
          "UG2014L105",
          "UG2014L105",
          "UG2014L101",
          "UG2014L103",
          "UG2014L103",
          "UG2014L104",
          "UG2014L104",
          "UG2014L102",
          "UG2014L102",
          "UG2014L102",
          "UG2014L142",
          "UG2014L142",
          "UG2014L142",
          "UG2014L142",
          "UG2014L106",
          "UG2014L106",
          "UG2014L106",
          "UG2014L106",
          "UG2014L107",
          "UG2014L107",
          "UG2014L107",
          "UG2014L107",
          "UG2014L108",
          "UG2014L109",
          "UG2014L109",
          "UG2014L115",
          "UG2014L115",
          "UG2014L116",
          "UG2014L116",
          "UG2014L117",
          "UG2014L117",
          "UG2014L118",
          "UG2014L118",
          "UG2014L119",
          "UG2014L119",
          "SO2015L101",
          "SO2015L101",
          "SO2015L101",
          "SO2015L102",
          "SO2015L102",
          "SO2015L102",
          "SO2015L104",
          "SO2015L104",
          "SO2015L106",
          "SO2015L106",
          "SO2015L106",
          "SO2015L106",
          "SO2015L107",
          "SO2015L107",
          "SO2015L107",
          "SO2015L107",
          "SO2015L108",
          "SO2015L108",
          "SO2015L108",
          "SO2015L108",
          "SO2015L108",
          "SO2015L109",
          "SO2015L109",
          "SO2015L109",
          "SO2015L109",
          "SO2015L110",
          "SO2015L110",
          "SO2015L110",
          "SO2015L110",
          "SO2015L111",
          "SO2015L111",
          "SO2015L111",
          "SO2015L111",
          "SO2015L111",
          "SO2015L111",
          "SO2015L111",
          "SO2015L112",
          "SO2015L112",
          "SO2015L112",
          "SO2015L112",
          "SO2015L112",
          "SO2015L112",
          "SO2015L113",
          "SO2015L113",
          "SO2015L113",
          "SO2015L113",
          "SO2015L113",
          "SO2015L113",
          "SO2015L113",
          "SO2015L114",
          "SO2015L114",
          "SO2015L114",
          "SO2015L115",
          "SO2015L115",
          "SO2015L115",
          "SO2015L115",
          "SO2015L116",
          "SO2015L116",
          "SO2015L116",
          "SO2015L116",
          "SO2015L117",
          "SO2015L117",
          "SO2015L117",
          "SO2015L118",
          "SO2015L118",
          "SO2015L118",
          "SO2015L119",
          "SO2015L119",
          "SO2015L105",
          "SO2015L105",
          "SO2015L105",
          "SO2015L105",
          "SO2015L105",
          "SO2015L105",
          "SO2015L103",
          "SO2015L103",
          "SL2016L100",
          "SL2016L101",
          "SL2016L102",
          "SL2016L106",
          "SL2016L107",
          "SL2016L108",
          "SL2016L109",
          "SL2016L104",
          "SL2016L103",
          "SL2016L110",
          "SL2016L105",
          "SD2014L112",
          "SD2014L112",
          "SD2014L112",
          "SD2014L112",
          "SD2014L115",
          "SD2014L115",
          "SD2014L115",
          "SD2014L115",
          "SD2014L117",
          "SD2014L117",
          "SD2014L117",
          "SD2014L104",
          "SD2014L104",
          "SD2014L114",
          "SD2014L101",
          "SD2014L101",
          "SD2014L113",
          "SD2014L113",
          "SD2014L113",
          "SD2014L113",
          "SD2014L118",
          "SD2014L118",
          "SD2014L118",
          "SD2014L111",
          "SD2014L111",
          "SD2014L111",
          "SD2014L111",
          "SD2014L111",
          "SD2014L111",
          "SD2014L100",
          "SD2014L100",
          "SD2014L100",
          "SD2014L105",
          "SD2014L105",
          "SD2014L105",
          "SD2014L106",
          "SD2014L106",
          "SD2014L106",
          "SD2014L106",
          "SD2014L107",
          "SD2014L107",
          "SD2014L107",
          "SD2014L116",
          "SD2014L116",
          "SD2014L116",
          "SD2014L116",
          "SD2014L116",
          "SD2014L116",
          "SD2014L116",
          "SD2014L116",
          "SD2014L116",
          "SD2014L116",
          "SD2014L116",
          "SD2014L116",
          "SD2014L102",
          "SD2014L102",
          "SD2014L102",
          "SD2014L102",
          "SD2014L102",
          "SD2014L102",
          "SD2014L103",
          "SD2014L103",
          "SD2014L103",
          "SD2014L108",
          "SD2014L108",
          "SD2014L109",
          "SD2014L109",
          "SD2014L110",
          "SD2014L110",
          "SD2014L110",
          "SD2014L110",
          "SD2014L110",
          "SD2014L110",
          "SD2014L119",
          "SD2014L119",
          "SD2014L119",
          "NI2010L101",
          "NI2010L102",
          "NI2010L103",
          "NI2010L104",
          "NI2010L105",
          "NI2010L106",
          "NI2010L107",
          "NI2010L108",
          "NI2010L109",
          "NI2010L110",
          "NI2010L111",
          "NI2010L112",
          "NI2010L113",
          "NI2010L114",
          "NI2010L115",
          "NI2010L125",
          "NI2010L116",
          "NI2010L100",
          "NE2011L113",
          "NE2011L112",
          "NE2011L101",
          "NE2011L114",
          "NE2011L102",
          "NE2011L106",
          "NE2011L108",
          "NE2011L109",
          "NE2011L100",
          "NE2011L103",
          "NE2011L104",
          "NE2011L110",
          "NE2011L105",
          "NE2011L107",
          "NE2011L111",
          "MZ2013L101",
          "MZ2013L102",
          "MZ2013L103",
          "MZ2013L104",
          "MZ2013L105",
          "MZ2013L106",
          "MZ2013L107",
          "MZ2013L108",
          "MZ2013L109",
          "MZ2013L110",
          "MZ2013L111",
          "MZ2013L112",
          "MZ2013L113",
          "MZ2013L114",
          "MZ2013L115",
          "MZ2013L116",
          "MZ2013L117",
          "MZ2013L118",
          "MZ2013L119",
          "MZ2013L120",
          "MZ2013L121",
          "MZ2013L122",
          "MZ2013L123",
          "MZ2013L124",
          "MZ2013L125",
          "MZ2013L126",
          "HN2014L109",
          "HN2014L108",
          "HN2014L100",
          "HN2014L110",
          "HN2014L101",
          "HN2014L102",
          "HN2014L103",
          "HN2014L104",
          "HN2014L105",
          "HN2014L107",
          "HN2014L106",
          "MW2015L101",
          "MW2015L102",
          "MW2015L103",
          "MW2015L104",
          "MW2015L105",
          "MW2015L106",
          "MW2015L107",
          "MW2015L108",
          "MW2015L109",
          "MW2015L110",
          "MW2015L111",
          "MW2015L112",
          "MW2015L113",
          "MW2015L114",
          "MW2015L115",
          "MW2015L116",
          "MW2015L117",
          "MW2015L118",
          "MW2015L119",
          "MW2015L120",
          "MR2013L101",
          "MR2013L102",
          "MR2013L103",
          "MR2013L104",
          "MR2013L105",
          "MR2013L106",
          "MR2013L107",
          "MR2013L108",
          "MR2013L109",
          "HT2015L103",
          "HT2015L104",
          "HT2015L105",
          "HT2015L106",
          "HT2015L101",
          "HT2015L107",
          "HT2015L109",
          "HT2015L102",
          "HT2015L108",
          "LR2017L101",
          "LR2017L102",
          "LR2017L103",
          "LR2017L107",
          "LR2017L108",
          "LR2017L109",
          "LR2017L199",
          "LR2017L198",
          "LR2017L110",
          "LR2017L104",
          "LR2017L106",
          "LR2017L105",
          "KE2011L119",
          "KE2011L119",
          "KE2011L106",
          "KE2011L106",
          "KE2011L103",
          "KE2011L103",
          "KE2011L116",
          "KE2011L116",
          "KE2011L116",
          "KE2011L102",
          "KE2011L102",
          "KE2011L121",
          "KE2011L121",
          "KE2011L114",
          "KE2011L114",
          "KE2011L117",
          "KE2011L117",
          "KE2011L105",
          "KE2011L105",
          "KE2011L105",
          "KE2011L120",
          "KE2011L120",
          "KE2011L120",
          "KE2011L122",
          "KE2011L115",
          "KE2011L115",
          "KE2011L115",
          "KE2011L109",
          "KE2011L109",
          "KE2011L109",
          "KE2011L108",
          "KE2011L108",
          "KE2011L108",
          "KE2011L110",
          "KE2011L110",
          "KE2011L110",
          "KE2011L110",
          "KE2011L107",
          "KE2011L107",
          "KE2011L107",
          "KE2011L104",
          "KE2011L104",
          "KE2011L104",
          "KE2011L123",
          "KE2011L124",
          "KE2011L124",
          "KE2011L124",
          "KE2011L112",
          "KE2011L112",
          "KE2011L112",
          "KE2011L113",
          "KE2011L113",
          "KE2011L111",
          "KE2011L111",
          "KE2011L111",
          "KE2011L101",
          "KE2011L101",
          "KE2011L101",
          "KE2011L101",
          "KE2011L101",
          "KE2011L118",
          "KE2011L118",
          "KE2011L118",
          "LS2011L103",
          "LS2011L104",
          "LS2011L101",
          "LS2011L105",
          "LS2011L102",
          "CD2016L128",
          "CD2016L127",
          "CD2016L109",
          "CD2016L113",
          "CD2016L118",
          "CD2016L117",
          "CD2016L126",
          "CD2016L132",
          "CD2016L101",
          "CD2016L120",
          "CD2016L121",
          "CD2016L133",
          "CD2016L124",
          "CD2016L107",
          "CD2016L125",
          "CD2016L104",
          "CD2016L122",
          "CD2016L106",
          "CD2016L130",
          "CD2016L110",
          "CD2016L114",
          "CD2016L114",
          "CD2016L114",
          "CD2016L116",
          "CD2016L108",
          "CD2016L102",
          "CD2016L103",
          "CD2016L123",
          "CD2016L105",
          "CD2016L111",
          "CD2016L111",
          "CD2016L115",
          "CD2016L112",
          "CD2016L112",
          "CD2016L119",
          "CD2016L134",
          "CD2016L129",
          "CD2016L131",
          "SS2018L101",
          "SS2018L101",
          "SS2018L101",
          "SS2018L101",
          "SS2018L102",
          "SS2018L102",
          "SS2018L102",
          "SS2018L102",
          "SS2018L104",
          "SS2018L104",
          "SS2018L104",
          "SS2018L104",
          "SS2018L105",
          "SS2018L105",
          "SS2018L105",
          "SS2018L105",
          "SS2018L106",
          "SS2018L106",
          "SS2018L106",
          "SS2018L106",
          "SS2018L107",
          "SS2018L107",
          "SS2018L107",
          "SS2018L107",
          "SS2018L107",
          "SS2018L107",
          "SS2018L108",
          "SS2018L108",
          "SS2018L108",
          "SS2018L109",
          "SS2018L109",
          "SS2018L109",
          "SS2018L110",
          "SS2018L110",
          "SS2018L110",
          "SS2018L110",
          "SS2018L110",
          "SS2018L111",
          "SS2018L111",
          "SS2018L111",
          "SS2018L111",
          "SS2018L111",
          "SS2018L111",
          "SS2018L112",
          "SS2018L112",
          "SS2018L112",
          "SS2018L112",
          "SS2018L103",
          "SS2018L103",
          "SS2018L103",
          "SS2018L103",
          "SS2018L103",
          "NG2018L133",
          "NG2018L131",
          "NG2018L130",
          "NG2018L129",
          "NG2018L128",
          "NG2018L127",
          "NG2018L126",
          "NG2018L125",
          "NG2018L124",
          "NG2018L123",
          "NG2018L122",
          "NG2018L118",
          "NG2018L117",
          "NG2018L116",
          "NG2018L115",
          "NG2018L114",
          "NG2018L112",
          "NG2018L111",
          "NG2018L103",
          "NG2018L102",
          "NG2018L101",
          "NG2018L110",
          "NG2018L120",
          "NG2018L135",
          "NG2018L105",
          "NG2018L108",
          "NG2018L11901",
          "NG2018L107",
          "NG2018L119",
          "NG2018L109",
          "NG2018L132",
          "NG2018L121",
          "NG2018L106",
          "NG2018L104",
          "NG2018L113",
          "NG2018L134",
          "SV2018L107",
          "SV2018L103",
          "SV2018L108",
          "SV2018L102",
          "SV2018L105",
          "SV2018L104",
          "SV2018L101",
          "SV2018L106",
          "DJ2009L101",
          "DJ2009L102A",
          "DJ2009L102B",
          "DJ2009L103A",
          "DJ2009L103B",
          "DJ2009L103B",
          "DJ2009L104",
          "DJ2009L105",
          "ML2014L105",
          "ML2014L103",
          "ML2014L106",
          "ML2014L107",
          "ML2014L110",
          "ML2014L115",
          "ML2014L101",
          "ML2014L108",
          "ML2014L111",
          "ML2014L109",
          "ML2014L102",
          "ML2014L104",
          "ML2014L112",
          "ML2014L113",
          "ML2014L114",
          "ML2014L116",
          "ML2014L117",
          "GN2016L111",
          "GN2016L110",
          "GN2016L108",
          "GN2016L109",
          "GN2016L107",
          "GN2016L104",
          "GN2016L105",
          "GN2016L102",
          "GN2016L101",
          "GN2016L103",
          "GN2016L106",
          "TZ2009L101",
          "TZ2009L101",
          "TZ2009L102",
          "TZ2009L103",
          "TZ2009L103",
          "TZ2009L104",
          "TZ2009L105",
          "TZ2009L106",
          "TZ2009L108",
          "TZ2009L109",
          "TZ2009L109",
          "TZ2009L110",
          "TZ2009L110",
          "TZ2009L111",
          "TZ2009L112",
          "TZ2009L113",
          "TZ2009L114",
          "TZ2009L114",
          "TZ2009L115",
          "TZ2009L116",
          "TZ2009L117",
          "TZ2009L118",
          "TZ2009L119",
          "TZ2009L120",
          "TZ2009L121",
          "TZ2009L122",
          "TZ2009L123",
          "TZ2009L124",
          "TZ2009L125",
          "TZ2009L126",
          "TZ2009L127",
          "TZ2009L128",
          "TZ2009L129",
          "TZ2009L130",
          "TZ2009L131",
          "TZ2009L132",
          "TZ2009L133",
          "TZ2009L134",
          "TZ2009L135",
          "TZ2009L136",
          "TZ2009L137",
          "TZ2009L138",
          "TZ2009L139",
          "TZ2009L140",
          "TZ2009L141",
          "TZ2009L142",
          "TZ2009L143",
          "TZ2009L144",
          "TZ2009L145",
          "TZ2009L146",
          "TZ2009L147",
          "TZ2009L148",
          "TZ2009L149",
          "TZ2009L150",
          "TZ2009L151",
          "TZ2009L152",
          "TZ2009L153",
          "TZ2009L154",
          "TZ2009L155",
          "TZ2009L156",
          "TZ2009L157",
          "TZ2009L158",
          "TZ2009L159",
          "TZ2009L160",
          "TZ2009L161",
          "TZ2009L162",
          "TZ2009L163",
          "TZ2009L164",
          "TZ2009L165",
          "TZ2009L166",
          "TZ2009L167",
          "TZ2009L168",
          "TZ2009L169",
          "TZ2009L170",
          "TZ2009L171",
          "TZ2009L172",
          "TZ2009L173",
          "TZ2009L174",
          "TZ2009L175",
          "TZ2009L176",
          "TZ2009L177",
          "TZ2009L199",
          "TZ2009L199",
          "TZ2009L107",
          "TZ2009L178",
          "TZ2009L198",
          "TZ2009L198",
          "ZM2014L101",
          "ZM2014L102",
          "ZM2014L103",
          "ZM2014L104",
          "ZM2014L105",
          "ZM2014L106",
          "ZM2014L107",
          "ZM2014L108",
          "ZM2014L109",
          "ZM2014L110",
          "ZM2014L111",
          "ZM2014L112",
          "ZM2014L113",
          "ZM2014L114",
          "ZM2014L115",
          "ZM2014L116",
          "ZM2014L117",
          "ZM2014L118",
          "ZM2014L119",
          "ZM2014L120",
          "ZM2014L121",
          "GT2016L101",
          "GT2016L111",
          "GT2016L110",
          "GT2016L113",
          "GT2016L104",
          "GT2016L105",
          "GT2016L112",
          "GT2016L108",
          "GT2016L102",
          "GT2016L107",
          "GT2016L103",
          "GT2016L106",
          "GT2016L109",
          "MG2013L101",
          "MG2013L102",
          "MG2013L103",
          "MG2013L104",
          "MG2013L105",
          "MG2013L106",
          "MG2013L107",
          "MG2013L108",
          "MG2013L109",
          "MG2013L110",
          "MG2013L111",
          "MG2013L112",
          "MG2013L113",
          "MG2013L114",
          "MG2013L115",
          "MG2013L116",
          "MG2013L117",
          "MG2013L118",
          "MG2013L119",
          "MG2013L120",
          "MG2017L127",
          "MG2017L123",
          "MG2017L122",
          "MG2017L125",
          "MG2017L126",
          "MG2017L124",
          "MG2013L121",
          "RW2012L101",
          "RW2012L102",
          "RW2012L103",
          "RW2012L104",
          "RW2012L105",
          "RW2012L106",
          "RW2012L107",
          "RW2012L108",
          "RW2012L109",
          "RW2012L110",
          "RW2012L111",
          "RW2012L112",
          "RW2012L100",
          "RW2012L113",
          "AF2011L110",
          "AF2011L111",
          "AF2011L112",
          "AF2011L113",
          "AF2011L114",
          "AF2011L115",
          "AF2011L116",
          "AF2011L117",
          "AF2011L118",
          "AF2011L119",
          "AF2011L120",
          "AF2011L121",
          "AF2011L122",
          "AF2011L123",
          "AF2011L124",
          "AF2011L125",
          "AF2011L126",
          "AF2011L127",
          "AF2011L128",
          "AF2011L129",
          "AF2011L101",
          "AF2011L102",
          "AF2011L103",
          "AF2011L104",
          "AF2011L105",
          "AF2011L106",
          "AF2011L107",
          "AF2011L108",
          "AF2011L109",
          "CM2021L101",
          "CM2021L102",
          "CM2021L103",
          "CM2021L104",
          "CM2021L105",
          "CM2021L106",
          "CM2021L107",
          "CM2021L108",
          "CM2021L109",
          "CM2021L110",
          "CM2021L111",
          "CM2021L112",
          "CM2021L113",
          "CM2021L114",
          "CM2021L115",
          "CM2021L116",
          "CM2021L117",
          "ET2018L101",
          "ET2018L102",
          "ET2018L102",
          "ET2018L103",
          "ET2018L104",
          "ET2018L104",
          "ET2018L105",
          "ET2018L105",
          "ET2018L106",
          "ET2018L106",
          "ET2018L107",
          "ET2018L108",
          "ET2018L108",
          "ET2018L109",
          "ET2018L109",
          "ET2018L110",
          "ET2018L111",
          "ET2018L111",
          "ET2018L111",
          "ET2018L112",
          "ET2018L113",
          "ET2018L113",
          "ET2018L114",
          "ET2018L115",
          "ET2018L115",
          "ET2018L116",
          "ET2018L117",
          "ET2018L117",
          "ET2018L118",
          "ET2018L118",
          "ET2018L118",
          "ET2018L1185",
          "ET2018L1185",
          "ET2018L1185",
          "ET2018L1186",
          "ET2018L120",
          "ET2018L120",
          "ET2018L121",
          "ET2018L121",
          "ET2018L122",
          "ET2018L122",
          "ET2018L123",
          "ET2018L124",
          "ET2018L124",
          "ET2018L124",
          "ET2018L125",
          "ET2018L127",
          "ET2018L127",
          "ET2018L127",
          "ET2018L128",
          "ET2018L129",
          "ET2018L129",
          "ET2018L130",
          "ET2018L131",
          "ET2018L132",
          "ET2018L132",
          "ET2018L133",
          "ET2018L133",
          "ET2018L134",
          "ET2018L134",
          "ET2018L134",
          "ET2018L135",
          "ET2018L135",
          "ET2018L136",
          "ET2018L137",
          "ET2018L137",
          "ET2018L137",
          "ET2018L137",
          "ET2018L138",
          "ET2018L139",
          "ET2018L139",
          "ET2018L139",
          "ET2018L139",
          "ET2018L140",
          "ET2018L141",
          "ET2018L141",
          "ET2018L141",
          "ET2018L141",
          "ET2018L142",
          "ET2018L1100",
          "ET2018L1101",
          "ET2018L1101",
          "ET2018L1102",
          "ET2018L1102",
          "ET2018L1187",
          "ET2018L1187",
          "ET2018L143",
          "ET2018L143",
          "ET2018L143",
          "ET2018L144",
          "ET2018L145",
          "ET2018L146",
          "ET2018L146",
          "ET2018L147",
          "ET2018L147",
          "ET2018L148",
          "ET2018L148",
          "ET2018L149",
          "ET2018L149",
          "ET2018L150",
          "ET2018L151",
          "ET2018L152",
          "ET2018L152",
          "ET2018L153",
          "ET2018L153",
          "ET2018L154",
          "ET2018L154",
          "ET2018L155",
          "ET2018L155",
          "ET2018L156",
          "ET2018L156",
          "ET2018L156",
          "ET2018L157",
          "ET2018L157",
          "ET2018L157",
          "ET2018L157",
          "ET2018L157",
          "ET2018L158",
          "ET2018L158",
          "ET2018L158",
          "ET2018L159",
          "ET2018L160",
          "ET2018L161",
          "ET2018L161",
          "ET2018L162",
          "ET2018L162",
          "ET2018L162",
          "ET2018L163",
          "ET2018L164",
          "ET2018L165",
          "ET2018L166",
          "ET2018L167",
          "ET2018L168",
          "ET2018L169",
          "ET2018L170",
          "ET2018L171",
          "ET2018L172",
          "ET2018L172",
          "ET2018L173",
          "ET2018L174",
          "ET2018L175",
          "ET2018L176",
          "ET2018L177",
          "ET2018L178",
          "ET2018L178",
          "ET2018L179",
          "ET2018L179",
          "ET2018L180",
          "ET2018L180",
          "ET2018L181",
          "ET2018L181",
          "ET2018L181",
          "ET2018L182",
          "ET2018L182",
          "ET2018L183",
          "ET2018L183",
          "ET2018L184",
          "ET2018L184",
          "ET2018L185",
          "ET2018L186",
          "ET2018L186",
          "ET2018L186",
          "ET2018L186",
          "ET2018L186",
          "ET2018L187",
          "ET2018L187",
          "ET2018L188",
          "ET2018L189",
          "ET2018L190",
          "ET2018L190",
          "ET2018L191",
          "ET2018L192",
          "ET2018L192",
          "ET2018L192",
          "ET2018L193",
          "ET2018L193",
          "ET2018L194",
          "ET2018L194",
          "ET2018L195",
          "ET2018L195",
          "ET2018L196",
          "ET2018L196",
          "ET2018L197",
          "ET2018L197",
          "ET2018L197",
          "ET2018L197",
          "ET2018L198",
          "ET2018L199",
          "ET2018L199",
          "ET2018L1103",
          "ET2018L1104",
          "ET2018L1104",
          "ET2018L1105",
          "ET2018L1105",
          "ET2018L1106",
          "ET2018L1107",
          "ET2018L1108",
          "ET2018L1109",
          "ET2018L1109",
          "ET2018L1110",
          "ET2018L1110",
          "ET2018L1111",
          "ET2018L1112",
          "ET2018L1113",
          "ET2018L1113",
          "ET2018L1114",
          "ET2018L1114",
          "ET2018L1115",
          "ET2018L1115",
          "ET2018L1116",
          "ET2018L1116",
          "ET2018L1117",
          "ET2018L1117",
          "ET2018L1118",
          "ET2018L1118",
          "ET2018L1119",
          "ET2018L1120",
          "ET2018L1120",
          "ET2018L1121",
          "ET2018L1121",
          "ET2018L1122",
          "ET2018L1123",
          "ET2018L1123",
          "ET2018L1124",
          "ET2018L1124",
          "ET2018L1125",
          "ET2018L1126",
          "ET2018L1127",
          "ET2018L1127",
          "ET2018L1128",
          "ET2018L1129",
          "ET2018L1129",
          "ET2018L1129",
          "ET2018L1129",
          "ET2018L1130",
          "ET2018L1131",
          "ET2018L1132",
          "ET2018L1132",
          "ET2018L1132",
          "ET2018L1133",
          "ET2018L1133",
          "ET2018L1134",
          "ET2018L1135",
          "ET2018L1135",
          "ET2018L1136",
          "ET2018L1136",
          "ET2018L1137",
          "ET2018L1137",
          "ET2018L1137",
          "ET2018L1137",
          "ET2018L1138",
          "ET2018L1138",
          "ET2018L1139",
          "ET2018L1140",
          "ET2018L1141",
          "ET2018L1142",
          "ET2018L1143",
          "ET2018L1144",
          "ET2018L1145",
          "ET2018L1145",
          "ET2018L1180",
          "ET2018L1180",
          "ET2018L1181",
          "ET2018L1182",
          "ET2018L1182",
          "ET2018L1183",
          "ET2018L1184",
          "ET2018L1184",
          "ET2018L1146",
          "ET2018L1146",
          "ET2018L1146",
          "ET2018L1146",
          "ET2018L1146",
          "ET2018L1147",
          "ET2018L1147",
          "ET2018L1147",
          "ET2018L1147",
          "ET2018L1148",
          "ET2018L1148",
          "ET2018L1148",
          "ET2018L1148",
          "ET2018L1149",
          "ET2018L1149",
          "ET2018L1150",
          "ET2018L1150",
          "ET2018L1150",
          "ET2018L1150",
          "ET2018L1151",
          "ET2018L1151",
          "ET2018L1151",
          "ET2018L1151",
          "ET2018L1151",
          "ET2018L1152",
          "ET2018L1152",
          "ET2018L1152",
          "ET2018L1152",
          "ET2018L1153",
          "ET2018L1153",
          "ET2018L1154",
          "ET2018L1155",
          "ET2018L1155",
          "ET2018L1156",
          "ET2018L1156",
          "ET2018L1157",
          "ET2018L1157",
          "ET2018L1157",
          "ET2018L1157",
          "ET2018L1158",
          "ET2018L1158",
          "ET2018L1158",
          "ET2018L1158",
          "ET2018L1159",
          "ET2018L1159",
          "ET2018L1160",
          "ET2018L1160",
          "ET2018L1161",
          "ET2018L1161",
          "ET2018L1162",
          "ET2018L1162",
          "ET2018L1162",
          "ET2018L1163",
          "ET2018L1163",
          "ET2018L1163",
          "ET2018L1163",
          "ET2018L1163",
          "ET2018L1164",
          "ET2018L1164",
          "ET2018L1165",
          "ET2018L1165",
          "ET2018L1166",
          "ET2018L1167",
          "ET2018L1167",
          "ET2018L1168",
          "ET2018L1168",
          "ET2018L1169",
          "ET2018L1169",
          "ET2018L1170",
          "ET2018L1170",
          "ET2018L1171",
          "ET2018L1171",
          "ET2018L1172",
          "ET2018L1173",
          "ET2018L1173",
          "ET2018L1174",
          "ET2018L1174",
          "ET2018L1175",
          "ET2018L1175",
          "ET2018L1176",
          "ET2018L1176",
          "ET2018L1177",
          "ET2018L1177",
          "ET2018L1178",
          "ET2018L1178",
          "ET2018L1179",
          "ET2018L126",
          "ET2018L126",
          "ET2018L126",
          "ET2018L119",
          "ET2018L119",
          "SN2021L100",
          "SN2021L101",
          "SN2021L102",
          "SN2021L103",
          "SN2021L104",
          "SN2021L105",
          "SN2021L106",
          "SN2021L107",
          "SN2021L108",
          "SN2021L109",
          "SN2021L110",
          "SN2021L113",
          "SN2021L114",
          "SN2021L115",
          "SN2021L116",
          "SN2021L112",
          "SN2021L111",
          "TD2021L109",
          "TD2021L106",
          "TD2021L106",
          "TD2021L106",
          "TD2021L108",
          "TD2021L101",
          "TD2021L104",
          "TD2021L104",
          "TD2021L103",
          "TD2021L102",
          "TD2021L105",
          "TD2021L107"
         ],
         "xaxis": "x",
         "yaxis": "y"
        }
       ],
       "layout": {
        "barmode": "relative",
        "legend": {
         "tracegroupgap": 0
        },
        "margin": {
         "t": 60
        },
        "template": {
         "data": {
          "bar": [
           {
            "error_x": {
             "color": "#2a3f5f"
            },
            "error_y": {
             "color": "#2a3f5f"
            },
            "marker": {
             "line": {
              "color": "#E5ECF6",
              "width": 0.5
             },
             "pattern": {
              "fillmode": "overlay",
              "size": 10,
              "solidity": 0.2
             }
            },
            "type": "bar"
           }
          ],
          "barpolar": [
           {
            "marker": {
             "line": {
              "color": "#E5ECF6",
              "width": 0.5
             },
             "pattern": {
              "fillmode": "overlay",
              "size": 10,
              "solidity": 0.2
             }
            },
            "type": "barpolar"
           }
          ],
          "carpet": [
           {
            "aaxis": {
             "endlinecolor": "#2a3f5f",
             "gridcolor": "white",
             "linecolor": "white",
             "minorgridcolor": "white",
             "startlinecolor": "#2a3f5f"
            },
            "baxis": {
             "endlinecolor": "#2a3f5f",
             "gridcolor": "white",
             "linecolor": "white",
             "minorgridcolor": "white",
             "startlinecolor": "#2a3f5f"
            },
            "type": "carpet"
           }
          ],
          "choropleth": [
           {
            "colorbar": {
             "outlinewidth": 0,
             "ticks": ""
            },
            "type": "choropleth"
           }
          ],
          "contour": [
           {
            "colorbar": {
             "outlinewidth": 0,
             "ticks": ""
            },
            "colorscale": [
             [
              0,
              "#0d0887"
             ],
             [
              0.1111111111111111,
              "#46039f"
             ],
             [
              0.2222222222222222,
              "#7201a8"
             ],
             [
              0.3333333333333333,
              "#9c179e"
             ],
             [
              0.4444444444444444,
              "#bd3786"
             ],
             [
              0.5555555555555556,
              "#d8576b"
             ],
             [
              0.6666666666666666,
              "#ed7953"
             ],
             [
              0.7777777777777778,
              "#fb9f3a"
             ],
             [
              0.8888888888888888,
              "#fdca26"
             ],
             [
              1,
              "#f0f921"
             ]
            ],
            "type": "contour"
           }
          ],
          "contourcarpet": [
           {
            "colorbar": {
             "outlinewidth": 0,
             "ticks": ""
            },
            "type": "contourcarpet"
           }
          ],
          "heatmap": [
           {
            "colorbar": {
             "outlinewidth": 0,
             "ticks": ""
            },
            "colorscale": [
             [
              0,
              "#0d0887"
             ],
             [
              0.1111111111111111,
              "#46039f"
             ],
             [
              0.2222222222222222,
              "#7201a8"
             ],
             [
              0.3333333333333333,
              "#9c179e"
             ],
             [
              0.4444444444444444,
              "#bd3786"
             ],
             [
              0.5555555555555556,
              "#d8576b"
             ],
             [
              0.6666666666666666,
              "#ed7953"
             ],
             [
              0.7777777777777778,
              "#fb9f3a"
             ],
             [
              0.8888888888888888,
              "#fdca26"
             ],
             [
              1,
              "#f0f921"
             ]
            ],
            "type": "heatmap"
           }
          ],
          "heatmapgl": [
           {
            "colorbar": {
             "outlinewidth": 0,
             "ticks": ""
            },
            "colorscale": [
             [
              0,
              "#0d0887"
             ],
             [
              0.1111111111111111,
              "#46039f"
             ],
             [
              0.2222222222222222,
              "#7201a8"
             ],
             [
              0.3333333333333333,
              "#9c179e"
             ],
             [
              0.4444444444444444,
              "#bd3786"
             ],
             [
              0.5555555555555556,
              "#d8576b"
             ],
             [
              0.6666666666666666,
              "#ed7953"
             ],
             [
              0.7777777777777778,
              "#fb9f3a"
             ],
             [
              0.8888888888888888,
              "#fdca26"
             ],
             [
              1,
              "#f0f921"
             ]
            ],
            "type": "heatmapgl"
           }
          ],
          "histogram": [
           {
            "marker": {
             "pattern": {
              "fillmode": "overlay",
              "size": 10,
              "solidity": 0.2
             }
            },
            "type": "histogram"
           }
          ],
          "histogram2d": [
           {
            "colorbar": {
             "outlinewidth": 0,
             "ticks": ""
            },
            "colorscale": [
             [
              0,
              "#0d0887"
             ],
             [
              0.1111111111111111,
              "#46039f"
             ],
             [
              0.2222222222222222,
              "#7201a8"
             ],
             [
              0.3333333333333333,
              "#9c179e"
             ],
             [
              0.4444444444444444,
              "#bd3786"
             ],
             [
              0.5555555555555556,
              "#d8576b"
             ],
             [
              0.6666666666666666,
              "#ed7953"
             ],
             [
              0.7777777777777778,
              "#fb9f3a"
             ],
             [
              0.8888888888888888,
              "#fdca26"
             ],
             [
              1,
              "#f0f921"
             ]
            ],
            "type": "histogram2d"
           }
          ],
          "histogram2dcontour": [
           {
            "colorbar": {
             "outlinewidth": 0,
             "ticks": ""
            },
            "colorscale": [
             [
              0,
              "#0d0887"
             ],
             [
              0.1111111111111111,
              "#46039f"
             ],
             [
              0.2222222222222222,
              "#7201a8"
             ],
             [
              0.3333333333333333,
              "#9c179e"
             ],
             [
              0.4444444444444444,
              "#bd3786"
             ],
             [
              0.5555555555555556,
              "#d8576b"
             ],
             [
              0.6666666666666666,
              "#ed7953"
             ],
             [
              0.7777777777777778,
              "#fb9f3a"
             ],
             [
              0.8888888888888888,
              "#fdca26"
             ],
             [
              1,
              "#f0f921"
             ]
            ],
            "type": "histogram2dcontour"
           }
          ],
          "mesh3d": [
           {
            "colorbar": {
             "outlinewidth": 0,
             "ticks": ""
            },
            "type": "mesh3d"
           }
          ],
          "parcoords": [
           {
            "line": {
             "colorbar": {
              "outlinewidth": 0,
              "ticks": ""
             }
            },
            "type": "parcoords"
           }
          ],
          "pie": [
           {
            "automargin": true,
            "type": "pie"
           }
          ],
          "scatter": [
           {
            "fillpattern": {
             "fillmode": "overlay",
             "size": 10,
             "solidity": 0.2
            },
            "type": "scatter"
           }
          ],
          "scatter3d": [
           {
            "line": {
             "colorbar": {
              "outlinewidth": 0,
              "ticks": ""
             }
            },
            "marker": {
             "colorbar": {
              "outlinewidth": 0,
              "ticks": ""
             }
            },
            "type": "scatter3d"
           }
          ],
          "scattercarpet": [
           {
            "marker": {
             "colorbar": {
              "outlinewidth": 0,
              "ticks": ""
             }
            },
            "type": "scattercarpet"
           }
          ],
          "scattergeo": [
           {
            "marker": {
             "colorbar": {
              "outlinewidth": 0,
              "ticks": ""
             }
            },
            "type": "scattergeo"
           }
          ],
          "scattergl": [
           {
            "marker": {
             "colorbar": {
              "outlinewidth": 0,
              "ticks": ""
             }
            },
            "type": "scattergl"
           }
          ],
          "scattermapbox": [
           {
            "marker": {
             "colorbar": {
              "outlinewidth": 0,
              "ticks": ""
             }
            },
            "type": "scattermapbox"
           }
          ],
          "scatterpolar": [
           {
            "marker": {
             "colorbar": {
              "outlinewidth": 0,
              "ticks": ""
             }
            },
            "type": "scatterpolar"
           }
          ],
          "scatterpolargl": [
           {
            "marker": {
             "colorbar": {
              "outlinewidth": 0,
              "ticks": ""
             }
            },
            "type": "scatterpolargl"
           }
          ],
          "scatterternary": [
           {
            "marker": {
             "colorbar": {
              "outlinewidth": 0,
              "ticks": ""
             }
            },
            "type": "scatterternary"
           }
          ],
          "surface": [
           {
            "colorbar": {
             "outlinewidth": 0,
             "ticks": ""
            },
            "colorscale": [
             [
              0,
              "#0d0887"
             ],
             [
              0.1111111111111111,
              "#46039f"
             ],
             [
              0.2222222222222222,
              "#7201a8"
             ],
             [
              0.3333333333333333,
              "#9c179e"
             ],
             [
              0.4444444444444444,
              "#bd3786"
             ],
             [
              0.5555555555555556,
              "#d8576b"
             ],
             [
              0.6666666666666666,
              "#ed7953"
             ],
             [
              0.7777777777777778,
              "#fb9f3a"
             ],
             [
              0.8888888888888888,
              "#fdca26"
             ],
             [
              1,
              "#f0f921"
             ]
            ],
            "type": "surface"
           }
          ],
          "table": [
           {
            "cells": {
             "fill": {
              "color": "#EBF0F8"
             },
             "line": {
              "color": "white"
             }
            },
            "header": {
             "fill": {
              "color": "#C8D4E3"
             },
             "line": {
              "color": "white"
             }
            },
            "type": "table"
           }
          ]
         },
         "layout": {
          "annotationdefaults": {
           "arrowcolor": "#2a3f5f",
           "arrowhead": 0,
           "arrowwidth": 1
          },
          "autotypenumbers": "strict",
          "coloraxis": {
           "colorbar": {
            "outlinewidth": 0,
            "ticks": ""
           }
          },
          "colorscale": {
           "diverging": [
            [
             0,
             "#8e0152"
            ],
            [
             0.1,
             "#c51b7d"
            ],
            [
             0.2,
             "#de77ae"
            ],
            [
             0.3,
             "#f1b6da"
            ],
            [
             0.4,
             "#fde0ef"
            ],
            [
             0.5,
             "#f7f7f7"
            ],
            [
             0.6,
             "#e6f5d0"
            ],
            [
             0.7,
             "#b8e186"
            ],
            [
             0.8,
             "#7fbc41"
            ],
            [
             0.9,
             "#4d9221"
            ],
            [
             1,
             "#276419"
            ]
           ],
           "sequential": [
            [
             0,
             "#0d0887"
            ],
            [
             0.1111111111111111,
             "#46039f"
            ],
            [
             0.2222222222222222,
             "#7201a8"
            ],
            [
             0.3333333333333333,
             "#9c179e"
            ],
            [
             0.4444444444444444,
             "#bd3786"
            ],
            [
             0.5555555555555556,
             "#d8576b"
            ],
            [
             0.6666666666666666,
             "#ed7953"
            ],
            [
             0.7777777777777778,
             "#fb9f3a"
            ],
            [
             0.8888888888888888,
             "#fdca26"
            ],
            [
             1,
             "#f0f921"
            ]
           ],
           "sequentialminus": [
            [
             0,
             "#0d0887"
            ],
            [
             0.1111111111111111,
             "#46039f"
            ],
            [
             0.2222222222222222,
             "#7201a8"
            ],
            [
             0.3333333333333333,
             "#9c179e"
            ],
            [
             0.4444444444444444,
             "#bd3786"
            ],
            [
             0.5555555555555556,
             "#d8576b"
            ],
            [
             0.6666666666666666,
             "#ed7953"
            ],
            [
             0.7777777777777778,
             "#fb9f3a"
            ],
            [
             0.8888888888888888,
             "#fdca26"
            ],
            [
             1,
             "#f0f921"
            ]
           ]
          },
          "colorway": [
           "#636efa",
           "#EF553B",
           "#00cc96",
           "#ab63fa",
           "#FFA15A",
           "#19d3f3",
           "#FF6692",
           "#B6E880",
           "#FF97FF",
           "#FECB52"
          ],
          "font": {
           "color": "#2a3f5f"
          },
          "geo": {
           "bgcolor": "white",
           "lakecolor": "white",
           "landcolor": "#E5ECF6",
           "showlakes": true,
           "showland": true,
           "subunitcolor": "white"
          },
          "hoverlabel": {
           "align": "left"
          },
          "hovermode": "closest",
          "mapbox": {
           "style": "light"
          },
          "paper_bgcolor": "white",
          "plot_bgcolor": "#E5ECF6",
          "polar": {
           "angularaxis": {
            "gridcolor": "white",
            "linecolor": "white",
            "ticks": ""
           },
           "bgcolor": "#E5ECF6",
           "radialaxis": {
            "gridcolor": "white",
            "linecolor": "white",
            "ticks": ""
           }
          },
          "scene": {
           "xaxis": {
            "backgroundcolor": "#E5ECF6",
            "gridcolor": "white",
            "gridwidth": 2,
            "linecolor": "white",
            "showbackground": true,
            "ticks": "",
            "zerolinecolor": "white"
           },
           "yaxis": {
            "backgroundcolor": "#E5ECF6",
            "gridcolor": "white",
            "gridwidth": 2,
            "linecolor": "white",
            "showbackground": true,
            "ticks": "",
            "zerolinecolor": "white"
           },
           "zaxis": {
            "backgroundcolor": "#E5ECF6",
            "gridcolor": "white",
            "gridwidth": 2,
            "linecolor": "white",
            "showbackground": true,
            "ticks": "",
            "zerolinecolor": "white"
           }
          },
          "shapedefaults": {
           "line": {
            "color": "#2a3f5f"
           }
          },
          "ternary": {
           "aaxis": {
            "gridcolor": "white",
            "linecolor": "white",
            "ticks": ""
           },
           "baxis": {
            "gridcolor": "white",
            "linecolor": "white",
            "ticks": ""
           },
           "bgcolor": "#E5ECF6",
           "caxis": {
            "gridcolor": "white",
            "linecolor": "white",
            "ticks": ""
           }
          },
          "title": {
           "x": 0.05
          },
          "xaxis": {
           "automargin": true,
           "gridcolor": "white",
           "linecolor": "white",
           "ticks": "",
           "title": {
            "standoff": 15
           },
           "zerolinecolor": "white",
           "zerolinewidth": 2
          },
          "yaxis": {
           "automargin": true,
           "gridcolor": "white",
           "linecolor": "white",
           "ticks": "",
           "title": {
            "standoff": 15
           },
           "zerolinecolor": "white",
           "zerolinewidth": 2
          }
         }
        },
        "xaxis": {
         "anchor": "y",
         "domain": [
          0,
          1
         ],
         "title": {
          "text": "FNID"
         }
        },
        "yaxis": {
         "anchor": "x",
         "domain": [
          0,
          1
         ],
         "title": {
          "text": "count"
         }
        }
       }
      }
     },
     "metadata": {},
     "output_type": "display_data"
    }
   ],
   "source": [
    "# plot distribution of OBJECTID in lhz_full\n",
    "fig = px.histogram(lhz_full, x=\"FNID\")\n",
    "fig.show()"
   ]
  },
  {
   "cell_type": "code",
   "execution_count": null,
   "metadata": {},
   "outputs": [],
   "source": []
  },
  {
   "cell_type": "code",
   "execution_count": null,
   "metadata": {},
   "outputs": [],
   "source": [
    "join_left_df = adm2.sjoin(minidf, how=\"left\")\n",
    "# sort join_left_df by CS\n",
    "join_left_df.sort_values(by=\"CS\", ascending=False)\n",
    "# if CS column is null remove the row\n",
    "join_left_df = join_left_df[join_left_df[\"CS\"].notnull()]\n",
    "# drop columns of scratch that CS column value is 99\n",
    "join_left_df = join_left_df[join_left_df[\"CS\"] != 99]\n",
    "join_left_df = join_left_df[join_left_df[\"CS\"] != 88]\n",
    "join_left_df"
   ]
  },
  {
   "cell_type": "code",
   "execution_count": 11,
   "metadata": {},
   "outputs": [
    {
     "name": "stderr",
     "output_type": "stream",
     "text": [
      "/opt/homebrew/Caskroom/miniforge/base/envs/geo/lib/python3.10/site-packages/geopandas/geodataframe.py:2352: UserWarning: `keep_geom_type=True` in overlay resulted in 1330 dropped geometries of different geometry types than df1 has. Set `keep_geom_type=False` to retain all geometries\n",
      "  return geopandas.overlay(\n"
     ]
    },
    {
     "data": {
      "text/html": [
       "<div>\n",
       "<style scoped>\n",
       "    .dataframe tbody tr th:only-of-type {\n",
       "        vertical-align: middle;\n",
       "    }\n",
       "\n",
       "    .dataframe tbody tr th {\n",
       "        vertical-align: top;\n",
       "    }\n",
       "\n",
       "    .dataframe thead th {\n",
       "        text-align: right;\n",
       "    }\n",
       "</style>\n",
       "<table border=\"1\" class=\"dataframe\">\n",
       "  <thead>\n",
       "    <tr style=\"text-align: right;\">\n",
       "      <th></th>\n",
       "      <th>FNID</th>\n",
       "      <th>EFF_YEAR</th>\n",
       "      <th>COUNTRY</th>\n",
       "      <th>ADMIN0</th>\n",
       "      <th>ADMIN1</th>\n",
       "      <th>ADMIN1FR</th>\n",
       "      <th>ADMIN1SP</th>\n",
       "      <th>ADMIN1PT</th>\n",
       "      <th>ADMIN2</th>\n",
       "      <th>ADMIN2FR</th>\n",
       "      <th>ADMIN2SP</th>\n",
       "      <th>ADMIN2PT</th>\n",
       "      <th>ALIASES</th>\n",
       "      <th>CS</th>\n",
       "      <th>HA0</th>\n",
       "      <th>geometry</th>\n",
       "    </tr>\n",
       "  </thead>\n",
       "  <tbody>\n",
       "    <tr>\n",
       "      <th>0</th>\n",
       "      <td>CF2003A25203</td>\n",
       "      <td>2003</td>\n",
       "      <td>CF</td>\n",
       "      <td>Central African Republic</td>\n",
       "      <td>Haute-Kotto</td>\n",
       "      <td>Haute-Kotto</td>\n",
       "      <td>None</td>\n",
       "      <td>None</td>\n",
       "      <td>Yalinga</td>\n",
       "      <td>Yalinga</td>\n",
       "      <td>None</td>\n",
       "      <td>None</td>\n",
       "      <td>None</td>\n",
       "      <td>1.0</td>\n",
       "      <td>0.0</td>\n",
       "      <td>MULTIPOLYGON (((23.52011 8.72697, 23.53575 8.7...</td>\n",
       "    </tr>\n",
       "    <tr>\n",
       "      <th>1</th>\n",
       "      <td>CF2003A25301</td>\n",
       "      <td>2003</td>\n",
       "      <td>CF</td>\n",
       "      <td>Central African Republic</td>\n",
       "      <td>Vakaga</td>\n",
       "      <td>Vakaga</td>\n",
       "      <td>None</td>\n",
       "      <td>None</td>\n",
       "      <td>Birao</td>\n",
       "      <td>Birao</td>\n",
       "      <td>None</td>\n",
       "      <td>None</td>\n",
       "      <td>None</td>\n",
       "      <td>1.0</td>\n",
       "      <td>0.0</td>\n",
       "      <td>MULTIPOLYGON (((23.27061 10.48983, 23.26384 10...</td>\n",
       "    </tr>\n",
       "    <tr>\n",
       "      <th>2</th>\n",
       "      <td>UG2014A20101</td>\n",
       "      <td>2014</td>\n",
       "      <td>UG</td>\n",
       "      <td>Uganda</td>\n",
       "      <td>Central</td>\n",
       "      <td>None</td>\n",
       "      <td>None</td>\n",
       "      <td>None</td>\n",
       "      <td>Buikwe</td>\n",
       "      <td>None</td>\n",
       "      <td>None</td>\n",
       "      <td>None</td>\n",
       "      <td>~Buikwo~</td>\n",
       "      <td>1.0</td>\n",
       "      <td>0.0</td>\n",
       "      <td>POLYGON ((33.04666 0.50371, 33.04919 0.50403, ...</td>\n",
       "    </tr>\n",
       "    <tr>\n",
       "      <th>3</th>\n",
       "      <td>UG2014A20102</td>\n",
       "      <td>2014</td>\n",
       "      <td>UG</td>\n",
       "      <td>Uganda</td>\n",
       "      <td>Central</td>\n",
       "      <td>None</td>\n",
       "      <td>None</td>\n",
       "      <td>None</td>\n",
       "      <td>Bukomansimbi</td>\n",
       "      <td>None</td>\n",
       "      <td>None</td>\n",
       "      <td>None</td>\n",
       "      <td>None</td>\n",
       "      <td>1.0</td>\n",
       "      <td>0.0</td>\n",
       "      <td>POLYGON ((31.63971 0.03771, 31.64104 0.03776, ...</td>\n",
       "    </tr>\n",
       "    <tr>\n",
       "      <th>4</th>\n",
       "      <td>UG2014A20103</td>\n",
       "      <td>2014</td>\n",
       "      <td>UG</td>\n",
       "      <td>Uganda</td>\n",
       "      <td>Central</td>\n",
       "      <td>None</td>\n",
       "      <td>None</td>\n",
       "      <td>None</td>\n",
       "      <td>Butambala</td>\n",
       "      <td>None</td>\n",
       "      <td>None</td>\n",
       "      <td>None</td>\n",
       "      <td>None</td>\n",
       "      <td>1.0</td>\n",
       "      <td>0.0</td>\n",
       "      <td>POLYGON ((32.27002 0.31385, 32.27088 0.31292, ...</td>\n",
       "    </tr>\n",
       "    <tr>\n",
       "      <th>...</th>\n",
       "      <td>...</td>\n",
       "      <td>...</td>\n",
       "      <td>...</td>\n",
       "      <td>...</td>\n",
       "      <td>...</td>\n",
       "      <td>...</td>\n",
       "      <td>...</td>\n",
       "      <td>...</td>\n",
       "      <td>...</td>\n",
       "      <td>...</td>\n",
       "      <td>...</td>\n",
       "      <td>...</td>\n",
       "      <td>...</td>\n",
       "      <td>...</td>\n",
       "      <td>...</td>\n",
       "      <td>...</td>\n",
       "    </tr>\n",
       "    <tr>\n",
       "      <th>2052</th>\n",
       "      <td>SD2014A20406</td>\n",
       "      <td>2014</td>\n",
       "      <td>SD</td>\n",
       "      <td>Sudan</td>\n",
       "      <td>West Darfur</td>\n",
       "      <td>None</td>\n",
       "      <td>None</td>\n",
       "      <td>None</td>\n",
       "      <td>Kreinik</td>\n",
       "      <td>None</td>\n",
       "      <td>None</td>\n",
       "      <td>None</td>\n",
       "      <td>~Kerenek~</td>\n",
       "      <td>1.0</td>\n",
       "      <td>1.0</td>\n",
       "      <td>MULTIPOLYGON (((22.51148 13.41088, 22.51809 13...</td>\n",
       "    </tr>\n",
       "    <tr>\n",
       "      <th>2053</th>\n",
       "      <td>SD2014A20302</td>\n",
       "      <td>2014</td>\n",
       "      <td>SD</td>\n",
       "      <td>Sudan</td>\n",
       "      <td>South Darfur</td>\n",
       "      <td>None</td>\n",
       "      <td>None</td>\n",
       "      <td>None</td>\n",
       "      <td>El Salam</td>\n",
       "      <td>None</td>\n",
       "      <td>None</td>\n",
       "      <td>None</td>\n",
       "      <td>~Al Salam~</td>\n",
       "      <td>1.0</td>\n",
       "      <td>1.0</td>\n",
       "      <td>MULTIPOLYGON (((24.80970 11.80301, 24.80970 11...</td>\n",
       "    </tr>\n",
       "    <tr>\n",
       "      <th>2054</th>\n",
       "      <td>SD2014A21407</td>\n",
       "      <td>2014</td>\n",
       "      <td>SD</td>\n",
       "      <td>Sudan</td>\n",
       "      <td>Sinnar</td>\n",
       "      <td>None</td>\n",
       "      <td>None</td>\n",
       "      <td>None</td>\n",
       "      <td>El Dindir</td>\n",
       "      <td>None</td>\n",
       "      <td>None</td>\n",
       "      <td>None</td>\n",
       "      <td>~Al Dindir~</td>\n",
       "      <td>1.0</td>\n",
       "      <td>1.0</td>\n",
       "      <td>MULTIPOLYGON (((34.89492 12.01947, 34.89127 12...</td>\n",
       "    </tr>\n",
       "    <tr>\n",
       "      <th>2055</th>\n",
       "      <td>SD2014A20803</td>\n",
       "      <td>2014</td>\n",
       "      <td>SD</td>\n",
       "      <td>Sudan</td>\n",
       "      <td>Blue Nile</td>\n",
       "      <td>None</td>\n",
       "      <td>None</td>\n",
       "      <td>None</td>\n",
       "      <td>Geissan</td>\n",
       "      <td>None</td>\n",
       "      <td>None</td>\n",
       "      <td>None</td>\n",
       "      <td>~Geizan ~</td>\n",
       "      <td>1.0</td>\n",
       "      <td>1.0</td>\n",
       "      <td>MULTIPOLYGON (((34.40996 11.77144, 34.40996 11...</td>\n",
       "    </tr>\n",
       "    <tr>\n",
       "      <th>2056</th>\n",
       "      <td>ET2014A20508</td>\n",
       "      <td>2014</td>\n",
       "      <td>ET</td>\n",
       "      <td>Ethiopia</td>\n",
       "      <td>Somali</td>\n",
       "      <td>None</td>\n",
       "      <td>None</td>\n",
       "      <td>None</td>\n",
       "      <td>Afder</td>\n",
       "      <td>None</td>\n",
       "      <td>None</td>\n",
       "      <td>None</td>\n",
       "      <td>~Afdheer~Afdher~Afdier~</td>\n",
       "      <td>1.0</td>\n",
       "      <td>1.0</td>\n",
       "      <td>MULTIPOLYGON (((44.58756 4.93498, 44.39930 4.9...</td>\n",
       "    </tr>\n",
       "  </tbody>\n",
       "</table>\n",
       "<p>2057 rows × 16 columns</p>\n",
       "</div>"
      ],
      "text/plain": [
       "              FNID  EFF_YEAR COUNTRY                    ADMIN0        ADMIN1  \\\n",
       "0     CF2003A25203      2003      CF  Central African Republic   Haute-Kotto   \n",
       "1     CF2003A25301      2003      CF  Central African Republic        Vakaga   \n",
       "2     UG2014A20101      2014      UG                    Uganda       Central   \n",
       "3     UG2014A20102      2014      UG                    Uganda       Central   \n",
       "4     UG2014A20103      2014      UG                    Uganda       Central   \n",
       "...            ...       ...     ...                       ...           ...   \n",
       "2052  SD2014A20406      2014      SD                     Sudan   West Darfur   \n",
       "2053  SD2014A20302      2014      SD                     Sudan  South Darfur   \n",
       "2054  SD2014A21407      2014      SD                     Sudan        Sinnar   \n",
       "2055  SD2014A20803      2014      SD                     Sudan     Blue Nile   \n",
       "2056  ET2014A20508      2014      ET                  Ethiopia        Somali   \n",
       "\n",
       "         ADMIN1FR ADMIN1SP ADMIN1PT        ADMIN2 ADMIN2FR ADMIN2SP ADMIN2PT  \\\n",
       "0     Haute-Kotto     None     None       Yalinga  Yalinga     None     None   \n",
       "1          Vakaga     None     None         Birao    Birao     None     None   \n",
       "2            None     None     None        Buikwe     None     None     None   \n",
       "3            None     None     None  Bukomansimbi     None     None     None   \n",
       "4            None     None     None     Butambala     None     None     None   \n",
       "...           ...      ...      ...           ...      ...      ...      ...   \n",
       "2052         None     None     None       Kreinik     None     None     None   \n",
       "2053         None     None     None      El Salam     None     None     None   \n",
       "2054         None     None     None     El Dindir     None     None     None   \n",
       "2055         None     None     None       Geissan     None     None     None   \n",
       "2056         None     None     None         Afder     None     None     None   \n",
       "\n",
       "                      ALIASES   CS  HA0  \\\n",
       "0                        None  1.0  0.0   \n",
       "1                        None  1.0  0.0   \n",
       "2                    ~Buikwo~  1.0  0.0   \n",
       "3                        None  1.0  0.0   \n",
       "4                        None  1.0  0.0   \n",
       "...                       ...  ...  ...   \n",
       "2052                ~Kerenek~  1.0  1.0   \n",
       "2053               ~Al Salam~  1.0  1.0   \n",
       "2054              ~Al Dindir~  1.0  1.0   \n",
       "2055                ~Geizan ~  1.0  1.0   \n",
       "2056  ~Afdheer~Afdher~Afdier~  1.0  1.0   \n",
       "\n",
       "                                               geometry  \n",
       "0     MULTIPOLYGON (((23.52011 8.72697, 23.53575 8.7...  \n",
       "1     MULTIPOLYGON (((23.27061 10.48983, 23.26384 10...  \n",
       "2     POLYGON ((33.04666 0.50371, 33.04919 0.50403, ...  \n",
       "3     POLYGON ((31.63971 0.03771, 31.64104 0.03776, ...  \n",
       "4     POLYGON ((32.27002 0.31385, 32.27088 0.31292, ...  \n",
       "...                                                 ...  \n",
       "2052  MULTIPOLYGON (((22.51148 13.41088, 22.51809 13...  \n",
       "2053  MULTIPOLYGON (((24.80970 11.80301, 24.80970 11...  \n",
       "2054  MULTIPOLYGON (((34.89492 12.01947, 34.89127 12...  \n",
       "2055  MULTIPOLYGON (((34.40996 11.77144, 34.40996 11...  \n",
       "2056  MULTIPOLYGON (((44.58756 4.93498, 44.39930 4.9...  \n",
       "\n",
       "[2057 rows x 16 columns]"
      ]
     },
     "execution_count": 11,
     "metadata": {},
     "output_type": "execute_result"
    }
   ],
   "source": [
    "inter_adm2 = adm2.overlay(minidf, how='intersection')\n",
    "inter_adm2"
   ]
  },
  {
   "cell_type": "code",
   "execution_count": 13,
   "metadata": {},
   "outputs": [],
   "source": [
    "# Getting rid of 88 and 99 values\n",
    "inter_adm2 = inter_adm2[inter_adm2[\"CS\"] != 99]\n",
    "inter_adm2 = inter_adm2[inter_adm2[\"CS\"] != 88]"
   ]
  },
  {
   "cell_type": "code",
   "execution_count": null,
   "metadata": {},
   "outputs": [],
   "source": [
    "# plots geodataframe on mapbox map with hover.\n",
    "fig = px.choropleth_mapbox(inter_adm2, geojson=inter_adm2.geometry, locations=inter_adm2.index, color=\"CS\", hover_name=\"CS\", hover_data=[\"CS\"], center={\"lat\": 0, \"lon\": 0}, mapbox_style=\"carto-positron\", zoom=1, opacity=0.5)\n",
    "fig.update_layout(margin={\"r\":0,\"t\":0,\"l\":0,\"b\":0})\n",
    "fig.show()"
   ]
  },
  {
   "cell_type": "code",
   "execution_count": 15,
   "metadata": {},
   "outputs": [],
   "source": [
    "eminidf = minidf[minidf[\"CS\"] != 99]\n",
    "eminidf = eminidf[eminidf[\"CS\"] != 88]"
   ]
  },
  {
   "cell_type": "code",
   "execution_count": null,
   "metadata": {},
   "outputs": [],
   "source": [
    "# plots geodataframe on mapbox map with hover.\n",
    "fig = px.choropleth_mapbox(eminidf, geojson=eminidf.geometry, locations=eminidf.index, color=\"CS\", hover_name=\"CS\", hover_data=[\"CS\"], center={\"lat\": 0, \"lon\": 0}, mapbox_style=\"carto-positron\", zoom=1, opacity=0.5)\n",
    "fig.update_layout(margin={\"r\":0,\"t\":0,\"l\":0,\"b\":0})\n",
    "fig.show()"
   ]
  },
  {
   "cell_type": "code",
   "execution_count": 17,
   "metadata": {},
   "outputs": [
    {
     "name": "stderr",
     "output_type": "stream",
     "text": [
      "/opt/homebrew/Caskroom/miniforge/base/envs/geo/lib/python3.10/site-packages/geopandas/geodataframe.py:2352: UserWarning:\n",
      "\n",
      "`keep_geom_type=True` in overlay resulted in 262 dropped geometries of different geometry types than df1 has. Set `keep_geom_type=False` to retain all geometries\n",
      "\n"
     ]
    },
    {
     "data": {
      "text/html": [
       "<div>\n",
       "<style scoped>\n",
       "    .dataframe tbody tr th:only-of-type {\n",
       "        vertical-align: middle;\n",
       "    }\n",
       "\n",
       "    .dataframe tbody tr th {\n",
       "        vertical-align: top;\n",
       "    }\n",
       "\n",
       "    .dataframe thead th {\n",
       "        text-align: right;\n",
       "    }\n",
       "</style>\n",
       "<table border=\"1\" class=\"dataframe\">\n",
       "  <thead>\n",
       "    <tr style=\"text-align: right;\">\n",
       "      <th></th>\n",
       "      <th>OBJECTID</th>\n",
       "      <th>FNID</th>\n",
       "      <th>EFF_YEAR</th>\n",
       "      <th>COUNTRY</th>\n",
       "      <th>LZNUM</th>\n",
       "      <th>LZCODE</th>\n",
       "      <th>LZNAMEEN</th>\n",
       "      <th>LZNAMEFR</th>\n",
       "      <th>LZNAMESP</th>\n",
       "      <th>LZNAMEPT</th>\n",
       "      <th>CLASS</th>\n",
       "      <th>LZSZCODE</th>\n",
       "      <th>LZTYPE</th>\n",
       "      <th>MAINCROPS</th>\n",
       "      <th>MAINLSTOCK</th>\n",
       "      <th>CS</th>\n",
       "      <th>HA0</th>\n",
       "      <th>geometry</th>\n",
       "    </tr>\n",
       "  </thead>\n",
       "  <tbody>\n",
       "    <tr>\n",
       "      <th>0</th>\n",
       "      <td>61</td>\n",
       "      <td>CF2012L101</td>\n",
       "      <td>2012</td>\n",
       "      <td>CF</td>\n",
       "      <td>1</td>\n",
       "      <td>CF01</td>\n",
       "      <td>Southeast cassava, peanuts, and maize</td>\n",
       "      <td>Sud-est manioc, arachide et maïs</td>\n",
       "      <td>None</td>\n",
       "      <td>None</td>\n",
       "      <td>AG12</td>\n",
       "      <td>None</td>\n",
       "      <td>None</td>\n",
       "      <td>None</td>\n",
       "      <td>None</td>\n",
       "      <td>2.0</td>\n",
       "      <td>0.0</td>\n",
       "      <td>MULTIPOLYGON (((27.28350 5.58545, 27.28382 5.5...</td>\n",
       "    </tr>\n",
       "    <tr>\n",
       "      <th>1</th>\n",
       "      <td>62</td>\n",
       "      <td>CF2012L102</td>\n",
       "      <td>2012</td>\n",
       "      <td>CF</td>\n",
       "      <td>2</td>\n",
       "      <td>CF02</td>\n",
       "      <td>Northeast hunting and food crops</td>\n",
       "      <td>Nord-est chasse et vivriers</td>\n",
       "      <td>None</td>\n",
       "      <td>None</td>\n",
       "      <td>SH01</td>\n",
       "      <td>None</td>\n",
       "      <td>None</td>\n",
       "      <td>None</td>\n",
       "      <td>None</td>\n",
       "      <td>2.0</td>\n",
       "      <td>0.0</td>\n",
       "      <td>MULTIPOLYGON (((26.41443 6.64382, 26.41492 6.6...</td>\n",
       "    </tr>\n",
       "    <tr>\n",
       "      <th>2</th>\n",
       "      <td>208</td>\n",
       "      <td>YE2011L102</td>\n",
       "      <td>2011</td>\n",
       "      <td>YE</td>\n",
       "      <td>2</td>\n",
       "      <td>YE02</td>\n",
       "      <td>Arabian Sea Coastal Irrigated Tropical Fruit, ...</td>\n",
       "      <td>None</td>\n",
       "      <td>None</td>\n",
       "      <td>None</td>\n",
       "      <td>AG12</td>\n",
       "      <td>None</td>\n",
       "      <td>None</td>\n",
       "      <td>None</td>\n",
       "      <td>None</td>\n",
       "      <td>2.0</td>\n",
       "      <td>0.0</td>\n",
       "      <td>MULTIPOLYGON (((51.51797 15.32371, 51.48642 15...</td>\n",
       "    </tr>\n",
       "    <tr>\n",
       "      <th>3</th>\n",
       "      <td>209</td>\n",
       "      <td>YE2011L103</td>\n",
       "      <td>2011</td>\n",
       "      <td>YE</td>\n",
       "      <td>3</td>\n",
       "      <td>YE03</td>\n",
       "      <td>Central and Eastern Plateau Agro-Pastoral Zone</td>\n",
       "      <td>None</td>\n",
       "      <td>None</td>\n",
       "      <td>None</td>\n",
       "      <td>PS01</td>\n",
       "      <td>None</td>\n",
       "      <td>None</td>\n",
       "      <td>None</td>\n",
       "      <td>None</td>\n",
       "      <td>2.0</td>\n",
       "      <td>0.0</td>\n",
       "      <td>POLYGON ((50.46227 16.67516, 50.49524 16.68312...</td>\n",
       "    </tr>\n",
       "    <tr>\n",
       "      <th>4</th>\n",
       "      <td>210</td>\n",
       "      <td>YE2011L104</td>\n",
       "      <td>2011</td>\n",
       "      <td>YE</td>\n",
       "      <td>4</td>\n",
       "      <td>YE04</td>\n",
       "      <td>Central and Eastern Wadi Palm, Wheat, Vegetabl...</td>\n",
       "      <td>None</td>\n",
       "      <td>None</td>\n",
       "      <td>None</td>\n",
       "      <td>AG07</td>\n",
       "      <td>None</td>\n",
       "      <td>None</td>\n",
       "      <td>None</td>\n",
       "      <td>None</td>\n",
       "      <td>2.0</td>\n",
       "      <td>0.0</td>\n",
       "      <td>MULTIPOLYGON (((51.80822 16.37665, 51.86633 16...</td>\n",
       "    </tr>\n",
       "    <tr>\n",
       "      <th>...</th>\n",
       "      <td>...</td>\n",
       "      <td>...</td>\n",
       "      <td>...</td>\n",
       "      <td>...</td>\n",
       "      <td>...</td>\n",
       "      <td>...</td>\n",
       "      <td>...</td>\n",
       "      <td>...</td>\n",
       "      <td>...</td>\n",
       "      <td>...</td>\n",
       "      <td>...</td>\n",
       "      <td>...</td>\n",
       "      <td>...</td>\n",
       "      <td>...</td>\n",
       "      <td>...</td>\n",
       "      <td>...</td>\n",
       "      <td>...</td>\n",
       "      <td>...</td>\n",
       "    </tr>\n",
       "    <tr>\n",
       "      <th>787</th>\n",
       "      <td>357</td>\n",
       "      <td>SD2014L110</td>\n",
       "      <td>2014</td>\n",
       "      <td>SD</td>\n",
       "      <td>10</td>\n",
       "      <td>SD10</td>\n",
       "      <td>Southeast Rainfed Semi-mechanized Agriculture</td>\n",
       "      <td>None</td>\n",
       "      <td>None</td>\n",
       "      <td>None</td>\n",
       "      <td>AS05</td>\n",
       "      <td>None</td>\n",
       "      <td>None</td>\n",
       "      <td>None</td>\n",
       "      <td>None</td>\n",
       "      <td>1.0</td>\n",
       "      <td>1.0</td>\n",
       "      <td>MULTIPOLYGON (((34.42941 11.82007, 34.41612 11...</td>\n",
       "    </tr>\n",
       "    <tr>\n",
       "      <th>788</th>\n",
       "      <td>735</td>\n",
       "      <td>KE2011L109</td>\n",
       "      <td>2011</td>\n",
       "      <td>KE</td>\n",
       "      <td>9</td>\n",
       "      <td>KE09</td>\n",
       "      <td>Northeastern Pastoral Zone</td>\n",
       "      <td>None</td>\n",
       "      <td>None</td>\n",
       "      <td>None</td>\n",
       "      <td>PS04</td>\n",
       "      <td>None</td>\n",
       "      <td>None</td>\n",
       "      <td>None</td>\n",
       "      <td>None</td>\n",
       "      <td>1.0</td>\n",
       "      <td>1.0</td>\n",
       "      <td>MULTIPOLYGON (((41.84475 3.89184, 41.83959 3.8...</td>\n",
       "    </tr>\n",
       "    <tr>\n",
       "      <th>789</th>\n",
       "      <td>736</td>\n",
       "      <td>KE2011L108</td>\n",
       "      <td>2011</td>\n",
       "      <td>KE</td>\n",
       "      <td>8</td>\n",
       "      <td>KE08</td>\n",
       "      <td>Mandera Riverine Zone</td>\n",
       "      <td>None</td>\n",
       "      <td>None</td>\n",
       "      <td>None</td>\n",
       "      <td>FS04</td>\n",
       "      <td>None</td>\n",
       "      <td>None</td>\n",
       "      <td>None</td>\n",
       "      <td>None</td>\n",
       "      <td>1.0</td>\n",
       "      <td>1.0</td>\n",
       "      <td>MULTIPOLYGON (((41.86256 3.91714, 41.86169 3.9...</td>\n",
       "    </tr>\n",
       "    <tr>\n",
       "      <th>790</th>\n",
       "      <td>737</td>\n",
       "      <td>KE2011L110</td>\n",
       "      <td>2011</td>\n",
       "      <td>KE</td>\n",
       "      <td>10</td>\n",
       "      <td>KE10</td>\n",
       "      <td>Eastern Pastoral Zone</td>\n",
       "      <td>None</td>\n",
       "      <td>None</td>\n",
       "      <td>None</td>\n",
       "      <td>SH01</td>\n",
       "      <td>None</td>\n",
       "      <td>None</td>\n",
       "      <td>None</td>\n",
       "      <td>None</td>\n",
       "      <td>1.0</td>\n",
       "      <td>1.0</td>\n",
       "      <td>MULTIPOLYGON (((40.99180 1.61920, 40.99151 1.5...</td>\n",
       "    </tr>\n",
       "    <tr>\n",
       "      <th>791</th>\n",
       "      <td>0</td>\n",
       "      <td>ET2018L1146</td>\n",
       "      <td>2018</td>\n",
       "      <td>ET</td>\n",
       "      <td>146</td>\n",
       "      <td>ET146</td>\n",
       "      <td>Afder Pastoral</td>\n",
       "      <td>None</td>\n",
       "      <td>None</td>\n",
       "      <td>None</td>\n",
       "      <td>SH01</td>\n",
       "      <td>None</td>\n",
       "      <td>Pastoral</td>\n",
       "      <td>None</td>\n",
       "      <td>camels &amp; cattle</td>\n",
       "      <td>1.0</td>\n",
       "      <td>1.0</td>\n",
       "      <td>MULTIPOLYGON (((44.58756 4.93498, 44.39931 4.9...</td>\n",
       "    </tr>\n",
       "  </tbody>\n",
       "</table>\n",
       "<p>750 rows × 18 columns</p>\n",
       "</div>"
      ],
      "text/plain": [
       "     OBJECTID         FNID  EFF_YEAR COUNTRY  LZNUM LZCODE  \\\n",
       "0          61   CF2012L101      2012      CF      1   CF01   \n",
       "1          62   CF2012L102      2012      CF      2   CF02   \n",
       "2         208   YE2011L102      2011      YE      2   YE02   \n",
       "3         209   YE2011L103      2011      YE      3   YE03   \n",
       "4         210   YE2011L104      2011      YE      4   YE04   \n",
       "..        ...          ...       ...     ...    ...    ...   \n",
       "787       357   SD2014L110      2014      SD     10   SD10   \n",
       "788       735   KE2011L109      2011      KE      9   KE09   \n",
       "789       736   KE2011L108      2011      KE      8   KE08   \n",
       "790       737   KE2011L110      2011      KE     10   KE10   \n",
       "791         0  ET2018L1146      2018      ET    146  ET146   \n",
       "\n",
       "                                              LZNAMEEN  \\\n",
       "0                Southeast cassava, peanuts, and maize   \n",
       "1                     Northeast hunting and food crops   \n",
       "2    Arabian Sea Coastal Irrigated Tropical Fruit, ...   \n",
       "3       Central and Eastern Plateau Agro-Pastoral Zone   \n",
       "4    Central and Eastern Wadi Palm, Wheat, Vegetabl...   \n",
       "..                                                 ...   \n",
       "787      Southeast Rainfed Semi-mechanized Agriculture   \n",
       "788                         Northeastern Pastoral Zone   \n",
       "789                              Mandera Riverine Zone   \n",
       "790                              Eastern Pastoral Zone   \n",
       "791                                     Afder Pastoral   \n",
       "\n",
       "                             LZNAMEFR LZNAMESP LZNAMEPT CLASS LZSZCODE  \\\n",
       "0    Sud-est manioc, arachide et maïs     None     None  AG12     None   \n",
       "1         Nord-est chasse et vivriers     None     None  SH01     None   \n",
       "2                                None     None     None  AG12     None   \n",
       "3                                None     None     None  PS01     None   \n",
       "4                                None     None     None  AG07     None   \n",
       "..                                ...      ...      ...   ...      ...   \n",
       "787                              None     None     None  AS05     None   \n",
       "788                              None     None     None  PS04     None   \n",
       "789                              None     None     None  FS04     None   \n",
       "790                              None     None     None  SH01     None   \n",
       "791                              None     None     None  SH01     None   \n",
       "\n",
       "       LZTYPE MAINCROPS       MAINLSTOCK   CS  HA0  \\\n",
       "0        None      None             None  2.0  0.0   \n",
       "1        None      None             None  2.0  0.0   \n",
       "2        None      None             None  2.0  0.0   \n",
       "3        None      None             None  2.0  0.0   \n",
       "4        None      None             None  2.0  0.0   \n",
       "..        ...       ...              ...  ...  ...   \n",
       "787      None      None             None  1.0  1.0   \n",
       "788      None      None             None  1.0  1.0   \n",
       "789      None      None             None  1.0  1.0   \n",
       "790      None      None             None  1.0  1.0   \n",
       "791  Pastoral      None  camels & cattle  1.0  1.0   \n",
       "\n",
       "                                              geometry  \n",
       "0    MULTIPOLYGON (((27.28350 5.58545, 27.28382 5.5...  \n",
       "1    MULTIPOLYGON (((26.41443 6.64382, 26.41492 6.6...  \n",
       "2    MULTIPOLYGON (((51.51797 15.32371, 51.48642 15...  \n",
       "3    POLYGON ((50.46227 16.67516, 50.49524 16.68312...  \n",
       "4    MULTIPOLYGON (((51.80822 16.37665, 51.86633 16...  \n",
       "..                                                 ...  \n",
       "787  MULTIPOLYGON (((34.42941 11.82007, 34.41612 11...  \n",
       "788  MULTIPOLYGON (((41.84475 3.89184, 41.83959 3.8...  \n",
       "789  MULTIPOLYGON (((41.86256 3.91714, 41.86169 3.9...  \n",
       "790  MULTIPOLYGON (((40.99180 1.61920, 40.99151 1.5...  \n",
       "791  MULTIPOLYGON (((44.58756 4.93498, 44.39931 4.9...  \n",
       "\n",
       "[750 rows x 18 columns]"
      ]
     },
     "execution_count": 17,
     "metadata": {},
     "output_type": "execute_result"
    }
   ],
   "source": [
    "inter_lhz = lhz.overlay(minidf, how='intersection')\n",
    "# Getting rid of 88 and 99 values\n",
    "inter_lhz = inter_lhz[inter_lhz[\"CS\"] != 99]\n",
    "inter_lhz = inter_lhz[inter_lhz[\"CS\"] != 88]\n",
    "inter_lhz"
   ]
  },
  {
   "cell_type": "code",
   "execution_count": null,
   "metadata": {},
   "outputs": [],
   "source": [
    "# plots geodataframe on mapbox map with hover.\n",
    "fig = px.choropleth_mapbox(inter_lhz, geojson=inter_lhz.geometry, locations=inter_lhz.index, color=\"CS\", hover_name=\"CS\", hover_data=[\"CS\"], center={\"lat\": 0, \"lon\": 0}, mapbox_style=\"carto-positron\", zoom=1, opacity=0.5)\n",
    "fig.update_layout(margin={\"r\":0,\"t\":0,\"l\":0,\"b\":0})\n",
    "fig.show()"
   ]
  },
  {
   "cell_type": "code",
   "execution_count": 13,
   "metadata": {},
   "outputs": [],
   "source": [
    "# # plotting mini df\n",
    "# fig = px.choropleth_mapbox(scratch, geojson=scratch.geometry, locations=scratch.index, color=\"CS\", hover_name=\"CS\", hover_data=[\"CS\"], center={\"lat\": 0, \"lon\": 0}, mapbox_style=\"carto-positron\", zoom=1, opacity=0.5)\n",
    "# fig.update_layout(margin={\"r\":0,\"t\":0,\"l\":0,\"b\":0})\n",
    "# fig.show()"
   ]
  },
  {
   "cell_type": "code",
   "execution_count": 14,
   "metadata": {},
   "outputs": [
    {
     "name": "stderr",
     "output_type": "stream",
     "text": [
      "/opt/homebrew/Caskroom/miniforge/base/envs/geo/lib/python3.10/site-packages/geopandas/geodataframe.py:1428: UserWarning: Boolean Series key will be reindexed to match DataFrame index.\n",
      "  result = super().__getitem__(key)\n"
     ]
    }
   ],
   "source": [
    "eminidf = minidf\n",
    "eminidf = eminidf[minidf[\"CS\"] != 99]\n",
    "eminidf = eminidf[minidf[\"CS\"] != 88]"
   ]
  },
  {
   "cell_type": "code",
   "execution_count": 15,
   "metadata": {},
   "outputs": [
    {
     "name": "stdout",
     "output_type": "stream",
     "text": [
      "4.0\n"
     ]
    }
   ],
   "source": [
    "# print maximum value of scratch\n",
    "print(scratch[\"CS\"].max())\n"
   ]
  },
  {
   "cell_type": "code",
   "execution_count": 16,
   "metadata": {},
   "outputs": [],
   "source": [
    "# # plots geodataframe on mapbox map with hover.\n",
    "# fig = px.choropleth_mapbox(eminidf, geojson=eminidf.geometry, locations=eminidf.index, color=\"CS\", hover_name=\"CS\", hover_data=[\"CS\"], center={\"lat\": 0, \"lon\": 0}, mapbox_style=\"carto-positron\", zoom=1, opacity=0.5)\n",
    "# fig.update_layout(margin={\"r\":0,\"t\":0,\"l\":0,\"b\":0})\n",
    "# fig.show()"
   ]
  },
  {
   "cell_type": "code",
   "execution_count": 17,
   "metadata": {},
   "outputs": [
    {
     "data": {
      "text/html": [
       "<div>\n",
       "<style scoped>\n",
       "    .dataframe tbody tr th:only-of-type {\n",
       "        vertical-align: middle;\n",
       "    }\n",
       "\n",
       "    .dataframe tbody tr th {\n",
       "        vertical-align: top;\n",
       "    }\n",
       "\n",
       "    .dataframe thead th {\n",
       "        text-align: right;\n",
       "    }\n",
       "</style>\n",
       "<table border=\"1\" class=\"dataframe\">\n",
       "  <thead>\n",
       "    <tr style=\"text-align: right;\">\n",
       "      <th></th>\n",
       "      <th>OBJECTID</th>\n",
       "      <th>FNID</th>\n",
       "      <th>EFF_YEAR</th>\n",
       "      <th>COUNTRY</th>\n",
       "      <th>LZNUM</th>\n",
       "      <th>LZCODE</th>\n",
       "      <th>LZNAMEEN</th>\n",
       "      <th>LZNAMEFR</th>\n",
       "      <th>LZNAMESP</th>\n",
       "      <th>LZNAMEPT</th>\n",
       "      <th>CLASS</th>\n",
       "      <th>LZSZCODE</th>\n",
       "      <th>LZTYPE</th>\n",
       "      <th>MAINCROPS</th>\n",
       "      <th>MAINLSTOCK</th>\n",
       "      <th>geometry</th>\n",
       "      <th>index_right</th>\n",
       "      <th>CS</th>\n",
       "      <th>HA0</th>\n",
       "    </tr>\n",
       "  </thead>\n",
       "  <tbody>\n",
       "    <tr>\n",
       "      <th>31</th>\n",
       "      <td>61</td>\n",
       "      <td>CF2012L101</td>\n",
       "      <td>2012</td>\n",
       "      <td>CF</td>\n",
       "      <td>1</td>\n",
       "      <td>CF01</td>\n",
       "      <td>Southeast cassava, peanuts, and maize</td>\n",
       "      <td>Sud-est manioc, arachide et maïs</td>\n",
       "      <td>None</td>\n",
       "      <td>None</td>\n",
       "      <td>AG12</td>\n",
       "      <td>None</td>\n",
       "      <td>None</td>\n",
       "      <td>None</td>\n",
       "      <td>None</td>\n",
       "      <td>POLYGON ((26.48070 6.22050, 26.48873 6.21450, ...</td>\n",
       "      <td>2.0</td>\n",
       "      <td>2.0</td>\n",
       "      <td>0.0</td>\n",
       "    </tr>\n",
       "    <tr>\n",
       "      <th>31</th>\n",
       "      <td>61</td>\n",
       "      <td>CF2012L101</td>\n",
       "      <td>2012</td>\n",
       "      <td>CF</td>\n",
       "      <td>1</td>\n",
       "      <td>CF01</td>\n",
       "      <td>Southeast cassava, peanuts, and maize</td>\n",
       "      <td>Sud-est manioc, arachide et maïs</td>\n",
       "      <td>None</td>\n",
       "      <td>None</td>\n",
       "      <td>AG12</td>\n",
       "      <td>None</td>\n",
       "      <td>None</td>\n",
       "      <td>None</td>\n",
       "      <td>None</td>\n",
       "      <td>POLYGON ((26.48070 6.22050, 26.48873 6.21450, ...</td>\n",
       "      <td>4.0</td>\n",
       "      <td>3.0</td>\n",
       "      <td>0.0</td>\n",
       "    </tr>\n",
       "    <tr>\n",
       "      <th>32</th>\n",
       "      <td>62</td>\n",
       "      <td>CF2012L102</td>\n",
       "      <td>2012</td>\n",
       "      <td>CF</td>\n",
       "      <td>2</td>\n",
       "      <td>CF02</td>\n",
       "      <td>Northeast hunting and food crops</td>\n",
       "      <td>Nord-est chasse et vivriers</td>\n",
       "      <td>None</td>\n",
       "      <td>None</td>\n",
       "      <td>SH01</td>\n",
       "      <td>None</td>\n",
       "      <td>None</td>\n",
       "      <td>None</td>\n",
       "      <td>None</td>\n",
       "      <td>POLYGON ((23.63402 9.46908, 23.64386 9.44569, ...</td>\n",
       "      <td>6.0</td>\n",
       "      <td>4.0</td>\n",
       "      <td>0.0</td>\n",
       "    </tr>\n",
       "    <tr>\n",
       "      <th>32</th>\n",
       "      <td>62</td>\n",
       "      <td>CF2012L102</td>\n",
       "      <td>2012</td>\n",
       "      <td>CF</td>\n",
       "      <td>2</td>\n",
       "      <td>CF02</td>\n",
       "      <td>Northeast hunting and food crops</td>\n",
       "      <td>Nord-est chasse et vivriers</td>\n",
       "      <td>None</td>\n",
       "      <td>None</td>\n",
       "      <td>SH01</td>\n",
       "      <td>None</td>\n",
       "      <td>None</td>\n",
       "      <td>None</td>\n",
       "      <td>None</td>\n",
       "      <td>POLYGON ((23.63402 9.46908, 23.64386 9.44569, ...</td>\n",
       "      <td>0.0</td>\n",
       "      <td>1.0</td>\n",
       "      <td>0.0</td>\n",
       "    </tr>\n",
       "    <tr>\n",
       "      <th>32</th>\n",
       "      <td>62</td>\n",
       "      <td>CF2012L102</td>\n",
       "      <td>2012</td>\n",
       "      <td>CF</td>\n",
       "      <td>2</td>\n",
       "      <td>CF02</td>\n",
       "      <td>Northeast hunting and food crops</td>\n",
       "      <td>Nord-est chasse et vivriers</td>\n",
       "      <td>None</td>\n",
       "      <td>None</td>\n",
       "      <td>SH01</td>\n",
       "      <td>None</td>\n",
       "      <td>None</td>\n",
       "      <td>None</td>\n",
       "      <td>None</td>\n",
       "      <td>POLYGON ((23.63402 9.46908, 23.64386 9.44569, ...</td>\n",
       "      <td>2.0</td>\n",
       "      <td>2.0</td>\n",
       "      <td>0.0</td>\n",
       "    </tr>\n",
       "    <tr>\n",
       "      <th>...</th>\n",
       "      <td>...</td>\n",
       "      <td>...</td>\n",
       "      <td>...</td>\n",
       "      <td>...</td>\n",
       "      <td>...</td>\n",
       "      <td>...</td>\n",
       "      <td>...</td>\n",
       "      <td>...</td>\n",
       "      <td>...</td>\n",
       "      <td>...</td>\n",
       "      <td>...</td>\n",
       "      <td>...</td>\n",
       "      <td>...</td>\n",
       "      <td>...</td>\n",
       "      <td>...</td>\n",
       "      <td>...</td>\n",
       "      <td>...</td>\n",
       "      <td>...</td>\n",
       "      <td>...</td>\n",
       "    </tr>\n",
       "    <tr>\n",
       "      <th>857</th>\n",
       "      <td>0</td>\n",
       "      <td>TD2021L106</td>\n",
       "      <td>2021</td>\n",
       "      <td>TD</td>\n",
       "      <td>6</td>\n",
       "      <td>TD06</td>\n",
       "      <td>Eastern Rainfed Cereals and Market Gardening</td>\n",
       "      <td>Zone est: céréales pluviales et maraïchage</td>\n",
       "      <td>None</td>\n",
       "      <td>None</td>\n",
       "      <td>AG10</td>\n",
       "      <td>None</td>\n",
       "      <td>None</td>\n",
       "      <td>None</td>\n",
       "      <td>None</td>\n",
       "      <td>POLYGON ((22.94006 15.10751, 22.92099 15.09343...</td>\n",
       "      <td>3.0</td>\n",
       "      <td>2.0</td>\n",
       "      <td>1.0</td>\n",
       "    </tr>\n",
       "    <tr>\n",
       "      <th>857</th>\n",
       "      <td>0</td>\n",
       "      <td>TD2021L106</td>\n",
       "      <td>2021</td>\n",
       "      <td>TD</td>\n",
       "      <td>6</td>\n",
       "      <td>TD06</td>\n",
       "      <td>Eastern Rainfed Cereals and Market Gardening</td>\n",
       "      <td>Zone est: céréales pluviales et maraïchage</td>\n",
       "      <td>None</td>\n",
       "      <td>None</td>\n",
       "      <td>AG10</td>\n",
       "      <td>None</td>\n",
       "      <td>None</td>\n",
       "      <td>None</td>\n",
       "      <td>None</td>\n",
       "      <td>POLYGON ((22.94006 15.10751, 22.92099 15.09343...</td>\n",
       "      <td>2.0</td>\n",
       "      <td>2.0</td>\n",
       "      <td>0.0</td>\n",
       "    </tr>\n",
       "    <tr>\n",
       "      <th>860</th>\n",
       "      <td>0</td>\n",
       "      <td>TD2021L104</td>\n",
       "      <td>2021</td>\n",
       "      <td>TD</td>\n",
       "      <td>4</td>\n",
       "      <td>TD04</td>\n",
       "      <td>Southeast Flood Retreat and Gum Arabic</td>\n",
       "      <td>Zone sud-est: cultures de décrue et gomme arab...</td>\n",
       "      <td>None</td>\n",
       "      <td>None</td>\n",
       "      <td>AN01</td>\n",
       "      <td>None</td>\n",
       "      <td>None</td>\n",
       "      <td>None</td>\n",
       "      <td>None</td>\n",
       "      <td>POLYGON ((22.47709 12.01926, 22.47845 12.01923...</td>\n",
       "      <td>0.0</td>\n",
       "      <td>1.0</td>\n",
       "      <td>0.0</td>\n",
       "    </tr>\n",
       "    <tr>\n",
       "      <th>860</th>\n",
       "      <td>0</td>\n",
       "      <td>TD2021L104</td>\n",
       "      <td>2021</td>\n",
       "      <td>TD</td>\n",
       "      <td>4</td>\n",
       "      <td>TD04</td>\n",
       "      <td>Southeast Flood Retreat and Gum Arabic</td>\n",
       "      <td>Zone sud-est: cultures de décrue et gomme arab...</td>\n",
       "      <td>None</td>\n",
       "      <td>None</td>\n",
       "      <td>AN01</td>\n",
       "      <td>None</td>\n",
       "      <td>None</td>\n",
       "      <td>None</td>\n",
       "      <td>None</td>\n",
       "      <td>POLYGON ((22.47709 12.01926, 22.47845 12.01923...</td>\n",
       "      <td>3.0</td>\n",
       "      <td>2.0</td>\n",
       "      <td>1.0</td>\n",
       "    </tr>\n",
       "    <tr>\n",
       "      <th>864</th>\n",
       "      <td>0</td>\n",
       "      <td>TD2021L107</td>\n",
       "      <td>2021</td>\n",
       "      <td>TD</td>\n",
       "      <td>7</td>\n",
       "      <td>TD07</td>\n",
       "      <td>Transhumance</td>\n",
       "      <td>Zone de transhumance</td>\n",
       "      <td>None</td>\n",
       "      <td>None</td>\n",
       "      <td>SH02</td>\n",
       "      <td>None</td>\n",
       "      <td>None</td>\n",
       "      <td>None</td>\n",
       "      <td>None</td>\n",
       "      <td>POLYGON ((16.41169 15.10599, 16.56397 15.01558...</td>\n",
       "      <td>2.0</td>\n",
       "      <td>2.0</td>\n",
       "      <td>0.0</td>\n",
       "    </tr>\n",
       "  </tbody>\n",
       "</table>\n",
       "<p>793 rows × 19 columns</p>\n",
       "</div>"
      ],
      "text/plain": [
       "     OBJECTID        FNID  EFF_YEAR COUNTRY  LZNUM LZCODE  \\\n",
       "31         61  CF2012L101      2012      CF      1   CF01   \n",
       "31         61  CF2012L101      2012      CF      1   CF01   \n",
       "32         62  CF2012L102      2012      CF      2   CF02   \n",
       "32         62  CF2012L102      2012      CF      2   CF02   \n",
       "32         62  CF2012L102      2012      CF      2   CF02   \n",
       "..        ...         ...       ...     ...    ...    ...   \n",
       "857         0  TD2021L106      2021      TD      6   TD06   \n",
       "857         0  TD2021L106      2021      TD      6   TD06   \n",
       "860         0  TD2021L104      2021      TD      4   TD04   \n",
       "860         0  TD2021L104      2021      TD      4   TD04   \n",
       "864         0  TD2021L107      2021      TD      7   TD07   \n",
       "\n",
       "                                         LZNAMEEN  \\\n",
       "31          Southeast cassava, peanuts, and maize   \n",
       "31          Southeast cassava, peanuts, and maize   \n",
       "32               Northeast hunting and food crops   \n",
       "32               Northeast hunting and food crops   \n",
       "32               Northeast hunting and food crops   \n",
       "..                                            ...   \n",
       "857  Eastern Rainfed Cereals and Market Gardening   \n",
       "857  Eastern Rainfed Cereals and Market Gardening   \n",
       "860        Southeast Flood Retreat and Gum Arabic   \n",
       "860        Southeast Flood Retreat and Gum Arabic   \n",
       "864                                  Transhumance   \n",
       "\n",
       "                                              LZNAMEFR LZNAMESP LZNAMEPT  \\\n",
       "31                    Sud-est manioc, arachide et maïs     None     None   \n",
       "31                    Sud-est manioc, arachide et maïs     None     None   \n",
       "32                         Nord-est chasse et vivriers     None     None   \n",
       "32                         Nord-est chasse et vivriers     None     None   \n",
       "32                         Nord-est chasse et vivriers     None     None   \n",
       "..                                                 ...      ...      ...   \n",
       "857         Zone est: céréales pluviales et maraïchage     None     None   \n",
       "857         Zone est: céréales pluviales et maraïchage     None     None   \n",
       "860  Zone sud-est: cultures de décrue et gomme arab...     None     None   \n",
       "860  Zone sud-est: cultures de décrue et gomme arab...     None     None   \n",
       "864                               Zone de transhumance     None     None   \n",
       "\n",
       "    CLASS LZSZCODE LZTYPE MAINCROPS MAINLSTOCK  \\\n",
       "31   AG12     None   None      None       None   \n",
       "31   AG12     None   None      None       None   \n",
       "32   SH01     None   None      None       None   \n",
       "32   SH01     None   None      None       None   \n",
       "32   SH01     None   None      None       None   \n",
       "..    ...      ...    ...       ...        ...   \n",
       "857  AG10     None   None      None       None   \n",
       "857  AG10     None   None      None       None   \n",
       "860  AN01     None   None      None       None   \n",
       "860  AN01     None   None      None       None   \n",
       "864  SH02     None   None      None       None   \n",
       "\n",
       "                                              geometry  index_right   CS  HA0  \n",
       "31   POLYGON ((26.48070 6.22050, 26.48873 6.21450, ...          2.0  2.0  0.0  \n",
       "31   POLYGON ((26.48070 6.22050, 26.48873 6.21450, ...          4.0  3.0  0.0  \n",
       "32   POLYGON ((23.63402 9.46908, 23.64386 9.44569, ...          6.0  4.0  0.0  \n",
       "32   POLYGON ((23.63402 9.46908, 23.64386 9.44569, ...          0.0  1.0  0.0  \n",
       "32   POLYGON ((23.63402 9.46908, 23.64386 9.44569, ...          2.0  2.0  0.0  \n",
       "..                                                 ...          ...  ...  ...  \n",
       "857  POLYGON ((22.94006 15.10751, 22.92099 15.09343...          3.0  2.0  1.0  \n",
       "857  POLYGON ((22.94006 15.10751, 22.92099 15.09343...          2.0  2.0  0.0  \n",
       "860  POLYGON ((22.47709 12.01926, 22.47845 12.01923...          0.0  1.0  0.0  \n",
       "860  POLYGON ((22.47709 12.01926, 22.47845 12.01923...          3.0  2.0  1.0  \n",
       "864  POLYGON ((16.41169 15.10599, 16.56397 15.01558...          2.0  2.0  0.0  \n",
       "\n",
       "[793 rows x 19 columns]"
      ]
     },
     "execution_count": 17,
     "metadata": {},
     "output_type": "execute_result"
    }
   ],
   "source": [
    "# sort join_left_df by CS\n",
    "lhz_join_full = lhz.sjoin(minidf, how=\"left\")\n",
    "lhz_join = lhz_join_full[lhz_join_full[\"CS\"].notnull()]\n",
    "lhz_join"
   ]
  },
  {
   "cell_type": "code",
   "execution_count": 18,
   "metadata": {},
   "outputs": [],
   "source": [
    "# drop columns of df that CS column value is 99\n",
    "lhz_join = lhz_join[lhz_join[\"CS\"] != 99]\n",
    "lhz_join = lhz_join[lhz_join[\"CS\"] != 88]"
   ]
  },
  {
   "cell_type": "code",
   "execution_count": 19,
   "metadata": {},
   "outputs": [],
   "source": [
    "# # plots geodataframe on mapbox map with hover.\n",
    "# fig = px.choropleth_mapbox(lhz_join, geojson=lhz_join.geometry, locations=lhz_join.index, color=\"CS\", hover_name=\"CS\", hover_data=[\"CS\"], center={\"lat\": 0, \"lon\": 0}, mapbox_style=\"carto-positron\", zoom=1, opacity=0.5)\n",
    "# fig.update_layout(margin={\"r\":0,\"t\":0,\"l\":0,\"b\":0})\n",
    "# fig.show()"
   ]
  },
  {
   "cell_type": "code",
   "execution_count": 20,
   "metadata": {},
   "outputs": [
    {
     "name": "stderr",
     "output_type": "stream",
     "text": [
      "/var/folders/3v/8xxt4zw96bn2l6qwb8w7_5r40000gn/T/ipykernel_86459/1639181881.py:2: UserWarning: Column names longer than 10 characters will be truncated when saved to ESRI Shapefile.\n",
      "  lhz_join.to_file(\"./data/join_experiments/lhz.shp\")\n",
      "/var/folders/3v/8xxt4zw96bn2l6qwb8w7_5r40000gn/T/ipykernel_86459/1639181881.py:3: UserWarning: Column names longer than 10 characters will be truncated when saved to ESRI Shapefile.\n",
      "  scratch.to_file(\"./data/join_experiments/adm2.shp\")\n"
     ]
    }
   ],
   "source": [
    "# save lhz_join to shapefile\n",
    "lhz_join.to_file(\"./data/join_experiments/lhz.shp\")\n",
    "scratch.to_file(\"./data/join_experiments/adm2.shp\")\n",
    "eminidf.to_file(\"./data/join_experiments/original.shp\")\n"
   ]
  },
  {
   "cell_type": "code",
   "execution_count": 19,
   "metadata": {},
   "outputs": [
    {
     "data": {
      "text/html": [
       "<div>\n",
       "<style scoped>\n",
       "    .dataframe tbody tr th:only-of-type {\n",
       "        vertical-align: middle;\n",
       "    }\n",
       "\n",
       "    .dataframe tbody tr th {\n",
       "        vertical-align: top;\n",
       "    }\n",
       "\n",
       "    .dataframe thead th {\n",
       "        text-align: right;\n",
       "    }\n",
       "</style>\n",
       "<table border=\"1\" class=\"dataframe\">\n",
       "  <thead>\n",
       "    <tr style=\"text-align: right;\">\n",
       "      <th></th>\n",
       "      <th>OBJECTID</th>\n",
       "      <th>FNID</th>\n",
       "      <th>EFF_YEAR</th>\n",
       "      <th>COUNTRY</th>\n",
       "      <th>LZNUM</th>\n",
       "      <th>LZCODE</th>\n",
       "      <th>LZNAMEEN</th>\n",
       "      <th>LZNAMEFR</th>\n",
       "      <th>LZNAMESP</th>\n",
       "      <th>LZNAMEPT</th>\n",
       "      <th>CLASS</th>\n",
       "      <th>LZSZCODE</th>\n",
       "      <th>LZTYPE</th>\n",
       "      <th>MAINCROPS</th>\n",
       "      <th>MAINLSTOCK</th>\n",
       "      <th>geometry</th>\n",
       "      <th>CS</th>\n",
       "    </tr>\n",
       "  </thead>\n",
       "  <tbody>\n",
       "    <tr>\n",
       "      <th>600</th>\n",
       "      <td>791</td>\n",
       "      <td>SS2018L107</td>\n",
       "      <td>2018</td>\n",
       "      <td>SS</td>\n",
       "      <td>7</td>\n",
       "      <td>SS07</td>\n",
       "      <td>Greater Bahr el Ghazal sorghum and cattle</td>\n",
       "      <td>None</td>\n",
       "      <td>None</td>\n",
       "      <td>None</td>\n",
       "      <td>AS05</td>\n",
       "      <td>None</td>\n",
       "      <td>None</td>\n",
       "      <td>None</td>\n",
       "      <td>None</td>\n",
       "      <td>POLYGON ((29.00037 9.67023, 29.00037 9.67023, ...</td>\n",
       "      <td>2.0</td>\n",
       "    </tr>\n",
       "    <tr>\n",
       "      <th>601</th>\n",
       "      <td>791</td>\n",
       "      <td>SS2018L107</td>\n",
       "      <td>2018</td>\n",
       "      <td>SS</td>\n",
       "      <td>7</td>\n",
       "      <td>SS07</td>\n",
       "      <td>Greater Bahr el Ghazal sorghum and cattle</td>\n",
       "      <td>None</td>\n",
       "      <td>None</td>\n",
       "      <td>None</td>\n",
       "      <td>AS05</td>\n",
       "      <td>None</td>\n",
       "      <td>None</td>\n",
       "      <td>None</td>\n",
       "      <td>None</td>\n",
       "      <td>POLYGON ((29.00037 9.67023, 29.00037 9.67023, ...</td>\n",
       "      <td>3.0</td>\n",
       "    </tr>\n",
       "    <tr>\n",
       "      <th>602</th>\n",
       "      <td>791</td>\n",
       "      <td>SS2018L107</td>\n",
       "      <td>2018</td>\n",
       "      <td>SS</td>\n",
       "      <td>7</td>\n",
       "      <td>SS07</td>\n",
       "      <td>Greater Bahr el Ghazal sorghum and cattle</td>\n",
       "      <td>None</td>\n",
       "      <td>None</td>\n",
       "      <td>None</td>\n",
       "      <td>AS05</td>\n",
       "      <td>None</td>\n",
       "      <td>None</td>\n",
       "      <td>None</td>\n",
       "      <td>None</td>\n",
       "      <td>POLYGON ((29.00037 9.67023, 29.00037 9.67023, ...</td>\n",
       "      <td>1.0</td>\n",
       "    </tr>\n",
       "    <tr>\n",
       "      <th>603</th>\n",
       "      <td>791</td>\n",
       "      <td>SS2018L107</td>\n",
       "      <td>2018</td>\n",
       "      <td>SS</td>\n",
       "      <td>7</td>\n",
       "      <td>SS07</td>\n",
       "      <td>Greater Bahr el Ghazal sorghum and cattle</td>\n",
       "      <td>None</td>\n",
       "      <td>None</td>\n",
       "      <td>None</td>\n",
       "      <td>AS05</td>\n",
       "      <td>None</td>\n",
       "      <td>None</td>\n",
       "      <td>None</td>\n",
       "      <td>None</td>\n",
       "      <td>POLYGON ((29.00037 9.67023, 29.00037 9.67023, ...</td>\n",
       "      <td>4.0</td>\n",
       "    </tr>\n",
       "    <tr>\n",
       "      <th>604</th>\n",
       "      <td>791</td>\n",
       "      <td>SS2018L107</td>\n",
       "      <td>2018</td>\n",
       "      <td>SS</td>\n",
       "      <td>7</td>\n",
       "      <td>SS07</td>\n",
       "      <td>Greater Bahr el Ghazal sorghum and cattle</td>\n",
       "      <td>None</td>\n",
       "      <td>None</td>\n",
       "      <td>None</td>\n",
       "      <td>AS05</td>\n",
       "      <td>None</td>\n",
       "      <td>None</td>\n",
       "      <td>None</td>\n",
       "      <td>None</td>\n",
       "      <td>POLYGON ((29.00037 9.67023, 29.00037 9.67023, ...</td>\n",
       "      <td>3.0</td>\n",
       "    </tr>\n",
       "    <tr>\n",
       "      <th>605</th>\n",
       "      <td>791</td>\n",
       "      <td>SS2018L107</td>\n",
       "      <td>2018</td>\n",
       "      <td>SS</td>\n",
       "      <td>7</td>\n",
       "      <td>SS07</td>\n",
       "      <td>Greater Bahr el Ghazal sorghum and cattle</td>\n",
       "      <td>None</td>\n",
       "      <td>None</td>\n",
       "      <td>None</td>\n",
       "      <td>AS05</td>\n",
       "      <td>None</td>\n",
       "      <td>None</td>\n",
       "      <td>None</td>\n",
       "      <td>None</td>\n",
       "      <td>POLYGON ((29.00037 9.67023, 29.00037 9.67023, ...</td>\n",
       "      <td>2.0</td>\n",
       "    </tr>\n",
       "  </tbody>\n",
       "</table>\n",
       "</div>"
      ],
      "text/plain": [
       "     OBJECTID        FNID  EFF_YEAR COUNTRY  LZNUM LZCODE  \\\n",
       "600       791  SS2018L107      2018      SS      7   SS07   \n",
       "601       791  SS2018L107      2018      SS      7   SS07   \n",
       "602       791  SS2018L107      2018      SS      7   SS07   \n",
       "603       791  SS2018L107      2018      SS      7   SS07   \n",
       "604       791  SS2018L107      2018      SS      7   SS07   \n",
       "605       791  SS2018L107      2018      SS      7   SS07   \n",
       "\n",
       "                                      LZNAMEEN LZNAMEFR LZNAMESP LZNAMEPT  \\\n",
       "600  Greater Bahr el Ghazal sorghum and cattle     None     None     None   \n",
       "601  Greater Bahr el Ghazal sorghum and cattle     None     None     None   \n",
       "602  Greater Bahr el Ghazal sorghum and cattle     None     None     None   \n",
       "603  Greater Bahr el Ghazal sorghum and cattle     None     None     None   \n",
       "604  Greater Bahr el Ghazal sorghum and cattle     None     None     None   \n",
       "605  Greater Bahr el Ghazal sorghum and cattle     None     None     None   \n",
       "\n",
       "    CLASS LZSZCODE LZTYPE MAINCROPS MAINLSTOCK  \\\n",
       "600  AS05     None   None      None       None   \n",
       "601  AS05     None   None      None       None   \n",
       "602  AS05     None   None      None       None   \n",
       "603  AS05     None   None      None       None   \n",
       "604  AS05     None   None      None       None   \n",
       "605  AS05     None   None      None       None   \n",
       "\n",
       "                                              geometry   CS  \n",
       "600  POLYGON ((29.00037 9.67023, 29.00037 9.67023, ...  2.0  \n",
       "601  POLYGON ((29.00037 9.67023, 29.00037 9.67023, ...  3.0  \n",
       "602  POLYGON ((29.00037 9.67023, 29.00037 9.67023, ...  1.0  \n",
       "603  POLYGON ((29.00037 9.67023, 29.00037 9.67023, ...  4.0  \n",
       "604  POLYGON ((29.00037 9.67023, 29.00037 9.67023, ...  3.0  \n",
       "605  POLYGON ((29.00037 9.67023, 29.00037 9.67023, ...  2.0  "
      ]
     },
     "execution_count": 19,
     "metadata": {},
     "output_type": "execute_result"
    }
   ],
   "source": [
    "# make a dataframe of rows of inter_lhz that have FNID=SS2018L107\n",
    "lhz_107 = lhz_full[lhz_full[\"FNID\"] == \"SS2018L107\"]\n",
    "lhz_107"
   ]
  },
  {
   "cell_type": "code",
   "execution_count": 20,
   "metadata": {},
   "outputs": [
    {
     "data": {
      "application/vnd.plotly.v1+json": {
       "config": {
        "plotlyServerURL": "https://plot.ly"
       },
       "data": [
        {
         "coloraxis": "coloraxis",
         "customdata": [
          [
           2
          ],
          [
           3
          ],
          [
           1
          ],
          [
           4
          ],
          [
           3
          ],
          [
           2
          ]
         ],
         "geojson": {
          "bbox": [
           26.136305371195988,
           6.280516909228027,
           30.81772678656199,
           10.16666662786264
          ],
          "features": [
           {
            "bbox": [
             26.136305371195988,
             6.280516909228027,
             30.81772678656199,
             10.16666662786264
            ],
            "geometry": {
             "coordinates": [
              [
               [
                29.000368655189334,
                9.670229885800666
               ],
               [
                29.000368579646306,
                9.670229797667105
               ],
               [
                29.00032997085151,
                9.670185088770893
               ],
               [
                28.989069040603795,
                9.65409804388969
               ],
               [
                28.987005234104345,
                9.651149749661272
               ],
               [
                28.977010727363222,
                9.64115524292015
               ],
               [
                28.96253519654215,
                9.628402989406482
               ],
               [
                28.9592629413317,
                9.625520288130815
               ],
               [
                28.957023621343126,
                9.623547554176355
               ],
               [
                28.951665485773617,
                9.61885918510336
               ],
               [
                28.94846240911295,
                9.61605649291289
               ],
               [
                28.934181213692113,
                9.603560448156202
               ],
               [
                28.922285015840885,
                9.593150679460337
               ],
               [
                28.915145874582493,
                9.586903572142205
               ],
               [
                28.893253326379977,
                9.56739234867797
               ],
               [
                28.873743057096476,
                9.548357009568406
               ],
               [
                28.863074109182833,
                9.53844936564576
               ],
               [
                28.860418320349254,
                9.535983086450301
               ],
               [
                28.84363322889044,
                9.518500074319036
               ],
               [
                28.843490432737326,
                9.518351341741095
               ],
               [
                28.837574005236206,
                9.512188910989494
               ],
               [
                28.83637223848808,
                9.511155020687681
               ],
               [
                28.8347339633018,
                9.509745597781148
               ],
               [
                28.829227668022497,
                9.505768829867634
               ],
               [
                28.826168060207863,
                9.503559112862831
               ],
               [
                28.824364489629545,
                9.502296251570783
               ],
               [
                28.821409225655316,
                9.500226973596
               ],
               [
                28.817128945544425,
                9.498799896098376
               ],
               [
                28.817127227839364,
                9.49879932412955
               ],
               [
                28.8152236940183,
                9.494992255588159
               ],
               [
                28.812126853371637,
                9.491011742897683
               ],
               [
                28.812024682293327,
                9.490880417597225
               ],
               [
                28.811891556550165,
                9.490709305390169
               ],
               [
                28.805704117451114,
                9.48785400375931
               ],
               [
                28.803800583630107,
                9.483095169206763
               ],
               [
                28.803350787708723,
                9.476785333276553
               ],
               [
                28.80334659866662,
                9.47672657517137
               ],
               [
                28.80332565345617,
                9.476432799933832
               ],
               [
                28.80324959419346,
                9.476347233038439
               ],
               [
                28.80270226229959,
                9.47573148521991
               ],
               [
                28.799518674847036,
                9.47214994776192
               ],
               [
                28.799518584914836,
                9.472149848836523
               ],
               [
                28.799608738352617,
                9.47070450880608
               ],
               [
                28.79995061472914,
                9.46522354742882
               ],
               [
                28.799993465626017,
                9.464536552619847
               ],
               [
                28.79999350609546,
                9.464535868235771
               ],
               [
                28.799993515088715,
                9.46453571265306
               ],
               [
                28.79942412192571,
                9.46328254605271
               ],
               [
                28.799294559296527,
                9.462997394414288
               ],
               [
                28.79761505109377,
                9.459300994645218
               ],
               [
                28.791904449630692,
                9.4507350924506
               ],
               [
                28.790956612757498,
                9.449075902630852
               ],
               [
                28.790000916709005,
                9.447402954083088
               ],
               [
                28.790952403031042,
                9.44359700339902
               ],
               [
                28.79095268272016,
                9.443595886441074
               ],
               [
                28.790096351865202,
                9.44116961538549
               ],
               [
                28.78809738198862,
                9.435505866802373
               ],
               [
                28.782402019537642,
                9.429563397632762
               ],
               [
                28.777151108337023,
                9.424084662976838
               ],
               [
                28.76790764162439,
                9.413079486429183
               ],
               [
                28.767158508158673,
                9.412187575696123
               ],
               [
                28.760494232323026,
                9.4045734413113
               ],
               [
                28.759336816540895,
                9.403705378800225
               ],
               [
                28.758590698501962,
                9.40314579004621
               ],
               [
                28.762683796420106,
                9.380732957959708
               ],
               [
                28.76790764162439,
                9.35212841859169
               ],
               [
                28.767913247098704,
                9.352097719334324
               ],
               [
                28.807549390492056,
                9.306363708418473
               ],
               [
                28.806818229078033,
                9.299469904912257
               ],
               [
                28.79749664815182,
                9.211580707283872
               ],
               [
                28.794929473116724,
                9.187375918463943
               ],
               [
                28.786203832440947,
                9.105105596845874
               ],
               [
                28.781241645885302,
                9.100920819340388
               ],
               [
                28.77470217076859,
                9.095405862690484
               ],
               [
                28.694722872962245,
                9.027956654376169
               ],
               [
                28.685727477041496,
                9.02539566218013
               ],
               [
                28.93298415939148,
                9.03337168285691
               ],
               [
                29.102470858043716,
                9.03883899612282
               ],
               [
                29.12626197311164,
                8.98106057458591
               ],
               [
                29.138364787504997,
                8.951668024060098
               ],
               [
                29.16428756022276,
                8.904034928269368
               ],
               [
                29.202743164465517,
                8.83337275614781
               ],
               [
                29.2409188736072,
                8.763224891015966
               ],
               [
                29.24917298714371,
                8.743715168520282
               ],
               [
                29.254733873969144,
                8.73057125396025
               ],
               [
                29.25798230164196,
                8.726704078330613
               ],
               [
                29.282854327165524,
                8.697094524093075
               ],
               [
                29.28706821212836,
                8.692077994204112
               ],
               [
                29.337318282912463,
                8.647411264518269
               ],
               [
                29.425516227691787,
                8.56901309178079
               ],
               [
                29.554389933948357,
                8.482023340304977
               ],
               [
                29.630624398996872,
                8.430565076217363
               ],
               [
                29.644754574863782,
                8.413174089912388
               ],
               [
                29.658805934146585,
                8.395880109879215
               ],
               [
                29.697284554738474,
                8.348521807335601
               ],
               [
                29.69754500379895,
                8.344354620569334
               ],
               [
                29.713236877579902,
                8.345571044468159
               ],
               [
                29.726473089561466,
                8.354964485722462
               ],
               [
                29.72981342884674,
                8.35733504917323
               ],
               [
                29.731163854428416,
                8.357447584938143
               ],
               [
                29.73750498496713,
                8.357976012183258
               ],
               [
                29.740039546088212,
                8.35818722516035
               ],
               [
                29.749042320047067,
                8.3589374566983
               ],
               [
                29.757965421267215,
                8.357290932030935
               ],
               [
                29.798568992365176,
                8.34979860632069
               ],
               [
                29.802883214688677,
                8.349002530042753
               ],
               [
                29.8141000682636,
                8.350925419072894
               ],
               [
                29.81994560130852,
                8.344317424609528
               ],
               [
                29.820042057195224,
                8.344208388106665
               ],
               [
                29.827239809969285,
                8.340029047002986
               ],
               [
                29.843048102787748,
                8.338393706304544
               ],
               [
                29.84582773815964,
                8.338106157972845
               ],
               [
                29.85776727793757,
                8.336535165565465
               ],
               [
                29.870184333440307,
                8.334901342922706
               ],
               [
                29.885143900071,
                8.346408701800215
               ],
               [
                29.886849372600523,
                8.347720604022697
               ],
               [
                29.903988739388865,
                8.353205201359003
               ],
               [
                29.91889752400158,
                8.357976012183258
               ],
               [
                29.974180585865383,
                8.369032624556041
               ],
               [
                29.982934754835128,
                8.381677534990274
               ],
               [
                29.985095842798955,
                8.384799106093908
               ],
               [
                30.020329924386544,
                8.435692780297643
               ],
               [
                30.01765924547783,
                8.439431731489265
               ],
               [
                30.022457865138392,
                8.444230351149827
               ],
               [
                30.023160844497454,
                8.444933330508832
               ],
               [
                30.02722027719409,
                8.448351800195496
               ],
               [
                30.031863307845413,
                8.451253694802233
               ],
               [
                30.042076318367435,
                8.449461938617617
               ],
               [
                30.042923871839264,
                8.449313244710538
               ],
               [
                30.060229874009508,
                8.451236133740622
               ],
               [
                30.07849731979553,
                8.454120467285804
               ],
               [
                30.095803321965775,
                8.454440948790818
               ],
               [
                30.095803321965775,
                8.454693553964375
               ],
               [
                30.095803321965775,
                8.456203597518083
               ],
               [
                30.09626973735857,
                8.456203597518083
               ],
               [
                30.102373193268306,
                8.456203597518083
               ],
               [
                30.105499219613364,
                8.453077571173026
               ],
               [
                30.122884010488747,
                8.435692780297643
               ],
               [
                30.13892641122493,
                8.391576177598552
               ],
               [
                30.143394827709187,
                8.379288032716602
               ],
               [
                30.163905644929628,
                8.312627876975
               ],
               [
                30.167395047743298,
                8.29983340119054
               ],
               [
                30.169736030693286,
                8.291249796740772
               ],
               [
                30.179288757170468,
                8.256223130293279
               ],
               [
                30.19467187031063,
                8.199818383611557
               ],
               [
                30.174161053090188,
                8.102392001589635
               ],
               [
                30.148522531789467,
                8.035731845848034
               ],
               [
                30.169033349009908,
                7.979327099166369
               ],
               [
                30.18870085755856,
                7.939992081169635
               ],
               [
                30.19979957439091,
                7.917794647505048
               ],
               [
                30.24082120883179,
                7.856262195843726
               ],
               [
                30.26645973013251,
                7.794729745081725
               ],
               [
                30.27158743421279,
                7.789602040102125
               ],
               [
                30.333119885874112,
                7.58962157377664
               ],
               [
                30.333035212904804,
                7.587420073877354
               ],
               [
                30.330221065150113,
                7.514252221462925
               ],
               [
                30.32799218179383,
                7.456301262293493
               ],
               [
                30.353630703094495,
                7.343491768030731
               ],
               [
                30.366220285437862,
                7.297329965805318
               ],
               [
                30.363405389447223,
                7.251353331291227
               ],
               [
                30.45770387093694,
                7.190452228887295
               ],
               [
                30.458662357581773,
                7.189833206637218
               ],
               [
                30.459261411285127,
                7.18863509833119
               ],
               [
                30.50233412771786,
                7.138383596725646
               ],
               [
                30.52093805035082,
                7.068618882355565
               ],
               [
                30.52284494403898,
                7.061468031924164
               ],
               [
                30.558226104351263,
                6.990705713098237
               ],
               [
                30.55873887439958,
                6.9896801721022825
               ],
               [
                30.61001591700102,
                6.933275425420618
               ],
               [
                30.702314594043344,
                6.866615269679016
               ],
               [
                30.794613271085666,
                6.820465931157855
               ],
               [
                30.81772678656199,
                6.799663766869401
               ],
               [
                30.81668643642996,
                6.79888350337103
               ],
               [
                30.80695180947845,
                6.807806911260002
               ],
               [
                30.79285062325772,
                6.792423798119842
               ],
               [
                30.765930175936944,
                6.748838311638792
               ],
               [
                30.762963941133023,
                6.745523108404768
               ],
               [
                30.74989642038355,
                6.730918232590398
               ],
               [
                30.74413743269639,
                6.724481716358184
               ],
               [
                30.712089280396015,
                6.689869712916959
               ],
               [
                30.709773312088714,
                6.686997911424498
               ],
               [
                30.707062119621185,
                6.683636032476954
               ],
               [
                30.701619407309863,
                6.678864339417771
               ],
               [
                30.656966459734406,
                6.674486599776799
               ],
               [
                30.624918307433973,
                6.657821560616583
               ],
               [
                30.61312155481596,
                6.651923184307577
               ],
               [
                30.604407491112852,
                6.647566152456022
               ],
               [
                30.60200387937556,
                6.646123985233771
               ],
               [
                30.59463280476018,
                6.646123985233771
               ],
               [
                30.581964358168648,
                6.630740872093611
               ],
               [
                30.56480166656371,
                6.609900461437178
               ],
               [
                30.52284494403898,
                6.558953012271729
               ],
               [
                30.49207871865798,
                6.4563989270689035
               ],
               [
                30.49207871865798,
                6.374355658187142
               ],
               [
                30.4869510145777,
                6.3230786155857
               ],
               [
                30.48312772586388,
                6.317726011746117
               ],
               [
                30.461312493276978,
                6.2871846852251
               ],
               [
                30.44797694038357,
                6.280516909228027
               ],
               [
                30.446626933885966,
                6.28097006771452
               ],
               [
                30.44117794160877,
                6.284087054074348
               ],
               [
                30.43646293551609,
                6.285423059926302
               ],
               [
                30.433908943642905,
                6.289149068974382
               ],
               [
                30.431583887686315,
                6.291400714171687
               ],
               [
                30.427533935642657,
                6.296423059976291
               ],
               [
                30.42371738105237,
                6.3001357338770845
               ],
               [
                30.422016944726295,
                6.306952069782255
               ],
               [
                30.416024940898353,
                6.310793065247822
               ],
               [
                30.40892994645992,
                6.31809305924736
               ],
               [
                30.405649928301614,
                6.322457068938604
               ],
               [
                30.399930428046844,
                6.3295041618875985
               ],
               [
                30.385396637344968,
                6.31962664435423
               ],
               [
                30.371279832598248,
                6.3183161882415675
               ],
               [
                30.366818905668026,
                6.321987172270212
               ],
               [
                30.36523002664444,
                6.323368374450979
               ],
               [
                30.359919800658304,
                6.327984518970425
               ],
               [
                30.355922569570964,
                6.333614733633112
               ],
               [
                30.35168652621229,
                6.34115262169621
               ],
               [
                30.347372856971845,
                6.3489190949403
               ],
               [
                30.345804011246173,
                6.35718826042995
               ],
               [
                30.34308520871548,
                6.363466199205789
               ],
               [
                30.3376416375516,
                6.377121428711007
               ],
               [
                30.33328154710574,
                6.381924667289638
               ],
               [
                30.331847773256186,
                6.387598205892516
               ],
               [
                30.327959321465585,
                6.3838518146096135
               ],
               [
                30.324478970328244,
                6.383833731041875
               ],
               [
                30.32010887132742,
                6.390530377974585
               ],
               [
                30.312109621162165,
                6.3965435590380935
               ],
               [
                30.30782345948512,
                6.40114766433328
               ],
               [
                30.30263922671901,
                6.40524020467177
               ],
               [
                30.29787110846496,
                6.412710238886461
               ],
               [
                30.296669616909355,
                6.419277484168617
               ],
               [
                30.29562176823009,
                6.431620452621814
               ],
               [
                30.300515747503823,
                6.435271040026521
               ],
               [
                30.31855576463687,
                6.450110840343029
               ],
               [
                30.32426730409287,
                6.4606249447854225
               ],
               [
                30.32515067306514,
                6.466718812123531
               ],
               [
                30.327747514935936,
                6.475483156022904
               ],
               [
                30.329652306009166,
                6.482063008001489
               ],
               [
                30.331642779091055,
                6.490090396154926
               ],
               [
                30.33196738488698,
                6.495608685692332
               ],
               [
                30.335538043246174,
                6.5030746091059655
               ],
               [
                30.338849800278126,
                6.512490944401634
               ],
               [
                30.344438417698882,
                6.517760903243129
               ],
               [
                30.345419030363985,
                6.52705070932285
               ],
               [
                30.344490023495837,
                6.539179064462303
               ],
               [
                30.344954517037365,
                6.547901169003808
               ],
               [
                30.346606032042814,
                6.557139360293263
               ],
               [
                30.33803876737528,
                6.565138911731424
               ],
               [
                30.32699421221315,
                6.577628558711069
               ],
               [
                30.316792133849958,
                6.587544813642296
               ],
               [
                30.31619931244836,
                6.5885703312558235
               ],
               [
                30.315226914190816,
                6.599196049658019
               ],
               [
                30.31398384517837,
                6.603139565138861
               ],
               [
                30.310497292316256,
                6.608212239703164
               ],
               [
                30.304047269166176,
                6.611803309974846
               ],
               [
                30.296921194157846,
                6.613325009641528
               ],
               [
                30.287630732472394,
                6.617857760926995
               ],
               [
                30.279642743617785,
                6.622188504695771
               ],
               [
                30.268126840281525,
                6.628637383908199
               ],
               [
                30.264736683051524,
                6.630549994586602
               ],
               [
                30.2626122064882,
                6.636018806123047
               ],
               [
                30.25590737842282,
                6.6349287405689665
               ],
               [
                30.24746746135429,
                6.632823783790627
               ],
               [
                30.23994113767344,
                6.630010550646432
               ],
               [
                30.233552984282824,
                6.627783873327132
               ],
               [
                30.226929827249762,
                6.6226420597832885
               ],
               [
                30.215902354709954,
                6.621309355342532
               ],
               [
                30.20783468862004,
                6.618282937907281
               ],
               [
                30.202101751594626,
                6.617131689675773
               ],
               [
                30.196994971141066,
                6.615930020054407
               ],
               [
                30.190938315051255,
                6.613548770859154
               ],
               [
                30.148522531789467,
                6.651251689314051
               ],
               [
                30.051096150666865,
                6.6615070983739315
               ],
               [
                29.91264813510338,
                6.676890210614772
               ],
               [
                29.794710935861076,
                6.779444296716974
               ],
               [
                29.775070265780187,
                6.789264631757419
               ],
               [
                29.743433893259635,
                6.805082818017695
               ],
               [
                29.707539963798354,
                6.815338227077575
               ],
               [
                29.58447506047571,
                6.846104452458576
               ],
               [
                29.517584489432693,
                6.873975523651552
               ],
               [
                29.523445373904906,
                6.895221229975846
               ],
               [
                29.525884780458284,
                6.904064080193223
               ],
               [
                29.512646648424152,
                6.918436909335924
               ],
               [
                29.455869897178047,
                6.980080239311633
               ],
               [
                29.45299463239644,
                6.983201956105461
               ],
               [
                29.474640499259692,
                7.016141319466385
               ],
               [
                29.542316017470284,
                7.119125802214057
               ],
               [
                29.47166556621295,
                7.133255892645366
               ],
               [
                29.363983776030466,
                7.2050437524672475
               ],
               [
                29.26655739490792,
                7.256320795068689
               ],
               [
                29.122981675264157,
                7.333236358970851
               ],
               [
                29.05356763893542,
                7.378355482719428
               ],
               [
                29.020427589161955,
                7.399896514712452
               ],
               [
                28.820447121937207,
                7.476812079513934
               ],
               [
                28.728148444894885,
                7.522961418035038
               ],
               [
                28.60508354247156,
                7.57936616471676
               ],
               [
                28.53842338672996,
                7.58962157377664
               ],
               [
                28.47689093506864,
                7.60500468601748
               ],
               [
                28.450658592320224,
                7.628150871165815
               ],
               [
                28.37242158708665,
                7.587424758445877
               ],
               [
                28.304397765044882,
                7.651143274042909
               ],
               [
                28.23708476714836,
                7.634143247313034
               ],
               [
                28.102883166824768,
                7.609872745031225
               ],
               [
                28.042459596333345,
                7.623432403582626
               ],
               [
                28.04179930149661,
                7.624564338873199
               ],
               [
                28.04095035047834,
                7.625979256637436
               ],
               [
                28.037271563931597,
                7.628526108792926
               ],
               [
                28.034064416039996,
                7.631355945220719
               ],
               [
                28.032460842094224,
                7.633525485912514
               ],
               [
                28.032327298166308,
                7.633903861274234
               ],
               [
                28.039286578612746,
                7.653853799213493
               ],
               [
                28.04557162293213,
                7.671870925902567
               ],
               [
                28.04725606211764,
                7.676699651267938
               ],
               [
                28.04605602476579,
                7.677476145707601
               ],
               [
                28.041538944166973,
                7.680398962142419
               ],
               [
                28.011852276661273,
                7.699607982822215
               ],
               [
                28.00976970041137,
                7.728764042226828
               ],
               [
                27.913971219895927,
                7.751672374680368
               ],
               [
                27.883071874167683,
                7.740288405485558
               ],
               [
                27.87440228193981,
                7.737094345427749
               ],
               [
                27.809842436179565,
                7.755837526280857
               ],
               [
                27.800561131391134,
                7.785228324927289
               ],
               [
                27.797346982277475,
                7.795406463337656
               ],
               [
                27.666144716305666,
                7.924526154858199
               ],
               [
                27.662967737071483,
                7.867340512454746
               ],
               [
                27.662165353848025,
                7.867819353780192
               ],
               [
                27.500362005002557,
                7.984412942503354
               ],
               [
                27.400424642982955,
                8.105765453912625
               ],
               [
                27.340355850542096,
                8.195161150866454
               ],
               [
                27.33798480775272,
                8.198689788403044
               ],
               [
                27.33798386166592,
                8.198689633719653
               ],
               [
                27.315068062141393,
                8.228635936399371
               ],
               [
                27.297861061838603,
                8.249736936410557
               ],
               [
                27.2847760645638,
                8.258563936976145
               ],
               [
                27.257184061994906,
                8.273083936574437
               ],
               [
                27.225574062093358,
                8.306895939096364
               ],
               [
                27.200022061868708,
                8.337570939946943
               ],
               [
                27.189804061907978,
                8.359371938064555
               ],
               [
                27.159378064446173,
                8.38599794105221
               ],
               [
                27.158378057901075,
                8.383862937924278
               ],
               [
                27.134571059906534,
                8.399188939617943
               ],
               [
                27.111862060385818,
                8.445742938885587
               ],
               [
                27.07830005860086,
                8.473395937072894
               ],
               [
                27.0355317240099,
                8.489916115236554
               ],
               [
                27.003054655348137,
                8.517412207807183
               ],
               [
                26.922152981375064,
                8.595934421336551
               ],
               [
                26.79128262549284,
                8.67921555665265
               ],
               [
                26.67706849721344,
                8.757737769282699
               ],
               [
                26.586793513310056,
                8.808984413899623
               ],
               [
                26.584916758601594,
                8.810049795761529
               ],
               [
                26.4605375455713,
                8.841018904598798
               ],
               [
                26.310631502541867,
                8.831501061025222
               ],
               [
                26.170521370764675,
                8.864860024670463
               ],
               [
                26.136305371195988,
                9.069428021785825
               ],
               [
                26.150161986786316,
                9.208441177618283
               ],
               [
                26.15020535928994,
                9.208876298402515
               ],
               [
                26.218674938397726,
                9.895780794747907
               ],
               [
                26.21867497526995,
                9.895781283979147
               ],
               [
                26.221081718446612,
                9.88833607015357
               ],
               [
                26.26326256551505,
                9.75785039477995
               ],
               [
                26.26665115432735,
                9.747367859239375
               ],
               [
                26.2699503712127,
                9.740562963609932
               ],
               [
                26.27425575320052,
                9.73168277713853
               ],
               [
                26.290891550904405,
                9.68700625563423
               ],
               [
                26.290891647131843,
                9.687005996629466
               ],
               [
                26.290891665118295,
                9.687005955260702
               ],
               [
                26.290897657301116,
                9.686992054439827
               ],
               [
                26.291659476603627,
                9.685224706754866
               ],
               [
                26.30277442889684,
                9.65943908694436
               ],
               [
                26.31366811199382,
                9.636703204889045
               ],
               [
                26.313705443751303,
                9.636625290324957
               ],
               [
                26.31421761485109,
                9.636010767383084
               ],
               [
                26.316082001183474,
                9.633773803618169
               ],
               [
                26.316354688218325,
                9.633446514245293
               ],
               [
                26.318458556817006,
                9.63092136363008
               ],
               [
                26.320598372217148,
                9.62775457461396
               ],
               [
                26.330341160516184,
                9.613335872852304
               ],
               [
                26.330341338581945,
                9.61333560935094
               ],
               [
                26.347927093760404,
                9.594324112168067
               ],
               [
                26.34795438188928,
                9.594305919782414
               ],
               [
                26.363108641850374,
                9.584203079808333
               ],
               [
                26.36361122078125,
                9.58386802658822
               ],
               [
                26.36544044452097,
                9.582697382678134
               ],
               [
                26.37069805387216,
                9.579332681658002
               ],
               [
                26.375494003445567,
                9.576263427715048
               ],
               [
                26.395855525112438,
                9.565846082230962
               ],
               [
                26.395931244431438,
                9.565807343034521
               ],
               [
                26.395931382927017,
                9.565807291773126
               ],
               [
                26.40472278652743,
                9.562582992910848
               ],
               [
                26.410188675267193,
                9.560578345614203
               ],
               [
                26.410258824185462,
                9.560557304176314
               ],
               [
                26.42832391081987,
                9.55513850303953
               ],
               [
                26.433902568248982,
                9.553465130011773
               ],
               [
                26.433954238797128,
                9.553449631095646
               ],
               [
                26.43671599924403,
                9.552375407998738
               ],
               [
                26.442470970558873,
                9.550136936070771
               ],
               [
                26.44250869801806,
                9.55012226093362
               ],
               [
                26.442508935439093,
                9.550122198880445
               ],
               [
                26.44863298312572,
                9.548510504955914
               ],
               [
                26.46056938157176,
                9.545369147867916
               ],
               [
                26.461056623464458,
                9.545197979003603
               ],
               [
                26.478155135850898,
                9.539191246079213
               ],
               [
                26.494704806381776,
                9.534176133521783
               ],
               [
                26.509494346287113,
                9.52969439987669
               ],
               [
                26.509524866579397,
                9.52968515124877
               ],
               [
                26.509525299153267,
                9.529685019947749
               ],
               [
                26.516212382695358,
                9.52791856528961
               ],
               [
                26.559906006357153,
                9.516376495279076
               ],
               [
                26.56764408710501,
                9.514684093496157
               ],
               [
                26.575115039527475,
                9.51305011527063
               ],
               [
                26.57511520410344,
                9.513050079297784
               ],
               [
                26.584093826768765,
                9.510961911063418
               ],
               [
                26.5955522940032,
                9.508297002204927
               ],
               [
                26.59555244418999,
                9.5082969671314
               ],
               [
                26.604755787649538,
                9.507327937734203
               ],
               [
                26.613613005435923,
                9.506395353362905
               ],
               [
                26.61361312864301,
                9.506395339873109
               ],
               [
                26.615935266299573,
                9.505834967809562
               ],
               [
                26.627397536766978,
                9.50306892389176
               ],
               [
                26.63879023388222,
                9.50022075028744
               ],
               [
                26.63880348179532,
                9.500217438084348
               ],
               [
                26.640893388419215,
                9.50000833581612
               ],
               [
                26.65306266630904,
                9.498790756288429
               ],
               [
                26.653062820093112,
                9.498790740999937
               ],
               [
                26.66048562011531,
                9.496792691129826
               ],
               [
                26.665420532031987,
                9.495464325018645
               ],
               [
                26.669695594276334,
                9.494988576461708
               ],
               [
                26.669696808361095,
                9.49498844066403
               ],
               [
                26.673500061078983,
                9.49498844066403
               ],
               [
                26.67350055480682,
                9.494988332745436
               ],
               [
                26.682822331785246,
                9.492949267494737
               ],
               [
                26.68926293183887,
                9.49154043724144
               ],
               [
                26.70391840261226,
                9.488334668010566
               ],
               [
                26.703918456571557,
                9.48833465631941
               ],
               [
                26.731009097891615,
                9.494038299727777
               ],
               [
                26.73101043698216,
                9.49403858211491
               ],
               [
                26.740044309497364,
                9.495242896642424
               ],
               [
                26.74526779137551,
                9.495939244400631
               ],
               [
                26.745267867817915,
                9.495939255192525
               ],
               [
                26.749295716324298,
                9.496671523671921
               ],
               [
                26.750497787043287,
                9.496890062526404
               ],
               [
                26.750497817620214,
                9.496890067922322
               ],
               [
                26.78804397614863,
                9.509722710035078
               ],
               [
                26.812324558032003,
                9.518057888460817
               ],
               [
                26.812336336452802,
                9.518061931812724
               ],
               [
                26.819888915840863,
                9.520654625110922
               ],
               [
                26.819889068725615,
                9.5206546781709
               ],
               [
                26.853086806411056,
                9.531561989594195
               ],
               [
                26.85315895092492,
                9.531585693025363
               ],
               [
                26.869794845755564,
                9.540141106426972
               ],
               [
                26.877874292964293,
                9.544419246151335
               ],
               [
                26.877874373903296,
                9.544419289318796
               ],
               [
                26.916192345900072,
                9.561961853656669
               ],
               [
                26.917324066252718,
                9.562479972872495
               ],
               [
                26.926950669337998,
                9.566330678318195
               ],
               [
                26.97435754336601,
                9.585293745210208
               ],
               [
                26.974357605419186,
                9.585293770391218
               ],
               [
                26.974357837444302,
                9.585293880108509
               ],
               [
                26.992420081321768,
                9.59384912713557
               ],
               [
                26.992420197334297,
                9.593849181994187
               ],
               [
                26.995553956050287,
                9.594419112052435
               ],
               [
                26.99764804362235,
                9.594799959650459
               ],
               [
                26.99764823877524,
                9.594799994724042
               ],
               [
                27.00287628201488,
                9.593849181994187
               ],
               [
                27.022363438721754,
                9.60192861751176
               ],
               [
                27.022363662652936,
                9.60192871104124
               ],
               [
                27.0471044483117,
                9.606876868173003
               ],
               [
                27.048503759241157,
                9.607156730898453
               ],
               [
                27.048503876153006,
                9.607156754280822
               ],
               [
                27.062561510005708,
                9.60926572833074
               ],
               [
                27.07702064528661,
                9.611434937172646
               ],
               [
                27.077532344242343,
                9.611690273587328
               ],
               [
                27.07797241219714,
                9.611909866447206
               ],
               [
                27.078554143159238,
                9.61203089990613
               ],
               [
                27.078694285413007,
                9.612060057725557
               ],
               [
                27.090682983033275,
                9.614554404762032
               ],
               [
                27.092275620323676,
                9.614885330093955
               ],
               [
                27.09365654011731,
                9.615172385597191
               ],
               [
                27.11536762221806,
                9.61968838611017
               ],
               [
                27.13738250699714,
                9.624267578386082
               ],
               [
                27.14120065608546,
                9.624013239319595
               ],
               [
                27.144512176595697,
                9.623792648212202
               ],
               [
                27.144571235074466,
                9.623794087127465
               ],
               [
                27.183484914397354,
                9.624742504962683
               ],
               [
                27.183485031309203,
                9.624742507660642
               ],
               [
                27.225485424013186,
                9.62549267624604
               ],
               [
                27.225498759160473,
                9.625492914566394
               ],
               [
                27.225500198075736,
                9.625492939747403
               ],
               [
                27.22661030142433,
                9.625512767100588
               ],
               [
                27.23671826573542,
                9.625693305102004
               ],
               [
                27.236719130883216,
                9.625693321289816
               ],
               [
                27.30623665759572,
                9.624601518245527
               ],
               [
                27.30628145912209,
                9.624600814975679
               ],
               [
                27.306301682176922,
                9.624600497515019
               ],
               [
                27.327499389884963,
                9.624267578386082
               ],
               [
                27.35400375866658,
                9.623482453152747
               ],
               [
                27.364788001465172,
                9.62316299687484
               ],
               [
                27.387443550679393,
                9.622491883193902
               ],
               [
                27.387449931369304,
                9.622491694336247
               ],
               [
                27.391662597750724,
                9.622366905308468
               ],
               [
                27.396162035449606,
                9.62228193376427
               ],
               [
                27.45433235185658,
                9.621183394797868
               ],
               [
                27.458217620946527,
                9.621109961555533
               ],
               [
                27.46103286677345,
                9.621056557114457
               ],
               [
                27.466667807373483,
                9.620950825620127
               ],
               [
                27.467233658106863,
                9.620940208224056
               ],
               [
                27.473413362137023,
                9.619990364963428
               ],
               [
                27.47341346735766,
                9.619990348775616
               ],
               [
                27.474838256980036,
                9.619990348775616
               ],
               [
                27.485834274831973,
                9.619512156760663
               ],
               [
                27.51856613222128,
                9.618088722416644
               ],
               [
                27.522840475007968,
                9.617867640279428
               ],
               [
                27.523717260043554,
                9.6178222901666
               ],
               [
                27.54613113444435,
                9.616662978613647
               ],
               [
                27.570617799571835,
                9.61503037814947
               ],
               [
                27.57735716520108,
                9.614581043580358
               ],
               [
                27.596036788267213,
                9.613335617444818
               ],
               [
                27.596036910575037,
                9.61333560935094
               ],
               [
                27.652951488320582,
                9.610129188111614
               ],
               [
                27.663528441884125,
                9.609533309914355
               ],
               [
                27.705447661780227,
                9.607004177101146
               ],
               [
                27.70552928514843,
                9.60699925241363
               ],
               [
                27.705537202779738,
                9.606998774873603
               ],
               [
                27.718662262153714,
                9.606206893933063
               ],
               [
                27.73324588249153,
                9.605164958296257
               ],
               [
                27.758585702068558,
                9.603354538481199
               ],
               [
                27.758586883777696,
                9.603354453944917
               ],
               [
                27.76394017919597,
                9.60346849517498
               ],
               [
                27.780925751122595,
                9.603830338299531
               ],
               [
                27.795763697037046,
                9.60328064118869
               ],
               [
                27.806492797904355,
                9.602883163327363
               ],
               [
                27.80659103444873,
                9.602879523771037
               ],
               [
                27.80659139327821,
                9.602879502187307
               ],
               [
                27.82227409577297,
                9.60192877579243
               ],
               [
                27.822275162368896,
                9.60192871104124
               ],
               [
                27.828454789956652,
                9.602879495892068
               ],
               [
                27.828454970720372,
                9.602879523771037
               ],
               [
                27.85316848803535,
                9.605256081203208
               ],
               [
                27.853166536506478,
                9.605256655869994
               ],
               [
                27.851634482045768,
                9.605708076866279
               ],
               [
                27.85106468238922,
                9.60587596860114
               ],
               [
                27.851064862253622,
                9.605875979392977
               ],
               [
                27.86819600024529,
                9.606827708531966
               ],
               [
                27.868196486778515,
                9.606827736410935
               ],
               [
                27.874781749977842,
                9.607389864850404
               ],
               [
                27.907220708968623,
                9.610158908906556
               ],
               [
                27.907220840269588,
                9.61015891969845
               ],
               [
                27.907315416573283,
                9.610111631546602
               ],
               [
                27.907315258292613,
                9.610111958000516
               ],
               [
                27.90705590730431,
                9.610646763237582
               ],
               [
                27.832981039143704,
                9.763395877118057
               ],
               [
                27.8332006751711,
                10.014934270400317
               ],
               [
                27.83325208671448,
                10.073812836193497
               ],
               [
                27.833333164194244,
                10.16666662786264
               ],
               [
                28.58984972578429,
                10.16666662786264
               ],
               [
                28.999999914264663,
                10.16666662786264
               ],
               [
                29.000330406123396,
                9.721724488794166
               ],
               [
                29.000368655189334,
                9.670229885800666
               ]
              ]
             ],
             "type": "Polygon"
            },
            "id": "600",
            "properties": {},
            "type": "Feature"
           },
           {
            "bbox": [
             26.136305371195988,
             6.280516909228027,
             30.81772678656199,
             10.16666662786264
            ],
            "geometry": {
             "coordinates": [
              [
               [
                29.000368655189334,
                9.670229885800666
               ],
               [
                29.000368579646306,
                9.670229797667105
               ],
               [
                29.00032997085151,
                9.670185088770893
               ],
               [
                28.989069040603795,
                9.65409804388969
               ],
               [
                28.987005234104345,
                9.651149749661272
               ],
               [
                28.977010727363222,
                9.64115524292015
               ],
               [
                28.96253519654215,
                9.628402989406482
               ],
               [
                28.9592629413317,
                9.625520288130815
               ],
               [
                28.957023621343126,
                9.623547554176355
               ],
               [
                28.951665485773617,
                9.61885918510336
               ],
               [
                28.94846240911295,
                9.61605649291289
               ],
               [
                28.934181213692113,
                9.603560448156202
               ],
               [
                28.922285015840885,
                9.593150679460337
               ],
               [
                28.915145874582493,
                9.586903572142205
               ],
               [
                28.893253326379977,
                9.56739234867797
               ],
               [
                28.873743057096476,
                9.548357009568406
               ],
               [
                28.863074109182833,
                9.53844936564576
               ],
               [
                28.860418320349254,
                9.535983086450301
               ],
               [
                28.84363322889044,
                9.518500074319036
               ],
               [
                28.843490432737326,
                9.518351341741095
               ],
               [
                28.837574005236206,
                9.512188910989494
               ],
               [
                28.83637223848808,
                9.511155020687681
               ],
               [
                28.8347339633018,
                9.509745597781148
               ],
               [
                28.829227668022497,
                9.505768829867634
               ],
               [
                28.826168060207863,
                9.503559112862831
               ],
               [
                28.824364489629545,
                9.502296251570783
               ],
               [
                28.821409225655316,
                9.500226973596
               ],
               [
                28.817128945544425,
                9.498799896098376
               ],
               [
                28.817127227839364,
                9.49879932412955
               ],
               [
                28.8152236940183,
                9.494992255588159
               ],
               [
                28.812126853371637,
                9.491011742897683
               ],
               [
                28.812024682293327,
                9.490880417597225
               ],
               [
                28.811891556550165,
                9.490709305390169
               ],
               [
                28.805704117451114,
                9.48785400375931
               ],
               [
                28.803800583630107,
                9.483095169206763
               ],
               [
                28.803350787708723,
                9.476785333276553
               ],
               [
                28.80334659866662,
                9.47672657517137
               ],
               [
                28.80332565345617,
                9.476432799933832
               ],
               [
                28.80324959419346,
                9.476347233038439
               ],
               [
                28.80270226229959,
                9.47573148521991
               ],
               [
                28.799518674847036,
                9.47214994776192
               ],
               [
                28.799518584914836,
                9.472149848836523
               ],
               [
                28.799608738352617,
                9.47070450880608
               ],
               [
                28.79995061472914,
                9.46522354742882
               ],
               [
                28.799993465626017,
                9.464536552619847
               ],
               [
                28.79999350609546,
                9.464535868235771
               ],
               [
                28.799993515088715,
                9.46453571265306
               ],
               [
                28.79942412192571,
                9.46328254605271
               ],
               [
                28.799294559296527,
                9.462997394414288
               ],
               [
                28.79761505109377,
                9.459300994645218
               ],
               [
                28.791904449630692,
                9.4507350924506
               ],
               [
                28.790956612757498,
                9.449075902630852
               ],
               [
                28.790000916709005,
                9.447402954083088
               ],
               [
                28.790952403031042,
                9.44359700339902
               ],
               [
                28.79095268272016,
                9.443595886441074
               ],
               [
                28.790096351865202,
                9.44116961538549
               ],
               [
                28.78809738198862,
                9.435505866802373
               ],
               [
                28.782402019537642,
                9.429563397632762
               ],
               [
                28.777151108337023,
                9.424084662976838
               ],
               [
                28.76790764162439,
                9.413079486429183
               ],
               [
                28.767158508158673,
                9.412187575696123
               ],
               [
                28.760494232323026,
                9.4045734413113
               ],
               [
                28.759336816540895,
                9.403705378800225
               ],
               [
                28.758590698501962,
                9.40314579004621
               ],
               [
                28.762683796420106,
                9.380732957959708
               ],
               [
                28.76790764162439,
                9.35212841859169
               ],
               [
                28.767913247098704,
                9.352097719334324
               ],
               [
                28.807549390492056,
                9.306363708418473
               ],
               [
                28.806818229078033,
                9.299469904912257
               ],
               [
                28.79749664815182,
                9.211580707283872
               ],
               [
                28.794929473116724,
                9.187375918463943
               ],
               [
                28.786203832440947,
                9.105105596845874
               ],
               [
                28.781241645885302,
                9.100920819340388
               ],
               [
                28.77470217076859,
                9.095405862690484
               ],
               [
                28.694722872962245,
                9.027956654376169
               ],
               [
                28.685727477041496,
                9.02539566218013
               ],
               [
                28.93298415939148,
                9.03337168285691
               ],
               [
                29.102470858043716,
                9.03883899612282
               ],
               [
                29.12626197311164,
                8.98106057458591
               ],
               [
                29.138364787504997,
                8.951668024060098
               ],
               [
                29.16428756022276,
                8.904034928269368
               ],
               [
                29.202743164465517,
                8.83337275614781
               ],
               [
                29.2409188736072,
                8.763224891015966
               ],
               [
                29.24917298714371,
                8.743715168520282
               ],
               [
                29.254733873969144,
                8.73057125396025
               ],
               [
                29.25798230164196,
                8.726704078330613
               ],
               [
                29.282854327165524,
                8.697094524093075
               ],
               [
                29.28706821212836,
                8.692077994204112
               ],
               [
                29.337318282912463,
                8.647411264518269
               ],
               [
                29.425516227691787,
                8.56901309178079
               ],
               [
                29.554389933948357,
                8.482023340304977
               ],
               [
                29.630624398996872,
                8.430565076217363
               ],
               [
                29.644754574863782,
                8.413174089912388
               ],
               [
                29.658805934146585,
                8.395880109879215
               ],
               [
                29.697284554738474,
                8.348521807335601
               ],
               [
                29.69754500379895,
                8.344354620569334
               ],
               [
                29.713236877579902,
                8.345571044468159
               ],
               [
                29.726473089561466,
                8.354964485722462
               ],
               [
                29.72981342884674,
                8.35733504917323
               ],
               [
                29.731163854428416,
                8.357447584938143
               ],
               [
                29.73750498496713,
                8.357976012183258
               ],
               [
                29.740039546088212,
                8.35818722516035
               ],
               [
                29.749042320047067,
                8.3589374566983
               ],
               [
                29.757965421267215,
                8.357290932030935
               ],
               [
                29.798568992365176,
                8.34979860632069
               ],
               [
                29.802883214688677,
                8.349002530042753
               ],
               [
                29.8141000682636,
                8.350925419072894
               ],
               [
                29.81994560130852,
                8.344317424609528
               ],
               [
                29.820042057195224,
                8.344208388106665
               ],
               [
                29.827239809969285,
                8.340029047002986
               ],
               [
                29.843048102787748,
                8.338393706304544
               ],
               [
                29.84582773815964,
                8.338106157972845
               ],
               [
                29.85776727793757,
                8.336535165565465
               ],
               [
                29.870184333440307,
                8.334901342922706
               ],
               [
                29.885143900071,
                8.346408701800215
               ],
               [
                29.886849372600523,
                8.347720604022697
               ],
               [
                29.903988739388865,
                8.353205201359003
               ],
               [
                29.91889752400158,
                8.357976012183258
               ],
               [
                29.974180585865383,
                8.369032624556041
               ],
               [
                29.982934754835128,
                8.381677534990274
               ],
               [
                29.985095842798955,
                8.384799106093908
               ],
               [
                30.020329924386544,
                8.435692780297643
               ],
               [
                30.01765924547783,
                8.439431731489265
               ],
               [
                30.022457865138392,
                8.444230351149827
               ],
               [
                30.023160844497454,
                8.444933330508832
               ],
               [
                30.02722027719409,
                8.448351800195496
               ],
               [
                30.031863307845413,
                8.451253694802233
               ],
               [
                30.042076318367435,
                8.449461938617617
               ],
               [
                30.042923871839264,
                8.449313244710538
               ],
               [
                30.060229874009508,
                8.451236133740622
               ],
               [
                30.07849731979553,
                8.454120467285804
               ],
               [
                30.095803321965775,
                8.454440948790818
               ],
               [
                30.095803321965775,
                8.454693553964375
               ],
               [
                30.095803321965775,
                8.456203597518083
               ],
               [
                30.09626973735857,
                8.456203597518083
               ],
               [
                30.102373193268306,
                8.456203597518083
               ],
               [
                30.105499219613364,
                8.453077571173026
               ],
               [
                30.122884010488747,
                8.435692780297643
               ],
               [
                30.13892641122493,
                8.391576177598552
               ],
               [
                30.143394827709187,
                8.379288032716602
               ],
               [
                30.163905644929628,
                8.312627876975
               ],
               [
                30.167395047743298,
                8.29983340119054
               ],
               [
                30.169736030693286,
                8.291249796740772
               ],
               [
                30.179288757170468,
                8.256223130293279
               ],
               [
                30.19467187031063,
                8.199818383611557
               ],
               [
                30.174161053090188,
                8.102392001589635
               ],
               [
                30.148522531789467,
                8.035731845848034
               ],
               [
                30.169033349009908,
                7.979327099166369
               ],
               [
                30.18870085755856,
                7.939992081169635
               ],
               [
                30.19979957439091,
                7.917794647505048
               ],
               [
                30.24082120883179,
                7.856262195843726
               ],
               [
                30.26645973013251,
                7.794729745081725
               ],
               [
                30.27158743421279,
                7.789602040102125
               ],
               [
                30.333119885874112,
                7.58962157377664
               ],
               [
                30.333035212904804,
                7.587420073877354
               ],
               [
                30.330221065150113,
                7.514252221462925
               ],
               [
                30.32799218179383,
                7.456301262293493
               ],
               [
                30.353630703094495,
                7.343491768030731
               ],
               [
                30.366220285437862,
                7.297329965805318
               ],
               [
                30.363405389447223,
                7.251353331291227
               ],
               [
                30.45770387093694,
                7.190452228887295
               ],
               [
                30.458662357581773,
                7.189833206637218
               ],
               [
                30.459261411285127,
                7.18863509833119
               ],
               [
                30.50233412771786,
                7.138383596725646
               ],
               [
                30.52093805035082,
                7.068618882355565
               ],
               [
                30.52284494403898,
                7.061468031924164
               ],
               [
                30.558226104351263,
                6.990705713098237
               ],
               [
                30.55873887439958,
                6.9896801721022825
               ],
               [
                30.61001591700102,
                6.933275425420618
               ],
               [
                30.702314594043344,
                6.866615269679016
               ],
               [
                30.794613271085666,
                6.820465931157855
               ],
               [
                30.81772678656199,
                6.799663766869401
               ],
               [
                30.81668643642996,
                6.79888350337103
               ],
               [
                30.80695180947845,
                6.807806911260002
               ],
               [
                30.79285062325772,
                6.792423798119842
               ],
               [
                30.765930175936944,
                6.748838311638792
               ],
               [
                30.762963941133023,
                6.745523108404768
               ],
               [
                30.74989642038355,
                6.730918232590398
               ],
               [
                30.74413743269639,
                6.724481716358184
               ],
               [
                30.712089280396015,
                6.689869712916959
               ],
               [
                30.709773312088714,
                6.686997911424498
               ],
               [
                30.707062119621185,
                6.683636032476954
               ],
               [
                30.701619407309863,
                6.678864339417771
               ],
               [
                30.656966459734406,
                6.674486599776799
               ],
               [
                30.624918307433973,
                6.657821560616583
               ],
               [
                30.61312155481596,
                6.651923184307577
               ],
               [
                30.604407491112852,
                6.647566152456022
               ],
               [
                30.60200387937556,
                6.646123985233771
               ],
               [
                30.59463280476018,
                6.646123985233771
               ],
               [
                30.581964358168648,
                6.630740872093611
               ],
               [
                30.56480166656371,
                6.609900461437178
               ],
               [
                30.52284494403898,
                6.558953012271729
               ],
               [
                30.49207871865798,
                6.4563989270689035
               ],
               [
                30.49207871865798,
                6.374355658187142
               ],
               [
                30.4869510145777,
                6.3230786155857
               ],
               [
                30.48312772586388,
                6.317726011746117
               ],
               [
                30.461312493276978,
                6.2871846852251
               ],
               [
                30.44797694038357,
                6.280516909228027
               ],
               [
                30.446626933885966,
                6.28097006771452
               ],
               [
                30.44117794160877,
                6.284087054074348
               ],
               [
                30.43646293551609,
                6.285423059926302
               ],
               [
                30.433908943642905,
                6.289149068974382
               ],
               [
                30.431583887686315,
                6.291400714171687
               ],
               [
                30.427533935642657,
                6.296423059976291
               ],
               [
                30.42371738105237,
                6.3001357338770845
               ],
               [
                30.422016944726295,
                6.306952069782255
               ],
               [
                30.416024940898353,
                6.310793065247822
               ],
               [
                30.40892994645992,
                6.31809305924736
               ],
               [
                30.405649928301614,
                6.322457068938604
               ],
               [
                30.399930428046844,
                6.3295041618875985
               ],
               [
                30.385396637344968,
                6.31962664435423
               ],
               [
                30.371279832598248,
                6.3183161882415675
               ],
               [
                30.366818905668026,
                6.321987172270212
               ],
               [
                30.36523002664444,
                6.323368374450979
               ],
               [
                30.359919800658304,
                6.327984518970425
               ],
               [
                30.355922569570964,
                6.333614733633112
               ],
               [
                30.35168652621229,
                6.34115262169621
               ],
               [
                30.347372856971845,
                6.3489190949403
               ],
               [
                30.345804011246173,
                6.35718826042995
               ],
               [
                30.34308520871548,
                6.363466199205789
               ],
               [
                30.3376416375516,
                6.377121428711007
               ],
               [
                30.33328154710574,
                6.381924667289638
               ],
               [
                30.331847773256186,
                6.387598205892516
               ],
               [
                30.327959321465585,
                6.3838518146096135
               ],
               [
                30.324478970328244,
                6.383833731041875
               ],
               [
                30.32010887132742,
                6.390530377974585
               ],
               [
                30.312109621162165,
                6.3965435590380935
               ],
               [
                30.30782345948512,
                6.40114766433328
               ],
               [
                30.30263922671901,
                6.40524020467177
               ],
               [
                30.29787110846496,
                6.412710238886461
               ],
               [
                30.296669616909355,
                6.419277484168617
               ],
               [
                30.29562176823009,
                6.431620452621814
               ],
               [
                30.300515747503823,
                6.435271040026521
               ],
               [
                30.31855576463687,
                6.450110840343029
               ],
               [
                30.32426730409287,
                6.4606249447854225
               ],
               [
                30.32515067306514,
                6.466718812123531
               ],
               [
                30.327747514935936,
                6.475483156022904
               ],
               [
                30.329652306009166,
                6.482063008001489
               ],
               [
                30.331642779091055,
                6.490090396154926
               ],
               [
                30.33196738488698,
                6.495608685692332
               ],
               [
                30.335538043246174,
                6.5030746091059655
               ],
               [
                30.338849800278126,
                6.512490944401634
               ],
               [
                30.344438417698882,
                6.517760903243129
               ],
               [
                30.345419030363985,
                6.52705070932285
               ],
               [
                30.344490023495837,
                6.539179064462303
               ],
               [
                30.344954517037365,
                6.547901169003808
               ],
               [
                30.346606032042814,
                6.557139360293263
               ],
               [
                30.33803876737528,
                6.565138911731424
               ],
               [
                30.32699421221315,
                6.577628558711069
               ],
               [
                30.316792133849958,
                6.587544813642296
               ],
               [
                30.31619931244836,
                6.5885703312558235
               ],
               [
                30.315226914190816,
                6.599196049658019
               ],
               [
                30.31398384517837,
                6.603139565138861
               ],
               [
                30.310497292316256,
                6.608212239703164
               ],
               [
                30.304047269166176,
                6.611803309974846
               ],
               [
                30.296921194157846,
                6.613325009641528
               ],
               [
                30.287630732472394,
                6.617857760926995
               ],
               [
                30.279642743617785,
                6.622188504695771
               ],
               [
                30.268126840281525,
                6.628637383908199
               ],
               [
                30.264736683051524,
                6.630549994586602
               ],
               [
                30.2626122064882,
                6.636018806123047
               ],
               [
                30.25590737842282,
                6.6349287405689665
               ],
               [
                30.24746746135429,
                6.632823783790627
               ],
               [
                30.23994113767344,
                6.630010550646432
               ],
               [
                30.233552984282824,
                6.627783873327132
               ],
               [
                30.226929827249762,
                6.6226420597832885
               ],
               [
                30.215902354709954,
                6.621309355342532
               ],
               [
                30.20783468862004,
                6.618282937907281
               ],
               [
                30.202101751594626,
                6.617131689675773
               ],
               [
                30.196994971141066,
                6.615930020054407
               ],
               [
                30.190938315051255,
                6.613548770859154
               ],
               [
                30.148522531789467,
                6.651251689314051
               ],
               [
                30.051096150666865,
                6.6615070983739315
               ],
               [
                29.91264813510338,
                6.676890210614772
               ],
               [
                29.794710935861076,
                6.779444296716974
               ],
               [
                29.775070265780187,
                6.789264631757419
               ],
               [
                29.743433893259635,
                6.805082818017695
               ],
               [
                29.707539963798354,
                6.815338227077575
               ],
               [
                29.58447506047571,
                6.846104452458576
               ],
               [
                29.517584489432693,
                6.873975523651552
               ],
               [
                29.523445373904906,
                6.895221229975846
               ],
               [
                29.525884780458284,
                6.904064080193223
               ],
               [
                29.512646648424152,
                6.918436909335924
               ],
               [
                29.455869897178047,
                6.980080239311633
               ],
               [
                29.45299463239644,
                6.983201956105461
               ],
               [
                29.474640499259692,
                7.016141319466385
               ],
               [
                29.542316017470284,
                7.119125802214057
               ],
               [
                29.47166556621295,
                7.133255892645366
               ],
               [
                29.363983776030466,
                7.2050437524672475
               ],
               [
                29.26655739490792,
                7.256320795068689
               ],
               [
                29.122981675264157,
                7.333236358970851
               ],
               [
                29.05356763893542,
                7.378355482719428
               ],
               [
                29.020427589161955,
                7.399896514712452
               ],
               [
                28.820447121937207,
                7.476812079513934
               ],
               [
                28.728148444894885,
                7.522961418035038
               ],
               [
                28.60508354247156,
                7.57936616471676
               ],
               [
                28.53842338672996,
                7.58962157377664
               ],
               [
                28.47689093506864,
                7.60500468601748
               ],
               [
                28.450658592320224,
                7.628150871165815
               ],
               [
                28.37242158708665,
                7.587424758445877
               ],
               [
                28.304397765044882,
                7.651143274042909
               ],
               [
                28.23708476714836,
                7.634143247313034
               ],
               [
                28.102883166824768,
                7.609872745031225
               ],
               [
                28.042459596333345,
                7.623432403582626
               ],
               [
                28.04179930149661,
                7.624564338873199
               ],
               [
                28.04095035047834,
                7.625979256637436
               ],
               [
                28.037271563931597,
                7.628526108792926
               ],
               [
                28.034064416039996,
                7.631355945220719
               ],
               [
                28.032460842094224,
                7.633525485912514
               ],
               [
                28.032327298166308,
                7.633903861274234
               ],
               [
                28.039286578612746,
                7.653853799213493
               ],
               [
                28.04557162293213,
                7.671870925902567
               ],
               [
                28.04725606211764,
                7.676699651267938
               ],
               [
                28.04605602476579,
                7.677476145707601
               ],
               [
                28.041538944166973,
                7.680398962142419
               ],
               [
                28.011852276661273,
                7.699607982822215
               ],
               [
                28.00976970041137,
                7.728764042226828
               ],
               [
                27.913971219895927,
                7.751672374680368
               ],
               [
                27.883071874167683,
                7.740288405485558
               ],
               [
                27.87440228193981,
                7.737094345427749
               ],
               [
                27.809842436179565,
                7.755837526280857
               ],
               [
                27.800561131391134,
                7.785228324927289
               ],
               [
                27.797346982277475,
                7.795406463337656
               ],
               [
                27.666144716305666,
                7.924526154858199
               ],
               [
                27.662967737071483,
                7.867340512454746
               ],
               [
                27.662165353848025,
                7.867819353780192
               ],
               [
                27.500362005002557,
                7.984412942503354
               ],
               [
                27.400424642982955,
                8.105765453912625
               ],
               [
                27.340355850542096,
                8.195161150866454
               ],
               [
                27.33798480775272,
                8.198689788403044
               ],
               [
                27.33798386166592,
                8.198689633719653
               ],
               [
                27.315068062141393,
                8.228635936399371
               ],
               [
                27.297861061838603,
                8.249736936410557
               ],
               [
                27.2847760645638,
                8.258563936976145
               ],
               [
                27.257184061994906,
                8.273083936574437
               ],
               [
                27.225574062093358,
                8.306895939096364
               ],
               [
                27.200022061868708,
                8.337570939946943
               ],
               [
                27.189804061907978,
                8.359371938064555
               ],
               [
                27.159378064446173,
                8.38599794105221
               ],
               [
                27.158378057901075,
                8.383862937924278
               ],
               [
                27.134571059906534,
                8.399188939617943
               ],
               [
                27.111862060385818,
                8.445742938885587
               ],
               [
                27.07830005860086,
                8.473395937072894
               ],
               [
                27.0355317240099,
                8.489916115236554
               ],
               [
                27.003054655348137,
                8.517412207807183
               ],
               [
                26.922152981375064,
                8.595934421336551
               ],
               [
                26.79128262549284,
                8.67921555665265
               ],
               [
                26.67706849721344,
                8.757737769282699
               ],
               [
                26.586793513310056,
                8.808984413899623
               ],
               [
                26.584916758601594,
                8.810049795761529
               ],
               [
                26.4605375455713,
                8.841018904598798
               ],
               [
                26.310631502541867,
                8.831501061025222
               ],
               [
                26.170521370764675,
                8.864860024670463
               ],
               [
                26.136305371195988,
                9.069428021785825
               ],
               [
                26.150161986786316,
                9.208441177618283
               ],
               [
                26.15020535928994,
                9.208876298402515
               ],
               [
                26.218674938397726,
                9.895780794747907
               ],
               [
                26.21867497526995,
                9.895781283979147
               ],
               [
                26.221081718446612,
                9.88833607015357
               ],
               [
                26.26326256551505,
                9.75785039477995
               ],
               [
                26.26665115432735,
                9.747367859239375
               ],
               [
                26.2699503712127,
                9.740562963609932
               ],
               [
                26.27425575320052,
                9.73168277713853
               ],
               [
                26.290891550904405,
                9.68700625563423
               ],
               [
                26.290891647131843,
                9.687005996629466
               ],
               [
                26.290891665118295,
                9.687005955260702
               ],
               [
                26.290897657301116,
                9.686992054439827
               ],
               [
                26.291659476603627,
                9.685224706754866
               ],
               [
                26.30277442889684,
                9.65943908694436
               ],
               [
                26.31366811199382,
                9.636703204889045
               ],
               [
                26.313705443751303,
                9.636625290324957
               ],
               [
                26.31421761485109,
                9.636010767383084
               ],
               [
                26.316082001183474,
                9.633773803618169
               ],
               [
                26.316354688218325,
                9.633446514245293
               ],
               [
                26.318458556817006,
                9.63092136363008
               ],
               [
                26.320598372217148,
                9.62775457461396
               ],
               [
                26.330341160516184,
                9.613335872852304
               ],
               [
                26.330341338581945,
                9.61333560935094
               ],
               [
                26.347927093760404,
                9.594324112168067
               ],
               [
                26.34795438188928,
                9.594305919782414
               ],
               [
                26.363108641850374,
                9.584203079808333
               ],
               [
                26.36361122078125,
                9.58386802658822
               ],
               [
                26.36544044452097,
                9.582697382678134
               ],
               [
                26.37069805387216,
                9.579332681658002
               ],
               [
                26.375494003445567,
                9.576263427715048
               ],
               [
                26.395855525112438,
                9.565846082230962
               ],
               [
                26.395931244431438,
                9.565807343034521
               ],
               [
                26.395931382927017,
                9.565807291773126
               ],
               [
                26.40472278652743,
                9.562582992910848
               ],
               [
                26.410188675267193,
                9.560578345614203
               ],
               [
                26.410258824185462,
                9.560557304176314
               ],
               [
                26.42832391081987,
                9.55513850303953
               ],
               [
                26.433902568248982,
                9.553465130011773
               ],
               [
                26.433954238797128,
                9.553449631095646
               ],
               [
                26.43671599924403,
                9.552375407998738
               ],
               [
                26.442470970558873,
                9.550136936070771
               ],
               [
                26.44250869801806,
                9.55012226093362
               ],
               [
                26.442508935439093,
                9.550122198880445
               ],
               [
                26.44863298312572,
                9.548510504955914
               ],
               [
                26.46056938157176,
                9.545369147867916
               ],
               [
                26.461056623464458,
                9.545197979003603
               ],
               [
                26.478155135850898,
                9.539191246079213
               ],
               [
                26.494704806381776,
                9.534176133521783
               ],
               [
                26.509494346287113,
                9.52969439987669
               ],
               [
                26.509524866579397,
                9.52968515124877
               ],
               [
                26.509525299153267,
                9.529685019947749
               ],
               [
                26.516212382695358,
                9.52791856528961
               ],
               [
                26.559906006357153,
                9.516376495279076
               ],
               [
                26.56764408710501,
                9.514684093496157
               ],
               [
                26.575115039527475,
                9.51305011527063
               ],
               [
                26.57511520410344,
                9.513050079297784
               ],
               [
                26.584093826768765,
                9.510961911063418
               ],
               [
                26.5955522940032,
                9.508297002204927
               ],
               [
                26.59555244418999,
                9.5082969671314
               ],
               [
                26.604755787649538,
                9.507327937734203
               ],
               [
                26.613613005435923,
                9.506395353362905
               ],
               [
                26.61361312864301,
                9.506395339873109
               ],
               [
                26.615935266299573,
                9.505834967809562
               ],
               [
                26.627397536766978,
                9.50306892389176
               ],
               [
                26.63879023388222,
                9.50022075028744
               ],
               [
                26.63880348179532,
                9.500217438084348
               ],
               [
                26.640893388419215,
                9.50000833581612
               ],
               [
                26.65306266630904,
                9.498790756288429
               ],
               [
                26.653062820093112,
                9.498790740999937
               ],
               [
                26.66048562011531,
                9.496792691129826
               ],
               [
                26.665420532031987,
                9.495464325018645
               ],
               [
                26.669695594276334,
                9.494988576461708
               ],
               [
                26.669696808361095,
                9.49498844066403
               ],
               [
                26.673500061078983,
                9.49498844066403
               ],
               [
                26.67350055480682,
                9.494988332745436
               ],
               [
                26.682822331785246,
                9.492949267494737
               ],
               [
                26.68926293183887,
                9.49154043724144
               ],
               [
                26.70391840261226,
                9.488334668010566
               ],
               [
                26.703918456571557,
                9.48833465631941
               ],
               [
                26.731009097891615,
                9.494038299727777
               ],
               [
                26.73101043698216,
                9.49403858211491
               ],
               [
                26.740044309497364,
                9.495242896642424
               ],
               [
                26.74526779137551,
                9.495939244400631
               ],
               [
                26.745267867817915,
                9.495939255192525
               ],
               [
                26.749295716324298,
                9.496671523671921
               ],
               [
                26.750497787043287,
                9.496890062526404
               ],
               [
                26.750497817620214,
                9.496890067922322
               ],
               [
                26.78804397614863,
                9.509722710035078
               ],
               [
                26.812324558032003,
                9.518057888460817
               ],
               [
                26.812336336452802,
                9.518061931812724
               ],
               [
                26.819888915840863,
                9.520654625110922
               ],
               [
                26.819889068725615,
                9.5206546781709
               ],
               [
                26.853086806411056,
                9.531561989594195
               ],
               [
                26.85315895092492,
                9.531585693025363
               ],
               [
                26.869794845755564,
                9.540141106426972
               ],
               [
                26.877874292964293,
                9.544419246151335
               ],
               [
                26.877874373903296,
                9.544419289318796
               ],
               [
                26.916192345900072,
                9.561961853656669
               ],
               [
                26.917324066252718,
                9.562479972872495
               ],
               [
                26.926950669337998,
                9.566330678318195
               ],
               [
                26.97435754336601,
                9.585293745210208
               ],
               [
                26.974357605419186,
                9.585293770391218
               ],
               [
                26.974357837444302,
                9.585293880108509
               ],
               [
                26.992420081321768,
                9.59384912713557
               ],
               [
                26.992420197334297,
                9.593849181994187
               ],
               [
                26.995553956050287,
                9.594419112052435
               ],
               [
                26.99764804362235,
                9.594799959650459
               ],
               [
                26.99764823877524,
                9.594799994724042
               ],
               [
                27.00287628201488,
                9.593849181994187
               ],
               [
                27.022363438721754,
                9.60192861751176
               ],
               [
                27.022363662652936,
                9.60192871104124
               ],
               [
                27.0471044483117,
                9.606876868173003
               ],
               [
                27.048503759241157,
                9.607156730898453
               ],
               [
                27.048503876153006,
                9.607156754280822
               ],
               [
                27.062561510005708,
                9.60926572833074
               ],
               [
                27.07702064528661,
                9.611434937172646
               ],
               [
                27.077532344242343,
                9.611690273587328
               ],
               [
                27.07797241219714,
                9.611909866447206
               ],
               [
                27.078554143159238,
                9.61203089990613
               ],
               [
                27.078694285413007,
                9.612060057725557
               ],
               [
                27.090682983033275,
                9.614554404762032
               ],
               [
                27.092275620323676,
                9.614885330093955
               ],
               [
                27.09365654011731,
                9.615172385597191
               ],
               [
                27.11536762221806,
                9.61968838611017
               ],
               [
                27.13738250699714,
                9.624267578386082
               ],
               [
                27.14120065608546,
                9.624013239319595
               ],
               [
                27.144512176595697,
                9.623792648212202
               ],
               [
                27.144571235074466,
                9.623794087127465
               ],
               [
                27.183484914397354,
                9.624742504962683
               ],
               [
                27.183485031309203,
                9.624742507660642
               ],
               [
                27.225485424013186,
                9.62549267624604
               ],
               [
                27.225498759160473,
                9.625492914566394
               ],
               [
                27.225500198075736,
                9.625492939747403
               ],
               [
                27.22661030142433,
                9.625512767100588
               ],
               [
                27.23671826573542,
                9.625693305102004
               ],
               [
                27.236719130883216,
                9.625693321289816
               ],
               [
                27.30623665759572,
                9.624601518245527
               ],
               [
                27.30628145912209,
                9.624600814975679
               ],
               [
                27.306301682176922,
                9.624600497515019
               ],
               [
                27.327499389884963,
                9.624267578386082
               ],
               [
                27.35400375866658,
                9.623482453152747
               ],
               [
                27.364788001465172,
                9.62316299687484
               ],
               [
                27.387443550679393,
                9.622491883193902
               ],
               [
                27.387449931369304,
                9.622491694336247
               ],
               [
                27.391662597750724,
                9.622366905308468
               ],
               [
                27.396162035449606,
                9.62228193376427
               ],
               [
                27.45433235185658,
                9.621183394797868
               ],
               [
                27.458217620946527,
                9.621109961555533
               ],
               [
                27.46103286677345,
                9.621056557114457
               ],
               [
                27.466667807373483,
                9.620950825620127
               ],
               [
                27.467233658106863,
                9.620940208224056
               ],
               [
                27.473413362137023,
                9.619990364963428
               ],
               [
                27.47341346735766,
                9.619990348775616
               ],
               [
                27.474838256980036,
                9.619990348775616
               ],
               [
                27.485834274831973,
                9.619512156760663
               ],
               [
                27.51856613222128,
                9.618088722416644
               ],
               [
                27.522840475007968,
                9.617867640279428
               ],
               [
                27.523717260043554,
                9.6178222901666
               ],
               [
                27.54613113444435,
                9.616662978613647
               ],
               [
                27.570617799571835,
                9.61503037814947
               ],
               [
                27.57735716520108,
                9.614581043580358
               ],
               [
                27.596036788267213,
                9.613335617444818
               ],
               [
                27.596036910575037,
                9.61333560935094
               ],
               [
                27.652951488320582,
                9.610129188111614
               ],
               [
                27.663528441884125,
                9.609533309914355
               ],
               [
                27.705447661780227,
                9.607004177101146
               ],
               [
                27.70552928514843,
                9.60699925241363
               ],
               [
                27.705537202779738,
                9.606998774873603
               ],
               [
                27.718662262153714,
                9.606206893933063
               ],
               [
                27.73324588249153,
                9.605164958296257
               ],
               [
                27.758585702068558,
                9.603354538481199
               ],
               [
                27.758586883777696,
                9.603354453944917
               ],
               [
                27.76394017919597,
                9.60346849517498
               ],
               [
                27.780925751122595,
                9.603830338299531
               ],
               [
                27.795763697037046,
                9.60328064118869
               ],
               [
                27.806492797904355,
                9.602883163327363
               ],
               [
                27.80659103444873,
                9.602879523771037
               ],
               [
                27.80659139327821,
                9.602879502187307
               ],
               [
                27.82227409577297,
                9.60192877579243
               ],
               [
                27.822275162368896,
                9.60192871104124
               ],
               [
                27.828454789956652,
                9.602879495892068
               ],
               [
                27.828454970720372,
                9.602879523771037
               ],
               [
                27.85316848803535,
                9.605256081203208
               ],
               [
                27.853166536506478,
                9.605256655869994
               ],
               [
                27.851634482045768,
                9.605708076866279
               ],
               [
                27.85106468238922,
                9.60587596860114
               ],
               [
                27.851064862253622,
                9.605875979392977
               ],
               [
                27.86819600024529,
                9.606827708531966
               ],
               [
                27.868196486778515,
                9.606827736410935
               ],
               [
                27.874781749977842,
                9.607389864850404
               ],
               [
                27.907220708968623,
                9.610158908906556
               ],
               [
                27.907220840269588,
                9.61015891969845
               ],
               [
                27.907315416573283,
                9.610111631546602
               ],
               [
                27.907315258292613,
                9.610111958000516
               ],
               [
                27.90705590730431,
                9.610646763237582
               ],
               [
                27.832981039143704,
                9.763395877118057
               ],
               [
                27.8332006751711,
                10.014934270400317
               ],
               [
                27.83325208671448,
                10.073812836193497
               ],
               [
                27.833333164194244,
                10.16666662786264
               ],
               [
                28.58984972578429,
                10.16666662786264
               ],
               [
                28.999999914264663,
                10.16666662786264
               ],
               [
                29.000330406123396,
                9.721724488794166
               ],
               [
                29.000368655189334,
                9.670229885800666
               ]
              ]
             ],
             "type": "Polygon"
            },
            "id": "601",
            "properties": {},
            "type": "Feature"
           },
           {
            "bbox": [
             26.136305371195988,
             6.280516909228027,
             30.81772678656199,
             10.16666662786264
            ],
            "geometry": {
             "coordinates": [
              [
               [
                29.000368655189334,
                9.670229885800666
               ],
               [
                29.000368579646306,
                9.670229797667105
               ],
               [
                29.00032997085151,
                9.670185088770893
               ],
               [
                28.989069040603795,
                9.65409804388969
               ],
               [
                28.987005234104345,
                9.651149749661272
               ],
               [
                28.977010727363222,
                9.64115524292015
               ],
               [
                28.96253519654215,
                9.628402989406482
               ],
               [
                28.9592629413317,
                9.625520288130815
               ],
               [
                28.957023621343126,
                9.623547554176355
               ],
               [
                28.951665485773617,
                9.61885918510336
               ],
               [
                28.94846240911295,
                9.61605649291289
               ],
               [
                28.934181213692113,
                9.603560448156202
               ],
               [
                28.922285015840885,
                9.593150679460337
               ],
               [
                28.915145874582493,
                9.586903572142205
               ],
               [
                28.893253326379977,
                9.56739234867797
               ],
               [
                28.873743057096476,
                9.548357009568406
               ],
               [
                28.863074109182833,
                9.53844936564576
               ],
               [
                28.860418320349254,
                9.535983086450301
               ],
               [
                28.84363322889044,
                9.518500074319036
               ],
               [
                28.843490432737326,
                9.518351341741095
               ],
               [
                28.837574005236206,
                9.512188910989494
               ],
               [
                28.83637223848808,
                9.511155020687681
               ],
               [
                28.8347339633018,
                9.509745597781148
               ],
               [
                28.829227668022497,
                9.505768829867634
               ],
               [
                28.826168060207863,
                9.503559112862831
               ],
               [
                28.824364489629545,
                9.502296251570783
               ],
               [
                28.821409225655316,
                9.500226973596
               ],
               [
                28.817128945544425,
                9.498799896098376
               ],
               [
                28.817127227839364,
                9.49879932412955
               ],
               [
                28.8152236940183,
                9.494992255588159
               ],
               [
                28.812126853371637,
                9.491011742897683
               ],
               [
                28.812024682293327,
                9.490880417597225
               ],
               [
                28.811891556550165,
                9.490709305390169
               ],
               [
                28.805704117451114,
                9.48785400375931
               ],
               [
                28.803800583630107,
                9.483095169206763
               ],
               [
                28.803350787708723,
                9.476785333276553
               ],
               [
                28.80334659866662,
                9.47672657517137
               ],
               [
                28.80332565345617,
                9.476432799933832
               ],
               [
                28.80324959419346,
                9.476347233038439
               ],
               [
                28.80270226229959,
                9.47573148521991
               ],
               [
                28.799518674847036,
                9.47214994776192
               ],
               [
                28.799518584914836,
                9.472149848836523
               ],
               [
                28.799608738352617,
                9.47070450880608
               ],
               [
                28.79995061472914,
                9.46522354742882
               ],
               [
                28.799993465626017,
                9.464536552619847
               ],
               [
                28.79999350609546,
                9.464535868235771
               ],
               [
                28.799993515088715,
                9.46453571265306
               ],
               [
                28.79942412192571,
                9.46328254605271
               ],
               [
                28.799294559296527,
                9.462997394414288
               ],
               [
                28.79761505109377,
                9.459300994645218
               ],
               [
                28.791904449630692,
                9.4507350924506
               ],
               [
                28.790956612757498,
                9.449075902630852
               ],
               [
                28.790000916709005,
                9.447402954083088
               ],
               [
                28.790952403031042,
                9.44359700339902
               ],
               [
                28.79095268272016,
                9.443595886441074
               ],
               [
                28.790096351865202,
                9.44116961538549
               ],
               [
                28.78809738198862,
                9.435505866802373
               ],
               [
                28.782402019537642,
                9.429563397632762
               ],
               [
                28.777151108337023,
                9.424084662976838
               ],
               [
                28.76790764162439,
                9.413079486429183
               ],
               [
                28.767158508158673,
                9.412187575696123
               ],
               [
                28.760494232323026,
                9.4045734413113
               ],
               [
                28.759336816540895,
                9.403705378800225
               ],
               [
                28.758590698501962,
                9.40314579004621
               ],
               [
                28.762683796420106,
                9.380732957959708
               ],
               [
                28.76790764162439,
                9.35212841859169
               ],
               [
                28.767913247098704,
                9.352097719334324
               ],
               [
                28.807549390492056,
                9.306363708418473
               ],
               [
                28.806818229078033,
                9.299469904912257
               ],
               [
                28.79749664815182,
                9.211580707283872
               ],
               [
                28.794929473116724,
                9.187375918463943
               ],
               [
                28.786203832440947,
                9.105105596845874
               ],
               [
                28.781241645885302,
                9.100920819340388
               ],
               [
                28.77470217076859,
                9.095405862690484
               ],
               [
                28.694722872962245,
                9.027956654376169
               ],
               [
                28.685727477041496,
                9.02539566218013
               ],
               [
                28.93298415939148,
                9.03337168285691
               ],
               [
                29.102470858043716,
                9.03883899612282
               ],
               [
                29.12626197311164,
                8.98106057458591
               ],
               [
                29.138364787504997,
                8.951668024060098
               ],
               [
                29.16428756022276,
                8.904034928269368
               ],
               [
                29.202743164465517,
                8.83337275614781
               ],
               [
                29.2409188736072,
                8.763224891015966
               ],
               [
                29.24917298714371,
                8.743715168520282
               ],
               [
                29.254733873969144,
                8.73057125396025
               ],
               [
                29.25798230164196,
                8.726704078330613
               ],
               [
                29.282854327165524,
                8.697094524093075
               ],
               [
                29.28706821212836,
                8.692077994204112
               ],
               [
                29.337318282912463,
                8.647411264518269
               ],
               [
                29.425516227691787,
                8.56901309178079
               ],
               [
                29.554389933948357,
                8.482023340304977
               ],
               [
                29.630624398996872,
                8.430565076217363
               ],
               [
                29.644754574863782,
                8.413174089912388
               ],
               [
                29.658805934146585,
                8.395880109879215
               ],
               [
                29.697284554738474,
                8.348521807335601
               ],
               [
                29.69754500379895,
                8.344354620569334
               ],
               [
                29.713236877579902,
                8.345571044468159
               ],
               [
                29.726473089561466,
                8.354964485722462
               ],
               [
                29.72981342884674,
                8.35733504917323
               ],
               [
                29.731163854428416,
                8.357447584938143
               ],
               [
                29.73750498496713,
                8.357976012183258
               ],
               [
                29.740039546088212,
                8.35818722516035
               ],
               [
                29.749042320047067,
                8.3589374566983
               ],
               [
                29.757965421267215,
                8.357290932030935
               ],
               [
                29.798568992365176,
                8.34979860632069
               ],
               [
                29.802883214688677,
                8.349002530042753
               ],
               [
                29.8141000682636,
                8.350925419072894
               ],
               [
                29.81994560130852,
                8.344317424609528
               ],
               [
                29.820042057195224,
                8.344208388106665
               ],
               [
                29.827239809969285,
                8.340029047002986
               ],
               [
                29.843048102787748,
                8.338393706304544
               ],
               [
                29.84582773815964,
                8.338106157972845
               ],
               [
                29.85776727793757,
                8.336535165565465
               ],
               [
                29.870184333440307,
                8.334901342922706
               ],
               [
                29.885143900071,
                8.346408701800215
               ],
               [
                29.886849372600523,
                8.347720604022697
               ],
               [
                29.903988739388865,
                8.353205201359003
               ],
               [
                29.91889752400158,
                8.357976012183258
               ],
               [
                29.974180585865383,
                8.369032624556041
               ],
               [
                29.982934754835128,
                8.381677534990274
               ],
               [
                29.985095842798955,
                8.384799106093908
               ],
               [
                30.020329924386544,
                8.435692780297643
               ],
               [
                30.01765924547783,
                8.439431731489265
               ],
               [
                30.022457865138392,
                8.444230351149827
               ],
               [
                30.023160844497454,
                8.444933330508832
               ],
               [
                30.02722027719409,
                8.448351800195496
               ],
               [
                30.031863307845413,
                8.451253694802233
               ],
               [
                30.042076318367435,
                8.449461938617617
               ],
               [
                30.042923871839264,
                8.449313244710538
               ],
               [
                30.060229874009508,
                8.451236133740622
               ],
               [
                30.07849731979553,
                8.454120467285804
               ],
               [
                30.095803321965775,
                8.454440948790818
               ],
               [
                30.095803321965775,
                8.454693553964375
               ],
               [
                30.095803321965775,
                8.456203597518083
               ],
               [
                30.09626973735857,
                8.456203597518083
               ],
               [
                30.102373193268306,
                8.456203597518083
               ],
               [
                30.105499219613364,
                8.453077571173026
               ],
               [
                30.122884010488747,
                8.435692780297643
               ],
               [
                30.13892641122493,
                8.391576177598552
               ],
               [
                30.143394827709187,
                8.379288032716602
               ],
               [
                30.163905644929628,
                8.312627876975
               ],
               [
                30.167395047743298,
                8.29983340119054
               ],
               [
                30.169736030693286,
                8.291249796740772
               ],
               [
                30.179288757170468,
                8.256223130293279
               ],
               [
                30.19467187031063,
                8.199818383611557
               ],
               [
                30.174161053090188,
                8.102392001589635
               ],
               [
                30.148522531789467,
                8.035731845848034
               ],
               [
                30.169033349009908,
                7.979327099166369
               ],
               [
                30.18870085755856,
                7.939992081169635
               ],
               [
                30.19979957439091,
                7.917794647505048
               ],
               [
                30.24082120883179,
                7.856262195843726
               ],
               [
                30.26645973013251,
                7.794729745081725
               ],
               [
                30.27158743421279,
                7.789602040102125
               ],
               [
                30.333119885874112,
                7.58962157377664
               ],
               [
                30.333035212904804,
                7.587420073877354
               ],
               [
                30.330221065150113,
                7.514252221462925
               ],
               [
                30.32799218179383,
                7.456301262293493
               ],
               [
                30.353630703094495,
                7.343491768030731
               ],
               [
                30.366220285437862,
                7.297329965805318
               ],
               [
                30.363405389447223,
                7.251353331291227
               ],
               [
                30.45770387093694,
                7.190452228887295
               ],
               [
                30.458662357581773,
                7.189833206637218
               ],
               [
                30.459261411285127,
                7.18863509833119
               ],
               [
                30.50233412771786,
                7.138383596725646
               ],
               [
                30.52093805035082,
                7.068618882355565
               ],
               [
                30.52284494403898,
                7.061468031924164
               ],
               [
                30.558226104351263,
                6.990705713098237
               ],
               [
                30.55873887439958,
                6.9896801721022825
               ],
               [
                30.61001591700102,
                6.933275425420618
               ],
               [
                30.702314594043344,
                6.866615269679016
               ],
               [
                30.794613271085666,
                6.820465931157855
               ],
               [
                30.81772678656199,
                6.799663766869401
               ],
               [
                30.81668643642996,
                6.79888350337103
               ],
               [
                30.80695180947845,
                6.807806911260002
               ],
               [
                30.79285062325772,
                6.792423798119842
               ],
               [
                30.765930175936944,
                6.748838311638792
               ],
               [
                30.762963941133023,
                6.745523108404768
               ],
               [
                30.74989642038355,
                6.730918232590398
               ],
               [
                30.74413743269639,
                6.724481716358184
               ],
               [
                30.712089280396015,
                6.689869712916959
               ],
               [
                30.709773312088714,
                6.686997911424498
               ],
               [
                30.707062119621185,
                6.683636032476954
               ],
               [
                30.701619407309863,
                6.678864339417771
               ],
               [
                30.656966459734406,
                6.674486599776799
               ],
               [
                30.624918307433973,
                6.657821560616583
               ],
               [
                30.61312155481596,
                6.651923184307577
               ],
               [
                30.604407491112852,
                6.647566152456022
               ],
               [
                30.60200387937556,
                6.646123985233771
               ],
               [
                30.59463280476018,
                6.646123985233771
               ],
               [
                30.581964358168648,
                6.630740872093611
               ],
               [
                30.56480166656371,
                6.609900461437178
               ],
               [
                30.52284494403898,
                6.558953012271729
               ],
               [
                30.49207871865798,
                6.4563989270689035
               ],
               [
                30.49207871865798,
                6.374355658187142
               ],
               [
                30.4869510145777,
                6.3230786155857
               ],
               [
                30.48312772586388,
                6.317726011746117
               ],
               [
                30.461312493276978,
                6.2871846852251
               ],
               [
                30.44797694038357,
                6.280516909228027
               ],
               [
                30.446626933885966,
                6.28097006771452
               ],
               [
                30.44117794160877,
                6.284087054074348
               ],
               [
                30.43646293551609,
                6.285423059926302
               ],
               [
                30.433908943642905,
                6.289149068974382
               ],
               [
                30.431583887686315,
                6.291400714171687
               ],
               [
                30.427533935642657,
                6.296423059976291
               ],
               [
                30.42371738105237,
                6.3001357338770845
               ],
               [
                30.422016944726295,
                6.306952069782255
               ],
               [
                30.416024940898353,
                6.310793065247822
               ],
               [
                30.40892994645992,
                6.31809305924736
               ],
               [
                30.405649928301614,
                6.322457068938604
               ],
               [
                30.399930428046844,
                6.3295041618875985
               ],
               [
                30.385396637344968,
                6.31962664435423
               ],
               [
                30.371279832598248,
                6.3183161882415675
               ],
               [
                30.366818905668026,
                6.321987172270212
               ],
               [
                30.36523002664444,
                6.323368374450979
               ],
               [
                30.359919800658304,
                6.327984518970425
               ],
               [
                30.355922569570964,
                6.333614733633112
               ],
               [
                30.35168652621229,
                6.34115262169621
               ],
               [
                30.347372856971845,
                6.3489190949403
               ],
               [
                30.345804011246173,
                6.35718826042995
               ],
               [
                30.34308520871548,
                6.363466199205789
               ],
               [
                30.3376416375516,
                6.377121428711007
               ],
               [
                30.33328154710574,
                6.381924667289638
               ],
               [
                30.331847773256186,
                6.387598205892516
               ],
               [
                30.327959321465585,
                6.3838518146096135
               ],
               [
                30.324478970328244,
                6.383833731041875
               ],
               [
                30.32010887132742,
                6.390530377974585
               ],
               [
                30.312109621162165,
                6.3965435590380935
               ],
               [
                30.30782345948512,
                6.40114766433328
               ],
               [
                30.30263922671901,
                6.40524020467177
               ],
               [
                30.29787110846496,
                6.412710238886461
               ],
               [
                30.296669616909355,
                6.419277484168617
               ],
               [
                30.29562176823009,
                6.431620452621814
               ],
               [
                30.300515747503823,
                6.435271040026521
               ],
               [
                30.31855576463687,
                6.450110840343029
               ],
               [
                30.32426730409287,
                6.4606249447854225
               ],
               [
                30.32515067306514,
                6.466718812123531
               ],
               [
                30.327747514935936,
                6.475483156022904
               ],
               [
                30.329652306009166,
                6.482063008001489
               ],
               [
                30.331642779091055,
                6.490090396154926
               ],
               [
                30.33196738488698,
                6.495608685692332
               ],
               [
                30.335538043246174,
                6.5030746091059655
               ],
               [
                30.338849800278126,
                6.512490944401634
               ],
               [
                30.344438417698882,
                6.517760903243129
               ],
               [
                30.345419030363985,
                6.52705070932285
               ],
               [
                30.344490023495837,
                6.539179064462303
               ],
               [
                30.344954517037365,
                6.547901169003808
               ],
               [
                30.346606032042814,
                6.557139360293263
               ],
               [
                30.33803876737528,
                6.565138911731424
               ],
               [
                30.32699421221315,
                6.577628558711069
               ],
               [
                30.316792133849958,
                6.587544813642296
               ],
               [
                30.31619931244836,
                6.5885703312558235
               ],
               [
                30.315226914190816,
                6.599196049658019
               ],
               [
                30.31398384517837,
                6.603139565138861
               ],
               [
                30.310497292316256,
                6.608212239703164
               ],
               [
                30.304047269166176,
                6.611803309974846
               ],
               [
                30.296921194157846,
                6.613325009641528
               ],
               [
                30.287630732472394,
                6.617857760926995
               ],
               [
                30.279642743617785,
                6.622188504695771
               ],
               [
                30.268126840281525,
                6.628637383908199
               ],
               [
                30.264736683051524,
                6.630549994586602
               ],
               [
                30.2626122064882,
                6.636018806123047
               ],
               [
                30.25590737842282,
                6.6349287405689665
               ],
               [
                30.24746746135429,
                6.632823783790627
               ],
               [
                30.23994113767344,
                6.630010550646432
               ],
               [
                30.233552984282824,
                6.627783873327132
               ],
               [
                30.226929827249762,
                6.6226420597832885
               ],
               [
                30.215902354709954,
                6.621309355342532
               ],
               [
                30.20783468862004,
                6.618282937907281
               ],
               [
                30.202101751594626,
                6.617131689675773
               ],
               [
                30.196994971141066,
                6.615930020054407
               ],
               [
                30.190938315051255,
                6.613548770859154
               ],
               [
                30.148522531789467,
                6.651251689314051
               ],
               [
                30.051096150666865,
                6.6615070983739315
               ],
               [
                29.91264813510338,
                6.676890210614772
               ],
               [
                29.794710935861076,
                6.779444296716974
               ],
               [
                29.775070265780187,
                6.789264631757419
               ],
               [
                29.743433893259635,
                6.805082818017695
               ],
               [
                29.707539963798354,
                6.815338227077575
               ],
               [
                29.58447506047571,
                6.846104452458576
               ],
               [
                29.517584489432693,
                6.873975523651552
               ],
               [
                29.523445373904906,
                6.895221229975846
               ],
               [
                29.525884780458284,
                6.904064080193223
               ],
               [
                29.512646648424152,
                6.918436909335924
               ],
               [
                29.455869897178047,
                6.980080239311633
               ],
               [
                29.45299463239644,
                6.983201956105461
               ],
               [
                29.474640499259692,
                7.016141319466385
               ],
               [
                29.542316017470284,
                7.119125802214057
               ],
               [
                29.47166556621295,
                7.133255892645366
               ],
               [
                29.363983776030466,
                7.2050437524672475
               ],
               [
                29.26655739490792,
                7.256320795068689
               ],
               [
                29.122981675264157,
                7.333236358970851
               ],
               [
                29.05356763893542,
                7.378355482719428
               ],
               [
                29.020427589161955,
                7.399896514712452
               ],
               [
                28.820447121937207,
                7.476812079513934
               ],
               [
                28.728148444894885,
                7.522961418035038
               ],
               [
                28.60508354247156,
                7.57936616471676
               ],
               [
                28.53842338672996,
                7.58962157377664
               ],
               [
                28.47689093506864,
                7.60500468601748
               ],
               [
                28.450658592320224,
                7.628150871165815
               ],
               [
                28.37242158708665,
                7.587424758445877
               ],
               [
                28.304397765044882,
                7.651143274042909
               ],
               [
                28.23708476714836,
                7.634143247313034
               ],
               [
                28.102883166824768,
                7.609872745031225
               ],
               [
                28.042459596333345,
                7.623432403582626
               ],
               [
                28.04179930149661,
                7.624564338873199
               ],
               [
                28.04095035047834,
                7.625979256637436
               ],
               [
                28.037271563931597,
                7.628526108792926
               ],
               [
                28.034064416039996,
                7.631355945220719
               ],
               [
                28.032460842094224,
                7.633525485912514
               ],
               [
                28.032327298166308,
                7.633903861274234
               ],
               [
                28.039286578612746,
                7.653853799213493
               ],
               [
                28.04557162293213,
                7.671870925902567
               ],
               [
                28.04725606211764,
                7.676699651267938
               ],
               [
                28.04605602476579,
                7.677476145707601
               ],
               [
                28.041538944166973,
                7.680398962142419
               ],
               [
                28.011852276661273,
                7.699607982822215
               ],
               [
                28.00976970041137,
                7.728764042226828
               ],
               [
                27.913971219895927,
                7.751672374680368
               ],
               [
                27.883071874167683,
                7.740288405485558
               ],
               [
                27.87440228193981,
                7.737094345427749
               ],
               [
                27.809842436179565,
                7.755837526280857
               ],
               [
                27.800561131391134,
                7.785228324927289
               ],
               [
                27.797346982277475,
                7.795406463337656
               ],
               [
                27.666144716305666,
                7.924526154858199
               ],
               [
                27.662967737071483,
                7.867340512454746
               ],
               [
                27.662165353848025,
                7.867819353780192
               ],
               [
                27.500362005002557,
                7.984412942503354
               ],
               [
                27.400424642982955,
                8.105765453912625
               ],
               [
                27.340355850542096,
                8.195161150866454
               ],
               [
                27.33798480775272,
                8.198689788403044
               ],
               [
                27.33798386166592,
                8.198689633719653
               ],
               [
                27.315068062141393,
                8.228635936399371
               ],
               [
                27.297861061838603,
                8.249736936410557
               ],
               [
                27.2847760645638,
                8.258563936976145
               ],
               [
                27.257184061994906,
                8.273083936574437
               ],
               [
                27.225574062093358,
                8.306895939096364
               ],
               [
                27.200022061868708,
                8.337570939946943
               ],
               [
                27.189804061907978,
                8.359371938064555
               ],
               [
                27.159378064446173,
                8.38599794105221
               ],
               [
                27.158378057901075,
                8.383862937924278
               ],
               [
                27.134571059906534,
                8.399188939617943
               ],
               [
                27.111862060385818,
                8.445742938885587
               ],
               [
                27.07830005860086,
                8.473395937072894
               ],
               [
                27.0355317240099,
                8.489916115236554
               ],
               [
                27.003054655348137,
                8.517412207807183
               ],
               [
                26.922152981375064,
                8.595934421336551
               ],
               [
                26.79128262549284,
                8.67921555665265
               ],
               [
                26.67706849721344,
                8.757737769282699
               ],
               [
                26.586793513310056,
                8.808984413899623
               ],
               [
                26.584916758601594,
                8.810049795761529
               ],
               [
                26.4605375455713,
                8.841018904598798
               ],
               [
                26.310631502541867,
                8.831501061025222
               ],
               [
                26.170521370764675,
                8.864860024670463
               ],
               [
                26.136305371195988,
                9.069428021785825
               ],
               [
                26.150161986786316,
                9.208441177618283
               ],
               [
                26.15020535928994,
                9.208876298402515
               ],
               [
                26.218674938397726,
                9.895780794747907
               ],
               [
                26.21867497526995,
                9.895781283979147
               ],
               [
                26.221081718446612,
                9.88833607015357
               ],
               [
                26.26326256551505,
                9.75785039477995
               ],
               [
                26.26665115432735,
                9.747367859239375
               ],
               [
                26.2699503712127,
                9.740562963609932
               ],
               [
                26.27425575320052,
                9.73168277713853
               ],
               [
                26.290891550904405,
                9.68700625563423
               ],
               [
                26.290891647131843,
                9.687005996629466
               ],
               [
                26.290891665118295,
                9.687005955260702
               ],
               [
                26.290897657301116,
                9.686992054439827
               ],
               [
                26.291659476603627,
                9.685224706754866
               ],
               [
                26.30277442889684,
                9.65943908694436
               ],
               [
                26.31366811199382,
                9.636703204889045
               ],
               [
                26.313705443751303,
                9.636625290324957
               ],
               [
                26.31421761485109,
                9.636010767383084
               ],
               [
                26.316082001183474,
                9.633773803618169
               ],
               [
                26.316354688218325,
                9.633446514245293
               ],
               [
                26.318458556817006,
                9.63092136363008
               ],
               [
                26.320598372217148,
                9.62775457461396
               ],
               [
                26.330341160516184,
                9.613335872852304
               ],
               [
                26.330341338581945,
                9.61333560935094
               ],
               [
                26.347927093760404,
                9.594324112168067
               ],
               [
                26.34795438188928,
                9.594305919782414
               ],
               [
                26.363108641850374,
                9.584203079808333
               ],
               [
                26.36361122078125,
                9.58386802658822
               ],
               [
                26.36544044452097,
                9.582697382678134
               ],
               [
                26.37069805387216,
                9.579332681658002
               ],
               [
                26.375494003445567,
                9.576263427715048
               ],
               [
                26.395855525112438,
                9.565846082230962
               ],
               [
                26.395931244431438,
                9.565807343034521
               ],
               [
                26.395931382927017,
                9.565807291773126
               ],
               [
                26.40472278652743,
                9.562582992910848
               ],
               [
                26.410188675267193,
                9.560578345614203
               ],
               [
                26.410258824185462,
                9.560557304176314
               ],
               [
                26.42832391081987,
                9.55513850303953
               ],
               [
                26.433902568248982,
                9.553465130011773
               ],
               [
                26.433954238797128,
                9.553449631095646
               ],
               [
                26.43671599924403,
                9.552375407998738
               ],
               [
                26.442470970558873,
                9.550136936070771
               ],
               [
                26.44250869801806,
                9.55012226093362
               ],
               [
                26.442508935439093,
                9.550122198880445
               ],
               [
                26.44863298312572,
                9.548510504955914
               ],
               [
                26.46056938157176,
                9.545369147867916
               ],
               [
                26.461056623464458,
                9.545197979003603
               ],
               [
                26.478155135850898,
                9.539191246079213
               ],
               [
                26.494704806381776,
                9.534176133521783
               ],
               [
                26.509494346287113,
                9.52969439987669
               ],
               [
                26.509524866579397,
                9.52968515124877
               ],
               [
                26.509525299153267,
                9.529685019947749
               ],
               [
                26.516212382695358,
                9.52791856528961
               ],
               [
                26.559906006357153,
                9.516376495279076
               ],
               [
                26.56764408710501,
                9.514684093496157
               ],
               [
                26.575115039527475,
                9.51305011527063
               ],
               [
                26.57511520410344,
                9.513050079297784
               ],
               [
                26.584093826768765,
                9.510961911063418
               ],
               [
                26.5955522940032,
                9.508297002204927
               ],
               [
                26.59555244418999,
                9.5082969671314
               ],
               [
                26.604755787649538,
                9.507327937734203
               ],
               [
                26.613613005435923,
                9.506395353362905
               ],
               [
                26.61361312864301,
                9.506395339873109
               ],
               [
                26.615935266299573,
                9.505834967809562
               ],
               [
                26.627397536766978,
                9.50306892389176
               ],
               [
                26.63879023388222,
                9.50022075028744
               ],
               [
                26.63880348179532,
                9.500217438084348
               ],
               [
                26.640893388419215,
                9.50000833581612
               ],
               [
                26.65306266630904,
                9.498790756288429
               ],
               [
                26.653062820093112,
                9.498790740999937
               ],
               [
                26.66048562011531,
                9.496792691129826
               ],
               [
                26.665420532031987,
                9.495464325018645
               ],
               [
                26.669695594276334,
                9.494988576461708
               ],
               [
                26.669696808361095,
                9.49498844066403
               ],
               [
                26.673500061078983,
                9.49498844066403
               ],
               [
                26.67350055480682,
                9.494988332745436
               ],
               [
                26.682822331785246,
                9.492949267494737
               ],
               [
                26.68926293183887,
                9.49154043724144
               ],
               [
                26.70391840261226,
                9.488334668010566
               ],
               [
                26.703918456571557,
                9.48833465631941
               ],
               [
                26.731009097891615,
                9.494038299727777
               ],
               [
                26.73101043698216,
                9.49403858211491
               ],
               [
                26.740044309497364,
                9.495242896642424
               ],
               [
                26.74526779137551,
                9.495939244400631
               ],
               [
                26.745267867817915,
                9.495939255192525
               ],
               [
                26.749295716324298,
                9.496671523671921
               ],
               [
                26.750497787043287,
                9.496890062526404
               ],
               [
                26.750497817620214,
                9.496890067922322
               ],
               [
                26.78804397614863,
                9.509722710035078
               ],
               [
                26.812324558032003,
                9.518057888460817
               ],
               [
                26.812336336452802,
                9.518061931812724
               ],
               [
                26.819888915840863,
                9.520654625110922
               ],
               [
                26.819889068725615,
                9.5206546781709
               ],
               [
                26.853086806411056,
                9.531561989594195
               ],
               [
                26.85315895092492,
                9.531585693025363
               ],
               [
                26.869794845755564,
                9.540141106426972
               ],
               [
                26.877874292964293,
                9.544419246151335
               ],
               [
                26.877874373903296,
                9.544419289318796
               ],
               [
                26.916192345900072,
                9.561961853656669
               ],
               [
                26.917324066252718,
                9.562479972872495
               ],
               [
                26.926950669337998,
                9.566330678318195
               ],
               [
                26.97435754336601,
                9.585293745210208
               ],
               [
                26.974357605419186,
                9.585293770391218
               ],
               [
                26.974357837444302,
                9.585293880108509
               ],
               [
                26.992420081321768,
                9.59384912713557
               ],
               [
                26.992420197334297,
                9.593849181994187
               ],
               [
                26.995553956050287,
                9.594419112052435
               ],
               [
                26.99764804362235,
                9.594799959650459
               ],
               [
                26.99764823877524,
                9.594799994724042
               ],
               [
                27.00287628201488,
                9.593849181994187
               ],
               [
                27.022363438721754,
                9.60192861751176
               ],
               [
                27.022363662652936,
                9.60192871104124
               ],
               [
                27.0471044483117,
                9.606876868173003
               ],
               [
                27.048503759241157,
                9.607156730898453
               ],
               [
                27.048503876153006,
                9.607156754280822
               ],
               [
                27.062561510005708,
                9.60926572833074
               ],
               [
                27.07702064528661,
                9.611434937172646
               ],
               [
                27.077532344242343,
                9.611690273587328
               ],
               [
                27.07797241219714,
                9.611909866447206
               ],
               [
                27.078554143159238,
                9.61203089990613
               ],
               [
                27.078694285413007,
                9.612060057725557
               ],
               [
                27.090682983033275,
                9.614554404762032
               ],
               [
                27.092275620323676,
                9.614885330093955
               ],
               [
                27.09365654011731,
                9.615172385597191
               ],
               [
                27.11536762221806,
                9.61968838611017
               ],
               [
                27.13738250699714,
                9.624267578386082
               ],
               [
                27.14120065608546,
                9.624013239319595
               ],
               [
                27.144512176595697,
                9.623792648212202
               ],
               [
                27.144571235074466,
                9.623794087127465
               ],
               [
                27.183484914397354,
                9.624742504962683
               ],
               [
                27.183485031309203,
                9.624742507660642
               ],
               [
                27.225485424013186,
                9.62549267624604
               ],
               [
                27.225498759160473,
                9.625492914566394
               ],
               [
                27.225500198075736,
                9.625492939747403
               ],
               [
                27.22661030142433,
                9.625512767100588
               ],
               [
                27.23671826573542,
                9.625693305102004
               ],
               [
                27.236719130883216,
                9.625693321289816
               ],
               [
                27.30623665759572,
                9.624601518245527
               ],
               [
                27.30628145912209,
                9.624600814975679
               ],
               [
                27.306301682176922,
                9.624600497515019
               ],
               [
                27.327499389884963,
                9.624267578386082
               ],
               [
                27.35400375866658,
                9.623482453152747
               ],
               [
                27.364788001465172,
                9.62316299687484
               ],
               [
                27.387443550679393,
                9.622491883193902
               ],
               [
                27.387449931369304,
                9.622491694336247
               ],
               [
                27.391662597750724,
                9.622366905308468
               ],
               [
                27.396162035449606,
                9.62228193376427
               ],
               [
                27.45433235185658,
                9.621183394797868
               ],
               [
                27.458217620946527,
                9.621109961555533
               ],
               [
                27.46103286677345,
                9.621056557114457
               ],
               [
                27.466667807373483,
                9.620950825620127
               ],
               [
                27.467233658106863,
                9.620940208224056
               ],
               [
                27.473413362137023,
                9.619990364963428
               ],
               [
                27.47341346735766,
                9.619990348775616
               ],
               [
                27.474838256980036,
                9.619990348775616
               ],
               [
                27.485834274831973,
                9.619512156760663
               ],
               [
                27.51856613222128,
                9.618088722416644
               ],
               [
                27.522840475007968,
                9.617867640279428
               ],
               [
                27.523717260043554,
                9.6178222901666
               ],
               [
                27.54613113444435,
                9.616662978613647
               ],
               [
                27.570617799571835,
                9.61503037814947
               ],
               [
                27.57735716520108,
                9.614581043580358
               ],
               [
                27.596036788267213,
                9.613335617444818
               ],
               [
                27.596036910575037,
                9.61333560935094
               ],
               [
                27.652951488320582,
                9.610129188111614
               ],
               [
                27.663528441884125,
                9.609533309914355
               ],
               [
                27.705447661780227,
                9.607004177101146
               ],
               [
                27.70552928514843,
                9.60699925241363
               ],
               [
                27.705537202779738,
                9.606998774873603
               ],
               [
                27.718662262153714,
                9.606206893933063
               ],
               [
                27.73324588249153,
                9.605164958296257
               ],
               [
                27.758585702068558,
                9.603354538481199
               ],
               [
                27.758586883777696,
                9.603354453944917
               ],
               [
                27.76394017919597,
                9.60346849517498
               ],
               [
                27.780925751122595,
                9.603830338299531
               ],
               [
                27.795763697037046,
                9.60328064118869
               ],
               [
                27.806492797904355,
                9.602883163327363
               ],
               [
                27.80659103444873,
                9.602879523771037
               ],
               [
                27.80659139327821,
                9.602879502187307
               ],
               [
                27.82227409577297,
                9.60192877579243
               ],
               [
                27.822275162368896,
                9.60192871104124
               ],
               [
                27.828454789956652,
                9.602879495892068
               ],
               [
                27.828454970720372,
                9.602879523771037
               ],
               [
                27.85316848803535,
                9.605256081203208
               ],
               [
                27.853166536506478,
                9.605256655869994
               ],
               [
                27.851634482045768,
                9.605708076866279
               ],
               [
                27.85106468238922,
                9.60587596860114
               ],
               [
                27.851064862253622,
                9.605875979392977
               ],
               [
                27.86819600024529,
                9.606827708531966
               ],
               [
                27.868196486778515,
                9.606827736410935
               ],
               [
                27.874781749977842,
                9.607389864850404
               ],
               [
                27.907220708968623,
                9.610158908906556
               ],
               [
                27.907220840269588,
                9.61015891969845
               ],
               [
                27.907315416573283,
                9.610111631546602
               ],
               [
                27.907315258292613,
                9.610111958000516
               ],
               [
                27.90705590730431,
                9.610646763237582
               ],
               [
                27.832981039143704,
                9.763395877118057
               ],
               [
                27.8332006751711,
                10.014934270400317
               ],
               [
                27.83325208671448,
                10.073812836193497
               ],
               [
                27.833333164194244,
                10.16666662786264
               ],
               [
                28.58984972578429,
                10.16666662786264
               ],
               [
                28.999999914264663,
                10.16666662786264
               ],
               [
                29.000330406123396,
                9.721724488794166
               ],
               [
                29.000368655189334,
                9.670229885800666
               ]
              ]
             ],
             "type": "Polygon"
            },
            "id": "602",
            "properties": {},
            "type": "Feature"
           },
           {
            "bbox": [
             26.136305371195988,
             6.280516909228027,
             30.81772678656199,
             10.16666662786264
            ],
            "geometry": {
             "coordinates": [
              [
               [
                29.000368655189334,
                9.670229885800666
               ],
               [
                29.000368579646306,
                9.670229797667105
               ],
               [
                29.00032997085151,
                9.670185088770893
               ],
               [
                28.989069040603795,
                9.65409804388969
               ],
               [
                28.987005234104345,
                9.651149749661272
               ],
               [
                28.977010727363222,
                9.64115524292015
               ],
               [
                28.96253519654215,
                9.628402989406482
               ],
               [
                28.9592629413317,
                9.625520288130815
               ],
               [
                28.957023621343126,
                9.623547554176355
               ],
               [
                28.951665485773617,
                9.61885918510336
               ],
               [
                28.94846240911295,
                9.61605649291289
               ],
               [
                28.934181213692113,
                9.603560448156202
               ],
               [
                28.922285015840885,
                9.593150679460337
               ],
               [
                28.915145874582493,
                9.586903572142205
               ],
               [
                28.893253326379977,
                9.56739234867797
               ],
               [
                28.873743057096476,
                9.548357009568406
               ],
               [
                28.863074109182833,
                9.53844936564576
               ],
               [
                28.860418320349254,
                9.535983086450301
               ],
               [
                28.84363322889044,
                9.518500074319036
               ],
               [
                28.843490432737326,
                9.518351341741095
               ],
               [
                28.837574005236206,
                9.512188910989494
               ],
               [
                28.83637223848808,
                9.511155020687681
               ],
               [
                28.8347339633018,
                9.509745597781148
               ],
               [
                28.829227668022497,
                9.505768829867634
               ],
               [
                28.826168060207863,
                9.503559112862831
               ],
               [
                28.824364489629545,
                9.502296251570783
               ],
               [
                28.821409225655316,
                9.500226973596
               ],
               [
                28.817128945544425,
                9.498799896098376
               ],
               [
                28.817127227839364,
                9.49879932412955
               ],
               [
                28.8152236940183,
                9.494992255588159
               ],
               [
                28.812126853371637,
                9.491011742897683
               ],
               [
                28.812024682293327,
                9.490880417597225
               ],
               [
                28.811891556550165,
                9.490709305390169
               ],
               [
                28.805704117451114,
                9.48785400375931
               ],
               [
                28.803800583630107,
                9.483095169206763
               ],
               [
                28.803350787708723,
                9.476785333276553
               ],
               [
                28.80334659866662,
                9.47672657517137
               ],
               [
                28.80332565345617,
                9.476432799933832
               ],
               [
                28.80324959419346,
                9.476347233038439
               ],
               [
                28.80270226229959,
                9.47573148521991
               ],
               [
                28.799518674847036,
                9.47214994776192
               ],
               [
                28.799518584914836,
                9.472149848836523
               ],
               [
                28.799608738352617,
                9.47070450880608
               ],
               [
                28.79995061472914,
                9.46522354742882
               ],
               [
                28.799993465626017,
                9.464536552619847
               ],
               [
                28.79999350609546,
                9.464535868235771
               ],
               [
                28.799993515088715,
                9.46453571265306
               ],
               [
                28.79942412192571,
                9.46328254605271
               ],
               [
                28.799294559296527,
                9.462997394414288
               ],
               [
                28.79761505109377,
                9.459300994645218
               ],
               [
                28.791904449630692,
                9.4507350924506
               ],
               [
                28.790956612757498,
                9.449075902630852
               ],
               [
                28.790000916709005,
                9.447402954083088
               ],
               [
                28.790952403031042,
                9.44359700339902
               ],
               [
                28.79095268272016,
                9.443595886441074
               ],
               [
                28.790096351865202,
                9.44116961538549
               ],
               [
                28.78809738198862,
                9.435505866802373
               ],
               [
                28.782402019537642,
                9.429563397632762
               ],
               [
                28.777151108337023,
                9.424084662976838
               ],
               [
                28.76790764162439,
                9.413079486429183
               ],
               [
                28.767158508158673,
                9.412187575696123
               ],
               [
                28.760494232323026,
                9.4045734413113
               ],
               [
                28.759336816540895,
                9.403705378800225
               ],
               [
                28.758590698501962,
                9.40314579004621
               ],
               [
                28.762683796420106,
                9.380732957959708
               ],
               [
                28.76790764162439,
                9.35212841859169
               ],
               [
                28.767913247098704,
                9.352097719334324
               ],
               [
                28.807549390492056,
                9.306363708418473
               ],
               [
                28.806818229078033,
                9.299469904912257
               ],
               [
                28.79749664815182,
                9.211580707283872
               ],
               [
                28.794929473116724,
                9.187375918463943
               ],
               [
                28.786203832440947,
                9.105105596845874
               ],
               [
                28.781241645885302,
                9.100920819340388
               ],
               [
                28.77470217076859,
                9.095405862690484
               ],
               [
                28.694722872962245,
                9.027956654376169
               ],
               [
                28.685727477041496,
                9.02539566218013
               ],
               [
                28.93298415939148,
                9.03337168285691
               ],
               [
                29.102470858043716,
                9.03883899612282
               ],
               [
                29.12626197311164,
                8.98106057458591
               ],
               [
                29.138364787504997,
                8.951668024060098
               ],
               [
                29.16428756022276,
                8.904034928269368
               ],
               [
                29.202743164465517,
                8.83337275614781
               ],
               [
                29.2409188736072,
                8.763224891015966
               ],
               [
                29.24917298714371,
                8.743715168520282
               ],
               [
                29.254733873969144,
                8.73057125396025
               ],
               [
                29.25798230164196,
                8.726704078330613
               ],
               [
                29.282854327165524,
                8.697094524093075
               ],
               [
                29.28706821212836,
                8.692077994204112
               ],
               [
                29.337318282912463,
                8.647411264518269
               ],
               [
                29.425516227691787,
                8.56901309178079
               ],
               [
                29.554389933948357,
                8.482023340304977
               ],
               [
                29.630624398996872,
                8.430565076217363
               ],
               [
                29.644754574863782,
                8.413174089912388
               ],
               [
                29.658805934146585,
                8.395880109879215
               ],
               [
                29.697284554738474,
                8.348521807335601
               ],
               [
                29.69754500379895,
                8.344354620569334
               ],
               [
                29.713236877579902,
                8.345571044468159
               ],
               [
                29.726473089561466,
                8.354964485722462
               ],
               [
                29.72981342884674,
                8.35733504917323
               ],
               [
                29.731163854428416,
                8.357447584938143
               ],
               [
                29.73750498496713,
                8.357976012183258
               ],
               [
                29.740039546088212,
                8.35818722516035
               ],
               [
                29.749042320047067,
                8.3589374566983
               ],
               [
                29.757965421267215,
                8.357290932030935
               ],
               [
                29.798568992365176,
                8.34979860632069
               ],
               [
                29.802883214688677,
                8.349002530042753
               ],
               [
                29.8141000682636,
                8.350925419072894
               ],
               [
                29.81994560130852,
                8.344317424609528
               ],
               [
                29.820042057195224,
                8.344208388106665
               ],
               [
                29.827239809969285,
                8.340029047002986
               ],
               [
                29.843048102787748,
                8.338393706304544
               ],
               [
                29.84582773815964,
                8.338106157972845
               ],
               [
                29.85776727793757,
                8.336535165565465
               ],
               [
                29.870184333440307,
                8.334901342922706
               ],
               [
                29.885143900071,
                8.346408701800215
               ],
               [
                29.886849372600523,
                8.347720604022697
               ],
               [
                29.903988739388865,
                8.353205201359003
               ],
               [
                29.91889752400158,
                8.357976012183258
               ],
               [
                29.974180585865383,
                8.369032624556041
               ],
               [
                29.982934754835128,
                8.381677534990274
               ],
               [
                29.985095842798955,
                8.384799106093908
               ],
               [
                30.020329924386544,
                8.435692780297643
               ],
               [
                30.01765924547783,
                8.439431731489265
               ],
               [
                30.022457865138392,
                8.444230351149827
               ],
               [
                30.023160844497454,
                8.444933330508832
               ],
               [
                30.02722027719409,
                8.448351800195496
               ],
               [
                30.031863307845413,
                8.451253694802233
               ],
               [
                30.042076318367435,
                8.449461938617617
               ],
               [
                30.042923871839264,
                8.449313244710538
               ],
               [
                30.060229874009508,
                8.451236133740622
               ],
               [
                30.07849731979553,
                8.454120467285804
               ],
               [
                30.095803321965775,
                8.454440948790818
               ],
               [
                30.095803321965775,
                8.454693553964375
               ],
               [
                30.095803321965775,
                8.456203597518083
               ],
               [
                30.09626973735857,
                8.456203597518083
               ],
               [
                30.102373193268306,
                8.456203597518083
               ],
               [
                30.105499219613364,
                8.453077571173026
               ],
               [
                30.122884010488747,
                8.435692780297643
               ],
               [
                30.13892641122493,
                8.391576177598552
               ],
               [
                30.143394827709187,
                8.379288032716602
               ],
               [
                30.163905644929628,
                8.312627876975
               ],
               [
                30.167395047743298,
                8.29983340119054
               ],
               [
                30.169736030693286,
                8.291249796740772
               ],
               [
                30.179288757170468,
                8.256223130293279
               ],
               [
                30.19467187031063,
                8.199818383611557
               ],
               [
                30.174161053090188,
                8.102392001589635
               ],
               [
                30.148522531789467,
                8.035731845848034
               ],
               [
                30.169033349009908,
                7.979327099166369
               ],
               [
                30.18870085755856,
                7.939992081169635
               ],
               [
                30.19979957439091,
                7.917794647505048
               ],
               [
                30.24082120883179,
                7.856262195843726
               ],
               [
                30.26645973013251,
                7.794729745081725
               ],
               [
                30.27158743421279,
                7.789602040102125
               ],
               [
                30.333119885874112,
                7.58962157377664
               ],
               [
                30.333035212904804,
                7.587420073877354
               ],
               [
                30.330221065150113,
                7.514252221462925
               ],
               [
                30.32799218179383,
                7.456301262293493
               ],
               [
                30.353630703094495,
                7.343491768030731
               ],
               [
                30.366220285437862,
                7.297329965805318
               ],
               [
                30.363405389447223,
                7.251353331291227
               ],
               [
                30.45770387093694,
                7.190452228887295
               ],
               [
                30.458662357581773,
                7.189833206637218
               ],
               [
                30.459261411285127,
                7.18863509833119
               ],
               [
                30.50233412771786,
                7.138383596725646
               ],
               [
                30.52093805035082,
                7.068618882355565
               ],
               [
                30.52284494403898,
                7.061468031924164
               ],
               [
                30.558226104351263,
                6.990705713098237
               ],
               [
                30.55873887439958,
                6.9896801721022825
               ],
               [
                30.61001591700102,
                6.933275425420618
               ],
               [
                30.702314594043344,
                6.866615269679016
               ],
               [
                30.794613271085666,
                6.820465931157855
               ],
               [
                30.81772678656199,
                6.799663766869401
               ],
               [
                30.81668643642996,
                6.79888350337103
               ],
               [
                30.80695180947845,
                6.807806911260002
               ],
               [
                30.79285062325772,
                6.792423798119842
               ],
               [
                30.765930175936944,
                6.748838311638792
               ],
               [
                30.762963941133023,
                6.745523108404768
               ],
               [
                30.74989642038355,
                6.730918232590398
               ],
               [
                30.74413743269639,
                6.724481716358184
               ],
               [
                30.712089280396015,
                6.689869712916959
               ],
               [
                30.709773312088714,
                6.686997911424498
               ],
               [
                30.707062119621185,
                6.683636032476954
               ],
               [
                30.701619407309863,
                6.678864339417771
               ],
               [
                30.656966459734406,
                6.674486599776799
               ],
               [
                30.624918307433973,
                6.657821560616583
               ],
               [
                30.61312155481596,
                6.651923184307577
               ],
               [
                30.604407491112852,
                6.647566152456022
               ],
               [
                30.60200387937556,
                6.646123985233771
               ],
               [
                30.59463280476018,
                6.646123985233771
               ],
               [
                30.581964358168648,
                6.630740872093611
               ],
               [
                30.56480166656371,
                6.609900461437178
               ],
               [
                30.52284494403898,
                6.558953012271729
               ],
               [
                30.49207871865798,
                6.4563989270689035
               ],
               [
                30.49207871865798,
                6.374355658187142
               ],
               [
                30.4869510145777,
                6.3230786155857
               ],
               [
                30.48312772586388,
                6.317726011746117
               ],
               [
                30.461312493276978,
                6.2871846852251
               ],
               [
                30.44797694038357,
                6.280516909228027
               ],
               [
                30.446626933885966,
                6.28097006771452
               ],
               [
                30.44117794160877,
                6.284087054074348
               ],
               [
                30.43646293551609,
                6.285423059926302
               ],
               [
                30.433908943642905,
                6.289149068974382
               ],
               [
                30.431583887686315,
                6.291400714171687
               ],
               [
                30.427533935642657,
                6.296423059976291
               ],
               [
                30.42371738105237,
                6.3001357338770845
               ],
               [
                30.422016944726295,
                6.306952069782255
               ],
               [
                30.416024940898353,
                6.310793065247822
               ],
               [
                30.40892994645992,
                6.31809305924736
               ],
               [
                30.405649928301614,
                6.322457068938604
               ],
               [
                30.399930428046844,
                6.3295041618875985
               ],
               [
                30.385396637344968,
                6.31962664435423
               ],
               [
                30.371279832598248,
                6.3183161882415675
               ],
               [
                30.366818905668026,
                6.321987172270212
               ],
               [
                30.36523002664444,
                6.323368374450979
               ],
               [
                30.359919800658304,
                6.327984518970425
               ],
               [
                30.355922569570964,
                6.333614733633112
               ],
               [
                30.35168652621229,
                6.34115262169621
               ],
               [
                30.347372856971845,
                6.3489190949403
               ],
               [
                30.345804011246173,
                6.35718826042995
               ],
               [
                30.34308520871548,
                6.363466199205789
               ],
               [
                30.3376416375516,
                6.377121428711007
               ],
               [
                30.33328154710574,
                6.381924667289638
               ],
               [
                30.331847773256186,
                6.387598205892516
               ],
               [
                30.327959321465585,
                6.3838518146096135
               ],
               [
                30.324478970328244,
                6.383833731041875
               ],
               [
                30.32010887132742,
                6.390530377974585
               ],
               [
                30.312109621162165,
                6.3965435590380935
               ],
               [
                30.30782345948512,
                6.40114766433328
               ],
               [
                30.30263922671901,
                6.40524020467177
               ],
               [
                30.29787110846496,
                6.412710238886461
               ],
               [
                30.296669616909355,
                6.419277484168617
               ],
               [
                30.29562176823009,
                6.431620452621814
               ],
               [
                30.300515747503823,
                6.435271040026521
               ],
               [
                30.31855576463687,
                6.450110840343029
               ],
               [
                30.32426730409287,
                6.4606249447854225
               ],
               [
                30.32515067306514,
                6.466718812123531
               ],
               [
                30.327747514935936,
                6.475483156022904
               ],
               [
                30.329652306009166,
                6.482063008001489
               ],
               [
                30.331642779091055,
                6.490090396154926
               ],
               [
                30.33196738488698,
                6.495608685692332
               ],
               [
                30.335538043246174,
                6.5030746091059655
               ],
               [
                30.338849800278126,
                6.512490944401634
               ],
               [
                30.344438417698882,
                6.517760903243129
               ],
               [
                30.345419030363985,
                6.52705070932285
               ],
               [
                30.344490023495837,
                6.539179064462303
               ],
               [
                30.344954517037365,
                6.547901169003808
               ],
               [
                30.346606032042814,
                6.557139360293263
               ],
               [
                30.33803876737528,
                6.565138911731424
               ],
               [
                30.32699421221315,
                6.577628558711069
               ],
               [
                30.316792133849958,
                6.587544813642296
               ],
               [
                30.31619931244836,
                6.5885703312558235
               ],
               [
                30.315226914190816,
                6.599196049658019
               ],
               [
                30.31398384517837,
                6.603139565138861
               ],
               [
                30.310497292316256,
                6.608212239703164
               ],
               [
                30.304047269166176,
                6.611803309974846
               ],
               [
                30.296921194157846,
                6.613325009641528
               ],
               [
                30.287630732472394,
                6.617857760926995
               ],
               [
                30.279642743617785,
                6.622188504695771
               ],
               [
                30.268126840281525,
                6.628637383908199
               ],
               [
                30.264736683051524,
                6.630549994586602
               ],
               [
                30.2626122064882,
                6.636018806123047
               ],
               [
                30.25590737842282,
                6.6349287405689665
               ],
               [
                30.24746746135429,
                6.632823783790627
               ],
               [
                30.23994113767344,
                6.630010550646432
               ],
               [
                30.233552984282824,
                6.627783873327132
               ],
               [
                30.226929827249762,
                6.6226420597832885
               ],
               [
                30.215902354709954,
                6.621309355342532
               ],
               [
                30.20783468862004,
                6.618282937907281
               ],
               [
                30.202101751594626,
                6.617131689675773
               ],
               [
                30.196994971141066,
                6.615930020054407
               ],
               [
                30.190938315051255,
                6.613548770859154
               ],
               [
                30.148522531789467,
                6.651251689314051
               ],
               [
                30.051096150666865,
                6.6615070983739315
               ],
               [
                29.91264813510338,
                6.676890210614772
               ],
               [
                29.794710935861076,
                6.779444296716974
               ],
               [
                29.775070265780187,
                6.789264631757419
               ],
               [
                29.743433893259635,
                6.805082818017695
               ],
               [
                29.707539963798354,
                6.815338227077575
               ],
               [
                29.58447506047571,
                6.846104452458576
               ],
               [
                29.517584489432693,
                6.873975523651552
               ],
               [
                29.523445373904906,
                6.895221229975846
               ],
               [
                29.525884780458284,
                6.904064080193223
               ],
               [
                29.512646648424152,
                6.918436909335924
               ],
               [
                29.455869897178047,
                6.980080239311633
               ],
               [
                29.45299463239644,
                6.983201956105461
               ],
               [
                29.474640499259692,
                7.016141319466385
               ],
               [
                29.542316017470284,
                7.119125802214057
               ],
               [
                29.47166556621295,
                7.133255892645366
               ],
               [
                29.363983776030466,
                7.2050437524672475
               ],
               [
                29.26655739490792,
                7.256320795068689
               ],
               [
                29.122981675264157,
                7.333236358970851
               ],
               [
                29.05356763893542,
                7.378355482719428
               ],
               [
                29.020427589161955,
                7.399896514712452
               ],
               [
                28.820447121937207,
                7.476812079513934
               ],
               [
                28.728148444894885,
                7.522961418035038
               ],
               [
                28.60508354247156,
                7.57936616471676
               ],
               [
                28.53842338672996,
                7.58962157377664
               ],
               [
                28.47689093506864,
                7.60500468601748
               ],
               [
                28.450658592320224,
                7.628150871165815
               ],
               [
                28.37242158708665,
                7.587424758445877
               ],
               [
                28.304397765044882,
                7.651143274042909
               ],
               [
                28.23708476714836,
                7.634143247313034
               ],
               [
                28.102883166824768,
                7.609872745031225
               ],
               [
                28.042459596333345,
                7.623432403582626
               ],
               [
                28.04179930149661,
                7.624564338873199
               ],
               [
                28.04095035047834,
                7.625979256637436
               ],
               [
                28.037271563931597,
                7.628526108792926
               ],
               [
                28.034064416039996,
                7.631355945220719
               ],
               [
                28.032460842094224,
                7.633525485912514
               ],
               [
                28.032327298166308,
                7.633903861274234
               ],
               [
                28.039286578612746,
                7.653853799213493
               ],
               [
                28.04557162293213,
                7.671870925902567
               ],
               [
                28.04725606211764,
                7.676699651267938
               ],
               [
                28.04605602476579,
                7.677476145707601
               ],
               [
                28.041538944166973,
                7.680398962142419
               ],
               [
                28.011852276661273,
                7.699607982822215
               ],
               [
                28.00976970041137,
                7.728764042226828
               ],
               [
                27.913971219895927,
                7.751672374680368
               ],
               [
                27.883071874167683,
                7.740288405485558
               ],
               [
                27.87440228193981,
                7.737094345427749
               ],
               [
                27.809842436179565,
                7.755837526280857
               ],
               [
                27.800561131391134,
                7.785228324927289
               ],
               [
                27.797346982277475,
                7.795406463337656
               ],
               [
                27.666144716305666,
                7.924526154858199
               ],
               [
                27.662967737071483,
                7.867340512454746
               ],
               [
                27.662165353848025,
                7.867819353780192
               ],
               [
                27.500362005002557,
                7.984412942503354
               ],
               [
                27.400424642982955,
                8.105765453912625
               ],
               [
                27.340355850542096,
                8.195161150866454
               ],
               [
                27.33798480775272,
                8.198689788403044
               ],
               [
                27.33798386166592,
                8.198689633719653
               ],
               [
                27.315068062141393,
                8.228635936399371
               ],
               [
                27.297861061838603,
                8.249736936410557
               ],
               [
                27.2847760645638,
                8.258563936976145
               ],
               [
                27.257184061994906,
                8.273083936574437
               ],
               [
                27.225574062093358,
                8.306895939096364
               ],
               [
                27.200022061868708,
                8.337570939946943
               ],
               [
                27.189804061907978,
                8.359371938064555
               ],
               [
                27.159378064446173,
                8.38599794105221
               ],
               [
                27.158378057901075,
                8.383862937924278
               ],
               [
                27.134571059906534,
                8.399188939617943
               ],
               [
                27.111862060385818,
                8.445742938885587
               ],
               [
                27.07830005860086,
                8.473395937072894
               ],
               [
                27.0355317240099,
                8.489916115236554
               ],
               [
                27.003054655348137,
                8.517412207807183
               ],
               [
                26.922152981375064,
                8.595934421336551
               ],
               [
                26.79128262549284,
                8.67921555665265
               ],
               [
                26.67706849721344,
                8.757737769282699
               ],
               [
                26.586793513310056,
                8.808984413899623
               ],
               [
                26.584916758601594,
                8.810049795761529
               ],
               [
                26.4605375455713,
                8.841018904598798
               ],
               [
                26.310631502541867,
                8.831501061025222
               ],
               [
                26.170521370764675,
                8.864860024670463
               ],
               [
                26.136305371195988,
                9.069428021785825
               ],
               [
                26.150161986786316,
                9.208441177618283
               ],
               [
                26.15020535928994,
                9.208876298402515
               ],
               [
                26.218674938397726,
                9.895780794747907
               ],
               [
                26.21867497526995,
                9.895781283979147
               ],
               [
                26.221081718446612,
                9.88833607015357
               ],
               [
                26.26326256551505,
                9.75785039477995
               ],
               [
                26.26665115432735,
                9.747367859239375
               ],
               [
                26.2699503712127,
                9.740562963609932
               ],
               [
                26.27425575320052,
                9.73168277713853
               ],
               [
                26.290891550904405,
                9.68700625563423
               ],
               [
                26.290891647131843,
                9.687005996629466
               ],
               [
                26.290891665118295,
                9.687005955260702
               ],
               [
                26.290897657301116,
                9.686992054439827
               ],
               [
                26.291659476603627,
                9.685224706754866
               ],
               [
                26.30277442889684,
                9.65943908694436
               ],
               [
                26.31366811199382,
                9.636703204889045
               ],
               [
                26.313705443751303,
                9.636625290324957
               ],
               [
                26.31421761485109,
                9.636010767383084
               ],
               [
                26.316082001183474,
                9.633773803618169
               ],
               [
                26.316354688218325,
                9.633446514245293
               ],
               [
                26.318458556817006,
                9.63092136363008
               ],
               [
                26.320598372217148,
                9.62775457461396
               ],
               [
                26.330341160516184,
                9.613335872852304
               ],
               [
                26.330341338581945,
                9.61333560935094
               ],
               [
                26.347927093760404,
                9.594324112168067
               ],
               [
                26.34795438188928,
                9.594305919782414
               ],
               [
                26.363108641850374,
                9.584203079808333
               ],
               [
                26.36361122078125,
                9.58386802658822
               ],
               [
                26.36544044452097,
                9.582697382678134
               ],
               [
                26.37069805387216,
                9.579332681658002
               ],
               [
                26.375494003445567,
                9.576263427715048
               ],
               [
                26.395855525112438,
                9.565846082230962
               ],
               [
                26.395931244431438,
                9.565807343034521
               ],
               [
                26.395931382927017,
                9.565807291773126
               ],
               [
                26.40472278652743,
                9.562582992910848
               ],
               [
                26.410188675267193,
                9.560578345614203
               ],
               [
                26.410258824185462,
                9.560557304176314
               ],
               [
                26.42832391081987,
                9.55513850303953
               ],
               [
                26.433902568248982,
                9.553465130011773
               ],
               [
                26.433954238797128,
                9.553449631095646
               ],
               [
                26.43671599924403,
                9.552375407998738
               ],
               [
                26.442470970558873,
                9.550136936070771
               ],
               [
                26.44250869801806,
                9.55012226093362
               ],
               [
                26.442508935439093,
                9.550122198880445
               ],
               [
                26.44863298312572,
                9.548510504955914
               ],
               [
                26.46056938157176,
                9.545369147867916
               ],
               [
                26.461056623464458,
                9.545197979003603
               ],
               [
                26.478155135850898,
                9.539191246079213
               ],
               [
                26.494704806381776,
                9.534176133521783
               ],
               [
                26.509494346287113,
                9.52969439987669
               ],
               [
                26.509524866579397,
                9.52968515124877
               ],
               [
                26.509525299153267,
                9.529685019947749
               ],
               [
                26.516212382695358,
                9.52791856528961
               ],
               [
                26.559906006357153,
                9.516376495279076
               ],
               [
                26.56764408710501,
                9.514684093496157
               ],
               [
                26.575115039527475,
                9.51305011527063
               ],
               [
                26.57511520410344,
                9.513050079297784
               ],
               [
                26.584093826768765,
                9.510961911063418
               ],
               [
                26.5955522940032,
                9.508297002204927
               ],
               [
                26.59555244418999,
                9.5082969671314
               ],
               [
                26.604755787649538,
                9.507327937734203
               ],
               [
                26.613613005435923,
                9.506395353362905
               ],
               [
                26.61361312864301,
                9.506395339873109
               ],
               [
                26.615935266299573,
                9.505834967809562
               ],
               [
                26.627397536766978,
                9.50306892389176
               ],
               [
                26.63879023388222,
                9.50022075028744
               ],
               [
                26.63880348179532,
                9.500217438084348
               ],
               [
                26.640893388419215,
                9.50000833581612
               ],
               [
                26.65306266630904,
                9.498790756288429
               ],
               [
                26.653062820093112,
                9.498790740999937
               ],
               [
                26.66048562011531,
                9.496792691129826
               ],
               [
                26.665420532031987,
                9.495464325018645
               ],
               [
                26.669695594276334,
                9.494988576461708
               ],
               [
                26.669696808361095,
                9.49498844066403
               ],
               [
                26.673500061078983,
                9.49498844066403
               ],
               [
                26.67350055480682,
                9.494988332745436
               ],
               [
                26.682822331785246,
                9.492949267494737
               ],
               [
                26.68926293183887,
                9.49154043724144
               ],
               [
                26.70391840261226,
                9.488334668010566
               ],
               [
                26.703918456571557,
                9.48833465631941
               ],
               [
                26.731009097891615,
                9.494038299727777
               ],
               [
                26.73101043698216,
                9.49403858211491
               ],
               [
                26.740044309497364,
                9.495242896642424
               ],
               [
                26.74526779137551,
                9.495939244400631
               ],
               [
                26.745267867817915,
                9.495939255192525
               ],
               [
                26.749295716324298,
                9.496671523671921
               ],
               [
                26.750497787043287,
                9.496890062526404
               ],
               [
                26.750497817620214,
                9.496890067922322
               ],
               [
                26.78804397614863,
                9.509722710035078
               ],
               [
                26.812324558032003,
                9.518057888460817
               ],
               [
                26.812336336452802,
                9.518061931812724
               ],
               [
                26.819888915840863,
                9.520654625110922
               ],
               [
                26.819889068725615,
                9.5206546781709
               ],
               [
                26.853086806411056,
                9.531561989594195
               ],
               [
                26.85315895092492,
                9.531585693025363
               ],
               [
                26.869794845755564,
                9.540141106426972
               ],
               [
                26.877874292964293,
                9.544419246151335
               ],
               [
                26.877874373903296,
                9.544419289318796
               ],
               [
                26.916192345900072,
                9.561961853656669
               ],
               [
                26.917324066252718,
                9.562479972872495
               ],
               [
                26.926950669337998,
                9.566330678318195
               ],
               [
                26.97435754336601,
                9.585293745210208
               ],
               [
                26.974357605419186,
                9.585293770391218
               ],
               [
                26.974357837444302,
                9.585293880108509
               ],
               [
                26.992420081321768,
                9.59384912713557
               ],
               [
                26.992420197334297,
                9.593849181994187
               ],
               [
                26.995553956050287,
                9.594419112052435
               ],
               [
                26.99764804362235,
                9.594799959650459
               ],
               [
                26.99764823877524,
                9.594799994724042
               ],
               [
                27.00287628201488,
                9.593849181994187
               ],
               [
                27.022363438721754,
                9.60192861751176
               ],
               [
                27.022363662652936,
                9.60192871104124
               ],
               [
                27.0471044483117,
                9.606876868173003
               ],
               [
                27.048503759241157,
                9.607156730898453
               ],
               [
                27.048503876153006,
                9.607156754280822
               ],
               [
                27.062561510005708,
                9.60926572833074
               ],
               [
                27.07702064528661,
                9.611434937172646
               ],
               [
                27.077532344242343,
                9.611690273587328
               ],
               [
                27.07797241219714,
                9.611909866447206
               ],
               [
                27.078554143159238,
                9.61203089990613
               ],
               [
                27.078694285413007,
                9.612060057725557
               ],
               [
                27.090682983033275,
                9.614554404762032
               ],
               [
                27.092275620323676,
                9.614885330093955
               ],
               [
                27.09365654011731,
                9.615172385597191
               ],
               [
                27.11536762221806,
                9.61968838611017
               ],
               [
                27.13738250699714,
                9.624267578386082
               ],
               [
                27.14120065608546,
                9.624013239319595
               ],
               [
                27.144512176595697,
                9.623792648212202
               ],
               [
                27.144571235074466,
                9.623794087127465
               ],
               [
                27.183484914397354,
                9.624742504962683
               ],
               [
                27.183485031309203,
                9.624742507660642
               ],
               [
                27.225485424013186,
                9.62549267624604
               ],
               [
                27.225498759160473,
                9.625492914566394
               ],
               [
                27.225500198075736,
                9.625492939747403
               ],
               [
                27.22661030142433,
                9.625512767100588
               ],
               [
                27.23671826573542,
                9.625693305102004
               ],
               [
                27.236719130883216,
                9.625693321289816
               ],
               [
                27.30623665759572,
                9.624601518245527
               ],
               [
                27.30628145912209,
                9.624600814975679
               ],
               [
                27.306301682176922,
                9.624600497515019
               ],
               [
                27.327499389884963,
                9.624267578386082
               ],
               [
                27.35400375866658,
                9.623482453152747
               ],
               [
                27.364788001465172,
                9.62316299687484
               ],
               [
                27.387443550679393,
                9.622491883193902
               ],
               [
                27.387449931369304,
                9.622491694336247
               ],
               [
                27.391662597750724,
                9.622366905308468
               ],
               [
                27.396162035449606,
                9.62228193376427
               ],
               [
                27.45433235185658,
                9.621183394797868
               ],
               [
                27.458217620946527,
                9.621109961555533
               ],
               [
                27.46103286677345,
                9.621056557114457
               ],
               [
                27.466667807373483,
                9.620950825620127
               ],
               [
                27.467233658106863,
                9.620940208224056
               ],
               [
                27.473413362137023,
                9.619990364963428
               ],
               [
                27.47341346735766,
                9.619990348775616
               ],
               [
                27.474838256980036,
                9.619990348775616
               ],
               [
                27.485834274831973,
                9.619512156760663
               ],
               [
                27.51856613222128,
                9.618088722416644
               ],
               [
                27.522840475007968,
                9.617867640279428
               ],
               [
                27.523717260043554,
                9.6178222901666
               ],
               [
                27.54613113444435,
                9.616662978613647
               ],
               [
                27.570617799571835,
                9.61503037814947
               ],
               [
                27.57735716520108,
                9.614581043580358
               ],
               [
                27.596036788267213,
                9.613335617444818
               ],
               [
                27.596036910575037,
                9.61333560935094
               ],
               [
                27.652951488320582,
                9.610129188111614
               ],
               [
                27.663528441884125,
                9.609533309914355
               ],
               [
                27.705447661780227,
                9.607004177101146
               ],
               [
                27.70552928514843,
                9.60699925241363
               ],
               [
                27.705537202779738,
                9.606998774873603
               ],
               [
                27.718662262153714,
                9.606206893933063
               ],
               [
                27.73324588249153,
                9.605164958296257
               ],
               [
                27.758585702068558,
                9.603354538481199
               ],
               [
                27.758586883777696,
                9.603354453944917
               ],
               [
                27.76394017919597,
                9.60346849517498
               ],
               [
                27.780925751122595,
                9.603830338299531
               ],
               [
                27.795763697037046,
                9.60328064118869
               ],
               [
                27.806492797904355,
                9.602883163327363
               ],
               [
                27.80659103444873,
                9.602879523771037
               ],
               [
                27.80659139327821,
                9.602879502187307
               ],
               [
                27.82227409577297,
                9.60192877579243
               ],
               [
                27.822275162368896,
                9.60192871104124
               ],
               [
                27.828454789956652,
                9.602879495892068
               ],
               [
                27.828454970720372,
                9.602879523771037
               ],
               [
                27.85316848803535,
                9.605256081203208
               ],
               [
                27.853166536506478,
                9.605256655869994
               ],
               [
                27.851634482045768,
                9.605708076866279
               ],
               [
                27.85106468238922,
                9.60587596860114
               ],
               [
                27.851064862253622,
                9.605875979392977
               ],
               [
                27.86819600024529,
                9.606827708531966
               ],
               [
                27.868196486778515,
                9.606827736410935
               ],
               [
                27.874781749977842,
                9.607389864850404
               ],
               [
                27.907220708968623,
                9.610158908906556
               ],
               [
                27.907220840269588,
                9.61015891969845
               ],
               [
                27.907315416573283,
                9.610111631546602
               ],
               [
                27.907315258292613,
                9.610111958000516
               ],
               [
                27.90705590730431,
                9.610646763237582
               ],
               [
                27.832981039143704,
                9.763395877118057
               ],
               [
                27.8332006751711,
                10.014934270400317
               ],
               [
                27.83325208671448,
                10.073812836193497
               ],
               [
                27.833333164194244,
                10.16666662786264
               ],
               [
                28.58984972578429,
                10.16666662786264
               ],
               [
                28.999999914264663,
                10.16666662786264
               ],
               [
                29.000330406123396,
                9.721724488794166
               ],
               [
                29.000368655189334,
                9.670229885800666
               ]
              ]
             ],
             "type": "Polygon"
            },
            "id": "603",
            "properties": {},
            "type": "Feature"
           },
           {
            "bbox": [
             26.136305371195988,
             6.280516909228027,
             30.81772678656199,
             10.16666662786264
            ],
            "geometry": {
             "coordinates": [
              [
               [
                29.000368655189334,
                9.670229885800666
               ],
               [
                29.000368579646306,
                9.670229797667105
               ],
               [
                29.00032997085151,
                9.670185088770893
               ],
               [
                28.989069040603795,
                9.65409804388969
               ],
               [
                28.987005234104345,
                9.651149749661272
               ],
               [
                28.977010727363222,
                9.64115524292015
               ],
               [
                28.96253519654215,
                9.628402989406482
               ],
               [
                28.9592629413317,
                9.625520288130815
               ],
               [
                28.957023621343126,
                9.623547554176355
               ],
               [
                28.951665485773617,
                9.61885918510336
               ],
               [
                28.94846240911295,
                9.61605649291289
               ],
               [
                28.934181213692113,
                9.603560448156202
               ],
               [
                28.922285015840885,
                9.593150679460337
               ],
               [
                28.915145874582493,
                9.586903572142205
               ],
               [
                28.893253326379977,
                9.56739234867797
               ],
               [
                28.873743057096476,
                9.548357009568406
               ],
               [
                28.863074109182833,
                9.53844936564576
               ],
               [
                28.860418320349254,
                9.535983086450301
               ],
               [
                28.84363322889044,
                9.518500074319036
               ],
               [
                28.843490432737326,
                9.518351341741095
               ],
               [
                28.837574005236206,
                9.512188910989494
               ],
               [
                28.83637223848808,
                9.511155020687681
               ],
               [
                28.8347339633018,
                9.509745597781148
               ],
               [
                28.829227668022497,
                9.505768829867634
               ],
               [
                28.826168060207863,
                9.503559112862831
               ],
               [
                28.824364489629545,
                9.502296251570783
               ],
               [
                28.821409225655316,
                9.500226973596
               ],
               [
                28.817128945544425,
                9.498799896098376
               ],
               [
                28.817127227839364,
                9.49879932412955
               ],
               [
                28.8152236940183,
                9.494992255588159
               ],
               [
                28.812126853371637,
                9.491011742897683
               ],
               [
                28.812024682293327,
                9.490880417597225
               ],
               [
                28.811891556550165,
                9.490709305390169
               ],
               [
                28.805704117451114,
                9.48785400375931
               ],
               [
                28.803800583630107,
                9.483095169206763
               ],
               [
                28.803350787708723,
                9.476785333276553
               ],
               [
                28.80334659866662,
                9.47672657517137
               ],
               [
                28.80332565345617,
                9.476432799933832
               ],
               [
                28.80324959419346,
                9.476347233038439
               ],
               [
                28.80270226229959,
                9.47573148521991
               ],
               [
                28.799518674847036,
                9.47214994776192
               ],
               [
                28.799518584914836,
                9.472149848836523
               ],
               [
                28.799608738352617,
                9.47070450880608
               ],
               [
                28.79995061472914,
                9.46522354742882
               ],
               [
                28.799993465626017,
                9.464536552619847
               ],
               [
                28.79999350609546,
                9.464535868235771
               ],
               [
                28.799993515088715,
                9.46453571265306
               ],
               [
                28.79942412192571,
                9.46328254605271
               ],
               [
                28.799294559296527,
                9.462997394414288
               ],
               [
                28.79761505109377,
                9.459300994645218
               ],
               [
                28.791904449630692,
                9.4507350924506
               ],
               [
                28.790956612757498,
                9.449075902630852
               ],
               [
                28.790000916709005,
                9.447402954083088
               ],
               [
                28.790952403031042,
                9.44359700339902
               ],
               [
                28.79095268272016,
                9.443595886441074
               ],
               [
                28.790096351865202,
                9.44116961538549
               ],
               [
                28.78809738198862,
                9.435505866802373
               ],
               [
                28.782402019537642,
                9.429563397632762
               ],
               [
                28.777151108337023,
                9.424084662976838
               ],
               [
                28.76790764162439,
                9.413079486429183
               ],
               [
                28.767158508158673,
                9.412187575696123
               ],
               [
                28.760494232323026,
                9.4045734413113
               ],
               [
                28.759336816540895,
                9.403705378800225
               ],
               [
                28.758590698501962,
                9.40314579004621
               ],
               [
                28.762683796420106,
                9.380732957959708
               ],
               [
                28.76790764162439,
                9.35212841859169
               ],
               [
                28.767913247098704,
                9.352097719334324
               ],
               [
                28.807549390492056,
                9.306363708418473
               ],
               [
                28.806818229078033,
                9.299469904912257
               ],
               [
                28.79749664815182,
                9.211580707283872
               ],
               [
                28.794929473116724,
                9.187375918463943
               ],
               [
                28.786203832440947,
                9.105105596845874
               ],
               [
                28.781241645885302,
                9.100920819340388
               ],
               [
                28.77470217076859,
                9.095405862690484
               ],
               [
                28.694722872962245,
                9.027956654376169
               ],
               [
                28.685727477041496,
                9.02539566218013
               ],
               [
                28.93298415939148,
                9.03337168285691
               ],
               [
                29.102470858043716,
                9.03883899612282
               ],
               [
                29.12626197311164,
                8.98106057458591
               ],
               [
                29.138364787504997,
                8.951668024060098
               ],
               [
                29.16428756022276,
                8.904034928269368
               ],
               [
                29.202743164465517,
                8.83337275614781
               ],
               [
                29.2409188736072,
                8.763224891015966
               ],
               [
                29.24917298714371,
                8.743715168520282
               ],
               [
                29.254733873969144,
                8.73057125396025
               ],
               [
                29.25798230164196,
                8.726704078330613
               ],
               [
                29.282854327165524,
                8.697094524093075
               ],
               [
                29.28706821212836,
                8.692077994204112
               ],
               [
                29.337318282912463,
                8.647411264518269
               ],
               [
                29.425516227691787,
                8.56901309178079
               ],
               [
                29.554389933948357,
                8.482023340304977
               ],
               [
                29.630624398996872,
                8.430565076217363
               ],
               [
                29.644754574863782,
                8.413174089912388
               ],
               [
                29.658805934146585,
                8.395880109879215
               ],
               [
                29.697284554738474,
                8.348521807335601
               ],
               [
                29.69754500379895,
                8.344354620569334
               ],
               [
                29.713236877579902,
                8.345571044468159
               ],
               [
                29.726473089561466,
                8.354964485722462
               ],
               [
                29.72981342884674,
                8.35733504917323
               ],
               [
                29.731163854428416,
                8.357447584938143
               ],
               [
                29.73750498496713,
                8.357976012183258
               ],
               [
                29.740039546088212,
                8.35818722516035
               ],
               [
                29.749042320047067,
                8.3589374566983
               ],
               [
                29.757965421267215,
                8.357290932030935
               ],
               [
                29.798568992365176,
                8.34979860632069
               ],
               [
                29.802883214688677,
                8.349002530042753
               ],
               [
                29.8141000682636,
                8.350925419072894
               ],
               [
                29.81994560130852,
                8.344317424609528
               ],
               [
                29.820042057195224,
                8.344208388106665
               ],
               [
                29.827239809969285,
                8.340029047002986
               ],
               [
                29.843048102787748,
                8.338393706304544
               ],
               [
                29.84582773815964,
                8.338106157972845
               ],
               [
                29.85776727793757,
                8.336535165565465
               ],
               [
                29.870184333440307,
                8.334901342922706
               ],
               [
                29.885143900071,
                8.346408701800215
               ],
               [
                29.886849372600523,
                8.347720604022697
               ],
               [
                29.903988739388865,
                8.353205201359003
               ],
               [
                29.91889752400158,
                8.357976012183258
               ],
               [
                29.974180585865383,
                8.369032624556041
               ],
               [
                29.982934754835128,
                8.381677534990274
               ],
               [
                29.985095842798955,
                8.384799106093908
               ],
               [
                30.020329924386544,
                8.435692780297643
               ],
               [
                30.01765924547783,
                8.439431731489265
               ],
               [
                30.022457865138392,
                8.444230351149827
               ],
               [
                30.023160844497454,
                8.444933330508832
               ],
               [
                30.02722027719409,
                8.448351800195496
               ],
               [
                30.031863307845413,
                8.451253694802233
               ],
               [
                30.042076318367435,
                8.449461938617617
               ],
               [
                30.042923871839264,
                8.449313244710538
               ],
               [
                30.060229874009508,
                8.451236133740622
               ],
               [
                30.07849731979553,
                8.454120467285804
               ],
               [
                30.095803321965775,
                8.454440948790818
               ],
               [
                30.095803321965775,
                8.454693553964375
               ],
               [
                30.095803321965775,
                8.456203597518083
               ],
               [
                30.09626973735857,
                8.456203597518083
               ],
               [
                30.102373193268306,
                8.456203597518083
               ],
               [
                30.105499219613364,
                8.453077571173026
               ],
               [
                30.122884010488747,
                8.435692780297643
               ],
               [
                30.13892641122493,
                8.391576177598552
               ],
               [
                30.143394827709187,
                8.379288032716602
               ],
               [
                30.163905644929628,
                8.312627876975
               ],
               [
                30.167395047743298,
                8.29983340119054
               ],
               [
                30.169736030693286,
                8.291249796740772
               ],
               [
                30.179288757170468,
                8.256223130293279
               ],
               [
                30.19467187031063,
                8.199818383611557
               ],
               [
                30.174161053090188,
                8.102392001589635
               ],
               [
                30.148522531789467,
                8.035731845848034
               ],
               [
                30.169033349009908,
                7.979327099166369
               ],
               [
                30.18870085755856,
                7.939992081169635
               ],
               [
                30.19979957439091,
                7.917794647505048
               ],
               [
                30.24082120883179,
                7.856262195843726
               ],
               [
                30.26645973013251,
                7.794729745081725
               ],
               [
                30.27158743421279,
                7.789602040102125
               ],
               [
                30.333119885874112,
                7.58962157377664
               ],
               [
                30.333035212904804,
                7.587420073877354
               ],
               [
                30.330221065150113,
                7.514252221462925
               ],
               [
                30.32799218179383,
                7.456301262293493
               ],
               [
                30.353630703094495,
                7.343491768030731
               ],
               [
                30.366220285437862,
                7.297329965805318
               ],
               [
                30.363405389447223,
                7.251353331291227
               ],
               [
                30.45770387093694,
                7.190452228887295
               ],
               [
                30.458662357581773,
                7.189833206637218
               ],
               [
                30.459261411285127,
                7.18863509833119
               ],
               [
                30.50233412771786,
                7.138383596725646
               ],
               [
                30.52093805035082,
                7.068618882355565
               ],
               [
                30.52284494403898,
                7.061468031924164
               ],
               [
                30.558226104351263,
                6.990705713098237
               ],
               [
                30.55873887439958,
                6.9896801721022825
               ],
               [
                30.61001591700102,
                6.933275425420618
               ],
               [
                30.702314594043344,
                6.866615269679016
               ],
               [
                30.794613271085666,
                6.820465931157855
               ],
               [
                30.81772678656199,
                6.799663766869401
               ],
               [
                30.81668643642996,
                6.79888350337103
               ],
               [
                30.80695180947845,
                6.807806911260002
               ],
               [
                30.79285062325772,
                6.792423798119842
               ],
               [
                30.765930175936944,
                6.748838311638792
               ],
               [
                30.762963941133023,
                6.745523108404768
               ],
               [
                30.74989642038355,
                6.730918232590398
               ],
               [
                30.74413743269639,
                6.724481716358184
               ],
               [
                30.712089280396015,
                6.689869712916959
               ],
               [
                30.709773312088714,
                6.686997911424498
               ],
               [
                30.707062119621185,
                6.683636032476954
               ],
               [
                30.701619407309863,
                6.678864339417771
               ],
               [
                30.656966459734406,
                6.674486599776799
               ],
               [
                30.624918307433973,
                6.657821560616583
               ],
               [
                30.61312155481596,
                6.651923184307577
               ],
               [
                30.604407491112852,
                6.647566152456022
               ],
               [
                30.60200387937556,
                6.646123985233771
               ],
               [
                30.59463280476018,
                6.646123985233771
               ],
               [
                30.581964358168648,
                6.630740872093611
               ],
               [
                30.56480166656371,
                6.609900461437178
               ],
               [
                30.52284494403898,
                6.558953012271729
               ],
               [
                30.49207871865798,
                6.4563989270689035
               ],
               [
                30.49207871865798,
                6.374355658187142
               ],
               [
                30.4869510145777,
                6.3230786155857
               ],
               [
                30.48312772586388,
                6.317726011746117
               ],
               [
                30.461312493276978,
                6.2871846852251
               ],
               [
                30.44797694038357,
                6.280516909228027
               ],
               [
                30.446626933885966,
                6.28097006771452
               ],
               [
                30.44117794160877,
                6.284087054074348
               ],
               [
                30.43646293551609,
                6.285423059926302
               ],
               [
                30.433908943642905,
                6.289149068974382
               ],
               [
                30.431583887686315,
                6.291400714171687
               ],
               [
                30.427533935642657,
                6.296423059976291
               ],
               [
                30.42371738105237,
                6.3001357338770845
               ],
               [
                30.422016944726295,
                6.306952069782255
               ],
               [
                30.416024940898353,
                6.310793065247822
               ],
               [
                30.40892994645992,
                6.31809305924736
               ],
               [
                30.405649928301614,
                6.322457068938604
               ],
               [
                30.399930428046844,
                6.3295041618875985
               ],
               [
                30.385396637344968,
                6.31962664435423
               ],
               [
                30.371279832598248,
                6.3183161882415675
               ],
               [
                30.366818905668026,
                6.321987172270212
               ],
               [
                30.36523002664444,
                6.323368374450979
               ],
               [
                30.359919800658304,
                6.327984518970425
               ],
               [
                30.355922569570964,
                6.333614733633112
               ],
               [
                30.35168652621229,
                6.34115262169621
               ],
               [
                30.347372856971845,
                6.3489190949403
               ],
               [
                30.345804011246173,
                6.35718826042995
               ],
               [
                30.34308520871548,
                6.363466199205789
               ],
               [
                30.3376416375516,
                6.377121428711007
               ],
               [
                30.33328154710574,
                6.381924667289638
               ],
               [
                30.331847773256186,
                6.387598205892516
               ],
               [
                30.327959321465585,
                6.3838518146096135
               ],
               [
                30.324478970328244,
                6.383833731041875
               ],
               [
                30.32010887132742,
                6.390530377974585
               ],
               [
                30.312109621162165,
                6.3965435590380935
               ],
               [
                30.30782345948512,
                6.40114766433328
               ],
               [
                30.30263922671901,
                6.40524020467177
               ],
               [
                30.29787110846496,
                6.412710238886461
               ],
               [
                30.296669616909355,
                6.419277484168617
               ],
               [
                30.29562176823009,
                6.431620452621814
               ],
               [
                30.300515747503823,
                6.435271040026521
               ],
               [
                30.31855576463687,
                6.450110840343029
               ],
               [
                30.32426730409287,
                6.4606249447854225
               ],
               [
                30.32515067306514,
                6.466718812123531
               ],
               [
                30.327747514935936,
                6.475483156022904
               ],
               [
                30.329652306009166,
                6.482063008001489
               ],
               [
                30.331642779091055,
                6.490090396154926
               ],
               [
                30.33196738488698,
                6.495608685692332
               ],
               [
                30.335538043246174,
                6.5030746091059655
               ],
               [
                30.338849800278126,
                6.512490944401634
               ],
               [
                30.344438417698882,
                6.517760903243129
               ],
               [
                30.345419030363985,
                6.52705070932285
               ],
               [
                30.344490023495837,
                6.539179064462303
               ],
               [
                30.344954517037365,
                6.547901169003808
               ],
               [
                30.346606032042814,
                6.557139360293263
               ],
               [
                30.33803876737528,
                6.565138911731424
               ],
               [
                30.32699421221315,
                6.577628558711069
               ],
               [
                30.316792133849958,
                6.587544813642296
               ],
               [
                30.31619931244836,
                6.5885703312558235
               ],
               [
                30.315226914190816,
                6.599196049658019
               ],
               [
                30.31398384517837,
                6.603139565138861
               ],
               [
                30.310497292316256,
                6.608212239703164
               ],
               [
                30.304047269166176,
                6.611803309974846
               ],
               [
                30.296921194157846,
                6.613325009641528
               ],
               [
                30.287630732472394,
                6.617857760926995
               ],
               [
                30.279642743617785,
                6.622188504695771
               ],
               [
                30.268126840281525,
                6.628637383908199
               ],
               [
                30.264736683051524,
                6.630549994586602
               ],
               [
                30.2626122064882,
                6.636018806123047
               ],
               [
                30.25590737842282,
                6.6349287405689665
               ],
               [
                30.24746746135429,
                6.632823783790627
               ],
               [
                30.23994113767344,
                6.630010550646432
               ],
               [
                30.233552984282824,
                6.627783873327132
               ],
               [
                30.226929827249762,
                6.6226420597832885
               ],
               [
                30.215902354709954,
                6.621309355342532
               ],
               [
                30.20783468862004,
                6.618282937907281
               ],
               [
                30.202101751594626,
                6.617131689675773
               ],
               [
                30.196994971141066,
                6.615930020054407
               ],
               [
                30.190938315051255,
                6.613548770859154
               ],
               [
                30.148522531789467,
                6.651251689314051
               ],
               [
                30.051096150666865,
                6.6615070983739315
               ],
               [
                29.91264813510338,
                6.676890210614772
               ],
               [
                29.794710935861076,
                6.779444296716974
               ],
               [
                29.775070265780187,
                6.789264631757419
               ],
               [
                29.743433893259635,
                6.805082818017695
               ],
               [
                29.707539963798354,
                6.815338227077575
               ],
               [
                29.58447506047571,
                6.846104452458576
               ],
               [
                29.517584489432693,
                6.873975523651552
               ],
               [
                29.523445373904906,
                6.895221229975846
               ],
               [
                29.525884780458284,
                6.904064080193223
               ],
               [
                29.512646648424152,
                6.918436909335924
               ],
               [
                29.455869897178047,
                6.980080239311633
               ],
               [
                29.45299463239644,
                6.983201956105461
               ],
               [
                29.474640499259692,
                7.016141319466385
               ],
               [
                29.542316017470284,
                7.119125802214057
               ],
               [
                29.47166556621295,
                7.133255892645366
               ],
               [
                29.363983776030466,
                7.2050437524672475
               ],
               [
                29.26655739490792,
                7.256320795068689
               ],
               [
                29.122981675264157,
                7.333236358970851
               ],
               [
                29.05356763893542,
                7.378355482719428
               ],
               [
                29.020427589161955,
                7.399896514712452
               ],
               [
                28.820447121937207,
                7.476812079513934
               ],
               [
                28.728148444894885,
                7.522961418035038
               ],
               [
                28.60508354247156,
                7.57936616471676
               ],
               [
                28.53842338672996,
                7.58962157377664
               ],
               [
                28.47689093506864,
                7.60500468601748
               ],
               [
                28.450658592320224,
                7.628150871165815
               ],
               [
                28.37242158708665,
                7.587424758445877
               ],
               [
                28.304397765044882,
                7.651143274042909
               ],
               [
                28.23708476714836,
                7.634143247313034
               ],
               [
                28.102883166824768,
                7.609872745031225
               ],
               [
                28.042459596333345,
                7.623432403582626
               ],
               [
                28.04179930149661,
                7.624564338873199
               ],
               [
                28.04095035047834,
                7.625979256637436
               ],
               [
                28.037271563931597,
                7.628526108792926
               ],
               [
                28.034064416039996,
                7.631355945220719
               ],
               [
                28.032460842094224,
                7.633525485912514
               ],
               [
                28.032327298166308,
                7.633903861274234
               ],
               [
                28.039286578612746,
                7.653853799213493
               ],
               [
                28.04557162293213,
                7.671870925902567
               ],
               [
                28.04725606211764,
                7.676699651267938
               ],
               [
                28.04605602476579,
                7.677476145707601
               ],
               [
                28.041538944166973,
                7.680398962142419
               ],
               [
                28.011852276661273,
                7.699607982822215
               ],
               [
                28.00976970041137,
                7.728764042226828
               ],
               [
                27.913971219895927,
                7.751672374680368
               ],
               [
                27.883071874167683,
                7.740288405485558
               ],
               [
                27.87440228193981,
                7.737094345427749
               ],
               [
                27.809842436179565,
                7.755837526280857
               ],
               [
                27.800561131391134,
                7.785228324927289
               ],
               [
                27.797346982277475,
                7.795406463337656
               ],
               [
                27.666144716305666,
                7.924526154858199
               ],
               [
                27.662967737071483,
                7.867340512454746
               ],
               [
                27.662165353848025,
                7.867819353780192
               ],
               [
                27.500362005002557,
                7.984412942503354
               ],
               [
                27.400424642982955,
                8.105765453912625
               ],
               [
                27.340355850542096,
                8.195161150866454
               ],
               [
                27.33798480775272,
                8.198689788403044
               ],
               [
                27.33798386166592,
                8.198689633719653
               ],
               [
                27.315068062141393,
                8.228635936399371
               ],
               [
                27.297861061838603,
                8.249736936410557
               ],
               [
                27.2847760645638,
                8.258563936976145
               ],
               [
                27.257184061994906,
                8.273083936574437
               ],
               [
                27.225574062093358,
                8.306895939096364
               ],
               [
                27.200022061868708,
                8.337570939946943
               ],
               [
                27.189804061907978,
                8.359371938064555
               ],
               [
                27.159378064446173,
                8.38599794105221
               ],
               [
                27.158378057901075,
                8.383862937924278
               ],
               [
                27.134571059906534,
                8.399188939617943
               ],
               [
                27.111862060385818,
                8.445742938885587
               ],
               [
                27.07830005860086,
                8.473395937072894
               ],
               [
                27.0355317240099,
                8.489916115236554
               ],
               [
                27.003054655348137,
                8.517412207807183
               ],
               [
                26.922152981375064,
                8.595934421336551
               ],
               [
                26.79128262549284,
                8.67921555665265
               ],
               [
                26.67706849721344,
                8.757737769282699
               ],
               [
                26.586793513310056,
                8.808984413899623
               ],
               [
                26.584916758601594,
                8.810049795761529
               ],
               [
                26.4605375455713,
                8.841018904598798
               ],
               [
                26.310631502541867,
                8.831501061025222
               ],
               [
                26.170521370764675,
                8.864860024670463
               ],
               [
                26.136305371195988,
                9.069428021785825
               ],
               [
                26.150161986786316,
                9.208441177618283
               ],
               [
                26.15020535928994,
                9.208876298402515
               ],
               [
                26.218674938397726,
                9.895780794747907
               ],
               [
                26.21867497526995,
                9.895781283979147
               ],
               [
                26.221081718446612,
                9.88833607015357
               ],
               [
                26.26326256551505,
                9.75785039477995
               ],
               [
                26.26665115432735,
                9.747367859239375
               ],
               [
                26.2699503712127,
                9.740562963609932
               ],
               [
                26.27425575320052,
                9.73168277713853
               ],
               [
                26.290891550904405,
                9.68700625563423
               ],
               [
                26.290891647131843,
                9.687005996629466
               ],
               [
                26.290891665118295,
                9.687005955260702
               ],
               [
                26.290897657301116,
                9.686992054439827
               ],
               [
                26.291659476603627,
                9.685224706754866
               ],
               [
                26.30277442889684,
                9.65943908694436
               ],
               [
                26.31366811199382,
                9.636703204889045
               ],
               [
                26.313705443751303,
                9.636625290324957
               ],
               [
                26.31421761485109,
                9.636010767383084
               ],
               [
                26.316082001183474,
                9.633773803618169
               ],
               [
                26.316354688218325,
                9.633446514245293
               ],
               [
                26.318458556817006,
                9.63092136363008
               ],
               [
                26.320598372217148,
                9.62775457461396
               ],
               [
                26.330341160516184,
                9.613335872852304
               ],
               [
                26.330341338581945,
                9.61333560935094
               ],
               [
                26.347927093760404,
                9.594324112168067
               ],
               [
                26.34795438188928,
                9.594305919782414
               ],
               [
                26.363108641850374,
                9.584203079808333
               ],
               [
                26.36361122078125,
                9.58386802658822
               ],
               [
                26.36544044452097,
                9.582697382678134
               ],
               [
                26.37069805387216,
                9.579332681658002
               ],
               [
                26.375494003445567,
                9.576263427715048
               ],
               [
                26.395855525112438,
                9.565846082230962
               ],
               [
                26.395931244431438,
                9.565807343034521
               ],
               [
                26.395931382927017,
                9.565807291773126
               ],
               [
                26.40472278652743,
                9.562582992910848
               ],
               [
                26.410188675267193,
                9.560578345614203
               ],
               [
                26.410258824185462,
                9.560557304176314
               ],
               [
                26.42832391081987,
                9.55513850303953
               ],
               [
                26.433902568248982,
                9.553465130011773
               ],
               [
                26.433954238797128,
                9.553449631095646
               ],
               [
                26.43671599924403,
                9.552375407998738
               ],
               [
                26.442470970558873,
                9.550136936070771
               ],
               [
                26.44250869801806,
                9.55012226093362
               ],
               [
                26.442508935439093,
                9.550122198880445
               ],
               [
                26.44863298312572,
                9.548510504955914
               ],
               [
                26.46056938157176,
                9.545369147867916
               ],
               [
                26.461056623464458,
                9.545197979003603
               ],
               [
                26.478155135850898,
                9.539191246079213
               ],
               [
                26.494704806381776,
                9.534176133521783
               ],
               [
                26.509494346287113,
                9.52969439987669
               ],
               [
                26.509524866579397,
                9.52968515124877
               ],
               [
                26.509525299153267,
                9.529685019947749
               ],
               [
                26.516212382695358,
                9.52791856528961
               ],
               [
                26.559906006357153,
                9.516376495279076
               ],
               [
                26.56764408710501,
                9.514684093496157
               ],
               [
                26.575115039527475,
                9.51305011527063
               ],
               [
                26.57511520410344,
                9.513050079297784
               ],
               [
                26.584093826768765,
                9.510961911063418
               ],
               [
                26.5955522940032,
                9.508297002204927
               ],
               [
                26.59555244418999,
                9.5082969671314
               ],
               [
                26.604755787649538,
                9.507327937734203
               ],
               [
                26.613613005435923,
                9.506395353362905
               ],
               [
                26.61361312864301,
                9.506395339873109
               ],
               [
                26.615935266299573,
                9.505834967809562
               ],
               [
                26.627397536766978,
                9.50306892389176
               ],
               [
                26.63879023388222,
                9.50022075028744
               ],
               [
                26.63880348179532,
                9.500217438084348
               ],
               [
                26.640893388419215,
                9.50000833581612
               ],
               [
                26.65306266630904,
                9.498790756288429
               ],
               [
                26.653062820093112,
                9.498790740999937
               ],
               [
                26.66048562011531,
                9.496792691129826
               ],
               [
                26.665420532031987,
                9.495464325018645
               ],
               [
                26.669695594276334,
                9.494988576461708
               ],
               [
                26.669696808361095,
                9.49498844066403
               ],
               [
                26.673500061078983,
                9.49498844066403
               ],
               [
                26.67350055480682,
                9.494988332745436
               ],
               [
                26.682822331785246,
                9.492949267494737
               ],
               [
                26.68926293183887,
                9.49154043724144
               ],
               [
                26.70391840261226,
                9.488334668010566
               ],
               [
                26.703918456571557,
                9.48833465631941
               ],
               [
                26.731009097891615,
                9.494038299727777
               ],
               [
                26.73101043698216,
                9.49403858211491
               ],
               [
                26.740044309497364,
                9.495242896642424
               ],
               [
                26.74526779137551,
                9.495939244400631
               ],
               [
                26.745267867817915,
                9.495939255192525
               ],
               [
                26.749295716324298,
                9.496671523671921
               ],
               [
                26.750497787043287,
                9.496890062526404
               ],
               [
                26.750497817620214,
                9.496890067922322
               ],
               [
                26.78804397614863,
                9.509722710035078
               ],
               [
                26.812324558032003,
                9.518057888460817
               ],
               [
                26.812336336452802,
                9.518061931812724
               ],
               [
                26.819888915840863,
                9.520654625110922
               ],
               [
                26.819889068725615,
                9.5206546781709
               ],
               [
                26.853086806411056,
                9.531561989594195
               ],
               [
                26.85315895092492,
                9.531585693025363
               ],
               [
                26.869794845755564,
                9.540141106426972
               ],
               [
                26.877874292964293,
                9.544419246151335
               ],
               [
                26.877874373903296,
                9.544419289318796
               ],
               [
                26.916192345900072,
                9.561961853656669
               ],
               [
                26.917324066252718,
                9.562479972872495
               ],
               [
                26.926950669337998,
                9.566330678318195
               ],
               [
                26.97435754336601,
                9.585293745210208
               ],
               [
                26.974357605419186,
                9.585293770391218
               ],
               [
                26.974357837444302,
                9.585293880108509
               ],
               [
                26.992420081321768,
                9.59384912713557
               ],
               [
                26.992420197334297,
                9.593849181994187
               ],
               [
                26.995553956050287,
                9.594419112052435
               ],
               [
                26.99764804362235,
                9.594799959650459
               ],
               [
                26.99764823877524,
                9.594799994724042
               ],
               [
                27.00287628201488,
                9.593849181994187
               ],
               [
                27.022363438721754,
                9.60192861751176
               ],
               [
                27.022363662652936,
                9.60192871104124
               ],
               [
                27.0471044483117,
                9.606876868173003
               ],
               [
                27.048503759241157,
                9.607156730898453
               ],
               [
                27.048503876153006,
                9.607156754280822
               ],
               [
                27.062561510005708,
                9.60926572833074
               ],
               [
                27.07702064528661,
                9.611434937172646
               ],
               [
                27.077532344242343,
                9.611690273587328
               ],
               [
                27.07797241219714,
                9.611909866447206
               ],
               [
                27.078554143159238,
                9.61203089990613
               ],
               [
                27.078694285413007,
                9.612060057725557
               ],
               [
                27.090682983033275,
                9.614554404762032
               ],
               [
                27.092275620323676,
                9.614885330093955
               ],
               [
                27.09365654011731,
                9.615172385597191
               ],
               [
                27.11536762221806,
                9.61968838611017
               ],
               [
                27.13738250699714,
                9.624267578386082
               ],
               [
                27.14120065608546,
                9.624013239319595
               ],
               [
                27.144512176595697,
                9.623792648212202
               ],
               [
                27.144571235074466,
                9.623794087127465
               ],
               [
                27.183484914397354,
                9.624742504962683
               ],
               [
                27.183485031309203,
                9.624742507660642
               ],
               [
                27.225485424013186,
                9.62549267624604
               ],
               [
                27.225498759160473,
                9.625492914566394
               ],
               [
                27.225500198075736,
                9.625492939747403
               ],
               [
                27.22661030142433,
                9.625512767100588
               ],
               [
                27.23671826573542,
                9.625693305102004
               ],
               [
                27.236719130883216,
                9.625693321289816
               ],
               [
                27.30623665759572,
                9.624601518245527
               ],
               [
                27.30628145912209,
                9.624600814975679
               ],
               [
                27.306301682176922,
                9.624600497515019
               ],
               [
                27.327499389884963,
                9.624267578386082
               ],
               [
                27.35400375866658,
                9.623482453152747
               ],
               [
                27.364788001465172,
                9.62316299687484
               ],
               [
                27.387443550679393,
                9.622491883193902
               ],
               [
                27.387449931369304,
                9.622491694336247
               ],
               [
                27.391662597750724,
                9.622366905308468
               ],
               [
                27.396162035449606,
                9.62228193376427
               ],
               [
                27.45433235185658,
                9.621183394797868
               ],
               [
                27.458217620946527,
                9.621109961555533
               ],
               [
                27.46103286677345,
                9.621056557114457
               ],
               [
                27.466667807373483,
                9.620950825620127
               ],
               [
                27.467233658106863,
                9.620940208224056
               ],
               [
                27.473413362137023,
                9.619990364963428
               ],
               [
                27.47341346735766,
                9.619990348775616
               ],
               [
                27.474838256980036,
                9.619990348775616
               ],
               [
                27.485834274831973,
                9.619512156760663
               ],
               [
                27.51856613222128,
                9.618088722416644
               ],
               [
                27.522840475007968,
                9.617867640279428
               ],
               [
                27.523717260043554,
                9.6178222901666
               ],
               [
                27.54613113444435,
                9.616662978613647
               ],
               [
                27.570617799571835,
                9.61503037814947
               ],
               [
                27.57735716520108,
                9.614581043580358
               ],
               [
                27.596036788267213,
                9.613335617444818
               ],
               [
                27.596036910575037,
                9.61333560935094
               ],
               [
                27.652951488320582,
                9.610129188111614
               ],
               [
                27.663528441884125,
                9.609533309914355
               ],
               [
                27.705447661780227,
                9.607004177101146
               ],
               [
                27.70552928514843,
                9.60699925241363
               ],
               [
                27.705537202779738,
                9.606998774873603
               ],
               [
                27.718662262153714,
                9.606206893933063
               ],
               [
                27.73324588249153,
                9.605164958296257
               ],
               [
                27.758585702068558,
                9.603354538481199
               ],
               [
                27.758586883777696,
                9.603354453944917
               ],
               [
                27.76394017919597,
                9.60346849517498
               ],
               [
                27.780925751122595,
                9.603830338299531
               ],
               [
                27.795763697037046,
                9.60328064118869
               ],
               [
                27.806492797904355,
                9.602883163327363
               ],
               [
                27.80659103444873,
                9.602879523771037
               ],
               [
                27.80659139327821,
                9.602879502187307
               ],
               [
                27.82227409577297,
                9.60192877579243
               ],
               [
                27.822275162368896,
                9.60192871104124
               ],
               [
                27.828454789956652,
                9.602879495892068
               ],
               [
                27.828454970720372,
                9.602879523771037
               ],
               [
                27.85316848803535,
                9.605256081203208
               ],
               [
                27.853166536506478,
                9.605256655869994
               ],
               [
                27.851634482045768,
                9.605708076866279
               ],
               [
                27.85106468238922,
                9.60587596860114
               ],
               [
                27.851064862253622,
                9.605875979392977
               ],
               [
                27.86819600024529,
                9.606827708531966
               ],
               [
                27.868196486778515,
                9.606827736410935
               ],
               [
                27.874781749977842,
                9.607389864850404
               ],
               [
                27.907220708968623,
                9.610158908906556
               ],
               [
                27.907220840269588,
                9.61015891969845
               ],
               [
                27.907315416573283,
                9.610111631546602
               ],
               [
                27.907315258292613,
                9.610111958000516
               ],
               [
                27.90705590730431,
                9.610646763237582
               ],
               [
                27.832981039143704,
                9.763395877118057
               ],
               [
                27.8332006751711,
                10.014934270400317
               ],
               [
                27.83325208671448,
                10.073812836193497
               ],
               [
                27.833333164194244,
                10.16666662786264
               ],
               [
                28.58984972578429,
                10.16666662786264
               ],
               [
                28.999999914264663,
                10.16666662786264
               ],
               [
                29.000330406123396,
                9.721724488794166
               ],
               [
                29.000368655189334,
                9.670229885800666
               ]
              ]
             ],
             "type": "Polygon"
            },
            "id": "604",
            "properties": {},
            "type": "Feature"
           },
           {
            "bbox": [
             26.136305371195988,
             6.280516909228027,
             30.81772678656199,
             10.16666662786264
            ],
            "geometry": {
             "coordinates": [
              [
               [
                29.000368655189334,
                9.670229885800666
               ],
               [
                29.000368579646306,
                9.670229797667105
               ],
               [
                29.00032997085151,
                9.670185088770893
               ],
               [
                28.989069040603795,
                9.65409804388969
               ],
               [
                28.987005234104345,
                9.651149749661272
               ],
               [
                28.977010727363222,
                9.64115524292015
               ],
               [
                28.96253519654215,
                9.628402989406482
               ],
               [
                28.9592629413317,
                9.625520288130815
               ],
               [
                28.957023621343126,
                9.623547554176355
               ],
               [
                28.951665485773617,
                9.61885918510336
               ],
               [
                28.94846240911295,
                9.61605649291289
               ],
               [
                28.934181213692113,
                9.603560448156202
               ],
               [
                28.922285015840885,
                9.593150679460337
               ],
               [
                28.915145874582493,
                9.586903572142205
               ],
               [
                28.893253326379977,
                9.56739234867797
               ],
               [
                28.873743057096476,
                9.548357009568406
               ],
               [
                28.863074109182833,
                9.53844936564576
               ],
               [
                28.860418320349254,
                9.535983086450301
               ],
               [
                28.84363322889044,
                9.518500074319036
               ],
               [
                28.843490432737326,
                9.518351341741095
               ],
               [
                28.837574005236206,
                9.512188910989494
               ],
               [
                28.83637223848808,
                9.511155020687681
               ],
               [
                28.8347339633018,
                9.509745597781148
               ],
               [
                28.829227668022497,
                9.505768829867634
               ],
               [
                28.826168060207863,
                9.503559112862831
               ],
               [
                28.824364489629545,
                9.502296251570783
               ],
               [
                28.821409225655316,
                9.500226973596
               ],
               [
                28.817128945544425,
                9.498799896098376
               ],
               [
                28.817127227839364,
                9.49879932412955
               ],
               [
                28.8152236940183,
                9.494992255588159
               ],
               [
                28.812126853371637,
                9.491011742897683
               ],
               [
                28.812024682293327,
                9.490880417597225
               ],
               [
                28.811891556550165,
                9.490709305390169
               ],
               [
                28.805704117451114,
                9.48785400375931
               ],
               [
                28.803800583630107,
                9.483095169206763
               ],
               [
                28.803350787708723,
                9.476785333276553
               ],
               [
                28.80334659866662,
                9.47672657517137
               ],
               [
                28.80332565345617,
                9.476432799933832
               ],
               [
                28.80324959419346,
                9.476347233038439
               ],
               [
                28.80270226229959,
                9.47573148521991
               ],
               [
                28.799518674847036,
                9.47214994776192
               ],
               [
                28.799518584914836,
                9.472149848836523
               ],
               [
                28.799608738352617,
                9.47070450880608
               ],
               [
                28.79995061472914,
                9.46522354742882
               ],
               [
                28.799993465626017,
                9.464536552619847
               ],
               [
                28.79999350609546,
                9.464535868235771
               ],
               [
                28.799993515088715,
                9.46453571265306
               ],
               [
                28.79942412192571,
                9.46328254605271
               ],
               [
                28.799294559296527,
                9.462997394414288
               ],
               [
                28.79761505109377,
                9.459300994645218
               ],
               [
                28.791904449630692,
                9.4507350924506
               ],
               [
                28.790956612757498,
                9.449075902630852
               ],
               [
                28.790000916709005,
                9.447402954083088
               ],
               [
                28.790952403031042,
                9.44359700339902
               ],
               [
                28.79095268272016,
                9.443595886441074
               ],
               [
                28.790096351865202,
                9.44116961538549
               ],
               [
                28.78809738198862,
                9.435505866802373
               ],
               [
                28.782402019537642,
                9.429563397632762
               ],
               [
                28.777151108337023,
                9.424084662976838
               ],
               [
                28.76790764162439,
                9.413079486429183
               ],
               [
                28.767158508158673,
                9.412187575696123
               ],
               [
                28.760494232323026,
                9.4045734413113
               ],
               [
                28.759336816540895,
                9.403705378800225
               ],
               [
                28.758590698501962,
                9.40314579004621
               ],
               [
                28.762683796420106,
                9.380732957959708
               ],
               [
                28.76790764162439,
                9.35212841859169
               ],
               [
                28.767913247098704,
                9.352097719334324
               ],
               [
                28.807549390492056,
                9.306363708418473
               ],
               [
                28.806818229078033,
                9.299469904912257
               ],
               [
                28.79749664815182,
                9.211580707283872
               ],
               [
                28.794929473116724,
                9.187375918463943
               ],
               [
                28.786203832440947,
                9.105105596845874
               ],
               [
                28.781241645885302,
                9.100920819340388
               ],
               [
                28.77470217076859,
                9.095405862690484
               ],
               [
                28.694722872962245,
                9.027956654376169
               ],
               [
                28.685727477041496,
                9.02539566218013
               ],
               [
                28.93298415939148,
                9.03337168285691
               ],
               [
                29.102470858043716,
                9.03883899612282
               ],
               [
                29.12626197311164,
                8.98106057458591
               ],
               [
                29.138364787504997,
                8.951668024060098
               ],
               [
                29.16428756022276,
                8.904034928269368
               ],
               [
                29.202743164465517,
                8.83337275614781
               ],
               [
                29.2409188736072,
                8.763224891015966
               ],
               [
                29.24917298714371,
                8.743715168520282
               ],
               [
                29.254733873969144,
                8.73057125396025
               ],
               [
                29.25798230164196,
                8.726704078330613
               ],
               [
                29.282854327165524,
                8.697094524093075
               ],
               [
                29.28706821212836,
                8.692077994204112
               ],
               [
                29.337318282912463,
                8.647411264518269
               ],
               [
                29.425516227691787,
                8.56901309178079
               ],
               [
                29.554389933948357,
                8.482023340304977
               ],
               [
                29.630624398996872,
                8.430565076217363
               ],
               [
                29.644754574863782,
                8.413174089912388
               ],
               [
                29.658805934146585,
                8.395880109879215
               ],
               [
                29.697284554738474,
                8.348521807335601
               ],
               [
                29.69754500379895,
                8.344354620569334
               ],
               [
                29.713236877579902,
                8.345571044468159
               ],
               [
                29.726473089561466,
                8.354964485722462
               ],
               [
                29.72981342884674,
                8.35733504917323
               ],
               [
                29.731163854428416,
                8.357447584938143
               ],
               [
                29.73750498496713,
                8.357976012183258
               ],
               [
                29.740039546088212,
                8.35818722516035
               ],
               [
                29.749042320047067,
                8.3589374566983
               ],
               [
                29.757965421267215,
                8.357290932030935
               ],
               [
                29.798568992365176,
                8.34979860632069
               ],
               [
                29.802883214688677,
                8.349002530042753
               ],
               [
                29.8141000682636,
                8.350925419072894
               ],
               [
                29.81994560130852,
                8.344317424609528
               ],
               [
                29.820042057195224,
                8.344208388106665
               ],
               [
                29.827239809969285,
                8.340029047002986
               ],
               [
                29.843048102787748,
                8.338393706304544
               ],
               [
                29.84582773815964,
                8.338106157972845
               ],
               [
                29.85776727793757,
                8.336535165565465
               ],
               [
                29.870184333440307,
                8.334901342922706
               ],
               [
                29.885143900071,
                8.346408701800215
               ],
               [
                29.886849372600523,
                8.347720604022697
               ],
               [
                29.903988739388865,
                8.353205201359003
               ],
               [
                29.91889752400158,
                8.357976012183258
               ],
               [
                29.974180585865383,
                8.369032624556041
               ],
               [
                29.982934754835128,
                8.381677534990274
               ],
               [
                29.985095842798955,
                8.384799106093908
               ],
               [
                30.020329924386544,
                8.435692780297643
               ],
               [
                30.01765924547783,
                8.439431731489265
               ],
               [
                30.022457865138392,
                8.444230351149827
               ],
               [
                30.023160844497454,
                8.444933330508832
               ],
               [
                30.02722027719409,
                8.448351800195496
               ],
               [
                30.031863307845413,
                8.451253694802233
               ],
               [
                30.042076318367435,
                8.449461938617617
               ],
               [
                30.042923871839264,
                8.449313244710538
               ],
               [
                30.060229874009508,
                8.451236133740622
               ],
               [
                30.07849731979553,
                8.454120467285804
               ],
               [
                30.095803321965775,
                8.454440948790818
               ],
               [
                30.095803321965775,
                8.454693553964375
               ],
               [
                30.095803321965775,
                8.456203597518083
               ],
               [
                30.09626973735857,
                8.456203597518083
               ],
               [
                30.102373193268306,
                8.456203597518083
               ],
               [
                30.105499219613364,
                8.453077571173026
               ],
               [
                30.122884010488747,
                8.435692780297643
               ],
               [
                30.13892641122493,
                8.391576177598552
               ],
               [
                30.143394827709187,
                8.379288032716602
               ],
               [
                30.163905644929628,
                8.312627876975
               ],
               [
                30.167395047743298,
                8.29983340119054
               ],
               [
                30.169736030693286,
                8.291249796740772
               ],
               [
                30.179288757170468,
                8.256223130293279
               ],
               [
                30.19467187031063,
                8.199818383611557
               ],
               [
                30.174161053090188,
                8.102392001589635
               ],
               [
                30.148522531789467,
                8.035731845848034
               ],
               [
                30.169033349009908,
                7.979327099166369
               ],
               [
                30.18870085755856,
                7.939992081169635
               ],
               [
                30.19979957439091,
                7.917794647505048
               ],
               [
                30.24082120883179,
                7.856262195843726
               ],
               [
                30.26645973013251,
                7.794729745081725
               ],
               [
                30.27158743421279,
                7.789602040102125
               ],
               [
                30.333119885874112,
                7.58962157377664
               ],
               [
                30.333035212904804,
                7.587420073877354
               ],
               [
                30.330221065150113,
                7.514252221462925
               ],
               [
                30.32799218179383,
                7.456301262293493
               ],
               [
                30.353630703094495,
                7.343491768030731
               ],
               [
                30.366220285437862,
                7.297329965805318
               ],
               [
                30.363405389447223,
                7.251353331291227
               ],
               [
                30.45770387093694,
                7.190452228887295
               ],
               [
                30.458662357581773,
                7.189833206637218
               ],
               [
                30.459261411285127,
                7.18863509833119
               ],
               [
                30.50233412771786,
                7.138383596725646
               ],
               [
                30.52093805035082,
                7.068618882355565
               ],
               [
                30.52284494403898,
                7.061468031924164
               ],
               [
                30.558226104351263,
                6.990705713098237
               ],
               [
                30.55873887439958,
                6.9896801721022825
               ],
               [
                30.61001591700102,
                6.933275425420618
               ],
               [
                30.702314594043344,
                6.866615269679016
               ],
               [
                30.794613271085666,
                6.820465931157855
               ],
               [
                30.81772678656199,
                6.799663766869401
               ],
               [
                30.81668643642996,
                6.79888350337103
               ],
               [
                30.80695180947845,
                6.807806911260002
               ],
               [
                30.79285062325772,
                6.792423798119842
               ],
               [
                30.765930175936944,
                6.748838311638792
               ],
               [
                30.762963941133023,
                6.745523108404768
               ],
               [
                30.74989642038355,
                6.730918232590398
               ],
               [
                30.74413743269639,
                6.724481716358184
               ],
               [
                30.712089280396015,
                6.689869712916959
               ],
               [
                30.709773312088714,
                6.686997911424498
               ],
               [
                30.707062119621185,
                6.683636032476954
               ],
               [
                30.701619407309863,
                6.678864339417771
               ],
               [
                30.656966459734406,
                6.674486599776799
               ],
               [
                30.624918307433973,
                6.657821560616583
               ],
               [
                30.61312155481596,
                6.651923184307577
               ],
               [
                30.604407491112852,
                6.647566152456022
               ],
               [
                30.60200387937556,
                6.646123985233771
               ],
               [
                30.59463280476018,
                6.646123985233771
               ],
               [
                30.581964358168648,
                6.630740872093611
               ],
               [
                30.56480166656371,
                6.609900461437178
               ],
               [
                30.52284494403898,
                6.558953012271729
               ],
               [
                30.49207871865798,
                6.4563989270689035
               ],
               [
                30.49207871865798,
                6.374355658187142
               ],
               [
                30.4869510145777,
                6.3230786155857
               ],
               [
                30.48312772586388,
                6.317726011746117
               ],
               [
                30.461312493276978,
                6.2871846852251
               ],
               [
                30.44797694038357,
                6.280516909228027
               ],
               [
                30.446626933885966,
                6.28097006771452
               ],
               [
                30.44117794160877,
                6.284087054074348
               ],
               [
                30.43646293551609,
                6.285423059926302
               ],
               [
                30.433908943642905,
                6.289149068974382
               ],
               [
                30.431583887686315,
                6.291400714171687
               ],
               [
                30.427533935642657,
                6.296423059976291
               ],
               [
                30.42371738105237,
                6.3001357338770845
               ],
               [
                30.422016944726295,
                6.306952069782255
               ],
               [
                30.416024940898353,
                6.310793065247822
               ],
               [
                30.40892994645992,
                6.31809305924736
               ],
               [
                30.405649928301614,
                6.322457068938604
               ],
               [
                30.399930428046844,
                6.3295041618875985
               ],
               [
                30.385396637344968,
                6.31962664435423
               ],
               [
                30.371279832598248,
                6.3183161882415675
               ],
               [
                30.366818905668026,
                6.321987172270212
               ],
               [
                30.36523002664444,
                6.323368374450979
               ],
               [
                30.359919800658304,
                6.327984518970425
               ],
               [
                30.355922569570964,
                6.333614733633112
               ],
               [
                30.35168652621229,
                6.34115262169621
               ],
               [
                30.347372856971845,
                6.3489190949403
               ],
               [
                30.345804011246173,
                6.35718826042995
               ],
               [
                30.34308520871548,
                6.363466199205789
               ],
               [
                30.3376416375516,
                6.377121428711007
               ],
               [
                30.33328154710574,
                6.381924667289638
               ],
               [
                30.331847773256186,
                6.387598205892516
               ],
               [
                30.327959321465585,
                6.3838518146096135
               ],
               [
                30.324478970328244,
                6.383833731041875
               ],
               [
                30.32010887132742,
                6.390530377974585
               ],
               [
                30.312109621162165,
                6.3965435590380935
               ],
               [
                30.30782345948512,
                6.40114766433328
               ],
               [
                30.30263922671901,
                6.40524020467177
               ],
               [
                30.29787110846496,
                6.412710238886461
               ],
               [
                30.296669616909355,
                6.419277484168617
               ],
               [
                30.29562176823009,
                6.431620452621814
               ],
               [
                30.300515747503823,
                6.435271040026521
               ],
               [
                30.31855576463687,
                6.450110840343029
               ],
               [
                30.32426730409287,
                6.4606249447854225
               ],
               [
                30.32515067306514,
                6.466718812123531
               ],
               [
                30.327747514935936,
                6.475483156022904
               ],
               [
                30.329652306009166,
                6.482063008001489
               ],
               [
                30.331642779091055,
                6.490090396154926
               ],
               [
                30.33196738488698,
                6.495608685692332
               ],
               [
                30.335538043246174,
                6.5030746091059655
               ],
               [
                30.338849800278126,
                6.512490944401634
               ],
               [
                30.344438417698882,
                6.517760903243129
               ],
               [
                30.345419030363985,
                6.52705070932285
               ],
               [
                30.344490023495837,
                6.539179064462303
               ],
               [
                30.344954517037365,
                6.547901169003808
               ],
               [
                30.346606032042814,
                6.557139360293263
               ],
               [
                30.33803876737528,
                6.565138911731424
               ],
               [
                30.32699421221315,
                6.577628558711069
               ],
               [
                30.316792133849958,
                6.587544813642296
               ],
               [
                30.31619931244836,
                6.5885703312558235
               ],
               [
                30.315226914190816,
                6.599196049658019
               ],
               [
                30.31398384517837,
                6.603139565138861
               ],
               [
                30.310497292316256,
                6.608212239703164
               ],
               [
                30.304047269166176,
                6.611803309974846
               ],
               [
                30.296921194157846,
                6.613325009641528
               ],
               [
                30.287630732472394,
                6.617857760926995
               ],
               [
                30.279642743617785,
                6.622188504695771
               ],
               [
                30.268126840281525,
                6.628637383908199
               ],
               [
                30.264736683051524,
                6.630549994586602
               ],
               [
                30.2626122064882,
                6.636018806123047
               ],
               [
                30.25590737842282,
                6.6349287405689665
               ],
               [
                30.24746746135429,
                6.632823783790627
               ],
               [
                30.23994113767344,
                6.630010550646432
               ],
               [
                30.233552984282824,
                6.627783873327132
               ],
               [
                30.226929827249762,
                6.6226420597832885
               ],
               [
                30.215902354709954,
                6.621309355342532
               ],
               [
                30.20783468862004,
                6.618282937907281
               ],
               [
                30.202101751594626,
                6.617131689675773
               ],
               [
                30.196994971141066,
                6.615930020054407
               ],
               [
                30.190938315051255,
                6.613548770859154
               ],
               [
                30.148522531789467,
                6.651251689314051
               ],
               [
                30.051096150666865,
                6.6615070983739315
               ],
               [
                29.91264813510338,
                6.676890210614772
               ],
               [
                29.794710935861076,
                6.779444296716974
               ],
               [
                29.775070265780187,
                6.789264631757419
               ],
               [
                29.743433893259635,
                6.805082818017695
               ],
               [
                29.707539963798354,
                6.815338227077575
               ],
               [
                29.58447506047571,
                6.846104452458576
               ],
               [
                29.517584489432693,
                6.873975523651552
               ],
               [
                29.523445373904906,
                6.895221229975846
               ],
               [
                29.525884780458284,
                6.904064080193223
               ],
               [
                29.512646648424152,
                6.918436909335924
               ],
               [
                29.455869897178047,
                6.980080239311633
               ],
               [
                29.45299463239644,
                6.983201956105461
               ],
               [
                29.474640499259692,
                7.016141319466385
               ],
               [
                29.542316017470284,
                7.119125802214057
               ],
               [
                29.47166556621295,
                7.133255892645366
               ],
               [
                29.363983776030466,
                7.2050437524672475
               ],
               [
                29.26655739490792,
                7.256320795068689
               ],
               [
                29.122981675264157,
                7.333236358970851
               ],
               [
                29.05356763893542,
                7.378355482719428
               ],
               [
                29.020427589161955,
                7.399896514712452
               ],
               [
                28.820447121937207,
                7.476812079513934
               ],
               [
                28.728148444894885,
                7.522961418035038
               ],
               [
                28.60508354247156,
                7.57936616471676
               ],
               [
                28.53842338672996,
                7.58962157377664
               ],
               [
                28.47689093506864,
                7.60500468601748
               ],
               [
                28.450658592320224,
                7.628150871165815
               ],
               [
                28.37242158708665,
                7.587424758445877
               ],
               [
                28.304397765044882,
                7.651143274042909
               ],
               [
                28.23708476714836,
                7.634143247313034
               ],
               [
                28.102883166824768,
                7.609872745031225
               ],
               [
                28.042459596333345,
                7.623432403582626
               ],
               [
                28.04179930149661,
                7.624564338873199
               ],
               [
                28.04095035047834,
                7.625979256637436
               ],
               [
                28.037271563931597,
                7.628526108792926
               ],
               [
                28.034064416039996,
                7.631355945220719
               ],
               [
                28.032460842094224,
                7.633525485912514
               ],
               [
                28.032327298166308,
                7.633903861274234
               ],
               [
                28.039286578612746,
                7.653853799213493
               ],
               [
                28.04557162293213,
                7.671870925902567
               ],
               [
                28.04725606211764,
                7.676699651267938
               ],
               [
                28.04605602476579,
                7.677476145707601
               ],
               [
                28.041538944166973,
                7.680398962142419
               ],
               [
                28.011852276661273,
                7.699607982822215
               ],
               [
                28.00976970041137,
                7.728764042226828
               ],
               [
                27.913971219895927,
                7.751672374680368
               ],
               [
                27.883071874167683,
                7.740288405485558
               ],
               [
                27.87440228193981,
                7.737094345427749
               ],
               [
                27.809842436179565,
                7.755837526280857
               ],
               [
                27.800561131391134,
                7.785228324927289
               ],
               [
                27.797346982277475,
                7.795406463337656
               ],
               [
                27.666144716305666,
                7.924526154858199
               ],
               [
                27.662967737071483,
                7.867340512454746
               ],
               [
                27.662165353848025,
                7.867819353780192
               ],
               [
                27.500362005002557,
                7.984412942503354
               ],
               [
                27.400424642982955,
                8.105765453912625
               ],
               [
                27.340355850542096,
                8.195161150866454
               ],
               [
                27.33798480775272,
                8.198689788403044
               ],
               [
                27.33798386166592,
                8.198689633719653
               ],
               [
                27.315068062141393,
                8.228635936399371
               ],
               [
                27.297861061838603,
                8.249736936410557
               ],
               [
                27.2847760645638,
                8.258563936976145
               ],
               [
                27.257184061994906,
                8.273083936574437
               ],
               [
                27.225574062093358,
                8.306895939096364
               ],
               [
                27.200022061868708,
                8.337570939946943
               ],
               [
                27.189804061907978,
                8.359371938064555
               ],
               [
                27.159378064446173,
                8.38599794105221
               ],
               [
                27.158378057901075,
                8.383862937924278
               ],
               [
                27.134571059906534,
                8.399188939617943
               ],
               [
                27.111862060385818,
                8.445742938885587
               ],
               [
                27.07830005860086,
                8.473395937072894
               ],
               [
                27.0355317240099,
                8.489916115236554
               ],
               [
                27.003054655348137,
                8.517412207807183
               ],
               [
                26.922152981375064,
                8.595934421336551
               ],
               [
                26.79128262549284,
                8.67921555665265
               ],
               [
                26.67706849721344,
                8.757737769282699
               ],
               [
                26.586793513310056,
                8.808984413899623
               ],
               [
                26.584916758601594,
                8.810049795761529
               ],
               [
                26.4605375455713,
                8.841018904598798
               ],
               [
                26.310631502541867,
                8.831501061025222
               ],
               [
                26.170521370764675,
                8.864860024670463
               ],
               [
                26.136305371195988,
                9.069428021785825
               ],
               [
                26.150161986786316,
                9.208441177618283
               ],
               [
                26.15020535928994,
                9.208876298402515
               ],
               [
                26.218674938397726,
                9.895780794747907
               ],
               [
                26.21867497526995,
                9.895781283979147
               ],
               [
                26.221081718446612,
                9.88833607015357
               ],
               [
                26.26326256551505,
                9.75785039477995
               ],
               [
                26.26665115432735,
                9.747367859239375
               ],
               [
                26.2699503712127,
                9.740562963609932
               ],
               [
                26.27425575320052,
                9.73168277713853
               ],
               [
                26.290891550904405,
                9.68700625563423
               ],
               [
                26.290891647131843,
                9.687005996629466
               ],
               [
                26.290891665118295,
                9.687005955260702
               ],
               [
                26.290897657301116,
                9.686992054439827
               ],
               [
                26.291659476603627,
                9.685224706754866
               ],
               [
                26.30277442889684,
                9.65943908694436
               ],
               [
                26.31366811199382,
                9.636703204889045
               ],
               [
                26.313705443751303,
                9.636625290324957
               ],
               [
                26.31421761485109,
                9.636010767383084
               ],
               [
                26.316082001183474,
                9.633773803618169
               ],
               [
                26.316354688218325,
                9.633446514245293
               ],
               [
                26.318458556817006,
                9.63092136363008
               ],
               [
                26.320598372217148,
                9.62775457461396
               ],
               [
                26.330341160516184,
                9.613335872852304
               ],
               [
                26.330341338581945,
                9.61333560935094
               ],
               [
                26.347927093760404,
                9.594324112168067
               ],
               [
                26.34795438188928,
                9.594305919782414
               ],
               [
                26.363108641850374,
                9.584203079808333
               ],
               [
                26.36361122078125,
                9.58386802658822
               ],
               [
                26.36544044452097,
                9.582697382678134
               ],
               [
                26.37069805387216,
                9.579332681658002
               ],
               [
                26.375494003445567,
                9.576263427715048
               ],
               [
                26.395855525112438,
                9.565846082230962
               ],
               [
                26.395931244431438,
                9.565807343034521
               ],
               [
                26.395931382927017,
                9.565807291773126
               ],
               [
                26.40472278652743,
                9.562582992910848
               ],
               [
                26.410188675267193,
                9.560578345614203
               ],
               [
                26.410258824185462,
                9.560557304176314
               ],
               [
                26.42832391081987,
                9.55513850303953
               ],
               [
                26.433902568248982,
                9.553465130011773
               ],
               [
                26.433954238797128,
                9.553449631095646
               ],
               [
                26.43671599924403,
                9.552375407998738
               ],
               [
                26.442470970558873,
                9.550136936070771
               ],
               [
                26.44250869801806,
                9.55012226093362
               ],
               [
                26.442508935439093,
                9.550122198880445
               ],
               [
                26.44863298312572,
                9.548510504955914
               ],
               [
                26.46056938157176,
                9.545369147867916
               ],
               [
                26.461056623464458,
                9.545197979003603
               ],
               [
                26.478155135850898,
                9.539191246079213
               ],
               [
                26.494704806381776,
                9.534176133521783
               ],
               [
                26.509494346287113,
                9.52969439987669
               ],
               [
                26.509524866579397,
                9.52968515124877
               ],
               [
                26.509525299153267,
                9.529685019947749
               ],
               [
                26.516212382695358,
                9.52791856528961
               ],
               [
                26.559906006357153,
                9.516376495279076
               ],
               [
                26.56764408710501,
                9.514684093496157
               ],
               [
                26.575115039527475,
                9.51305011527063
               ],
               [
                26.57511520410344,
                9.513050079297784
               ],
               [
                26.584093826768765,
                9.510961911063418
               ],
               [
                26.5955522940032,
                9.508297002204927
               ],
               [
                26.59555244418999,
                9.5082969671314
               ],
               [
                26.604755787649538,
                9.507327937734203
               ],
               [
                26.613613005435923,
                9.506395353362905
               ],
               [
                26.61361312864301,
                9.506395339873109
               ],
               [
                26.615935266299573,
                9.505834967809562
               ],
               [
                26.627397536766978,
                9.50306892389176
               ],
               [
                26.63879023388222,
                9.50022075028744
               ],
               [
                26.63880348179532,
                9.500217438084348
               ],
               [
                26.640893388419215,
                9.50000833581612
               ],
               [
                26.65306266630904,
                9.498790756288429
               ],
               [
                26.653062820093112,
                9.498790740999937
               ],
               [
                26.66048562011531,
                9.496792691129826
               ],
               [
                26.665420532031987,
                9.495464325018645
               ],
               [
                26.669695594276334,
                9.494988576461708
               ],
               [
                26.669696808361095,
                9.49498844066403
               ],
               [
                26.673500061078983,
                9.49498844066403
               ],
               [
                26.67350055480682,
                9.494988332745436
               ],
               [
                26.682822331785246,
                9.492949267494737
               ],
               [
                26.68926293183887,
                9.49154043724144
               ],
               [
                26.70391840261226,
                9.488334668010566
               ],
               [
                26.703918456571557,
                9.48833465631941
               ],
               [
                26.731009097891615,
                9.494038299727777
               ],
               [
                26.73101043698216,
                9.49403858211491
               ],
               [
                26.740044309497364,
                9.495242896642424
               ],
               [
                26.74526779137551,
                9.495939244400631
               ],
               [
                26.745267867817915,
                9.495939255192525
               ],
               [
                26.749295716324298,
                9.496671523671921
               ],
               [
                26.750497787043287,
                9.496890062526404
               ],
               [
                26.750497817620214,
                9.496890067922322
               ],
               [
                26.78804397614863,
                9.509722710035078
               ],
               [
                26.812324558032003,
                9.518057888460817
               ],
               [
                26.812336336452802,
                9.518061931812724
               ],
               [
                26.819888915840863,
                9.520654625110922
               ],
               [
                26.819889068725615,
                9.5206546781709
               ],
               [
                26.853086806411056,
                9.531561989594195
               ],
               [
                26.85315895092492,
                9.531585693025363
               ],
               [
                26.869794845755564,
                9.540141106426972
               ],
               [
                26.877874292964293,
                9.544419246151335
               ],
               [
                26.877874373903296,
                9.544419289318796
               ],
               [
                26.916192345900072,
                9.561961853656669
               ],
               [
                26.917324066252718,
                9.562479972872495
               ],
               [
                26.926950669337998,
                9.566330678318195
               ],
               [
                26.97435754336601,
                9.585293745210208
               ],
               [
                26.974357605419186,
                9.585293770391218
               ],
               [
                26.974357837444302,
                9.585293880108509
               ],
               [
                26.992420081321768,
                9.59384912713557
               ],
               [
                26.992420197334297,
                9.593849181994187
               ],
               [
                26.995553956050287,
                9.594419112052435
               ],
               [
                26.99764804362235,
                9.594799959650459
               ],
               [
                26.99764823877524,
                9.594799994724042
               ],
               [
                27.00287628201488,
                9.593849181994187
               ],
               [
                27.022363438721754,
                9.60192861751176
               ],
               [
                27.022363662652936,
                9.60192871104124
               ],
               [
                27.0471044483117,
                9.606876868173003
               ],
               [
                27.048503759241157,
                9.607156730898453
               ],
               [
                27.048503876153006,
                9.607156754280822
               ],
               [
                27.062561510005708,
                9.60926572833074
               ],
               [
                27.07702064528661,
                9.611434937172646
               ],
               [
                27.077532344242343,
                9.611690273587328
               ],
               [
                27.07797241219714,
                9.611909866447206
               ],
               [
                27.078554143159238,
                9.61203089990613
               ],
               [
                27.078694285413007,
                9.612060057725557
               ],
               [
                27.090682983033275,
                9.614554404762032
               ],
               [
                27.092275620323676,
                9.614885330093955
               ],
               [
                27.09365654011731,
                9.615172385597191
               ],
               [
                27.11536762221806,
                9.61968838611017
               ],
               [
                27.13738250699714,
                9.624267578386082
               ],
               [
                27.14120065608546,
                9.624013239319595
               ],
               [
                27.144512176595697,
                9.623792648212202
               ],
               [
                27.144571235074466,
                9.623794087127465
               ],
               [
                27.183484914397354,
                9.624742504962683
               ],
               [
                27.183485031309203,
                9.624742507660642
               ],
               [
                27.225485424013186,
                9.62549267624604
               ],
               [
                27.225498759160473,
                9.625492914566394
               ],
               [
                27.225500198075736,
                9.625492939747403
               ],
               [
                27.22661030142433,
                9.625512767100588
               ],
               [
                27.23671826573542,
                9.625693305102004
               ],
               [
                27.236719130883216,
                9.625693321289816
               ],
               [
                27.30623665759572,
                9.624601518245527
               ],
               [
                27.30628145912209,
                9.624600814975679
               ],
               [
                27.306301682176922,
                9.624600497515019
               ],
               [
                27.327499389884963,
                9.624267578386082
               ],
               [
                27.35400375866658,
                9.623482453152747
               ],
               [
                27.364788001465172,
                9.62316299687484
               ],
               [
                27.387443550679393,
                9.622491883193902
               ],
               [
                27.387449931369304,
                9.622491694336247
               ],
               [
                27.391662597750724,
                9.622366905308468
               ],
               [
                27.396162035449606,
                9.62228193376427
               ],
               [
                27.45433235185658,
                9.621183394797868
               ],
               [
                27.458217620946527,
                9.621109961555533
               ],
               [
                27.46103286677345,
                9.621056557114457
               ],
               [
                27.466667807373483,
                9.620950825620127
               ],
               [
                27.467233658106863,
                9.620940208224056
               ],
               [
                27.473413362137023,
                9.619990364963428
               ],
               [
                27.47341346735766,
                9.619990348775616
               ],
               [
                27.474838256980036,
                9.619990348775616
               ],
               [
                27.485834274831973,
                9.619512156760663
               ],
               [
                27.51856613222128,
                9.618088722416644
               ],
               [
                27.522840475007968,
                9.617867640279428
               ],
               [
                27.523717260043554,
                9.6178222901666
               ],
               [
                27.54613113444435,
                9.616662978613647
               ],
               [
                27.570617799571835,
                9.61503037814947
               ],
               [
                27.57735716520108,
                9.614581043580358
               ],
               [
                27.596036788267213,
                9.613335617444818
               ],
               [
                27.596036910575037,
                9.61333560935094
               ],
               [
                27.652951488320582,
                9.610129188111614
               ],
               [
                27.663528441884125,
                9.609533309914355
               ],
               [
                27.705447661780227,
                9.607004177101146
               ],
               [
                27.70552928514843,
                9.60699925241363
               ],
               [
                27.705537202779738,
                9.606998774873603
               ],
               [
                27.718662262153714,
                9.606206893933063
               ],
               [
                27.73324588249153,
                9.605164958296257
               ],
               [
                27.758585702068558,
                9.603354538481199
               ],
               [
                27.758586883777696,
                9.603354453944917
               ],
               [
                27.76394017919597,
                9.60346849517498
               ],
               [
                27.780925751122595,
                9.603830338299531
               ],
               [
                27.795763697037046,
                9.60328064118869
               ],
               [
                27.806492797904355,
                9.602883163327363
               ],
               [
                27.80659103444873,
                9.602879523771037
               ],
               [
                27.80659139327821,
                9.602879502187307
               ],
               [
                27.82227409577297,
                9.60192877579243
               ],
               [
                27.822275162368896,
                9.60192871104124
               ],
               [
                27.828454789956652,
                9.602879495892068
               ],
               [
                27.828454970720372,
                9.602879523771037
               ],
               [
                27.85316848803535,
                9.605256081203208
               ],
               [
                27.853166536506478,
                9.605256655869994
               ],
               [
                27.851634482045768,
                9.605708076866279
               ],
               [
                27.85106468238922,
                9.60587596860114
               ],
               [
                27.851064862253622,
                9.605875979392977
               ],
               [
                27.86819600024529,
                9.606827708531966
               ],
               [
                27.868196486778515,
                9.606827736410935
               ],
               [
                27.874781749977842,
                9.607389864850404
               ],
               [
                27.907220708968623,
                9.610158908906556
               ],
               [
                27.907220840269588,
                9.61015891969845
               ],
               [
                27.907315416573283,
                9.610111631546602
               ],
               [
                27.907315258292613,
                9.610111958000516
               ],
               [
                27.90705590730431,
                9.610646763237582
               ],
               [
                27.832981039143704,
                9.763395877118057
               ],
               [
                27.8332006751711,
                10.014934270400317
               ],
               [
                27.83325208671448,
                10.073812836193497
               ],
               [
                27.833333164194244,
                10.16666662786264
               ],
               [
                28.58984972578429,
                10.16666662786264
               ],
               [
                28.999999914264663,
                10.16666662786264
               ],
               [
                29.000330406123396,
                9.721724488794166
               ],
               [
                29.000368655189334,
                9.670229885800666
               ]
              ]
             ],
             "type": "Polygon"
            },
            "id": "605",
            "properties": {},
            "type": "Feature"
           }
          ],
          "type": "FeatureCollection"
         },
         "hovertemplate": "<b>%{hovertext}</b><br><br>index=%{location}<br>CS=%{z}<extra></extra>",
         "hovertext": [
          2,
          3,
          1,
          4,
          3,
          2
         ],
         "locations": [
          600,
          601,
          602,
          603,
          604,
          605
         ],
         "marker": {
          "opacity": 0.5
         },
         "name": "",
         "subplot": "mapbox",
         "type": "choroplethmapbox",
         "z": [
          2,
          3,
          1,
          4,
          3,
          2
         ]
        }
       ],
       "layout": {
        "coloraxis": {
         "colorbar": {
          "title": {
           "text": "CS"
          }
         },
         "colorscale": [
          [
           0,
           "#0d0887"
          ],
          [
           0.1111111111111111,
           "#46039f"
          ],
          [
           0.2222222222222222,
           "#7201a8"
          ],
          [
           0.3333333333333333,
           "#9c179e"
          ],
          [
           0.4444444444444444,
           "#bd3786"
          ],
          [
           0.5555555555555556,
           "#d8576b"
          ],
          [
           0.6666666666666666,
           "#ed7953"
          ],
          [
           0.7777777777777778,
           "#fb9f3a"
          ],
          [
           0.8888888888888888,
           "#fdca26"
          ],
          [
           1,
           "#f0f921"
          ]
         ]
        },
        "legend": {
         "tracegroupgap": 0
        },
        "mapbox": {
         "center": {
          "lat": 0,
          "lon": 0
         },
         "domain": {
          "x": [
           0,
           1
          ],
          "y": [
           0,
           1
          ]
         },
         "style": "carto-positron",
         "zoom": 1
        },
        "margin": {
         "b": 0,
         "l": 0,
         "r": 0,
         "t": 0
        },
        "template": {
         "data": {
          "bar": [
           {
            "error_x": {
             "color": "#2a3f5f"
            },
            "error_y": {
             "color": "#2a3f5f"
            },
            "marker": {
             "line": {
              "color": "#E5ECF6",
              "width": 0.5
             },
             "pattern": {
              "fillmode": "overlay",
              "size": 10,
              "solidity": 0.2
             }
            },
            "type": "bar"
           }
          ],
          "barpolar": [
           {
            "marker": {
             "line": {
              "color": "#E5ECF6",
              "width": 0.5
             },
             "pattern": {
              "fillmode": "overlay",
              "size": 10,
              "solidity": 0.2
             }
            },
            "type": "barpolar"
           }
          ],
          "carpet": [
           {
            "aaxis": {
             "endlinecolor": "#2a3f5f",
             "gridcolor": "white",
             "linecolor": "white",
             "minorgridcolor": "white",
             "startlinecolor": "#2a3f5f"
            },
            "baxis": {
             "endlinecolor": "#2a3f5f",
             "gridcolor": "white",
             "linecolor": "white",
             "minorgridcolor": "white",
             "startlinecolor": "#2a3f5f"
            },
            "type": "carpet"
           }
          ],
          "choropleth": [
           {
            "colorbar": {
             "outlinewidth": 0,
             "ticks": ""
            },
            "type": "choropleth"
           }
          ],
          "contour": [
           {
            "colorbar": {
             "outlinewidth": 0,
             "ticks": ""
            },
            "colorscale": [
             [
              0,
              "#0d0887"
             ],
             [
              0.1111111111111111,
              "#46039f"
             ],
             [
              0.2222222222222222,
              "#7201a8"
             ],
             [
              0.3333333333333333,
              "#9c179e"
             ],
             [
              0.4444444444444444,
              "#bd3786"
             ],
             [
              0.5555555555555556,
              "#d8576b"
             ],
             [
              0.6666666666666666,
              "#ed7953"
             ],
             [
              0.7777777777777778,
              "#fb9f3a"
             ],
             [
              0.8888888888888888,
              "#fdca26"
             ],
             [
              1,
              "#f0f921"
             ]
            ],
            "type": "contour"
           }
          ],
          "contourcarpet": [
           {
            "colorbar": {
             "outlinewidth": 0,
             "ticks": ""
            },
            "type": "contourcarpet"
           }
          ],
          "heatmap": [
           {
            "colorbar": {
             "outlinewidth": 0,
             "ticks": ""
            },
            "colorscale": [
             [
              0,
              "#0d0887"
             ],
             [
              0.1111111111111111,
              "#46039f"
             ],
             [
              0.2222222222222222,
              "#7201a8"
             ],
             [
              0.3333333333333333,
              "#9c179e"
             ],
             [
              0.4444444444444444,
              "#bd3786"
             ],
             [
              0.5555555555555556,
              "#d8576b"
             ],
             [
              0.6666666666666666,
              "#ed7953"
             ],
             [
              0.7777777777777778,
              "#fb9f3a"
             ],
             [
              0.8888888888888888,
              "#fdca26"
             ],
             [
              1,
              "#f0f921"
             ]
            ],
            "type": "heatmap"
           }
          ],
          "heatmapgl": [
           {
            "colorbar": {
             "outlinewidth": 0,
             "ticks": ""
            },
            "colorscale": [
             [
              0,
              "#0d0887"
             ],
             [
              0.1111111111111111,
              "#46039f"
             ],
             [
              0.2222222222222222,
              "#7201a8"
             ],
             [
              0.3333333333333333,
              "#9c179e"
             ],
             [
              0.4444444444444444,
              "#bd3786"
             ],
             [
              0.5555555555555556,
              "#d8576b"
             ],
             [
              0.6666666666666666,
              "#ed7953"
             ],
             [
              0.7777777777777778,
              "#fb9f3a"
             ],
             [
              0.8888888888888888,
              "#fdca26"
             ],
             [
              1,
              "#f0f921"
             ]
            ],
            "type": "heatmapgl"
           }
          ],
          "histogram": [
           {
            "marker": {
             "pattern": {
              "fillmode": "overlay",
              "size": 10,
              "solidity": 0.2
             }
            },
            "type": "histogram"
           }
          ],
          "histogram2d": [
           {
            "colorbar": {
             "outlinewidth": 0,
             "ticks": ""
            },
            "colorscale": [
             [
              0,
              "#0d0887"
             ],
             [
              0.1111111111111111,
              "#46039f"
             ],
             [
              0.2222222222222222,
              "#7201a8"
             ],
             [
              0.3333333333333333,
              "#9c179e"
             ],
             [
              0.4444444444444444,
              "#bd3786"
             ],
             [
              0.5555555555555556,
              "#d8576b"
             ],
             [
              0.6666666666666666,
              "#ed7953"
             ],
             [
              0.7777777777777778,
              "#fb9f3a"
             ],
             [
              0.8888888888888888,
              "#fdca26"
             ],
             [
              1,
              "#f0f921"
             ]
            ],
            "type": "histogram2d"
           }
          ],
          "histogram2dcontour": [
           {
            "colorbar": {
             "outlinewidth": 0,
             "ticks": ""
            },
            "colorscale": [
             [
              0,
              "#0d0887"
             ],
             [
              0.1111111111111111,
              "#46039f"
             ],
             [
              0.2222222222222222,
              "#7201a8"
             ],
             [
              0.3333333333333333,
              "#9c179e"
             ],
             [
              0.4444444444444444,
              "#bd3786"
             ],
             [
              0.5555555555555556,
              "#d8576b"
             ],
             [
              0.6666666666666666,
              "#ed7953"
             ],
             [
              0.7777777777777778,
              "#fb9f3a"
             ],
             [
              0.8888888888888888,
              "#fdca26"
             ],
             [
              1,
              "#f0f921"
             ]
            ],
            "type": "histogram2dcontour"
           }
          ],
          "mesh3d": [
           {
            "colorbar": {
             "outlinewidth": 0,
             "ticks": ""
            },
            "type": "mesh3d"
           }
          ],
          "parcoords": [
           {
            "line": {
             "colorbar": {
              "outlinewidth": 0,
              "ticks": ""
             }
            },
            "type": "parcoords"
           }
          ],
          "pie": [
           {
            "automargin": true,
            "type": "pie"
           }
          ],
          "scatter": [
           {
            "fillpattern": {
             "fillmode": "overlay",
             "size": 10,
             "solidity": 0.2
            },
            "type": "scatter"
           }
          ],
          "scatter3d": [
           {
            "line": {
             "colorbar": {
              "outlinewidth": 0,
              "ticks": ""
             }
            },
            "marker": {
             "colorbar": {
              "outlinewidth": 0,
              "ticks": ""
             }
            },
            "type": "scatter3d"
           }
          ],
          "scattercarpet": [
           {
            "marker": {
             "colorbar": {
              "outlinewidth": 0,
              "ticks": ""
             }
            },
            "type": "scattercarpet"
           }
          ],
          "scattergeo": [
           {
            "marker": {
             "colorbar": {
              "outlinewidth": 0,
              "ticks": ""
             }
            },
            "type": "scattergeo"
           }
          ],
          "scattergl": [
           {
            "marker": {
             "colorbar": {
              "outlinewidth": 0,
              "ticks": ""
             }
            },
            "type": "scattergl"
           }
          ],
          "scattermapbox": [
           {
            "marker": {
             "colorbar": {
              "outlinewidth": 0,
              "ticks": ""
             }
            },
            "type": "scattermapbox"
           }
          ],
          "scatterpolar": [
           {
            "marker": {
             "colorbar": {
              "outlinewidth": 0,
              "ticks": ""
             }
            },
            "type": "scatterpolar"
           }
          ],
          "scatterpolargl": [
           {
            "marker": {
             "colorbar": {
              "outlinewidth": 0,
              "ticks": ""
             }
            },
            "type": "scatterpolargl"
           }
          ],
          "scatterternary": [
           {
            "marker": {
             "colorbar": {
              "outlinewidth": 0,
              "ticks": ""
             }
            },
            "type": "scatterternary"
           }
          ],
          "surface": [
           {
            "colorbar": {
             "outlinewidth": 0,
             "ticks": ""
            },
            "colorscale": [
             [
              0,
              "#0d0887"
             ],
             [
              0.1111111111111111,
              "#46039f"
             ],
             [
              0.2222222222222222,
              "#7201a8"
             ],
             [
              0.3333333333333333,
              "#9c179e"
             ],
             [
              0.4444444444444444,
              "#bd3786"
             ],
             [
              0.5555555555555556,
              "#d8576b"
             ],
             [
              0.6666666666666666,
              "#ed7953"
             ],
             [
              0.7777777777777778,
              "#fb9f3a"
             ],
             [
              0.8888888888888888,
              "#fdca26"
             ],
             [
              1,
              "#f0f921"
             ]
            ],
            "type": "surface"
           }
          ],
          "table": [
           {
            "cells": {
             "fill": {
              "color": "#EBF0F8"
             },
             "line": {
              "color": "white"
             }
            },
            "header": {
             "fill": {
              "color": "#C8D4E3"
             },
             "line": {
              "color": "white"
             }
            },
            "type": "table"
           }
          ]
         },
         "layout": {
          "annotationdefaults": {
           "arrowcolor": "#2a3f5f",
           "arrowhead": 0,
           "arrowwidth": 1
          },
          "autotypenumbers": "strict",
          "coloraxis": {
           "colorbar": {
            "outlinewidth": 0,
            "ticks": ""
           }
          },
          "colorscale": {
           "diverging": [
            [
             0,
             "#8e0152"
            ],
            [
             0.1,
             "#c51b7d"
            ],
            [
             0.2,
             "#de77ae"
            ],
            [
             0.3,
             "#f1b6da"
            ],
            [
             0.4,
             "#fde0ef"
            ],
            [
             0.5,
             "#f7f7f7"
            ],
            [
             0.6,
             "#e6f5d0"
            ],
            [
             0.7,
             "#b8e186"
            ],
            [
             0.8,
             "#7fbc41"
            ],
            [
             0.9,
             "#4d9221"
            ],
            [
             1,
             "#276419"
            ]
           ],
           "sequential": [
            [
             0,
             "#0d0887"
            ],
            [
             0.1111111111111111,
             "#46039f"
            ],
            [
             0.2222222222222222,
             "#7201a8"
            ],
            [
             0.3333333333333333,
             "#9c179e"
            ],
            [
             0.4444444444444444,
             "#bd3786"
            ],
            [
             0.5555555555555556,
             "#d8576b"
            ],
            [
             0.6666666666666666,
             "#ed7953"
            ],
            [
             0.7777777777777778,
             "#fb9f3a"
            ],
            [
             0.8888888888888888,
             "#fdca26"
            ],
            [
             1,
             "#f0f921"
            ]
           ],
           "sequentialminus": [
            [
             0,
             "#0d0887"
            ],
            [
             0.1111111111111111,
             "#46039f"
            ],
            [
             0.2222222222222222,
             "#7201a8"
            ],
            [
             0.3333333333333333,
             "#9c179e"
            ],
            [
             0.4444444444444444,
             "#bd3786"
            ],
            [
             0.5555555555555556,
             "#d8576b"
            ],
            [
             0.6666666666666666,
             "#ed7953"
            ],
            [
             0.7777777777777778,
             "#fb9f3a"
            ],
            [
             0.8888888888888888,
             "#fdca26"
            ],
            [
             1,
             "#f0f921"
            ]
           ]
          },
          "colorway": [
           "#636efa",
           "#EF553B",
           "#00cc96",
           "#ab63fa",
           "#FFA15A",
           "#19d3f3",
           "#FF6692",
           "#B6E880",
           "#FF97FF",
           "#FECB52"
          ],
          "font": {
           "color": "#2a3f5f"
          },
          "geo": {
           "bgcolor": "white",
           "lakecolor": "white",
           "landcolor": "#E5ECF6",
           "showlakes": true,
           "showland": true,
           "subunitcolor": "white"
          },
          "hoverlabel": {
           "align": "left"
          },
          "hovermode": "closest",
          "mapbox": {
           "style": "light"
          },
          "paper_bgcolor": "white",
          "plot_bgcolor": "#E5ECF6",
          "polar": {
           "angularaxis": {
            "gridcolor": "white",
            "linecolor": "white",
            "ticks": ""
           },
           "bgcolor": "#E5ECF6",
           "radialaxis": {
            "gridcolor": "white",
            "linecolor": "white",
            "ticks": ""
           }
          },
          "scene": {
           "xaxis": {
            "backgroundcolor": "#E5ECF6",
            "gridcolor": "white",
            "gridwidth": 2,
            "linecolor": "white",
            "showbackground": true,
            "ticks": "",
            "zerolinecolor": "white"
           },
           "yaxis": {
            "backgroundcolor": "#E5ECF6",
            "gridcolor": "white",
            "gridwidth": 2,
            "linecolor": "white",
            "showbackground": true,
            "ticks": "",
            "zerolinecolor": "white"
           },
           "zaxis": {
            "backgroundcolor": "#E5ECF6",
            "gridcolor": "white",
            "gridwidth": 2,
            "linecolor": "white",
            "showbackground": true,
            "ticks": "",
            "zerolinecolor": "white"
           }
          },
          "shapedefaults": {
           "line": {
            "color": "#2a3f5f"
           }
          },
          "ternary": {
           "aaxis": {
            "gridcolor": "white",
            "linecolor": "white",
            "ticks": ""
           },
           "baxis": {
            "gridcolor": "white",
            "linecolor": "white",
            "ticks": ""
           },
           "bgcolor": "#E5ECF6",
           "caxis": {
            "gridcolor": "white",
            "linecolor": "white",
            "ticks": ""
           }
          },
          "title": {
           "x": 0.05
          },
          "xaxis": {
           "automargin": true,
           "gridcolor": "white",
           "linecolor": "white",
           "ticks": "",
           "title": {
            "standoff": 15
           },
           "zerolinecolor": "white",
           "zerolinewidth": 2
          },
          "yaxis": {
           "automargin": true,
           "gridcolor": "white",
           "linecolor": "white",
           "ticks": "",
           "title": {
            "standoff": 15
           },
           "zerolinecolor": "white",
           "zerolinewidth": 2
          }
         }
        }
       }
      }
     },
     "metadata": {},
     "output_type": "display_data"
    }
   ],
   "source": [
    "# plots geodataframe on mapbox map with hover.\n",
    "fig = px.choropleth_mapbox(lhz_107, geojson=lhz_107.geometry, locations=lhz_107.index, color=\"CS\", hover_name=\"CS\", hover_data=[\"CS\"], center={\"lat\": 0, \"lon\": 0}, mapbox_style=\"carto-positron\", zoom=1, opacity=0.5)\n",
    "fig.update_layout(margin={\"r\":0,\"t\":0,\"l\":0,\"b\":0})\n",
    "fig.show()"
   ]
  },
  {
   "cell_type": "code",
   "execution_count": null,
   "metadata": {},
   "outputs": [],
   "source": []
  }
 ],
 "metadata": {
  "kernelspec": {
   "display_name": "Python 3.10.6 ('geo')",
   "language": "python",
   "name": "python3"
  },
  "language_info": {
   "codemirror_mode": {
    "name": "ipython",
    "version": 3
   },
   "file_extension": ".py",
   "mimetype": "text/x-python",
   "name": "python",
   "nbconvert_exporter": "python",
   "pygments_lexer": "ipython3",
   "version": "3.10.6"
  },
  "orig_nbformat": 4,
  "vscode": {
   "interpreter": {
    "hash": "ce408d48c041f753076dbaea90f671b6d136b2c04f48a62e0a991cf8ef98bfb1"
   }
  }
 },
 "nbformat": 4,
 "nbformat_minor": 2
}
