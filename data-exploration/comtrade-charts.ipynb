{
 "cells": [
  {
   "cell_type": "code",
   "execution_count": 65,
   "metadata": {},
   "outputs": [],
   "source": [
    "import pandas as pd\n",
    "import requests\n",
    "from datetime import date\n",
    "import plotly.figure_factory as ff\n",
    "import plotly.express as px\n",
    "import numpy as np"
   ]
  },
  {
   "cell_type": "code",
   "execution_count": 2,
   "metadata": {},
   "outputs": [],
   "source": [
    "def get_comtrade_data(endpoint_url):\n",
    "     request = requests.get(url=endpoint_url)\n",
    "     print (request)\n",
    "     print (\"length is \" + str(len(request.json()[\"dataset\"])))\n",
    "     return (pd.json_normalize(request.json()[\"dataset\"]))"
   ]
  },
  {
   "cell_type": "code",
   "execution_count": 21,
   "metadata": {},
   "outputs": [],
   "source": [
    "# Endpoints\n",
    "country_url = \"https://comtrade.un.org/Data/cache/reporterAreas.json\"\n",
    "full_com_url = \"https://comtrade.un.org/Data/cache/classificationHS.json\"\n",
    "two_com_url = \"https://raw.githubusercontent.com/cameronkruse/food-security/main/assets/data/twodigit_hs_class.json\"\n"
   ]
  },
  {
   "cell_type": "code",
   "execution_count": null,
   "metadata": {},
   "outputs": [],
   "source": []
  },
  {
   "cell_type": "code",
   "execution_count": 9,
   "metadata": {},
   "outputs": [
    {
     "data": {
      "text/html": [
       "<div>\n",
       "<style scoped>\n",
       "    .dataframe tbody tr th:only-of-type {\n",
       "        vertical-align: middle;\n",
       "    }\n",
       "\n",
       "    .dataframe tbody tr th {\n",
       "        vertical-align: top;\n",
       "    }\n",
       "\n",
       "    .dataframe thead th {\n",
       "        text-align: right;\n",
       "    }\n",
       "</style>\n",
       "<table border=\"1\" class=\"dataframe\">\n",
       "  <thead>\n",
       "    <tr style=\"text-align: right;\">\n",
       "      <th></th>\n",
       "      <th>id</th>\n",
       "      <th>text</th>\n",
       "    </tr>\n",
       "  </thead>\n",
       "  <tbody>\n",
       "    <tr>\n",
       "      <th>0</th>\n",
       "      <td>all</td>\n",
       "      <td>All</td>\n",
       "    </tr>\n",
       "  </tbody>\n",
       "</table>\n",
       "</div>"
      ],
      "text/plain": [
       "    id text\n",
       "0  all  All"
      ]
     },
     "execution_count": 9,
     "metadata": {},
     "output_type": "execute_result"
    }
   ],
   "source": [
    "# read json file into pandas data frame\n",
    "country_request = requests.get(url=country_url)\n",
    "country_request.encoding='utf-8-sig'\n",
    "country_df = pd.json_normalize(country_request.json()[\"results\"])\n",
    "\n",
    "country_df.head(1)"
   ]
  },
  {
   "cell_type": "code",
   "execution_count": 12,
   "metadata": {},
   "outputs": [
    {
     "data": {
      "text/html": [
       "<div>\n",
       "<style scoped>\n",
       "    .dataframe tbody tr th:only-of-type {\n",
       "        vertical-align: middle;\n",
       "    }\n",
       "\n",
       "    .dataframe tbody tr th {\n",
       "        vertical-align: top;\n",
       "    }\n",
       "\n",
       "    .dataframe thead th {\n",
       "        text-align: right;\n",
       "    }\n",
       "</style>\n",
       "<table border=\"1\" class=\"dataframe\">\n",
       "  <thead>\n",
       "    <tr style=\"text-align: right;\">\n",
       "      <th></th>\n",
       "      <th>id</th>\n",
       "      <th>text</th>\n",
       "      <th>parent</th>\n",
       "    </tr>\n",
       "  </thead>\n",
       "  <tbody>\n",
       "    <tr>\n",
       "      <th>0</th>\n",
       "      <td>ALL</td>\n",
       "      <td>ALL - All HS commodities</td>\n",
       "      <td>#</td>\n",
       "    </tr>\n",
       "    <tr>\n",
       "      <th>1</th>\n",
       "      <td>TOTAL</td>\n",
       "      <td>TOTAL - Total of all HS commodities</td>\n",
       "      <td>#</td>\n",
       "    </tr>\n",
       "    <tr>\n",
       "      <th>2</th>\n",
       "      <td>AG2</td>\n",
       "      <td>AG2 - All 2-digit HS commodities</td>\n",
       "      <td>#</td>\n",
       "    </tr>\n",
       "    <tr>\n",
       "      <th>3</th>\n",
       "      <td>AG4</td>\n",
       "      <td>AG4 - All 4-digit HS commodities</td>\n",
       "      <td>#</td>\n",
       "    </tr>\n",
       "    <tr>\n",
       "      <th>4</th>\n",
       "      <td>AG6</td>\n",
       "      <td>AG6 - All 6-digit HS commodities</td>\n",
       "      <td>#</td>\n",
       "    </tr>\n",
       "    <tr>\n",
       "      <th>...</th>\n",
       "      <td>...</td>\n",
       "      <td>...</td>\n",
       "      <td>...</td>\n",
       "    </tr>\n",
       "    <tr>\n",
       "      <th>8262</th>\n",
       "      <td>970690</td>\n",
       "      <td>970690 - Antiques; of an age exceeding 100 yea...</td>\n",
       "      <td>9706</td>\n",
       "    </tr>\n",
       "    <tr>\n",
       "      <th>8263</th>\n",
       "      <td>99</td>\n",
       "      <td>99 - Commodities not specified according to kind</td>\n",
       "      <td>TOTAL</td>\n",
       "    </tr>\n",
       "    <tr>\n",
       "      <th>8264</th>\n",
       "      <td>9999</td>\n",
       "      <td>9999 - Commodities not specified according to ...</td>\n",
       "      <td>99</td>\n",
       "    </tr>\n",
       "    <tr>\n",
       "      <th>8265</th>\n",
       "      <td>999999</td>\n",
       "      <td>999999 - Commodities not specified according t...</td>\n",
       "      <td>9999</td>\n",
       "    </tr>\n",
       "    <tr>\n",
       "      <th>8266</th>\n",
       "      <td>9999AA</td>\n",
       "      <td>9999AA - Commodities not specified according t...</td>\n",
       "      <td>9999</td>\n",
       "    </tr>\n",
       "  </tbody>\n",
       "</table>\n",
       "<p>8267 rows × 3 columns</p>\n",
       "</div>"
      ],
      "text/plain": [
       "          id                                               text parent\n",
       "0        ALL                           ALL - All HS commodities      #\n",
       "1      TOTAL                TOTAL - Total of all HS commodities      #\n",
       "2        AG2                   AG2 - All 2-digit HS commodities      #\n",
       "3        AG4                   AG4 - All 4-digit HS commodities      #\n",
       "4        AG6                   AG6 - All 6-digit HS commodities      #\n",
       "...      ...                                                ...    ...\n",
       "8262  970690  970690 - Antiques; of an age exceeding 100 yea...   9706\n",
       "8263      99   99 - Commodities not specified according to kind  TOTAL\n",
       "8264    9999  9999 - Commodities not specified according to ...     99\n",
       "8265  999999  999999 - Commodities not specified according t...   9999\n",
       "8266  9999AA  9999AA - Commodities not specified according t...   9999\n",
       "\n",
       "[8267 rows x 3 columns]"
      ]
     },
     "execution_count": 12,
     "metadata": {},
     "output_type": "execute_result"
    }
   ],
   "source": [
    "# read json file into pandas data frame\n",
    "com_request = requests.get(url=full_com_url)\n",
    "com_request.encoding='utf-8-sig'\n",
    "com_df = pd.json_normalize(com_request.json()[\"results\"])\n",
    "\n",
    "com_df"
   ]
  },
  {
   "cell_type": "code",
   "execution_count": 22,
   "metadata": {},
   "outputs": [
    {
     "data": {
      "text/html": [
       "<div>\n",
       "<style scoped>\n",
       "    .dataframe tbody tr th:only-of-type {\n",
       "        vertical-align: middle;\n",
       "    }\n",
       "\n",
       "    .dataframe tbody tr th {\n",
       "        vertical-align: top;\n",
       "    }\n",
       "\n",
       "    .dataframe thead th {\n",
       "        text-align: right;\n",
       "    }\n",
       "</style>\n",
       "<table border=\"1\" class=\"dataframe\">\n",
       "  <thead>\n",
       "    <tr style=\"text-align: right;\">\n",
       "      <th></th>\n",
       "      <th>id</th>\n",
       "      <th>text</th>\n",
       "      <th>parent</th>\n",
       "    </tr>\n",
       "  </thead>\n",
       "  <tbody>\n",
       "    <tr>\n",
       "      <th>0</th>\n",
       "      <td>01</td>\n",
       "      <td>01 - Animals; live</td>\n",
       "      <td>TOTAL</td>\n",
       "    </tr>\n",
       "    <tr>\n",
       "      <th>1</th>\n",
       "      <td>01</td>\n",
       "      <td>01 - Animals; live</td>\n",
       "      <td>TOTAL</td>\n",
       "    </tr>\n",
       "    <tr>\n",
       "      <th>2</th>\n",
       "      <td>02</td>\n",
       "      <td>02 - Meat and edible meat offal</td>\n",
       "      <td>TOTAL</td>\n",
       "    </tr>\n",
       "    <tr>\n",
       "      <th>3</th>\n",
       "      <td>03</td>\n",
       "      <td>03 - Fish and crustaceans, molluscs and other ...</td>\n",
       "      <td>TOTAL</td>\n",
       "    </tr>\n",
       "    <tr>\n",
       "      <th>4</th>\n",
       "      <td>04</td>\n",
       "      <td>04 - Dairy produce; birds' eggs; natural honey...</td>\n",
       "      <td>TOTAL</td>\n",
       "    </tr>\n",
       "    <tr>\n",
       "      <th>...</th>\n",
       "      <td>...</td>\n",
       "      <td>...</td>\n",
       "      <td>...</td>\n",
       "    </tr>\n",
       "    <tr>\n",
       "      <th>93</th>\n",
       "      <td>94</td>\n",
       "      <td>94 - Furniture; bedding, mattresses, mattress ...</td>\n",
       "      <td>TOTAL</td>\n",
       "    </tr>\n",
       "    <tr>\n",
       "      <th>94</th>\n",
       "      <td>95</td>\n",
       "      <td>95 - Toys, games and sports requisites; parts ...</td>\n",
       "      <td>TOTAL</td>\n",
       "    </tr>\n",
       "    <tr>\n",
       "      <th>95</th>\n",
       "      <td>96</td>\n",
       "      <td>96 - Miscellaneous manufactured articles</td>\n",
       "      <td>TOTAL</td>\n",
       "    </tr>\n",
       "    <tr>\n",
       "      <th>96</th>\n",
       "      <td>97</td>\n",
       "      <td>97 - Works of art; collectors' pieces and anti...</td>\n",
       "      <td>TOTAL</td>\n",
       "    </tr>\n",
       "    <tr>\n",
       "      <th>97</th>\n",
       "      <td>99</td>\n",
       "      <td>99 - Commodities not specified according to kind</td>\n",
       "      <td>TOTAL</td>\n",
       "    </tr>\n",
       "  </tbody>\n",
       "</table>\n",
       "<p>98 rows × 3 columns</p>\n",
       "</div>"
      ],
      "text/plain": [
       "    id                                               text parent\n",
       "0   01                                 01 - Animals; live  TOTAL\n",
       "1   01                                 01 - Animals; live  TOTAL\n",
       "2   02                    02 - Meat and edible meat offal  TOTAL\n",
       "3   03  03 - Fish and crustaceans, molluscs and other ...  TOTAL\n",
       "4   04  04 - Dairy produce; birds' eggs; natural honey...  TOTAL\n",
       "..  ..                                                ...    ...\n",
       "93  94  94 - Furniture; bedding, mattresses, mattress ...  TOTAL\n",
       "94  95  95 - Toys, games and sports requisites; parts ...  TOTAL\n",
       "95  96           96 - Miscellaneous manufactured articles  TOTAL\n",
       "96  97  97 - Works of art; collectors' pieces and anti...  TOTAL\n",
       "97  99   99 - Commodities not specified according to kind  TOTAL\n",
       "\n",
       "[98 rows x 3 columns]"
      ]
     },
     "execution_count": 22,
     "metadata": {},
     "output_type": "execute_result"
    }
   ],
   "source": [
    "twocom_request = requests.get(url=two_com_url)\n",
    "twocom_request.encoding='utf-8-sig'\n",
    "twocom_df = pd.json_normalize(twocom_request.json())\n",
    "\n",
    "twocom_df"
   ]
  },
  {
   "cell_type": "code",
   "execution_count": 31,
   "metadata": {},
   "outputs": [
    {
     "data": {
      "text/html": [
       "<div>\n",
       "<style scoped>\n",
       "    .dataframe tbody tr th:only-of-type {\n",
       "        vertical-align: middle;\n",
       "    }\n",
       "\n",
       "    .dataframe tbody tr th {\n",
       "        vertical-align: top;\n",
       "    }\n",
       "\n",
       "    .dataframe thead th {\n",
       "        text-align: right;\n",
       "    }\n",
       "</style>\n",
       "<table border=\"1\" class=\"dataframe\">\n",
       "  <thead>\n",
       "    <tr style=\"text-align: right;\">\n",
       "      <th></th>\n",
       "      <th>id</th>\n",
       "      <th>text</th>\n",
       "      <th>parent</th>\n",
       "    </tr>\n",
       "  </thead>\n",
       "  <tbody>\n",
       "    <tr>\n",
       "      <th>0</th>\n",
       "      <td>01</td>\n",
       "      <td>01 - Animals; live</td>\n",
       "      <td>TOTAL</td>\n",
       "    </tr>\n",
       "    <tr>\n",
       "      <th>1</th>\n",
       "      <td>01</td>\n",
       "      <td>01 - Animals; live</td>\n",
       "      <td>TOTAL</td>\n",
       "    </tr>\n",
       "    <tr>\n",
       "      <th>2</th>\n",
       "      <td>02</td>\n",
       "      <td>02 - Meat and edible meat offal</td>\n",
       "      <td>TOTAL</td>\n",
       "    </tr>\n",
       "    <tr>\n",
       "      <th>3</th>\n",
       "      <td>03</td>\n",
       "      <td>03 - Fish and crustaceans, molluscs and other ...</td>\n",
       "      <td>TOTAL</td>\n",
       "    </tr>\n",
       "    <tr>\n",
       "      <th>4</th>\n",
       "      <td>04</td>\n",
       "      <td>04 - Dairy produce; birds' eggs; natural honey...</td>\n",
       "      <td>TOTAL</td>\n",
       "    </tr>\n",
       "    <tr>\n",
       "      <th>...</th>\n",
       "      <td>...</td>\n",
       "      <td>...</td>\n",
       "      <td>...</td>\n",
       "    </tr>\n",
       "    <tr>\n",
       "      <th>93</th>\n",
       "      <td>94</td>\n",
       "      <td>94 - Furniture; bedding, mattresses, mattress ...</td>\n",
       "      <td>TOTAL</td>\n",
       "    </tr>\n",
       "    <tr>\n",
       "      <th>94</th>\n",
       "      <td>95</td>\n",
       "      <td>95 - Toys, games and sports requisites; parts ...</td>\n",
       "      <td>TOTAL</td>\n",
       "    </tr>\n",
       "    <tr>\n",
       "      <th>95</th>\n",
       "      <td>96</td>\n",
       "      <td>96 - Miscellaneous manufactured articles</td>\n",
       "      <td>TOTAL</td>\n",
       "    </tr>\n",
       "    <tr>\n",
       "      <th>96</th>\n",
       "      <td>97</td>\n",
       "      <td>97 - Works of art; collectors' pieces and anti...</td>\n",
       "      <td>TOTAL</td>\n",
       "    </tr>\n",
       "    <tr>\n",
       "      <th>97</th>\n",
       "      <td>99</td>\n",
       "      <td>99 - Commodities not specified according to kind</td>\n",
       "      <td>TOTAL</td>\n",
       "    </tr>\n",
       "  </tbody>\n",
       "</table>\n",
       "<p>98 rows × 3 columns</p>\n",
       "</div>"
      ],
      "text/plain": [
       "    id                                               text parent\n",
       "0   01                                 01 - Animals; live  TOTAL\n",
       "1   01                                 01 - Animals; live  TOTAL\n",
       "2   02                    02 - Meat and edible meat offal  TOTAL\n",
       "3   03  03 - Fish and crustaceans, molluscs and other ...  TOTAL\n",
       "4   04  04 - Dairy produce; birds' eggs; natural honey...  TOTAL\n",
       "..  ..                                                ...    ...\n",
       "93  94  94 - Furniture; bedding, mattresses, mattress ...  TOTAL\n",
       "94  95  95 - Toys, games and sports requisites; parts ...  TOTAL\n",
       "95  96           96 - Miscellaneous manufactured articles  TOTAL\n",
       "96  97  97 - Works of art; collectors' pieces and anti...  TOTAL\n",
       "97  99   99 - Commodities not specified according to kind  TOTAL\n",
       "\n",
       "[98 rows x 3 columns]"
      ]
     },
     "execution_count": 31,
     "metadata": {},
     "output_type": "execute_result"
    }
   ],
   "source": [
    "# read two digit commodity codes into json file into pandas data frame\n",
    "twocom_request = requests.get(url=two_com_url)\n",
    "twocom_df = pd.read_json(twocom_request.text)\n",
    "# make the id column contain two digit commodity codes not one digit\n",
    "twocom_df['id'] = twocom_df['id'].apply(lambda x: '{0:0>2}'.format(x))\n",
    "twocom_df"
   ]
  },
  {
   "cell_type": "code",
   "execution_count": 32,
   "metadata": {},
   "outputs": [
    {
     "name": "stdout",
     "output_type": "stream",
     "text": [
      "01 - Animals; live\n",
      "01 - Animals; live\n",
      "02 - Meat and edible meat offal\n",
      "03 - Fish and crustaceans, molluscs and other aquatic invertebrates\n",
      "04 - Dairy produce; birds' eggs; natural honey; edible products of animal origin, not elsewhere specified or included\n",
      "05 - Animal originated products; not elsewhere specified or included\n",
      "06 - Trees and other plants, live; bulbs, roots and the like; cut flowers and ornamental foliage\n",
      "07 - Vegetables and certain roots and tubers; edible\n",
      "08 - Fruit and nuts, edible; peel of citrus fruit or melons\n",
      "09 - Coffee, tea, mate and spices\n",
      "10 - Cereals\n",
      "11 - Products of the milling industry; malt, starches, inulin, wheat gluten\n",
      "12 - Oil seeds and oleaginous fruits; miscellaneous grains, seeds and fruit, industrial or medicinal plants; straw and fodder\n",
      "13 - Lac; gums, resins and other vegetable saps and extracts\n",
      "14 - Vegetable plaiting materials; vegetable products not elsewhere specified or included\n",
      "15 - Animal, vegetable or microbial fats and oils and their cleavage products; prepared edible fats; animal or vegetable waxes\n",
      "16 - Meat, fish, crustaceans, molluscs or other aquatic invertebrates, or insects; preparations thereof\n",
      "17 - Sugars and sugar confectionery\n",
      "18 - Cocoa and cocoa preparations\n",
      "19 - Preparations of cereals, flour, starch or milk; pastrycooks' products\n",
      "20 - Preparations of vegetables, fruit, nuts or other parts of plants\n",
      "21 - Miscellaneous edible preparations\n",
      "22 - Beverages, spirits and vinegar\n",
      "23 - Food industries, residues and wastes thereof; prepared animal fodder\n",
      "24 - Tobacco and manufactured tobacco substitutes; products, whether or not containing nicotine, intended for inhalation without combustion; other nicotine containing products intended for the intake of nicotine into the human body\n",
      "25 - Salt; sulphur; earths, stone; plastering materials, lime and cement\n",
      "26 - Ores, slag and ash\n",
      "27 - Mineral fuels, mineral oils and products of their distillation; bituminous substances; mineral waxes\n",
      "28 - Inorganic chemicals; organic and inorganic compounds of precious metals; of rare earth metals, of radio-active elements and of isotopes\n",
      "29 - Organic chemicals\n",
      "30 - Pharmaceutical products\n",
      "31 - Fertilizers\n",
      "32 - Tanning or dyeing extracts; tannins and their derivatives; dyes, pigments and other colouring matter; paints, varnishes; putty, other mastics; inks\n",
      "33 - Essential oils and resinoids; perfumery, cosmetic or toilet preparations\n",
      "34 - Soap, organic surface-active agents; washing, lubricating, polishing or scouring preparations; artificial or prepared waxes, candles and similar articles, modelling pastes, dental waxes and dental preparations with a basis of plaster\n",
      "35 - Albuminoidal substances; modified starches; glues; enzymes\n",
      "36 - Explosives; pyrotechnic products; matches; pyrophoric alloys; certain combustible preparations\n",
      "37 - Photographic or cinematographic goods\n",
      "38 - Chemical products n.e.c.\n",
      "39 - Plastics and articles thereof\n",
      "40 - Rubber and articles thereof\n",
      "41 - Raw hides and skins (other than furskins) and leather\n",
      "42 - Articles of leather; saddlery and harness; travel goods, handbags and similar containers; articles of animal gut (other than silk-worm gut)\n",
      "43 - Furskins and artificial fur; manufactures thereof\n",
      "44 - Wood and articles of wood; wood charcoal\n",
      "45 - Cork and articles of cork\n",
      "46 - Manufactures of straw, esparto or other plaiting materials; basketware and wickerwork\n",
      "47 - Pulp of wood or other fibrous cellulosic material; recovered (waste and scrap) paper or paperboard\n",
      "48 - Paper and paperboard; articles of paper pulp, of paper or paperboard\n",
      "49 - Printed books, newspapers, pictures and other products of the printing industry; manuscripts, typescripts and plans\n",
      "50 - Silk\n",
      "51 - Wool, fine or coarse animal hair; horsehair yarn and woven fabric\n",
      "52 - Cotton\n",
      "53 - Vegetable textile fibres; paper yarn and woven fabrics of paper yarn\n",
      "54 - Man-made filaments; strip and the like of man-made textile materials\n",
      "55 - Man-made staple fibres\n",
      "56 - Wadding, felt and nonwovens, special yarns; twine, cordage, ropes and cables and articles thereof\n",
      "57 - Carpets and other textile floor coverings\n",
      "58 - Fabrics; special woven fabrics, tufted textile fabrics, lace, tapestries, trimmings, embroidery\n",
      "59 - Textile fabrics; impregnated, coated, covered or laminated; textile articles of a kind suitable for industrial use\n",
      "60 - Fabrics; knitted or crocheted\n",
      "61 - Apparel and clothing accessories; knitted or crocheted\n",
      "62 - Apparel and clothing accessories; not knitted or crocheted\n",
      "63 - Textiles, made up articles; sets; worn clothing and worn textile articles; rags\n",
      "64 - Footwear; gaiters and the like; parts of such articles\n",
      "65 - Headgear and parts thereof\n",
      "66 - Umbrellas, sun umbrellas, walking-sticks, seat sticks, whips, riding crops; and parts thereof\n",
      "67 - Feathers and down, prepared; and articles made of feather or of down; artificial flowers; articles of human hair\n",
      "68 - Stone, plaster, cement, asbestos, mica or similar materials; articles thereof\n",
      "69 - Ceramic products\n",
      "70 - Glass and glassware\n",
      "71 - Natural, cultured pearls; precious, semi-precious stones; precious metals, metals clad with precious metal, and articles thereof; imitation jewellery; coin\n",
      "72 - Iron and steel\n",
      "73 - Iron or steel articles\n",
      "74 - Copper and articles thereof\n",
      "75 - Nickel and articles thereof\n",
      "76 - Aluminium and articles thereof\n",
      "78 - Lead and articles thereof\n",
      "79 - Zinc and articles thereof\n",
      "80 - Tin; articles thereof\n",
      "81 - Metals; n.e.c., cermets and articles thereof\n",
      "82 - Tools, implements, cutlery, spoons and forks, of base metal; parts thereof, of base metal\n",
      "83 - Metal; miscellaneous products of base metal\n",
      "84 - Machinery and mechanical appliances, boilers, nuclear reactors; parts thereof\n",
      "85 - Electrical machinery and equipment and parts thereof; sound recorders and reproducers; television image and sound recorders and reproducers, parts and accessories of such articles\n",
      "86 - Railway, tramway locomotives, rolling-stock and parts thereof; railway or tramway track fixtures and fittings and parts thereof; mechanical (including electro-mechanical) traffic signalling equipment of all kinds\n",
      "87 - Vehicles; other than railway or tramway rolling stock, and parts and accessories thereof\n",
      "88 - Aircraft, spacecraft, and parts thereof\n",
      "89 - Ships, boats and floating structures\n",
      "90 - Optical, photographic, cinematographic, measuring, checking, medical or surgical instruments and apparatus; parts and accessories\n",
      "91 - Clocks and watches and parts thereof\n",
      "92 - Musical instruments; parts and accessories of such articles\n",
      "93 - Arms and ammunition; parts and accessories thereof\n",
      "94 - Furniture; bedding, mattresses, mattress supports, cushions and similar stuffed furnishings; lamps and lighting fittings, n.e.c.; illuminated signs, illuminated name-plates and the like; prefabricated buildings\n",
      "95 - Toys, games and sports requisites; parts and accessories thereof\n",
      "96 - Miscellaneous manufactured articles\n",
      "97 - Works of art; collectors' pieces and antiques\n",
      "99 - Commodities not specified according to kind\n"
     ]
    }
   ],
   "source": [
    "# print each value from text column  \n",
    "for val in twocom_df.text: \n",
    "    print(val)"
   ]
  },
  {
   "cell_type": "code",
   "execution_count": 35,
   "metadata": {},
   "outputs": [],
   "source": [
    "# full commodity list text values that begin with 31\n",
    "x  = com_df[com_df['text'].str.startswith('31')]\n",
    "# export x to csv\n",
    "x.to_csv('fertilizer.csv', index=False)"
   ]
  },
  {
   "cell_type": "code",
   "execution_count": 131,
   "metadata": {},
   "outputs": [
    {
     "data": {
      "text/plain": [
       "'01%2C02%2C03%2C04%2C05%2C07%2C08%2C09%2C10%2C11%2C12%2C13%2C15%2C16%2C17%2C19%2C20'"
      ]
     },
     "execution_count": 131,
     "metadata": {},
     "output_type": "execute_result"
    }
   ],
   "source": [
    "food_list = [\"01\", \"02\", \"03\", \"04\", \"05\", \"07\", \"08\", \"09\", \"10\", \"11\", \"12\", \"13\", \"15\", \"16\", \"17\", \"19\", \"20\"]\n",
    "twocom_df['id'] = twocom_df['id'].astype(str)\n",
    "# dataframe in case we want to work with this list of commodities later\n",
    "food_df = twocom_df[twocom_df['id'].str.startswith(tuple(food_list))]\n",
    "# this is what will be used for the URL later\n",
    "food_string = \"%2C\".join(food_list)\n",
    "food_string"
   ]
  },
  {
   "cell_type": "code",
   "execution_count": 53,
   "metadata": {},
   "outputs": [],
   "source": [
    "country_code = \"586\" # pakistan country code\n",
    "year_string = \"2021%2C2020%2C2019%2C2018%2C2017\"\n",
    "year = \"2021\""
   ]
  },
  {
   "cell_type": "code",
   "execution_count": 127,
   "metadata": {},
   "outputs": [
    {
     "data": {
      "text/plain": [
       "'http://comtrade.un.org/api/get?max=1999&type=C&freq=A&px=HS&ps=2021&r=586&p=all&rg=all&cc=01%2C02%2C03%2C04%2C05%2C07%2C08%2C09%2C10%2C11%2C12%2C13%2C15%2C16%2C17%2C19%2C20'"
      ]
     },
     "execution_count": 127,
     "metadata": {},
     "output_type": "execute_result"
    }
   ],
   "source": [
    "\n",
    "ie_url = f\"http://comtrade.un.org/api/get?max=1999&type=C&freq=A&px=HS&ps={year}&r={country_code}&p=all&rg=all&cc={food_string}\"\n",
    "ie_url"
   ]
  },
  {
   "cell_type": "code",
   "execution_count": 178,
   "metadata": {},
   "outputs": [],
   "source": [
    "color_dict = {\n",
    "            \"(?)\":\"white\",\n",
    "            \"Animals; live\":\"#807E5B\",\n",
    "            \"Meat and edible meat offal\":\"#C9938B\",\n",
    "            \"Dairy produce; birds' eggs; natural honey; edible products of animal origin, not elsewhere specified or included\":\"#99B7CF\",\n",
    "            \"Animal originated products; not elsewhere specified or included\":\"#7D7E7D\",\n",
    "            \"Vegetables and certain roots and tubers; edible\":\"#57633C\",\n",
    "            \"Fruits and nuts; edible\":\"#98A552\",\n",
    "            \"Cereals\":\"#B99A7A\",\n",
    "            \"Coffee, tea, mate and spices\":\"#5F4737\",\n",
    "            \"Fruit and nuts, edible; peel of citrus fruit or melons\":\"#C66562\",\n",
    "            \"Products of the milling industry; malt, starches, inulin, wheat gluten\":\"#8D8D8E\",\n",
    "            \"Oil seeds and oleaginous fruits; miscellaneous grains, seeds and fruit, industrial or medicinal plants; straw and fodder\":\"#F3E18F\",\n",
    "            \"Lac; gums, resins and other vegetable saps and extracts\":\"#B5A6C8\",\n",
    "            \"Animal or vegetable fats and oils and their cleavage products; prepared animal fats; animal or vegetable waxes\":\"#EAAC55\",\n",
    "            \"Sugars and sugar confectionery\":\"#EBE5D9\",\n",
    "            \"Preparations of cereals, flour, starch or milk; pastrycooks' products\":\"#662C69\",\n",
    "            \"Fish and crustaceans, molluscs and other aquatic invertebrates\":\"#A3AAA5\",\n",
    "            \"Meat, fish or crustaceans, molluscs or other aquatic invertebrates; preparations thereof\":\"#3B768C\",\n",
    "            \"Preparations of vegetables, fruit, nuts or other parts of plants\":\"#E95F85\"\n",
    "            }\n",
    "\n",
    "def get_comtrade_data(endpoint_url):\n",
    "     request = requests.get(url=endpoint_url)\n",
    "     print (request)\n",
    "     length = len(request.json()[\"dataset\"])\n",
    "     print (\"length is \" + str(length))\n",
    "     if length > 1998:\n",
    "           print (\"Data may be truncated in graphs due to API limit\")\n",
    "     return (pd.json_normalize(request.json()[\"dataset\"]))\n",
    "\n",
    "def make_treegraph (dataframe, Year, Type):\n",
    "     fig = px.treemap(dataframe, path=[px.Constant(\"all\"), \"cmdDescE\", 'ptTitle'], values='TradeValue', color='cmdDescE', color_discrete_map=color_dict)\n",
    "     fig.update_layout(margin = dict(t=50, l=0, r=0, b=0))\n",
    "     fig.update_layout(title_text=f'{Type} by Commodity and Partner in {Year}')\n",
    "     # remove outline color\n",
    "     fig.update_traces(marker_line_color='rgb(0,0,0)', marker_line_width=.1)\n",
    "     return(fig)\n",
    "\n",
    "def commodity_charts(country_code):\n",
    "    year = \"2021\"\n",
    "    multiyear_string = \"2021%2C2020%2C2019%2C2018%2C2017\"\n",
    "    # this is a string of all the two digit commodity codes that I consider to be food\n",
    "    food_code_string = \"01%2C02%2C03%2C04%2C05%2C07%2C08%2C09%2C10%2C11%2C12%2C13%2C15%2C16%2C17%2C19%2C20\"\n",
    "    import_url = f\"http://comtrade.un.org/api/get?max=1999&type=C&freq=A&px=HS&ps={year}&r={country_code}&p=all&rg=1&cc={food_code_string}\"\n",
    "    export_url = f\"http://comtrade.un.org/api/get?max=1999&type=C&freq=A&px=HS&ps={year}&r={country_code}&p=all&rg=2&cc={food_code_string}\"\n",
    "    import_df = get_comtrade_data(import_url)\n",
    "    import_df = import_df[import_df['ptTitle'].str.match('World') == False]\n",
    "    export_df = get_comtrade_data(export_url)\n",
    "    export_df = export_df[export_df['ptTitle'].str.match('World') == False]\n",
    "    \n",
    "    import_treegraph = make_treegraph(import_df, year, \"Imports\")\n",
    "    export_treegraph = make_treegraph(export_df, year, \"Exports\")\n",
    "    return import_treegraph.show(), export_treegraph.show()\n",
    "\n"
   ]
  },
  {
   "cell_type": "code",
   "execution_count": 177,
   "metadata": {},
   "outputs": [
    {
     "name": "stdout",
     "output_type": "stream",
     "text": [
      "<Response [200]>\n",
      "length is 668\n",
      "<Response [200]>\n",
      "length is 994\n"
     ]
    },
    {
     "data": {
      "application/vnd.plotly.v1+json": {
       "config": {
        "plotlyServerURL": "https://plot.ly"
       },
       "data": [
        {
         "branchvalues": "total",
         "customdata": [
          [
           "Preparations of cereals, flour, starch or milk; pastrycooks' products"
          ],
          [
           "Coffee, tea, mate and spices"
          ],
          [
           "Dairy produce; birds' eggs; natural honey; edible products of animal origin, not elsewhere specified or included"
          ],
          [
           "Preparations of cereals, flour, starch or milk; pastrycooks' products"
          ],
          [
           "Dairy produce; birds' eggs; natural honey; edible products of animal origin, not elsewhere specified or included"
          ],
          [
           "Animal or vegetable fats and oils and their cleavage products; prepared animal fats; animal or vegetable waxes"
          ],
          [
           "Coffee, tea, mate and spices"
          ],
          [
           "Coffee, tea, mate and spices"
          ],
          [
           "Animals; live"
          ],
          [
           "Preparations of vegetables, fruit, nuts or other parts of plants"
          ],
          [
           "Meat, fish or crustaceans, molluscs or other aquatic invertebrates; preparations thereof"
          ],
          [
           "Animal or vegetable fats and oils and their cleavage products; prepared animal fats; animal or vegetable waxes"
          ],
          [
           "Coffee, tea, mate and spices"
          ],
          [
           "Coffee, tea, mate and spices"
          ],
          [
           "Preparations of cereals, flour, starch or milk; pastrycooks' products"
          ],
          [
           "Oil seeds and oleaginous fruits; miscellaneous grains, seeds and fruit, industrial or medicinal plants; straw and fodder"
          ],
          [
           "Lac; gums, resins and other vegetable saps and extracts"
          ],
          [
           "Products of the milling industry; malt, starches, inulin, wheat gluten"
          ],
          [
           "Animal or vegetable fats and oils and their cleavage products; prepared animal fats; animal or vegetable waxes"
          ],
          [
           "Animal or vegetable fats and oils and their cleavage products; prepared animal fats; animal or vegetable waxes"
          ],
          [
           "Sugars and sugar confectionery"
          ],
          [
           "Fruit and nuts, edible; peel of citrus fruit or melons"
          ],
          [
           "Coffee, tea, mate and spices"
          ],
          [
           "Vegetables and certain roots and tubers; edible"
          ],
          [
           "Cereals"
          ],
          [
           "Vegetables and certain roots and tubers; edible"
          ],
          [
           "Oil seeds and oleaginous fruits; miscellaneous grains, seeds and fruit, industrial or medicinal plants; straw and fodder"
          ],
          [
           "Cereals"
          ],
          [
           "Fruit and nuts, edible; peel of citrus fruit or melons"
          ],
          [
           "Sugars and sugar confectionery"
          ],
          [
           "Animal or vegetable fats and oils and their cleavage products; prepared animal fats; animal or vegetable waxes"
          ],
          [
           "Vegetables and certain roots and tubers; edible"
          ],
          [
           "Animal or vegetable fats and oils and their cleavage products; prepared animal fats; animal or vegetable waxes"
          ],
          [
           "Sugars and sugar confectionery"
          ],
          [
           "Preparations of cereals, flour, starch or milk; pastrycooks' products"
          ],
          [
           "Dairy produce; birds' eggs; natural honey; edible products of animal origin, not elsewhere specified or included"
          ],
          [
           "Fish and crustaceans, molluscs and other aquatic invertebrates"
          ],
          [
           "Oil seeds and oleaginous fruits; miscellaneous grains, seeds and fruit, industrial or medicinal plants; straw and fodder"
          ],
          [
           "Sugars and sugar confectionery"
          ],
          [
           "Oil seeds and oleaginous fruits; miscellaneous grains, seeds and fruit, industrial or medicinal plants; straw and fodder"
          ],
          [
           "Preparations of vegetables, fruit, nuts or other parts of plants"
          ],
          [
           "Animals; live"
          ],
          [
           "Preparations of cereals, flour, starch or milk; pastrycooks' products"
          ],
          [
           "Preparations of cereals, flour, starch or milk; pastrycooks' products"
          ],
          [
           "Preparations of cereals, flour, starch or milk; pastrycooks' products"
          ],
          [
           "Cereals"
          ],
          [
           "Products of the milling industry; malt, starches, inulin, wheat gluten"
          ],
          [
           "Vegetables and certain roots and tubers; edible"
          ],
          [
           "Animal or vegetable fats and oils and their cleavage products; prepared animal fats; animal or vegetable waxes"
          ],
          [
           "Oil seeds and oleaginous fruits; miscellaneous grains, seeds and fruit, industrial or medicinal plants; straw and fodder"
          ],
          [
           "Animals; live"
          ],
          [
           "Animals; live"
          ],
          [
           "Animal or vegetable fats and oils and their cleavage products; prepared animal fats; animal or vegetable waxes"
          ],
          [
           "Sugars and sugar confectionery"
          ],
          [
           "Oil seeds and oleaginous fruits; miscellaneous grains, seeds and fruit, industrial or medicinal plants; straw and fodder"
          ],
          [
           "Oil seeds and oleaginous fruits; miscellaneous grains, seeds and fruit, industrial or medicinal plants; straw and fodder"
          ],
          [
           "Cereals"
          ],
          [
           "Sugars and sugar confectionery"
          ],
          [
           "Oil seeds and oleaginous fruits; miscellaneous grains, seeds and fruit, industrial or medicinal plants; straw and fodder"
          ],
          [
           "Cereals"
          ],
          [
           "Oil seeds and oleaginous fruits; miscellaneous grains, seeds and fruit, industrial or medicinal plants; straw and fodder"
          ],
          [
           "Lac; gums, resins and other vegetable saps and extracts"
          ],
          [
           "Meat, fish or crustaceans, molluscs or other aquatic invertebrates; preparations thereof"
          ],
          [
           "Sugars and sugar confectionery"
          ],
          [
           "Fruit and nuts, edible; peel of citrus fruit or melons"
          ],
          [
           "Products of the milling industry; malt, starches, inulin, wheat gluten"
          ],
          [
           "Fish and crustaceans, molluscs and other aquatic invertebrates"
          ],
          [
           "Animal originated products; not elsewhere specified or included"
          ],
          [
           "Preparations of cereals, flour, starch or milk; pastrycooks' products"
          ],
          [
           "Coffee, tea, mate and spices"
          ],
          [
           "Animal or vegetable fats and oils and their cleavage products; prepared animal fats; animal or vegetable waxes"
          ],
          [
           "Preparations of cereals, flour, starch or milk; pastrycooks' products"
          ],
          [
           "Animal originated products; not elsewhere specified or included"
          ],
          [
           "Fruit and nuts, edible; peel of citrus fruit or melons"
          ],
          [
           "Preparations of vegetables, fruit, nuts or other parts of plants"
          ],
          [
           "Preparations of vegetables, fruit, nuts or other parts of plants"
          ],
          [
           "Preparations of cereals, flour, starch or milk; pastrycooks' products"
          ],
          [
           "Animal originated products; not elsewhere specified or included"
          ],
          [
           "Preparations of cereals, flour, starch or milk; pastrycooks' products"
          ],
          [
           "Vegetables and certain roots and tubers; edible"
          ],
          [
           "Oil seeds and oleaginous fruits; miscellaneous grains, seeds and fruit, industrial or medicinal plants; straw and fodder"
          ],
          [
           "Products of the milling industry; malt, starches, inulin, wheat gluten"
          ],
          [
           "Fish and crustaceans, molluscs and other aquatic invertebrates"
          ],
          [
           "Animal originated products; not elsewhere specified or included"
          ],
          [
           "Preparations of vegetables, fruit, nuts or other parts of plants"
          ],
          [
           "Vegetables and certain roots and tubers; edible"
          ],
          [
           "Fruit and nuts, edible; peel of citrus fruit or melons"
          ],
          [
           "Preparations of vegetables, fruit, nuts or other parts of plants"
          ],
          [
           "Animal or vegetable fats and oils and their cleavage products; prepared animal fats; animal or vegetable waxes"
          ],
          [
           "Meat, fish or crustaceans, molluscs or other aquatic invertebrates; preparations thereof"
          ],
          [
           "Animals; live"
          ],
          [
           "Animal or vegetable fats and oils and their cleavage products; prepared animal fats; animal or vegetable waxes"
          ],
          [
           "Sugars and sugar confectionery"
          ],
          [
           "Vegetables and certain roots and tubers; edible"
          ],
          [
           "Sugars and sugar confectionery"
          ],
          [
           "Oil seeds and oleaginous fruits; miscellaneous grains, seeds and fruit, industrial or medicinal plants; straw and fodder"
          ],
          [
           "Coffee, tea, mate and spices"
          ],
          [
           "Products of the milling industry; malt, starches, inulin, wheat gluten"
          ],
          [
           "Coffee, tea, mate and spices"
          ],
          [
           "Preparations of vegetables, fruit, nuts or other parts of plants"
          ],
          [
           "Animal originated products; not elsewhere specified or included"
          ],
          [
           "Oil seeds and oleaginous fruits; miscellaneous grains, seeds and fruit, industrial or medicinal plants; straw and fodder"
          ],
          [
           "Oil seeds and oleaginous fruits; miscellaneous grains, seeds and fruit, industrial or medicinal plants; straw and fodder"
          ],
          [
           "Meat and edible meat offal"
          ],
          [
           "Preparations of vegetables, fruit, nuts or other parts of plants"
          ],
          [
           "Sugars and sugar confectionery"
          ],
          [
           "Products of the milling industry; malt, starches, inulin, wheat gluten"
          ],
          [
           "Lac; gums, resins and other vegetable saps and extracts"
          ],
          [
           "Products of the milling industry; malt, starches, inulin, wheat gluten"
          ],
          [
           "Preparations of vegetables, fruit, nuts or other parts of plants"
          ],
          [
           "Oil seeds and oleaginous fruits; miscellaneous grains, seeds and fruit, industrial or medicinal plants; straw and fodder"
          ],
          [
           "Lac; gums, resins and other vegetable saps and extracts"
          ],
          [
           "Animals; live"
          ],
          [
           "Animals; live"
          ],
          [
           "Animal or vegetable fats and oils and their cleavage products; prepared animal fats; animal or vegetable waxes"
          ],
          [
           "Meat and edible meat offal"
          ],
          [
           "Preparations of cereals, flour, starch or milk; pastrycooks' products"
          ],
          [
           "Oil seeds and oleaginous fruits; miscellaneous grains, seeds and fruit, industrial or medicinal plants; straw and fodder"
          ],
          [
           "Preparations of vegetables, fruit, nuts or other parts of plants"
          ],
          [
           "Preparations of cereals, flour, starch or milk; pastrycooks' products"
          ],
          [
           "Meat and edible meat offal"
          ],
          [
           "Products of the milling industry; malt, starches, inulin, wheat gluten"
          ],
          [
           "Meat, fish or crustaceans, molluscs or other aquatic invertebrates; preparations thereof"
          ],
          [
           "Animal originated products; not elsewhere specified or included"
          ],
          [
           "Oil seeds and oleaginous fruits; miscellaneous grains, seeds and fruit, industrial or medicinal plants; straw and fodder"
          ],
          [
           "Sugars and sugar confectionery"
          ],
          [
           "Animal originated products; not elsewhere specified or included"
          ],
          [
           "Dairy produce; birds' eggs; natural honey; edible products of animal origin, not elsewhere specified or included"
          ],
          [
           "Preparations of vegetables, fruit, nuts or other parts of plants"
          ],
          [
           "Preparations of cereals, flour, starch or milk; pastrycooks' products"
          ],
          [
           "Animals; live"
          ],
          [
           "Animal originated products; not elsewhere specified or included"
          ],
          [
           "Products of the milling industry; malt, starches, inulin, wheat gluten"
          ],
          [
           "Fruit and nuts, edible; peel of citrus fruit or melons"
          ],
          [
           "Animal originated products; not elsewhere specified or included"
          ],
          [
           "Coffee, tea, mate and spices"
          ],
          [
           "Meat, fish or crustaceans, molluscs or other aquatic invertebrates; preparations thereof"
          ],
          [
           "Coffee, tea, mate and spices"
          ],
          [
           "Fruit and nuts, edible; peel of citrus fruit or melons"
          ],
          [
           "Cereals"
          ],
          [
           "Cereals"
          ],
          [
           "Preparations of cereals, flour, starch or milk; pastrycooks' products"
          ],
          [
           "Cereals"
          ],
          [
           "Animals; live"
          ],
          [
           "Animal or vegetable fats and oils and their cleavage products; prepared animal fats; animal or vegetable waxes"
          ],
          [
           "Preparations of vegetables, fruit, nuts or other parts of plants"
          ],
          [
           "Animal or vegetable fats and oils and their cleavage products; prepared animal fats; animal or vegetable waxes"
          ],
          [
           "Lac; gums, resins and other vegetable saps and extracts"
          ],
          [
           "Cereals"
          ],
          [
           "Cereals"
          ],
          [
           "Animal or vegetable fats and oils and their cleavage products; prepared animal fats; animal or vegetable waxes"
          ],
          [
           "Lac; gums, resins and other vegetable saps and extracts"
          ],
          [
           "Coffee, tea, mate and spices"
          ],
          [
           "Animal or vegetable fats and oils and their cleavage products; prepared animal fats; animal or vegetable waxes"
          ],
          [
           "Sugars and sugar confectionery"
          ],
          [
           "Animals; live"
          ],
          [
           "Oil seeds and oleaginous fruits; miscellaneous grains, seeds and fruit, industrial or medicinal plants; straw and fodder"
          ],
          [
           "Products of the milling industry; malt, starches, inulin, wheat gluten"
          ],
          [
           "Animals; live"
          ],
          [
           "Preparations of vegetables, fruit, nuts or other parts of plants"
          ],
          [
           "Coffee, tea, mate and spices"
          ],
          [
           "Lac; gums, resins and other vegetable saps and extracts"
          ],
          [
           "Coffee, tea, mate and spices"
          ],
          [
           "Meat and edible meat offal"
          ],
          [
           "Lac; gums, resins and other vegetable saps and extracts"
          ],
          [
           "Oil seeds and oleaginous fruits; miscellaneous grains, seeds and fruit, industrial or medicinal plants; straw and fodder"
          ],
          [
           "Preparations of cereals, flour, starch or milk; pastrycooks' products"
          ],
          [
           "Coffee, tea, mate and spices"
          ],
          [
           "Oil seeds and oleaginous fruits; miscellaneous grains, seeds and fruit, industrial or medicinal plants; straw and fodder"
          ],
          [
           "Sugars and sugar confectionery"
          ],
          [
           "Preparations of cereals, flour, starch or milk; pastrycooks' products"
          ],
          [
           "Preparations of vegetables, fruit, nuts or other parts of plants"
          ],
          [
           "Oil seeds and oleaginous fruits; miscellaneous grains, seeds and fruit, industrial or medicinal plants; straw and fodder"
          ],
          [
           "Animal or vegetable fats and oils and their cleavage products; prepared animal fats; animal or vegetable waxes"
          ],
          [
           "Oil seeds and oleaginous fruits; miscellaneous grains, seeds and fruit, industrial or medicinal plants; straw and fodder"
          ],
          [
           "Lac; gums, resins and other vegetable saps and extracts"
          ],
          [
           "Preparations of vegetables, fruit, nuts or other parts of plants"
          ],
          [
           "Meat and edible meat offal"
          ],
          [
           "Dairy produce; birds' eggs; natural honey; edible products of animal origin, not elsewhere specified or included"
          ],
          [
           "Dairy produce; birds' eggs; natural honey; edible products of animal origin, not elsewhere specified or included"
          ],
          [
           "Products of the milling industry; malt, starches, inulin, wheat gluten"
          ],
          [
           "Dairy produce; birds' eggs; natural honey; edible products of animal origin, not elsewhere specified or included"
          ],
          [
           "Coffee, tea, mate and spices"
          ],
          [
           "Preparations of cereals, flour, starch or milk; pastrycooks' products"
          ],
          [
           "Preparations of vegetables, fruit, nuts or other parts of plants"
          ],
          [
           "Vegetables and certain roots and tubers; edible"
          ],
          [
           "Lac; gums, resins and other vegetable saps and extracts"
          ],
          [
           "Preparations of vegetables, fruit, nuts or other parts of plants"
          ],
          [
           "Fruit and nuts, edible; peel of citrus fruit or melons"
          ],
          [
           "Products of the milling industry; malt, starches, inulin, wheat gluten"
          ],
          [
           "Cereals"
          ],
          [
           "Fruit and nuts, edible; peel of citrus fruit or melons"
          ],
          [
           "Preparations of cereals, flour, starch or milk; pastrycooks' products"
          ],
          [
           "Cereals"
          ],
          [
           "Vegetables and certain roots and tubers; edible"
          ],
          [
           "Oil seeds and oleaginous fruits; miscellaneous grains, seeds and fruit, industrial or medicinal plants; straw and fodder"
          ],
          [
           "Lac; gums, resins and other vegetable saps and extracts"
          ],
          [
           "Dairy produce; birds' eggs; natural honey; edible products of animal origin, not elsewhere specified or included"
          ],
          [
           "Animals; live"
          ],
          [
           "Coffee, tea, mate and spices"
          ],
          [
           "Vegetables and certain roots and tubers; edible"
          ],
          [
           "Cereals"
          ],
          [
           "Products of the milling industry; malt, starches, inulin, wheat gluten"
          ],
          [
           "Animal or vegetable fats and oils and their cleavage products; prepared animal fats; animal or vegetable waxes"
          ],
          [
           "Animal or vegetable fats and oils and their cleavage products; prepared animal fats; animal or vegetable waxes"
          ],
          [
           "Preparations of cereals, flour, starch or milk; pastrycooks' products"
          ],
          [
           "Preparations of vegetables, fruit, nuts or other parts of plants"
          ],
          [
           "Oil seeds and oleaginous fruits; miscellaneous grains, seeds and fruit, industrial or medicinal plants; straw and fodder"
          ],
          [
           "Meat and edible meat offal"
          ],
          [
           "Dairy produce; birds' eggs; natural honey; edible products of animal origin, not elsewhere specified or included"
          ],
          [
           "Fish and crustaceans, molluscs and other aquatic invertebrates"
          ],
          [
           "Fruit and nuts, edible; peel of citrus fruit or melons"
          ],
          [
           "Sugars and sugar confectionery"
          ],
          [
           "Preparations of vegetables, fruit, nuts or other parts of plants"
          ],
          [
           "Coffee, tea, mate and spices"
          ],
          [
           "Coffee, tea, mate and spices"
          ],
          [
           "Vegetables and certain roots and tubers; edible"
          ],
          [
           "Animal or vegetable fats and oils and their cleavage products; prepared animal fats; animal or vegetable waxes"
          ],
          [
           "Fish and crustaceans, molluscs and other aquatic invertebrates"
          ],
          [
           "Products of the milling industry; malt, starches, inulin, wheat gluten"
          ],
          [
           "Animal originated products; not elsewhere specified or included"
          ],
          [
           "Dairy produce; birds' eggs; natural honey; edible products of animal origin, not elsewhere specified or included"
          ],
          [
           "Meat and edible meat offal"
          ],
          [
           "Animals; live"
          ],
          [
           "Animal or vegetable fats and oils and their cleavage products; prepared animal fats; animal or vegetable waxes"
          ],
          [
           "Coffee, tea, mate and spices"
          ],
          [
           "Coffee, tea, mate and spices"
          ],
          [
           "Preparations of vegetables, fruit, nuts or other parts of plants"
          ],
          [
           "Preparations of vegetables, fruit, nuts or other parts of plants"
          ],
          [
           "Oil seeds and oleaginous fruits; miscellaneous grains, seeds and fruit, industrial or medicinal plants; straw and fodder"
          ],
          [
           "Preparations of cereals, flour, starch or milk; pastrycooks' products"
          ],
          [
           "Animal originated products; not elsewhere specified or included"
          ],
          [
           "Lac; gums, resins and other vegetable saps and extracts"
          ],
          [
           "Lac; gums, resins and other vegetable saps and extracts"
          ],
          [
           "Oil seeds and oleaginous fruits; miscellaneous grains, seeds and fruit, industrial or medicinal plants; straw and fodder"
          ],
          [
           "Animal or vegetable fats and oils and their cleavage products; prepared animal fats; animal or vegetable waxes"
          ],
          [
           "Animals; live"
          ],
          [
           "Dairy produce; birds' eggs; natural honey; edible products of animal origin, not elsewhere specified or included"
          ],
          [
           "Lac; gums, resins and other vegetable saps and extracts"
          ],
          [
           "Preparations of cereals, flour, starch or milk; pastrycooks' products"
          ],
          [
           "Animal or vegetable fats and oils and their cleavage products; prepared animal fats; animal or vegetable waxes"
          ],
          [
           "Preparations of vegetables, fruit, nuts or other parts of plants"
          ],
          [
           "Sugars and sugar confectionery"
          ],
          [
           "Dairy produce; birds' eggs; natural honey; edible products of animal origin, not elsewhere specified or included"
          ],
          [
           "Oil seeds and oleaginous fruits; miscellaneous grains, seeds and fruit, industrial or medicinal plants; straw and fodder"
          ],
          [
           "Dairy produce; birds' eggs; natural honey; edible products of animal origin, not elsewhere specified or included"
          ],
          [
           "Lac; gums, resins and other vegetable saps and extracts"
          ],
          [
           "Animal originated products; not elsewhere specified or included"
          ],
          [
           "Sugars and sugar confectionery"
          ],
          [
           "Vegetables and certain roots and tubers; edible"
          ],
          [
           "Animal originated products; not elsewhere specified or included"
          ],
          [
           "Dairy produce; birds' eggs; natural honey; edible products of animal origin, not elsewhere specified or included"
          ],
          [
           "Animal originated products; not elsewhere specified or included"
          ],
          [
           "Oil seeds and oleaginous fruits; miscellaneous grains, seeds and fruit, industrial or medicinal plants; straw and fodder"
          ],
          [
           "Dairy produce; birds' eggs; natural honey; edible products of animal origin, not elsewhere specified or included"
          ],
          [
           "Animals; live"
          ],
          [
           "Oil seeds and oleaginous fruits; miscellaneous grains, seeds and fruit, industrial or medicinal plants; straw and fodder"
          ],
          [
           "Fruit and nuts, edible; peel of citrus fruit or melons"
          ],
          [
           "Vegetables and certain roots and tubers; edible"
          ],
          [
           "Animal originated products; not elsewhere specified or included"
          ],
          [
           "Oil seeds and oleaginous fruits; miscellaneous grains, seeds and fruit, industrial or medicinal plants; straw and fodder"
          ],
          [
           "Preparations of vegetables, fruit, nuts or other parts of plants"
          ],
          [
           "Lac; gums, resins and other vegetable saps and extracts"
          ],
          [
           "Products of the milling industry; malt, starches, inulin, wheat gluten"
          ],
          [
           "Animal or vegetable fats and oils and their cleavage products; prepared animal fats; animal or vegetable waxes"
          ],
          [
           "Coffee, tea, mate and spices"
          ],
          [
           "Products of the milling industry; malt, starches, inulin, wheat gluten"
          ],
          [
           "Oil seeds and oleaginous fruits; miscellaneous grains, seeds and fruit, industrial or medicinal plants; straw and fodder"
          ],
          [
           "Animals; live"
          ],
          [
           "Products of the milling industry; malt, starches, inulin, wheat gluten"
          ],
          [
           "Dairy produce; birds' eggs; natural honey; edible products of animal origin, not elsewhere specified or included"
          ],
          [
           "Products of the milling industry; malt, starches, inulin, wheat gluten"
          ],
          [
           "Preparations of cereals, flour, starch or milk; pastrycooks' products"
          ],
          [
           "Sugars and sugar confectionery"
          ],
          [
           "Fruit and nuts, edible; peel of citrus fruit or melons"
          ],
          [
           "Preparations of cereals, flour, starch or milk; pastrycooks' products"
          ],
          [
           "Oil seeds and oleaginous fruits; miscellaneous grains, seeds and fruit, industrial or medicinal plants; straw and fodder"
          ],
          [
           "Vegetables and certain roots and tubers; edible"
          ],
          [
           "Coffee, tea, mate and spices"
          ],
          [
           "Vegetables and certain roots and tubers; edible"
          ],
          [
           "Coffee, tea, mate and spices"
          ],
          [
           "Coffee, tea, mate and spices"
          ],
          [
           "Animals; live"
          ],
          [
           "Oil seeds and oleaginous fruits; miscellaneous grains, seeds and fruit, industrial or medicinal plants; straw and fodder"
          ],
          [
           "Oil seeds and oleaginous fruits; miscellaneous grains, seeds and fruit, industrial or medicinal plants; straw and fodder"
          ],
          [
           "Vegetables and certain roots and tubers; edible"
          ],
          [
           "Animal or vegetable fats and oils and their cleavage products; prepared animal fats; animal or vegetable waxes"
          ],
          [
           "Vegetables and certain roots and tubers; edible"
          ],
          [
           "Preparations of vegetables, fruit, nuts or other parts of plants"
          ],
          [
           "Coffee, tea, mate and spices"
          ],
          [
           "Fruit and nuts, edible; peel of citrus fruit or melons"
          ],
          [
           "Dairy produce; birds' eggs; natural honey; edible products of animal origin, not elsewhere specified or included"
          ],
          [
           "Coffee, tea, mate and spices"
          ],
          [
           "Oil seeds and oleaginous fruits; miscellaneous grains, seeds and fruit, industrial or medicinal plants; straw and fodder"
          ],
          [
           "Sugars and sugar confectionery"
          ],
          [
           "Dairy produce; birds' eggs; natural honey; edible products of animal origin, not elsewhere specified or included"
          ],
          [
           "Preparations of cereals, flour, starch or milk; pastrycooks' products"
          ],
          [
           "Animals; live"
          ],
          [
           "Coffee, tea, mate and spices"
          ],
          [
           "Fish and crustaceans, molluscs and other aquatic invertebrates"
          ],
          [
           "Preparations of vegetables, fruit, nuts or other parts of plants"
          ],
          [
           "Preparations of vegetables, fruit, nuts or other parts of plants"
          ],
          [
           "Products of the milling industry; malt, starches, inulin, wheat gluten"
          ],
          [
           "Coffee, tea, mate and spices"
          ],
          [
           "Vegetables and certain roots and tubers; edible"
          ],
          [
           "Vegetables and certain roots and tubers; edible"
          ],
          [
           "Vegetables and certain roots and tubers; edible"
          ],
          [
           "Preparations of vegetables, fruit, nuts or other parts of plants"
          ],
          [
           "Sugars and sugar confectionery"
          ],
          [
           "Cereals"
          ],
          [
           "Cereals"
          ],
          [
           "Fruit and nuts, edible; peel of citrus fruit or melons"
          ],
          [
           "Preparations of cereals, flour, starch or milk; pastrycooks' products"
          ],
          [
           "Lac; gums, resins and other vegetable saps and extracts"
          ],
          [
           "Sugars and sugar confectionery"
          ],
          [
           "Dairy produce; birds' eggs; natural honey; edible products of animal origin, not elsewhere specified or included"
          ],
          [
           "Vegetables and certain roots and tubers; edible"
          ],
          [
           "Animal or vegetable fats and oils and their cleavage products; prepared animal fats; animal or vegetable waxes"
          ],
          [
           "Sugars and sugar confectionery"
          ],
          [
           "Lac; gums, resins and other vegetable saps and extracts"
          ],
          [
           "Cereals"
          ],
          [
           "Animal or vegetable fats and oils and their cleavage products; prepared animal fats; animal or vegetable waxes"
          ],
          [
           "Preparations of vegetables, fruit, nuts or other parts of plants"
          ],
          [
           "Oil seeds and oleaginous fruits; miscellaneous grains, seeds and fruit, industrial or medicinal plants; straw and fodder"
          ],
          [
           "Products of the milling industry; malt, starches, inulin, wheat gluten"
          ],
          [
           "Animal or vegetable fats and oils and their cleavage products; prepared animal fats; animal or vegetable waxes"
          ],
          [
           "Preparations of vegetables, fruit, nuts or other parts of plants"
          ],
          [
           "Dairy produce; birds' eggs; natural honey; edible products of animal origin, not elsewhere specified or included"
          ],
          [
           "Products of the milling industry; malt, starches, inulin, wheat gluten"
          ],
          [
           "Fruit and nuts, edible; peel of citrus fruit or melons"
          ],
          [
           "Meat and edible meat offal"
          ],
          [
           "Lac; gums, resins and other vegetable saps and extracts"
          ],
          [
           "Preparations of cereals, flour, starch or milk; pastrycooks' products"
          ],
          [
           "Fruit and nuts, edible; peel of citrus fruit or melons"
          ],
          [
           "Preparations of vegetables, fruit, nuts or other parts of plants"
          ],
          [
           "Preparations of vegetables, fruit, nuts or other parts of plants"
          ],
          [
           "Animals; live"
          ],
          [
           "Animal or vegetable fats and oils and their cleavage products; prepared animal fats; animal or vegetable waxes"
          ],
          [
           "Animal or vegetable fats and oils and their cleavage products; prepared animal fats; animal or vegetable waxes"
          ],
          [
           "Fruit and nuts, edible; peel of citrus fruit or melons"
          ],
          [
           "Preparations of cereals, flour, starch or milk; pastrycooks' products"
          ],
          [
           "Dairy produce; birds' eggs; natural honey; edible products of animal origin, not elsewhere specified or included"
          ],
          [
           "Animal originated products; not elsewhere specified or included"
          ],
          [
           "Lac; gums, resins and other vegetable saps and extracts"
          ],
          [
           "Meat, fish or crustaceans, molluscs or other aquatic invertebrates; preparations thereof"
          ],
          [
           "Dairy produce; birds' eggs; natural honey; edible products of animal origin, not elsewhere specified or included"
          ],
          [
           "Dairy produce; birds' eggs; natural honey; edible products of animal origin, not elsewhere specified or included"
          ],
          [
           "Coffee, tea, mate and spices"
          ],
          [
           "Dairy produce; birds' eggs; natural honey; edible products of animal origin, not elsewhere specified or included"
          ],
          [
           "Sugars and sugar confectionery"
          ],
          [
           "Fruit and nuts, edible; peel of citrus fruit or melons"
          ],
          [
           "Preparations of vegetables, fruit, nuts or other parts of plants"
          ],
          [
           "Coffee, tea, mate and spices"
          ],
          [
           "Fruit and nuts, edible; peel of citrus fruit or melons"
          ],
          [
           "Meat, fish or crustaceans, molluscs or other aquatic invertebrates; preparations thereof"
          ],
          [
           "Oil seeds and oleaginous fruits; miscellaneous grains, seeds and fruit, industrial or medicinal plants; straw and fodder"
          ],
          [
           "Animal or vegetable fats and oils and their cleavage products; prepared animal fats; animal or vegetable waxes"
          ],
          [
           "Preparations of vegetables, fruit, nuts or other parts of plants"
          ],
          [
           "Lac; gums, resins and other vegetable saps and extracts"
          ],
          [
           "Fruit and nuts, edible; peel of citrus fruit or melons"
          ],
          [
           "Fish and crustaceans, molluscs and other aquatic invertebrates"
          ],
          [
           "Fruit and nuts, edible; peel of citrus fruit or melons"
          ],
          [
           "Lac; gums, resins and other vegetable saps and extracts"
          ],
          [
           "Oil seeds and oleaginous fruits; miscellaneous grains, seeds and fruit, industrial or medicinal plants; straw and fodder"
          ],
          [
           "Lac; gums, resins and other vegetable saps and extracts"
          ],
          [
           "Cereals"
          ],
          [
           "Coffee, tea, mate and spices"
          ],
          [
           "Coffee, tea, mate and spices"
          ],
          [
           "Sugars and sugar confectionery"
          ],
          [
           "Products of the milling industry; malt, starches, inulin, wheat gluten"
          ],
          [
           "Preparations of cereals, flour, starch or milk; pastrycooks' products"
          ],
          [
           "Oil seeds and oleaginous fruits; miscellaneous grains, seeds and fruit, industrial or medicinal plants; straw and fodder"
          ],
          [
           "Animals; live"
          ],
          [
           "Meat and edible meat offal"
          ],
          [
           "Sugars and sugar confectionery"
          ],
          [
           "Animal originated products; not elsewhere specified or included"
          ],
          [
           "Vegetables and certain roots and tubers; edible"
          ],
          [
           "Sugars and sugar confectionery"
          ],
          [
           "Dairy produce; birds' eggs; natural honey; edible products of animal origin, not elsewhere specified or included"
          ],
          [
           "Vegetables and certain roots and tubers; edible"
          ],
          [
           "Preparations of cereals, flour, starch or milk; pastrycooks' products"
          ],
          [
           "Oil seeds and oleaginous fruits; miscellaneous grains, seeds and fruit, industrial or medicinal plants; straw and fodder"
          ],
          [
           "Oil seeds and oleaginous fruits; miscellaneous grains, seeds and fruit, industrial or medicinal plants; straw and fodder"
          ],
          [
           "Oil seeds and oleaginous fruits; miscellaneous grains, seeds and fruit, industrial or medicinal plants; straw and fodder"
          ],
          [
           "Oil seeds and oleaginous fruits; miscellaneous grains, seeds and fruit, industrial or medicinal plants; straw and fodder"
          ],
          [
           "Animal or vegetable fats and oils and their cleavage products; prepared animal fats; animal or vegetable waxes"
          ],
          [
           "Cereals"
          ],
          [
           "Oil seeds and oleaginous fruits; miscellaneous grains, seeds and fruit, industrial or medicinal plants; straw and fodder"
          ],
          [
           "Animals; live"
          ],
          [
           "Animal originated products; not elsewhere specified or included"
          ],
          [
           "Dairy produce; birds' eggs; natural honey; edible products of animal origin, not elsewhere specified or included"
          ],
          [
           "Cereals"
          ],
          [
           "Sugars and sugar confectionery"
          ],
          [
           "Cereals"
          ],
          [
           "Coffee, tea, mate and spices"
          ],
          [
           "Vegetables and certain roots and tubers; edible"
          ],
          [
           "Products of the milling industry; malt, starches, inulin, wheat gluten"
          ],
          [
           "Cereals"
          ],
          [
           "Animal originated products; not elsewhere specified or included"
          ],
          [
           "Preparations of cereals, flour, starch or milk; pastrycooks' products"
          ],
          [
           "Vegetables and certain roots and tubers; edible"
          ],
          [
           "Preparations of vegetables, fruit, nuts or other parts of plants"
          ],
          [
           "Coffee, tea, mate and spices"
          ],
          [
           "Oil seeds and oleaginous fruits; miscellaneous grains, seeds and fruit, industrial or medicinal plants; straw and fodder"
          ],
          [
           "Preparations of cereals, flour, starch or milk; pastrycooks' products"
          ],
          [
           "Vegetables and certain roots and tubers; edible"
          ],
          [
           "Animal or vegetable fats and oils and their cleavage products; prepared animal fats; animal or vegetable waxes"
          ],
          [
           "Lac; gums, resins and other vegetable saps and extracts"
          ],
          [
           "Meat and edible meat offal"
          ],
          [
           "Meat and edible meat offal"
          ],
          [
           "Meat and edible meat offal"
          ],
          [
           "Lac; gums, resins and other vegetable saps and extracts"
          ],
          [
           "Fruit and nuts, edible; peel of citrus fruit or melons"
          ],
          [
           "Meat and edible meat offal"
          ],
          [
           "Dairy produce; birds' eggs; natural honey; edible products of animal origin, not elsewhere specified or included"
          ],
          [
           "Animal or vegetable fats and oils and their cleavage products; prepared animal fats; animal or vegetable waxes"
          ],
          [
           "Preparations of vegetables, fruit, nuts or other parts of plants"
          ],
          [
           "Lac; gums, resins and other vegetable saps and extracts"
          ],
          [
           "Fruit and nuts, edible; peel of citrus fruit or melons"
          ],
          [
           "Coffee, tea, mate and spices"
          ],
          [
           "Animal originated products; not elsewhere specified or included"
          ],
          [
           "Dairy produce; birds' eggs; natural honey; edible products of animal origin, not elsewhere specified or included"
          ],
          [
           "Oil seeds and oleaginous fruits; miscellaneous grains, seeds and fruit, industrial or medicinal plants; straw and fodder"
          ],
          [
           "Dairy produce; birds' eggs; natural honey; edible products of animal origin, not elsewhere specified or included"
          ],
          [
           "Vegetables and certain roots and tubers; edible"
          ],
          [
           "Oil seeds and oleaginous fruits; miscellaneous grains, seeds and fruit, industrial or medicinal plants; straw and fodder"
          ],
          [
           "Fruit and nuts, edible; peel of citrus fruit or melons"
          ],
          [
           "Lac; gums, resins and other vegetable saps and extracts"
          ],
          [
           "Fruit and nuts, edible; peel of citrus fruit or melons"
          ],
          [
           "Sugars and sugar confectionery"
          ],
          [
           "Preparations of cereals, flour, starch or milk; pastrycooks' products"
          ],
          [
           "Fruit and nuts, edible; peel of citrus fruit or melons"
          ],
          [
           "Animal or vegetable fats and oils and their cleavage products; prepared animal fats; animal or vegetable waxes"
          ],
          [
           "Preparations of cereals, flour, starch or milk; pastrycooks' products"
          ],
          [
           "Animals; live"
          ],
          [
           "Cereals"
          ],
          [
           "Oil seeds and oleaginous fruits; miscellaneous grains, seeds and fruit, industrial or medicinal plants; straw and fodder"
          ],
          [
           "Lac; gums, resins and other vegetable saps and extracts"
          ],
          [
           "Lac; gums, resins and other vegetable saps and extracts"
          ],
          [
           "Preparations of vegetables, fruit, nuts or other parts of plants"
          ],
          [
           "Dairy produce; birds' eggs; natural honey; edible products of animal origin, not elsewhere specified or included"
          ],
          [
           "Vegetables and certain roots and tubers; edible"
          ],
          [
           "Preparations of cereals, flour, starch or milk; pastrycooks' products"
          ],
          [
           "Animals; live"
          ],
          [
           "Coffee, tea, mate and spices"
          ],
          [
           "Dairy produce; birds' eggs; natural honey; edible products of animal origin, not elsewhere specified or included"
          ],
          [
           "Cereals"
          ],
          [
           "Meat and edible meat offal"
          ],
          [
           "Animals; live"
          ],
          [
           "Dairy produce; birds' eggs; natural honey; edible products of animal origin, not elsewhere specified or included"
          ],
          [
           "Sugars and sugar confectionery"
          ],
          [
           "Vegetables and certain roots and tubers; edible"
          ],
          [
           "Lac; gums, resins and other vegetable saps and extracts"
          ],
          [
           "Fish and crustaceans, molluscs and other aquatic invertebrates"
          ],
          [
           "Meat, fish or crustaceans, molluscs or other aquatic invertebrates; preparations thereof"
          ],
          [
           "Lac; gums, resins and other vegetable saps and extracts"
          ],
          [
           "Animals; live"
          ],
          [
           "Meat, fish or crustaceans, molluscs or other aquatic invertebrates; preparations thereof"
          ],
          [
           "Coffee, tea, mate and spices"
          ],
          [
           "Animals; live"
          ],
          [
           "Animals; live"
          ],
          [
           "Oil seeds and oleaginous fruits; miscellaneous grains, seeds and fruit, industrial or medicinal plants; straw and fodder"
          ],
          [
           "Lac; gums, resins and other vegetable saps and extracts"
          ],
          [
           "Preparations of cereals, flour, starch or milk; pastrycooks' products"
          ],
          [
           "Oil seeds and oleaginous fruits; miscellaneous grains, seeds and fruit, industrial or medicinal plants; straw and fodder"
          ],
          [
           "Sugars and sugar confectionery"
          ],
          [
           "Dairy produce; birds' eggs; natural honey; edible products of animal origin, not elsewhere specified or included"
          ],
          [
           "Preparations of cereals, flour, starch or milk; pastrycooks' products"
          ],
          [
           "Animals; live"
          ],
          [
           "Fruit and nuts, edible; peel of citrus fruit or melons"
          ],
          [
           "Fruit and nuts, edible; peel of citrus fruit or melons"
          ],
          [
           "Animal originated products; not elsewhere specified or included"
          ],
          [
           "Fruit and nuts, edible; peel of citrus fruit or melons"
          ],
          [
           "Vegetables and certain roots and tubers; edible"
          ],
          [
           "Sugars and sugar confectionery"
          ],
          [
           "Coffee, tea, mate and spices"
          ],
          [
           "Vegetables and certain roots and tubers; edible"
          ],
          [
           "Preparations of cereals, flour, starch or milk; pastrycooks' products"
          ],
          [
           "Oil seeds and oleaginous fruits; miscellaneous grains, seeds and fruit, industrial or medicinal plants; straw and fodder"
          ],
          [
           "Coffee, tea, mate and spices"
          ],
          [
           "Dairy produce; birds' eggs; natural honey; edible products of animal origin, not elsewhere specified or included"
          ],
          [
           "Animal or vegetable fats and oils and their cleavage products; prepared animal fats; animal or vegetable waxes"
          ],
          [
           "Sugars and sugar confectionery"
          ],
          [
           "Oil seeds and oleaginous fruits; miscellaneous grains, seeds and fruit, industrial or medicinal plants; straw and fodder"
          ],
          [
           "Oil seeds and oleaginous fruits; miscellaneous grains, seeds and fruit, industrial or medicinal plants; straw and fodder"
          ],
          [
           "Coffee, tea, mate and spices"
          ],
          [
           "Fruit and nuts, edible; peel of citrus fruit or melons"
          ],
          [
           "Fruit and nuts, edible; peel of citrus fruit or melons"
          ],
          [
           "Vegetables and certain roots and tubers; edible"
          ],
          [
           "Coffee, tea, mate and spices"
          ],
          [
           "Oil seeds and oleaginous fruits; miscellaneous grains, seeds and fruit, industrial or medicinal plants; straw and fodder"
          ],
          [
           "Preparations of vegetables, fruit, nuts or other parts of plants"
          ],
          [
           "Fish and crustaceans, molluscs and other aquatic invertebrates"
          ],
          [
           "Oil seeds and oleaginous fruits; miscellaneous grains, seeds and fruit, industrial or medicinal plants; straw and fodder"
          ],
          [
           "Fruit and nuts, edible; peel of citrus fruit or melons"
          ],
          [
           "Lac; gums, resins and other vegetable saps and extracts"
          ],
          [
           "Vegetables and certain roots and tubers; edible"
          ],
          [
           "Products of the milling industry; malt, starches, inulin, wheat gluten"
          ],
          [
           "Oil seeds and oleaginous fruits; miscellaneous grains, seeds and fruit, industrial or medicinal plants; straw and fodder"
          ],
          [
           "Animals; live"
          ],
          [
           "Animal or vegetable fats and oils and their cleavage products; prepared animal fats; animal or vegetable waxes"
          ],
          [
           "Animals; live"
          ],
          [
           "Coffee, tea, mate and spices"
          ],
          [
           "Dairy produce; birds' eggs; natural honey; edible products of animal origin, not elsewhere specified or included"
          ],
          [
           "Preparations of vegetables, fruit, nuts or other parts of plants"
          ],
          [
           "Dairy produce; birds' eggs; natural honey; edible products of animal origin, not elsewhere specified or included"
          ],
          [
           "Animal originated products; not elsewhere specified or included"
          ],
          [
           "Animals; live"
          ],
          [
           "Vegetables and certain roots and tubers; edible"
          ],
          [
           "Coffee, tea, mate and spices"
          ],
          [
           "Sugars and sugar confectionery"
          ],
          [
           "Coffee, tea, mate and spices"
          ],
          [
           "Animal or vegetable fats and oils and their cleavage products; prepared animal fats; animal or vegetable waxes"
          ],
          [
           "Animal originated products; not elsewhere specified or included"
          ],
          [
           "Fish and crustaceans, molluscs and other aquatic invertebrates"
          ],
          [
           "Animal originated products; not elsewhere specified or included"
          ],
          [
           "Coffee, tea, mate and spices"
          ],
          [
           "Animals; live"
          ],
          [
           "Preparations of cereals, flour, starch or milk; pastrycooks' products"
          ],
          [
           "Oil seeds and oleaginous fruits; miscellaneous grains, seeds and fruit, industrial or medicinal plants; straw and fodder"
          ],
          [
           "Vegetables and certain roots and tubers; edible"
          ],
          [
           "Vegetables and certain roots and tubers; edible"
          ],
          [
           "Oil seeds and oleaginous fruits; miscellaneous grains, seeds and fruit, industrial or medicinal plants; straw and fodder"
          ],
          [
           "Lac; gums, resins and other vegetable saps and extracts"
          ],
          [
           "Dairy produce; birds' eggs; natural honey; edible products of animal origin, not elsewhere specified or included"
          ],
          [
           "Fish and crustaceans, molluscs and other aquatic invertebrates"
          ],
          [
           "Dairy produce; birds' eggs; natural honey; edible products of animal origin, not elsewhere specified or included"
          ],
          [
           "Dairy produce; birds' eggs; natural honey; edible products of animal origin, not elsewhere specified or included"
          ],
          [
           "Preparations of cereals, flour, starch or milk; pastrycooks' products"
          ],
          [
           "Vegetables and certain roots and tubers; edible"
          ],
          [
           "Preparations of cereals, flour, starch or milk; pastrycooks' products"
          ],
          [
           "Fruit and nuts, edible; peel of citrus fruit or melons"
          ],
          [
           "Fruit and nuts, edible; peel of citrus fruit or melons"
          ],
          [
           "Animal or vegetable fats and oils and their cleavage products; prepared animal fats; animal or vegetable waxes"
          ],
          [
           "Preparations of cereals, flour, starch or milk; pastrycooks' products"
          ],
          [
           "Oil seeds and oleaginous fruits; miscellaneous grains, seeds and fruit, industrial or medicinal plants; straw and fodder"
          ],
          [
           "Animal originated products; not elsewhere specified or included"
          ],
          [
           "Animal or vegetable fats and oils and their cleavage products; prepared animal fats; animal or vegetable waxes"
          ],
          [
           "Animal or vegetable fats and oils and their cleavage products; prepared animal fats; animal or vegetable waxes"
          ],
          [
           "Coffee, tea, mate and spices"
          ],
          [
           "Preparations of cereals, flour, starch or milk; pastrycooks' products"
          ],
          [
           "Preparations of vegetables, fruit, nuts or other parts of plants"
          ],
          [
           "Animals; live"
          ],
          [
           "Products of the milling industry; malt, starches, inulin, wheat gluten"
          ],
          [
           "Preparations of cereals, flour, starch or milk; pastrycooks' products"
          ],
          [
           "Meat and edible meat offal"
          ],
          [
           "Preparations of vegetables, fruit, nuts or other parts of plants"
          ],
          [
           "Lac; gums, resins and other vegetable saps and extracts"
          ],
          [
           "Animal or vegetable fats and oils and their cleavage products; prepared animal fats; animal or vegetable waxes"
          ],
          [
           "Cereals"
          ],
          [
           "Preparations of cereals, flour, starch or milk; pastrycooks' products"
          ],
          [
           "Animals; live"
          ],
          [
           "Lac; gums, resins and other vegetable saps and extracts"
          ],
          [
           "Fruit and nuts, edible; peel of citrus fruit or melons"
          ],
          [
           "Cereals"
          ],
          [
           "Coffee, tea, mate and spices"
          ],
          [
           "Lac; gums, resins and other vegetable saps and extracts"
          ],
          [
           "Preparations of cereals, flour, starch or milk; pastrycooks' products"
          ],
          [
           "Sugars and sugar confectionery"
          ],
          [
           "Sugars and sugar confectionery"
          ],
          [
           "Sugars and sugar confectionery"
          ],
          [
           "Preparations of vegetables, fruit, nuts or other parts of plants"
          ],
          [
           "Oil seeds and oleaginous fruits; miscellaneous grains, seeds and fruit, industrial or medicinal plants; straw and fodder"
          ],
          [
           "Cereals"
          ],
          [
           "Animals; live"
          ],
          [
           "Animal originated products; not elsewhere specified or included"
          ],
          [
           "Animal or vegetable fats and oils and their cleavage products; prepared animal fats; animal or vegetable waxes"
          ],
          [
           "Animal or vegetable fats and oils and their cleavage products; prepared animal fats; animal or vegetable waxes"
          ],
          [
           "Products of the milling industry; malt, starches, inulin, wheat gluten"
          ],
          [
           "Oil seeds and oleaginous fruits; miscellaneous grains, seeds and fruit, industrial or medicinal plants; straw and fodder"
          ],
          [
           "Sugars and sugar confectionery"
          ],
          [
           "Vegetables and certain roots and tubers; edible"
          ],
          [
           "Lac; gums, resins and other vegetable saps and extracts"
          ],
          [
           "Oil seeds and oleaginous fruits; miscellaneous grains, seeds and fruit, industrial or medicinal plants; straw and fodder"
          ],
          [
           "Animal or vegetable fats and oils and their cleavage products; prepared animal fats; animal or vegetable waxes"
          ],
          [
           "Animals; live"
          ],
          [
           "Fruit and nuts, edible; peel of citrus fruit or melons"
          ],
          [
           "Animal or vegetable fats and oils and their cleavage products; prepared animal fats; animal or vegetable waxes"
          ],
          [
           "Sugars and sugar confectionery"
          ],
          [
           "Coffee, tea, mate and spices"
          ],
          [
           "Meat and edible meat offal"
          ],
          [
           "Oil seeds and oleaginous fruits; miscellaneous grains, seeds and fruit, industrial or medicinal plants; straw and fodder"
          ],
          [
           "Animals; live"
          ],
          [
           "Products of the milling industry; malt, starches, inulin, wheat gluten"
          ],
          [
           "Animal or vegetable fats and oils and their cleavage products; prepared animal fats; animal or vegetable waxes"
          ],
          [
           "Fish and crustaceans, molluscs and other aquatic invertebrates"
          ],
          [
           "Oil seeds and oleaginous fruits; miscellaneous grains, seeds and fruit, industrial or medicinal plants; straw and fodder"
          ],
          [
           "Coffee, tea, mate and spices"
          ],
          [
           "Vegetables and certain roots and tubers; edible"
          ],
          [
           "Coffee, tea, mate and spices"
          ],
          [
           "Animal or vegetable fats and oils and their cleavage products; prepared animal fats; animal or vegetable waxes"
          ],
          [
           "Products of the milling industry; malt, starches, inulin, wheat gluten"
          ],
          [
           "Cereals"
          ],
          [
           "Lac; gums, resins and other vegetable saps and extracts"
          ],
          [
           "Animal originated products; not elsewhere specified or included"
          ],
          [
           "Vegetables and certain roots and tubers; edible"
          ],
          [
           "Animal or vegetable fats and oils and their cleavage products; prepared animal fats; animal or vegetable waxes"
          ],
          [
           "Sugars and sugar confectionery"
          ],
          [
           "Fruit and nuts, edible; peel of citrus fruit or melons"
          ],
          [
           "Cereals"
          ],
          [
           "Coffee, tea, mate and spices"
          ],
          [
           "Vegetables and certain roots and tubers; edible"
          ],
          [
           "Animal or vegetable fats and oils and their cleavage products; prepared animal fats; animal or vegetable waxes"
          ],
          [
           "Fruit and nuts, edible; peel of citrus fruit or melons"
          ],
          [
           "Cereals"
          ],
          [
           "Coffee, tea, mate and spices"
          ],
          [
           "Preparations of vegetables, fruit, nuts or other parts of plants"
          ],
          [
           "Oil seeds and oleaginous fruits; miscellaneous grains, seeds and fruit, industrial or medicinal plants; straw and fodder"
          ],
          [
           "Vegetables and certain roots and tubers; edible"
          ],
          [
           "Animal or vegetable fats and oils and their cleavage products; prepared animal fats; animal or vegetable waxes"
          ],
          [
           "Meat and edible meat offal"
          ],
          [
           "Sugars and sugar confectionery"
          ],
          [
           "Meat, fish or crustaceans, molluscs or other aquatic invertebrates; preparations thereof"
          ],
          [
           "Coffee, tea, mate and spices"
          ],
          [
           "Dairy produce; birds' eggs; natural honey; edible products of animal origin, not elsewhere specified or included"
          ],
          [
           "Meat and edible meat offal"
          ],
          [
           "Preparations of vegetables, fruit, nuts or other parts of plants"
          ],
          [
           "Fruit and nuts, edible; peel of citrus fruit or melons"
          ],
          [
           "Dairy produce; birds' eggs; natural honey; edible products of animal origin, not elsewhere specified or included"
          ],
          [
           "Fruit and nuts, edible; peel of citrus fruit or melons"
          ],
          [
           "Coffee, tea, mate and spices"
          ],
          [
           "Oil seeds and oleaginous fruits; miscellaneous grains, seeds and fruit, industrial or medicinal plants; straw and fodder"
          ],
          [
           "Fruit and nuts, edible; peel of citrus fruit or melons"
          ],
          [
           "Animal originated products; not elsewhere specified or included"
          ],
          [
           "Sugars and sugar confectionery"
          ],
          [
           "Animal or vegetable fats and oils and their cleavage products; prepared animal fats; animal or vegetable waxes"
          ],
          [
           "Vegetables and certain roots and tubers; edible"
          ],
          [
           "Animals; live"
          ],
          [
           "Animal originated products; not elsewhere specified or included"
          ],
          [
           "Fruit and nuts, edible; peel of citrus fruit or melons"
          ],
          [
           "Meat, fish or crustaceans, molluscs or other aquatic invertebrates; preparations thereof"
          ],
          [
           "Animal originated products; not elsewhere specified or included"
          ],
          [
           "Lac; gums, resins and other vegetable saps and extracts"
          ],
          [
           "Preparations of vegetables, fruit, nuts or other parts of plants"
          ],
          [
           "Cereals"
          ],
          [
           "Cereals"
          ],
          [
           "Sugars and sugar confectionery"
          ],
          [
           "Preparations of cereals, flour, starch or milk; pastrycooks' products"
          ],
          [
           "Lac; gums, resins and other vegetable saps and extracts"
          ],
          [
           "Products of the milling industry; malt, starches, inulin, wheat gluten"
          ],
          [
           "Fruit and nuts, edible; peel of citrus fruit or melons"
          ],
          [
           "Fish and crustaceans, molluscs and other aquatic invertebrates"
          ],
          [
           "Oil seeds and oleaginous fruits; miscellaneous grains, seeds and fruit, industrial or medicinal plants; straw and fodder"
          ],
          [
           "Vegetables and certain roots and tubers; edible"
          ],
          [
           "Lac; gums, resins and other vegetable saps and extracts"
          ],
          [
           "Preparations of cereals, flour, starch or milk; pastrycooks' products"
          ],
          [
           "Animal or vegetable fats and oils and their cleavage products; prepared animal fats; animal or vegetable waxes"
          ],
          [
           "Oil seeds and oleaginous fruits; miscellaneous grains, seeds and fruit, industrial or medicinal plants; straw and fodder"
          ],
          [
           "Vegetables and certain roots and tubers; edible"
          ],
          [
           "Preparations of cereals, flour, starch or milk; pastrycooks' products"
          ],
          [
           "Animal or vegetable fats and oils and their cleavage products; prepared animal fats; animal or vegetable waxes"
          ],
          [
           "Animal or vegetable fats and oils and their cleavage products; prepared animal fats; animal or vegetable waxes"
          ],
          [
           "Animal originated products; not elsewhere specified or included"
          ],
          [
           "Animals; live"
          ],
          [
           "Cereals"
          ],
          [
           "Coffee, tea, mate and spices"
          ],
          [
           "Dairy produce; birds' eggs; natural honey; edible products of animal origin, not elsewhere specified or included"
          ],
          [
           "Fish and crustaceans, molluscs and other aquatic invertebrates"
          ],
          [
           "Fruit and nuts, edible; peel of citrus fruit or melons"
          ],
          [
           "Lac; gums, resins and other vegetable saps and extracts"
          ],
          [
           "Meat and edible meat offal"
          ],
          [
           "Meat, fish or crustaceans, molluscs or other aquatic invertebrates; preparations thereof"
          ],
          [
           "Oil seeds and oleaginous fruits; miscellaneous grains, seeds and fruit, industrial or medicinal plants; straw and fodder"
          ],
          [
           "Preparations of cereals, flour, starch or milk; pastrycooks' products"
          ],
          [
           "Preparations of vegetables, fruit, nuts or other parts of plants"
          ],
          [
           "Products of the milling industry; malt, starches, inulin, wheat gluten"
          ],
          [
           "Sugars and sugar confectionery"
          ],
          [
           "Vegetables and certain roots and tubers; edible"
          ],
          [
           "(?)"
          ]
         ],
         "domain": {
          "x": [
           0,
           1
          ],
          "y": [
           0,
           1
          ]
         },
         "hovertemplate": "labels=%{label}<br>TradeValue=%{value}<br>parent=%{parent}<br>id=%{id}<br>cmdDescE=%{customdata[0]}<extra></extra>",
         "ids": [
          "all/Preparations of cereals, flour, starch or milk; pastrycooks' products/Uzbekistan",
          "all/Coffee, tea, mate and spices/Papua New Guinea",
          "all/Dairy produce; birds' eggs; natural honey; edible products of animal origin, not elsewhere specified or included/Norway",
          "all/Preparations of cereals, flour, starch or milk; pastrycooks' products/Philippines",
          "all/Dairy produce; birds' eggs; natural honey; edible products of animal origin, not elsewhere specified or included/Portugal",
          "all/Animal or vegetable fats and oils and their cleavage products; prepared animal fats; animal or vegetable waxes/Netherlands",
          "all/Coffee, tea, mate and spices/Mexico",
          "all/Coffee, tea, mate and spices/Egypt",
          "all/Animals; live/Guyana",
          "all/Preparations of vegetables, fruit, nuts or other parts of plants/Saudi Arabia",
          "all/Meat, fish or crustaceans, molluscs or other aquatic invertebrates; preparations thereof/Egypt",
          "all/Animal or vegetable fats and oils and their cleavage products; prepared animal fats; animal or vegetable waxes/Eswatini",
          "all/Coffee, tea, mate and spices/Bahrain",
          "all/Coffee, tea, mate and spices/Viet Nam",
          "all/Preparations of cereals, flour, starch or milk; pastrycooks' products/Germany",
          "all/Oil seeds and oleaginous fruits; miscellaneous grains, seeds and fruit, industrial or medicinal plants; straw and fodder/Germany",
          "all/Lac; gums, resins and other vegetable saps and extracts/Eswatini",
          "all/Products of the milling industry; malt, starches, inulin, wheat gluten/Malaysia",
          "all/Animal or vegetable fats and oils and their cleavage products; prepared animal fats; animal or vegetable waxes/Switzerland",
          "all/Animal or vegetable fats and oils and their cleavage products; prepared animal fats; animal or vegetable waxes/Sri Lanka",
          "all/Sugars and sugar confectionery/Turkey",
          "all/Fruit and nuts, edible; peel of citrus fruit or melons/United Kingdom",
          "all/Coffee, tea, mate and spices/Brazil",
          "all/Vegetables and certain roots and tubers; edible/Turkey",
          "all/Cereals/Russian Federation",
          "all/Vegetables and certain roots and tubers; edible/Italy",
          "all/Oil seeds and oleaginous fruits; miscellaneous grains, seeds and fruit, industrial or medicinal plants; straw and fodder/Belgium",
          "all/Cereals/Bulgaria",
          "all/Fruit and nuts, edible; peel of citrus fruit or melons/Chile",
          "all/Sugars and sugar confectionery/Oman",
          "all/Animal or vegetable fats and oils and their cleavage products; prepared animal fats; animal or vegetable waxes/Australia",
          "all/Vegetables and certain roots and tubers; edible/Sudan",
          "all/Animal or vegetable fats and oils and their cleavage products; prepared animal fats; animal or vegetable waxes/Morocco",
          "all/Sugars and sugar confectionery/Saudi Arabia",
          "all/Preparations of cereals, flour, starch or milk; pastrycooks' products/Other Europe, nes",
          "all/Dairy produce; birds' eggs; natural honey; edible products of animal origin, not elsewhere specified or included/Czechia",
          "all/Fish and crustaceans, molluscs and other aquatic invertebrates/United Arab Emirates",
          "all/Oil seeds and oleaginous fruits; miscellaneous grains, seeds and fruit, industrial or medicinal plants; straw and fodder/Kenya",
          "all/Sugars and sugar confectionery/Indonesia",
          "all/Oil seeds and oleaginous fruits; miscellaneous grains, seeds and fruit, industrial or medicinal plants; straw and fodder/Thailand",
          "all/Preparations of vegetables, fruit, nuts or other parts of plants/Sri Lanka",
          "all/Animals; live/Kuwait",
          "all/Preparations of cereals, flour, starch or milk; pastrycooks' products/Portugal",
          "all/Preparations of cereals, flour, starch or milk; pastrycooks' products/Singapore",
          "all/Preparations of cereals, flour, starch or milk; pastrycooks' products/Ireland",
          "all/Cereals/China",
          "all/Products of the milling industry; malt, starches, inulin, wheat gluten/Netherlands",
          "all/Vegetables and certain roots and tubers; edible/Argentina",
          "all/Animal or vegetable fats and oils and their cleavage products; prepared animal fats; animal or vegetable waxes/Turkey",
          "all/Oil seeds and oleaginous fruits; miscellaneous grains, seeds and fruit, industrial or medicinal plants; straw and fodder/Myanmar",
          "all/Animals; live/Lebanon",
          "all/Animals; live/Jordan",
          "all/Animal or vegetable fats and oils and their cleavage products; prepared animal fats; animal or vegetable waxes/Indonesia",
          "all/Sugars and sugar confectionery/Other Europe, nes",
          "all/Oil seeds and oleaginous fruits; miscellaneous grains, seeds and fruit, industrial or medicinal plants; straw and fodder/Namibia",
          "all/Oil seeds and oleaginous fruits; miscellaneous grains, seeds and fruit, industrial or medicinal plants; straw and fodder/Bolivia (Plurinational State of)",
          "all/Cereals/France",
          "all/Sugars and sugar confectionery/Denmark",
          "all/Oil seeds and oleaginous fruits; miscellaneous grains, seeds and fruit, industrial or medicinal plants; straw and fodder/Jordan",
          "all/Cereals/Other Europe, nes",
          "all/Oil seeds and oleaginous fruits; miscellaneous grains, seeds and fruit, industrial or medicinal plants; straw and fodder/USA",
          "all/Lac; gums, resins and other vegetable saps and extracts/Denmark",
          "all/Meat, fish or crustaceans, molluscs or other aquatic invertebrates; preparations thereof/Iran",
          "all/Sugars and sugar confectionery/Canada",
          "all/Fruit and nuts, edible; peel of citrus fruit or melons/Ecuador",
          "all/Products of the milling industry; malt, starches, inulin, wheat gluten/USA",
          "all/Fish and crustaceans, molluscs and other aquatic invertebrates/Egypt",
          "all/Animal originated products; not elsewhere specified or included/Kenya",
          "all/Preparations of cereals, flour, starch or milk; pastrycooks' products/Iran",
          "all/Coffee, tea, mate and spices/Colombia",
          "all/Animal or vegetable fats and oils and their cleavage products; prepared animal fats; animal or vegetable waxes/India",
          "all/Preparations of cereals, flour, starch or milk; pastrycooks' products/Italy",
          "all/Animal originated products; not elsewhere specified or included/Austria",
          "all/Fruit and nuts, edible; peel of citrus fruit or melons/Viet Nam",
          "all/Preparations of vegetables, fruit, nuts or other parts of plants/New Zealand",
          "all/Preparations of vegetables, fruit, nuts or other parts of plants/Afghanistan",
          "all/Preparations of cereals, flour, starch or milk; pastrycooks' products/Spain",
          "all/Animal originated products; not elsewhere specified or included/Italy",
          "all/Preparations of cereals, flour, starch or milk; pastrycooks' products/Belarus",
          "all/Vegetables and certain roots and tubers; edible/France",
          "all/Oil seeds and oleaginous fruits; miscellaneous grains, seeds and fruit, industrial or medicinal plants; straw and fodder/Australia",
          "all/Products of the milling industry; malt, starches, inulin, wheat gluten/United Kingdom",
          "all/Fish and crustaceans, molluscs and other aquatic invertebrates/Iran",
          "all/Animal originated products; not elsewhere specified or included/Uruguay",
          "all/Preparations of vegetables, fruit, nuts or other parts of plants/Spain",
          "all/Vegetables and certain roots and tubers; edible/Denmark",
          "all/Fruit and nuts, edible; peel of citrus fruit or melons/Argentina",
          "all/Preparations of vegetables, fruit, nuts or other parts of plants/Portugal",
          "all/Animal or vegetable fats and oils and their cleavage products; prepared animal fats; animal or vegetable waxes/Dominican Rep.",
          "all/Meat, fish or crustaceans, molluscs or other aquatic invertebrates; preparations thereof/United Arab Emirates",
          "all/Animals; live/Saudi Arabia",
          "all/Animal or vegetable fats and oils and their cleavage products; prepared animal fats; animal or vegetable waxes/Lebanon",
          "all/Sugars and sugar confectionery/Rep. of Korea",
          "all/Vegetables and certain roots and tubers; edible/Afghanistan",
          "all/Sugars and sugar confectionery/Slovenia",
          "all/Oil seeds and oleaginous fruits; miscellaneous grains, seeds and fruit, industrial or medicinal plants; straw and fodder/Montenegro",
          "all/Coffee, tea, mate and spices/Kenya",
          "all/Products of the milling industry; malt, starches, inulin, wheat gluten/Iran",
          "all/Coffee, tea, mate and spices/Niger",
          "all/Preparations of vegetables, fruit, nuts or other parts of plants/China, Hong Kong SAR",
          "all/Animal originated products; not elsewhere specified or included/China",
          "all/Oil seeds and oleaginous fruits; miscellaneous grains, seeds and fruit, industrial or medicinal plants; straw and fodder/Latvia",
          "all/Oil seeds and oleaginous fruits; miscellaneous grains, seeds and fruit, industrial or medicinal plants; straw and fodder/Hungary",
          "all/Meat and edible meat offal/Malaysia",
          "all/Preparations of vegetables, fruit, nuts or other parts of plants/Brazil",
          "all/Sugars and sugar confectionery/Brazil",
          "all/Products of the milling industry; malt, starches, inulin, wheat gluten/Italy",
          "all/Lac; gums, resins and other vegetable saps and extracts/Nepal",
          "all/Products of the milling industry; malt, starches, inulin, wheat gluten/France",
          "all/Preparations of vegetables, fruit, nuts or other parts of plants/Bahrain",
          "all/Oil seeds and oleaginous fruits; miscellaneous grains, seeds and fruit, industrial or medicinal plants; straw and fodder/Japan",
          "all/Lac; gums, resins and other vegetable saps and extracts/France",
          "all/Animals; live/Philippines",
          "all/Animals; live/Other Europe, nes",
          "all/Animal or vegetable fats and oils and their cleavage products; prepared animal fats; animal or vegetable waxes/United Kingdom",
          "all/Meat and edible meat offal/Uruguay",
          "all/Preparations of cereals, flour, starch or milk; pastrycooks' products/Greece",
          "all/Oil seeds and oleaginous fruits; miscellaneous grains, seeds and fruit, industrial or medicinal plants; straw and fodder/Sri Lanka",
          "all/Preparations of vegetables, fruit, nuts or other parts of plants/Greece",
          "all/Preparations of cereals, flour, starch or milk; pastrycooks' products/New Zealand",
          "all/Meat and edible meat offal/Turkey",
          "all/Products of the milling industry; malt, starches, inulin, wheat gluten/Belarus",
          "all/Meat, fish or crustaceans, molluscs or other aquatic invertebrates; preparations thereof/Thailand",
          "all/Animal originated products; not elsewhere specified or included/Iran",
          "all/Oil seeds and oleaginous fruits; miscellaneous grains, seeds and fruit, industrial or medicinal plants; straw and fodder/Ukraine",
          "all/Sugars and sugar confectionery/USA",
          "all/Animal originated products; not elsewhere specified or included/USA",
          "all/Dairy produce; birds' eggs; natural honey; edible products of animal origin, not elsewhere specified or included/Germany",
          "all/Preparations of vegetables, fruit, nuts or other parts of plants/Oman",
          "all/Preparations of cereals, flour, starch or milk; pastrycooks' products/Czechia",
          "all/Animals; live/Ireland",
          "all/Animal originated products; not elsewhere specified or included/Turkey",
          "all/Products of the milling industry; malt, starches, inulin, wheat gluten/India",
          "all/Fruit and nuts, edible; peel of citrus fruit or melons/Heard Island and McDonald Islands",
          "all/Animal originated products; not elsewhere specified or included/Japan",
          "all/Coffee, tea, mate and spices/Ethiopia",
          "all/Meat, fish or crustaceans, molluscs or other aquatic invertebrates; preparations thereof/China",
          "all/Coffee, tea, mate and spices/Bulgaria",
          "all/Fruit and nuts, edible; peel of citrus fruit or melons/Uzbekistan",
          "all/Cereals/Romania",
          "all/Cereals/Australia",
          "all/Preparations of cereals, flour, starch or milk; pastrycooks' products/Argentina",
          "all/Cereals/Brazil",
          "all/Animals; live/Qatar",
          "all/Animal or vegetable fats and oils and their cleavage products; prepared animal fats; animal or vegetable waxes/Rep. of Korea",
          "all/Preparations of vegetables, fruit, nuts or other parts of plants/Viet Nam",
          "all/Animal or vegetable fats and oils and their cleavage products; prepared animal fats; animal or vegetable waxes/Paraguay",
          "all/Lac; gums, resins and other vegetable saps and extracts/Chile",
          "all/Cereals/Lebanon",
          "all/Cereals/Mexico",
          "all/Animal or vegetable fats and oils and their cleavage products; prepared animal fats; animal or vegetable waxes/Spain",
          "all/Lac; gums, resins and other vegetable saps and extracts/Kenya",
          "all/Coffee, tea, mate and spices/Afghanistan",
          "all/Animal or vegetable fats and oils and their cleavage products; prepared animal fats; animal or vegetable waxes/Malaysia",
          "all/Sugars and sugar confectionery/Jordan",
          "all/Animals; live/Malaysia",
          "all/Oil seeds and oleaginous fruits; miscellaneous grains, seeds and fruit, industrial or medicinal plants; straw and fodder/Belize",
          "all/Products of the milling industry; malt, starches, inulin, wheat gluten/Belgium",
          "all/Animals; live/Argentina",
          "all/Preparations of vegetables, fruit, nuts or other parts of plants/France",
          "all/Coffee, tea, mate and spices/Syria",
          "all/Lac; gums, resins and other vegetable saps and extracts/Other Europe, nes",
          "all/Coffee, tea, mate and spices/United Rep. of Tanzania",
          "all/Meat and edible meat offal/Zambia",
          "all/Lac; gums, resins and other vegetable saps and extracts/United Rep. of Tanzania",
          "all/Oil seeds and oleaginous fruits; miscellaneous grains, seeds and fruit, industrial or medicinal plants; straw and fodder/Denmark",
          "all/Preparations of cereals, flour, starch or milk; pastrycooks' products/China, Hong Kong SAR",
          "all/Coffee, tea, mate and spices/Bangladesh",
          "all/Oil seeds and oleaginous fruits; miscellaneous grains, seeds and fruit, industrial or medicinal plants; straw and fodder/Italy",
          "all/Sugars and sugar confectionery/Bahrain",
          "all/Preparations of cereals, flour, starch or milk; pastrycooks' products/India",
          "all/Preparations of vegetables, fruit, nuts or other parts of plants/Germany",
          "all/Oil seeds and oleaginous fruits; miscellaneous grains, seeds and fruit, industrial or medicinal plants; straw and fodder/Netherlands",
          "all/Animal or vegetable fats and oils and their cleavage products; prepared animal fats; animal or vegetable waxes/Oman",
          "all/Oil seeds and oleaginous fruits; miscellaneous grains, seeds and fruit, industrial or medicinal plants; straw and fodder/Rep. of Korea",
          "all/Lac; gums, resins and other vegetable saps and extracts/Greece",
          "all/Preparations of vegetables, fruit, nuts or other parts of plants/Australia",
          "all/Meat and edible meat offal/Norway",
          "all/Dairy produce; birds' eggs; natural honey; edible products of animal origin, not elsewhere specified or included/Italy",
          "all/Dairy produce; birds' eggs; natural honey; edible products of animal origin, not elsewhere specified or included/Uganda",
          "all/Products of the milling industry; malt, starches, inulin, wheat gluten/Turkey",
          "all/Dairy produce; birds' eggs; natural honey; edible products of animal origin, not elsewhere specified or included/Saudi Arabia",
          "all/Coffee, tea, mate and spices/Japan",
          "all/Preparations of cereals, flour, starch or milk; pastrycooks' products/Denmark",
          "all/Preparations of vegetables, fruit, nuts or other parts of plants/Chile",
          "all/Vegetables and certain roots and tubers; edible/Other Europe, nes",
          "all/Lac; gums, resins and other vegetable saps and extracts/Rep. of Korea",
          "all/Preparations of vegetables, fruit, nuts or other parts of plants/United Arab Emirates",
          "all/Fruit and nuts, edible; peel of citrus fruit or melons/Afghanistan",
          "all/Products of the milling industry; malt, starches, inulin, wheat gluten/United Arab Emirates",
          "all/Cereals/Iran",
          "all/Fruit and nuts, edible; peel of citrus fruit or melons/Mozambique",
          "all/Preparations of cereals, flour, starch or milk; pastrycooks' products/Canada",
          "all/Cereals/Rep. of Korea",
          "all/Vegetables and certain roots and tubers; edible/Mexico",
          "all/Oil seeds and oleaginous fruits; miscellaneous grains, seeds and fruit, industrial or medicinal plants; straw and fodder/Serbia",
          "all/Lac; gums, resins and other vegetable saps and extracts/Spain",
          "all/Dairy produce; birds' eggs; natural honey; edible products of animal origin, not elsewhere specified or included/USA",
          "all/Animals; live/Bulgaria",
          "all/Coffee, tea, mate and spices/Montenegro",
          "all/Vegetables and certain roots and tubers; edible/Madagascar",
          "all/Cereals/South Africa",
          "all/Products of the milling industry; malt, starches, inulin, wheat gluten/Egypt",
          "all/Animal or vegetable fats and oils and their cleavage products; prepared animal fats; animal or vegetable waxes/Other Europe, nes",
          "all/Animal or vegetable fats and oils and their cleavage products; prepared animal fats; animal or vegetable waxes/Canada",
          "all/Preparations of cereals, flour, starch or milk; pastrycooks' products/Equatorial Guinea",
          "all/Preparations of vegetables, fruit, nuts or other parts of plants/Switzerland",
          "all/Oil seeds and oleaginous fruits; miscellaneous grains, seeds and fruit, industrial or medicinal plants; straw and fodder/Bulgaria",
          "all/Meat and edible meat offal/Iran",
          "all/Dairy produce; birds' eggs; natural honey; edible products of animal origin, not elsewhere specified or included/Hungary",
          "all/Fish and crustaceans, molluscs and other aquatic invertebrates/Viet Nam",
          "all/Fruit and nuts, edible; peel of citrus fruit or melons/Australia",
          "all/Sugars and sugar confectionery/Afghanistan",
          "all/Preparations of vegetables, fruit, nuts or other parts of plants/Iran",
          "all/Coffee, tea, mate and spices/Nigeria",
          "all/Coffee, tea, mate and spices/Thailand",
          "all/Vegetables and certain roots and tubers; edible/Rep. of Moldova",
          "all/Animal or vegetable fats and oils and their cleavage products; prepared animal fats; animal or vegetable waxes/Italy",
          "all/Fish and crustaceans, molluscs and other aquatic invertebrates/Other Europe, nes",
          "all/Products of the milling industry; malt, starches, inulin, wheat gluten/Spain",
          "all/Animal originated products; not elsewhere specified or included/Colombia",
          "all/Dairy produce; birds' eggs; natural honey; edible products of animal origin, not elsewhere specified or included/Ukraine",
          "all/Meat and edible meat offal/United Arab Emirates",
          "all/Animals; live/Suriname",
          "all/Animal or vegetable fats and oils and their cleavage products; prepared animal fats; animal or vegetable waxes/China",
          "all/Coffee, tea, mate and spices/Ecuador",
          "all/Coffee, tea, mate and spices/Uganda",
          "all/Preparations of vegetables, fruit, nuts or other parts of plants/Canada",
          "all/Preparations of vegetables, fruit, nuts or other parts of plants/USA",
          "all/Oil seeds and oleaginous fruits; miscellaneous grains, seeds and fruit, industrial or medicinal plants; straw and fodder/Sweden",
          "all/Preparations of cereals, flour, starch or milk; pastrycooks' products/Lithuania",
          "all/Animal originated products; not elsewhere specified or included/Canada",
          "all/Lac; gums, resins and other vegetable saps and extracts/Egypt",
          "all/Lac; gums, resins and other vegetable saps and extracts/Austria",
          "all/Oil seeds and oleaginous fruits; miscellaneous grains, seeds and fruit, industrial or medicinal plants; straw and fodder/Nepal",
          "all/Animal or vegetable fats and oils and their cleavage products; prepared animal fats; animal or vegetable waxes/Philippines",
          "all/Animals; live/United Kingdom",
          "all/Dairy produce; birds' eggs; natural honey; edible products of animal origin, not elsewhere specified or included/France",
          "all/Lac; gums, resins and other vegetable saps and extracts/Malaysia",
          "all/Preparations of cereals, flour, starch or milk; pastrycooks' products/Poland",
          "all/Animal or vegetable fats and oils and their cleavage products; prepared animal fats; animal or vegetable waxes/Belgium",
          "all/Preparations of vegetables, fruit, nuts or other parts of plants/Italy",
          "all/Sugars and sugar confectionery/Poland",
          "all/Dairy produce; birds' eggs; natural honey; edible products of animal origin, not elsewhere specified or included/Bahrain",
          "all/Oil seeds and oleaginous fruits; miscellaneous grains, seeds and fruit, industrial or medicinal plants; straw and fodder/New Zealand",
          "all/Dairy produce; birds' eggs; natural honey; edible products of animal origin, not elsewhere specified or included/Uruguay",
          "all/Lac; gums, resins and other vegetable saps and extracts/Turkey",
          "all/Animal originated products; not elsewhere specified or included/Other Europe, nes",
          "all/Sugars and sugar confectionery/France",
          "all/Vegetables and certain roots and tubers; edible/Malaysia",
          "all/Animal originated products; not elsewhere specified or included/Indonesia",
          "all/Dairy produce; birds' eggs; natural honey; edible products of animal origin, not elsewhere specified or included/United Arab Emirates",
          "all/Animal originated products; not elsewhere specified or included/Denmark",
          "all/Oil seeds and oleaginous fruits; miscellaneous grains, seeds and fruit, industrial or medicinal plants; straw and fodder/Other Europe, nes",
          "all/Dairy produce; birds' eggs; natural honey; edible products of animal origin, not elsewhere specified or included/China",
          "all/Animals; live/Other Asia, nes",
          "all/Oil seeds and oleaginous fruits; miscellaneous grains, seeds and fruit, industrial or medicinal plants; straw and fodder/Uzbekistan",
          "all/Fruit and nuts, edible; peel of citrus fruit or melons/Singapore",
          "all/Vegetables and certain roots and tubers; edible/Thailand",
          "all/Animal originated products; not elsewhere specified or included/Czechia",
          "all/Oil seeds and oleaginous fruits; miscellaneous grains, seeds and fruit, industrial or medicinal plants; straw and fodder/Indonesia",
          "all/Preparations of vegetables, fruit, nuts or other parts of plants/Thailand",
          "all/Lac; gums, resins and other vegetable saps and extracts/Afghanistan",
          "all/Products of the milling industry; malt, starches, inulin, wheat gluten/Jordan",
          "all/Animal or vegetable fats and oils and their cleavage products; prepared animal fats; animal or vegetable waxes/China, Hong Kong SAR",
          "all/Coffee, tea, mate and spices/Myanmar",
          "all/Products of the milling industry; malt, starches, inulin, wheat gluten/China",
          "all/Oil seeds and oleaginous fruits; miscellaneous grains, seeds and fruit, industrial or medicinal plants; straw and fodder/Iran",
          "all/Animals; live/Spain",
          "all/Products of the milling industry; malt, starches, inulin, wheat gluten/Other Europe, nes",
          "all/Dairy produce; birds' eggs; natural honey; edible products of animal origin, not elsewhere specified or included/Spain",
          "all/Products of the milling industry; malt, starches, inulin, wheat gluten/Chile",
          "all/Preparations of cereals, flour, starch or milk; pastrycooks' products/United Arab Emirates",
          "all/Sugars and sugar confectionery/United Arab Emirates",
          "all/Fruit and nuts, edible; peel of citrus fruit or melons/Peru",
          "all/Preparations of cereals, flour, starch or milk; pastrycooks' products/Viet Nam",
          "all/Oil seeds and oleaginous fruits; miscellaneous grains, seeds and fruit, industrial or medicinal plants; straw and fodder/Peru",
          "all/Vegetables and certain roots and tubers; edible/Bulgaria",
          "all/Coffee, tea, mate and spices/Malawi",
          "all/Vegetables and certain roots and tubers; edible/Uganda",
          "all/Coffee, tea, mate and spices/Nepal",
          "all/Coffee, tea, mate and spices/Bhutan",
          "all/Animals; live/Belgium",
          "all/Oil seeds and oleaginous fruits; miscellaneous grains, seeds and fruit, industrial or medicinal plants; straw and fodder/United Rep. of Tanzania",
          "all/Oil seeds and oleaginous fruits; miscellaneous grains, seeds and fruit, industrial or medicinal plants; straw and fodder/Albania",
          "all/Vegetables and certain roots and tubers; edible/Australia",
          "all/Animal or vegetable fats and oils and their cleavage products; prepared animal fats; animal or vegetable waxes/Argentina",
          "all/Vegetables and certain roots and tubers; edible/Antigua and Barbuda",
          "all/Preparations of vegetables, fruit, nuts or other parts of plants/Mexico",
          "all/Coffee, tea, mate and spices/Malaysia",
          "all/Fruit and nuts, edible; peel of citrus fruit or melons/Spain",
          "all/Dairy produce; birds' eggs; natural honey; edible products of animal origin, not elsewhere specified or included/Japan",
          "all/Coffee, tea, mate and spices/Sierra Leone",
          "all/Oil seeds and oleaginous fruits; miscellaneous grains, seeds and fruit, industrial or medicinal plants; straw and fodder/India",
          "all/Sugars and sugar confectionery/Greece",
          "all/Dairy produce; birds' eggs; natural honey; edible products of animal origin, not elsewhere specified or included/New Zealand",
          "all/Preparations of cereals, flour, starch or milk; pastrycooks' products/Rep. of Korea",
          "all/Animals; live/Solomon Isds",
          "all/Coffee, tea, mate and spices/Italy",
          "all/Fish and crustaceans, molluscs and other aquatic invertebrates/USA",
          "all/Preparations of vegetables, fruit, nuts or other parts of plants/Turkey",
          "all/Preparations of vegetables, fruit, nuts or other parts of plants/Egypt",
          "all/Products of the milling industry; malt, starches, inulin, wheat gluten/Denmark",
          "all/Coffee, tea, mate and spices/Iran",
          "all/Vegetables and certain roots and tubers; edible/Syria",
          "all/Vegetables and certain roots and tubers; edible/Romania",
          "all/Vegetables and certain roots and tubers; edible/Austria",
          "all/Preparations of vegetables, fruit, nuts or other parts of plants/Malaysia",
          "all/Sugars and sugar confectionery/Spain",
          "all/Cereals/Uzbekistan",
          "all/Cereals/Turkey",
          "all/Fruit and nuts, edible; peel of citrus fruit or melons/Marshall Isds",
          "all/Preparations of cereals, flour, starch or milk; pastrycooks' products/Netherlands",
          "all/Lac; gums, resins and other vegetable saps and extracts/Portugal",
          "all/Sugars and sugar confectionery/India",
          "all/Dairy produce; birds' eggs; natural honey; edible products of animal origin, not elsewhere specified or included/Ireland",
          "all/Vegetables and certain roots and tubers; edible/Singapore",
          "all/Animal or vegetable fats and oils and their cleavage products; prepared animal fats; animal or vegetable waxes/Iran",
          "all/Sugars and sugar confectionery/Viet Nam",
          "all/Lac; gums, resins and other vegetable saps and extracts/Thailand",
          "all/Cereals/Afghanistan",
          "all/Animal or vegetable fats and oils and their cleavage products; prepared animal fats; animal or vegetable waxes/Mexico",
          "all/Preparations of vegetables, fruit, nuts or other parts of plants/United Kingdom",
          "all/Oil seeds and oleaginous fruits; miscellaneous grains, seeds and fruit, industrial or medicinal plants; straw and fodder/Philippines",
          "all/Products of the milling industry; malt, starches, inulin, wheat gluten/Germany",
          "all/Animal or vegetable fats and oils and their cleavage products; prepared animal fats; animal or vegetable waxes/Denmark",
          "all/Preparations of vegetables, fruit, nuts or other parts of plants/Netherlands",
          "all/Dairy produce; birds' eggs; natural honey; edible products of animal origin, not elsewhere specified or included/Egypt",
          "all/Products of the milling industry; malt, starches, inulin, wheat gluten/Saudi Arabia",
          "all/Fruit and nuts, edible; peel of citrus fruit or melons/Kenya",
          "all/Meat and edible meat offal/China",
          "all/Lac; gums, resins and other vegetable saps and extracts/China",
          "all/Preparations of cereals, flour, starch or milk; pastrycooks' products/Sri Lanka",
          "all/Fruit and nuts, edible; peel of citrus fruit or melons/United Arab Emirates",
          "all/Preparations of vegetables, fruit, nuts or other parts of plants/Eswatini",
          "all/Preparations of vegetables, fruit, nuts or other parts of plants/Belgium",
          "all/Animals; live/China",
          "all/Animal or vegetable fats and oils and their cleavage products; prepared animal fats; animal or vegetable waxes/USA",
          "all/Animal or vegetable fats and oils and their cleavage products; prepared animal fats; animal or vegetable waxes/Japan",
          "all/Fruit and nuts, edible; peel of citrus fruit or melons/Sri Lanka",
          "all/Preparations of cereals, flour, starch or milk; pastrycooks' products/Oman",
          "all/Dairy produce; birds' eggs; natural honey; edible products of animal origin, not elsewhere specified or included/United Kingdom",
          "all/Animal originated products; not elsewhere specified or included/Brazil",
          "all/Lac; gums, resins and other vegetable saps and extracts/Germany",
          "all/Meat, fish or crustaceans, molluscs or other aquatic invertebrates; preparations thereof/Jordan",
          "all/Dairy produce; birds' eggs; natural honey; edible products of animal origin, not elsewhere specified or included/Oman",
          "all/Dairy produce; birds' eggs; natural honey; edible products of animal origin, not elsewhere specified or included/Switzerland",
          "all/Coffee, tea, mate and spices/Spain",
          "all/Dairy produce; birds' eggs; natural honey; edible products of animal origin, not elsewhere specified or included/Other Europe, nes",
          "all/Sugars and sugar confectionery/Nicaragua",
          "all/Fruit and nuts, edible; peel of citrus fruit or melons/Zimbabwe",
          "all/Preparations of vegetables, fruit, nuts or other parts of plants/Rep. of Korea",
          "all/Coffee, tea, mate and spices/United Kingdom",
          "all/Fruit and nuts, edible; peel of citrus fruit or melons/Iran",
          "all/Meat, fish or crustaceans, molluscs or other aquatic invertebrates; preparations thereof/Australia",
          "all/Oil seeds and oleaginous fruits; miscellaneous grains, seeds and fruit, industrial or medicinal plants; straw and fodder/Turkey",
          "all/Animal or vegetable fats and oils and their cleavage products; prepared animal fats; animal or vegetable waxes/Germany",
          "all/Preparations of vegetables, fruit, nuts or other parts of plants/Japan",
          "all/Lac; gums, resins and other vegetable saps and extracts/Viet Nam",
          "all/Fruit and nuts, edible; peel of citrus fruit or melons/Malaysia",
          "all/Fish and crustaceans, molluscs and other aquatic invertebrates/Colombia",
          "all/Fruit and nuts, edible; peel of citrus fruit or melons/Albania",
          "all/Lac; gums, resins and other vegetable saps and extracts/USA",
          "all/Oil seeds and oleaginous fruits; miscellaneous grains, seeds and fruit, industrial or medicinal plants; straw and fodder/Spain",
          "all/Lac; gums, resins and other vegetable saps and extracts/United Arab Emirates",
          "all/Cereals/Turkmenistan",
          "all/Coffee, tea, mate and spices/Singapore",
          "all/Coffee, tea, mate and spices/United Arab Emirates",
          "all/Sugars and sugar confectionery/Thailand",
          "all/Products of the milling industry; malt, starches, inulin, wheat gluten/Thailand",
          "all/Preparations of cereals, flour, starch or milk; pastrycooks' products/Indonesia",
          "all/Oil seeds and oleaginous fruits; miscellaneous grains, seeds and fruit, industrial or medicinal plants; straw and fodder/Russian Federation",
          "all/Animals; live/Czechia",
          "all/Meat and edible meat offal/Jordan",
          "all/Sugars and sugar confectionery/Malaysia",
          "all/Animal originated products; not elsewhere specified or included/Australia",
          "all/Vegetables and certain roots and tubers; edible/China",
          "all/Sugars and sugar confectionery/China",
          "all/Dairy produce; birds' eggs; natural honey; edible products of animal origin, not elsewhere specified or included/Afghanistan",
          "all/Vegetables and certain roots and tubers; edible/Albania",
          "all/Preparations of cereals, flour, starch or milk; pastrycooks' products/Chile",
          "all/Oil seeds and oleaginous fruits; miscellaneous grains, seeds and fruit, industrial or medicinal plants; straw and fodder/Canada",
          "all/Oil seeds and oleaginous fruits; miscellaneous grains, seeds and fruit, industrial or medicinal plants; straw and fodder/Algeria",
          "all/Oil seeds and oleaginous fruits; miscellaneous grains, seeds and fruit, industrial or medicinal plants; straw and fodder/Viet Nam",
          "all/Oil seeds and oleaginous fruits; miscellaneous grains, seeds and fruit, industrial or medicinal plants; straw and fodder/Chile",
          "all/Animal or vegetable fats and oils and their cleavage products; prepared animal fats; animal or vegetable waxes/Panama",
          "all/Cereals/Argentina",
          "all/Oil seeds and oleaginous fruits; miscellaneous grains, seeds and fruit, industrial or medicinal plants; straw and fodder/United Arab Emirates",
          "all/Animals; live/Rep. of Korea",
          "all/Animal originated products; not elsewhere specified or included/Belgium",
          "all/Dairy produce; birds' eggs; natural honey; edible products of animal origin, not elsewhere specified or included/Canada",
          "all/Cereals/Peru",
          "all/Sugars and sugar confectionery/Belgium",
          "all/Cereals/Saudi Arabia",
          "all/Coffee, tea, mate and spices/Saudi Arabia",
          "all/Vegetables and certain roots and tubers; edible/Belgium",
          "all/Products of the milling industry; malt, starches, inulin, wheat gluten/Poland",
          "all/Cereals/Ukraine",
          "all/Animal originated products; not elsewhere specified or included/United Rep. of Tanzania",
          "all/Preparations of cereals, flour, starch or milk; pastrycooks' products/Brazil",
          "all/Vegetables and certain roots and tubers; edible/United Rep. of Tanzania",
          "all/Preparations of vegetables, fruit, nuts or other parts of plants/Peru",
          "all/Coffee, tea, mate and spices/Burundi",
          "all/Oil seeds and oleaginous fruits; miscellaneous grains, seeds and fruit, industrial or medicinal plants; straw and fodder/Bangladesh",
          "all/Preparations of cereals, flour, starch or milk; pastrycooks' products/Australia",
          "all/Vegetables and certain roots and tubers; edible/United Arab Emirates",
          "all/Animal or vegetable fats and oils and their cleavage products; prepared animal fats; animal or vegetable waxes/Bulgaria",
          "all/Lac; gums, resins and other vegetable saps and extracts/Saudi Arabia",
          "all/Meat and edible meat offal/Spain",
          "all/Meat and edible meat offal/New Zealand",
          "all/Meat and edible meat offal/Egypt",
          "all/Lac; gums, resins and other vegetable saps and extracts/Japan",
          "all/Fruit and nuts, edible; peel of citrus fruit or melons/South Africa",
          "all/Meat and edible meat offal/South Africa",
          "all/Dairy produce; birds' eggs; natural honey; edible products of animal origin, not elsewhere specified or included/Sweden",
          "all/Animal or vegetable fats and oils and their cleavage products; prepared animal fats; animal or vegetable waxes/Sweden",
          "all/Preparations of vegetables, fruit, nuts or other parts of plants/Jordan",
          "all/Lac; gums, resins and other vegetable saps and extracts/Netherlands",
          "all/Fruit and nuts, edible; peel of citrus fruit or melons/Netherlands",
          "all/Coffee, tea, mate and spices/Kazakhstan",
          "all/Animal originated products; not elsewhere specified or included/Spain",
          "all/Dairy produce; birds' eggs; natural honey; edible products of animal origin, not elsewhere specified or included/Lithuania",
          "all/Oil seeds and oleaginous fruits; miscellaneous grains, seeds and fruit, industrial or medicinal plants; straw and fodder/Madagascar",
          "all/Dairy produce; birds' eggs; natural honey; edible products of animal origin, not elsewhere specified or included/Malaysia",
          "all/Vegetables and certain roots and tubers; edible/Myanmar",
          "all/Oil seeds and oleaginous fruits; miscellaneous grains, seeds and fruit, industrial or medicinal plants; straw and fodder/Mexico",
          "all/Fruit and nuts, edible; peel of citrus fruit or melons/Montenegro",
          "all/Lac; gums, resins and other vegetable saps and extracts/Italy",
          "all/Fruit and nuts, edible; peel of citrus fruit or melons/Italy",
          "all/Sugars and sugar confectionery/Egypt",
          "all/Preparations of cereals, flour, starch or milk; pastrycooks' products/France",
          "all/Fruit and nuts, edible; peel of citrus fruit or melons/USA",
          "all/Animal or vegetable fats and oils and their cleavage products; prepared animal fats; animal or vegetable waxes/Thailand",
          "all/Preparations of cereals, flour, starch or milk; pastrycooks' products/Turkey",
          "all/Animals; live/Oman",
          "all/Cereals/Hungary",
          "all/Oil seeds and oleaginous fruits; miscellaneous grains, seeds and fruit, industrial or medicinal plants; straw and fodder/France",
          "all/Lac; gums, resins and other vegetable saps and extracts/India",
          "all/Lac; gums, resins and other vegetable saps and extracts/Nigeria",
          "all/Preparations of vegetables, fruit, nuts or other parts of plants/Other Asia, nes",
          "all/Dairy produce; birds' eggs; natural honey; edible products of animal origin, not elsewhere specified or included/Iran",
          "all/Vegetables and certain roots and tubers; edible/Morocco",
          "all/Preparations of cereals, flour, starch or milk; pastrycooks' products/Egypt",
          "all/Animals; live/Serbia",
          "all/Coffee, tea, mate and spices/Yemen",
          "all/Dairy produce; birds' eggs; natural honey; edible products of animal origin, not elsewhere specified or included/Sri Lanka",
          "all/Cereals/USA",
          "all/Meat and edible meat offal/United Kingdom",
          "all/Animals; live/Viet Nam",
          "all/Dairy produce; birds' eggs; natural honey; edible products of animal origin, not elsewhere specified or included/Turkey",
          "all/Sugars and sugar confectionery/Slovakia",
          "all/Vegetables and certain roots and tubers; edible/Russian Federation",
          "all/Lac; gums, resins and other vegetable saps and extracts/Switzerland",
          "all/Fish and crustaceans, molluscs and other aquatic invertebrates/Thailand",
          "all/Meat, fish or crustaceans, molluscs or other aquatic invertebrates; preparations thereof/Saudi Arabia",
          "all/Lac; gums, resins and other vegetable saps and extracts/Sudan",
          "all/Animals; live/United Arab Emirates",
          "all/Meat, fish or crustaceans, molluscs or other aquatic invertebrates; preparations thereof/Malaysia",
          "all/Coffee, tea, mate and spices/Madagascar",
          "all/Animals; live/Guinea",
          "all/Animals; live/Indonesia",
          "all/Oil seeds and oleaginous fruits; miscellaneous grains, seeds and fruit, industrial or medicinal plants; straw and fodder/Brazil",
          "all/Lac; gums, resins and other vegetable saps and extracts/Indonesia",
          "all/Preparations of cereals, flour, starch or milk; pastrycooks' products/Bangladesh",
          "all/Oil seeds and oleaginous fruits; miscellaneous grains, seeds and fruit, industrial or medicinal plants; straw and fodder/Nigeria",
          "all/Sugars and sugar confectionery/Iran",
          "all/Dairy produce; birds' eggs; natural honey; edible products of animal origin, not elsewhere specified or included/Belgium",
          "all/Preparations of cereals, flour, starch or milk; pastrycooks' products/Austria",
          "all/Animals; live/New Zealand",
          "all/Fruit and nuts, edible; peel of citrus fruit or melons/Iraq",
          "all/Fruit and nuts, edible; peel of citrus fruit or melons/China",
          "all/Animal originated products; not elsewhere specified or included/Netherlands",
          "all/Fruit and nuts, edible; peel of citrus fruit or melons/Myanmar",
          "all/Vegetables and certain roots and tubers; edible/Montenegro",
          "all/Sugars and sugar confectionery/Japan",
          "all/Coffee, tea, mate and spices/Kiribati",
          "all/Vegetables and certain roots and tubers; edible/Canada",
          "all/Preparations of cereals, flour, starch or milk; pastrycooks' products/China",
          "all/Oil seeds and oleaginous fruits; miscellaneous grains, seeds and fruit, industrial or medicinal plants; straw and fodder/Other Asia, nes",
          "all/Coffee, tea, mate and spices/Canada",
          "all/Dairy produce; birds' eggs; natural honey; edible products of animal origin, not elsewhere specified or included/Poland",
          "all/Animal or vegetable fats and oils and their cleavage products; prepared animal fats; animal or vegetable waxes/Portugal",
          "all/Sugars and sugar confectionery/Germany",
          "all/Oil seeds and oleaginous fruits; miscellaneous grains, seeds and fruit, industrial or medicinal plants; straw and fodder/Ecuador",
          "all/Oil seeds and oleaginous fruits; miscellaneous grains, seeds and fruit, industrial or medicinal plants; straw and fodder/Argentina",
          "all/Coffee, tea, mate and spices/Germany",
          "all/Fruit and nuts, edible; peel of citrus fruit or melons/Costa Rica",
          "all/Fruit and nuts, edible; peel of citrus fruit or melons/Philippines",
          "all/Vegetables and certain roots and tubers; edible/Ethiopia",
          "all/Coffee, tea, mate and spices/Australia",
          "all/Oil seeds and oleaginous fruits; miscellaneous grains, seeds and fruit, industrial or medicinal plants; straw and fodder/El Salvador",
          "all/Preparations of vegetables, fruit, nuts or other parts of plants/Ecuador",
          "all/Fish and crustaceans, molluscs and other aquatic invertebrates/China",
          "all/Oil seeds and oleaginous fruits; miscellaneous grains, seeds and fruit, industrial or medicinal plants; straw and fodder/Switzerland",
          "all/Fruit and nuts, edible; peel of citrus fruit or melons/Turkey",
          "all/Lac; gums, resins and other vegetable saps and extracts/Chad",
          "all/Vegetables and certain roots and tubers; edible/Kenya",
          "all/Products of the milling industry; malt, starches, inulin, wheat gluten/Sri Lanka",
          "all/Oil seeds and oleaginous fruits; miscellaneous grains, seeds and fruit, industrial or medicinal plants; straw and fodder/Egypt",
          "all/Animals; live/Japan",
          "all/Animal or vegetable fats and oils and their cleavage products; prepared animal fats; animal or vegetable waxes/Jordan",
          "all/Animals; live/USA",
          "all/Coffee, tea, mate and spices/Guatemala",
          "all/Dairy produce; birds' eggs; natural honey; edible products of animal origin, not elsewhere specified or included/Thailand",
          "all/Preparations of vegetables, fruit, nuts or other parts of plants/China",
          "all/Dairy produce; birds' eggs; natural honey; edible products of animal origin, not elsewhere specified or included/Denmark",
          "all/Animal originated products; not elsewhere specified or included/France",
          "all/Animals; live/Germany",
          "all/Vegetables and certain roots and tubers; edible/Ukraine",
          "all/Coffee, tea, mate and spices/Indonesia",
          "all/Sugars and sugar confectionery/Ukraine",
          "all/Coffee, tea, mate and spices/Costa Rica",
          "all/Animal or vegetable fats and oils and their cleavage products; prepared animal fats; animal or vegetable waxes/Ghana",
          "all/Animal originated products; not elsewhere specified or included/Ireland",
          "all/Fish and crustaceans, molluscs and other aquatic invertebrates/Indonesia",
          "all/Animal originated products; not elsewhere specified or included/Afghanistan",
          "all/Coffee, tea, mate and spices/Norway",
          "all/Animals; live/Bahrain",
          "all/Preparations of cereals, flour, starch or milk; pastrycooks' products/Other Asia, nes",
          "all/Oil seeds and oleaginous fruits; miscellaneous grains, seeds and fruit, industrial or medicinal plants; straw and fodder/Slovenia",
          "all/Vegetables and certain roots and tubers; edible/Uzbekistan",
          "all/Vegetables and certain roots and tubers; edible/Netherlands",
          "all/Oil seeds and oleaginous fruits; miscellaneous grains, seeds and fruit, industrial or medicinal plants; straw and fodder/Paraguay",
          "all/Lac; gums, resins and other vegetable saps and extracts/Belgium",
          "all/Dairy produce; birds' eggs; natural honey; edible products of animal origin, not elsewhere specified or included/Netherlands",
          "all/Fish and crustaceans, molluscs and other aquatic invertebrates/Sri Lanka",
          "all/Dairy produce; birds' eggs; natural honey; edible products of animal origin, not elsewhere specified or included/Philippines",
          "all/Dairy produce; birds' eggs; natural honey; edible products of animal origin, not elsewhere specified or included/Australia",
          "all/Preparations of cereals, flour, starch or milk; pastrycooks' products/United Kingdom",
          "all/Vegetables and certain roots and tubers; edible/Poland",
          "all/Preparations of cereals, flour, starch or milk; pastrycooks' products/Montenegro",
          "all/Fruit and nuts, edible; peel of citrus fruit or melons/Brazil",
          "all/Fruit and nuts, edible; peel of citrus fruit or melons/Mexico",
          "all/Animal or vegetable fats and oils and their cleavage products; prepared animal fats; animal or vegetable waxes/Saudi Arabia",
          "all/Preparations of cereals, flour, starch or milk; pastrycooks' products/Malaysia",
          "all/Oil seeds and oleaginous fruits; miscellaneous grains, seeds and fruit, industrial or medicinal plants; straw and fodder/Poland",
          "all/Animal originated products; not elsewhere specified or included/Turkmenistan",
          "all/Animal or vegetable fats and oils and their cleavage products; prepared animal fats; animal or vegetable waxes/Tunisia",
          "all/Animal or vegetable fats and oils and their cleavage products; prepared animal fats; animal or vegetable waxes/Singapore",
          "all/Coffee, tea, mate and spices/Russian Federation",
          "all/Preparations of cereals, flour, starch or milk; pastrycooks' products/Eswatini",
          "all/Preparations of vegetables, fruit, nuts or other parts of plants/Ukraine",
          "all/Animals; live/Cyprus",
          "all/Products of the milling industry; malt, starches, inulin, wheat gluten/Philippines",
          "all/Preparations of cereals, flour, starch or milk; pastrycooks' products/Saudi Arabia",
          "all/Meat and edible meat offal/Germany",
          "all/Preparations of vegetables, fruit, nuts or other parts of plants/Philippines",
          "all/Lac; gums, resins and other vegetable saps and extracts/Uzbekistan",
          "all/Animal or vegetable fats and oils and their cleavage products; prepared animal fats; animal or vegetable waxes/Other Asia, nes",
          "all/Cereals/Canada",
          "all/Preparations of cereals, flour, starch or milk; pastrycooks' products/Thailand",
          "all/Animals; live/Sri Lanka",
          "all/Lac; gums, resins and other vegetable saps and extracts/Mali",
          "all/Fruit and nuts, edible; peel of citrus fruit or melons/Jordan",
          "all/Cereals/Chile",
          "all/Coffee, tea, mate and spices/China",
          "all/Lac; gums, resins and other vegetable saps and extracts/United Kingdom",
          "all/Preparations of cereals, flour, starch or milk; pastrycooks' products/Belgium",
          "all/Sugars and sugar confectionery/Ireland",
          "all/Sugars and sugar confectionery/Italy",
          "all/Sugars and sugar confectionery/Netherlands",
          "all/Preparations of vegetables, fruit, nuts or other parts of plants/Indonesia",
          "all/Oil seeds and oleaginous fruits; miscellaneous grains, seeds and fruit, industrial or medicinal plants; straw and fodder/China",
          "all/Cereals/United Arab Emirates",
          "all/Animals; live/Egypt",
          "all/Animal originated products; not elsewhere specified or included/Cyprus",
          "all/Animal or vegetable fats and oils and their cleavage products; prepared animal fats; animal or vegetable waxes/Viet Nam",
          "all/Animal or vegetable fats and oils and their cleavage products; prepared animal fats; animal or vegetable waxes/United Arab Emirates",
          "all/Products of the milling industry; malt, starches, inulin, wheat gluten/Ukraine",
          "all/Oil seeds and oleaginous fruits; miscellaneous grains, seeds and fruit, industrial or medicinal plants; straw and fodder/United Kingdom",
          "all/Sugars and sugar confectionery/Bahamas",
          "all/Vegetables and certain roots and tubers; edible/Algeria",
          "all/Lac; gums, resins and other vegetable saps and extracts/Brazil",
          "all/Oil seeds and oleaginous fruits; miscellaneous grains, seeds and fruit, industrial or medicinal plants; straw and fodder/Central African Rep.",
          "all/Animal or vegetable fats and oils and their cleavage products; prepared animal fats; animal or vegetable waxes/Egypt",
          "all/Animals; live/Afghanistan",
          "all/Fruit and nuts, edible; peel of citrus fruit or melons/Belgium",
          "all/Animal or vegetable fats and oils and their cleavage products; prepared animal fats; animal or vegetable waxes/Bahrain",
          "all/Sugars and sugar confectionery/Austria",
          "all/Coffee, tea, mate and spices/Turkey",
          "all/Meat and edible meat offal/Saudi Arabia",
          "all/Oil seeds and oleaginous fruits; miscellaneous grains, seeds and fruit, industrial or medicinal plants; straw and fodder/South Africa",
          "all/Animals; live/Netherlands",
          "all/Products of the milling industry; malt, starches, inulin, wheat gluten/Slovakia",
          "all/Animal or vegetable fats and oils and their cleavage products; prepared animal fats; animal or vegetable waxes/Norway",
          "all/Fish and crustaceans, molluscs and other aquatic invertebrates/Norway",
          "all/Oil seeds and oleaginous fruits; miscellaneous grains, seeds and fruit, industrial or medicinal plants; straw and fodder/Malaysia",
          "all/Coffee, tea, mate and spices/Sri Lanka",
          "all/Vegetables and certain roots and tubers; edible/Sierra Leone",
          "all/Coffee, tea, mate and spices/Other Asia, nes",
          "all/Animal or vegetable fats and oils and their cleavage products; prepared animal fats; animal or vegetable waxes/Kuwait",
          "all/Products of the milling industry; malt, starches, inulin, wheat gluten/Japan",
          "all/Cereals/Japan",
          "all/Lac; gums, resins and other vegetable saps and extracts/Philippines",
          "all/Animal originated products; not elsewhere specified or included/Iraq",
          "all/Vegetables and certain roots and tubers; edible/Iran",
          "all/Animal or vegetable fats and oils and their cleavage products; prepared animal fats; animal or vegetable waxes/New Zealand",
          "all/Sugars and sugar confectionery/Philippines",
          "all/Fruit and nuts, edible; peel of citrus fruit or melons/Indonesia",
          "all/Cereals/Indonesia",
          "all/Coffee, tea, mate and spices/USA",
          "all/Vegetables and certain roots and tubers; edible/Germany",
          "all/Animal or vegetable fats and oils and their cleavage products; prepared animal fats; animal or vegetable waxes/France",
          "all/Fruit and nuts, edible; peel of citrus fruit or melons/Thailand",
          "all/Cereals/Germany",
          "all/Coffee, tea, mate and spices/Rwanda",
          "all/Preparations of vegetables, fruit, nuts or other parts of plants/Poland",
          "all/Oil seeds and oleaginous fruits; miscellaneous grains, seeds and fruit, industrial or medicinal plants; straw and fodder/Afghanistan",
          "all/Vegetables and certain roots and tubers; edible/Barbados",
          "all/Animal or vegetable fats and oils and their cleavage products; prepared animal fats; animal or vegetable waxes/Uruguay",
          "all/Meat and edible meat offal/Albania",
          "all/Sugars and sugar confectionery/Algeria",
          "all/Meat, fish or crustaceans, molluscs or other aquatic invertebrates; preparations thereof/Viet Nam",
          "all/Coffee, tea, mate and spices/Other Europe, nes",
          "all/Dairy produce; birds' eggs; natural honey; edible products of animal origin, not elsewhere specified or included/Austria",
          "all/Meat and edible meat offal/Australia",
          "all/Preparations of vegetables, fruit, nuts or other parts of plants/Other Europe, nes",
          "all/Fruit and nuts, edible; peel of citrus fruit or melons/Antigua and Barbuda",
          "all/Dairy produce; birds' eggs; natural honey; edible products of animal origin, not elsewhere specified or included/Belarus",
          "all/Fruit and nuts, edible; peel of citrus fruit or melons/Saudi Arabia",
          "all/Coffee, tea, mate and spices/Argentina",
          "all/Oil seeds and oleaginous fruits; miscellaneous grains, seeds and fruit, industrial or medicinal plants; straw and fodder/Sierra Leone",
          "all/Fruit and nuts, edible; peel of citrus fruit or melons/Egypt",
          "all/Animal originated products; not elsewhere specified or included/Morocco",
          "all/Sugars and sugar confectionery/United Kingdom",
          "all/Animal or vegetable fats and oils and their cleavage products; prepared animal fats; animal or vegetable waxes/Estonia",
          "all/Vegetables and certain roots and tubers; edible/USA",
          "all/Animals; live/France",
          "all/Animal originated products; not elsewhere specified or included/Germany",
          "all/Fruit and nuts, edible; peel of citrus fruit or melons/Ukraine",
          "all/Meat, fish or crustaceans, molluscs or other aquatic invertebrates; preparations thereof/Turkey",
          "all/Animal originated products; not elsewhere specified or included/Rep. of Korea",
          "all/Lac; gums, resins and other vegetable saps and extracts/Iran",
          "all/Preparations of vegetables, fruit, nuts or other parts of plants/Colombia",
          "all/Cereals/Thailand",
          "all/Cereals/Italy",
          "all/Sugars and sugar confectionery/New Zealand",
          "all/Preparations of cereals, flour, starch or milk; pastrycooks' products/Switzerland",
          "all/Lac; gums, resins and other vegetable saps and extracts/Sri Lanka",
          "all/Products of the milling industry; malt, starches, inulin, wheat gluten/Canada",
          "all/Fruit and nuts, edible; peel of citrus fruit or melons/Madagascar",
          "all/Fish and crustaceans, molluscs and other aquatic invertebrates/Malaysia",
          "all/Oil seeds and oleaginous fruits; miscellaneous grains, seeds and fruit, industrial or medicinal plants; straw and fodder/Cameroon",
          "all/Vegetables and certain roots and tubers; edible/Brazil",
          "all/Lac; gums, resins and other vegetable saps and extracts/Mexico",
          "all/Preparations of cereals, flour, starch or milk; pastrycooks' products/USA",
          "all/Animal or vegetable fats and oils and their cleavage products; prepared animal fats; animal or vegetable waxes/Brazil",
          "all/Oil seeds and oleaginous fruits; miscellaneous grains, seeds and fruit, industrial or medicinal plants; straw and fodder/Morocco",
          "all/Vegetables and certain roots and tubers; edible/N. Mariana Isds",
          "all/Preparations of cereals, flour, starch or milk; pastrycooks' products/Jordan",
          "all/Animal or vegetable fats and oils and their cleavage products; prepared animal fats; animal or vegetable waxes/Qatar",
          "all/Animal or vegetable fats and oils and their cleavage products; prepared animal fats; animal or vegetable waxes",
          "all/Animal originated products; not elsewhere specified or included",
          "all/Animals; live",
          "all/Cereals",
          "all/Coffee, tea, mate and spices",
          "all/Dairy produce; birds' eggs; natural honey; edible products of animal origin, not elsewhere specified or included",
          "all/Fish and crustaceans, molluscs and other aquatic invertebrates",
          "all/Fruit and nuts, edible; peel of citrus fruit or melons",
          "all/Lac; gums, resins and other vegetable saps and extracts",
          "all/Meat and edible meat offal",
          "all/Meat, fish or crustaceans, molluscs or other aquatic invertebrates; preparations thereof",
          "all/Oil seeds and oleaginous fruits; miscellaneous grains, seeds and fruit, industrial or medicinal plants; straw and fodder",
          "all/Preparations of cereals, flour, starch or milk; pastrycooks' products",
          "all/Preparations of vegetables, fruit, nuts or other parts of plants",
          "all/Products of the milling industry; malt, starches, inulin, wheat gluten",
          "all/Sugars and sugar confectionery",
          "all/Vegetables and certain roots and tubers; edible",
          "all"
         ],
         "labels": [
          "Uzbekistan",
          "Papua New Guinea",
          "Norway",
          "Philippines",
          "Portugal",
          "Netherlands",
          "Mexico",
          "Egypt",
          "Guyana",
          "Saudi Arabia",
          "Egypt",
          "Eswatini",
          "Bahrain",
          "Viet Nam",
          "Germany",
          "Germany",
          "Eswatini",
          "Malaysia",
          "Switzerland",
          "Sri Lanka",
          "Turkey",
          "United Kingdom",
          "Brazil",
          "Turkey",
          "Russian Federation",
          "Italy",
          "Belgium",
          "Bulgaria",
          "Chile",
          "Oman",
          "Australia",
          "Sudan",
          "Morocco",
          "Saudi Arabia",
          "Other Europe, nes",
          "Czechia",
          "United Arab Emirates",
          "Kenya",
          "Indonesia",
          "Thailand",
          "Sri Lanka",
          "Kuwait",
          "Portugal",
          "Singapore",
          "Ireland",
          "China",
          "Netherlands",
          "Argentina",
          "Turkey",
          "Myanmar",
          "Lebanon",
          "Jordan",
          "Indonesia",
          "Other Europe, nes",
          "Namibia",
          "Bolivia (Plurinational State of)",
          "France",
          "Denmark",
          "Jordan",
          "Other Europe, nes",
          "USA",
          "Denmark",
          "Iran",
          "Canada",
          "Ecuador",
          "USA",
          "Egypt",
          "Kenya",
          "Iran",
          "Colombia",
          "India",
          "Italy",
          "Austria",
          "Viet Nam",
          "New Zealand",
          "Afghanistan",
          "Spain",
          "Italy",
          "Belarus",
          "France",
          "Australia",
          "United Kingdom",
          "Iran",
          "Uruguay",
          "Spain",
          "Denmark",
          "Argentina",
          "Portugal",
          "Dominican Rep.",
          "United Arab Emirates",
          "Saudi Arabia",
          "Lebanon",
          "Rep. of Korea",
          "Afghanistan",
          "Slovenia",
          "Montenegro",
          "Kenya",
          "Iran",
          "Niger",
          "China, Hong Kong SAR",
          "China",
          "Latvia",
          "Hungary",
          "Malaysia",
          "Brazil",
          "Brazil",
          "Italy",
          "Nepal",
          "France",
          "Bahrain",
          "Japan",
          "France",
          "Philippines",
          "Other Europe, nes",
          "United Kingdom",
          "Uruguay",
          "Greece",
          "Sri Lanka",
          "Greece",
          "New Zealand",
          "Turkey",
          "Belarus",
          "Thailand",
          "Iran",
          "Ukraine",
          "USA",
          "USA",
          "Germany",
          "Oman",
          "Czechia",
          "Ireland",
          "Turkey",
          "India",
          "Heard Island and McDonald Islands",
          "Japan",
          "Ethiopia",
          "China",
          "Bulgaria",
          "Uzbekistan",
          "Romania",
          "Australia",
          "Argentina",
          "Brazil",
          "Qatar",
          "Rep. of Korea",
          "Viet Nam",
          "Paraguay",
          "Chile",
          "Lebanon",
          "Mexico",
          "Spain",
          "Kenya",
          "Afghanistan",
          "Malaysia",
          "Jordan",
          "Malaysia",
          "Belize",
          "Belgium",
          "Argentina",
          "France",
          "Syria",
          "Other Europe, nes",
          "United Rep. of Tanzania",
          "Zambia",
          "United Rep. of Tanzania",
          "Denmark",
          "China, Hong Kong SAR",
          "Bangladesh",
          "Italy",
          "Bahrain",
          "India",
          "Germany",
          "Netherlands",
          "Oman",
          "Rep. of Korea",
          "Greece",
          "Australia",
          "Norway",
          "Italy",
          "Uganda",
          "Turkey",
          "Saudi Arabia",
          "Japan",
          "Denmark",
          "Chile",
          "Other Europe, nes",
          "Rep. of Korea",
          "United Arab Emirates",
          "Afghanistan",
          "United Arab Emirates",
          "Iran",
          "Mozambique",
          "Canada",
          "Rep. of Korea",
          "Mexico",
          "Serbia",
          "Spain",
          "USA",
          "Bulgaria",
          "Montenegro",
          "Madagascar",
          "South Africa",
          "Egypt",
          "Other Europe, nes",
          "Canada",
          "Equatorial Guinea",
          "Switzerland",
          "Bulgaria",
          "Iran",
          "Hungary",
          "Viet Nam",
          "Australia",
          "Afghanistan",
          "Iran",
          "Nigeria",
          "Thailand",
          "Rep. of Moldova",
          "Italy",
          "Other Europe, nes",
          "Spain",
          "Colombia",
          "Ukraine",
          "United Arab Emirates",
          "Suriname",
          "China",
          "Ecuador",
          "Uganda",
          "Canada",
          "USA",
          "Sweden",
          "Lithuania",
          "Canada",
          "Egypt",
          "Austria",
          "Nepal",
          "Philippines",
          "United Kingdom",
          "France",
          "Malaysia",
          "Poland",
          "Belgium",
          "Italy",
          "Poland",
          "Bahrain",
          "New Zealand",
          "Uruguay",
          "Turkey",
          "Other Europe, nes",
          "France",
          "Malaysia",
          "Indonesia",
          "United Arab Emirates",
          "Denmark",
          "Other Europe, nes",
          "China",
          "Other Asia, nes",
          "Uzbekistan",
          "Singapore",
          "Thailand",
          "Czechia",
          "Indonesia",
          "Thailand",
          "Afghanistan",
          "Jordan",
          "China, Hong Kong SAR",
          "Myanmar",
          "China",
          "Iran",
          "Spain",
          "Other Europe, nes",
          "Spain",
          "Chile",
          "United Arab Emirates",
          "United Arab Emirates",
          "Peru",
          "Viet Nam",
          "Peru",
          "Bulgaria",
          "Malawi",
          "Uganda",
          "Nepal",
          "Bhutan",
          "Belgium",
          "United Rep. of Tanzania",
          "Albania",
          "Australia",
          "Argentina",
          "Antigua and Barbuda",
          "Mexico",
          "Malaysia",
          "Spain",
          "Japan",
          "Sierra Leone",
          "India",
          "Greece",
          "New Zealand",
          "Rep. of Korea",
          "Solomon Isds",
          "Italy",
          "USA",
          "Turkey",
          "Egypt",
          "Denmark",
          "Iran",
          "Syria",
          "Romania",
          "Austria",
          "Malaysia",
          "Spain",
          "Uzbekistan",
          "Turkey",
          "Marshall Isds",
          "Netherlands",
          "Portugal",
          "India",
          "Ireland",
          "Singapore",
          "Iran",
          "Viet Nam",
          "Thailand",
          "Afghanistan",
          "Mexico",
          "United Kingdom",
          "Philippines",
          "Germany",
          "Denmark",
          "Netherlands",
          "Egypt",
          "Saudi Arabia",
          "Kenya",
          "China",
          "China",
          "Sri Lanka",
          "United Arab Emirates",
          "Eswatini",
          "Belgium",
          "China",
          "USA",
          "Japan",
          "Sri Lanka",
          "Oman",
          "United Kingdom",
          "Brazil",
          "Germany",
          "Jordan",
          "Oman",
          "Switzerland",
          "Spain",
          "Other Europe, nes",
          "Nicaragua",
          "Zimbabwe",
          "Rep. of Korea",
          "United Kingdom",
          "Iran",
          "Australia",
          "Turkey",
          "Germany",
          "Japan",
          "Viet Nam",
          "Malaysia",
          "Colombia",
          "Albania",
          "USA",
          "Spain",
          "United Arab Emirates",
          "Turkmenistan",
          "Singapore",
          "United Arab Emirates",
          "Thailand",
          "Thailand",
          "Indonesia",
          "Russian Federation",
          "Czechia",
          "Jordan",
          "Malaysia",
          "Australia",
          "China",
          "China",
          "Afghanistan",
          "Albania",
          "Chile",
          "Canada",
          "Algeria",
          "Viet Nam",
          "Chile",
          "Panama",
          "Argentina",
          "United Arab Emirates",
          "Rep. of Korea",
          "Belgium",
          "Canada",
          "Peru",
          "Belgium",
          "Saudi Arabia",
          "Saudi Arabia",
          "Belgium",
          "Poland",
          "Ukraine",
          "United Rep. of Tanzania",
          "Brazil",
          "United Rep. of Tanzania",
          "Peru",
          "Burundi",
          "Bangladesh",
          "Australia",
          "United Arab Emirates",
          "Bulgaria",
          "Saudi Arabia",
          "Spain",
          "New Zealand",
          "Egypt",
          "Japan",
          "South Africa",
          "South Africa",
          "Sweden",
          "Sweden",
          "Jordan",
          "Netherlands",
          "Netherlands",
          "Kazakhstan",
          "Spain",
          "Lithuania",
          "Madagascar",
          "Malaysia",
          "Myanmar",
          "Mexico",
          "Montenegro",
          "Italy",
          "Italy",
          "Egypt",
          "France",
          "USA",
          "Thailand",
          "Turkey",
          "Oman",
          "Hungary",
          "France",
          "India",
          "Nigeria",
          "Other Asia, nes",
          "Iran",
          "Morocco",
          "Egypt",
          "Serbia",
          "Yemen",
          "Sri Lanka",
          "USA",
          "United Kingdom",
          "Viet Nam",
          "Turkey",
          "Slovakia",
          "Russian Federation",
          "Switzerland",
          "Thailand",
          "Saudi Arabia",
          "Sudan",
          "United Arab Emirates",
          "Malaysia",
          "Madagascar",
          "Guinea",
          "Indonesia",
          "Brazil",
          "Indonesia",
          "Bangladesh",
          "Nigeria",
          "Iran",
          "Belgium",
          "Austria",
          "New Zealand",
          "Iraq",
          "China",
          "Netherlands",
          "Myanmar",
          "Montenegro",
          "Japan",
          "Kiribati",
          "Canada",
          "China",
          "Other Asia, nes",
          "Canada",
          "Poland",
          "Portugal",
          "Germany",
          "Ecuador",
          "Argentina",
          "Germany",
          "Costa Rica",
          "Philippines",
          "Ethiopia",
          "Australia",
          "El Salvador",
          "Ecuador",
          "China",
          "Switzerland",
          "Turkey",
          "Chad",
          "Kenya",
          "Sri Lanka",
          "Egypt",
          "Japan",
          "Jordan",
          "USA",
          "Guatemala",
          "Thailand",
          "China",
          "Denmark",
          "France",
          "Germany",
          "Ukraine",
          "Indonesia",
          "Ukraine",
          "Costa Rica",
          "Ghana",
          "Ireland",
          "Indonesia",
          "Afghanistan",
          "Norway",
          "Bahrain",
          "Other Asia, nes",
          "Slovenia",
          "Uzbekistan",
          "Netherlands",
          "Paraguay",
          "Belgium",
          "Netherlands",
          "Sri Lanka",
          "Philippines",
          "Australia",
          "United Kingdom",
          "Poland",
          "Montenegro",
          "Brazil",
          "Mexico",
          "Saudi Arabia",
          "Malaysia",
          "Poland",
          "Turkmenistan",
          "Tunisia",
          "Singapore",
          "Russian Federation",
          "Eswatini",
          "Ukraine",
          "Cyprus",
          "Philippines",
          "Saudi Arabia",
          "Germany",
          "Philippines",
          "Uzbekistan",
          "Other Asia, nes",
          "Canada",
          "Thailand",
          "Sri Lanka",
          "Mali",
          "Jordan",
          "Chile",
          "China",
          "United Kingdom",
          "Belgium",
          "Ireland",
          "Italy",
          "Netherlands",
          "Indonesia",
          "China",
          "United Arab Emirates",
          "Egypt",
          "Cyprus",
          "Viet Nam",
          "United Arab Emirates",
          "Ukraine",
          "United Kingdom",
          "Bahamas",
          "Algeria",
          "Brazil",
          "Central African Rep.",
          "Egypt",
          "Afghanistan",
          "Belgium",
          "Bahrain",
          "Austria",
          "Turkey",
          "Saudi Arabia",
          "South Africa",
          "Netherlands",
          "Slovakia",
          "Norway",
          "Norway",
          "Malaysia",
          "Sri Lanka",
          "Sierra Leone",
          "Other Asia, nes",
          "Kuwait",
          "Japan",
          "Japan",
          "Philippines",
          "Iraq",
          "Iran",
          "New Zealand",
          "Philippines",
          "Indonesia",
          "Indonesia",
          "USA",
          "Germany",
          "France",
          "Thailand",
          "Germany",
          "Rwanda",
          "Poland",
          "Afghanistan",
          "Barbados",
          "Uruguay",
          "Albania",
          "Algeria",
          "Viet Nam",
          "Other Europe, nes",
          "Austria",
          "Australia",
          "Other Europe, nes",
          "Antigua and Barbuda",
          "Belarus",
          "Saudi Arabia",
          "Argentina",
          "Sierra Leone",
          "Egypt",
          "Morocco",
          "United Kingdom",
          "Estonia",
          "USA",
          "France",
          "Germany",
          "Ukraine",
          "Turkey",
          "Rep. of Korea",
          "Iran",
          "Colombia",
          "Thailand",
          "Italy",
          "New Zealand",
          "Switzerland",
          "Sri Lanka",
          "Canada",
          "Madagascar",
          "Malaysia",
          "Cameroon",
          "Brazil",
          "Mexico",
          "USA",
          "Brazil",
          "Morocco",
          "N. Mariana Isds",
          "Jordan",
          "Qatar",
          "Animal or vegetable fats and oils and their cleavage products; prepared animal fats; animal or vegetable waxes",
          "Animal originated products; not elsewhere specified or included",
          "Animals; live",
          "Cereals",
          "Coffee, tea, mate and spices",
          "Dairy produce; birds' eggs; natural honey; edible products of animal origin, not elsewhere specified or included",
          "Fish and crustaceans, molluscs and other aquatic invertebrates",
          "Fruit and nuts, edible; peel of citrus fruit or melons",
          "Lac; gums, resins and other vegetable saps and extracts",
          "Meat and edible meat offal",
          "Meat, fish or crustaceans, molluscs or other aquatic invertebrates; preparations thereof",
          "Oil seeds and oleaginous fruits; miscellaneous grains, seeds and fruit, industrial or medicinal plants; straw and fodder",
          "Preparations of cereals, flour, starch or milk; pastrycooks' products",
          "Preparations of vegetables, fruit, nuts or other parts of plants",
          "Products of the milling industry; malt, starches, inulin, wheat gluten",
          "Sugars and sugar confectionery",
          "Vegetables and certain roots and tubers; edible",
          "all"
         ],
         "marker": {
          "colors": [
           "#662C69",
           "#5F4737",
           "#99B7CF",
           "#662C69",
           "#99B7CF",
           "#EAAC55",
           "#5F4737",
           "#5F4737",
           "#807E5B",
           "#E95F85",
           "#3B768C",
           "#EAAC55",
           "#5F4737",
           "#5F4737",
           "#662C69",
           "#F3E18F",
           "#B5A6C8",
           "#8D8D8E",
           "#EAAC55",
           "#EAAC55",
           "#EBE5D9",
           "#C66562",
           "#5F4737",
           "#57633C",
           "#B6E880",
           "#57633C",
           "#F3E18F",
           "#B6E880",
           "#C66562",
           "#EBE5D9",
           "#EAAC55",
           "#57633C",
           "#EAAC55",
           "#EBE5D9",
           "#662C69",
           "#99B7CF",
           "#A3AAA5",
           "#F3E18F",
           "#EBE5D9",
           "#F3E18F",
           "#E95F85",
           "#807E5B",
           "#662C69",
           "#662C69",
           "#662C69",
           "#B6E880",
           "#8D8D8E",
           "#57633C",
           "#EAAC55",
           "#F3E18F",
           "#807E5B",
           "#807E5B",
           "#EAAC55",
           "#EBE5D9",
           "#F3E18F",
           "#F3E18F",
           "#B6E880",
           "#EBE5D9",
           "#F3E18F",
           "#B6E880",
           "#F3E18F",
           "#B5A6C8",
           "#3B768C",
           "#EBE5D9",
           "#C66562",
           "#8D8D8E",
           "#A3AAA5",
           "#7D7E7D",
           "#662C69",
           "#5F4737",
           "#EAAC55",
           "#662C69",
           "#7D7E7D",
           "#C66562",
           "#E95F85",
           "#E95F85",
           "#662C69",
           "#7D7E7D",
           "#662C69",
           "#57633C",
           "#F3E18F",
           "#8D8D8E",
           "#A3AAA5",
           "#7D7E7D",
           "#E95F85",
           "#57633C",
           "#C66562",
           "#E95F85",
           "#EAAC55",
           "#3B768C",
           "#807E5B",
           "#EAAC55",
           "#EBE5D9",
           "#57633C",
           "#EBE5D9",
           "#F3E18F",
           "#5F4737",
           "#8D8D8E",
           "#5F4737",
           "#E95F85",
           "#7D7E7D",
           "#F3E18F",
           "#F3E18F",
           "#C9938B",
           "#E95F85",
           "#EBE5D9",
           "#8D8D8E",
           "#B5A6C8",
           "#8D8D8E",
           "#E95F85",
           "#F3E18F",
           "#B5A6C8",
           "#807E5B",
           "#807E5B",
           "#EAAC55",
           "#C9938B",
           "#662C69",
           "#F3E18F",
           "#E95F85",
           "#662C69",
           "#C9938B",
           "#8D8D8E",
           "#3B768C",
           "#7D7E7D",
           "#F3E18F",
           "#EBE5D9",
           "#7D7E7D",
           "#99B7CF",
           "#E95F85",
           "#662C69",
           "#807E5B",
           "#7D7E7D",
           "#8D8D8E",
           "#C66562",
           "#7D7E7D",
           "#5F4737",
           "#3B768C",
           "#5F4737",
           "#C66562",
           "#B6E880",
           "#B6E880",
           "#662C69",
           "#B6E880",
           "#807E5B",
           "#EAAC55",
           "#E95F85",
           "#EAAC55",
           "#B5A6C8",
           "#B6E880",
           "#B6E880",
           "#EAAC55",
           "#B5A6C8",
           "#5F4737",
           "#EAAC55",
           "#EBE5D9",
           "#807E5B",
           "#F3E18F",
           "#8D8D8E",
           "#807E5B",
           "#E95F85",
           "#5F4737",
           "#B5A6C8",
           "#5F4737",
           "#C9938B",
           "#B5A6C8",
           "#F3E18F",
           "#662C69",
           "#5F4737",
           "#F3E18F",
           "#EBE5D9",
           "#662C69",
           "#E95F85",
           "#F3E18F",
           "#EAAC55",
           "#F3E18F",
           "#B5A6C8",
           "#E95F85",
           "#C9938B",
           "#99B7CF",
           "#99B7CF",
           "#8D8D8E",
           "#99B7CF",
           "#5F4737",
           "#662C69",
           "#E95F85",
           "#57633C",
           "#B5A6C8",
           "#E95F85",
           "#C66562",
           "#8D8D8E",
           "#B6E880",
           "#C66562",
           "#662C69",
           "#B6E880",
           "#57633C",
           "#F3E18F",
           "#B5A6C8",
           "#99B7CF",
           "#807E5B",
           "#5F4737",
           "#57633C",
           "#B6E880",
           "#8D8D8E",
           "#EAAC55",
           "#EAAC55",
           "#662C69",
           "#E95F85",
           "#F3E18F",
           "#C9938B",
           "#99B7CF",
           "#A3AAA5",
           "#C66562",
           "#EBE5D9",
           "#E95F85",
           "#5F4737",
           "#5F4737",
           "#57633C",
           "#EAAC55",
           "#A3AAA5",
           "#8D8D8E",
           "#7D7E7D",
           "#99B7CF",
           "#C9938B",
           "#807E5B",
           "#EAAC55",
           "#5F4737",
           "#5F4737",
           "#E95F85",
           "#E95F85",
           "#F3E18F",
           "#662C69",
           "#7D7E7D",
           "#B5A6C8",
           "#B5A6C8",
           "#F3E18F",
           "#EAAC55",
           "#807E5B",
           "#99B7CF",
           "#B5A6C8",
           "#662C69",
           "#EAAC55",
           "#E95F85",
           "#EBE5D9",
           "#99B7CF",
           "#F3E18F",
           "#99B7CF",
           "#B5A6C8",
           "#7D7E7D",
           "#EBE5D9",
           "#57633C",
           "#7D7E7D",
           "#99B7CF",
           "#7D7E7D",
           "#F3E18F",
           "#99B7CF",
           "#807E5B",
           "#F3E18F",
           "#C66562",
           "#57633C",
           "#7D7E7D",
           "#F3E18F",
           "#E95F85",
           "#B5A6C8",
           "#8D8D8E",
           "#EAAC55",
           "#5F4737",
           "#8D8D8E",
           "#F3E18F",
           "#807E5B",
           "#8D8D8E",
           "#99B7CF",
           "#8D8D8E",
           "#662C69",
           "#EBE5D9",
           "#C66562",
           "#662C69",
           "#F3E18F",
           "#57633C",
           "#5F4737",
           "#57633C",
           "#5F4737",
           "#5F4737",
           "#807E5B",
           "#F3E18F",
           "#F3E18F",
           "#57633C",
           "#EAAC55",
           "#57633C",
           "#E95F85",
           "#5F4737",
           "#C66562",
           "#99B7CF",
           "#5F4737",
           "#F3E18F",
           "#EBE5D9",
           "#99B7CF",
           "#662C69",
           "#807E5B",
           "#5F4737",
           "#A3AAA5",
           "#E95F85",
           "#E95F85",
           "#8D8D8E",
           "#5F4737",
           "#57633C",
           "#57633C",
           "#57633C",
           "#E95F85",
           "#EBE5D9",
           "#B6E880",
           "#B6E880",
           "#C66562",
           "#662C69",
           "#B5A6C8",
           "#EBE5D9",
           "#99B7CF",
           "#57633C",
           "#EAAC55",
           "#EBE5D9",
           "#B5A6C8",
           "#B6E880",
           "#EAAC55",
           "#E95F85",
           "#F3E18F",
           "#8D8D8E",
           "#EAAC55",
           "#E95F85",
           "#99B7CF",
           "#8D8D8E",
           "#C66562",
           "#C9938B",
           "#B5A6C8",
           "#662C69",
           "#C66562",
           "#E95F85",
           "#E95F85",
           "#807E5B",
           "#EAAC55",
           "#EAAC55",
           "#C66562",
           "#662C69",
           "#99B7CF",
           "#7D7E7D",
           "#B5A6C8",
           "#3B768C",
           "#99B7CF",
           "#99B7CF",
           "#5F4737",
           "#99B7CF",
           "#EBE5D9",
           "#C66562",
           "#E95F85",
           "#5F4737",
           "#C66562",
           "#3B768C",
           "#F3E18F",
           "#EAAC55",
           "#E95F85",
           "#B5A6C8",
           "#C66562",
           "#A3AAA5",
           "#C66562",
           "#B5A6C8",
           "#F3E18F",
           "#B5A6C8",
           "#B6E880",
           "#5F4737",
           "#5F4737",
           "#EBE5D9",
           "#8D8D8E",
           "#662C69",
           "#F3E18F",
           "#807E5B",
           "#C9938B",
           "#EBE5D9",
           "#7D7E7D",
           "#57633C",
           "#EBE5D9",
           "#99B7CF",
           "#57633C",
           "#662C69",
           "#F3E18F",
           "#F3E18F",
           "#F3E18F",
           "#F3E18F",
           "#EAAC55",
           "#B6E880",
           "#F3E18F",
           "#807E5B",
           "#7D7E7D",
           "#99B7CF",
           "#B6E880",
           "#EBE5D9",
           "#B6E880",
           "#5F4737",
           "#57633C",
           "#8D8D8E",
           "#B6E880",
           "#7D7E7D",
           "#662C69",
           "#57633C",
           "#E95F85",
           "#5F4737",
           "#F3E18F",
           "#662C69",
           "#57633C",
           "#EAAC55",
           "#B5A6C8",
           "#C9938B",
           "#C9938B",
           "#C9938B",
           "#B5A6C8",
           "#C66562",
           "#C9938B",
           "#99B7CF",
           "#EAAC55",
           "#E95F85",
           "#B5A6C8",
           "#C66562",
           "#5F4737",
           "#7D7E7D",
           "#99B7CF",
           "#F3E18F",
           "#99B7CF",
           "#57633C",
           "#F3E18F",
           "#C66562",
           "#B5A6C8",
           "#C66562",
           "#EBE5D9",
           "#662C69",
           "#C66562",
           "#EAAC55",
           "#662C69",
           "#807E5B",
           "#B6E880",
           "#F3E18F",
           "#B5A6C8",
           "#B5A6C8",
           "#E95F85",
           "#99B7CF",
           "#57633C",
           "#662C69",
           "#807E5B",
           "#5F4737",
           "#99B7CF",
           "#B6E880",
           "#C9938B",
           "#807E5B",
           "#99B7CF",
           "#EBE5D9",
           "#57633C",
           "#B5A6C8",
           "#A3AAA5",
           "#3B768C",
           "#B5A6C8",
           "#807E5B",
           "#3B768C",
           "#5F4737",
           "#807E5B",
           "#807E5B",
           "#F3E18F",
           "#B5A6C8",
           "#662C69",
           "#F3E18F",
           "#EBE5D9",
           "#99B7CF",
           "#662C69",
           "#807E5B",
           "#C66562",
           "#C66562",
           "#7D7E7D",
           "#C66562",
           "#57633C",
           "#EBE5D9",
           "#5F4737",
           "#57633C",
           "#662C69",
           "#F3E18F",
           "#5F4737",
           "#99B7CF",
           "#EAAC55",
           "#EBE5D9",
           "#F3E18F",
           "#F3E18F",
           "#5F4737",
           "#C66562",
           "#C66562",
           "#57633C",
           "#5F4737",
           "#F3E18F",
           "#E95F85",
           "#A3AAA5",
           "#F3E18F",
           "#C66562",
           "#B5A6C8",
           "#57633C",
           "#8D8D8E",
           "#F3E18F",
           "#807E5B",
           "#EAAC55",
           "#807E5B",
           "#5F4737",
           "#99B7CF",
           "#E95F85",
           "#99B7CF",
           "#7D7E7D",
           "#807E5B",
           "#57633C",
           "#5F4737",
           "#EBE5D9",
           "#5F4737",
           "#EAAC55",
           "#7D7E7D",
           "#A3AAA5",
           "#7D7E7D",
           "#5F4737",
           "#807E5B",
           "#662C69",
           "#F3E18F",
           "#57633C",
           "#57633C",
           "#F3E18F",
           "#B5A6C8",
           "#99B7CF",
           "#A3AAA5",
           "#99B7CF",
           "#99B7CF",
           "#662C69",
           "#57633C",
           "#662C69",
           "#C66562",
           "#C66562",
           "#EAAC55",
           "#662C69",
           "#F3E18F",
           "#7D7E7D",
           "#EAAC55",
           "#EAAC55",
           "#5F4737",
           "#662C69",
           "#E95F85",
           "#807E5B",
           "#8D8D8E",
           "#662C69",
           "#C9938B",
           "#E95F85",
           "#B5A6C8",
           "#EAAC55",
           "#B6E880",
           "#662C69",
           "#807E5B",
           "#B5A6C8",
           "#C66562",
           "#B6E880",
           "#5F4737",
           "#B5A6C8",
           "#662C69",
           "#EBE5D9",
           "#EBE5D9",
           "#EBE5D9",
           "#E95F85",
           "#F3E18F",
           "#B6E880",
           "#807E5B",
           "#7D7E7D",
           "#EAAC55",
           "#EAAC55",
           "#8D8D8E",
           "#F3E18F",
           "#EBE5D9",
           "#57633C",
           "#B5A6C8",
           "#F3E18F",
           "#EAAC55",
           "#807E5B",
           "#C66562",
           "#EAAC55",
           "#EBE5D9",
           "#5F4737",
           "#C9938B",
           "#F3E18F",
           "#807E5B",
           "#8D8D8E",
           "#EAAC55",
           "#A3AAA5",
           "#F3E18F",
           "#5F4737",
           "#57633C",
           "#5F4737",
           "#EAAC55",
           "#8D8D8E",
           "#B6E880",
           "#B5A6C8",
           "#7D7E7D",
           "#57633C",
           "#EAAC55",
           "#EBE5D9",
           "#C66562",
           "#B6E880",
           "#5F4737",
           "#57633C",
           "#EAAC55",
           "#C66562",
           "#B6E880",
           "#5F4737",
           "#E95F85",
           "#F3E18F",
           "#57633C",
           "#EAAC55",
           "#C9938B",
           "#EBE5D9",
           "#3B768C",
           "#5F4737",
           "#99B7CF",
           "#C9938B",
           "#E95F85",
           "#C66562",
           "#99B7CF",
           "#C66562",
           "#5F4737",
           "#F3E18F",
           "#C66562",
           "#7D7E7D",
           "#EBE5D9",
           "#EAAC55",
           "#57633C",
           "#807E5B",
           "#7D7E7D",
           "#C66562",
           "#3B768C",
           "#7D7E7D",
           "#B5A6C8",
           "#E95F85",
           "#B6E880",
           "#B6E880",
           "#EBE5D9",
           "#662C69",
           "#B5A6C8",
           "#8D8D8E",
           "#C66562",
           "#A3AAA5",
           "#F3E18F",
           "#57633C",
           "#B5A6C8",
           "#662C69",
           "#EAAC55",
           "#F3E18F",
           "#57633C",
           "#662C69",
           "#EAAC55",
           "#EAAC55",
           "#7D7E7D",
           "#807E5B",
           "#B6E880",
           "#5F4737",
           "#99B7CF",
           "#A3AAA5",
           "#C66562",
           "#B5A6C8",
           "#C9938B",
           "#3B768C",
           "#F3E18F",
           "#662C69",
           "#E95F85",
           "#8D8D8E",
           "#EBE5D9",
           "#57633C",
           "white"
          ],
          "line": {
           "color": "rgb(0,0,0)",
           "width": 0.1
          }
         },
         "name": "",
         "parents": [
          "all/Preparations of cereals, flour, starch or milk; pastrycooks' products",
          "all/Coffee, tea, mate and spices",
          "all/Dairy produce; birds' eggs; natural honey; edible products of animal origin, not elsewhere specified or included",
          "all/Preparations of cereals, flour, starch or milk; pastrycooks' products",
          "all/Dairy produce; birds' eggs; natural honey; edible products of animal origin, not elsewhere specified or included",
          "all/Animal or vegetable fats and oils and their cleavage products; prepared animal fats; animal or vegetable waxes",
          "all/Coffee, tea, mate and spices",
          "all/Coffee, tea, mate and spices",
          "all/Animals; live",
          "all/Preparations of vegetables, fruit, nuts or other parts of plants",
          "all/Meat, fish or crustaceans, molluscs or other aquatic invertebrates; preparations thereof",
          "all/Animal or vegetable fats and oils and their cleavage products; prepared animal fats; animal or vegetable waxes",
          "all/Coffee, tea, mate and spices",
          "all/Coffee, tea, mate and spices",
          "all/Preparations of cereals, flour, starch or milk; pastrycooks' products",
          "all/Oil seeds and oleaginous fruits; miscellaneous grains, seeds and fruit, industrial or medicinal plants; straw and fodder",
          "all/Lac; gums, resins and other vegetable saps and extracts",
          "all/Products of the milling industry; malt, starches, inulin, wheat gluten",
          "all/Animal or vegetable fats and oils and their cleavage products; prepared animal fats; animal or vegetable waxes",
          "all/Animal or vegetable fats and oils and their cleavage products; prepared animal fats; animal or vegetable waxes",
          "all/Sugars and sugar confectionery",
          "all/Fruit and nuts, edible; peel of citrus fruit or melons",
          "all/Coffee, tea, mate and spices",
          "all/Vegetables and certain roots and tubers; edible",
          "all/Cereals",
          "all/Vegetables and certain roots and tubers; edible",
          "all/Oil seeds and oleaginous fruits; miscellaneous grains, seeds and fruit, industrial or medicinal plants; straw and fodder",
          "all/Cereals",
          "all/Fruit and nuts, edible; peel of citrus fruit or melons",
          "all/Sugars and sugar confectionery",
          "all/Animal or vegetable fats and oils and their cleavage products; prepared animal fats; animal or vegetable waxes",
          "all/Vegetables and certain roots and tubers; edible",
          "all/Animal or vegetable fats and oils and their cleavage products; prepared animal fats; animal or vegetable waxes",
          "all/Sugars and sugar confectionery",
          "all/Preparations of cereals, flour, starch or milk; pastrycooks' products",
          "all/Dairy produce; birds' eggs; natural honey; edible products of animal origin, not elsewhere specified or included",
          "all/Fish and crustaceans, molluscs and other aquatic invertebrates",
          "all/Oil seeds and oleaginous fruits; miscellaneous grains, seeds and fruit, industrial or medicinal plants; straw and fodder",
          "all/Sugars and sugar confectionery",
          "all/Oil seeds and oleaginous fruits; miscellaneous grains, seeds and fruit, industrial or medicinal plants; straw and fodder",
          "all/Preparations of vegetables, fruit, nuts or other parts of plants",
          "all/Animals; live",
          "all/Preparations of cereals, flour, starch or milk; pastrycooks' products",
          "all/Preparations of cereals, flour, starch or milk; pastrycooks' products",
          "all/Preparations of cereals, flour, starch or milk; pastrycooks' products",
          "all/Cereals",
          "all/Products of the milling industry; malt, starches, inulin, wheat gluten",
          "all/Vegetables and certain roots and tubers; edible",
          "all/Animal or vegetable fats and oils and their cleavage products; prepared animal fats; animal or vegetable waxes",
          "all/Oil seeds and oleaginous fruits; miscellaneous grains, seeds and fruit, industrial or medicinal plants; straw and fodder",
          "all/Animals; live",
          "all/Animals; live",
          "all/Animal or vegetable fats and oils and their cleavage products; prepared animal fats; animal or vegetable waxes",
          "all/Sugars and sugar confectionery",
          "all/Oil seeds and oleaginous fruits; miscellaneous grains, seeds and fruit, industrial or medicinal plants; straw and fodder",
          "all/Oil seeds and oleaginous fruits; miscellaneous grains, seeds and fruit, industrial or medicinal plants; straw and fodder",
          "all/Cereals",
          "all/Sugars and sugar confectionery",
          "all/Oil seeds and oleaginous fruits; miscellaneous grains, seeds and fruit, industrial or medicinal plants; straw and fodder",
          "all/Cereals",
          "all/Oil seeds and oleaginous fruits; miscellaneous grains, seeds and fruit, industrial or medicinal plants; straw and fodder",
          "all/Lac; gums, resins and other vegetable saps and extracts",
          "all/Meat, fish or crustaceans, molluscs or other aquatic invertebrates; preparations thereof",
          "all/Sugars and sugar confectionery",
          "all/Fruit and nuts, edible; peel of citrus fruit or melons",
          "all/Products of the milling industry; malt, starches, inulin, wheat gluten",
          "all/Fish and crustaceans, molluscs and other aquatic invertebrates",
          "all/Animal originated products; not elsewhere specified or included",
          "all/Preparations of cereals, flour, starch or milk; pastrycooks' products",
          "all/Coffee, tea, mate and spices",
          "all/Animal or vegetable fats and oils and their cleavage products; prepared animal fats; animal or vegetable waxes",
          "all/Preparations of cereals, flour, starch or milk; pastrycooks' products",
          "all/Animal originated products; not elsewhere specified or included",
          "all/Fruit and nuts, edible; peel of citrus fruit or melons",
          "all/Preparations of vegetables, fruit, nuts or other parts of plants",
          "all/Preparations of vegetables, fruit, nuts or other parts of plants",
          "all/Preparations of cereals, flour, starch or milk; pastrycooks' products",
          "all/Animal originated products; not elsewhere specified or included",
          "all/Preparations of cereals, flour, starch or milk; pastrycooks' products",
          "all/Vegetables and certain roots and tubers; edible",
          "all/Oil seeds and oleaginous fruits; miscellaneous grains, seeds and fruit, industrial or medicinal plants; straw and fodder",
          "all/Products of the milling industry; malt, starches, inulin, wheat gluten",
          "all/Fish and crustaceans, molluscs and other aquatic invertebrates",
          "all/Animal originated products; not elsewhere specified or included",
          "all/Preparations of vegetables, fruit, nuts or other parts of plants",
          "all/Vegetables and certain roots and tubers; edible",
          "all/Fruit and nuts, edible; peel of citrus fruit or melons",
          "all/Preparations of vegetables, fruit, nuts or other parts of plants",
          "all/Animal or vegetable fats and oils and their cleavage products; prepared animal fats; animal or vegetable waxes",
          "all/Meat, fish or crustaceans, molluscs or other aquatic invertebrates; preparations thereof",
          "all/Animals; live",
          "all/Animal or vegetable fats and oils and their cleavage products; prepared animal fats; animal or vegetable waxes",
          "all/Sugars and sugar confectionery",
          "all/Vegetables and certain roots and tubers; edible",
          "all/Sugars and sugar confectionery",
          "all/Oil seeds and oleaginous fruits; miscellaneous grains, seeds and fruit, industrial or medicinal plants; straw and fodder",
          "all/Coffee, tea, mate and spices",
          "all/Products of the milling industry; malt, starches, inulin, wheat gluten",
          "all/Coffee, tea, mate and spices",
          "all/Preparations of vegetables, fruit, nuts or other parts of plants",
          "all/Animal originated products; not elsewhere specified or included",
          "all/Oil seeds and oleaginous fruits; miscellaneous grains, seeds and fruit, industrial or medicinal plants; straw and fodder",
          "all/Oil seeds and oleaginous fruits; miscellaneous grains, seeds and fruit, industrial or medicinal plants; straw and fodder",
          "all/Meat and edible meat offal",
          "all/Preparations of vegetables, fruit, nuts or other parts of plants",
          "all/Sugars and sugar confectionery",
          "all/Products of the milling industry; malt, starches, inulin, wheat gluten",
          "all/Lac; gums, resins and other vegetable saps and extracts",
          "all/Products of the milling industry; malt, starches, inulin, wheat gluten",
          "all/Preparations of vegetables, fruit, nuts or other parts of plants",
          "all/Oil seeds and oleaginous fruits; miscellaneous grains, seeds and fruit, industrial or medicinal plants; straw and fodder",
          "all/Lac; gums, resins and other vegetable saps and extracts",
          "all/Animals; live",
          "all/Animals; live",
          "all/Animal or vegetable fats and oils and their cleavage products; prepared animal fats; animal or vegetable waxes",
          "all/Meat and edible meat offal",
          "all/Preparations of cereals, flour, starch or milk; pastrycooks' products",
          "all/Oil seeds and oleaginous fruits; miscellaneous grains, seeds and fruit, industrial or medicinal plants; straw and fodder",
          "all/Preparations of vegetables, fruit, nuts or other parts of plants",
          "all/Preparations of cereals, flour, starch or milk; pastrycooks' products",
          "all/Meat and edible meat offal",
          "all/Products of the milling industry; malt, starches, inulin, wheat gluten",
          "all/Meat, fish or crustaceans, molluscs or other aquatic invertebrates; preparations thereof",
          "all/Animal originated products; not elsewhere specified or included",
          "all/Oil seeds and oleaginous fruits; miscellaneous grains, seeds and fruit, industrial or medicinal plants; straw and fodder",
          "all/Sugars and sugar confectionery",
          "all/Animal originated products; not elsewhere specified or included",
          "all/Dairy produce; birds' eggs; natural honey; edible products of animal origin, not elsewhere specified or included",
          "all/Preparations of vegetables, fruit, nuts or other parts of plants",
          "all/Preparations of cereals, flour, starch or milk; pastrycooks' products",
          "all/Animals; live",
          "all/Animal originated products; not elsewhere specified or included",
          "all/Products of the milling industry; malt, starches, inulin, wheat gluten",
          "all/Fruit and nuts, edible; peel of citrus fruit or melons",
          "all/Animal originated products; not elsewhere specified or included",
          "all/Coffee, tea, mate and spices",
          "all/Meat, fish or crustaceans, molluscs or other aquatic invertebrates; preparations thereof",
          "all/Coffee, tea, mate and spices",
          "all/Fruit and nuts, edible; peel of citrus fruit or melons",
          "all/Cereals",
          "all/Cereals",
          "all/Preparations of cereals, flour, starch or milk; pastrycooks' products",
          "all/Cereals",
          "all/Animals; live",
          "all/Animal or vegetable fats and oils and their cleavage products; prepared animal fats; animal or vegetable waxes",
          "all/Preparations of vegetables, fruit, nuts or other parts of plants",
          "all/Animal or vegetable fats and oils and their cleavage products; prepared animal fats; animal or vegetable waxes",
          "all/Lac; gums, resins and other vegetable saps and extracts",
          "all/Cereals",
          "all/Cereals",
          "all/Animal or vegetable fats and oils and their cleavage products; prepared animal fats; animal or vegetable waxes",
          "all/Lac; gums, resins and other vegetable saps and extracts",
          "all/Coffee, tea, mate and spices",
          "all/Animal or vegetable fats and oils and their cleavage products; prepared animal fats; animal or vegetable waxes",
          "all/Sugars and sugar confectionery",
          "all/Animals; live",
          "all/Oil seeds and oleaginous fruits; miscellaneous grains, seeds and fruit, industrial or medicinal plants; straw and fodder",
          "all/Products of the milling industry; malt, starches, inulin, wheat gluten",
          "all/Animals; live",
          "all/Preparations of vegetables, fruit, nuts or other parts of plants",
          "all/Coffee, tea, mate and spices",
          "all/Lac; gums, resins and other vegetable saps and extracts",
          "all/Coffee, tea, mate and spices",
          "all/Meat and edible meat offal",
          "all/Lac; gums, resins and other vegetable saps and extracts",
          "all/Oil seeds and oleaginous fruits; miscellaneous grains, seeds and fruit, industrial or medicinal plants; straw and fodder",
          "all/Preparations of cereals, flour, starch or milk; pastrycooks' products",
          "all/Coffee, tea, mate and spices",
          "all/Oil seeds and oleaginous fruits; miscellaneous grains, seeds and fruit, industrial or medicinal plants; straw and fodder",
          "all/Sugars and sugar confectionery",
          "all/Preparations of cereals, flour, starch or milk; pastrycooks' products",
          "all/Preparations of vegetables, fruit, nuts or other parts of plants",
          "all/Oil seeds and oleaginous fruits; miscellaneous grains, seeds and fruit, industrial or medicinal plants; straw and fodder",
          "all/Animal or vegetable fats and oils and their cleavage products; prepared animal fats; animal or vegetable waxes",
          "all/Oil seeds and oleaginous fruits; miscellaneous grains, seeds and fruit, industrial or medicinal plants; straw and fodder",
          "all/Lac; gums, resins and other vegetable saps and extracts",
          "all/Preparations of vegetables, fruit, nuts or other parts of plants",
          "all/Meat and edible meat offal",
          "all/Dairy produce; birds' eggs; natural honey; edible products of animal origin, not elsewhere specified or included",
          "all/Dairy produce; birds' eggs; natural honey; edible products of animal origin, not elsewhere specified or included",
          "all/Products of the milling industry; malt, starches, inulin, wheat gluten",
          "all/Dairy produce; birds' eggs; natural honey; edible products of animal origin, not elsewhere specified or included",
          "all/Coffee, tea, mate and spices",
          "all/Preparations of cereals, flour, starch or milk; pastrycooks' products",
          "all/Preparations of vegetables, fruit, nuts or other parts of plants",
          "all/Vegetables and certain roots and tubers; edible",
          "all/Lac; gums, resins and other vegetable saps and extracts",
          "all/Preparations of vegetables, fruit, nuts or other parts of plants",
          "all/Fruit and nuts, edible; peel of citrus fruit or melons",
          "all/Products of the milling industry; malt, starches, inulin, wheat gluten",
          "all/Cereals",
          "all/Fruit and nuts, edible; peel of citrus fruit or melons",
          "all/Preparations of cereals, flour, starch or milk; pastrycooks' products",
          "all/Cereals",
          "all/Vegetables and certain roots and tubers; edible",
          "all/Oil seeds and oleaginous fruits; miscellaneous grains, seeds and fruit, industrial or medicinal plants; straw and fodder",
          "all/Lac; gums, resins and other vegetable saps and extracts",
          "all/Dairy produce; birds' eggs; natural honey; edible products of animal origin, not elsewhere specified or included",
          "all/Animals; live",
          "all/Coffee, tea, mate and spices",
          "all/Vegetables and certain roots and tubers; edible",
          "all/Cereals",
          "all/Products of the milling industry; malt, starches, inulin, wheat gluten",
          "all/Animal or vegetable fats and oils and their cleavage products; prepared animal fats; animal or vegetable waxes",
          "all/Animal or vegetable fats and oils and their cleavage products; prepared animal fats; animal or vegetable waxes",
          "all/Preparations of cereals, flour, starch or milk; pastrycooks' products",
          "all/Preparations of vegetables, fruit, nuts or other parts of plants",
          "all/Oil seeds and oleaginous fruits; miscellaneous grains, seeds and fruit, industrial or medicinal plants; straw and fodder",
          "all/Meat and edible meat offal",
          "all/Dairy produce; birds' eggs; natural honey; edible products of animal origin, not elsewhere specified or included",
          "all/Fish and crustaceans, molluscs and other aquatic invertebrates",
          "all/Fruit and nuts, edible; peel of citrus fruit or melons",
          "all/Sugars and sugar confectionery",
          "all/Preparations of vegetables, fruit, nuts or other parts of plants",
          "all/Coffee, tea, mate and spices",
          "all/Coffee, tea, mate and spices",
          "all/Vegetables and certain roots and tubers; edible",
          "all/Animal or vegetable fats and oils and their cleavage products; prepared animal fats; animal or vegetable waxes",
          "all/Fish and crustaceans, molluscs and other aquatic invertebrates",
          "all/Products of the milling industry; malt, starches, inulin, wheat gluten",
          "all/Animal originated products; not elsewhere specified or included",
          "all/Dairy produce; birds' eggs; natural honey; edible products of animal origin, not elsewhere specified or included",
          "all/Meat and edible meat offal",
          "all/Animals; live",
          "all/Animal or vegetable fats and oils and their cleavage products; prepared animal fats; animal or vegetable waxes",
          "all/Coffee, tea, mate and spices",
          "all/Coffee, tea, mate and spices",
          "all/Preparations of vegetables, fruit, nuts or other parts of plants",
          "all/Preparations of vegetables, fruit, nuts or other parts of plants",
          "all/Oil seeds and oleaginous fruits; miscellaneous grains, seeds and fruit, industrial or medicinal plants; straw and fodder",
          "all/Preparations of cereals, flour, starch or milk; pastrycooks' products",
          "all/Animal originated products; not elsewhere specified or included",
          "all/Lac; gums, resins and other vegetable saps and extracts",
          "all/Lac; gums, resins and other vegetable saps and extracts",
          "all/Oil seeds and oleaginous fruits; miscellaneous grains, seeds and fruit, industrial or medicinal plants; straw and fodder",
          "all/Animal or vegetable fats and oils and their cleavage products; prepared animal fats; animal or vegetable waxes",
          "all/Animals; live",
          "all/Dairy produce; birds' eggs; natural honey; edible products of animal origin, not elsewhere specified or included",
          "all/Lac; gums, resins and other vegetable saps and extracts",
          "all/Preparations of cereals, flour, starch or milk; pastrycooks' products",
          "all/Animal or vegetable fats and oils and their cleavage products; prepared animal fats; animal or vegetable waxes",
          "all/Preparations of vegetables, fruit, nuts or other parts of plants",
          "all/Sugars and sugar confectionery",
          "all/Dairy produce; birds' eggs; natural honey; edible products of animal origin, not elsewhere specified or included",
          "all/Oil seeds and oleaginous fruits; miscellaneous grains, seeds and fruit, industrial or medicinal plants; straw and fodder",
          "all/Dairy produce; birds' eggs; natural honey; edible products of animal origin, not elsewhere specified or included",
          "all/Lac; gums, resins and other vegetable saps and extracts",
          "all/Animal originated products; not elsewhere specified or included",
          "all/Sugars and sugar confectionery",
          "all/Vegetables and certain roots and tubers; edible",
          "all/Animal originated products; not elsewhere specified or included",
          "all/Dairy produce; birds' eggs; natural honey; edible products of animal origin, not elsewhere specified or included",
          "all/Animal originated products; not elsewhere specified or included",
          "all/Oil seeds and oleaginous fruits; miscellaneous grains, seeds and fruit, industrial or medicinal plants; straw and fodder",
          "all/Dairy produce; birds' eggs; natural honey; edible products of animal origin, not elsewhere specified or included",
          "all/Animals; live",
          "all/Oil seeds and oleaginous fruits; miscellaneous grains, seeds and fruit, industrial or medicinal plants; straw and fodder",
          "all/Fruit and nuts, edible; peel of citrus fruit or melons",
          "all/Vegetables and certain roots and tubers; edible",
          "all/Animal originated products; not elsewhere specified or included",
          "all/Oil seeds and oleaginous fruits; miscellaneous grains, seeds and fruit, industrial or medicinal plants; straw and fodder",
          "all/Preparations of vegetables, fruit, nuts or other parts of plants",
          "all/Lac; gums, resins and other vegetable saps and extracts",
          "all/Products of the milling industry; malt, starches, inulin, wheat gluten",
          "all/Animal or vegetable fats and oils and their cleavage products; prepared animal fats; animal or vegetable waxes",
          "all/Coffee, tea, mate and spices",
          "all/Products of the milling industry; malt, starches, inulin, wheat gluten",
          "all/Oil seeds and oleaginous fruits; miscellaneous grains, seeds and fruit, industrial or medicinal plants; straw and fodder",
          "all/Animals; live",
          "all/Products of the milling industry; malt, starches, inulin, wheat gluten",
          "all/Dairy produce; birds' eggs; natural honey; edible products of animal origin, not elsewhere specified or included",
          "all/Products of the milling industry; malt, starches, inulin, wheat gluten",
          "all/Preparations of cereals, flour, starch or milk; pastrycooks' products",
          "all/Sugars and sugar confectionery",
          "all/Fruit and nuts, edible; peel of citrus fruit or melons",
          "all/Preparations of cereals, flour, starch or milk; pastrycooks' products",
          "all/Oil seeds and oleaginous fruits; miscellaneous grains, seeds and fruit, industrial or medicinal plants; straw and fodder",
          "all/Vegetables and certain roots and tubers; edible",
          "all/Coffee, tea, mate and spices",
          "all/Vegetables and certain roots and tubers; edible",
          "all/Coffee, tea, mate and spices",
          "all/Coffee, tea, mate and spices",
          "all/Animals; live",
          "all/Oil seeds and oleaginous fruits; miscellaneous grains, seeds and fruit, industrial or medicinal plants; straw and fodder",
          "all/Oil seeds and oleaginous fruits; miscellaneous grains, seeds and fruit, industrial or medicinal plants; straw and fodder",
          "all/Vegetables and certain roots and tubers; edible",
          "all/Animal or vegetable fats and oils and their cleavage products; prepared animal fats; animal or vegetable waxes",
          "all/Vegetables and certain roots and tubers; edible",
          "all/Preparations of vegetables, fruit, nuts or other parts of plants",
          "all/Coffee, tea, mate and spices",
          "all/Fruit and nuts, edible; peel of citrus fruit or melons",
          "all/Dairy produce; birds' eggs; natural honey; edible products of animal origin, not elsewhere specified or included",
          "all/Coffee, tea, mate and spices",
          "all/Oil seeds and oleaginous fruits; miscellaneous grains, seeds and fruit, industrial or medicinal plants; straw and fodder",
          "all/Sugars and sugar confectionery",
          "all/Dairy produce; birds' eggs; natural honey; edible products of animal origin, not elsewhere specified or included",
          "all/Preparations of cereals, flour, starch or milk; pastrycooks' products",
          "all/Animals; live",
          "all/Coffee, tea, mate and spices",
          "all/Fish and crustaceans, molluscs and other aquatic invertebrates",
          "all/Preparations of vegetables, fruit, nuts or other parts of plants",
          "all/Preparations of vegetables, fruit, nuts or other parts of plants",
          "all/Products of the milling industry; malt, starches, inulin, wheat gluten",
          "all/Coffee, tea, mate and spices",
          "all/Vegetables and certain roots and tubers; edible",
          "all/Vegetables and certain roots and tubers; edible",
          "all/Vegetables and certain roots and tubers; edible",
          "all/Preparations of vegetables, fruit, nuts or other parts of plants",
          "all/Sugars and sugar confectionery",
          "all/Cereals",
          "all/Cereals",
          "all/Fruit and nuts, edible; peel of citrus fruit or melons",
          "all/Preparations of cereals, flour, starch or milk; pastrycooks' products",
          "all/Lac; gums, resins and other vegetable saps and extracts",
          "all/Sugars and sugar confectionery",
          "all/Dairy produce; birds' eggs; natural honey; edible products of animal origin, not elsewhere specified or included",
          "all/Vegetables and certain roots and tubers; edible",
          "all/Animal or vegetable fats and oils and their cleavage products; prepared animal fats; animal or vegetable waxes",
          "all/Sugars and sugar confectionery",
          "all/Lac; gums, resins and other vegetable saps and extracts",
          "all/Cereals",
          "all/Animal or vegetable fats and oils and their cleavage products; prepared animal fats; animal or vegetable waxes",
          "all/Preparations of vegetables, fruit, nuts or other parts of plants",
          "all/Oil seeds and oleaginous fruits; miscellaneous grains, seeds and fruit, industrial or medicinal plants; straw and fodder",
          "all/Products of the milling industry; malt, starches, inulin, wheat gluten",
          "all/Animal or vegetable fats and oils and their cleavage products; prepared animal fats; animal or vegetable waxes",
          "all/Preparations of vegetables, fruit, nuts or other parts of plants",
          "all/Dairy produce; birds' eggs; natural honey; edible products of animal origin, not elsewhere specified or included",
          "all/Products of the milling industry; malt, starches, inulin, wheat gluten",
          "all/Fruit and nuts, edible; peel of citrus fruit or melons",
          "all/Meat and edible meat offal",
          "all/Lac; gums, resins and other vegetable saps and extracts",
          "all/Preparations of cereals, flour, starch or milk; pastrycooks' products",
          "all/Fruit and nuts, edible; peel of citrus fruit or melons",
          "all/Preparations of vegetables, fruit, nuts or other parts of plants",
          "all/Preparations of vegetables, fruit, nuts or other parts of plants",
          "all/Animals; live",
          "all/Animal or vegetable fats and oils and their cleavage products; prepared animal fats; animal or vegetable waxes",
          "all/Animal or vegetable fats and oils and their cleavage products; prepared animal fats; animal or vegetable waxes",
          "all/Fruit and nuts, edible; peel of citrus fruit or melons",
          "all/Preparations of cereals, flour, starch or milk; pastrycooks' products",
          "all/Dairy produce; birds' eggs; natural honey; edible products of animal origin, not elsewhere specified or included",
          "all/Animal originated products; not elsewhere specified or included",
          "all/Lac; gums, resins and other vegetable saps and extracts",
          "all/Meat, fish or crustaceans, molluscs or other aquatic invertebrates; preparations thereof",
          "all/Dairy produce; birds' eggs; natural honey; edible products of animal origin, not elsewhere specified or included",
          "all/Dairy produce; birds' eggs; natural honey; edible products of animal origin, not elsewhere specified or included",
          "all/Coffee, tea, mate and spices",
          "all/Dairy produce; birds' eggs; natural honey; edible products of animal origin, not elsewhere specified or included",
          "all/Sugars and sugar confectionery",
          "all/Fruit and nuts, edible; peel of citrus fruit or melons",
          "all/Preparations of vegetables, fruit, nuts or other parts of plants",
          "all/Coffee, tea, mate and spices",
          "all/Fruit and nuts, edible; peel of citrus fruit or melons",
          "all/Meat, fish or crustaceans, molluscs or other aquatic invertebrates; preparations thereof",
          "all/Oil seeds and oleaginous fruits; miscellaneous grains, seeds and fruit, industrial or medicinal plants; straw and fodder",
          "all/Animal or vegetable fats and oils and their cleavage products; prepared animal fats; animal or vegetable waxes",
          "all/Preparations of vegetables, fruit, nuts or other parts of plants",
          "all/Lac; gums, resins and other vegetable saps and extracts",
          "all/Fruit and nuts, edible; peel of citrus fruit or melons",
          "all/Fish and crustaceans, molluscs and other aquatic invertebrates",
          "all/Fruit and nuts, edible; peel of citrus fruit or melons",
          "all/Lac; gums, resins and other vegetable saps and extracts",
          "all/Oil seeds and oleaginous fruits; miscellaneous grains, seeds and fruit, industrial or medicinal plants; straw and fodder",
          "all/Lac; gums, resins and other vegetable saps and extracts",
          "all/Cereals",
          "all/Coffee, tea, mate and spices",
          "all/Coffee, tea, mate and spices",
          "all/Sugars and sugar confectionery",
          "all/Products of the milling industry; malt, starches, inulin, wheat gluten",
          "all/Preparations of cereals, flour, starch or milk; pastrycooks' products",
          "all/Oil seeds and oleaginous fruits; miscellaneous grains, seeds and fruit, industrial or medicinal plants; straw and fodder",
          "all/Animals; live",
          "all/Meat and edible meat offal",
          "all/Sugars and sugar confectionery",
          "all/Animal originated products; not elsewhere specified or included",
          "all/Vegetables and certain roots and tubers; edible",
          "all/Sugars and sugar confectionery",
          "all/Dairy produce; birds' eggs; natural honey; edible products of animal origin, not elsewhere specified or included",
          "all/Vegetables and certain roots and tubers; edible",
          "all/Preparations of cereals, flour, starch or milk; pastrycooks' products",
          "all/Oil seeds and oleaginous fruits; miscellaneous grains, seeds and fruit, industrial or medicinal plants; straw and fodder",
          "all/Oil seeds and oleaginous fruits; miscellaneous grains, seeds and fruit, industrial or medicinal plants; straw and fodder",
          "all/Oil seeds and oleaginous fruits; miscellaneous grains, seeds and fruit, industrial or medicinal plants; straw and fodder",
          "all/Oil seeds and oleaginous fruits; miscellaneous grains, seeds and fruit, industrial or medicinal plants; straw and fodder",
          "all/Animal or vegetable fats and oils and their cleavage products; prepared animal fats; animal or vegetable waxes",
          "all/Cereals",
          "all/Oil seeds and oleaginous fruits; miscellaneous grains, seeds and fruit, industrial or medicinal plants; straw and fodder",
          "all/Animals; live",
          "all/Animal originated products; not elsewhere specified or included",
          "all/Dairy produce; birds' eggs; natural honey; edible products of animal origin, not elsewhere specified or included",
          "all/Cereals",
          "all/Sugars and sugar confectionery",
          "all/Cereals",
          "all/Coffee, tea, mate and spices",
          "all/Vegetables and certain roots and tubers; edible",
          "all/Products of the milling industry; malt, starches, inulin, wheat gluten",
          "all/Cereals",
          "all/Animal originated products; not elsewhere specified or included",
          "all/Preparations of cereals, flour, starch or milk; pastrycooks' products",
          "all/Vegetables and certain roots and tubers; edible",
          "all/Preparations of vegetables, fruit, nuts or other parts of plants",
          "all/Coffee, tea, mate and spices",
          "all/Oil seeds and oleaginous fruits; miscellaneous grains, seeds and fruit, industrial or medicinal plants; straw and fodder",
          "all/Preparations of cereals, flour, starch or milk; pastrycooks' products",
          "all/Vegetables and certain roots and tubers; edible",
          "all/Animal or vegetable fats and oils and their cleavage products; prepared animal fats; animal or vegetable waxes",
          "all/Lac; gums, resins and other vegetable saps and extracts",
          "all/Meat and edible meat offal",
          "all/Meat and edible meat offal",
          "all/Meat and edible meat offal",
          "all/Lac; gums, resins and other vegetable saps and extracts",
          "all/Fruit and nuts, edible; peel of citrus fruit or melons",
          "all/Meat and edible meat offal",
          "all/Dairy produce; birds' eggs; natural honey; edible products of animal origin, not elsewhere specified or included",
          "all/Animal or vegetable fats and oils and their cleavage products; prepared animal fats; animal or vegetable waxes",
          "all/Preparations of vegetables, fruit, nuts or other parts of plants",
          "all/Lac; gums, resins and other vegetable saps and extracts",
          "all/Fruit and nuts, edible; peel of citrus fruit or melons",
          "all/Coffee, tea, mate and spices",
          "all/Animal originated products; not elsewhere specified or included",
          "all/Dairy produce; birds' eggs; natural honey; edible products of animal origin, not elsewhere specified or included",
          "all/Oil seeds and oleaginous fruits; miscellaneous grains, seeds and fruit, industrial or medicinal plants; straw and fodder",
          "all/Dairy produce; birds' eggs; natural honey; edible products of animal origin, not elsewhere specified or included",
          "all/Vegetables and certain roots and tubers; edible",
          "all/Oil seeds and oleaginous fruits; miscellaneous grains, seeds and fruit, industrial or medicinal plants; straw and fodder",
          "all/Fruit and nuts, edible; peel of citrus fruit or melons",
          "all/Lac; gums, resins and other vegetable saps and extracts",
          "all/Fruit and nuts, edible; peel of citrus fruit or melons",
          "all/Sugars and sugar confectionery",
          "all/Preparations of cereals, flour, starch or milk; pastrycooks' products",
          "all/Fruit and nuts, edible; peel of citrus fruit or melons",
          "all/Animal or vegetable fats and oils and their cleavage products; prepared animal fats; animal or vegetable waxes",
          "all/Preparations of cereals, flour, starch or milk; pastrycooks' products",
          "all/Animals; live",
          "all/Cereals",
          "all/Oil seeds and oleaginous fruits; miscellaneous grains, seeds and fruit, industrial or medicinal plants; straw and fodder",
          "all/Lac; gums, resins and other vegetable saps and extracts",
          "all/Lac; gums, resins and other vegetable saps and extracts",
          "all/Preparations of vegetables, fruit, nuts or other parts of plants",
          "all/Dairy produce; birds' eggs; natural honey; edible products of animal origin, not elsewhere specified or included",
          "all/Vegetables and certain roots and tubers; edible",
          "all/Preparations of cereals, flour, starch or milk; pastrycooks' products",
          "all/Animals; live",
          "all/Coffee, tea, mate and spices",
          "all/Dairy produce; birds' eggs; natural honey; edible products of animal origin, not elsewhere specified or included",
          "all/Cereals",
          "all/Meat and edible meat offal",
          "all/Animals; live",
          "all/Dairy produce; birds' eggs; natural honey; edible products of animal origin, not elsewhere specified or included",
          "all/Sugars and sugar confectionery",
          "all/Vegetables and certain roots and tubers; edible",
          "all/Lac; gums, resins and other vegetable saps and extracts",
          "all/Fish and crustaceans, molluscs and other aquatic invertebrates",
          "all/Meat, fish or crustaceans, molluscs or other aquatic invertebrates; preparations thereof",
          "all/Lac; gums, resins and other vegetable saps and extracts",
          "all/Animals; live",
          "all/Meat, fish or crustaceans, molluscs or other aquatic invertebrates; preparations thereof",
          "all/Coffee, tea, mate and spices",
          "all/Animals; live",
          "all/Animals; live",
          "all/Oil seeds and oleaginous fruits; miscellaneous grains, seeds and fruit, industrial or medicinal plants; straw and fodder",
          "all/Lac; gums, resins and other vegetable saps and extracts",
          "all/Preparations of cereals, flour, starch or milk; pastrycooks' products",
          "all/Oil seeds and oleaginous fruits; miscellaneous grains, seeds and fruit, industrial or medicinal plants; straw and fodder",
          "all/Sugars and sugar confectionery",
          "all/Dairy produce; birds' eggs; natural honey; edible products of animal origin, not elsewhere specified or included",
          "all/Preparations of cereals, flour, starch or milk; pastrycooks' products",
          "all/Animals; live",
          "all/Fruit and nuts, edible; peel of citrus fruit or melons",
          "all/Fruit and nuts, edible; peel of citrus fruit or melons",
          "all/Animal originated products; not elsewhere specified or included",
          "all/Fruit and nuts, edible; peel of citrus fruit or melons",
          "all/Vegetables and certain roots and tubers; edible",
          "all/Sugars and sugar confectionery",
          "all/Coffee, tea, mate and spices",
          "all/Vegetables and certain roots and tubers; edible",
          "all/Preparations of cereals, flour, starch or milk; pastrycooks' products",
          "all/Oil seeds and oleaginous fruits; miscellaneous grains, seeds and fruit, industrial or medicinal plants; straw and fodder",
          "all/Coffee, tea, mate and spices",
          "all/Dairy produce; birds' eggs; natural honey; edible products of animal origin, not elsewhere specified or included",
          "all/Animal or vegetable fats and oils and their cleavage products; prepared animal fats; animal or vegetable waxes",
          "all/Sugars and sugar confectionery",
          "all/Oil seeds and oleaginous fruits; miscellaneous grains, seeds and fruit, industrial or medicinal plants; straw and fodder",
          "all/Oil seeds and oleaginous fruits; miscellaneous grains, seeds and fruit, industrial or medicinal plants; straw and fodder",
          "all/Coffee, tea, mate and spices",
          "all/Fruit and nuts, edible; peel of citrus fruit or melons",
          "all/Fruit and nuts, edible; peel of citrus fruit or melons",
          "all/Vegetables and certain roots and tubers; edible",
          "all/Coffee, tea, mate and spices",
          "all/Oil seeds and oleaginous fruits; miscellaneous grains, seeds and fruit, industrial or medicinal plants; straw and fodder",
          "all/Preparations of vegetables, fruit, nuts or other parts of plants",
          "all/Fish and crustaceans, molluscs and other aquatic invertebrates",
          "all/Oil seeds and oleaginous fruits; miscellaneous grains, seeds and fruit, industrial or medicinal plants; straw and fodder",
          "all/Fruit and nuts, edible; peel of citrus fruit or melons",
          "all/Lac; gums, resins and other vegetable saps and extracts",
          "all/Vegetables and certain roots and tubers; edible",
          "all/Products of the milling industry; malt, starches, inulin, wheat gluten",
          "all/Oil seeds and oleaginous fruits; miscellaneous grains, seeds and fruit, industrial or medicinal plants; straw and fodder",
          "all/Animals; live",
          "all/Animal or vegetable fats and oils and their cleavage products; prepared animal fats; animal or vegetable waxes",
          "all/Animals; live",
          "all/Coffee, tea, mate and spices",
          "all/Dairy produce; birds' eggs; natural honey; edible products of animal origin, not elsewhere specified or included",
          "all/Preparations of vegetables, fruit, nuts or other parts of plants",
          "all/Dairy produce; birds' eggs; natural honey; edible products of animal origin, not elsewhere specified or included",
          "all/Animal originated products; not elsewhere specified or included",
          "all/Animals; live",
          "all/Vegetables and certain roots and tubers; edible",
          "all/Coffee, tea, mate and spices",
          "all/Sugars and sugar confectionery",
          "all/Coffee, tea, mate and spices",
          "all/Animal or vegetable fats and oils and their cleavage products; prepared animal fats; animal or vegetable waxes",
          "all/Animal originated products; not elsewhere specified or included",
          "all/Fish and crustaceans, molluscs and other aquatic invertebrates",
          "all/Animal originated products; not elsewhere specified or included",
          "all/Coffee, tea, mate and spices",
          "all/Animals; live",
          "all/Preparations of cereals, flour, starch or milk; pastrycooks' products",
          "all/Oil seeds and oleaginous fruits; miscellaneous grains, seeds and fruit, industrial or medicinal plants; straw and fodder",
          "all/Vegetables and certain roots and tubers; edible",
          "all/Vegetables and certain roots and tubers; edible",
          "all/Oil seeds and oleaginous fruits; miscellaneous grains, seeds and fruit, industrial or medicinal plants; straw and fodder",
          "all/Lac; gums, resins and other vegetable saps and extracts",
          "all/Dairy produce; birds' eggs; natural honey; edible products of animal origin, not elsewhere specified or included",
          "all/Fish and crustaceans, molluscs and other aquatic invertebrates",
          "all/Dairy produce; birds' eggs; natural honey; edible products of animal origin, not elsewhere specified or included",
          "all/Dairy produce; birds' eggs; natural honey; edible products of animal origin, not elsewhere specified or included",
          "all/Preparations of cereals, flour, starch or milk; pastrycooks' products",
          "all/Vegetables and certain roots and tubers; edible",
          "all/Preparations of cereals, flour, starch or milk; pastrycooks' products",
          "all/Fruit and nuts, edible; peel of citrus fruit or melons",
          "all/Fruit and nuts, edible; peel of citrus fruit or melons",
          "all/Animal or vegetable fats and oils and their cleavage products; prepared animal fats; animal or vegetable waxes",
          "all/Preparations of cereals, flour, starch or milk; pastrycooks' products",
          "all/Oil seeds and oleaginous fruits; miscellaneous grains, seeds and fruit, industrial or medicinal plants; straw and fodder",
          "all/Animal originated products; not elsewhere specified or included",
          "all/Animal or vegetable fats and oils and their cleavage products; prepared animal fats; animal or vegetable waxes",
          "all/Animal or vegetable fats and oils and their cleavage products; prepared animal fats; animal or vegetable waxes",
          "all/Coffee, tea, mate and spices",
          "all/Preparations of cereals, flour, starch or milk; pastrycooks' products",
          "all/Preparations of vegetables, fruit, nuts or other parts of plants",
          "all/Animals; live",
          "all/Products of the milling industry; malt, starches, inulin, wheat gluten",
          "all/Preparations of cereals, flour, starch or milk; pastrycooks' products",
          "all/Meat and edible meat offal",
          "all/Preparations of vegetables, fruit, nuts or other parts of plants",
          "all/Lac; gums, resins and other vegetable saps and extracts",
          "all/Animal or vegetable fats and oils and their cleavage products; prepared animal fats; animal or vegetable waxes",
          "all/Cereals",
          "all/Preparations of cereals, flour, starch or milk; pastrycooks' products",
          "all/Animals; live",
          "all/Lac; gums, resins and other vegetable saps and extracts",
          "all/Fruit and nuts, edible; peel of citrus fruit or melons",
          "all/Cereals",
          "all/Coffee, tea, mate and spices",
          "all/Lac; gums, resins and other vegetable saps and extracts",
          "all/Preparations of cereals, flour, starch or milk; pastrycooks' products",
          "all/Sugars and sugar confectionery",
          "all/Sugars and sugar confectionery",
          "all/Sugars and sugar confectionery",
          "all/Preparations of vegetables, fruit, nuts or other parts of plants",
          "all/Oil seeds and oleaginous fruits; miscellaneous grains, seeds and fruit, industrial or medicinal plants; straw and fodder",
          "all/Cereals",
          "all/Animals; live",
          "all/Animal originated products; not elsewhere specified or included",
          "all/Animal or vegetable fats and oils and their cleavage products; prepared animal fats; animal or vegetable waxes",
          "all/Animal or vegetable fats and oils and their cleavage products; prepared animal fats; animal or vegetable waxes",
          "all/Products of the milling industry; malt, starches, inulin, wheat gluten",
          "all/Oil seeds and oleaginous fruits; miscellaneous grains, seeds and fruit, industrial or medicinal plants; straw and fodder",
          "all/Sugars and sugar confectionery",
          "all/Vegetables and certain roots and tubers; edible",
          "all/Lac; gums, resins and other vegetable saps and extracts",
          "all/Oil seeds and oleaginous fruits; miscellaneous grains, seeds and fruit, industrial or medicinal plants; straw and fodder",
          "all/Animal or vegetable fats and oils and their cleavage products; prepared animal fats; animal or vegetable waxes",
          "all/Animals; live",
          "all/Fruit and nuts, edible; peel of citrus fruit or melons",
          "all/Animal or vegetable fats and oils and their cleavage products; prepared animal fats; animal or vegetable waxes",
          "all/Sugars and sugar confectionery",
          "all/Coffee, tea, mate and spices",
          "all/Meat and edible meat offal",
          "all/Oil seeds and oleaginous fruits; miscellaneous grains, seeds and fruit, industrial or medicinal plants; straw and fodder",
          "all/Animals; live",
          "all/Products of the milling industry; malt, starches, inulin, wheat gluten",
          "all/Animal or vegetable fats and oils and their cleavage products; prepared animal fats; animal or vegetable waxes",
          "all/Fish and crustaceans, molluscs and other aquatic invertebrates",
          "all/Oil seeds and oleaginous fruits; miscellaneous grains, seeds and fruit, industrial or medicinal plants; straw and fodder",
          "all/Coffee, tea, mate and spices",
          "all/Vegetables and certain roots and tubers; edible",
          "all/Coffee, tea, mate and spices",
          "all/Animal or vegetable fats and oils and their cleavage products; prepared animal fats; animal or vegetable waxes",
          "all/Products of the milling industry; malt, starches, inulin, wheat gluten",
          "all/Cereals",
          "all/Lac; gums, resins and other vegetable saps and extracts",
          "all/Animal originated products; not elsewhere specified or included",
          "all/Vegetables and certain roots and tubers; edible",
          "all/Animal or vegetable fats and oils and their cleavage products; prepared animal fats; animal or vegetable waxes",
          "all/Sugars and sugar confectionery",
          "all/Fruit and nuts, edible; peel of citrus fruit or melons",
          "all/Cereals",
          "all/Coffee, tea, mate and spices",
          "all/Vegetables and certain roots and tubers; edible",
          "all/Animal or vegetable fats and oils and their cleavage products; prepared animal fats; animal or vegetable waxes",
          "all/Fruit and nuts, edible; peel of citrus fruit or melons",
          "all/Cereals",
          "all/Coffee, tea, mate and spices",
          "all/Preparations of vegetables, fruit, nuts or other parts of plants",
          "all/Oil seeds and oleaginous fruits; miscellaneous grains, seeds and fruit, industrial or medicinal plants; straw and fodder",
          "all/Vegetables and certain roots and tubers; edible",
          "all/Animal or vegetable fats and oils and their cleavage products; prepared animal fats; animal or vegetable waxes",
          "all/Meat and edible meat offal",
          "all/Sugars and sugar confectionery",
          "all/Meat, fish or crustaceans, molluscs or other aquatic invertebrates; preparations thereof",
          "all/Coffee, tea, mate and spices",
          "all/Dairy produce; birds' eggs; natural honey; edible products of animal origin, not elsewhere specified or included",
          "all/Meat and edible meat offal",
          "all/Preparations of vegetables, fruit, nuts or other parts of plants",
          "all/Fruit and nuts, edible; peel of citrus fruit or melons",
          "all/Dairy produce; birds' eggs; natural honey; edible products of animal origin, not elsewhere specified or included",
          "all/Fruit and nuts, edible; peel of citrus fruit or melons",
          "all/Coffee, tea, mate and spices",
          "all/Oil seeds and oleaginous fruits; miscellaneous grains, seeds and fruit, industrial or medicinal plants; straw and fodder",
          "all/Fruit and nuts, edible; peel of citrus fruit or melons",
          "all/Animal originated products; not elsewhere specified or included",
          "all/Sugars and sugar confectionery",
          "all/Animal or vegetable fats and oils and their cleavage products; prepared animal fats; animal or vegetable waxes",
          "all/Vegetables and certain roots and tubers; edible",
          "all/Animals; live",
          "all/Animal originated products; not elsewhere specified or included",
          "all/Fruit and nuts, edible; peel of citrus fruit or melons",
          "all/Meat, fish or crustaceans, molluscs or other aquatic invertebrates; preparations thereof",
          "all/Animal originated products; not elsewhere specified or included",
          "all/Lac; gums, resins and other vegetable saps and extracts",
          "all/Preparations of vegetables, fruit, nuts or other parts of plants",
          "all/Cereals",
          "all/Cereals",
          "all/Sugars and sugar confectionery",
          "all/Preparations of cereals, flour, starch or milk; pastrycooks' products",
          "all/Lac; gums, resins and other vegetable saps and extracts",
          "all/Products of the milling industry; malt, starches, inulin, wheat gluten",
          "all/Fruit and nuts, edible; peel of citrus fruit or melons",
          "all/Fish and crustaceans, molluscs and other aquatic invertebrates",
          "all/Oil seeds and oleaginous fruits; miscellaneous grains, seeds and fruit, industrial or medicinal plants; straw and fodder",
          "all/Vegetables and certain roots and tubers; edible",
          "all/Lac; gums, resins and other vegetable saps and extracts",
          "all/Preparations of cereals, flour, starch or milk; pastrycooks' products",
          "all/Animal or vegetable fats and oils and their cleavage products; prepared animal fats; animal or vegetable waxes",
          "all/Oil seeds and oleaginous fruits; miscellaneous grains, seeds and fruit, industrial or medicinal plants; straw and fodder",
          "all/Vegetables and certain roots and tubers; edible",
          "all/Preparations of cereals, flour, starch or milk; pastrycooks' products",
          "all/Animal or vegetable fats and oils and their cleavage products; prepared animal fats; animal or vegetable waxes",
          "all",
          "all",
          "all",
          "all",
          "all",
          "all",
          "all",
          "all",
          "all",
          "all",
          "all",
          "all",
          "all",
          "all",
          "all",
          "all",
          "all",
          ""
         ],
         "type": "treemap",
         "values": [
          941,
          52,
          543760,
          4273325,
          3576,
          384271,
          142653,
          1417954,
          107237,
          403,
          113162,
          798,
          589,
          53290418,
          2283895,
          2326069,
          187,
          213446,
          2307496,
          214741,
          1355076,
          8,
          16129205,
          12433714,
          150117919,
          88037,
          73436,
          91801762,
          146466,
          38900,
          195484,
          1691642,
          648,
          783756,
          25719921,
          116608,
          106350,
          12528,
          539084,
          17326572,
          3628,
          56228,
          144379,
          8911004,
          5319448,
          41119067,
          3339309,
          11455150,
          1332210,
          7450,
          204424,
          1360,
          3028144726,
          1588620,
          94650,
          413,
          18819261,
          150070,
          354712,
          17044,
          430942818,
          2329251,
          1209,
          717,
          26127,
          6252,
          110,
          6554,
          224998,
          112642,
          21010,
          937474,
          8477,
          3410065,
          61300,
          468605,
          1959630,
          168217,
          1316503,
          23279,
          79518713,
          159934,
          2338,
          38845,
          4455369,
          33010,
          59812,
          11939,
          3988,
          272683,
          2259,
          365483,
          635,
          118623313,
          52330,
          220235,
          496385921,
          17997,
          55815,
          248,
          366710,
          114518,
          328896,
          167176,
          85356,
          27686,
          15637,
          21736,
          128370,
          2219,
          715661,
          2213760,
          27609,
          44837,
          321764,
          34753,
          133548,
          1440840,
          625623,
          970828,
          54441,
          86769,
          37910,
          85798,
          205480215,
          8928280,
          1768042,
          11358281,
          6049,
          68505,
          2943,
          4157,
          25493,
          9496,
          1029275,
          919674,
          21039,
          13610,
          13721,
          18032294,
          976115,
          94887,
          15914119,
          303,
          96,
          105518,
          34732841,
          775143,
          3,
          7881,
          10646937,
          78657,
          2240182,
          443760353,
          990,
          37870,
          1249950,
          976196,
          539987,
          1440844,
          136760,
          925154,
          7079853,
          235,
          315196,
          103785,
          102,
          607251,
          1189430,
          42381,
          362780,
          6490,
          428005,
          1189099,
          1942269,
          1139,
          697070,
          1723,
          150509,
          842,
          368778,
          940817,
          20,
          16165,
          9912,
          36330,
          211008,
          369277,
          139411685,
          163221,
          572125,
          8092,
          1040795,
          290,
          390158,
          169,
          4269608,
          17639939,
          12091,
          1087051,
          62689,
          3525,
          550264,
          86749,
          653827,
          3929,
          45790,
          37552,
          190203,
          180340,
          8198703,
          631323,
          774,
          555568,
          946031,
          37541237,
          126042,
          1812280,
          12259,
          13071,
          66941,
          1868915,
          1422022,
          8290,
          2887171,
          108,
          15092995,
          290423,
          585871,
          3,
          75598,
          581719,
          17868,
          81035,
          957136,
          1742620,
          3461467,
          8400351,
          101249,
          880974,
          107229,
          107407,
          65028,
          18830,
          2836840,
          670136,
          158006,
          48599,
          3699316,
          319125,
          5109,
          143670,
          3227,
          205330,
          158146,
          599,
          58219,
          9684,
          1908640,
          7125,
          7207019,
          5454562,
          35794,
          12746,
          97,
          364250,
          3013459,
          531467,
          249865,
          44226,
          478940,
          365284,
          1907389,
          194047598,
          7798,
          946,
          276393,
          4143177,
          542172,
          14872747,
          1096076,
          16036,
          292552,
          227416,
          322,
          252227232,
          52664483,
          6970,
          582982,
          1471465,
          16093,
          28,
          445184,
          149173,
          5746,
          584304,
          2491355,
          7601,
          281785,
          578,
          964380,
          4140702,
          3278449,
          12922965,
          9490,
          1498946,
          80248,
          1299253,
          353572,
          9037,
          1098767,
          18127,
          35765886,
          3634,
          6595,
          4252297,
          1899732,
          199032,
          104988,
          99534,
          1259193,
          2889,
          145944,
          439143,
          480682,
          7224,
          3092870,
          136595,
          1126,
          340246,
          23299,
          3311111,
          72299,
          31749,
          335,
          1317737,
          6514,
          244687,
          2135,
          4580826,
          802528,
          2268108,
          21451,
          2342519,
          118538,
          29212,
          45759,
          21843,
          1540828,
          33578,
          2804,
          51,
          2291,
          29142412,
          23936,
          2380418,
          509706,
          7895,
          22697,
          3169176,
          924,
          10004,
          815472,
          320857,
          111178,
          11625,
          37122,
          592804,
          344990,
          690763,
          8544195,
          1006,
          49,
          385853,
          1822090,
          108563,
          71050315,
          12841489,
          12160,
          258,
          48186,
          239272433,
          84178,
          2349809,
          1020191,
          2219,
          16725193,
          330555,
          2887,
          17577,
          731282,
          1451,
          47284,
          81,
          37310,
          118608,
          577908,
          477854607,
          26817,
          166684,
          5632162,
          9684,
          9800858,
          536155,
          453215,
          23933,
          154961,
          2218,
          47861,
          417307,
          43875,
          8186,
          5456,
          4002,
          8969713,
          444190,
          20,
          108,
          7144,
          10491,
          85589,
          382025,
          18125,
          187645,
          86378,
          419107,
          1059381,
          800773,
          164285,
          7894,
          467721,
          8404572,
          615293,
          683415,
          44287,
          198,
          794542,
          25613,
          1131345,
          320,
          2161156,
          19516,
          630918,
          4776,
          914,
          1524,
          34533101,
          15114,
          13078,
          8346990,
          220496,
          129361359,
          1021,
          131031,
          12820,
          105003,
          56312,
          1322323,
          2487523,
          13770,
          976,
          912724741,
          3015822,
          12664,
          55128,
          217278,
          3544063,
          5191,
          1032706,
          1217464,
          8895966,
          273035,
          19317,
          71847282,
          423,
          6593,
          104191412,
          1518960,
          261679,
          49734,
          2947809,
          11978,
          6276039,
          960,
          815481,
          3440,
          581,
          810915,
          6404946,
          153320,
          51,
          57837,
          14848,
          11514,
          759261,
          154129,
          8640067,
          476328,
          20190995,
          21353,
          44817,
          16467173,
          19833428,
          191,
          11318818,
          2712009,
          14013,
          225470,
          17032282,
          16992130,
          3,
          10859,
          5532,
          16004,
          26969,
          152421,
          1967,
          11940,
          3460,
          45436,
          17533594,
          11501115,
          15799,
          5877,
          3669659,
          16614,
          2011,
          166073,
          2013236,
          118,
          4761,
          37573,
          4860,
          2643605,
          16063284,
          689,
          53463,
          483258,
          1516197,
          42998,
          2321,
          344720,
          2548,
          6385,
          4498080,
          155179,
          5584485,
          10886,
          1562605,
          395864,
          9245501,
          763,
          412760,
          27265,
          1950,
          103659009,
          153477,
          1010576,
          662,
          3432446,
          2836171,
          1262303,
          20759203,
          14760027,
          1785,
          8497,
          57479,
          1391617,
          1226185,
          41130,
          704,
          174905,
          559687,
          766713,
          4181,
          135237,
          18871,
          138,
          21745,
          4580735,
          11654,
          2824643,
          2981128,
          41879,
          17664,
          473514,
          9860278,
          1771594,
          2021,
          1141,
          425956,
          3474,
          992,
          62128,
          43183,
          22769300,
          300170,
          15639,
          11403359,
          846324,
          37979,
          835500,
          83188,
          746536,
          9584387,
          34272773,
          416,
          4701985,
          4198,
          21018,
          142071,
          334576,
          65914,
          4760,
          1247068,
          12857,
          121454,
          5465,
          292218,
          1070721,
          183424,
          25077,
          10979,
          6313,
          671766,
          28855,
          38133142,
          2443970,
          226065,
          13683,
          2143,
          21543,
          104712,
          62258,
          35793706,
          484424,
          1960315,
          2473588,
          360302,
          6755,
          165342,
          542,
          1709413,
          16413024,
          34197,
          430617,
          8154435,
          58400,
          111498,
          26099,
          33840,
          3602545270,
          5263329,
          28524244,
          930742332,
          844936994,
          86904387,
          8984780,
          215894710,
          25189180,
          3129625,
          1991677,
          1979194038,
          144082704,
          45703935,
          16290386,
          242877730,
          943816604,
          9126071925
         ]
        }
       ],
       "layout": {
        "legend": {
         "tracegroupgap": 0
        },
        "margin": {
         "b": 0,
         "l": 0,
         "r": 0,
         "t": 50
        },
        "template": {
         "data": {
          "bar": [
           {
            "error_x": {
             "color": "#2a3f5f"
            },
            "error_y": {
             "color": "#2a3f5f"
            },
            "marker": {
             "line": {
              "color": "#E5ECF6",
              "width": 0.5
             },
             "pattern": {
              "fillmode": "overlay",
              "size": 10,
              "solidity": 0.2
             }
            },
            "type": "bar"
           }
          ],
          "barpolar": [
           {
            "marker": {
             "line": {
              "color": "#E5ECF6",
              "width": 0.5
             },
             "pattern": {
              "fillmode": "overlay",
              "size": 10,
              "solidity": 0.2
             }
            },
            "type": "barpolar"
           }
          ],
          "carpet": [
           {
            "aaxis": {
             "endlinecolor": "#2a3f5f",
             "gridcolor": "white",
             "linecolor": "white",
             "minorgridcolor": "white",
             "startlinecolor": "#2a3f5f"
            },
            "baxis": {
             "endlinecolor": "#2a3f5f",
             "gridcolor": "white",
             "linecolor": "white",
             "minorgridcolor": "white",
             "startlinecolor": "#2a3f5f"
            },
            "type": "carpet"
           }
          ],
          "choropleth": [
           {
            "colorbar": {
             "outlinewidth": 0,
             "ticks": ""
            },
            "type": "choropleth"
           }
          ],
          "contour": [
           {
            "colorbar": {
             "outlinewidth": 0,
             "ticks": ""
            },
            "colorscale": [
             [
              0,
              "#0d0887"
             ],
             [
              0.1111111111111111,
              "#46039f"
             ],
             [
              0.2222222222222222,
              "#7201a8"
             ],
             [
              0.3333333333333333,
              "#9c179e"
             ],
             [
              0.4444444444444444,
              "#bd3786"
             ],
             [
              0.5555555555555556,
              "#d8576b"
             ],
             [
              0.6666666666666666,
              "#ed7953"
             ],
             [
              0.7777777777777778,
              "#fb9f3a"
             ],
             [
              0.8888888888888888,
              "#fdca26"
             ],
             [
              1,
              "#f0f921"
             ]
            ],
            "type": "contour"
           }
          ],
          "contourcarpet": [
           {
            "colorbar": {
             "outlinewidth": 0,
             "ticks": ""
            },
            "type": "contourcarpet"
           }
          ],
          "heatmap": [
           {
            "colorbar": {
             "outlinewidth": 0,
             "ticks": ""
            },
            "colorscale": [
             [
              0,
              "#0d0887"
             ],
             [
              0.1111111111111111,
              "#46039f"
             ],
             [
              0.2222222222222222,
              "#7201a8"
             ],
             [
              0.3333333333333333,
              "#9c179e"
             ],
             [
              0.4444444444444444,
              "#bd3786"
             ],
             [
              0.5555555555555556,
              "#d8576b"
             ],
             [
              0.6666666666666666,
              "#ed7953"
             ],
             [
              0.7777777777777778,
              "#fb9f3a"
             ],
             [
              0.8888888888888888,
              "#fdca26"
             ],
             [
              1,
              "#f0f921"
             ]
            ],
            "type": "heatmap"
           }
          ],
          "heatmapgl": [
           {
            "colorbar": {
             "outlinewidth": 0,
             "ticks": ""
            },
            "colorscale": [
             [
              0,
              "#0d0887"
             ],
             [
              0.1111111111111111,
              "#46039f"
             ],
             [
              0.2222222222222222,
              "#7201a8"
             ],
             [
              0.3333333333333333,
              "#9c179e"
             ],
             [
              0.4444444444444444,
              "#bd3786"
             ],
             [
              0.5555555555555556,
              "#d8576b"
             ],
             [
              0.6666666666666666,
              "#ed7953"
             ],
             [
              0.7777777777777778,
              "#fb9f3a"
             ],
             [
              0.8888888888888888,
              "#fdca26"
             ],
             [
              1,
              "#f0f921"
             ]
            ],
            "type": "heatmapgl"
           }
          ],
          "histogram": [
           {
            "marker": {
             "pattern": {
              "fillmode": "overlay",
              "size": 10,
              "solidity": 0.2
             }
            },
            "type": "histogram"
           }
          ],
          "histogram2d": [
           {
            "colorbar": {
             "outlinewidth": 0,
             "ticks": ""
            },
            "colorscale": [
             [
              0,
              "#0d0887"
             ],
             [
              0.1111111111111111,
              "#46039f"
             ],
             [
              0.2222222222222222,
              "#7201a8"
             ],
             [
              0.3333333333333333,
              "#9c179e"
             ],
             [
              0.4444444444444444,
              "#bd3786"
             ],
             [
              0.5555555555555556,
              "#d8576b"
             ],
             [
              0.6666666666666666,
              "#ed7953"
             ],
             [
              0.7777777777777778,
              "#fb9f3a"
             ],
             [
              0.8888888888888888,
              "#fdca26"
             ],
             [
              1,
              "#f0f921"
             ]
            ],
            "type": "histogram2d"
           }
          ],
          "histogram2dcontour": [
           {
            "colorbar": {
             "outlinewidth": 0,
             "ticks": ""
            },
            "colorscale": [
             [
              0,
              "#0d0887"
             ],
             [
              0.1111111111111111,
              "#46039f"
             ],
             [
              0.2222222222222222,
              "#7201a8"
             ],
             [
              0.3333333333333333,
              "#9c179e"
             ],
             [
              0.4444444444444444,
              "#bd3786"
             ],
             [
              0.5555555555555556,
              "#d8576b"
             ],
             [
              0.6666666666666666,
              "#ed7953"
             ],
             [
              0.7777777777777778,
              "#fb9f3a"
             ],
             [
              0.8888888888888888,
              "#fdca26"
             ],
             [
              1,
              "#f0f921"
             ]
            ],
            "type": "histogram2dcontour"
           }
          ],
          "mesh3d": [
           {
            "colorbar": {
             "outlinewidth": 0,
             "ticks": ""
            },
            "type": "mesh3d"
           }
          ],
          "parcoords": [
           {
            "line": {
             "colorbar": {
              "outlinewidth": 0,
              "ticks": ""
             }
            },
            "type": "parcoords"
           }
          ],
          "pie": [
           {
            "automargin": true,
            "type": "pie"
           }
          ],
          "scatter": [
           {
            "fillpattern": {
             "fillmode": "overlay",
             "size": 10,
             "solidity": 0.2
            },
            "type": "scatter"
           }
          ],
          "scatter3d": [
           {
            "line": {
             "colorbar": {
              "outlinewidth": 0,
              "ticks": ""
             }
            },
            "marker": {
             "colorbar": {
              "outlinewidth": 0,
              "ticks": ""
             }
            },
            "type": "scatter3d"
           }
          ],
          "scattercarpet": [
           {
            "marker": {
             "colorbar": {
              "outlinewidth": 0,
              "ticks": ""
             }
            },
            "type": "scattercarpet"
           }
          ],
          "scattergeo": [
           {
            "marker": {
             "colorbar": {
              "outlinewidth": 0,
              "ticks": ""
             }
            },
            "type": "scattergeo"
           }
          ],
          "scattergl": [
           {
            "marker": {
             "colorbar": {
              "outlinewidth": 0,
              "ticks": ""
             }
            },
            "type": "scattergl"
           }
          ],
          "scattermapbox": [
           {
            "marker": {
             "colorbar": {
              "outlinewidth": 0,
              "ticks": ""
             }
            },
            "type": "scattermapbox"
           }
          ],
          "scatterpolar": [
           {
            "marker": {
             "colorbar": {
              "outlinewidth": 0,
              "ticks": ""
             }
            },
            "type": "scatterpolar"
           }
          ],
          "scatterpolargl": [
           {
            "marker": {
             "colorbar": {
              "outlinewidth": 0,
              "ticks": ""
             }
            },
            "type": "scatterpolargl"
           }
          ],
          "scatterternary": [
           {
            "marker": {
             "colorbar": {
              "outlinewidth": 0,
              "ticks": ""
             }
            },
            "type": "scatterternary"
           }
          ],
          "surface": [
           {
            "colorbar": {
             "outlinewidth": 0,
             "ticks": ""
            },
            "colorscale": [
             [
              0,
              "#0d0887"
             ],
             [
              0.1111111111111111,
              "#46039f"
             ],
             [
              0.2222222222222222,
              "#7201a8"
             ],
             [
              0.3333333333333333,
              "#9c179e"
             ],
             [
              0.4444444444444444,
              "#bd3786"
             ],
             [
              0.5555555555555556,
              "#d8576b"
             ],
             [
              0.6666666666666666,
              "#ed7953"
             ],
             [
              0.7777777777777778,
              "#fb9f3a"
             ],
             [
              0.8888888888888888,
              "#fdca26"
             ],
             [
              1,
              "#f0f921"
             ]
            ],
            "type": "surface"
           }
          ],
          "table": [
           {
            "cells": {
             "fill": {
              "color": "#EBF0F8"
             },
             "line": {
              "color": "white"
             }
            },
            "header": {
             "fill": {
              "color": "#C8D4E3"
             },
             "line": {
              "color": "white"
             }
            },
            "type": "table"
           }
          ]
         },
         "layout": {
          "annotationdefaults": {
           "arrowcolor": "#2a3f5f",
           "arrowhead": 0,
           "arrowwidth": 1
          },
          "autotypenumbers": "strict",
          "coloraxis": {
           "colorbar": {
            "outlinewidth": 0,
            "ticks": ""
           }
          },
          "colorscale": {
           "diverging": [
            [
             0,
             "#8e0152"
            ],
            [
             0.1,
             "#c51b7d"
            ],
            [
             0.2,
             "#de77ae"
            ],
            [
             0.3,
             "#f1b6da"
            ],
            [
             0.4,
             "#fde0ef"
            ],
            [
             0.5,
             "#f7f7f7"
            ],
            [
             0.6,
             "#e6f5d0"
            ],
            [
             0.7,
             "#b8e186"
            ],
            [
             0.8,
             "#7fbc41"
            ],
            [
             0.9,
             "#4d9221"
            ],
            [
             1,
             "#276419"
            ]
           ],
           "sequential": [
            [
             0,
             "#0d0887"
            ],
            [
             0.1111111111111111,
             "#46039f"
            ],
            [
             0.2222222222222222,
             "#7201a8"
            ],
            [
             0.3333333333333333,
             "#9c179e"
            ],
            [
             0.4444444444444444,
             "#bd3786"
            ],
            [
             0.5555555555555556,
             "#d8576b"
            ],
            [
             0.6666666666666666,
             "#ed7953"
            ],
            [
             0.7777777777777778,
             "#fb9f3a"
            ],
            [
             0.8888888888888888,
             "#fdca26"
            ],
            [
             1,
             "#f0f921"
            ]
           ],
           "sequentialminus": [
            [
             0,
             "#0d0887"
            ],
            [
             0.1111111111111111,
             "#46039f"
            ],
            [
             0.2222222222222222,
             "#7201a8"
            ],
            [
             0.3333333333333333,
             "#9c179e"
            ],
            [
             0.4444444444444444,
             "#bd3786"
            ],
            [
             0.5555555555555556,
             "#d8576b"
            ],
            [
             0.6666666666666666,
             "#ed7953"
            ],
            [
             0.7777777777777778,
             "#fb9f3a"
            ],
            [
             0.8888888888888888,
             "#fdca26"
            ],
            [
             1,
             "#f0f921"
            ]
           ]
          },
          "colorway": [
           "#636efa",
           "#EF553B",
           "#00cc96",
           "#ab63fa",
           "#FFA15A",
           "#19d3f3",
           "#FF6692",
           "#B6E880",
           "#FF97FF",
           "#FECB52"
          ],
          "font": {
           "color": "#2a3f5f"
          },
          "geo": {
           "bgcolor": "white",
           "lakecolor": "white",
           "landcolor": "#E5ECF6",
           "showlakes": true,
           "showland": true,
           "subunitcolor": "white"
          },
          "hoverlabel": {
           "align": "left"
          },
          "hovermode": "closest",
          "mapbox": {
           "style": "light"
          },
          "paper_bgcolor": "white",
          "plot_bgcolor": "#E5ECF6",
          "polar": {
           "angularaxis": {
            "gridcolor": "white",
            "linecolor": "white",
            "ticks": ""
           },
           "bgcolor": "#E5ECF6",
           "radialaxis": {
            "gridcolor": "white",
            "linecolor": "white",
            "ticks": ""
           }
          },
          "scene": {
           "xaxis": {
            "backgroundcolor": "#E5ECF6",
            "gridcolor": "white",
            "gridwidth": 2,
            "linecolor": "white",
            "showbackground": true,
            "ticks": "",
            "zerolinecolor": "white"
           },
           "yaxis": {
            "backgroundcolor": "#E5ECF6",
            "gridcolor": "white",
            "gridwidth": 2,
            "linecolor": "white",
            "showbackground": true,
            "ticks": "",
            "zerolinecolor": "white"
           },
           "zaxis": {
            "backgroundcolor": "#E5ECF6",
            "gridcolor": "white",
            "gridwidth": 2,
            "linecolor": "white",
            "showbackground": true,
            "ticks": "",
            "zerolinecolor": "white"
           }
          },
          "shapedefaults": {
           "line": {
            "color": "#2a3f5f"
           }
          },
          "ternary": {
           "aaxis": {
            "gridcolor": "white",
            "linecolor": "white",
            "ticks": ""
           },
           "baxis": {
            "gridcolor": "white",
            "linecolor": "white",
            "ticks": ""
           },
           "bgcolor": "#E5ECF6",
           "caxis": {
            "gridcolor": "white",
            "linecolor": "white",
            "ticks": ""
           }
          },
          "title": {
           "x": 0.05
          },
          "xaxis": {
           "automargin": true,
           "gridcolor": "white",
           "linecolor": "white",
           "ticks": "",
           "title": {
            "standoff": 15
           },
           "zerolinecolor": "white",
           "zerolinewidth": 2
          },
          "yaxis": {
           "automargin": true,
           "gridcolor": "white",
           "linecolor": "white",
           "ticks": "",
           "title": {
            "standoff": 15
           },
           "zerolinecolor": "white",
           "zerolinewidth": 2
          }
         }
        },
        "title": {
         "text": "Imports by Commodity and Partner in 2021"
        }
       }
      }
     },
     "metadata": {},
     "output_type": "display_data"
    },
    {
     "data": {
      "application/vnd.plotly.v1+json": {
       "config": {
        "plotlyServerURL": "https://plot.ly"
       },
       "data": [
        {
         "branchvalues": "total",
         "customdata": [
          [
           "Fish and crustaceans, molluscs and other aquatic invertebrates"
          ],
          [
           "Cereals"
          ],
          [
           "Cereals"
          ],
          [
           "Meat and edible meat offal"
          ],
          [
           "Preparations of vegetables, fruit, nuts or other parts of plants"
          ],
          [
           "Sugars and sugar confectionery"
          ],
          [
           "Dairy produce; birds' eggs; natural honey; edible products of animal origin, not elsewhere specified or included"
          ],
          [
           "Preparations of cereals, flour, starch or milk; pastrycooks' products"
          ],
          [
           "Animal originated products; not elsewhere specified or included"
          ],
          [
           "Animal or vegetable fats and oils and their cleavage products; prepared animal fats; animal or vegetable waxes"
          ],
          [
           "Vegetables and certain roots and tubers; edible"
          ],
          [
           "Fruit and nuts, edible; peel of citrus fruit or melons"
          ],
          [
           "Animal originated products; not elsewhere specified or included"
          ],
          [
           "Vegetables and certain roots and tubers; edible"
          ],
          [
           "Oil seeds and oleaginous fruits; miscellaneous grains, seeds and fruit, industrial or medicinal plants; straw and fodder"
          ],
          [
           "Preparations of cereals, flour, starch or milk; pastrycooks' products"
          ],
          [
           "Animal originated products; not elsewhere specified or included"
          ],
          [
           "Fish and crustaceans, molluscs and other aquatic invertebrates"
          ],
          [
           "Animal or vegetable fats and oils and their cleavage products; prepared animal fats; animal or vegetable waxes"
          ],
          [
           "Oil seeds and oleaginous fruits; miscellaneous grains, seeds and fruit, industrial or medicinal plants; straw and fodder"
          ],
          [
           "Animals; live"
          ],
          [
           "Lac; gums, resins and other vegetable saps and extracts"
          ],
          [
           "Animal originated products; not elsewhere specified or included"
          ],
          [
           "Oil seeds and oleaginous fruits; miscellaneous grains, seeds and fruit, industrial or medicinal plants; straw and fodder"
          ],
          [
           "Preparations of vegetables, fruit, nuts or other parts of plants"
          ],
          [
           "Coffee, tea, mate and spices"
          ],
          [
           "Oil seeds and oleaginous fruits; miscellaneous grains, seeds and fruit, industrial or medicinal plants; straw and fodder"
          ],
          [
           "Preparations of vegetables, fruit, nuts or other parts of plants"
          ],
          [
           "Animals; live"
          ],
          [
           "Preparations of vegetables, fruit, nuts or other parts of plants"
          ],
          [
           "Sugars and sugar confectionery"
          ],
          [
           "Sugars and sugar confectionery"
          ],
          [
           "Products of the milling industry; malt, starches, inulin, wheat gluten"
          ],
          [
           "Coffee, tea, mate and spices"
          ],
          [
           "Cereals"
          ],
          [
           "Preparations of vegetables, fruit, nuts or other parts of plants"
          ],
          [
           "Fish and crustaceans, molluscs and other aquatic invertebrates"
          ],
          [
           "Preparations of vegetables, fruit, nuts or other parts of plants"
          ],
          [
           "Dairy produce; birds' eggs; natural honey; edible products of animal origin, not elsewhere specified or included"
          ],
          [
           "Animal or vegetable fats and oils and their cleavage products; prepared animal fats; animal or vegetable waxes"
          ],
          [
           "Preparations of vegetables, fruit, nuts or other parts of plants"
          ],
          [
           "Oil seeds and oleaginous fruits; miscellaneous grains, seeds and fruit, industrial or medicinal plants; straw and fodder"
          ],
          [
           "Fish and crustaceans, molluscs and other aquatic invertebrates"
          ],
          [
           "Preparations of cereals, flour, starch or milk; pastrycooks' products"
          ],
          [
           "Sugars and sugar confectionery"
          ],
          [
           "Coffee, tea, mate and spices"
          ],
          [
           "Fruit and nuts, edible; peel of citrus fruit or melons"
          ],
          [
           "Sugars and sugar confectionery"
          ],
          [
           "Fruit and nuts, edible; peel of citrus fruit or melons"
          ],
          [
           "Lac; gums, resins and other vegetable saps and extracts"
          ],
          [
           "Preparations of cereals, flour, starch or milk; pastrycooks' products"
          ],
          [
           "Fish and crustaceans, molluscs and other aquatic invertebrates"
          ],
          [
           "Meat, fish or crustaceans, molluscs or other aquatic invertebrates; preparations thereof"
          ],
          [
           "Oil seeds and oleaginous fruits; miscellaneous grains, seeds and fruit, industrial or medicinal plants; straw and fodder"
          ],
          [
           "Preparations of vegetables, fruit, nuts or other parts of plants"
          ],
          [
           "Lac; gums, resins and other vegetable saps and extracts"
          ],
          [
           "Cereals"
          ],
          [
           "Cereals"
          ],
          [
           "Preparations of cereals, flour, starch or milk; pastrycooks' products"
          ],
          [
           "Preparations of cereals, flour, starch or milk; pastrycooks' products"
          ],
          [
           "Animal or vegetable fats and oils and their cleavage products; prepared animal fats; animal or vegetable waxes"
          ],
          [
           "Sugars and sugar confectionery"
          ],
          [
           "Fruit and nuts, edible; peel of citrus fruit or melons"
          ],
          [
           "Dairy produce; birds' eggs; natural honey; edible products of animal origin, not elsewhere specified or included"
          ],
          [
           "Oil seeds and oleaginous fruits; miscellaneous grains, seeds and fruit, industrial or medicinal plants; straw and fodder"
          ],
          [
           "Lac; gums, resins and other vegetable saps and extracts"
          ],
          [
           "Vegetables and certain roots and tubers; edible"
          ],
          [
           "Cereals"
          ],
          [
           "Meat, fish or crustaceans, molluscs or other aquatic invertebrates; preparations thereof"
          ],
          [
           "Fruit and nuts, edible; peel of citrus fruit or melons"
          ],
          [
           "Preparations of cereals, flour, starch or milk; pastrycooks' products"
          ],
          [
           "Fruit and nuts, edible; peel of citrus fruit or melons"
          ],
          [
           "Coffee, tea, mate and spices"
          ],
          [
           "Coffee, tea, mate and spices"
          ],
          [
           "Fruit and nuts, edible; peel of citrus fruit or melons"
          ],
          [
           "Lac; gums, resins and other vegetable saps and extracts"
          ],
          [
           "Preparations of cereals, flour, starch or milk; pastrycooks' products"
          ],
          [
           "Animal or vegetable fats and oils and their cleavage products; prepared animal fats; animal or vegetable waxes"
          ],
          [
           "Preparations of vegetables, fruit, nuts or other parts of plants"
          ],
          [
           "Products of the milling industry; malt, starches, inulin, wheat gluten"
          ],
          [
           "Cereals"
          ],
          [
           "Sugars and sugar confectionery"
          ],
          [
           "Fruit and nuts, edible; peel of citrus fruit or melons"
          ],
          [
           "Cereals"
          ],
          [
           "Fish and crustaceans, molluscs and other aquatic invertebrates"
          ],
          [
           "Lac; gums, resins and other vegetable saps and extracts"
          ],
          [
           "Cereals"
          ],
          [
           "Oil seeds and oleaginous fruits; miscellaneous grains, seeds and fruit, industrial or medicinal plants; straw and fodder"
          ],
          [
           "Cereals"
          ],
          [
           "Preparations of vegetables, fruit, nuts or other parts of plants"
          ],
          [
           "Sugars and sugar confectionery"
          ],
          [
           "Vegetables and certain roots and tubers; edible"
          ],
          [
           "Coffee, tea, mate and spices"
          ],
          [
           "Oil seeds and oleaginous fruits; miscellaneous grains, seeds and fruit, industrial or medicinal plants; straw and fodder"
          ],
          [
           "Sugars and sugar confectionery"
          ],
          [
           "Lac; gums, resins and other vegetable saps and extracts"
          ],
          [
           "Coffee, tea, mate and spices"
          ],
          [
           "Preparations of vegetables, fruit, nuts or other parts of plants"
          ],
          [
           "Coffee, tea, mate and spices"
          ],
          [
           "Animal or vegetable fats and oils and their cleavage products; prepared animal fats; animal or vegetable waxes"
          ],
          [
           "Preparations of vegetables, fruit, nuts or other parts of plants"
          ],
          [
           "Vegetables and certain roots and tubers; edible"
          ],
          [
           "Cereals"
          ],
          [
           "Preparations of cereals, flour, starch or milk; pastrycooks' products"
          ],
          [
           "Lac; gums, resins and other vegetable saps and extracts"
          ],
          [
           "Fish and crustaceans, molluscs and other aquatic invertebrates"
          ],
          [
           "Animal or vegetable fats and oils and their cleavage products; prepared animal fats; animal or vegetable waxes"
          ],
          [
           "Meat, fish or crustaceans, molluscs or other aquatic invertebrates; preparations thereof"
          ],
          [
           "Preparations of cereals, flour, starch or milk; pastrycooks' products"
          ],
          [
           "Cereals"
          ],
          [
           "Animals; live"
          ],
          [
           "Cereals"
          ],
          [
           "Products of the milling industry; malt, starches, inulin, wheat gluten"
          ],
          [
           "Sugars and sugar confectionery"
          ],
          [
           "Cereals"
          ],
          [
           "Sugars and sugar confectionery"
          ],
          [
           "Fruit and nuts, edible; peel of citrus fruit or melons"
          ],
          [
           "Fruit and nuts, edible; peel of citrus fruit or melons"
          ],
          [
           "Lac; gums, resins and other vegetable saps and extracts"
          ],
          [
           "Meat, fish or crustaceans, molluscs or other aquatic invertebrates; preparations thereof"
          ],
          [
           "Preparations of vegetables, fruit, nuts or other parts of plants"
          ],
          [
           "Fruit and nuts, edible; peel of citrus fruit or melons"
          ],
          [
           "Coffee, tea, mate and spices"
          ],
          [
           "Animals; live"
          ],
          [
           "Preparations of vegetables, fruit, nuts or other parts of plants"
          ],
          [
           "Animal originated products; not elsewhere specified or included"
          ],
          [
           "Cereals"
          ],
          [
           "Sugars and sugar confectionery"
          ],
          [
           "Dairy produce; birds' eggs; natural honey; edible products of animal origin, not elsewhere specified or included"
          ],
          [
           "Coffee, tea, mate and spices"
          ],
          [
           "Dairy produce; birds' eggs; natural honey; edible products of animal origin, not elsewhere specified or included"
          ],
          [
           "Products of the milling industry; malt, starches, inulin, wheat gluten"
          ],
          [
           "Vegetables and certain roots and tubers; edible"
          ],
          [
           "Coffee, tea, mate and spices"
          ],
          [
           "Preparations of cereals, flour, starch or milk; pastrycooks' products"
          ],
          [
           "Preparations of vegetables, fruit, nuts or other parts of plants"
          ],
          [
           "Coffee, tea, mate and spices"
          ],
          [
           "Fruit and nuts, edible; peel of citrus fruit or melons"
          ],
          [
           "Meat and edible meat offal"
          ],
          [
           "Cereals"
          ],
          [
           "Meat, fish or crustaceans, molluscs or other aquatic invertebrates; preparations thereof"
          ],
          [
           "Coffee, tea, mate and spices"
          ],
          [
           "Oil seeds and oleaginous fruits; miscellaneous grains, seeds and fruit, industrial or medicinal plants; straw and fodder"
          ],
          [
           "Preparations of vegetables, fruit, nuts or other parts of plants"
          ],
          [
           "Animal or vegetable fats and oils and their cleavage products; prepared animal fats; animal or vegetable waxes"
          ],
          [
           "Cereals"
          ],
          [
           "Oil seeds and oleaginous fruits; miscellaneous grains, seeds and fruit, industrial or medicinal plants; straw and fodder"
          ],
          [
           "Preparations of cereals, flour, starch or milk; pastrycooks' products"
          ],
          [
           "Preparations of cereals, flour, starch or milk; pastrycooks' products"
          ],
          [
           "Oil seeds and oleaginous fruits; miscellaneous grains, seeds and fruit, industrial or medicinal plants; straw and fodder"
          ],
          [
           "Preparations of vegetables, fruit, nuts or other parts of plants"
          ],
          [
           "Fruit and nuts, edible; peel of citrus fruit or melons"
          ],
          [
           "Oil seeds and oleaginous fruits; miscellaneous grains, seeds and fruit, industrial or medicinal plants; straw and fodder"
          ],
          [
           "Animal originated products; not elsewhere specified or included"
          ],
          [
           "Preparations of cereals, flour, starch or milk; pastrycooks' products"
          ],
          [
           "Meat, fish or crustaceans, molluscs or other aquatic invertebrates; preparations thereof"
          ],
          [
           "Sugars and sugar confectionery"
          ],
          [
           "Coffee, tea, mate and spices"
          ],
          [
           "Fruit and nuts, edible; peel of citrus fruit or melons"
          ],
          [
           "Animal originated products; not elsewhere specified or included"
          ],
          [
           "Cereals"
          ],
          [
           "Vegetables and certain roots and tubers; edible"
          ],
          [
           "Animal or vegetable fats and oils and their cleavage products; prepared animal fats; animal or vegetable waxes"
          ],
          [
           "Vegetables and certain roots and tubers; edible"
          ],
          [
           "Animal originated products; not elsewhere specified or included"
          ],
          [
           "Vegetables and certain roots and tubers; edible"
          ],
          [
           "Sugars and sugar confectionery"
          ],
          [
           "Sugars and sugar confectionery"
          ],
          [
           "Oil seeds and oleaginous fruits; miscellaneous grains, seeds and fruit, industrial or medicinal plants; straw and fodder"
          ],
          [
           "Lac; gums, resins and other vegetable saps and extracts"
          ],
          [
           "Fish and crustaceans, molluscs and other aquatic invertebrates"
          ],
          [
           "Cereals"
          ],
          [
           "Animal originated products; not elsewhere specified or included"
          ],
          [
           "Cereals"
          ],
          [
           "Animal originated products; not elsewhere specified or included"
          ],
          [
           "Fruit and nuts, edible; peel of citrus fruit or melons"
          ],
          [
           "Dairy produce; birds' eggs; natural honey; edible products of animal origin, not elsewhere specified or included"
          ],
          [
           "Cereals"
          ],
          [
           "Animal originated products; not elsewhere specified or included"
          ],
          [
           "Lac; gums, resins and other vegetable saps and extracts"
          ],
          [
           "Coffee, tea, mate and spices"
          ],
          [
           "Dairy produce; birds' eggs; natural honey; edible products of animal origin, not elsewhere specified or included"
          ],
          [
           "Sugars and sugar confectionery"
          ],
          [
           "Animal or vegetable fats and oils and their cleavage products; prepared animal fats; animal or vegetable waxes"
          ],
          [
           "Fruit and nuts, edible; peel of citrus fruit or melons"
          ],
          [
           "Preparations of vegetables, fruit, nuts or other parts of plants"
          ],
          [
           "Preparations of cereals, flour, starch or milk; pastrycooks' products"
          ],
          [
           "Sugars and sugar confectionery"
          ],
          [
           "Vegetables and certain roots and tubers; edible"
          ],
          [
           "Sugars and sugar confectionery"
          ],
          [
           "Products of the milling industry; malt, starches, inulin, wheat gluten"
          ],
          [
           "Meat and edible meat offal"
          ],
          [
           "Animal originated products; not elsewhere specified or included"
          ],
          [
           "Lac; gums, resins and other vegetable saps and extracts"
          ],
          [
           "Products of the milling industry; malt, starches, inulin, wheat gluten"
          ],
          [
           "Preparations of vegetables, fruit, nuts or other parts of plants"
          ],
          [
           "Meat and edible meat offal"
          ],
          [
           "Oil seeds and oleaginous fruits; miscellaneous grains, seeds and fruit, industrial or medicinal plants; straw and fodder"
          ],
          [
           "Sugars and sugar confectionery"
          ],
          [
           "Animal originated products; not elsewhere specified or included"
          ],
          [
           "Preparations of cereals, flour, starch or milk; pastrycooks' products"
          ],
          [
           "Meat, fish or crustaceans, molluscs or other aquatic invertebrates; preparations thereof"
          ],
          [
           "Animal originated products; not elsewhere specified or included"
          ],
          [
           "Animal originated products; not elsewhere specified or included"
          ],
          [
           "Preparations of vegetables, fruit, nuts or other parts of plants"
          ],
          [
           "Animal originated products; not elsewhere specified or included"
          ],
          [
           "Coffee, tea, mate and spices"
          ],
          [
           "Cereals"
          ],
          [
           "Preparations of vegetables, fruit, nuts or other parts of plants"
          ],
          [
           "Animals; live"
          ],
          [
           "Meat and edible meat offal"
          ],
          [
           "Sugars and sugar confectionery"
          ],
          [
           "Preparations of vegetables, fruit, nuts or other parts of plants"
          ],
          [
           "Meat and edible meat offal"
          ],
          [
           "Animal originated products; not elsewhere specified or included"
          ],
          [
           "Meat, fish or crustaceans, molluscs or other aquatic invertebrates; preparations thereof"
          ],
          [
           "Sugars and sugar confectionery"
          ],
          [
           "Cereals"
          ],
          [
           "Products of the milling industry; malt, starches, inulin, wheat gluten"
          ],
          [
           "Preparations of vegetables, fruit, nuts or other parts of plants"
          ],
          [
           "Fruit and nuts, edible; peel of citrus fruit or melons"
          ],
          [
           "Fruit and nuts, edible; peel of citrus fruit or melons"
          ],
          [
           "Products of the milling industry; malt, starches, inulin, wheat gluten"
          ],
          [
           "Lac; gums, resins and other vegetable saps and extracts"
          ],
          [
           "Vegetables and certain roots and tubers; edible"
          ],
          [
           "Vegetables and certain roots and tubers; edible"
          ],
          [
           "Coffee, tea, mate and spices"
          ],
          [
           "Cereals"
          ],
          [
           "Animal originated products; not elsewhere specified or included"
          ],
          [
           "Preparations of vegetables, fruit, nuts or other parts of plants"
          ],
          [
           "Cereals"
          ],
          [
           "Cereals"
          ],
          [
           "Sugars and sugar confectionery"
          ],
          [
           "Animal originated products; not elsewhere specified or included"
          ],
          [
           "Fruit and nuts, edible; peel of citrus fruit or melons"
          ],
          [
           "Preparations of cereals, flour, starch or milk; pastrycooks' products"
          ],
          [
           "Oil seeds and oleaginous fruits; miscellaneous grains, seeds and fruit, industrial or medicinal plants; straw and fodder"
          ],
          [
           "Oil seeds and oleaginous fruits; miscellaneous grains, seeds and fruit, industrial or medicinal plants; straw and fodder"
          ],
          [
           "Sugars and sugar confectionery"
          ],
          [
           "Vegetables and certain roots and tubers; edible"
          ],
          [
           "Meat and edible meat offal"
          ],
          [
           "Cereals"
          ],
          [
           "Products of the milling industry; malt, starches, inulin, wheat gluten"
          ],
          [
           "Oil seeds and oleaginous fruits; miscellaneous grains, seeds and fruit, industrial or medicinal plants; straw and fodder"
          ],
          [
           "Oil seeds and oleaginous fruits; miscellaneous grains, seeds and fruit, industrial or medicinal plants; straw and fodder"
          ],
          [
           "Animal or vegetable fats and oils and their cleavage products; prepared animal fats; animal or vegetable waxes"
          ],
          [
           "Products of the milling industry; malt, starches, inulin, wheat gluten"
          ],
          [
           "Dairy produce; birds' eggs; natural honey; edible products of animal origin, not elsewhere specified or included"
          ],
          [
           "Coffee, tea, mate and spices"
          ],
          [
           "Fruit and nuts, edible; peel of citrus fruit or melons"
          ],
          [
           "Preparations of vegetables, fruit, nuts or other parts of plants"
          ],
          [
           "Cereals"
          ],
          [
           "Fruit and nuts, edible; peel of citrus fruit or melons"
          ],
          [
           "Coffee, tea, mate and spices"
          ],
          [
           "Preparations of vegetables, fruit, nuts or other parts of plants"
          ],
          [
           "Preparations of vegetables, fruit, nuts or other parts of plants"
          ],
          [
           "Meat and edible meat offal"
          ],
          [
           "Meat, fish or crustaceans, molluscs or other aquatic invertebrates; preparations thereof"
          ],
          [
           "Meat, fish or crustaceans, molluscs or other aquatic invertebrates; preparations thereof"
          ],
          [
           "Lac; gums, resins and other vegetable saps and extracts"
          ],
          [
           "Fruit and nuts, edible; peel of citrus fruit or melons"
          ],
          [
           "Coffee, tea, mate and spices"
          ],
          [
           "Oil seeds and oleaginous fruits; miscellaneous grains, seeds and fruit, industrial or medicinal plants; straw and fodder"
          ],
          [
           "Sugars and sugar confectionery"
          ],
          [
           "Cereals"
          ],
          [
           "Preparations of cereals, flour, starch or milk; pastrycooks' products"
          ],
          [
           "Animal or vegetable fats and oils and their cleavage products; prepared animal fats; animal or vegetable waxes"
          ],
          [
           "Oil seeds and oleaginous fruits; miscellaneous grains, seeds and fruit, industrial or medicinal plants; straw and fodder"
          ],
          [
           "Sugars and sugar confectionery"
          ],
          [
           "Preparations of vegetables, fruit, nuts or other parts of plants"
          ],
          [
           "Coffee, tea, mate and spices"
          ],
          [
           "Cereals"
          ],
          [
           "Vegetables and certain roots and tubers; edible"
          ],
          [
           "Lac; gums, resins and other vegetable saps and extracts"
          ],
          [
           "Preparations of cereals, flour, starch or milk; pastrycooks' products"
          ],
          [
           "Animal or vegetable fats and oils and their cleavage products; prepared animal fats; animal or vegetable waxes"
          ],
          [
           "Preparations of cereals, flour, starch or milk; pastrycooks' products"
          ],
          [
           "Fish and crustaceans, molluscs and other aquatic invertebrates"
          ],
          [
           "Products of the milling industry; malt, starches, inulin, wheat gluten"
          ],
          [
           "Sugars and sugar confectionery"
          ],
          [
           "Cereals"
          ],
          [
           "Fruit and nuts, edible; peel of citrus fruit or melons"
          ],
          [
           "Sugars and sugar confectionery"
          ],
          [
           "Sugars and sugar confectionery"
          ],
          [
           "Oil seeds and oleaginous fruits; miscellaneous grains, seeds and fruit, industrial or medicinal plants; straw and fodder"
          ],
          [
           "Cereals"
          ],
          [
           "Animal or vegetable fats and oils and their cleavage products; prepared animal fats; animal or vegetable waxes"
          ],
          [
           "Vegetables and certain roots and tubers; edible"
          ],
          [
           "Coffee, tea, mate and spices"
          ],
          [
           "Cereals"
          ],
          [
           "Cereals"
          ],
          [
           "Meat, fish or crustaceans, molluscs or other aquatic invertebrates; preparations thereof"
          ],
          [
           "Fruit and nuts, edible; peel of citrus fruit or melons"
          ],
          [
           "Preparations of cereals, flour, starch or milk; pastrycooks' products"
          ],
          [
           "Meat and edible meat offal"
          ],
          [
           "Products of the milling industry; malt, starches, inulin, wheat gluten"
          ],
          [
           "Oil seeds and oleaginous fruits; miscellaneous grains, seeds and fruit, industrial or medicinal plants; straw and fodder"
          ],
          [
           "Preparations of vegetables, fruit, nuts or other parts of plants"
          ],
          [
           "Sugars and sugar confectionery"
          ],
          [
           "Vegetables and certain roots and tubers; edible"
          ],
          [
           "Meat, fish or crustaceans, molluscs or other aquatic invertebrates; preparations thereof"
          ],
          [
           "Cereals"
          ],
          [
           "Fish and crustaceans, molluscs and other aquatic invertebrates"
          ],
          [
           "Sugars and sugar confectionery"
          ],
          [
           "Vegetables and certain roots and tubers; edible"
          ],
          [
           "Preparations of vegetables, fruit, nuts or other parts of plants"
          ],
          [
           "Cereals"
          ],
          [
           "Fish and crustaceans, molluscs and other aquatic invertebrates"
          ],
          [
           "Dairy produce; birds' eggs; natural honey; edible products of animal origin, not elsewhere specified or included"
          ],
          [
           "Cereals"
          ],
          [
           "Lac; gums, resins and other vegetable saps and extracts"
          ],
          [
           "Preparations of vegetables, fruit, nuts or other parts of plants"
          ],
          [
           "Lac; gums, resins and other vegetable saps and extracts"
          ],
          [
           "Dairy produce; birds' eggs; natural honey; edible products of animal origin, not elsewhere specified or included"
          ],
          [
           "Cereals"
          ],
          [
           "Animal or vegetable fats and oils and their cleavage products; prepared animal fats; animal or vegetable waxes"
          ],
          [
           "Lac; gums, resins and other vegetable saps and extracts"
          ],
          [
           "Coffee, tea, mate and spices"
          ],
          [
           "Oil seeds and oleaginous fruits; miscellaneous grains, seeds and fruit, industrial or medicinal plants; straw and fodder"
          ],
          [
           "Cereals"
          ],
          [
           "Preparations of cereals, flour, starch or milk; pastrycooks' products"
          ],
          [
           "Sugars and sugar confectionery"
          ],
          [
           "Preparations of vegetables, fruit, nuts or other parts of plants"
          ],
          [
           "Preparations of cereals, flour, starch or milk; pastrycooks' products"
          ],
          [
           "Sugars and sugar confectionery"
          ],
          [
           "Preparations of vegetables, fruit, nuts or other parts of plants"
          ],
          [
           "Lac; gums, resins and other vegetable saps and extracts"
          ],
          [
           "Dairy produce; birds' eggs; natural honey; edible products of animal origin, not elsewhere specified or included"
          ],
          [
           "Coffee, tea, mate and spices"
          ],
          [
           "Coffee, tea, mate and spices"
          ],
          [
           "Fish and crustaceans, molluscs and other aquatic invertebrates"
          ],
          [
           "Oil seeds and oleaginous fruits; miscellaneous grains, seeds and fruit, industrial or medicinal plants; straw and fodder"
          ],
          [
           "Cereals"
          ],
          [
           "Animal originated products; not elsewhere specified or included"
          ],
          [
           "Sugars and sugar confectionery"
          ],
          [
           "Preparations of cereals, flour, starch or milk; pastrycooks' products"
          ],
          [
           "Cereals"
          ],
          [
           "Vegetables and certain roots and tubers; edible"
          ],
          [
           "Preparations of vegetables, fruit, nuts or other parts of plants"
          ],
          [
           "Preparations of cereals, flour, starch or milk; pastrycooks' products"
          ],
          [
           "Oil seeds and oleaginous fruits; miscellaneous grains, seeds and fruit, industrial or medicinal plants; straw and fodder"
          ],
          [
           "Lac; gums, resins and other vegetable saps and extracts"
          ],
          [
           "Cereals"
          ],
          [
           "Fish and crustaceans, molluscs and other aquatic invertebrates"
          ],
          [
           "Oil seeds and oleaginous fruits; miscellaneous grains, seeds and fruit, industrial or medicinal plants; straw and fodder"
          ],
          [
           "Coffee, tea, mate and spices"
          ],
          [
           "Meat, fish or crustaceans, molluscs or other aquatic invertebrates; preparations thereof"
          ],
          [
           "Products of the milling industry; malt, starches, inulin, wheat gluten"
          ],
          [
           "Dairy produce; birds' eggs; natural honey; edible products of animal origin, not elsewhere specified or included"
          ],
          [
           "Lac; gums, resins and other vegetable saps and extracts"
          ],
          [
           "Preparations of cereals, flour, starch or milk; pastrycooks' products"
          ],
          [
           "Meat, fish or crustaceans, molluscs or other aquatic invertebrates; preparations thereof"
          ],
          [
           "Preparations of cereals, flour, starch or milk; pastrycooks' products"
          ],
          [
           "Preparations of cereals, flour, starch or milk; pastrycooks' products"
          ],
          [
           "Sugars and sugar confectionery"
          ],
          [
           "Animal originated products; not elsewhere specified or included"
          ],
          [
           "Products of the milling industry; malt, starches, inulin, wheat gluten"
          ],
          [
           "Preparations of vegetables, fruit, nuts or other parts of plants"
          ],
          [
           "Sugars and sugar confectionery"
          ],
          [
           "Preparations of vegetables, fruit, nuts or other parts of plants"
          ],
          [
           "Preparations of cereals, flour, starch or milk; pastrycooks' products"
          ],
          [
           "Cereals"
          ],
          [
           "Fish and crustaceans, molluscs and other aquatic invertebrates"
          ],
          [
           "Sugars and sugar confectionery"
          ],
          [
           "Products of the milling industry; malt, starches, inulin, wheat gluten"
          ],
          [
           "Products of the milling industry; malt, starches, inulin, wheat gluten"
          ],
          [
           "Preparations of cereals, flour, starch or milk; pastrycooks' products"
          ],
          [
           "Dairy produce; birds' eggs; natural honey; edible products of animal origin, not elsewhere specified or included"
          ],
          [
           "Animal or vegetable fats and oils and their cleavage products; prepared animal fats; animal or vegetable waxes"
          ],
          [
           "Cereals"
          ],
          [
           "Vegetables and certain roots and tubers; edible"
          ],
          [
           "Fish and crustaceans, molluscs and other aquatic invertebrates"
          ],
          [
           "Cereals"
          ],
          [
           "Cereals"
          ],
          [
           "Animal originated products; not elsewhere specified or included"
          ],
          [
           "Fish and crustaceans, molluscs and other aquatic invertebrates"
          ],
          [
           "Fruit and nuts, edible; peel of citrus fruit or melons"
          ],
          [
           "Cereals"
          ],
          [
           "Coffee, tea, mate and spices"
          ],
          [
           "Cereals"
          ],
          [
           "Preparations of vegetables, fruit, nuts or other parts of plants"
          ],
          [
           "Fish and crustaceans, molluscs and other aquatic invertebrates"
          ],
          [
           "Preparations of cereals, flour, starch or milk; pastrycooks' products"
          ],
          [
           "Fruit and nuts, edible; peel of citrus fruit or melons"
          ],
          [
           "Meat and edible meat offal"
          ],
          [
           "Lac; gums, resins and other vegetable saps and extracts"
          ],
          [
           "Fruit and nuts, edible; peel of citrus fruit or melons"
          ],
          [
           "Products of the milling industry; malt, starches, inulin, wheat gluten"
          ],
          [
           "Oil seeds and oleaginous fruits; miscellaneous grains, seeds and fruit, industrial or medicinal plants; straw and fodder"
          ],
          [
           "Preparations of cereals, flour, starch or milk; pastrycooks' products"
          ],
          [
           "Lac; gums, resins and other vegetable saps and extracts"
          ],
          [
           "Cereals"
          ],
          [
           "Preparations of vegetables, fruit, nuts or other parts of plants"
          ],
          [
           "Vegetables and certain roots and tubers; edible"
          ],
          [
           "Animals; live"
          ],
          [
           "Cereals"
          ],
          [
           "Meat and edible meat offal"
          ],
          [
           "Animal originated products; not elsewhere specified or included"
          ],
          [
           "Oil seeds and oleaginous fruits; miscellaneous grains, seeds and fruit, industrial or medicinal plants; straw and fodder"
          ],
          [
           "Preparations of cereals, flour, starch or milk; pastrycooks' products"
          ],
          [
           "Preparations of vegetables, fruit, nuts or other parts of plants"
          ],
          [
           "Oil seeds and oleaginous fruits; miscellaneous grains, seeds and fruit, industrial or medicinal plants; straw and fodder"
          ],
          [
           "Preparations of vegetables, fruit, nuts or other parts of plants"
          ],
          [
           "Oil seeds and oleaginous fruits; miscellaneous grains, seeds and fruit, industrial or medicinal plants; straw and fodder"
          ],
          [
           "Products of the milling industry; malt, starches, inulin, wheat gluten"
          ],
          [
           "Meat, fish or crustaceans, molluscs or other aquatic invertebrates; preparations thereof"
          ],
          [
           "Oil seeds and oleaginous fruits; miscellaneous grains, seeds and fruit, industrial or medicinal plants; straw and fodder"
          ],
          [
           "Fruit and nuts, edible; peel of citrus fruit or melons"
          ],
          [
           "Coffee, tea, mate and spices"
          ],
          [
           "Sugars and sugar confectionery"
          ],
          [
           "Fruit and nuts, edible; peel of citrus fruit or melons"
          ],
          [
           "Vegetables and certain roots and tubers; edible"
          ],
          [
           "Coffee, tea, mate and spices"
          ],
          [
           "Sugars and sugar confectionery"
          ],
          [
           "Preparations of cereals, flour, starch or milk; pastrycooks' products"
          ],
          [
           "Cereals"
          ],
          [
           "Coffee, tea, mate and spices"
          ],
          [
           "Preparations of vegetables, fruit, nuts or other parts of plants"
          ],
          [
           "Fruit and nuts, edible; peel of citrus fruit or melons"
          ],
          [
           "Fish and crustaceans, molluscs and other aquatic invertebrates"
          ],
          [
           "Coffee, tea, mate and spices"
          ],
          [
           "Coffee, tea, mate and spices"
          ],
          [
           "Preparations of vegetables, fruit, nuts or other parts of plants"
          ],
          [
           "Animal originated products; not elsewhere specified or included"
          ],
          [
           "Fish and crustaceans, molluscs and other aquatic invertebrates"
          ],
          [
           "Preparations of vegetables, fruit, nuts or other parts of plants"
          ],
          [
           "Oil seeds and oleaginous fruits; miscellaneous grains, seeds and fruit, industrial or medicinal plants; straw and fodder"
          ],
          [
           "Oil seeds and oleaginous fruits; miscellaneous grains, seeds and fruit, industrial or medicinal plants; straw and fodder"
          ],
          [
           "Lac; gums, resins and other vegetable saps and extracts"
          ],
          [
           "Fruit and nuts, edible; peel of citrus fruit or melons"
          ],
          [
           "Lac; gums, resins and other vegetable saps and extracts"
          ],
          [
           "Sugars and sugar confectionery"
          ],
          [
           "Coffee, tea, mate and spices"
          ],
          [
           "Oil seeds and oleaginous fruits; miscellaneous grains, seeds and fruit, industrial or medicinal plants; straw and fodder"
          ],
          [
           "Lac; gums, resins and other vegetable saps and extracts"
          ],
          [
           "Preparations of cereals, flour, starch or milk; pastrycooks' products"
          ],
          [
           "Fruit and nuts, edible; peel of citrus fruit or melons"
          ],
          [
           "Preparations of cereals, flour, starch or milk; pastrycooks' products"
          ],
          [
           "Lac; gums, resins and other vegetable saps and extracts"
          ],
          [
           "Sugars and sugar confectionery"
          ],
          [
           "Vegetables and certain roots and tubers; edible"
          ],
          [
           "Fruit and nuts, edible; peel of citrus fruit or melons"
          ],
          [
           "Animal originated products; not elsewhere specified or included"
          ],
          [
           "Preparations of vegetables, fruit, nuts or other parts of plants"
          ],
          [
           "Dairy produce; birds' eggs; natural honey; edible products of animal origin, not elsewhere specified or included"
          ],
          [
           "Fruit and nuts, edible; peel of citrus fruit or melons"
          ],
          [
           "Sugars and sugar confectionery"
          ],
          [
           "Lac; gums, resins and other vegetable saps and extracts"
          ],
          [
           "Preparations of vegetables, fruit, nuts or other parts of plants"
          ],
          [
           "Vegetables and certain roots and tubers; edible"
          ],
          [
           "Cereals"
          ],
          [
           "Products of the milling industry; malt, starches, inulin, wheat gluten"
          ],
          [
           "Preparations of vegetables, fruit, nuts or other parts of plants"
          ],
          [
           "Vegetables and certain roots and tubers; edible"
          ],
          [
           "Oil seeds and oleaginous fruits; miscellaneous grains, seeds and fruit, industrial or medicinal plants; straw and fodder"
          ],
          [
           "Fruit and nuts, edible; peel of citrus fruit or melons"
          ],
          [
           "Meat, fish or crustaceans, molluscs or other aquatic invertebrates; preparations thereof"
          ],
          [
           "Fruit and nuts, edible; peel of citrus fruit or melons"
          ],
          [
           "Animal originated products; not elsewhere specified or included"
          ],
          [
           "Oil seeds and oleaginous fruits; miscellaneous grains, seeds and fruit, industrial or medicinal plants; straw and fodder"
          ],
          [
           "Lac; gums, resins and other vegetable saps and extracts"
          ],
          [
           "Sugars and sugar confectionery"
          ],
          [
           "Coffee, tea, mate and spices"
          ],
          [
           "Preparations of cereals, flour, starch or milk; pastrycooks' products"
          ],
          [
           "Cereals"
          ],
          [
           "Coffee, tea, mate and spices"
          ],
          [
           "Dairy produce; birds' eggs; natural honey; edible products of animal origin, not elsewhere specified or included"
          ],
          [
           "Cereals"
          ],
          [
           "Oil seeds and oleaginous fruits; miscellaneous grains, seeds and fruit, industrial or medicinal plants; straw and fodder"
          ],
          [
           "Vegetables and certain roots and tubers; edible"
          ],
          [
           "Animal or vegetable fats and oils and their cleavage products; prepared animal fats; animal or vegetable waxes"
          ],
          [
           "Fruit and nuts, edible; peel of citrus fruit or melons"
          ],
          [
           "Cereals"
          ],
          [
           "Lac; gums, resins and other vegetable saps and extracts"
          ],
          [
           "Coffee, tea, mate and spices"
          ],
          [
           "Fruit and nuts, edible; peel of citrus fruit or melons"
          ],
          [
           "Preparations of cereals, flour, starch or milk; pastrycooks' products"
          ],
          [
           "Vegetables and certain roots and tubers; edible"
          ],
          [
           "Coffee, tea, mate and spices"
          ],
          [
           "Coffee, tea, mate and spices"
          ],
          [
           "Lac; gums, resins and other vegetable saps and extracts"
          ],
          [
           "Products of the milling industry; malt, starches, inulin, wheat gluten"
          ],
          [
           "Lac; gums, resins and other vegetable saps and extracts"
          ],
          [
           "Sugars and sugar confectionery"
          ],
          [
           "Preparations of vegetables, fruit, nuts or other parts of plants"
          ],
          [
           "Preparations of cereals, flour, starch or milk; pastrycooks' products"
          ],
          [
           "Vegetables and certain roots and tubers; edible"
          ],
          [
           "Fish and crustaceans, molluscs and other aquatic invertebrates"
          ],
          [
           "Lac; gums, resins and other vegetable saps and extracts"
          ],
          [
           "Vegetables and certain roots and tubers; edible"
          ],
          [
           "Cereals"
          ],
          [
           "Products of the milling industry; malt, starches, inulin, wheat gluten"
          ],
          [
           "Oil seeds and oleaginous fruits; miscellaneous grains, seeds and fruit, industrial or medicinal plants; straw and fodder"
          ],
          [
           "Cereals"
          ],
          [
           "Cereals"
          ],
          [
           "Preparations of vegetables, fruit, nuts or other parts of plants"
          ],
          [
           "Sugars and sugar confectionery"
          ],
          [
           "Coffee, tea, mate and spices"
          ],
          [
           "Vegetables and certain roots and tubers; edible"
          ],
          [
           "Fish and crustaceans, molluscs and other aquatic invertebrates"
          ],
          [
           "Lac; gums, resins and other vegetable saps and extracts"
          ],
          [
           "Coffee, tea, mate and spices"
          ],
          [
           "Animal or vegetable fats and oils and their cleavage products; prepared animal fats; animal or vegetable waxes"
          ],
          [
           "Animals; live"
          ],
          [
           "Preparations of cereals, flour, starch or milk; pastrycooks' products"
          ],
          [
           "Vegetables and certain roots and tubers; edible"
          ],
          [
           "Coffee, tea, mate and spices"
          ],
          [
           "Meat and edible meat offal"
          ],
          [
           "Preparations of vegetables, fruit, nuts or other parts of plants"
          ],
          [
           "Sugars and sugar confectionery"
          ],
          [
           "Preparations of cereals, flour, starch or milk; pastrycooks' products"
          ],
          [
           "Cereals"
          ],
          [
           "Preparations of cereals, flour, starch or milk; pastrycooks' products"
          ],
          [
           "Vegetables and certain roots and tubers; edible"
          ],
          [
           "Animals; live"
          ],
          [
           "Meat, fish or crustaceans, molluscs or other aquatic invertebrates; preparations thereof"
          ],
          [
           "Products of the milling industry; malt, starches, inulin, wheat gluten"
          ],
          [
           "Oil seeds and oleaginous fruits; miscellaneous grains, seeds and fruit, industrial or medicinal plants; straw and fodder"
          ],
          [
           "Cereals"
          ],
          [
           "Cereals"
          ],
          [
           "Products of the milling industry; malt, starches, inulin, wheat gluten"
          ],
          [
           "Preparations of cereals, flour, starch or milk; pastrycooks' products"
          ],
          [
           "Sugars and sugar confectionery"
          ],
          [
           "Cereals"
          ],
          [
           "Preparations of vegetables, fruit, nuts or other parts of plants"
          ],
          [
           "Dairy produce; birds' eggs; natural honey; edible products of animal origin, not elsewhere specified or included"
          ],
          [
           "Fruit and nuts, edible; peel of citrus fruit or melons"
          ],
          [
           "Products of the milling industry; malt, starches, inulin, wheat gluten"
          ],
          [
           "Coffee, tea, mate and spices"
          ],
          [
           "Preparations of cereals, flour, starch or milk; pastrycooks' products"
          ],
          [
           "Fruit and nuts, edible; peel of citrus fruit or melons"
          ],
          [
           "Coffee, tea, mate and spices"
          ],
          [
           "Cereals"
          ],
          [
           "Meat and edible meat offal"
          ],
          [
           "Animals; live"
          ],
          [
           "Products of the milling industry; malt, starches, inulin, wheat gluten"
          ],
          [
           "Preparations of vegetables, fruit, nuts or other parts of plants"
          ],
          [
           "Coffee, tea, mate and spices"
          ],
          [
           "Lac; gums, resins and other vegetable saps and extracts"
          ],
          [
           "Sugars and sugar confectionery"
          ],
          [
           "Coffee, tea, mate and spices"
          ],
          [
           "Coffee, tea, mate and spices"
          ],
          [
           "Animal or vegetable fats and oils and their cleavage products; prepared animal fats; animal or vegetable waxes"
          ],
          [
           "Sugars and sugar confectionery"
          ],
          [
           "Fish and crustaceans, molluscs and other aquatic invertebrates"
          ],
          [
           "Coffee, tea, mate and spices"
          ],
          [
           "Vegetables and certain roots and tubers; edible"
          ],
          [
           "Animal or vegetable fats and oils and their cleavage products; prepared animal fats; animal or vegetable waxes"
          ],
          [
           "Animal originated products; not elsewhere specified or included"
          ],
          [
           "Vegetables and certain roots and tubers; edible"
          ],
          [
           "Fruit and nuts, edible; peel of citrus fruit or melons"
          ],
          [
           "Products of the milling industry; malt, starches, inulin, wheat gluten"
          ],
          [
           "Oil seeds and oleaginous fruits; miscellaneous grains, seeds and fruit, industrial or medicinal plants; straw and fodder"
          ],
          [
           "Fish and crustaceans, molluscs and other aquatic invertebrates"
          ],
          [
           "Vegetables and certain roots and tubers; edible"
          ],
          [
           "Animal or vegetable fats and oils and their cleavage products; prepared animal fats; animal or vegetable waxes"
          ],
          [
           "Lac; gums, resins and other vegetable saps and extracts"
          ],
          [
           "Animal or vegetable fats and oils and their cleavage products; prepared animal fats; animal or vegetable waxes"
          ],
          [
           "Sugars and sugar confectionery"
          ],
          [
           "Lac; gums, resins and other vegetable saps and extracts"
          ],
          [
           "Preparations of vegetables, fruit, nuts or other parts of plants"
          ],
          [
           "Sugars and sugar confectionery"
          ],
          [
           "Fish and crustaceans, molluscs and other aquatic invertebrates"
          ],
          [
           "Oil seeds and oleaginous fruits; miscellaneous grains, seeds and fruit, industrial or medicinal plants; straw and fodder"
          ],
          [
           "Fruit and nuts, edible; peel of citrus fruit or melons"
          ],
          [
           "Cereals"
          ],
          [
           "Coffee, tea, mate and spices"
          ],
          [
           "Preparations of cereals, flour, starch or milk; pastrycooks' products"
          ],
          [
           "Preparations of cereals, flour, starch or milk; pastrycooks' products"
          ],
          [
           "Meat, fish or crustaceans, molluscs or other aquatic invertebrates; preparations thereof"
          ],
          [
           "Fish and crustaceans, molluscs and other aquatic invertebrates"
          ],
          [
           "Animal originated products; not elsewhere specified or included"
          ],
          [
           "Vegetables and certain roots and tubers; edible"
          ],
          [
           "Animals; live"
          ],
          [
           "Products of the milling industry; malt, starches, inulin, wheat gluten"
          ],
          [
           "Oil seeds and oleaginous fruits; miscellaneous grains, seeds and fruit, industrial or medicinal plants; straw and fodder"
          ],
          [
           "Preparations of cereals, flour, starch or milk; pastrycooks' products"
          ],
          [
           "Preparations of vegetables, fruit, nuts or other parts of plants"
          ],
          [
           "Oil seeds and oleaginous fruits; miscellaneous grains, seeds and fruit, industrial or medicinal plants; straw and fodder"
          ],
          [
           "Vegetables and certain roots and tubers; edible"
          ],
          [
           "Cereals"
          ],
          [
           "Cereals"
          ],
          [
           "Preparations of cereals, flour, starch or milk; pastrycooks' products"
          ],
          [
           "Fish and crustaceans, molluscs and other aquatic invertebrates"
          ],
          [
           "Oil seeds and oleaginous fruits; miscellaneous grains, seeds and fruit, industrial or medicinal plants; straw and fodder"
          ],
          [
           "Coffee, tea, mate and spices"
          ],
          [
           "Cereals"
          ],
          [
           "Products of the milling industry; malt, starches, inulin, wheat gluten"
          ],
          [
           "Lac; gums, resins and other vegetable saps and extracts"
          ],
          [
           "Animal originated products; not elsewhere specified or included"
          ],
          [
           "Sugars and sugar confectionery"
          ],
          [
           "Fish and crustaceans, molluscs and other aquatic invertebrates"
          ],
          [
           "Lac; gums, resins and other vegetable saps and extracts"
          ],
          [
           "Fruit and nuts, edible; peel of citrus fruit or melons"
          ],
          [
           "Coffee, tea, mate and spices"
          ],
          [
           "Sugars and sugar confectionery"
          ],
          [
           "Coffee, tea, mate and spices"
          ],
          [
           "Preparations of cereals, flour, starch or milk; pastrycooks' products"
          ],
          [
           "Animal or vegetable fats and oils and their cleavage products; prepared animal fats; animal or vegetable waxes"
          ],
          [
           "Cereals"
          ],
          [
           "Lac; gums, resins and other vegetable saps and extracts"
          ],
          [
           "Vegetables and certain roots and tubers; edible"
          ],
          [
           "Fruit and nuts, edible; peel of citrus fruit or melons"
          ],
          [
           "Preparations of cereals, flour, starch or milk; pastrycooks' products"
          ],
          [
           "Sugars and sugar confectionery"
          ],
          [
           "Fish and crustaceans, molluscs and other aquatic invertebrates"
          ],
          [
           "Lac; gums, resins and other vegetable saps and extracts"
          ],
          [
           "Vegetables and certain roots and tubers; edible"
          ],
          [
           "Oil seeds and oleaginous fruits; miscellaneous grains, seeds and fruit, industrial or medicinal plants; straw and fodder"
          ],
          [
           "Cereals"
          ],
          [
           "Sugars and sugar confectionery"
          ],
          [
           "Cereals"
          ],
          [
           "Meat and edible meat offal"
          ],
          [
           "Meat and edible meat offal"
          ],
          [
           "Oil seeds and oleaginous fruits; miscellaneous grains, seeds and fruit, industrial or medicinal plants; straw and fodder"
          ],
          [
           "Fruit and nuts, edible; peel of citrus fruit or melons"
          ],
          [
           "Preparations of cereals, flour, starch or milk; pastrycooks' products"
          ],
          [
           "Preparations of vegetables, fruit, nuts or other parts of plants"
          ],
          [
           "Meat and edible meat offal"
          ],
          [
           "Animal originated products; not elsewhere specified or included"
          ],
          [
           "Sugars and sugar confectionery"
          ],
          [
           "Oil seeds and oleaginous fruits; miscellaneous grains, seeds and fruit, industrial or medicinal plants; straw and fodder"
          ],
          [
           "Fruit and nuts, edible; peel of citrus fruit or melons"
          ],
          [
           "Animal originated products; not elsewhere specified or included"
          ],
          [
           "Dairy produce; birds' eggs; natural honey; edible products of animal origin, not elsewhere specified or included"
          ],
          [
           "Oil seeds and oleaginous fruits; miscellaneous grains, seeds and fruit, industrial or medicinal plants; straw and fodder"
          ],
          [
           "Animal or vegetable fats and oils and their cleavage products; prepared animal fats; animal or vegetable waxes"
          ],
          [
           "Cereals"
          ],
          [
           "Vegetables and certain roots and tubers; edible"
          ],
          [
           "Preparations of vegetables, fruit, nuts or other parts of plants"
          ],
          [
           "Preparations of cereals, flour, starch or milk; pastrycooks' products"
          ],
          [
           "Fruit and nuts, edible; peel of citrus fruit or melons"
          ],
          [
           "Sugars and sugar confectionery"
          ],
          [
           "Cereals"
          ],
          [
           "Coffee, tea, mate and spices"
          ],
          [
           "Preparations of cereals, flour, starch or milk; pastrycooks' products"
          ],
          [
           "Sugars and sugar confectionery"
          ],
          [
           "Fruit and nuts, edible; peel of citrus fruit or melons"
          ],
          [
           "Vegetables and certain roots and tubers; edible"
          ],
          [
           "Lac; gums, resins and other vegetable saps and extracts"
          ],
          [
           "Preparations of vegetables, fruit, nuts or other parts of plants"
          ],
          [
           "Lac; gums, resins and other vegetable saps and extracts"
          ],
          [
           "Preparations of cereals, flour, starch or milk; pastrycooks' products"
          ],
          [
           "Fruit and nuts, edible; peel of citrus fruit or melons"
          ],
          [
           "Preparations of cereals, flour, starch or milk; pastrycooks' products"
          ],
          [
           "Sugars and sugar confectionery"
          ],
          [
           "Coffee, tea, mate and spices"
          ],
          [
           "Sugars and sugar confectionery"
          ],
          [
           "Lac; gums, resins and other vegetable saps and extracts"
          ],
          [
           "Lac; gums, resins and other vegetable saps and extracts"
          ],
          [
           "Products of the milling industry; malt, starches, inulin, wheat gluten"
          ],
          [
           "Coffee, tea, mate and spices"
          ],
          [
           "Preparations of vegetables, fruit, nuts or other parts of plants"
          ],
          [
           "Sugars and sugar confectionery"
          ],
          [
           "Meat, fish or crustaceans, molluscs or other aquatic invertebrates; preparations thereof"
          ],
          [
           "Vegetables and certain roots and tubers; edible"
          ],
          [
           "Animal or vegetable fats and oils and their cleavage products; prepared animal fats; animal or vegetable waxes"
          ],
          [
           "Sugars and sugar confectionery"
          ],
          [
           "Animals; live"
          ],
          [
           "Preparations of vegetables, fruit, nuts or other parts of plants"
          ],
          [
           "Cereals"
          ],
          [
           "Fruit and nuts, edible; peel of citrus fruit or melons"
          ],
          [
           "Sugars and sugar confectionery"
          ],
          [
           "Animal or vegetable fats and oils and their cleavage products; prepared animal fats; animal or vegetable waxes"
          ],
          [
           "Sugars and sugar confectionery"
          ],
          [
           "Dairy produce; birds' eggs; natural honey; edible products of animal origin, not elsewhere specified or included"
          ],
          [
           "Fish and crustaceans, molluscs and other aquatic invertebrates"
          ],
          [
           "Cereals"
          ],
          [
           "Coffee, tea, mate and spices"
          ],
          [
           "Meat, fish or crustaceans, molluscs or other aquatic invertebrates; preparations thereof"
          ],
          [
           "Vegetables and certain roots and tubers; edible"
          ],
          [
           "Preparations of cereals, flour, starch or milk; pastrycooks' products"
          ],
          [
           "Cereals"
          ],
          [
           "Sugars and sugar confectionery"
          ],
          [
           "Oil seeds and oleaginous fruits; miscellaneous grains, seeds and fruit, industrial or medicinal plants; straw and fodder"
          ],
          [
           "Fruit and nuts, edible; peel of citrus fruit or melons"
          ],
          [
           "Coffee, tea, mate and spices"
          ],
          [
           "Fruit and nuts, edible; peel of citrus fruit or melons"
          ],
          [
           "Animals; live"
          ],
          [
           "Fish and crustaceans, molluscs and other aquatic invertebrates"
          ],
          [
           "Fruit and nuts, edible; peel of citrus fruit or melons"
          ],
          [
           "Preparations of cereals, flour, starch or milk; pastrycooks' products"
          ],
          [
           "Coffee, tea, mate and spices"
          ],
          [
           "Cereals"
          ],
          [
           "Meat and edible meat offal"
          ],
          [
           "Cereals"
          ],
          [
           "Coffee, tea, mate and spices"
          ],
          [
           "Oil seeds and oleaginous fruits; miscellaneous grains, seeds and fruit, industrial or medicinal plants; straw and fodder"
          ],
          [
           "Dairy produce; birds' eggs; natural honey; edible products of animal origin, not elsewhere specified or included"
          ],
          [
           "Oil seeds and oleaginous fruits; miscellaneous grains, seeds and fruit, industrial or medicinal plants; straw and fodder"
          ],
          [
           "Vegetables and certain roots and tubers; edible"
          ],
          [
           "Preparations of vegetables, fruit, nuts or other parts of plants"
          ],
          [
           "Coffee, tea, mate and spices"
          ],
          [
           "Sugars and sugar confectionery"
          ],
          [
           "Vegetables and certain roots and tubers; edible"
          ],
          [
           "Cereals"
          ],
          [
           "Cereals"
          ],
          [
           "Coffee, tea, mate and spices"
          ],
          [
           "Coffee, tea, mate and spices"
          ],
          [
           "Cereals"
          ],
          [
           "Preparations of cereals, flour, starch or milk; pastrycooks' products"
          ],
          [
           "Cereals"
          ],
          [
           "Preparations of cereals, flour, starch or milk; pastrycooks' products"
          ],
          [
           "Preparations of vegetables, fruit, nuts or other parts of plants"
          ],
          [
           "Cereals"
          ],
          [
           "Oil seeds and oleaginous fruits; miscellaneous grains, seeds and fruit, industrial or medicinal plants; straw and fodder"
          ],
          [
           "Cereals"
          ],
          [
           "Dairy produce; birds' eggs; natural honey; edible products of animal origin, not elsewhere specified or included"
          ],
          [
           "Oil seeds and oleaginous fruits; miscellaneous grains, seeds and fruit, industrial or medicinal plants; straw and fodder"
          ],
          [
           "Fruit and nuts, edible; peel of citrus fruit or melons"
          ],
          [
           "Animal originated products; not elsewhere specified or included"
          ],
          [
           "Vegetables and certain roots and tubers; edible"
          ],
          [
           "Fruit and nuts, edible; peel of citrus fruit or melons"
          ],
          [
           "Animal originated products; not elsewhere specified or included"
          ],
          [
           "Cereals"
          ],
          [
           "Cereals"
          ],
          [
           "Coffee, tea, mate and spices"
          ],
          [
           "Coffee, tea, mate and spices"
          ],
          [
           "Cereals"
          ],
          [
           "Lac; gums, resins and other vegetable saps and extracts"
          ],
          [
           "Cereals"
          ],
          [
           "Coffee, tea, mate and spices"
          ],
          [
           "Oil seeds and oleaginous fruits; miscellaneous grains, seeds and fruit, industrial or medicinal plants; straw and fodder"
          ],
          [
           "Cereals"
          ],
          [
           "Sugars and sugar confectionery"
          ],
          [
           "Animal or vegetable fats and oils and their cleavage products; prepared animal fats; animal or vegetable waxes"
          ],
          [
           "Preparations of vegetables, fruit, nuts or other parts of plants"
          ],
          [
           "Animal or vegetable fats and oils and their cleavage products; prepared animal fats; animal or vegetable waxes"
          ],
          [
           "Coffee, tea, mate and spices"
          ],
          [
           "Products of the milling industry; malt, starches, inulin, wheat gluten"
          ],
          [
           "Animals; live"
          ],
          [
           "Animal or vegetable fats and oils and their cleavage products; prepared animal fats; animal or vegetable waxes"
          ],
          [
           "Preparations of cereals, flour, starch or milk; pastrycooks' products"
          ],
          [
           "Sugars and sugar confectionery"
          ],
          [
           "Animal originated products; not elsewhere specified or included"
          ],
          [
           "Meat, fish or crustaceans, molluscs or other aquatic invertebrates; preparations thereof"
          ],
          [
           "Vegetables and certain roots and tubers; edible"
          ],
          [
           "Animals; live"
          ],
          [
           "Animal originated products; not elsewhere specified or included"
          ],
          [
           "Coffee, tea, mate and spices"
          ],
          [
           "Cereals"
          ],
          [
           "Preparations of cereals, flour, starch or milk; pastrycooks' products"
          ],
          [
           "Preparations of cereals, flour, starch or milk; pastrycooks' products"
          ],
          [
           "Dairy produce; birds' eggs; natural honey; edible products of animal origin, not elsewhere specified or included"
          ],
          [
           "Animal or vegetable fats and oils and their cleavage products; prepared animal fats; animal or vegetable waxes"
          ],
          [
           "Fruit and nuts, edible; peel of citrus fruit or melons"
          ],
          [
           "Preparations of cereals, flour, starch or milk; pastrycooks' products"
          ],
          [
           "Oil seeds and oleaginous fruits; miscellaneous grains, seeds and fruit, industrial or medicinal plants; straw and fodder"
          ],
          [
           "Fruit and nuts, edible; peel of citrus fruit or melons"
          ],
          [
           "Cereals"
          ],
          [
           "Fruit and nuts, edible; peel of citrus fruit or melons"
          ],
          [
           "Fruit and nuts, edible; peel of citrus fruit or melons"
          ],
          [
           "Animal originated products; not elsewhere specified or included"
          ],
          [
           "Meat and edible meat offal"
          ],
          [
           "Cereals"
          ],
          [
           "Vegetables and certain roots and tubers; edible"
          ],
          [
           "Products of the milling industry; malt, starches, inulin, wheat gluten"
          ],
          [
           "Sugars and sugar confectionery"
          ],
          [
           "Fish and crustaceans, molluscs and other aquatic invertebrates"
          ],
          [
           "Preparations of vegetables, fruit, nuts or other parts of plants"
          ],
          [
           "Preparations of cereals, flour, starch or milk; pastrycooks' products"
          ],
          [
           "Preparations of vegetables, fruit, nuts or other parts of plants"
          ],
          [
           "Vegetables and certain roots and tubers; edible"
          ],
          [
           "Dairy produce; birds' eggs; natural honey; edible products of animal origin, not elsewhere specified or included"
          ],
          [
           "Oil seeds and oleaginous fruits; miscellaneous grains, seeds and fruit, industrial or medicinal plants; straw and fodder"
          ],
          [
           "Dairy produce; birds' eggs; natural honey; edible products of animal origin, not elsewhere specified or included"
          ],
          [
           "Cereals"
          ],
          [
           "Coffee, tea, mate and spices"
          ],
          [
           "Vegetables and certain roots and tubers; edible"
          ],
          [
           "Oil seeds and oleaginous fruits; miscellaneous grains, seeds and fruit, industrial or medicinal plants; straw and fodder"
          ],
          [
           "Preparations of cereals, flour, starch or milk; pastrycooks' products"
          ],
          [
           "Cereals"
          ],
          [
           "Coffee, tea, mate and spices"
          ],
          [
           "Oil seeds and oleaginous fruits; miscellaneous grains, seeds and fruit, industrial or medicinal plants; straw and fodder"
          ],
          [
           "Cereals"
          ],
          [
           "Fruit and nuts, edible; peel of citrus fruit or melons"
          ],
          [
           "Animal or vegetable fats and oils and their cleavage products; prepared animal fats; animal or vegetable waxes"
          ],
          [
           "Oil seeds and oleaginous fruits; miscellaneous grains, seeds and fruit, industrial or medicinal plants; straw and fodder"
          ],
          [
           "Cereals"
          ],
          [
           "Animal originated products; not elsewhere specified or included"
          ],
          [
           "Preparations of vegetables, fruit, nuts or other parts of plants"
          ],
          [
           "Fruit and nuts, edible; peel of citrus fruit or melons"
          ],
          [
           "Cereals"
          ],
          [
           "Coffee, tea, mate and spices"
          ],
          [
           "Fruit and nuts, edible; peel of citrus fruit or melons"
          ],
          [
           "Animal originated products; not elsewhere specified or included"
          ],
          [
           "Animal originated products; not elsewhere specified or included"
          ],
          [
           "Lac; gums, resins and other vegetable saps and extracts"
          ],
          [
           "Cereals"
          ],
          [
           "Oil seeds and oleaginous fruits; miscellaneous grains, seeds and fruit, industrial or medicinal plants; straw and fodder"
          ],
          [
           "Oil seeds and oleaginous fruits; miscellaneous grains, seeds and fruit, industrial or medicinal plants; straw and fodder"
          ],
          [
           "Preparations of cereals, flour, starch or milk; pastrycooks' products"
          ],
          [
           "Products of the milling industry; malt, starches, inulin, wheat gluten"
          ],
          [
           "Meat and edible meat offal"
          ],
          [
           "Animal originated products; not elsewhere specified or included"
          ],
          [
           "Lac; gums, resins and other vegetable saps and extracts"
          ],
          [
           "Fish and crustaceans, molluscs and other aquatic invertebrates"
          ],
          [
           "Fruit and nuts, edible; peel of citrus fruit or melons"
          ],
          [
           "Sugars and sugar confectionery"
          ],
          [
           "Fruit and nuts, edible; peel of citrus fruit or melons"
          ],
          [
           "Animal or vegetable fats and oils and their cleavage products; prepared animal fats; animal or vegetable waxes"
          ],
          [
           "Vegetables and certain roots and tubers; edible"
          ],
          [
           "Products of the milling industry; malt, starches, inulin, wheat gluten"
          ],
          [
           "Animal or vegetable fats and oils and their cleavage products; prepared animal fats; animal or vegetable waxes"
          ],
          [
           "Oil seeds and oleaginous fruits; miscellaneous grains, seeds and fruit, industrial or medicinal plants; straw and fodder"
          ],
          [
           "Oil seeds and oleaginous fruits; miscellaneous grains, seeds and fruit, industrial or medicinal plants; straw and fodder"
          ],
          [
           "Preparations of cereals, flour, starch or milk; pastrycooks' products"
          ],
          [
           "Fruit and nuts, edible; peel of citrus fruit or melons"
          ],
          [
           "Animal originated products; not elsewhere specified or included"
          ],
          [
           "Preparations of vegetables, fruit, nuts or other parts of plants"
          ],
          [
           "Coffee, tea, mate and spices"
          ],
          [
           "Preparations of cereals, flour, starch or milk; pastrycooks' products"
          ],
          [
           "Fruit and nuts, edible; peel of citrus fruit or melons"
          ],
          [
           "Sugars and sugar confectionery"
          ],
          [
           "Sugars and sugar confectionery"
          ],
          [
           "Dairy produce; birds' eggs; natural honey; edible products of animal origin, not elsewhere specified or included"
          ],
          [
           "Preparations of vegetables, fruit, nuts or other parts of plants"
          ],
          [
           "Coffee, tea, mate and spices"
          ],
          [
           "Dairy produce; birds' eggs; natural honey; edible products of animal origin, not elsewhere specified or included"
          ],
          [
           "Animal originated products; not elsewhere specified or included"
          ],
          [
           "Dairy produce; birds' eggs; natural honey; edible products of animal origin, not elsewhere specified or included"
          ],
          [
           "Animal originated products; not elsewhere specified or included"
          ],
          [
           "Preparations of vegetables, fruit, nuts or other parts of plants"
          ],
          [
           "Animal or vegetable fats and oils and their cleavage products; prepared animal fats; animal or vegetable waxes"
          ],
          [
           "Oil seeds and oleaginous fruits; miscellaneous grains, seeds and fruit, industrial or medicinal plants; straw and fodder"
          ],
          [
           "Sugars and sugar confectionery"
          ],
          [
           "Fruit and nuts, edible; peel of citrus fruit or melons"
          ],
          [
           "Lac; gums, resins and other vegetable saps and extracts"
          ],
          [
           "Sugars and sugar confectionery"
          ],
          [
           "Oil seeds and oleaginous fruits; miscellaneous grains, seeds and fruit, industrial or medicinal plants; straw and fodder"
          ],
          [
           "Preparations of vegetables, fruit, nuts or other parts of plants"
          ],
          [
           "Animal originated products; not elsewhere specified or included"
          ],
          [
           "Fish and crustaceans, molluscs and other aquatic invertebrates"
          ],
          [
           "Animal or vegetable fats and oils and their cleavage products; prepared animal fats; animal or vegetable waxes"
          ],
          [
           "Cereals"
          ],
          [
           "Vegetables and certain roots and tubers; edible"
          ],
          [
           "Preparations of vegetables, fruit, nuts or other parts of plants"
          ],
          [
           "Animal originated products; not elsewhere specified or included"
          ],
          [
           "Dairy produce; birds' eggs; natural honey; edible products of animal origin, not elsewhere specified or included"
          ],
          [
           "Coffee, tea, mate and spices"
          ],
          [
           "Lac; gums, resins and other vegetable saps and extracts"
          ],
          [
           "Coffee, tea, mate and spices"
          ],
          [
           "Lac; gums, resins and other vegetable saps and extracts"
          ],
          [
           "Meat and edible meat offal"
          ],
          [
           "Meat and edible meat offal"
          ],
          [
           "Oil seeds and oleaginous fruits; miscellaneous grains, seeds and fruit, industrial or medicinal plants; straw and fodder"
          ],
          [
           "Cereals"
          ],
          [
           "Sugars and sugar confectionery"
          ],
          [
           "Animal or vegetable fats and oils and their cleavage products; prepared animal fats; animal or vegetable waxes"
          ],
          [
           "Sugars and sugar confectionery"
          ],
          [
           "Animal originated products; not elsewhere specified or included"
          ],
          [
           "Animal or vegetable fats and oils and their cleavage products; prepared animal fats; animal or vegetable waxes"
          ],
          [
           "Animal or vegetable fats and oils and their cleavage products; prepared animal fats; animal or vegetable waxes"
          ],
          [
           "Fish and crustaceans, molluscs and other aquatic invertebrates"
          ],
          [
           "Sugars and sugar confectionery"
          ],
          [
           "Vegetables and certain roots and tubers; edible"
          ],
          [
           "Oil seeds and oleaginous fruits; miscellaneous grains, seeds and fruit, industrial or medicinal plants; straw and fodder"
          ],
          [
           "Preparations of cereals, flour, starch or milk; pastrycooks' products"
          ],
          [
           "Coffee, tea, mate and spices"
          ],
          [
           "Sugars and sugar confectionery"
          ],
          [
           "Animal or vegetable fats and oils and their cleavage products; prepared animal fats; animal or vegetable waxes"
          ],
          [
           "Sugars and sugar confectionery"
          ],
          [
           "Preparations of cereals, flour, starch or milk; pastrycooks' products"
          ],
          [
           "Preparations of vegetables, fruit, nuts or other parts of plants"
          ],
          [
           "Animal or vegetable fats and oils and their cleavage products; prepared animal fats; animal or vegetable waxes"
          ],
          [
           "Sugars and sugar confectionery"
          ],
          [
           "Cereals"
          ],
          [
           "Preparations of cereals, flour, starch or milk; pastrycooks' products"
          ],
          [
           "Coffee, tea, mate and spices"
          ],
          [
           "Dairy produce; birds' eggs; natural honey; edible products of animal origin, not elsewhere specified or included"
          ],
          [
           "Coffee, tea, mate and spices"
          ],
          [
           "Products of the milling industry; malt, starches, inulin, wheat gluten"
          ],
          [
           "Animal or vegetable fats and oils and their cleavage products; prepared animal fats; animal or vegetable waxes"
          ],
          [
           "Oil seeds and oleaginous fruits; miscellaneous grains, seeds and fruit, industrial or medicinal plants; straw and fodder"
          ],
          [
           "Animal originated products; not elsewhere specified or included"
          ],
          [
           "Fish and crustaceans, molluscs and other aquatic invertebrates"
          ],
          [
           "Animal or vegetable fats and oils and their cleavage products; prepared animal fats; animal or vegetable waxes"
          ],
          [
           "Cereals"
          ],
          [
           "Cereals"
          ],
          [
           "Oil seeds and oleaginous fruits; miscellaneous grains, seeds and fruit, industrial or medicinal plants; straw and fodder"
          ],
          [
           "Preparations of vegetables, fruit, nuts or other parts of plants"
          ],
          [
           "Sugars and sugar confectionery"
          ],
          [
           "Preparations of vegetables, fruit, nuts or other parts of plants"
          ],
          [
           "Sugars and sugar confectionery"
          ],
          [
           "Preparations of cereals, flour, starch or milk; pastrycooks' products"
          ],
          [
           "Sugars and sugar confectionery"
          ],
          [
           "Preparations of vegetables, fruit, nuts or other parts of plants"
          ],
          [
           "Sugars and sugar confectionery"
          ],
          [
           "Vegetables and certain roots and tubers; edible"
          ],
          [
           "Cereals"
          ],
          [
           "Fish and crustaceans, molluscs and other aquatic invertebrates"
          ],
          [
           "Preparations of cereals, flour, starch or milk; pastrycooks' products"
          ],
          [
           "Cereals"
          ],
          [
           "Sugars and sugar confectionery"
          ],
          [
           "Sugars and sugar confectionery"
          ],
          [
           "Meat and edible meat offal"
          ],
          [
           "Products of the milling industry; malt, starches, inulin, wheat gluten"
          ],
          [
           "Sugars and sugar confectionery"
          ],
          [
           "Fish and crustaceans, molluscs and other aquatic invertebrates"
          ],
          [
           "Preparations of vegetables, fruit, nuts or other parts of plants"
          ],
          [
           "Animal or vegetable fats and oils and their cleavage products; prepared animal fats; animal or vegetable waxes"
          ],
          [
           "Cereals"
          ],
          [
           "Preparations of cereals, flour, starch or milk; pastrycooks' products"
          ],
          [
           "Oil seeds and oleaginous fruits; miscellaneous grains, seeds and fruit, industrial or medicinal plants; straw and fodder"
          ],
          [
           "Fruit and nuts, edible; peel of citrus fruit or melons"
          ],
          [
           "Sugars and sugar confectionery"
          ],
          [
           "Products of the milling industry; malt, starches, inulin, wheat gluten"
          ],
          [
           "Oil seeds and oleaginous fruits; miscellaneous grains, seeds and fruit, industrial or medicinal plants; straw and fodder"
          ],
          [
           "Sugars and sugar confectionery"
          ],
          [
           "Fish and crustaceans, molluscs and other aquatic invertebrates"
          ],
          [
           "Cereals"
          ],
          [
           "Cereals"
          ],
          [
           "Cereals"
          ],
          [
           "Preparations of cereals, flour, starch or milk; pastrycooks' products"
          ],
          [
           "Animal or vegetable fats and oils and their cleavage products; prepared animal fats; animal or vegetable waxes"
          ],
          [
           "Lac; gums, resins and other vegetable saps and extracts"
          ],
          [
           "Preparations of vegetables, fruit, nuts or other parts of plants"
          ],
          [
           "Dairy produce; birds' eggs; natural honey; edible products of animal origin, not elsewhere specified or included"
          ],
          [
           "Coffee, tea, mate and spices"
          ],
          [
           "Dairy produce; birds' eggs; natural honey; edible products of animal origin, not elsewhere specified or included"
          ],
          [
           "Dairy produce; birds' eggs; natural honey; edible products of animal origin, not elsewhere specified or included"
          ],
          [
           "Coffee, tea, mate and spices"
          ],
          [
           "Fruit and nuts, edible; peel of citrus fruit or melons"
          ],
          [
           "Vegetables and certain roots and tubers; edible"
          ],
          [
           "Animal or vegetable fats and oils and their cleavage products; prepared animal fats; animal or vegetable waxes"
          ],
          [
           "Oil seeds and oleaginous fruits; miscellaneous grains, seeds and fruit, industrial or medicinal plants; straw and fodder"
          ],
          [
           "Dairy produce; birds' eggs; natural honey; edible products of animal origin, not elsewhere specified or included"
          ],
          [
           "Cereals"
          ],
          [
           "Fish and crustaceans, molluscs and other aquatic invertebrates"
          ],
          [
           "Preparations of vegetables, fruit, nuts or other parts of plants"
          ],
          [
           "Coffee, tea, mate and spices"
          ],
          [
           "Oil seeds and oleaginous fruits; miscellaneous grains, seeds and fruit, industrial or medicinal plants; straw and fodder"
          ],
          [
           "Products of the milling industry; malt, starches, inulin, wheat gluten"
          ],
          [
           "Coffee, tea, mate and spices"
          ],
          [
           "Preparations of cereals, flour, starch or milk; pastrycooks' products"
          ],
          [
           "Preparations of cereals, flour, starch or milk; pastrycooks' products"
          ],
          [
           "Cereals"
          ],
          [
           "Sugars and sugar confectionery"
          ],
          [
           "Sugars and sugar confectionery"
          ],
          [
           "Preparations of vegetables, fruit, nuts or other parts of plants"
          ],
          [
           "Meat and edible meat offal"
          ],
          [
           "Sugars and sugar confectionery"
          ],
          [
           "Preparations of cereals, flour, starch or milk; pastrycooks' products"
          ],
          [
           "Cereals"
          ],
          [
           "Oil seeds and oleaginous fruits; miscellaneous grains, seeds and fruit, industrial or medicinal plants; straw and fodder"
          ],
          [
           "Fruit and nuts, edible; peel of citrus fruit or melons"
          ],
          [
           "Vegetables and certain roots and tubers; edible"
          ],
          [
           "Fish and crustaceans, molluscs and other aquatic invertebrates"
          ],
          [
           "Fruit and nuts, edible; peel of citrus fruit or melons"
          ],
          [
           "Animal or vegetable fats and oils and their cleavage products; prepared animal fats; animal or vegetable waxes"
          ],
          [
           "Oil seeds and oleaginous fruits; miscellaneous grains, seeds and fruit, industrial or medicinal plants; straw and fodder"
          ],
          [
           "Products of the milling industry; malt, starches, inulin, wheat gluten"
          ],
          [
           "Fruit and nuts, edible; peel of citrus fruit or melons"
          ],
          [
           "Preparations of vegetables, fruit, nuts or other parts of plants"
          ],
          [
           "Products of the milling industry; malt, starches, inulin, wheat gluten"
          ],
          [
           "Coffee, tea, mate and spices"
          ],
          [
           "Preparations of cereals, flour, starch or milk; pastrycooks' products"
          ],
          [
           "Coffee, tea, mate and spices"
          ],
          [
           "Animal or vegetable fats and oils and their cleavage products; prepared animal fats; animal or vegetable waxes"
          ],
          [
           "Lac; gums, resins and other vegetable saps and extracts"
          ],
          [
           "Preparations of cereals, flour, starch or milk; pastrycooks' products"
          ],
          [
           "Oil seeds and oleaginous fruits; miscellaneous grains, seeds and fruit, industrial or medicinal plants; straw and fodder"
          ],
          [
           "Oil seeds and oleaginous fruits; miscellaneous grains, seeds and fruit, industrial or medicinal plants; straw and fodder"
          ],
          [
           "Preparations of cereals, flour, starch or milk; pastrycooks' products"
          ],
          [
           "Animal originated products; not elsewhere specified or included"
          ],
          [
           "Dairy produce; birds' eggs; natural honey; edible products of animal origin, not elsewhere specified or included"
          ],
          [
           "Lac; gums, resins and other vegetable saps and extracts"
          ],
          [
           "Preparations of vegetables, fruit, nuts or other parts of plants"
          ],
          [
           "Fruit and nuts, edible; peel of citrus fruit or melons"
          ],
          [
           "Preparations of vegetables, fruit, nuts or other parts of plants"
          ],
          [
           "Dairy produce; birds' eggs; natural honey; edible products of animal origin, not elsewhere specified or included"
          ],
          [
           "Sugars and sugar confectionery"
          ],
          [
           "Vegetables and certain roots and tubers; edible"
          ],
          [
           "Animal or vegetable fats and oils and their cleavage products; prepared animal fats; animal or vegetable waxes"
          ],
          [
           "Preparations of cereals, flour, starch or milk; pastrycooks' products"
          ],
          [
           "Animal originated products; not elsewhere specified or included"
          ],
          [
           "Fruit and nuts, edible; peel of citrus fruit or melons"
          ],
          [
           "Animal or vegetable fats and oils and their cleavage products; prepared animal fats; animal or vegetable waxes"
          ],
          [
           "Animal originated products; not elsewhere specified or included"
          ],
          [
           "Animals; live"
          ],
          [
           "Cereals"
          ],
          [
           "Coffee, tea, mate and spices"
          ],
          [
           "Dairy produce; birds' eggs; natural honey; edible products of animal origin, not elsewhere specified or included"
          ],
          [
           "Fish and crustaceans, molluscs and other aquatic invertebrates"
          ],
          [
           "Fruit and nuts, edible; peel of citrus fruit or melons"
          ],
          [
           "Lac; gums, resins and other vegetable saps and extracts"
          ],
          [
           "Meat and edible meat offal"
          ],
          [
           "Meat, fish or crustaceans, molluscs or other aquatic invertebrates; preparations thereof"
          ],
          [
           "Oil seeds and oleaginous fruits; miscellaneous grains, seeds and fruit, industrial or medicinal plants; straw and fodder"
          ],
          [
           "Preparations of cereals, flour, starch or milk; pastrycooks' products"
          ],
          [
           "Preparations of vegetables, fruit, nuts or other parts of plants"
          ],
          [
           "Products of the milling industry; malt, starches, inulin, wheat gluten"
          ],
          [
           "Sugars and sugar confectionery"
          ],
          [
           "Vegetables and certain roots and tubers; edible"
          ],
          [
           "(?)"
          ]
         ],
         "domain": {
          "x": [
           0,
           1
          ],
          "y": [
           0,
           1
          ]
         },
         "hovertemplate": "labels=%{label}<br>TradeValue=%{value}<br>parent=%{parent}<br>id=%{id}<br>cmdDescE=%{customdata[0]}<extra></extra>",
         "ids": [
          "all/Fish and crustaceans, molluscs and other aquatic invertebrates/United Arab Emirates",
          "all/Cereals/Sri Lanka",
          "all/Cereals/Madagascar",
          "all/Meat and edible meat offal/Egypt",
          "all/Preparations of vegetables, fruit, nuts or other parts of plants/Maldives",
          "all/Sugars and sugar confectionery/Australia",
          "all/Dairy produce; birds' eggs; natural honey; edible products of animal origin, not elsewhere specified or included/USA",
          "all/Preparations of cereals, flour, starch or milk; pastrycooks' products/Morocco",
          "all/Animal originated products; not elsewhere specified or included/Saudi Arabia",
          "all/Animal or vegetable fats and oils and their cleavage products; prepared animal fats; animal or vegetable waxes/Netherlands",
          "all/Vegetables and certain roots and tubers; edible/Netherlands",
          "all/Fruit and nuts, edible; peel of citrus fruit or melons/Bahrain",
          "all/Animal originated products; not elsewhere specified or included/Somalia",
          "all/Vegetables and certain roots and tubers; edible/Singapore",
          "all/Oil seeds and oleaginous fruits; miscellaneous grains, seeds and fruit, industrial or medicinal plants; straw and fodder/Libya",
          "all/Preparations of cereals, flour, starch or milk; pastrycooks' products/Nigeria",
          "all/Animal originated products; not elsewhere specified or included/China, Hong Kong SAR",
          "all/Fish and crustaceans, molluscs and other aquatic invertebrates/Oman",
          "all/Animal or vegetable fats and oils and their cleavage products; prepared animal fats; animal or vegetable waxes/Other Asia, nes",
          "all/Oil seeds and oleaginous fruits; miscellaneous grains, seeds and fruit, industrial or medicinal plants; straw and fodder/Bangladesh",
          "all/Animals; live/Philippines",
          "all/Lac; gums, resins and other vegetable saps and extracts/Chile",
          "all/Animal originated products; not elsewhere specified or included/Turkey",
          "all/Oil seeds and oleaginous fruits; miscellaneous grains, seeds and fruit, industrial or medicinal plants; straw and fodder/Serbia",
          "all/Preparations of vegetables, fruit, nuts or other parts of plants/Canada",
          "all/Coffee, tea, mate and spices/Belgium",
          "all/Oil seeds and oleaginous fruits; miscellaneous grains, seeds and fruit, industrial or medicinal plants; straw and fodder/Viet Nam",
          "all/Preparations of vegetables, fruit, nuts or other parts of plants/Rep. of Korea",
          "all/Animals; live/Saudi Arabia",
          "all/Preparations of vegetables, fruit, nuts or other parts of plants/Uzbekistan",
          "all/Sugars and sugar confectionery/France",
          "all/Sugars and sugar confectionery/Mozambique",
          "all/Products of the milling industry; malt, starches, inulin, wheat gluten/Trinidad and Tobago",
          "all/Coffee, tea, mate and spices/Kazakhstan",
          "all/Cereals/Kuwait",
          "all/Preparations of vegetables, fruit, nuts or other parts of plants/Greece",
          "all/Fish and crustaceans, molluscs and other aquatic invertebrates/Afghanistan",
          "all/Preparations of vegetables, fruit, nuts or other parts of plants/Ghana",
          "all/Dairy produce; birds' eggs; natural honey; edible products of animal origin, not elsewhere specified or included/Japan",
          "all/Animal or vegetable fats and oils and their cleavage products; prepared animal fats; animal or vegetable waxes/Lebanon",
          "all/Preparations of vegetables, fruit, nuts or other parts of plants/Sweden",
          "all/Oil seeds and oleaginous fruits; miscellaneous grains, seeds and fruit, industrial or medicinal plants; straw and fodder/Iraq",
          "all/Fish and crustaceans, molluscs and other aquatic invertebrates/Albania",
          "all/Preparations of cereals, flour, starch or milk; pastrycooks' products/Italy",
          "all/Sugars and sugar confectionery/Germany",
          "all/Coffee, tea, mate and spices/Ireland",
          "all/Fruit and nuts, edible; peel of citrus fruit or melons/United Kingdom",
          "all/Sugars and sugar confectionery/Latvia",
          "all/Fruit and nuts, edible; peel of citrus fruit or melons/Bulgaria",
          "all/Lac; gums, resins and other vegetable saps and extracts/China, Hong Kong SAR",
          "all/Preparations of cereals, flour, starch or milk; pastrycooks' products/Turkey",
          "all/Fish and crustaceans, molluscs and other aquatic invertebrates/Bangladesh",
          "all/Meat, fish or crustaceans, molluscs or other aquatic invertebrates; preparations thereof/Indonesia",
          "all/Oil seeds and oleaginous fruits; miscellaneous grains, seeds and fruit, industrial or medicinal plants; straw and fodder/Russian Federation",
          "all/Preparations of vegetables, fruit, nuts or other parts of plants/United Arab Emirates",
          "all/Lac; gums, resins and other vegetable saps and extracts/Philippines",
          "all/Cereals/Poland",
          "all/Cereals/Seychelles",
          "all/Preparations of cereals, flour, starch or milk; pastrycooks' products/Saudi Arabia",
          "all/Preparations of cereals, flour, starch or milk; pastrycooks' products/Japan",
          "all/Animal or vegetable fats and oils and their cleavage products; prepared animal fats; animal or vegetable waxes/Qatar",
          "all/Sugars and sugar confectionery/Benin",
          "all/Fruit and nuts, edible; peel of citrus fruit or melons/Brunei Darussalam",
          "all/Dairy produce; birds' eggs; natural honey; edible products of animal origin, not elsewhere specified or included/Canada",
          "all/Oil seeds and oleaginous fruits; miscellaneous grains, seeds and fruit, industrial or medicinal plants; straw and fodder/Qatar",
          "all/Lac; gums, resins and other vegetable saps and extracts/Belgium",
          "all/Vegetables and certain roots and tubers; edible/Belgium",
          "all/Cereals/Rep. of Korea",
          "all/Meat, fish or crustaceans, molluscs or other aquatic invertebrates; preparations thereof/Thailand",
          "all/Fruit and nuts, edible; peel of citrus fruit or melons/Italy",
          "all/Preparations of cereals, flour, starch or milk; pastrycooks' products/Gambia",
          "all/Fruit and nuts, edible; peel of citrus fruit or melons/Azerbaijan",
          "all/Coffee, tea, mate and spices/Ukraine",
          "all/Coffee, tea, mate and spices/Malaysia",
          "all/Fruit and nuts, edible; peel of citrus fruit or melons/Kyrgyzstan",
          "all/Lac; gums, resins and other vegetable saps and extracts/USA",
          "all/Preparations of cereals, flour, starch or milk; pastrycooks' products/South Africa",
          "all/Animal or vegetable fats and oils and their cleavage products; prepared animal fats; animal or vegetable waxes/United Kingdom",
          "all/Preparations of vegetables, fruit, nuts or other parts of plants/Mozambique",
          "all/Products of the milling industry; malt, starches, inulin, wheat gluten/Afghanistan",
          "all/Cereals/Uzbekistan",
          "all/Sugars and sugar confectionery/Finland",
          "all/Fruit and nuts, edible; peel of citrus fruit or melons/Nepal",
          "all/Cereals/Equatorial Guinea",
          "all/Fish and crustaceans, molluscs and other aquatic invertebrates/South Africa",
          "all/Lac; gums, resins and other vegetable saps and extracts/Nepal",
          "all/Cereals/Albania",
          "all/Oil seeds and oleaginous fruits; miscellaneous grains, seeds and fruit, industrial or medicinal plants; straw and fodder/Somalia",
          "all/Cereals/Croatia",
          "all/Preparations of vegetables, fruit, nuts or other parts of plants/Sri Lanka",
          "all/Sugars and sugar confectionery/Guinea",
          "all/Vegetables and certain roots and tubers; edible/Sweden",
          "all/Coffee, tea, mate and spices/Libya",
          "all/Oil seeds and oleaginous fruits; miscellaneous grains, seeds and fruit, industrial or medicinal plants; straw and fodder/Turkmenistan",
          "all/Sugars and sugar confectionery/New Zealand",
          "all/Lac; gums, resins and other vegetable saps and extracts/Czechia",
          "all/Coffee, tea, mate and spices/Maldives",
          "all/Preparations of vegetables, fruit, nuts or other parts of plants/USA",
          "all/Coffee, tea, mate and spices/Norway",
          "all/Animal or vegetable fats and oils and their cleavage products; prepared animal fats; animal or vegetable waxes/Kyrgyzstan",
          "all/Preparations of vegetables, fruit, nuts or other parts of plants/Poland",
          "all/Vegetables and certain roots and tubers; edible/Indonesia",
          "all/Cereals/United Arab Emirates",
          "all/Preparations of cereals, flour, starch or milk; pastrycooks' products/Guyana",
          "all/Lac; gums, resins and other vegetable saps and extracts/Tunisia",
          "all/Fish and crustaceans, molluscs and other aquatic invertebrates/Kenya",
          "all/Animal or vegetable fats and oils and their cleavage products; prepared animal fats; animal or vegetable waxes/Afghanistan",
          "all/Meat, fish or crustaceans, molluscs or other aquatic invertebrates; preparations thereof/China, Hong Kong SAR",
          "all/Preparations of cereals, flour, starch or milk; pastrycooks' products/Senegal",
          "all/Cereals/South Africa",
          "all/Animals; live/Bahrain",
          "all/Cereals/Australia",
          "all/Products of the milling industry; malt, starches, inulin, wheat gluten/Finland",
          "all/Sugars and sugar confectionery/Spain",
          "all/Cereals/Finland",
          "all/Sugars and sugar confectionery/Lithuania",
          "all/Fruit and nuts, edible; peel of citrus fruit or melons/USA",
          "all/Fruit and nuts, edible; peel of citrus fruit or melons/Malaysia",
          "all/Lac; gums, resins and other vegetable saps and extracts/Malaysia",
          "all/Meat, fish or crustaceans, molluscs or other aquatic invertebrates; preparations thereof/Australia",
          "all/Preparations of vegetables, fruit, nuts or other parts of plants/Egypt",
          "all/Fruit and nuts, edible; peel of citrus fruit or melons/Maldives",
          "all/Coffee, tea, mate and spices/Mauritius",
          "all/Animals; live/Egypt",
          "all/Preparations of vegetables, fruit, nuts or other parts of plants/Lithuania",
          "all/Animal originated products; not elsewhere specified or included/France",
          "all/Cereals/Brazil",
          "all/Sugars and sugar confectionery/Mauritius",
          "all/Dairy produce; birds' eggs; natural honey; edible products of animal origin, not elsewhere specified or included/Sri Lanka",
          "all/Coffee, tea, mate and spices/Somalia",
          "all/Dairy produce; birds' eggs; natural honey; edible products of animal origin, not elsewhere specified or included/Bahrain",
          "all/Products of the milling industry; malt, starches, inulin, wheat gluten/Netherlands",
          "all/Vegetables and certain roots and tubers; edible/Turkmenistan",
          "all/Coffee, tea, mate and spices/Netherlands",
          "all/Preparations of cereals, flour, starch or milk; pastrycooks' products/Cyprus",
          "all/Preparations of vegetables, fruit, nuts or other parts of plants/Cyprus",
          "all/Coffee, tea, mate and spices/United Rep. of Tanzania",
          "all/Fruit and nuts, edible; peel of citrus fruit or melons/South Africa",
          "all/Meat and edible meat offal/Azerbaijan",
          "all/Cereals/Denmark",
          "all/Meat, fish or crustaceans, molluscs or other aquatic invertebrates; preparations thereof/South Africa",
          "all/Coffee, tea, mate and spices/Morocco",
          "all/Oil seeds and oleaginous fruits; miscellaneous grains, seeds and fruit, industrial or medicinal plants; straw and fodder/Djibouti",
          "all/Preparations of vegetables, fruit, nuts or other parts of plants/Djibouti",
          "all/Animal or vegetable fats and oils and their cleavage products; prepared animal fats; animal or vegetable waxes/Mexico",
          "all/Cereals/Côte d'Ivoire",
          "all/Oil seeds and oleaginous fruits; miscellaneous grains, seeds and fruit, industrial or medicinal plants; straw and fodder/United Kingdom",
          "all/Preparations of cereals, flour, starch or milk; pastrycooks' products/Libya",
          "all/Preparations of cereals, flour, starch or milk; pastrycooks' products/France",
          "all/Oil seeds and oleaginous fruits; miscellaneous grains, seeds and fruit, industrial or medicinal plants; straw and fodder/Thailand",
          "all/Preparations of vegetables, fruit, nuts or other parts of plants/Yemen",
          "all/Fruit and nuts, edible; peel of citrus fruit or melons/Kazakhstan",
          "all/Oil seeds and oleaginous fruits; miscellaneous grains, seeds and fruit, industrial or medicinal plants; straw and fodder/Hungary",
          "all/Animal originated products; not elsewhere specified or included/Indonesia",
          "all/Preparations of cereals, flour, starch or milk; pastrycooks' products/Jordan",
          "all/Meat, fish or crustaceans, molluscs or other aquatic invertebrates; preparations thereof/Afghanistan",
          "all/Sugars and sugar confectionery/Ukraine",
          "all/Coffee, tea, mate and spices/United Arab Emirates",
          "all/Fruit and nuts, edible; peel of citrus fruit or melons/Japan",
          "all/Animal originated products; not elsewhere specified or included/Japan",
          "all/Cereals/Jamaica",
          "all/Vegetables and certain roots and tubers; edible/Iraq",
          "all/Animal or vegetable fats and oils and their cleavage products; prepared animal fats; animal or vegetable waxes/Ireland",
          "all/Vegetables and certain roots and tubers; edible/Italy",
          "all/Animal originated products; not elsewhere specified or included/Thailand",
          "all/Vegetables and certain roots and tubers; edible/Switzerland",
          "all/Sugars and sugar confectionery/Congo",
          "all/Sugars and sugar confectionery/Kiribati",
          "all/Oil seeds and oleaginous fruits; miscellaneous grains, seeds and fruit, industrial or medicinal plants; straw and fodder/Greece",
          "all/Lac; gums, resins and other vegetable saps and extracts/Libya",
          "all/Fish and crustaceans, molluscs and other aquatic invertebrates/Sri Lanka",
          "all/Cereals/Argentina",
          "all/Animal originated products; not elsewhere specified or included/Uganda",
          "all/Cereals/Lebanon",
          "all/Animal originated products; not elsewhere specified or included/Germany",
          "all/Fruit and nuts, edible; peel of citrus fruit or melons/Angola",
          "all/Dairy produce; birds' eggs; natural honey; edible products of animal origin, not elsewhere specified or included/Kuwait",
          "all/Cereals/Latvia",
          "all/Animal originated products; not elsewhere specified or included/Sweden",
          "all/Lac; gums, resins and other vegetable saps and extracts/Sweden",
          "all/Coffee, tea, mate and spices/Algeria",
          "all/Dairy produce; birds' eggs; natural honey; edible products of animal origin, not elsewhere specified or included/Albania",
          "all/Sugars and sugar confectionery/Ghana",
          "all/Animal or vegetable fats and oils and their cleavage products; prepared animal fats; animal or vegetable waxes/Greece",
          "all/Fruit and nuts, edible; peel of citrus fruit or melons/Greece",
          "all/Preparations of vegetables, fruit, nuts or other parts of plants/Germany",
          "all/Preparations of cereals, flour, starch or milk; pastrycooks' products/Singapore",
          "all/Sugars and sugar confectionery/Russian Federation",
          "all/Vegetables and certain roots and tubers; edible/Canada",
          "all/Sugars and sugar confectionery/Qatar",
          "all/Products of the milling industry; malt, starches, inulin, wheat gluten/Qatar",
          "all/Meat and edible meat offal/Qatar",
          "all/Animal originated products; not elsewhere specified or included/Qatar",
          "all/Lac; gums, resins and other vegetable saps and extracts/Oman",
          "all/Products of the milling industry; malt, starches, inulin, wheat gluten/China",
          "all/Preparations of vegetables, fruit, nuts or other parts of plants/China",
          "all/Meat and edible meat offal/Turkey",
          "all/Oil seeds and oleaginous fruits; miscellaneous grains, seeds and fruit, industrial or medicinal plants; straw and fodder/Trinidad and Tobago",
          "all/Sugars and sugar confectionery/Oman",
          "all/Animal originated products; not elsewhere specified or included/Serbia",
          "all/Preparations of cereals, flour, starch or milk; pastrycooks' products/Sierra Leone",
          "all/Meat, fish or crustaceans, molluscs or other aquatic invertebrates; preparations thereof/Canada",
          "all/Animal originated products; not elsewhere specified or included/Portugal",
          "all/Animal originated products; not elsewhere specified or included/Belgium",
          "all/Preparations of vegetables, fruit, nuts or other parts of plants/Other Asia, nes",
          "all/Animal originated products; not elsewhere specified or included/Paraguay",
          "all/Coffee, tea, mate and spices/Sierra Leone",
          "all/Cereals/Chile",
          "all/Preparations of vegetables, fruit, nuts or other parts of plants/Philippines",
          "all/Animals; live/Viet Nam",
          "all/Meat and edible meat offal/Cambodia",
          "all/Sugars and sugar confectionery/Bulgaria",
          "all/Preparations of vegetables, fruit, nuts or other parts of plants/Bangladesh",
          "all/Meat and edible meat offal/Viet Nam",
          "all/Animal originated products; not elsewhere specified or included/Norway",
          "all/Meat, fish or crustaceans, molluscs or other aquatic invertebrates; preparations thereof/Rep. of Korea",
          "all/Sugars and sugar confectionery/Togo",
          "all/Cereals/Russian Federation",
          "all/Products of the milling industry; malt, starches, inulin, wheat gluten/Brazil",
          "all/Preparations of vegetables, fruit, nuts or other parts of plants/Brunei Darussalam",
          "all/Fruit and nuts, edible; peel of citrus fruit or melons/Colombia",
          "all/Fruit and nuts, edible; peel of citrus fruit or melons/Saudi Arabia",
          "all/Products of the milling industry; malt, starches, inulin, wheat gluten/Kyrgyzstan",
          "all/Lac; gums, resins and other vegetable saps and extracts/Canada",
          "all/Vegetables and certain roots and tubers; edible/Sudan",
          "all/Vegetables and certain roots and tubers; edible/Sri Lanka",
          "all/Coffee, tea, mate and spices/Portugal",
          "all/Cereals/Bulgaria",
          "all/Animal originated products; not elsewhere specified or included/Georgia",
          "all/Preparations of vegetables, fruit, nuts or other parts of plants/Portugal",
          "all/Cereals/Gambia",
          "all/Cereals/Trinidad and Tobago",
          "all/Sugars and sugar confectionery/Argentina",
          "all/Animal originated products; not elsewhere specified or included/Bosnia Herzegovina",
          "all/Fruit and nuts, edible; peel of citrus fruit or melons/Ireland",
          "all/Preparations of cereals, flour, starch or milk; pastrycooks' products/Philippines",
          "all/Oil seeds and oleaginous fruits; miscellaneous grains, seeds and fruit, industrial or medicinal plants; straw and fodder/Italy",
          "all/Oil seeds and oleaginous fruits; miscellaneous grains, seeds and fruit, industrial or medicinal plants; straw and fodder/Lebanon",
          "all/Sugars and sugar confectionery/Brazil",
          "all/Vegetables and certain roots and tubers; edible/Germany",
          "all/Meat and edible meat offal/Jordan",
          "all/Cereals/Hungary",
          "all/Products of the milling industry; malt, starches, inulin, wheat gluten/Belgium",
          "all/Oil seeds and oleaginous fruits; miscellaneous grains, seeds and fruit, industrial or medicinal plants; straw and fodder/Kazakhstan",
          "all/Oil seeds and oleaginous fruits; miscellaneous grains, seeds and fruit, industrial or medicinal plants; straw and fodder/Afghanistan",
          "all/Animal or vegetable fats and oils and their cleavage products; prepared animal fats; animal or vegetable waxes/Guinea",
          "all/Products of the milling industry; malt, starches, inulin, wheat gluten/Kenya",
          "all/Dairy produce; birds' eggs; natural honey; edible products of animal origin, not elsewhere specified or included/Indonesia",
          "all/Coffee, tea, mate and spices/Albania",
          "all/Fruit and nuts, edible; peel of citrus fruit or melons/Rep. of Korea",
          "all/Preparations of vegetables, fruit, nuts or other parts of plants/Qatar",
          "all/Cereals/Angola",
          "all/Fruit and nuts, edible; peel of citrus fruit or melons/Kuwait",
          "all/Coffee, tea, mate and spices/Switzerland",
          "all/Preparations of vegetables, fruit, nuts or other parts of plants/Switzerland",
          "all/Preparations of vegetables, fruit, nuts or other parts of plants/Ukraine",
          "all/Meat and edible meat offal/Saudi Arabia",
          "all/Meat, fish or crustaceans, molluscs or other aquatic invertebrates; preparations thereof/Japan",
          "all/Meat, fish or crustaceans, molluscs or other aquatic invertebrates; preparations thereof/United Arab Emirates",
          "all/Lac; gums, resins and other vegetable saps and extracts/Iraq",
          "all/Fruit and nuts, edible; peel of citrus fruit or melons/Thailand",
          "all/Coffee, tea, mate and spices/United Kingdom",
          "all/Oil seeds and oleaginous fruits; miscellaneous grains, seeds and fruit, industrial or medicinal plants; straw and fodder/Algeria",
          "all/Sugars and sugar confectionery/Viet Nam",
          "all/Cereals/Greece",
          "all/Preparations of cereals, flour, starch or milk; pastrycooks' products/Mauritius",
          "all/Animal or vegetable fats and oils and their cleavage products; prepared animal fats; animal or vegetable waxes/France",
          "all/Oil seeds and oleaginous fruits; miscellaneous grains, seeds and fruit, industrial or medicinal plants; straw and fodder/China",
          "all/Sugars and sugar confectionery/Djibouti",
          "all/Preparations of vegetables, fruit, nuts or other parts of plants/Sierra Leone",
          "all/Coffee, tea, mate and spices/Mexico",
          "all/Cereals/Oman",
          "all/Vegetables and certain roots and tubers; edible/Australia",
          "all/Lac; gums, resins and other vegetable saps and extracts/Montenegro",
          "all/Preparations of cereals, flour, starch or milk; pastrycooks' products/Chile",
          "all/Animal or vegetable fats and oils and their cleavage products; prepared animal fats; animal or vegetable waxes/Trinidad and Tobago",
          "all/Preparations of cereals, flour, starch or milk; pastrycooks' products/Denmark",
          "all/Fish and crustaceans, molluscs and other aquatic invertebrates/Singapore",
          "all/Products of the milling industry; malt, starches, inulin, wheat gluten/South Africa",
          "all/Sugars and sugar confectionery/Morocco",
          "all/Cereals/China, Hong Kong SAR",
          "all/Fruit and nuts, edible; peel of citrus fruit or melons/Yemen",
          "all/Sugars and sugar confectionery/United Rep. of Tanzania",
          "all/Sugars and sugar confectionery/Norway",
          "all/Oil seeds and oleaginous fruits; miscellaneous grains, seeds and fruit, industrial or medicinal plants; straw and fodder/Nepal",
          "all/Cereals/Turkmenistan",
          "all/Animal or vegetable fats and oils and their cleavage products; prepared animal fats; animal or vegetable waxes/Bangladesh",
          "all/Vegetables and certain roots and tubers; edible/Bahrain",
          "all/Coffee, tea, mate and spices/Cyprus",
          "all/Cereals/Nigeria",
          "all/Cereals/New Zealand",
          "all/Meat, fish or crustaceans, molluscs or other aquatic invertebrates; preparations thereof/Mozambique",
          "all/Fruit and nuts, edible; peel of citrus fruit or melons/Spain",
          "all/Preparations of cereals, flour, starch or milk; pastrycooks' products/United Rep. of Tanzania",
          "all/Meat and edible meat offal/Malaysia",
          "all/Products of the milling industry; malt, starches, inulin, wheat gluten/Malaysia",
          "all/Oil seeds and oleaginous fruits; miscellaneous grains, seeds and fruit, industrial or medicinal plants; straw and fodder/Other Asia, nes",
          "all/Preparations of vegetables, fruit, nuts or other parts of plants/Madagascar",
          "all/Sugars and sugar confectionery/Malaysia",
          "all/Vegetables and certain roots and tubers; edible/Egypt",
          "all/Meat, fish or crustaceans, molluscs or other aquatic invertebrates; preparations thereof/USA",
          "all/Cereals/Philippines",
          "all/Fish and crustaceans, molluscs and other aquatic invertebrates/Other Asia, nes",
          "all/Sugars and sugar confectionery/Fiji",
          "all/Vegetables and certain roots and tubers; edible/Japan",
          "all/Preparations of vegetables, fruit, nuts or other parts of plants/Viet Nam",
          "all/Cereals/Azerbaijan",
          "all/Fish and crustaceans, molluscs and other aquatic invertebrates/Rep. of Korea",
          "all/Dairy produce; birds' eggs; natural honey; edible products of animal origin, not elsewhere specified or included/China, Hong Kong SAR",
          "all/Cereals/Switzerland",
          "all/Lac; gums, resins and other vegetable saps and extracts/Indonesia",
          "all/Preparations of vegetables, fruit, nuts or other parts of plants/Bahrain",
          "all/Lac; gums, resins and other vegetable saps and extracts/Singapore",
          "all/Dairy produce; birds' eggs; natural honey; edible products of animal origin, not elsewhere specified or included/Iraq",
          "all/Cereals/Sierra Leone",
          "all/Animal or vegetable fats and oils and their cleavage products; prepared animal fats; animal or vegetable waxes/China",
          "all/Lac; gums, resins and other vegetable saps and extracts/Colombia",
          "all/Coffee, tea, mate and spices/Uzbekistan",
          "all/Oil seeds and oleaginous fruits; miscellaneous grains, seeds and fruit, industrial or medicinal plants; straw and fodder/New Zealand",
          "all/Cereals/Thailand",
          "all/Preparations of cereals, flour, starch or milk; pastrycooks' products/New Zealand",
          "all/Sugars and sugar confectionery/Turkey",
          "all/Preparations of vegetables, fruit, nuts or other parts of plants/Saudi Arabia",
          "all/Preparations of cereals, flour, starch or milk; pastrycooks' products/Kyrgyzstan",
          "all/Sugars and sugar confectionery/Afghanistan",
          "all/Preparations of vegetables, fruit, nuts or other parts of plants/South Africa",
          "all/Lac; gums, resins and other vegetable saps and extracts/China",
          "all/Dairy produce; birds' eggs; natural honey; edible products of animal origin, not elsewhere specified or included/Mauritius",
          "all/Coffee, tea, mate and spices/Ghana",
          "all/Coffee, tea, mate and spices/Canada",
          "all/Fish and crustaceans, molluscs and other aquatic invertebrates/Maldives",
          "all/Oil seeds and oleaginous fruits; miscellaneous grains, seeds and fruit, industrial or medicinal plants; straw and fodder/Spain",
          "all/Cereals/Morocco",
          "all/Animal originated products; not elsewhere specified or included/Albania",
          "all/Sugars and sugar confectionery/Gambia",
          "all/Preparations of cereals, flour, starch or milk; pastrycooks' products/Equatorial Guinea",
          "all/Cereals/Guinea-Bissau",
          "all/Vegetables and certain roots and tubers; edible/United Arab Emirates",
          "all/Preparations of vegetables, fruit, nuts or other parts of plants/Lebanon",
          "all/Preparations of cereals, flour, starch or milk; pastrycooks' products/Mozambique",
          "all/Oil seeds and oleaginous fruits; miscellaneous grains, seeds and fruit, industrial or medicinal plants; straw and fodder/Kyrgyzstan",
          "all/Lac; gums, resins and other vegetable saps and extracts/New Zealand",
          "all/Cereals/Libya",
          "all/Fish and crustaceans, molluscs and other aquatic invertebrates/Mauritius",
          "all/Oil seeds and oleaginous fruits; miscellaneous grains, seeds and fruit, industrial or medicinal plants; straw and fodder/Lithuania",
          "all/Coffee, tea, mate and spices/Rep. of Korea",
          "all/Meat, fish or crustaceans, molluscs or other aquatic invertebrates; preparations thereof/Singapore",
          "all/Products of the milling industry; malt, starches, inulin, wheat gluten/Sri Lanka",
          "all/Dairy produce; birds' eggs; natural honey; edible products of animal origin, not elsewhere specified or included/Maldives",
          "all/Lac; gums, resins and other vegetable saps and extracts/Thailand",
          "all/Preparations of cereals, flour, starch or milk; pastrycooks' products/Qatar",
          "all/Meat, fish or crustaceans, molluscs or other aquatic invertebrates; preparations thereof/Kuwait",
          "all/Preparations of cereals, flour, starch or milk; pastrycooks' products/Spain",
          "all/Preparations of cereals, flour, starch or milk; pastrycooks' products/Somalia",
          "all/Sugars and sugar confectionery/Kazakhstan",
          "all/Animal originated products; not elsewhere specified or included/Morocco",
          "all/Products of the milling industry; malt, starches, inulin, wheat gluten/Saudi Arabia",
          "all/Preparations of vegetables, fruit, nuts or other parts of plants/Turkey",
          "all/Sugars and sugar confectionery/Japan",
          "all/Preparations of vegetables, fruit, nuts or other parts of plants/New Zealand",
          "all/Preparations of cereals, flour, starch or milk; pastrycooks' products/Kenya",
          "all/Cereals/Cameroon",
          "all/Fish and crustaceans, molluscs and other aquatic invertebrates/Iraq",
          "all/Sugars and sugar confectionery/United Arab Emirates",
          "all/Products of the milling industry; malt, starches, inulin, wheat gluten/Bahrain",
          "all/Products of the milling industry; malt, starches, inulin, wheat gluten/United Arab Emirates",
          "all/Preparations of cereals, flour, starch or milk; pastrycooks' products/Belgium",
          "all/Dairy produce; birds' eggs; natural honey; edible products of animal origin, not elsewhere specified or included/Uzbekistan",
          "all/Animal or vegetable fats and oils and their cleavage products; prepared animal fats; animal or vegetable waxes/Albania",
          "all/Cereals/Canada",
          "all/Vegetables and certain roots and tubers; edible/Afghanistan",
          "all/Fish and crustaceans, molluscs and other aquatic invertebrates/China, Hong Kong SAR",
          "all/Cereals/Yemen",
          "all/Cereals/Guyana",
          "all/Animal originated products; not elsewhere specified or included/China",
          "all/Fish and crustaceans, molluscs and other aquatic invertebrates/Brunei Darussalam",
          "all/Fruit and nuts, edible; peel of citrus fruit or melons/Indonesia",
          "all/Cereals/Bangladesh",
          "all/Coffee, tea, mate and spices/Philippines",
          "all/Cereals/Ghana",
          "all/Preparations of vegetables, fruit, nuts or other parts of plants/Chile",
          "all/Fish and crustaceans, molluscs and other aquatic invertebrates/Portugal",
          "all/Preparations of cereals, flour, starch or milk; pastrycooks' products/Ukraine",
          "all/Fruit and nuts, edible; peel of citrus fruit or melons/Other Asia, nes",
          "all/Meat and edible meat offal/Kuwait",
          "all/Lac; gums, resins and other vegetable saps and extracts/Portugal",
          "all/Fruit and nuts, edible; peel of citrus fruit or melons/Canada",
          "all/Products of the milling industry; malt, starches, inulin, wheat gluten/Egypt",
          "all/Oil seeds and oleaginous fruits; miscellaneous grains, seeds and fruit, industrial or medicinal plants; straw and fodder/Bulgaria",
          "all/Preparations of cereals, flour, starch or milk; pastrycooks' products/Brunei Darussalam",
          "all/Lac; gums, resins and other vegetable saps and extracts/Rep. of Korea",
          "all/Cereals/United Kingdom",
          "all/Preparations of vegetables, fruit, nuts or other parts of plants/Kyrgyzstan",
          "all/Vegetables and certain roots and tubers; edible/Norway",
          "all/Animals; live/Oman",
          "all/Cereals/Malaysia",
          "all/Meat and edible meat offal/USA",
          "all/Animal originated products; not elsewhere specified or included/Egypt",
          "all/Oil seeds and oleaginous fruits; miscellaneous grains, seeds and fruit, industrial or medicinal plants; straw and fodder/Mauritius",
          "all/Preparations of cereals, flour, starch or milk; pastrycooks' products/Madagascar",
          "all/Preparations of vegetables, fruit, nuts or other parts of plants/Mauritius",
          "all/Oil seeds and oleaginous fruits; miscellaneous grains, seeds and fruit, industrial or medicinal plants; straw and fodder/Montenegro",
          "all/Preparations of vegetables, fruit, nuts or other parts of plants/United Rep. of Tanzania",
          "all/Oil seeds and oleaginous fruits; miscellaneous grains, seeds and fruit, industrial or medicinal plants; straw and fodder/Denmark",
          "all/Products of the milling industry; malt, starches, inulin, wheat gluten/United Rep. of Tanzania",
          "all/Meat, fish or crustaceans, molluscs or other aquatic invertebrates; preparations thereof/China",
          "all/Oil seeds and oleaginous fruits; miscellaneous grains, seeds and fruit, industrial or medicinal plants; straw and fodder/Mozambique",
          "all/Fruit and nuts, edible; peel of citrus fruit or melons/Czechia",
          "all/Coffee, tea, mate and spices/New Zealand",
          "all/Sugars and sugar confectionery/USA",
          "all/Fruit and nuts, edible; peel of citrus fruit or melons/Turkmenistan",
          "all/Vegetables and certain roots and tubers; edible/New Zealand",
          "all/Coffee, tea, mate and spices/Gambia",
          "all/Sugars and sugar confectionery/China, Hong Kong SAR",
          "all/Preparations of cereals, flour, starch or milk; pastrycooks' products/Lebanon",
          "all/Cereals/Brunei Darussalam",
          "all/Coffee, tea, mate and spices/China, Hong Kong SAR",
          "all/Preparations of vegetables, fruit, nuts or other parts of plants/Libya",
          "all/Fruit and nuts, edible; peel of citrus fruit or melons/Russian Federation",
          "all/Fish and crustaceans, molluscs and other aquatic invertebrates/Thailand",
          "all/Coffee, tea, mate and spices/Thailand",
          "all/Coffee, tea, mate and spices/Yemen",
          "all/Preparations of vegetables, fruit, nuts or other parts of plants/Somalia",
          "all/Animal originated products; not elsewhere specified or included/Austria",
          "all/Fish and crustaceans, molluscs and other aquatic invertebrates/Indonesia",
          "all/Preparations of vegetables, fruit, nuts or other parts of plants/Kenya",
          "all/Oil seeds and oleaginous fruits; miscellaneous grains, seeds and fruit, industrial or medicinal plants; straw and fodder/United Arab Emirates",
          "all/Oil seeds and oleaginous fruits; miscellaneous grains, seeds and fruit, industrial or medicinal plants; straw and fodder/Japan",
          "all/Lac; gums, resins and other vegetable saps and extracts/Spain",
          "all/Fruit and nuts, edible; peel of citrus fruit or melons/Iraq",
          "all/Lac; gums, resins and other vegetable saps and extracts/Argentina",
          "all/Sugars and sugar confectionery/Sri Lanka",
          "all/Coffee, tea, mate and spices/Angola",
          "all/Oil seeds and oleaginous fruits; miscellaneous grains, seeds and fruit, industrial or medicinal plants; straw and fodder/Ireland",
          "all/Lac; gums, resins and other vegetable saps and extracts/Italy",
          "all/Preparations of cereals, flour, starch or milk; pastrycooks' products/Afghanistan",
          "all/Fruit and nuts, edible; peel of citrus fruit or melons/Switzerland",
          "all/Preparations of cereals, flour, starch or milk; pastrycooks' products/Switzerland",
          "all/Lac; gums, resins and other vegetable saps and extracts/Jordan",
          "all/Sugars and sugar confectionery/Bahrain",
          "all/Vegetables and certain roots and tubers; edible/Malaysia",
          "all/Fruit and nuts, edible; peel of citrus fruit or melons/Singapore",
          "all/Animal originated products; not elsewhere specified or included/Bangladesh",
          "all/Preparations of vegetables, fruit, nuts or other parts of plants/Kazakhstan",
          "all/Dairy produce; birds' eggs; natural honey; edible products of animal origin, not elsewhere specified or included/Seychelles",
          "all/Fruit and nuts, edible; peel of citrus fruit or melons/Seychelles",
          "all/Sugars and sugar confectionery/Belgium",
          "all/Lac; gums, resins and other vegetable saps and extracts/Saudi Arabia",
          "all/Preparations of vegetables, fruit, nuts or other parts of plants/Belgium",
          "all/Vegetables and certain roots and tubers; edible/Viet Nam",
          "all/Cereals/Guinea",
          "all/Products of the milling industry; malt, starches, inulin, wheat gluten/Russian Federation",
          "all/Preparations of vegetables, fruit, nuts or other parts of plants/Botswana",
          "all/Vegetables and certain roots and tubers; edible/Mozambique",
          "all/Oil seeds and oleaginous fruits; miscellaneous grains, seeds and fruit, industrial or medicinal plants; straw and fodder/Sri Lanka",
          "all/Fruit and nuts, edible; peel of citrus fruit or melons/Afghanistan",
          "all/Meat, fish or crustaceans, molluscs or other aquatic invertebrates; preparations thereof/Qatar",
          "all/Fruit and nuts, edible; peel of citrus fruit or melons/Denmark",
          "all/Animal originated products; not elsewhere specified or included/USA",
          "all/Oil seeds and oleaginous fruits; miscellaneous grains, seeds and fruit, industrial or medicinal plants; straw and fodder/Maldives",
          "all/Lac; gums, resins and other vegetable saps and extracts/Egypt",
          "all/Sugars and sugar confectionery/Thailand",
          "all/Coffee, tea, mate and spices/Nepal",
          "all/Preparations of cereals, flour, starch or milk; pastrycooks' products/Sweden",
          "all/Cereals/Algeria",
          "all/Coffee, tea, mate and spices/Egypt",
          "all/Dairy produce; birds' eggs; natural honey; edible products of animal origin, not elsewhere specified or included/Saudi Arabia",
          "all/Cereals/USA",
          "all/Oil seeds and oleaginous fruits; miscellaneous grains, seeds and fruit, industrial or medicinal plants; straw and fodder/Morocco",
          "all/Vegetables and certain roots and tubers; edible/Nepal",
          "all/Animal or vegetable fats and oils and their cleavage products; prepared animal fats; animal or vegetable waxes/Australia",
          "all/Fruit and nuts, edible; peel of citrus fruit or melons/Turkey",
          "all/Cereals/Slovenia",
          "all/Lac; gums, resins and other vegetable saps and extracts/Slovenia",
          "all/Coffee, tea, mate and spices/Other Asia, nes",
          "all/Fruit and nuts, edible; peel of citrus fruit or melons/Chile",
          "all/Preparations of cereals, flour, starch or milk; pastrycooks' products/China",
          "all/Vegetables and certain roots and tubers; edible/China",
          "all/Coffee, tea, mate and spices/Oman",
          "all/Coffee, tea, mate and spices/Poland",
          "all/Lac; gums, resins and other vegetable saps and extracts/South Africa",
          "all/Products of the milling industry; malt, starches, inulin, wheat gluten/Canada",
          "all/Lac; gums, resins and other vegetable saps and extracts/Bangladesh",
          "all/Sugars and sugar confectionery/Poland",
          "all/Preparations of vegetables, fruit, nuts or other parts of plants/Nigeria",
          "all/Preparations of cereals, flour, starch or milk; pastrycooks' products/Australia",
          "all/Vegetables and certain roots and tubers; edible/China, Hong Kong SAR",
          "all/Fish and crustaceans, molluscs and other aquatic invertebrates/Belgium",
          "all/Lac; gums, resins and other vegetable saps and extracts/Yemen",
          "all/Vegetables and certain roots and tubers; edible/Spain",
          "all/Cereals/Czechia",
          "all/Products of the milling industry; malt, starches, inulin, wheat gluten/Norway",
          "all/Oil seeds and oleaginous fruits; miscellaneous grains, seeds and fruit, industrial or medicinal plants; straw and fodder/Uzbekistan",
          "all/Cereals/Japan",
          "all/Cereals/Indonesia",
          "all/Preparations of vegetables, fruit, nuts or other parts of plants/Italy",
          "all/Sugars and sugar confectionery/Guatemala",
          "all/Coffee, tea, mate and spices/Japan",
          "all/Vegetables and certain roots and tubers; edible/France",
          "all/Fish and crustaceans, molluscs and other aquatic invertebrates/United Kingdom",
          "all/Lac; gums, resins and other vegetable saps and extracts/United Arab Emirates",
          "all/Coffee, tea, mate and spices/Madagascar",
          "all/Animal or vegetable fats and oils and their cleavage products; prepared animal fats; animal or vegetable waxes/Kuwait",
          "all/Animals; live/Kuwait",
          "all/Preparations of cereals, flour, starch or milk; pastrycooks' products/Iraq",
          "all/Vegetables and certain roots and tubers; edible/Jordan",
          "all/Coffee, tea, mate and spices/USA",
          "all/Meat and edible meat offal/Romania",
          "all/Preparations of vegetables, fruit, nuts or other parts of plants/Latvia",
          "all/Sugars and sugar confectionery/Rep. of Korea",
          "all/Preparations of cereals, flour, starch or milk; pastrycooks' products/Solomon Isds",
          "all/Cereals/Cabo Verde",
          "all/Preparations of cereals, flour, starch or milk; pastrycooks' products/Mauritania",
          "all/Vegetables and certain roots and tubers; edible/Uzbekistan",
          "all/Animals; live/Turkey",
          "all/Meat, fish or crustaceans, molluscs or other aquatic invertebrates; preparations thereof/Bahrain",
          "all/Products of the milling industry; malt, starches, inulin, wheat gluten/France",
          "all/Oil seeds and oleaginous fruits; miscellaneous grains, seeds and fruit, industrial or medicinal plants; straw and fodder/Nigeria",
          "all/Cereals/Georgia",
          "all/Cereals/Kazakhstan",
          "all/Products of the milling industry; malt, starches, inulin, wheat gluten/Thailand",
          "all/Preparations of cereals, flour, starch or milk; pastrycooks' products/Congo",
          "all/Sugars and sugar confectionery/Greece",
          "all/Cereals/Saudi Arabia",
          "all/Preparations of vegetables, fruit, nuts or other parts of plants/Jordan",
          "all/Dairy produce; birds' eggs; natural honey; edible products of animal origin, not elsewhere specified or included/Afghanistan",
          "all/Fruit and nuts, edible; peel of citrus fruit or melons/United Arab Emirates",
          "all/Products of the milling industry; malt, starches, inulin, wheat gluten/Maldives",
          "all/Coffee, tea, mate and spices/Argentina",
          "all/Preparations of cereals, flour, starch or milk; pastrycooks' products/Canada",
          "all/Fruit and nuts, edible; peel of citrus fruit or melons/Latvia",
          "all/Coffee, tea, mate and spices/Indonesia",
          "all/Cereals/Turkey",
          "all/Meat and edible meat offal/Bahrain",
          "all/Animals; live/China, Hong Kong SAR",
          "all/Products of the milling industry; malt, starches, inulin, wheat gluten/Australia",
          "all/Preparations of vegetables, fruit, nuts or other parts of plants/Thailand",
          "all/Coffee, tea, mate and spices/Nigeria",
          "all/Lac; gums, resins and other vegetable saps and extracts/Finland",
          "all/Sugars and sugar confectionery/Slovenia",
          "all/Coffee, tea, mate and spices/Sri Lanka",
          "all/Coffee, tea, mate and spices/Afghanistan",
          "all/Animal or vegetable fats and oils and their cleavage products; prepared animal fats; animal or vegetable waxes/New Zealand",
          "all/Sugars and sugar confectionery/Maldives",
          "all/Fish and crustaceans, molluscs and other aquatic invertebrates/Japan",
          "all/Coffee, tea, mate and spices/Kuwait",
          "all/Vegetables and certain roots and tubers; edible/Rep. of Korea",
          "all/Animal or vegetable fats and oils and their cleavage products; prepared animal fats; animal or vegetable waxes/Viet Nam",
          "all/Animal originated products; not elsewhere specified or included/Slovenia",
          "all/Vegetables and certain roots and tubers; edible/Greece",
          "all/Fruit and nuts, edible; peel of citrus fruit or melons/Oman",
          "all/Products of the milling industry; malt, starches, inulin, wheat gluten/Spain",
          "all/Oil seeds and oleaginous fruits; miscellaneous grains, seeds and fruit, industrial or medicinal plants; straw and fodder/Australia",
          "all/Fish and crustaceans, molluscs and other aquatic invertebrates/Lebanon",
          "all/Vegetables and certain roots and tubers; edible/Oman",
          "all/Animal or vegetable fats and oils and their cleavage products; prepared animal fats; animal or vegetable waxes/Norway",
          "all/Lac; gums, resins and other vegetable saps and extracts/Turkey",
          "all/Animal or vegetable fats and oils and their cleavage products; prepared animal fats; animal or vegetable waxes/Germany",
          "all/Sugars and sugar confectionery/Kyrgyzstan",
          "all/Lac; gums, resins and other vegetable saps and extracts/United Kingdom",
          "all/Preparations of vegetables, fruit, nuts or other parts of plants/Norway",
          "all/Sugars and sugar confectionery/China",
          "all/Fish and crustaceans, molluscs and other aquatic invertebrates/Kuwait",
          "all/Oil seeds and oleaginous fruits; miscellaneous grains, seeds and fruit, industrial or medicinal plants; straw and fodder/South Africa",
          "all/Fruit and nuts, edible; peel of citrus fruit or melons/Serbia",
          "all/Cereals/Belgium",
          "all/Coffee, tea, mate and spices/Hungary",
          "all/Preparations of cereals, flour, starch or milk; pastrycooks' products/Trinidad and Tobago",
          "all/Preparations of cereals, flour, starch or milk; pastrycooks' products/Bangladesh",
          "all/Meat, fish or crustaceans, molluscs or other aquatic invertebrates; preparations thereof/Viet Nam",
          "all/Fish and crustaceans, molluscs and other aquatic invertebrates/Saudi Arabia",
          "all/Animal originated products; not elsewhere specified or included/Brazil",
          "all/Vegetables and certain roots and tubers; edible/Russian Federation",
          "all/Animals; live/Indonesia",
          "all/Products of the milling industry; malt, starches, inulin, wheat gluten/Romania",
          "all/Oil seeds and oleaginous fruits; miscellaneous grains, seeds and fruit, industrial or medicinal plants; straw and fodder/Jordan",
          "all/Preparations of cereals, flour, starch or milk; pastrycooks' products/Other Asia, nes",
          "all/Preparations of vegetables, fruit, nuts or other parts of plants/Singapore",
          "all/Oil seeds and oleaginous fruits; miscellaneous grains, seeds and fruit, industrial or medicinal plants; straw and fodder/Rep. of Korea",
          "all/Vegetables and certain roots and tubers; edible/Brunei Darussalam",
          "all/Cereals/Somalia",
          "all/Cereals/Qatar",
          "all/Preparations of cereals, flour, starch or milk; pastrycooks' products/Greece",
          "all/Fish and crustaceans, molluscs and other aquatic invertebrates/Malaysia",
          "all/Oil seeds and oleaginous fruits; miscellaneous grains, seeds and fruit, industrial or medicinal plants; straw and fodder/Canada",
          "all/Coffee, tea, mate and spices/Chile",
          "all/Cereals/Ukraine",
          "all/Products of the milling industry; malt, starches, inulin, wheat gluten/Germany",
          "all/Lac; gums, resins and other vegetable saps and extracts/Peru",
          "all/Animal originated products; not elsewhere specified or included/Viet Nam",
          "all/Sugars and sugar confectionery/Kenya",
          "all/Fish and crustaceans, molluscs and other aquatic invertebrates/Bahrain",
          "all/Lac; gums, resins and other vegetable saps and extracts/Japan",
          "all/Fruit and nuts, edible; peel of citrus fruit or melons/Sri Lanka",
          "all/Coffee, tea, mate and spices/Myanmar",
          "all/Sugars and sugar confectionery/Iraq",
          "all/Coffee, tea, mate and spices/Denmark",
          "all/Preparations of cereals, flour, starch or milk; pastrycooks' products/Yemen",
          "all/Animal or vegetable fats and oils and their cleavage products; prepared animal fats; animal or vegetable waxes/Sweden",
          "all/Cereals/Ireland",
          "all/Lac; gums, resins and other vegetable saps and extracts/Morocco",
          "all/Vegetables and certain roots and tubers; edible/Lithuania",
          "all/Fruit and nuts, edible; peel of citrus fruit or melons/United Rep. of Tanzania",
          "all/Preparations of cereals, flour, starch or milk; pastrycooks' products/Thailand",
          "all/Sugars and sugar confectionery/Namibia",
          "all/Fish and crustaceans, molluscs and other aquatic invertebrates/USA",
          "all/Lac; gums, resins and other vegetable saps and extracts/Algeria",
          "all/Vegetables and certain roots and tubers; edible/Mauritius",
          "all/Oil seeds and oleaginous fruits; miscellaneous grains, seeds and fruit, industrial or medicinal plants; straw and fodder/Sweden",
          "all/Cereals/Egypt",
          "all/Sugars and sugar confectionery/Italy",
          "all/Cereals/Mauritius",
          "all/Meat and edible meat offal/Afghanistan",
          "all/Meat and edible meat offal/Maldives",
          "all/Oil seeds and oleaginous fruits; miscellaneous grains, seeds and fruit, industrial or medicinal plants; straw and fodder/Egypt",
          "all/Fruit and nuts, edible; peel of citrus fruit or melons/Finland",
          "all/Preparations of cereals, flour, starch or milk; pastrycooks' products/Djibouti",
          "all/Preparations of vegetables, fruit, nuts or other parts of plants/France",
          "all/Meat and edible meat offal/Kazakhstan",
          "all/Animal originated products; not elsewhere specified or included/Croatia",
          "all/Sugars and sugar confectionery/Netherlands",
          "all/Oil seeds and oleaginous fruits; miscellaneous grains, seeds and fruit, industrial or medicinal plants; straw and fodder/Czechia",
          "all/Fruit and nuts, edible; peel of citrus fruit or melons/Libya",
          "all/Animal originated products; not elsewhere specified or included/Czechia",
          "all/Dairy produce; birds' eggs; natural honey; edible products of animal origin, not elsewhere specified or included/United Arab Emirates",
          "all/Oil seeds and oleaginous fruits; miscellaneous grains, seeds and fruit, industrial or medicinal plants; straw and fodder/Cyprus",
          "all/Animal or vegetable fats and oils and their cleavage products; prepared animal fats; animal or vegetable waxes/USA",
          "all/Cereals/Netherlands",
          "all/Vegetables and certain roots and tubers; edible/Timor-Leste",
          "all/Preparations of vegetables, fruit, nuts or other parts of plants/Ireland",
          "all/Preparations of cereals, flour, starch or milk; pastrycooks' products/USA",
          "all/Fruit and nuts, edible; peel of citrus fruit or melons/Romania",
          "all/Sugars and sugar confectionery/Liberia",
          "all/Cereals/Italy",
          "all/Coffee, tea, mate and spices/Mauritania",
          "all/Preparations of cereals, flour, starch or milk; pastrycooks' products/China, Hong Kong SAR",
          "all/Sugars and sugar confectionery/Dominican Rep.",
          "all/Fruit and nuts, edible; peel of citrus fruit or melons/Norway",
          "all/Vegetables and certain roots and tubers; edible/Maldives",
          "all/Lac; gums, resins and other vegetable saps and extracts/Jamaica",
          "all/Preparations of vegetables, fruit, nuts or other parts of plants/Angola",
          "all/Lac; gums, resins and other vegetable saps and extracts/Mexico",
          "all/Preparations of cereals, flour, starch or milk; pastrycooks' products/Netherlands",
          "all/Fruit and nuts, edible; peel of citrus fruit or melons/Viet Nam",
          "all/Preparations of cereals, flour, starch or milk; pastrycooks' products/Cameroon",
          "all/Sugars and sugar confectionery/Cameroon",
          "all/Coffee, tea, mate and spices/Malawi",
          "all/Sugars and sugar confectionery/Yemen",
          "all/Lac; gums, resins and other vegetable saps and extracts/Kenya",
          "all/Lac; gums, resins and other vegetable saps and extracts/Brazil",
          "all/Products of the milling industry; malt, starches, inulin, wheat gluten/United Kingdom",
          "all/Coffee, tea, mate and spices/Fiji",
          "all/Preparations of vegetables, fruit, nuts or other parts of plants/Guyana",
          "all/Sugars and sugar confectionery/Senegal",
          "all/Meat, fish or crustaceans, molluscs or other aquatic invertebrates; preparations thereof/Malaysia",
          "all/Vegetables and certain roots and tubers; edible/Saudi Arabia",
          "all/Animal or vegetable fats and oils and their cleavage products; prepared animal fats; animal or vegetable waxes/United Arab Emirates",
          "all/Sugars and sugar confectionery/Bangladesh",
          "all/Animals; live/Afghanistan",
          "all/Preparations of vegetables, fruit, nuts or other parts of plants/Malaysia",
          "all/Cereals/Kenya",
          "all/Fruit and nuts, edible; peel of citrus fruit or melons/Tajikistan",
          "all/Sugars and sugar confectionery/Equatorial Guinea",
          "all/Animal or vegetable fats and oils and their cleavage products; prepared animal fats; animal or vegetable waxes/Singapore",
          "all/Sugars and sugar confectionery/United Kingdom",
          "all/Dairy produce; birds' eggs; natural honey; edible products of animal origin, not elsewhere specified or included/Singapore",
          "all/Fish and crustaceans, molluscs and other aquatic invertebrates/Samoa",
          "all/Cereals/Comoros",
          "all/Coffee, tea, mate and spices/Brazil",
          "all/Meat, fish or crustaceans, molluscs or other aquatic invertebrates; preparations thereof/Oman",
          "all/Vegetables and certain roots and tubers; edible/Trinidad and Tobago",
          "all/Preparations of cereals, flour, starch or milk; pastrycooks' products/Comoros",
          "all/Cereals/Cyprus",
          "all/Sugars and sugar confectionery/Mexico",
          "all/Oil seeds and oleaginous fruits; miscellaneous grains, seeds and fruit, industrial or medicinal plants; straw and fodder/Finland",
          "all/Fruit and nuts, edible; peel of citrus fruit or melons/Belarus",
          "all/Coffee, tea, mate and spices/Djibouti",
          "all/Fruit and nuts, edible; peel of citrus fruit or melons/Lithuania",
          "all/Animals; live/Jordan",
          "all/Fish and crustaceans, molluscs and other aquatic invertebrates/Mozambique",
          "all/Fruit and nuts, edible; peel of citrus fruit or melons/Netherlands",
          "all/Preparations of cereals, flour, starch or milk; pastrycooks' products/Panama",
          "all/Coffee, tea, mate and spices/Sudan",
          "all/Cereals/Kyrgyzstan",
          "all/Meat and edible meat offal/Dem. Rep. of the Congo",
          "all/Cereals/Iraq",
          "all/Coffee, tea, mate and spices/China",
          "all/Oil seeds and oleaginous fruits; miscellaneous grains, seeds and fruit, industrial or medicinal plants; straw and fodder/France",
          "all/Dairy produce; birds' eggs; natural honey; edible products of animal origin, not elsewhere specified or included/China",
          "all/Oil seeds and oleaginous fruits; miscellaneous grains, seeds and fruit, industrial or medicinal plants; straw and fodder/Germany",
          "all/Vegetables and certain roots and tubers; edible/South Africa",
          "all/Preparations of vegetables, fruit, nuts or other parts of plants/Oman",
          "all/Coffee, tea, mate and spices/Spain",
          "all/Sugars and sugar confectionery/Other Asia, nes",
          "all/Vegetables and certain roots and tubers; edible/Philippines",
          "all/Cereals/Mozambique",
          "all/Cereals/France",
          "all/Coffee, tea, mate and spices/Greece",
          "all/Coffee, tea, mate and spices/Sweden",
          "all/Cereals/Liberia",
          "all/Preparations of cereals, flour, starch or milk; pastrycooks' products/Togo",
          "all/Cereals/Germany",
          "all/Preparations of cereals, flour, starch or milk; pastrycooks' products/Ghana",
          "all/Preparations of vegetables, fruit, nuts or other parts of plants/Kuwait",
          "all/Cereals/Sweden",
          "all/Oil seeds and oleaginous fruits; miscellaneous grains, seeds and fruit, industrial or medicinal plants; straw and fodder/Poland",
          "all/Cereals/Bahrain",
          "all/Dairy produce; birds' eggs; natural honey; edible products of animal origin, not elsewhere specified or included/Qatar",
          "all/Oil seeds and oleaginous fruits; miscellaneous grains, seeds and fruit, industrial or medicinal plants; straw and fodder/Tunisia",
          "all/Fruit and nuts, edible; peel of citrus fruit or melons/Australia",
          "all/Animal originated products; not elsewhere specified or included/Spain",
          "all/Vegetables and certain roots and tubers; edible/Bangladesh",
          "all/Fruit and nuts, edible; peel of citrus fruit or melons/Sweden",
          "all/Animal originated products; not elsewhere specified or included/Afghanistan",
          "all/Cereals/Togo",
          "all/Cereals/Spain",
          "all/Coffee, tea, mate and spices/Jordan",
          "all/Coffee, tea, mate and spices/Togo",
          "all/Cereals/Jordan",
          "all/Lac; gums, resins and other vegetable saps and extracts/Australia",
          "all/Cereals/Singapore",
          "all/Coffee, tea, mate and spices/Singapore",
          "all/Oil seeds and oleaginous fruits; miscellaneous grains, seeds and fruit, industrial or medicinal plants; straw and fodder/Sudan",
          "all/Cereals/Tajikistan",
          "all/Sugars and sugar confectionery/Angola",
          "all/Animal or vegetable fats and oils and their cleavage products; prepared animal fats; animal or vegetable waxes/South Africa",
          "all/Preparations of vegetables, fruit, nuts or other parts of plants/Bahamas",
          "all/Animal or vegetable fats and oils and their cleavage products; prepared animal fats; animal or vegetable waxes/Bahrain",
          "all/Coffee, tea, mate and spices/South Africa",
          "all/Products of the milling industry; malt, starches, inulin, wheat gluten/Yemen",
          "all/Animals; live/United Arab Emirates",
          "all/Animal or vegetable fats and oils and their cleavage products; prepared animal fats; animal or vegetable waxes/Italy",
          "all/Preparations of cereals, flour, starch or milk; pastrycooks' products/Poland",
          "all/Sugars and sugar confectionery/Kuwait",
          "all/Animal originated products; not elsewhere specified or included/Poland",
          "all/Meat, fish or crustaceans, molluscs or other aquatic invertebrates; preparations thereof/Djibouti",
          "all/Vegetables and certain roots and tubers; edible/Kuwait",
          "all/Animals; live/China",
          "all/Animal originated products; not elsewhere specified or included/Montenegro",
          "all/Coffee, tea, mate and spices/Panama",
          "all/Cereals/Panama",
          "all/Preparations of cereals, flour, starch or milk; pastrycooks' products/United Kingdom",
          "all/Preparations of cereals, flour, starch or milk; pastrycooks' products/Germany",
          "all/Dairy produce; birds' eggs; natural honey; edible products of animal origin, not elsewhere specified or included/France",
          "all/Animal or vegetable fats and oils and their cleavage products; prepared animal fats; animal or vegetable waxes/Mozambique",
          "all/Fruit and nuts, edible; peel of citrus fruit or melons/China",
          "all/Preparations of cereals, flour, starch or milk; pastrycooks' products/Oman",
          "all/Oil seeds and oleaginous fruits; miscellaneous grains, seeds and fruit, industrial or medicinal plants; straw and fodder/Oman",
          "all/Fruit and nuts, edible; peel of citrus fruit or melons/France",
          "all/Cereals/Belarus",
          "all/Fruit and nuts, edible; peel of citrus fruit or melons/Germany",
          "all/Fruit and nuts, edible; peel of citrus fruit or melons/Mozambique",
          "all/Animal originated products; not elsewhere specified or included/Lithuania",
          "all/Meat and edible meat offal/China, Hong Kong SAR",
          "all/Cereals/Norway",
          "all/Vegetables and certain roots and tubers; edible/Ireland",
          "all/Products of the milling industry; malt, starches, inulin, wheat gluten/USA",
          "all/Sugars and sugar confectionery/Dem. Rep. of the Congo",
          "all/Fish and crustaceans, molluscs and other aquatic invertebrates/Liberia",
          "all/Preparations of vegetables, fruit, nuts or other parts of plants/Netherlands",
          "all/Preparations of cereals, flour, starch or milk; pastrycooks' products/Liberia",
          "all/Preparations of vegetables, fruit, nuts or other parts of plants/Croatia",
          "all/Vegetables and certain roots and tubers; edible/Djibouti",
          "all/Dairy produce; birds' eggs; natural honey; edible products of animal origin, not elsewhere specified or included/Comoros",
          "all/Oil seeds and oleaginous fruits; miscellaneous grains, seeds and fruit, industrial or medicinal plants; straw and fodder/Croatia",
          "all/Dairy produce; birds' eggs; natural honey; edible products of animal origin, not elsewhere specified or included/Greece",
          "all/Cereals/Senegal",
          "all/Coffee, tea, mate and spices/Guyana",
          "all/Vegetables and certain roots and tubers; edible/Ukraine",
          "all/Oil seeds and oleaginous fruits; miscellaneous grains, seeds and fruit, industrial or medicinal plants; straw and fodder/Malaysia",
          "all/Preparations of cereals, flour, starch or milk; pastrycooks' products/Malaysia",
          "all/Cereals/Benin",
          "all/Coffee, tea, mate and spices/Kenya",
          "all/Oil seeds and oleaginous fruits; miscellaneous grains, seeds and fruit, industrial or medicinal plants; straw and fodder/Ethiopia",
          "all/Cereals/Estonia",
          "all/Fruit and nuts, edible; peel of citrus fruit or melons/Kenya",
          "all/Animal or vegetable fats and oils and their cleavage products; prepared animal fats; animal or vegetable waxes/Malaysia",
          "all/Oil seeds and oleaginous fruits; miscellaneous grains, seeds and fruit, industrial or medicinal plants; straw and fodder/Brazil",
          "all/Cereals/United Rep. of Tanzania",
          "all/Animal originated products; not elsewhere specified or included/Tunisia",
          "all/Preparations of vegetables, fruit, nuts or other parts of plants/Malawi",
          "all/Fruit and nuts, edible; peel of citrus fruit or melons/Malta",
          "all/Cereals/Viet Nam",
          "all/Coffee, tea, mate and spices/Qatar",
          "all/Fruit and nuts, edible; peel of citrus fruit or melons/Qatar",
          "all/Animal originated products; not elsewhere specified or included/Canada",
          "all/Animal originated products; not elsewhere specified or included/Romania",
          "all/Lac; gums, resins and other vegetable saps and extracts/Viet Nam",
          "all/Cereals/Tunisia",
          "all/Oil seeds and oleaginous fruits; miscellaneous grains, seeds and fruit, industrial or medicinal plants; straw and fodder/Malta",
          "all/Oil seeds and oleaginous fruits; miscellaneous grains, seeds and fruit, industrial or medicinal plants; straw and fodder/United Rep. of Tanzania",
          "all/Preparations of cereals, flour, starch or milk; pastrycooks' products/Maldives",
          "all/Products of the milling industry; malt, starches, inulin, wheat gluten/Italy",
          "all/Meat and edible meat offal/United Arab Emirates",
          "all/Animal originated products; not elsewhere specified or included/Myanmar",
          "all/Lac; gums, resins and other vegetable saps and extracts/Afghanistan",
          "all/Fish and crustaceans, molluscs and other aquatic invertebrates/Egypt",
          "all/Fruit and nuts, edible; peel of citrus fruit or melons/Egypt",
          "all/Sugars and sugar confectionery/Mauritania",
          "all/Fruit and nuts, edible; peel of citrus fruit or melons/Belgium",
          "all/Animal or vegetable fats and oils and their cleavage products; prepared animal fats; animal or vegetable waxes/China, Hong Kong SAR",
          "all/Vegetables and certain roots and tubers; edible/Thailand",
          "all/Products of the milling industry; malt, starches, inulin, wheat gluten/Jordan",
          "all/Animal or vegetable fats and oils and their cleavage products; prepared animal fats; animal or vegetable waxes/Saint Lucia",
          "all/Oil seeds and oleaginous fruits; miscellaneous grains, seeds and fruit, industrial or medicinal plants; straw and fodder/Romania",
          "all/Oil seeds and oleaginous fruits; miscellaneous grains, seeds and fruit, industrial or medicinal plants; straw and fodder/Bahrain",
          "all/Preparations of cereals, flour, starch or milk; pastrycooks' products/Rep. of Korea",
          "all/Fruit and nuts, edible; peel of citrus fruit or melons/Bosnia Herzegovina",
          "all/Animal originated products; not elsewhere specified or included/Kuwait",
          "all/Preparations of vegetables, fruit, nuts or other parts of plants/Slovenia",
          "all/Coffee, tea, mate and spices/Saudi Arabia",
          "all/Preparations of cereals, flour, starch or milk; pastrycooks' products/Gabon",
          "all/Fruit and nuts, edible; peel of citrus fruit or melons/Bangladesh",
          "all/Sugars and sugar confectionery/Canada",
          "all/Sugars and sugar confectionery/Jordan",
          "all/Dairy produce; birds' eggs; natural honey; edible products of animal origin, not elsewhere specified or included/Chile",
          "all/Preparations of vegetables, fruit, nuts or other parts of plants/Australia",
          "all/Coffee, tea, mate and spices/Turkey",
          "all/Dairy produce; birds' eggs; natural honey; edible products of animal origin, not elsewhere specified or included/United Kingdom",
          "all/Animal originated products; not elsewhere specified or included/Other Asia, nes",
          "all/Dairy produce; birds' eggs; natural honey; edible products of animal origin, not elsewhere specified or included/Oman",
          "all/Animal originated products; not elsewhere specified or included/Lebanon",
          "all/Preparations of vegetables, fruit, nuts or other parts of plants/Trinidad and Tobago",
          "all/Animal or vegetable fats and oils and their cleavage products; prepared animal fats; animal or vegetable waxes/Sri Lanka",
          "all/Oil seeds and oleaginous fruits; miscellaneous grains, seeds and fruit, industrial or medicinal plants; straw and fodder/Yemen",
          "all/Sugars and sugar confectionery/Nigeria",
          "all/Fruit and nuts, edible; peel of citrus fruit or melons/Uzbekistan",
          "all/Lac; gums, resins and other vegetable saps and extracts/Sri Lanka",
          "all/Sugars and sugar confectionery/Peru",
          "all/Oil seeds and oleaginous fruits; miscellaneous grains, seeds and fruit, industrial or medicinal plants; straw and fodder/USA",
          "all/Preparations of vegetables, fruit, nuts or other parts of plants/Togo",
          "all/Animal originated products; not elsewhere specified or included/United Arab Emirates",
          "all/Fish and crustaceans, molluscs and other aquatic invertebrates/Viet Nam",
          "all/Animal or vegetable fats and oils and their cleavage products; prepared animal fats; animal or vegetable waxes/Turkey",
          "all/Cereals/Timor-Leste",
          "all/Vegetables and certain roots and tubers; edible/United Kingdom",
          "all/Preparations of vegetables, fruit, nuts or other parts of plants/United Kingdom",
          "all/Animal originated products; not elsewhere specified or included/Malaysia",
          "all/Dairy produce; birds' eggs; natural honey; edible products of animal origin, not elsewhere specified or included/Tajikistan",
          "all/Coffee, tea, mate and spices/France",
          "all/Lac; gums, resins and other vegetable saps and extracts/France",
          "all/Coffee, tea, mate and spices/Germany",
          "all/Lac; gums, resins and other vegetable saps and extracts/Germany",
          "all/Meat and edible meat offal/Germany",
          "all/Meat and edible meat offal/Ghana",
          "all/Oil seeds and oleaginous fruits; miscellaneous grains, seeds and fruit, industrial or medicinal plants; straw and fodder/Ghana",
          "all/Cereals/Haiti",
          "all/Sugars and sugar confectionery/Indonesia",
          "all/Animal or vegetable fats and oils and their cleavage products; prepared animal fats; animal or vegetable waxes/Iraq",
          "all/Sugars and sugar confectionery/Ireland",
          "all/Animal originated products; not elsewhere specified or included/Italy",
          "all/Animal or vegetable fats and oils and their cleavage products; prepared animal fats; animal or vegetable waxes/Japan",
          "all/Animal or vegetable fats and oils and their cleavage products; prepared animal fats; animal or vegetable waxes/Jordan",
          "all/Fish and crustaceans, molluscs and other aquatic invertebrates/Jordan",
          "all/Sugars and sugar confectionery/Tajikistan",
          "all/Vegetables and certain roots and tubers; edible/Kazakhstan",
          "all/Oil seeds and oleaginous fruits; miscellaneous grains, seeds and fruit, industrial or medicinal plants; straw and fodder/Kenya",
          "all/Preparations of cereals, flour, starch or milk; pastrycooks' products/Kuwait",
          "all/Coffee, tea, mate and spices/Kyrgyzstan",
          "all/Sugars and sugar confectionery/Lebanon",
          "all/Animal or vegetable fats and oils and their cleavage products; prepared animal fats; animal or vegetable waxes/Libya",
          "all/Sugars and sugar confectionery/Libya",
          "all/Preparations of cereals, flour, starch or milk; pastrycooks' products/Fiji",
          "all/Preparations of vegetables, fruit, nuts or other parts of plants/Equatorial Guinea",
          "all/Animal or vegetable fats and oils and their cleavage products; prepared animal fats; animal or vegetable waxes/Egypt",
          "all/Sugars and sugar confectionery/Ecuador",
          "all/Cereals/Afghanistan",
          "all/Preparations of cereals, flour, starch or milk; pastrycooks' products/Angola",
          "all/Coffee, tea, mate and spices/Australia",
          "all/Dairy produce; birds' eggs; natural honey; edible products of animal origin, not elsewhere specified or included/Australia",
          "all/Coffee, tea, mate and spices/Bahrain",
          "all/Products of the milling industry; malt, starches, inulin, wheat gluten/Bangladesh",
          "all/Animal or vegetable fats and oils and their cleavage products; prepared animal fats; animal or vegetable waxes/Belgium",
          "all/Oil seeds and oleaginous fruits; miscellaneous grains, seeds and fruit, industrial or medicinal plants; straw and fodder/Benin",
          "all/Animal originated products; not elsewhere specified or included/Bulgaria",
          "all/Fish and crustaceans, molluscs and other aquatic invertebrates/Cameroon",
          "all/Animal or vegetable fats and oils and their cleavage products; prepared animal fats; animal or vegetable waxes/Canada",
          "all/Cereals/Lithuania",
          "all/Cereals/China",
          "all/Oil seeds and oleaginous fruits; miscellaneous grains, seeds and fruit, industrial or medicinal plants; straw and fodder/China, Hong Kong SAR",
          "all/Preparations of vegetables, fruit, nuts or other parts of plants/China, Hong Kong SAR",
          "all/Sugars and sugar confectionery/Colombia",
          "all/Preparations of vegetables, fruit, nuts or other parts of plants/Comoros",
          "all/Sugars and sugar confectionery/Comoros",
          "all/Preparations of cereals, flour, starch or milk; pastrycooks' products/Côte d'Ivoire",
          "all/Sugars and sugar confectionery/Côte d'Ivoire",
          "all/Preparations of vegetables, fruit, nuts or other parts of plants/Denmark",
          "all/Sugars and sugar confectionery/Denmark",
          "all/Vegetables and certain roots and tubers; edible/Denmark",
          "all/Cereals/Djibouti",
          "all/Fish and crustaceans, molluscs and other aquatic invertebrates/China",
          "all/Preparations of cereals, flour, starch or milk; pastrycooks' products/Malawi",
          "all/Cereals/Zimbabwe",
          "all/Sugars and sugar confectionery/Saudi Arabia",
          "all/Sugars and sugar confectionery/Somalia",
          "all/Meat and edible meat offal/Oman",
          "all/Products of the milling industry; malt, starches, inulin, wheat gluten/Other Asia, nes",
          "all/Sugars and sugar confectionery/South Africa",
          "all/Fish and crustaceans, molluscs and other aquatic invertebrates/Spain",
          "all/Preparations of vegetables, fruit, nuts or other parts of plants/Panama",
          "all/Animal or vegetable fats and oils and their cleavage products; prepared animal fats; animal or vegetable waxes/Saudi Arabia",
          "all/Cereals/Sudan",
          "all/Preparations of cereals, flour, starch or milk; pastrycooks' products/Norway",
          "all/Oil seeds and oleaginous fruits; miscellaneous grains, seeds and fruit, industrial or medicinal plants; straw and fodder/Norway",
          "all/Fruit and nuts, edible; peel of citrus fruit or melons/Poland",
          "all/Sugars and sugar confectionery/Sudan",
          "all/Products of the milling industry; malt, starches, inulin, wheat gluten/Oman",
          "all/Oil seeds and oleaginous fruits; miscellaneous grains, seeds and fruit, industrial or medicinal plants; straw and fodder/Netherlands",
          "all/Sugars and sugar confectionery/Sierra Leone",
          "all/Fish and crustaceans, molluscs and other aquatic invertebrates/Qatar",
          "all/Cereals/Malta",
          "all/Cereals/Mauritania",
          "all/Cereals/Romania",
          "all/Preparations of cereals, flour, starch or milk; pastrycooks' products/Mexico",
          "all/Animal or vegetable fats and oils and their cleavage products; prepared animal fats; animal or vegetable waxes/Serbia",
          "all/Lac; gums, resins and other vegetable saps and extracts/Netherlands",
          "all/Preparations of vegetables, fruit, nuts or other parts of plants/Mexico",
          "all/Dairy produce; birds' eggs; natural honey; edible products of animal origin, not elsewhere specified or included/Sweden",
          "all/Coffee, tea, mate and spices/Mozambique",
          "all/Dairy produce; birds' eggs; natural honey; edible products of animal origin, not elsewhere specified or included/Mozambique",
          "all/Dairy produce; birds' eggs; natural honey; edible products of animal origin, not elsewhere specified or included/South Africa",
          "all/Coffee, tea, mate and spices/Trinidad and Tobago",
          "all/Fruit and nuts, edible; peel of citrus fruit or melons/China, Hong Kong SAR",
          "all/Vegetables and certain roots and tubers; edible/Seychelles",
          "all/Animal or vegetable fats and oils and their cleavage products; prepared animal fats; animal or vegetable waxes/Uzbekistan",
          "all/Oil seeds and oleaginous fruits; miscellaneous grains, seeds and fruit, industrial or medicinal plants; straw and fodder/Singapore",
          "all/Dairy produce; birds' eggs; natural honey; edible products of animal origin, not elsewhere specified or included/Somalia",
          "all/Cereals/Maldives",
          "all/Fish and crustaceans, molluscs and other aquatic invertebrates/Canada",
          "all/Preparations of vegetables, fruit, nuts or other parts of plants/Spain",
          "all/Coffee, tea, mate and spices/Brunei Darussalam",
          "all/Oil seeds and oleaginous fruits; miscellaneous grains, seeds and fruit, industrial or medicinal plants; straw and fodder/Belgium",
          "all/Products of the milling industry; malt, starches, inulin, wheat gluten/Viet Nam",
          "all/Coffee, tea, mate and spices/Bangladesh",
          "all/Preparations of cereals, flour, starch or milk; pastrycooks' products/Bahrain",
          "all/Preparations of cereals, flour, starch or milk; pastrycooks' products/Suriname",
          "all/Cereals/Austria",
          "all/Sugars and sugar confectionery/Sweden",
          "all/Sugars and sugar confectionery/Switzerland",
          "all/Preparations of vegetables, fruit, nuts or other parts of plants/Afghanistan",
          "all/Meat and edible meat offal/Thailand",
          "all/Sugars and sugar confectionery/Chile",
          "all/Preparations of cereals, flour, starch or milk; pastrycooks' products/Sri Lanka",
          "all/Cereals/Portugal",
          "all/Oil seeds and oleaginous fruits; miscellaneous grains, seeds and fruit, industrial or medicinal plants; straw and fodder/Saudi Arabia",
          "all/Fruit and nuts, edible; peel of citrus fruit or melons/Mauritius",
          "all/Vegetables and certain roots and tubers; edible/USA",
          "all/Fish and crustaceans, molluscs and other aquatic invertebrates/Kyrgyzstan",
          "all/Fruit and nuts, edible; peel of citrus fruit or melons/Ukraine",
          "all/Animal or vegetable fats and oils and their cleavage products; prepared animal fats; animal or vegetable waxes/Morocco",
          "all/Oil seeds and oleaginous fruits; miscellaneous grains, seeds and fruit, industrial or medicinal plants; straw and fodder/Kuwait",
          "all/Products of the milling industry; malt, starches, inulin, wheat gluten/Kazakhstan",
          "all/Fruit and nuts, edible; peel of citrus fruit or melons/New Zealand",
          "all/Preparations of vegetables, fruit, nuts or other parts of plants/Japan",
          "all/Products of the milling industry; malt, starches, inulin, wheat gluten/New Zealand",
          "all/Coffee, tea, mate and spices/Italy",
          "all/Preparations of cereals, flour, starch or milk; pastrycooks' products/Ireland",
          "all/Coffee, tea, mate and spices/Iraq",
          "all/Animal or vegetable fats and oils and their cleavage products; prepared animal fats; animal or vegetable waxes/Oman",
          "all/Lac; gums, resins and other vegetable saps and extracts/Denmark",
          "all/Preparations of cereals, flour, starch or milk; pastrycooks' products/United Arab Emirates",
          "all/Oil seeds and oleaginous fruits; miscellaneous grains, seeds and fruit, industrial or medicinal plants; straw and fodder/Indonesia",
          "all/Oil seeds and oleaginous fruits; miscellaneous grains, seeds and fruit, industrial or medicinal plants; straw and fodder/Turkey",
          "all/Preparations of cereals, flour, starch or milk; pastrycooks' products/Guinea",
          "all/Animal originated products; not elsewhere specified or included/United Kingdom",
          "all/Dairy produce; birds' eggs; natural honey; edible products of animal origin, not elsewhere specified or included/Ghana",
          "all/Lac; gums, resins and other vegetable saps and extracts/Other Asia, nes",
          "all/Preparations of vegetables, fruit, nuts or other parts of plants/Gambia",
          "all/Fruit and nuts, edible; peel of citrus fruit or melons/Philippines",
          "all/Preparations of vegetables, fruit, nuts or other parts of plants/Fiji",
          "all/Dairy produce; birds' eggs; natural honey; edible products of animal origin, not elsewhere specified or included/Malaysia",
          "all/Sugars and sugar confectionery/El Salvador",
          "all/Vegetables and certain roots and tubers; edible/Qatar",
          "all/Animal or vegetable fats and oils and their cleavage products; prepared animal fats; animal or vegetable waxes/Rep. of Korea",
          "all/Preparations of cereals, flour, starch or milk; pastrycooks' products/Russian Federation",
          "all/Animal originated products; not elsewhere specified or included/Oman",
          "all/Fruit and nuts, edible; peel of citrus fruit or melons/Jordan",
          "all/Animal or vegetable fats and oils and their cleavage products; prepared animal fats; animal or vegetable waxes",
          "all/Animal originated products; not elsewhere specified or included",
          "all/Animals; live",
          "all/Cereals",
          "all/Coffee, tea, mate and spices",
          "all/Dairy produce; birds' eggs; natural honey; edible products of animal origin, not elsewhere specified or included",
          "all/Fish and crustaceans, molluscs and other aquatic invertebrates",
          "all/Fruit and nuts, edible; peel of citrus fruit or melons",
          "all/Lac; gums, resins and other vegetable saps and extracts",
          "all/Meat and edible meat offal",
          "all/Meat, fish or crustaceans, molluscs or other aquatic invertebrates; preparations thereof",
          "all/Oil seeds and oleaginous fruits; miscellaneous grains, seeds and fruit, industrial or medicinal plants; straw and fodder",
          "all/Preparations of cereals, flour, starch or milk; pastrycooks' products",
          "all/Preparations of vegetables, fruit, nuts or other parts of plants",
          "all/Products of the milling industry; malt, starches, inulin, wheat gluten",
          "all/Sugars and sugar confectionery",
          "all/Vegetables and certain roots and tubers; edible",
          "all"
         ],
         "labels": [
          "United Arab Emirates",
          "Sri Lanka",
          "Madagascar",
          "Egypt",
          "Maldives",
          "Australia",
          "USA",
          "Morocco",
          "Saudi Arabia",
          "Netherlands",
          "Netherlands",
          "Bahrain",
          "Somalia",
          "Singapore",
          "Libya",
          "Nigeria",
          "China, Hong Kong SAR",
          "Oman",
          "Other Asia, nes",
          "Bangladesh",
          "Philippines",
          "Chile",
          "Turkey",
          "Serbia",
          "Canada",
          "Belgium",
          "Viet Nam",
          "Rep. of Korea",
          "Saudi Arabia",
          "Uzbekistan",
          "France",
          "Mozambique",
          "Trinidad and Tobago",
          "Kazakhstan",
          "Kuwait",
          "Greece",
          "Afghanistan",
          "Ghana",
          "Japan",
          "Lebanon",
          "Sweden",
          "Iraq",
          "Albania",
          "Italy",
          "Germany",
          "Ireland",
          "United Kingdom",
          "Latvia",
          "Bulgaria",
          "China, Hong Kong SAR",
          "Turkey",
          "Bangladesh",
          "Indonesia",
          "Russian Federation",
          "United Arab Emirates",
          "Philippines",
          "Poland",
          "Seychelles",
          "Saudi Arabia",
          "Japan",
          "Qatar",
          "Benin",
          "Brunei Darussalam",
          "Canada",
          "Qatar",
          "Belgium",
          "Belgium",
          "Rep. of Korea",
          "Thailand",
          "Italy",
          "Gambia",
          "Azerbaijan",
          "Ukraine",
          "Malaysia",
          "Kyrgyzstan",
          "USA",
          "South Africa",
          "United Kingdom",
          "Mozambique",
          "Afghanistan",
          "Uzbekistan",
          "Finland",
          "Nepal",
          "Equatorial Guinea",
          "South Africa",
          "Nepal",
          "Albania",
          "Somalia",
          "Croatia",
          "Sri Lanka",
          "Guinea",
          "Sweden",
          "Libya",
          "Turkmenistan",
          "New Zealand",
          "Czechia",
          "Maldives",
          "USA",
          "Norway",
          "Kyrgyzstan",
          "Poland",
          "Indonesia",
          "United Arab Emirates",
          "Guyana",
          "Tunisia",
          "Kenya",
          "Afghanistan",
          "China, Hong Kong SAR",
          "Senegal",
          "South Africa",
          "Bahrain",
          "Australia",
          "Finland",
          "Spain",
          "Finland",
          "Lithuania",
          "USA",
          "Malaysia",
          "Malaysia",
          "Australia",
          "Egypt",
          "Maldives",
          "Mauritius",
          "Egypt",
          "Lithuania",
          "France",
          "Brazil",
          "Mauritius",
          "Sri Lanka",
          "Somalia",
          "Bahrain",
          "Netherlands",
          "Turkmenistan",
          "Netherlands",
          "Cyprus",
          "Cyprus",
          "United Rep. of Tanzania",
          "South Africa",
          "Azerbaijan",
          "Denmark",
          "South Africa",
          "Morocco",
          "Djibouti",
          "Djibouti",
          "Mexico",
          "Côte d'Ivoire",
          "United Kingdom",
          "Libya",
          "France",
          "Thailand",
          "Yemen",
          "Kazakhstan",
          "Hungary",
          "Indonesia",
          "Jordan",
          "Afghanistan",
          "Ukraine",
          "United Arab Emirates",
          "Japan",
          "Japan",
          "Jamaica",
          "Iraq",
          "Ireland",
          "Italy",
          "Thailand",
          "Switzerland",
          "Congo",
          "Kiribati",
          "Greece",
          "Libya",
          "Sri Lanka",
          "Argentina",
          "Uganda",
          "Lebanon",
          "Germany",
          "Angola",
          "Kuwait",
          "Latvia",
          "Sweden",
          "Sweden",
          "Algeria",
          "Albania",
          "Ghana",
          "Greece",
          "Greece",
          "Germany",
          "Singapore",
          "Russian Federation",
          "Canada",
          "Qatar",
          "Qatar",
          "Qatar",
          "Qatar",
          "Oman",
          "China",
          "China",
          "Turkey",
          "Trinidad and Tobago",
          "Oman",
          "Serbia",
          "Sierra Leone",
          "Canada",
          "Portugal",
          "Belgium",
          "Other Asia, nes",
          "Paraguay",
          "Sierra Leone",
          "Chile",
          "Philippines",
          "Viet Nam",
          "Cambodia",
          "Bulgaria",
          "Bangladesh",
          "Viet Nam",
          "Norway",
          "Rep. of Korea",
          "Togo",
          "Russian Federation",
          "Brazil",
          "Brunei Darussalam",
          "Colombia",
          "Saudi Arabia",
          "Kyrgyzstan",
          "Canada",
          "Sudan",
          "Sri Lanka",
          "Portugal",
          "Bulgaria",
          "Georgia",
          "Portugal",
          "Gambia",
          "Trinidad and Tobago",
          "Argentina",
          "Bosnia Herzegovina",
          "Ireland",
          "Philippines",
          "Italy",
          "Lebanon",
          "Brazil",
          "Germany",
          "Jordan",
          "Hungary",
          "Belgium",
          "Kazakhstan",
          "Afghanistan",
          "Guinea",
          "Kenya",
          "Indonesia",
          "Albania",
          "Rep. of Korea",
          "Qatar",
          "Angola",
          "Kuwait",
          "Switzerland",
          "Switzerland",
          "Ukraine",
          "Saudi Arabia",
          "Japan",
          "United Arab Emirates",
          "Iraq",
          "Thailand",
          "United Kingdom",
          "Algeria",
          "Viet Nam",
          "Greece",
          "Mauritius",
          "France",
          "China",
          "Djibouti",
          "Sierra Leone",
          "Mexico",
          "Oman",
          "Australia",
          "Montenegro",
          "Chile",
          "Trinidad and Tobago",
          "Denmark",
          "Singapore",
          "South Africa",
          "Morocco",
          "China, Hong Kong SAR",
          "Yemen",
          "United Rep. of Tanzania",
          "Norway",
          "Nepal",
          "Turkmenistan",
          "Bangladesh",
          "Bahrain",
          "Cyprus",
          "Nigeria",
          "New Zealand",
          "Mozambique",
          "Spain",
          "United Rep. of Tanzania",
          "Malaysia",
          "Malaysia",
          "Other Asia, nes",
          "Madagascar",
          "Malaysia",
          "Egypt",
          "USA",
          "Philippines",
          "Other Asia, nes",
          "Fiji",
          "Japan",
          "Viet Nam",
          "Azerbaijan",
          "Rep. of Korea",
          "China, Hong Kong SAR",
          "Switzerland",
          "Indonesia",
          "Bahrain",
          "Singapore",
          "Iraq",
          "Sierra Leone",
          "China",
          "Colombia",
          "Uzbekistan",
          "New Zealand",
          "Thailand",
          "New Zealand",
          "Turkey",
          "Saudi Arabia",
          "Kyrgyzstan",
          "Afghanistan",
          "South Africa",
          "China",
          "Mauritius",
          "Ghana",
          "Canada",
          "Maldives",
          "Spain",
          "Morocco",
          "Albania",
          "Gambia",
          "Equatorial Guinea",
          "Guinea-Bissau",
          "United Arab Emirates",
          "Lebanon",
          "Mozambique",
          "Kyrgyzstan",
          "New Zealand",
          "Libya",
          "Mauritius",
          "Lithuania",
          "Rep. of Korea",
          "Singapore",
          "Sri Lanka",
          "Maldives",
          "Thailand",
          "Qatar",
          "Kuwait",
          "Spain",
          "Somalia",
          "Kazakhstan",
          "Morocco",
          "Saudi Arabia",
          "Turkey",
          "Japan",
          "New Zealand",
          "Kenya",
          "Cameroon",
          "Iraq",
          "United Arab Emirates",
          "Bahrain",
          "United Arab Emirates",
          "Belgium",
          "Uzbekistan",
          "Albania",
          "Canada",
          "Afghanistan",
          "China, Hong Kong SAR",
          "Yemen",
          "Guyana",
          "China",
          "Brunei Darussalam",
          "Indonesia",
          "Bangladesh",
          "Philippines",
          "Ghana",
          "Chile",
          "Portugal",
          "Ukraine",
          "Other Asia, nes",
          "Kuwait",
          "Portugal",
          "Canada",
          "Egypt",
          "Bulgaria",
          "Brunei Darussalam",
          "Rep. of Korea",
          "United Kingdom",
          "Kyrgyzstan",
          "Norway",
          "Oman",
          "Malaysia",
          "USA",
          "Egypt",
          "Mauritius",
          "Madagascar",
          "Mauritius",
          "Montenegro",
          "United Rep. of Tanzania",
          "Denmark",
          "United Rep. of Tanzania",
          "China",
          "Mozambique",
          "Czechia",
          "New Zealand",
          "USA",
          "Turkmenistan",
          "New Zealand",
          "Gambia",
          "China, Hong Kong SAR",
          "Lebanon",
          "Brunei Darussalam",
          "China, Hong Kong SAR",
          "Libya",
          "Russian Federation",
          "Thailand",
          "Thailand",
          "Yemen",
          "Somalia",
          "Austria",
          "Indonesia",
          "Kenya",
          "United Arab Emirates",
          "Japan",
          "Spain",
          "Iraq",
          "Argentina",
          "Sri Lanka",
          "Angola",
          "Ireland",
          "Italy",
          "Afghanistan",
          "Switzerland",
          "Switzerland",
          "Jordan",
          "Bahrain",
          "Malaysia",
          "Singapore",
          "Bangladesh",
          "Kazakhstan",
          "Seychelles",
          "Seychelles",
          "Belgium",
          "Saudi Arabia",
          "Belgium",
          "Viet Nam",
          "Guinea",
          "Russian Federation",
          "Botswana",
          "Mozambique",
          "Sri Lanka",
          "Afghanistan",
          "Qatar",
          "Denmark",
          "USA",
          "Maldives",
          "Egypt",
          "Thailand",
          "Nepal",
          "Sweden",
          "Algeria",
          "Egypt",
          "Saudi Arabia",
          "USA",
          "Morocco",
          "Nepal",
          "Australia",
          "Turkey",
          "Slovenia",
          "Slovenia",
          "Other Asia, nes",
          "Chile",
          "China",
          "China",
          "Oman",
          "Poland",
          "South Africa",
          "Canada",
          "Bangladesh",
          "Poland",
          "Nigeria",
          "Australia",
          "China, Hong Kong SAR",
          "Belgium",
          "Yemen",
          "Spain",
          "Czechia",
          "Norway",
          "Uzbekistan",
          "Japan",
          "Indonesia",
          "Italy",
          "Guatemala",
          "Japan",
          "France",
          "United Kingdom",
          "United Arab Emirates",
          "Madagascar",
          "Kuwait",
          "Kuwait",
          "Iraq",
          "Jordan",
          "USA",
          "Romania",
          "Latvia",
          "Rep. of Korea",
          "Solomon Isds",
          "Cabo Verde",
          "Mauritania",
          "Uzbekistan",
          "Turkey",
          "Bahrain",
          "France",
          "Nigeria",
          "Georgia",
          "Kazakhstan",
          "Thailand",
          "Congo",
          "Greece",
          "Saudi Arabia",
          "Jordan",
          "Afghanistan",
          "United Arab Emirates",
          "Maldives",
          "Argentina",
          "Canada",
          "Latvia",
          "Indonesia",
          "Turkey",
          "Bahrain",
          "China, Hong Kong SAR",
          "Australia",
          "Thailand",
          "Nigeria",
          "Finland",
          "Slovenia",
          "Sri Lanka",
          "Afghanistan",
          "New Zealand",
          "Maldives",
          "Japan",
          "Kuwait",
          "Rep. of Korea",
          "Viet Nam",
          "Slovenia",
          "Greece",
          "Oman",
          "Spain",
          "Australia",
          "Lebanon",
          "Oman",
          "Norway",
          "Turkey",
          "Germany",
          "Kyrgyzstan",
          "United Kingdom",
          "Norway",
          "China",
          "Kuwait",
          "South Africa",
          "Serbia",
          "Belgium",
          "Hungary",
          "Trinidad and Tobago",
          "Bangladesh",
          "Viet Nam",
          "Saudi Arabia",
          "Brazil",
          "Russian Federation",
          "Indonesia",
          "Romania",
          "Jordan",
          "Other Asia, nes",
          "Singapore",
          "Rep. of Korea",
          "Brunei Darussalam",
          "Somalia",
          "Qatar",
          "Greece",
          "Malaysia",
          "Canada",
          "Chile",
          "Ukraine",
          "Germany",
          "Peru",
          "Viet Nam",
          "Kenya",
          "Bahrain",
          "Japan",
          "Sri Lanka",
          "Myanmar",
          "Iraq",
          "Denmark",
          "Yemen",
          "Sweden",
          "Ireland",
          "Morocco",
          "Lithuania",
          "United Rep. of Tanzania",
          "Thailand",
          "Namibia",
          "USA",
          "Algeria",
          "Mauritius",
          "Sweden",
          "Egypt",
          "Italy",
          "Mauritius",
          "Afghanistan",
          "Maldives",
          "Egypt",
          "Finland",
          "Djibouti",
          "France",
          "Kazakhstan",
          "Croatia",
          "Netherlands",
          "Czechia",
          "Libya",
          "Czechia",
          "United Arab Emirates",
          "Cyprus",
          "USA",
          "Netherlands",
          "Timor-Leste",
          "Ireland",
          "USA",
          "Romania",
          "Liberia",
          "Italy",
          "Mauritania",
          "China, Hong Kong SAR",
          "Dominican Rep.",
          "Norway",
          "Maldives",
          "Jamaica",
          "Angola",
          "Mexico",
          "Netherlands",
          "Viet Nam",
          "Cameroon",
          "Cameroon",
          "Malawi",
          "Yemen",
          "Kenya",
          "Brazil",
          "United Kingdom",
          "Fiji",
          "Guyana",
          "Senegal",
          "Malaysia",
          "Saudi Arabia",
          "United Arab Emirates",
          "Bangladesh",
          "Afghanistan",
          "Malaysia",
          "Kenya",
          "Tajikistan",
          "Equatorial Guinea",
          "Singapore",
          "United Kingdom",
          "Singapore",
          "Samoa",
          "Comoros",
          "Brazil",
          "Oman",
          "Trinidad and Tobago",
          "Comoros",
          "Cyprus",
          "Mexico",
          "Finland",
          "Belarus",
          "Djibouti",
          "Lithuania",
          "Jordan",
          "Mozambique",
          "Netherlands",
          "Panama",
          "Sudan",
          "Kyrgyzstan",
          "Dem. Rep. of the Congo",
          "Iraq",
          "China",
          "France",
          "China",
          "Germany",
          "South Africa",
          "Oman",
          "Spain",
          "Other Asia, nes",
          "Philippines",
          "Mozambique",
          "France",
          "Greece",
          "Sweden",
          "Liberia",
          "Togo",
          "Germany",
          "Ghana",
          "Kuwait",
          "Sweden",
          "Poland",
          "Bahrain",
          "Qatar",
          "Tunisia",
          "Australia",
          "Spain",
          "Bangladesh",
          "Sweden",
          "Afghanistan",
          "Togo",
          "Spain",
          "Jordan",
          "Togo",
          "Jordan",
          "Australia",
          "Singapore",
          "Singapore",
          "Sudan",
          "Tajikistan",
          "Angola",
          "South Africa",
          "Bahamas",
          "Bahrain",
          "South Africa",
          "Yemen",
          "United Arab Emirates",
          "Italy",
          "Poland",
          "Kuwait",
          "Poland",
          "Djibouti",
          "Kuwait",
          "China",
          "Montenegro",
          "Panama",
          "Panama",
          "United Kingdom",
          "Germany",
          "France",
          "Mozambique",
          "China",
          "Oman",
          "Oman",
          "France",
          "Belarus",
          "Germany",
          "Mozambique",
          "Lithuania",
          "China, Hong Kong SAR",
          "Norway",
          "Ireland",
          "USA",
          "Dem. Rep. of the Congo",
          "Liberia",
          "Netherlands",
          "Liberia",
          "Croatia",
          "Djibouti",
          "Comoros",
          "Croatia",
          "Greece",
          "Senegal",
          "Guyana",
          "Ukraine",
          "Malaysia",
          "Malaysia",
          "Benin",
          "Kenya",
          "Ethiopia",
          "Estonia",
          "Kenya",
          "Malaysia",
          "Brazil",
          "United Rep. of Tanzania",
          "Tunisia",
          "Malawi",
          "Malta",
          "Viet Nam",
          "Qatar",
          "Qatar",
          "Canada",
          "Romania",
          "Viet Nam",
          "Tunisia",
          "Malta",
          "United Rep. of Tanzania",
          "Maldives",
          "Italy",
          "United Arab Emirates",
          "Myanmar",
          "Afghanistan",
          "Egypt",
          "Egypt",
          "Mauritania",
          "Belgium",
          "China, Hong Kong SAR",
          "Thailand",
          "Jordan",
          "Saint Lucia",
          "Romania",
          "Bahrain",
          "Rep. of Korea",
          "Bosnia Herzegovina",
          "Kuwait",
          "Slovenia",
          "Saudi Arabia",
          "Gabon",
          "Bangladesh",
          "Canada",
          "Jordan",
          "Chile",
          "Australia",
          "Turkey",
          "United Kingdom",
          "Other Asia, nes",
          "Oman",
          "Lebanon",
          "Trinidad and Tobago",
          "Sri Lanka",
          "Yemen",
          "Nigeria",
          "Uzbekistan",
          "Sri Lanka",
          "Peru",
          "USA",
          "Togo",
          "United Arab Emirates",
          "Viet Nam",
          "Turkey",
          "Timor-Leste",
          "United Kingdom",
          "United Kingdom",
          "Malaysia",
          "Tajikistan",
          "France",
          "France",
          "Germany",
          "Germany",
          "Germany",
          "Ghana",
          "Ghana",
          "Haiti",
          "Indonesia",
          "Iraq",
          "Ireland",
          "Italy",
          "Japan",
          "Jordan",
          "Jordan",
          "Tajikistan",
          "Kazakhstan",
          "Kenya",
          "Kuwait",
          "Kyrgyzstan",
          "Lebanon",
          "Libya",
          "Libya",
          "Fiji",
          "Equatorial Guinea",
          "Egypt",
          "Ecuador",
          "Afghanistan",
          "Angola",
          "Australia",
          "Australia",
          "Bahrain",
          "Bangladesh",
          "Belgium",
          "Benin",
          "Bulgaria",
          "Cameroon",
          "Canada",
          "Lithuania",
          "China",
          "China, Hong Kong SAR",
          "China, Hong Kong SAR",
          "Colombia",
          "Comoros",
          "Comoros",
          "Côte d'Ivoire",
          "Côte d'Ivoire",
          "Denmark",
          "Denmark",
          "Denmark",
          "Djibouti",
          "China",
          "Malawi",
          "Zimbabwe",
          "Saudi Arabia",
          "Somalia",
          "Oman",
          "Other Asia, nes",
          "South Africa",
          "Spain",
          "Panama",
          "Saudi Arabia",
          "Sudan",
          "Norway",
          "Norway",
          "Poland",
          "Sudan",
          "Oman",
          "Netherlands",
          "Sierra Leone",
          "Qatar",
          "Malta",
          "Mauritania",
          "Romania",
          "Mexico",
          "Serbia",
          "Netherlands",
          "Mexico",
          "Sweden",
          "Mozambique",
          "Mozambique",
          "South Africa",
          "Trinidad and Tobago",
          "China, Hong Kong SAR",
          "Seychelles",
          "Uzbekistan",
          "Singapore",
          "Somalia",
          "Maldives",
          "Canada",
          "Spain",
          "Brunei Darussalam",
          "Belgium",
          "Viet Nam",
          "Bangladesh",
          "Bahrain",
          "Suriname",
          "Austria",
          "Sweden",
          "Switzerland",
          "Afghanistan",
          "Thailand",
          "Chile",
          "Sri Lanka",
          "Portugal",
          "Saudi Arabia",
          "Mauritius",
          "USA",
          "Kyrgyzstan",
          "Ukraine",
          "Morocco",
          "Kuwait",
          "Kazakhstan",
          "New Zealand",
          "Japan",
          "New Zealand",
          "Italy",
          "Ireland",
          "Iraq",
          "Oman",
          "Denmark",
          "United Arab Emirates",
          "Indonesia",
          "Turkey",
          "Guinea",
          "United Kingdom",
          "Ghana",
          "Other Asia, nes",
          "Gambia",
          "Philippines",
          "Fiji",
          "Malaysia",
          "El Salvador",
          "Qatar",
          "Rep. of Korea",
          "Russian Federation",
          "Oman",
          "Jordan",
          "Animal or vegetable fats and oils and their cleavage products; prepared animal fats; animal or vegetable waxes",
          "Animal originated products; not elsewhere specified or included",
          "Animals; live",
          "Cereals",
          "Coffee, tea, mate and spices",
          "Dairy produce; birds' eggs; natural honey; edible products of animal origin, not elsewhere specified or included",
          "Fish and crustaceans, molluscs and other aquatic invertebrates",
          "Fruit and nuts, edible; peel of citrus fruit or melons",
          "Lac; gums, resins and other vegetable saps and extracts",
          "Meat and edible meat offal",
          "Meat, fish or crustaceans, molluscs or other aquatic invertebrates; preparations thereof",
          "Oil seeds and oleaginous fruits; miscellaneous grains, seeds and fruit, industrial or medicinal plants; straw and fodder",
          "Preparations of cereals, flour, starch or milk; pastrycooks' products",
          "Preparations of vegetables, fruit, nuts or other parts of plants",
          "Products of the milling industry; malt, starches, inulin, wheat gluten",
          "Sugars and sugar confectionery",
          "Vegetables and certain roots and tubers; edible",
          "all"
         ],
         "marker": {
          "colors": [
           "#A3AAA5",
           "#B6E880",
           "#B6E880",
           "#C9938B",
           "#E95F85",
           "#EBE5D9",
           "#99B7CF",
           "#662C69",
           "#7D7E7D",
           "#EAAC55",
           "#57633C",
           "#C66562",
           "#7D7E7D",
           "#57633C",
           "#F3E18F",
           "#662C69",
           "#7D7E7D",
           "#A3AAA5",
           "#EAAC55",
           "#F3E18F",
           "#807E5B",
           "#B5A6C8",
           "#7D7E7D",
           "#F3E18F",
           "#E95F85",
           "#5F4737",
           "#F3E18F",
           "#E95F85",
           "#807E5B",
           "#E95F85",
           "#EBE5D9",
           "#EBE5D9",
           "#8D8D8E",
           "#5F4737",
           "#B6E880",
           "#E95F85",
           "#A3AAA5",
           "#E95F85",
           "#99B7CF",
           "#EAAC55",
           "#E95F85",
           "#F3E18F",
           "#A3AAA5",
           "#662C69",
           "#EBE5D9",
           "#5F4737",
           "#C66562",
           "#EBE5D9",
           "#C66562",
           "#B5A6C8",
           "#662C69",
           "#A3AAA5",
           "#3B768C",
           "#F3E18F",
           "#E95F85",
           "#B5A6C8",
           "#B6E880",
           "#B6E880",
           "#662C69",
           "#662C69",
           "#EAAC55",
           "#EBE5D9",
           "#C66562",
           "#99B7CF",
           "#F3E18F",
           "#B5A6C8",
           "#57633C",
           "#B6E880",
           "#3B768C",
           "#C66562",
           "#662C69",
           "#C66562",
           "#5F4737",
           "#5F4737",
           "#C66562",
           "#B5A6C8",
           "#662C69",
           "#EAAC55",
           "#E95F85",
           "#8D8D8E",
           "#B6E880",
           "#EBE5D9",
           "#C66562",
           "#B6E880",
           "#A3AAA5",
           "#B5A6C8",
           "#B6E880",
           "#F3E18F",
           "#B6E880",
           "#E95F85",
           "#EBE5D9",
           "#57633C",
           "#5F4737",
           "#F3E18F",
           "#EBE5D9",
           "#B5A6C8",
           "#5F4737",
           "#E95F85",
           "#5F4737",
           "#EAAC55",
           "#E95F85",
           "#57633C",
           "#B6E880",
           "#662C69",
           "#B5A6C8",
           "#A3AAA5",
           "#EAAC55",
           "#3B768C",
           "#662C69",
           "#B6E880",
           "#807E5B",
           "#B6E880",
           "#8D8D8E",
           "#EBE5D9",
           "#B6E880",
           "#EBE5D9",
           "#C66562",
           "#C66562",
           "#B5A6C8",
           "#3B768C",
           "#E95F85",
           "#C66562",
           "#5F4737",
           "#807E5B",
           "#E95F85",
           "#7D7E7D",
           "#B6E880",
           "#EBE5D9",
           "#99B7CF",
           "#5F4737",
           "#99B7CF",
           "#8D8D8E",
           "#57633C",
           "#5F4737",
           "#662C69",
           "#E95F85",
           "#5F4737",
           "#C66562",
           "#C9938B",
           "#B6E880",
           "#3B768C",
           "#5F4737",
           "#F3E18F",
           "#E95F85",
           "#EAAC55",
           "#B6E880",
           "#F3E18F",
           "#662C69",
           "#662C69",
           "#F3E18F",
           "#E95F85",
           "#C66562",
           "#F3E18F",
           "#7D7E7D",
           "#662C69",
           "#3B768C",
           "#EBE5D9",
           "#5F4737",
           "#C66562",
           "#7D7E7D",
           "#B6E880",
           "#57633C",
           "#EAAC55",
           "#57633C",
           "#7D7E7D",
           "#57633C",
           "#EBE5D9",
           "#EBE5D9",
           "#F3E18F",
           "#B5A6C8",
           "#A3AAA5",
           "#B6E880",
           "#7D7E7D",
           "#B6E880",
           "#7D7E7D",
           "#C66562",
           "#99B7CF",
           "#B6E880",
           "#7D7E7D",
           "#B5A6C8",
           "#5F4737",
           "#99B7CF",
           "#EBE5D9",
           "#EAAC55",
           "#C66562",
           "#E95F85",
           "#662C69",
           "#EBE5D9",
           "#57633C",
           "#EBE5D9",
           "#8D8D8E",
           "#C9938B",
           "#7D7E7D",
           "#B5A6C8",
           "#8D8D8E",
           "#E95F85",
           "#C9938B",
           "#F3E18F",
           "#EBE5D9",
           "#7D7E7D",
           "#662C69",
           "#3B768C",
           "#7D7E7D",
           "#7D7E7D",
           "#E95F85",
           "#7D7E7D",
           "#5F4737",
           "#B6E880",
           "#E95F85",
           "#807E5B",
           "#C9938B",
           "#EBE5D9",
           "#E95F85",
           "#C9938B",
           "#7D7E7D",
           "#3B768C",
           "#EBE5D9",
           "#B6E880",
           "#8D8D8E",
           "#E95F85",
           "#C66562",
           "#C66562",
           "#8D8D8E",
           "#B5A6C8",
           "#57633C",
           "#57633C",
           "#5F4737",
           "#B6E880",
           "#7D7E7D",
           "#E95F85",
           "#B6E880",
           "#B6E880",
           "#EBE5D9",
           "#7D7E7D",
           "#C66562",
           "#662C69",
           "#F3E18F",
           "#F3E18F",
           "#EBE5D9",
           "#57633C",
           "#C9938B",
           "#B6E880",
           "#8D8D8E",
           "#F3E18F",
           "#F3E18F",
           "#EAAC55",
           "#8D8D8E",
           "#99B7CF",
           "#5F4737",
           "#C66562",
           "#E95F85",
           "#B6E880",
           "#C66562",
           "#5F4737",
           "#E95F85",
           "#E95F85",
           "#C9938B",
           "#3B768C",
           "#3B768C",
           "#B5A6C8",
           "#C66562",
           "#5F4737",
           "#F3E18F",
           "#EBE5D9",
           "#B6E880",
           "#662C69",
           "#EAAC55",
           "#F3E18F",
           "#EBE5D9",
           "#E95F85",
           "#5F4737",
           "#B6E880",
           "#57633C",
           "#B5A6C8",
           "#662C69",
           "#EAAC55",
           "#662C69",
           "#A3AAA5",
           "#8D8D8E",
           "#EBE5D9",
           "#B6E880",
           "#C66562",
           "#EBE5D9",
           "#EBE5D9",
           "#F3E18F",
           "#B6E880",
           "#EAAC55",
           "#57633C",
           "#5F4737",
           "#B6E880",
           "#B6E880",
           "#3B768C",
           "#C66562",
           "#662C69",
           "#C9938B",
           "#8D8D8E",
           "#F3E18F",
           "#E95F85",
           "#EBE5D9",
           "#57633C",
           "#3B768C",
           "#B6E880",
           "#A3AAA5",
           "#EBE5D9",
           "#57633C",
           "#E95F85",
           "#B6E880",
           "#A3AAA5",
           "#99B7CF",
           "#B6E880",
           "#B5A6C8",
           "#E95F85",
           "#B5A6C8",
           "#99B7CF",
           "#B6E880",
           "#EAAC55",
           "#B5A6C8",
           "#5F4737",
           "#F3E18F",
           "#B6E880",
           "#662C69",
           "#EBE5D9",
           "#E95F85",
           "#662C69",
           "#EBE5D9",
           "#E95F85",
           "#B5A6C8",
           "#99B7CF",
           "#5F4737",
           "#5F4737",
           "#A3AAA5",
           "#F3E18F",
           "#B6E880",
           "#7D7E7D",
           "#EBE5D9",
           "#662C69",
           "#B6E880",
           "#57633C",
           "#E95F85",
           "#662C69",
           "#F3E18F",
           "#B5A6C8",
           "#B6E880",
           "#A3AAA5",
           "#F3E18F",
           "#5F4737",
           "#3B768C",
           "#8D8D8E",
           "#99B7CF",
           "#B5A6C8",
           "#662C69",
           "#3B768C",
           "#662C69",
           "#662C69",
           "#EBE5D9",
           "#7D7E7D",
           "#8D8D8E",
           "#E95F85",
           "#EBE5D9",
           "#E95F85",
           "#662C69",
           "#B6E880",
           "#A3AAA5",
           "#EBE5D9",
           "#8D8D8E",
           "#8D8D8E",
           "#662C69",
           "#99B7CF",
           "#EAAC55",
           "#B6E880",
           "#57633C",
           "#A3AAA5",
           "#B6E880",
           "#B6E880",
           "#7D7E7D",
           "#A3AAA5",
           "#C66562",
           "#B6E880",
           "#5F4737",
           "#B6E880",
           "#E95F85",
           "#A3AAA5",
           "#662C69",
           "#C66562",
           "#C9938B",
           "#B5A6C8",
           "#C66562",
           "#8D8D8E",
           "#F3E18F",
           "#662C69",
           "#B5A6C8",
           "#B6E880",
           "#E95F85",
           "#57633C",
           "#807E5B",
           "#B6E880",
           "#C9938B",
           "#7D7E7D",
           "#F3E18F",
           "#662C69",
           "#E95F85",
           "#F3E18F",
           "#E95F85",
           "#F3E18F",
           "#8D8D8E",
           "#3B768C",
           "#F3E18F",
           "#C66562",
           "#5F4737",
           "#EBE5D9",
           "#C66562",
           "#57633C",
           "#5F4737",
           "#EBE5D9",
           "#662C69",
           "#B6E880",
           "#5F4737",
           "#E95F85",
           "#C66562",
           "#A3AAA5",
           "#5F4737",
           "#5F4737",
           "#E95F85",
           "#7D7E7D",
           "#A3AAA5",
           "#E95F85",
           "#F3E18F",
           "#F3E18F",
           "#B5A6C8",
           "#C66562",
           "#B5A6C8",
           "#EBE5D9",
           "#5F4737",
           "#F3E18F",
           "#B5A6C8",
           "#662C69",
           "#C66562",
           "#662C69",
           "#B5A6C8",
           "#EBE5D9",
           "#57633C",
           "#C66562",
           "#7D7E7D",
           "#E95F85",
           "#99B7CF",
           "#C66562",
           "#EBE5D9",
           "#B5A6C8",
           "#E95F85",
           "#57633C",
           "#B6E880",
           "#8D8D8E",
           "#E95F85",
           "#57633C",
           "#F3E18F",
           "#C66562",
           "#3B768C",
           "#C66562",
           "#7D7E7D",
           "#F3E18F",
           "#B5A6C8",
           "#EBE5D9",
           "#5F4737",
           "#662C69",
           "#B6E880",
           "#5F4737",
           "#99B7CF",
           "#B6E880",
           "#F3E18F",
           "#57633C",
           "#EAAC55",
           "#C66562",
           "#B6E880",
           "#B5A6C8",
           "#5F4737",
           "#C66562",
           "#662C69",
           "#57633C",
           "#5F4737",
           "#5F4737",
           "#B5A6C8",
           "#8D8D8E",
           "#B5A6C8",
           "#EBE5D9",
           "#E95F85",
           "#662C69",
           "#57633C",
           "#A3AAA5",
           "#B5A6C8",
           "#57633C",
           "#B6E880",
           "#8D8D8E",
           "#F3E18F",
           "#B6E880",
           "#B6E880",
           "#E95F85",
           "#EBE5D9",
           "#5F4737",
           "#57633C",
           "#A3AAA5",
           "#B5A6C8",
           "#5F4737",
           "#EAAC55",
           "#807E5B",
           "#662C69",
           "#57633C",
           "#5F4737",
           "#C9938B",
           "#E95F85",
           "#EBE5D9",
           "#662C69",
           "#B6E880",
           "#662C69",
           "#57633C",
           "#807E5B",
           "#3B768C",
           "#8D8D8E",
           "#F3E18F",
           "#B6E880",
           "#B6E880",
           "#8D8D8E",
           "#662C69",
           "#EBE5D9",
           "#B6E880",
           "#E95F85",
           "#99B7CF",
           "#C66562",
           "#8D8D8E",
           "#5F4737",
           "#662C69",
           "#C66562",
           "#5F4737",
           "#B6E880",
           "#C9938B",
           "#807E5B",
           "#8D8D8E",
           "#E95F85",
           "#5F4737",
           "#B5A6C8",
           "#EBE5D9",
           "#5F4737",
           "#5F4737",
           "#EAAC55",
           "#EBE5D9",
           "#A3AAA5",
           "#5F4737",
           "#57633C",
           "#EAAC55",
           "#7D7E7D",
           "#57633C",
           "#C66562",
           "#8D8D8E",
           "#F3E18F",
           "#A3AAA5",
           "#57633C",
           "#EAAC55",
           "#B5A6C8",
           "#EAAC55",
           "#EBE5D9",
           "#B5A6C8",
           "#E95F85",
           "#EBE5D9",
           "#A3AAA5",
           "#F3E18F",
           "#C66562",
           "#B6E880",
           "#5F4737",
           "#662C69",
           "#662C69",
           "#3B768C",
           "#A3AAA5",
           "#7D7E7D",
           "#57633C",
           "#807E5B",
           "#8D8D8E",
           "#F3E18F",
           "#662C69",
           "#E95F85",
           "#F3E18F",
           "#57633C",
           "#B6E880",
           "#B6E880",
           "#662C69",
           "#A3AAA5",
           "#F3E18F",
           "#5F4737",
           "#B6E880",
           "#8D8D8E",
           "#B5A6C8",
           "#7D7E7D",
           "#EBE5D9",
           "#A3AAA5",
           "#B5A6C8",
           "#C66562",
           "#5F4737",
           "#EBE5D9",
           "#5F4737",
           "#662C69",
           "#EAAC55",
           "#B6E880",
           "#B5A6C8",
           "#57633C",
           "#C66562",
           "#662C69",
           "#EBE5D9",
           "#A3AAA5",
           "#B5A6C8",
           "#57633C",
           "#F3E18F",
           "#B6E880",
           "#EBE5D9",
           "#B6E880",
           "#C9938B",
           "#C9938B",
           "#F3E18F",
           "#C66562",
           "#662C69",
           "#E95F85",
           "#C9938B",
           "#7D7E7D",
           "#EBE5D9",
           "#F3E18F",
           "#C66562",
           "#7D7E7D",
           "#99B7CF",
           "#F3E18F",
           "#EAAC55",
           "#B6E880",
           "#57633C",
           "#E95F85",
           "#662C69",
           "#C66562",
           "#EBE5D9",
           "#B6E880",
           "#5F4737",
           "#662C69",
           "#EBE5D9",
           "#C66562",
           "#57633C",
           "#B5A6C8",
           "#E95F85",
           "#B5A6C8",
           "#662C69",
           "#C66562",
           "#662C69",
           "#EBE5D9",
           "#5F4737",
           "#EBE5D9",
           "#B5A6C8",
           "#B5A6C8",
           "#8D8D8E",
           "#5F4737",
           "#E95F85",
           "#EBE5D9",
           "#3B768C",
           "#57633C",
           "#EAAC55",
           "#EBE5D9",
           "#807E5B",
           "#E95F85",
           "#B6E880",
           "#C66562",
           "#EBE5D9",
           "#EAAC55",
           "#EBE5D9",
           "#99B7CF",
           "#A3AAA5",
           "#B6E880",
           "#5F4737",
           "#3B768C",
           "#57633C",
           "#662C69",
           "#B6E880",
           "#EBE5D9",
           "#F3E18F",
           "#C66562",
           "#5F4737",
           "#C66562",
           "#807E5B",
           "#A3AAA5",
           "#C66562",
           "#662C69",
           "#5F4737",
           "#B6E880",
           "#C9938B",
           "#B6E880",
           "#5F4737",
           "#F3E18F",
           "#99B7CF",
           "#F3E18F",
           "#57633C",
           "#E95F85",
           "#5F4737",
           "#EBE5D9",
           "#57633C",
           "#B6E880",
           "#B6E880",
           "#5F4737",
           "#5F4737",
           "#B6E880",
           "#662C69",
           "#B6E880",
           "#662C69",
           "#E95F85",
           "#B6E880",
           "#F3E18F",
           "#B6E880",
           "#99B7CF",
           "#F3E18F",
           "#C66562",
           "#7D7E7D",
           "#57633C",
           "#C66562",
           "#7D7E7D",
           "#B6E880",
           "#B6E880",
           "#5F4737",
           "#5F4737",
           "#B6E880",
           "#B5A6C8",
           "#B6E880",
           "#5F4737",
           "#F3E18F",
           "#B6E880",
           "#EBE5D9",
           "#EAAC55",
           "#E95F85",
           "#EAAC55",
           "#5F4737",
           "#8D8D8E",
           "#807E5B",
           "#EAAC55",
           "#662C69",
           "#EBE5D9",
           "#7D7E7D",
           "#3B768C",
           "#57633C",
           "#807E5B",
           "#7D7E7D",
           "#5F4737",
           "#B6E880",
           "#662C69",
           "#662C69",
           "#99B7CF",
           "#EAAC55",
           "#C66562",
           "#662C69",
           "#F3E18F",
           "#C66562",
           "#B6E880",
           "#C66562",
           "#C66562",
           "#7D7E7D",
           "#C9938B",
           "#B6E880",
           "#57633C",
           "#8D8D8E",
           "#EBE5D9",
           "#A3AAA5",
           "#E95F85",
           "#662C69",
           "#E95F85",
           "#57633C",
           "#99B7CF",
           "#F3E18F",
           "#99B7CF",
           "#B6E880",
           "#5F4737",
           "#57633C",
           "#F3E18F",
           "#662C69",
           "#B6E880",
           "#5F4737",
           "#F3E18F",
           "#B6E880",
           "#C66562",
           "#EAAC55",
           "#F3E18F",
           "#B6E880",
           "#7D7E7D",
           "#E95F85",
           "#C66562",
           "#B6E880",
           "#5F4737",
           "#C66562",
           "#7D7E7D",
           "#7D7E7D",
           "#B5A6C8",
           "#B6E880",
           "#F3E18F",
           "#F3E18F",
           "#662C69",
           "#8D8D8E",
           "#C9938B",
           "#7D7E7D",
           "#B5A6C8",
           "#A3AAA5",
           "#C66562",
           "#EBE5D9",
           "#C66562",
           "#EAAC55",
           "#57633C",
           "#8D8D8E",
           "#EAAC55",
           "#F3E18F",
           "#F3E18F",
           "#662C69",
           "#C66562",
           "#7D7E7D",
           "#E95F85",
           "#5F4737",
           "#662C69",
           "#C66562",
           "#EBE5D9",
           "#EBE5D9",
           "#99B7CF",
           "#E95F85",
           "#5F4737",
           "#99B7CF",
           "#7D7E7D",
           "#99B7CF",
           "#7D7E7D",
           "#E95F85",
           "#EAAC55",
           "#F3E18F",
           "#EBE5D9",
           "#C66562",
           "#B5A6C8",
           "#EBE5D9",
           "#F3E18F",
           "#E95F85",
           "#7D7E7D",
           "#A3AAA5",
           "#EAAC55",
           "#B6E880",
           "#57633C",
           "#E95F85",
           "#7D7E7D",
           "#99B7CF",
           "#5F4737",
           "#B5A6C8",
           "#5F4737",
           "#B5A6C8",
           "#C9938B",
           "#C9938B",
           "#F3E18F",
           "#B6E880",
           "#EBE5D9",
           "#EAAC55",
           "#EBE5D9",
           "#7D7E7D",
           "#EAAC55",
           "#EAAC55",
           "#A3AAA5",
           "#EBE5D9",
           "#57633C",
           "#F3E18F",
           "#662C69",
           "#5F4737",
           "#EBE5D9",
           "#EAAC55",
           "#EBE5D9",
           "#662C69",
           "#E95F85",
           "#EAAC55",
           "#EBE5D9",
           "#B6E880",
           "#662C69",
           "#5F4737",
           "#99B7CF",
           "#5F4737",
           "#8D8D8E",
           "#EAAC55",
           "#F3E18F",
           "#7D7E7D",
           "#A3AAA5",
           "#EAAC55",
           "#B6E880",
           "#B6E880",
           "#F3E18F",
           "#E95F85",
           "#EBE5D9",
           "#E95F85",
           "#EBE5D9",
           "#662C69",
           "#EBE5D9",
           "#E95F85",
           "#EBE5D9",
           "#57633C",
           "#B6E880",
           "#A3AAA5",
           "#662C69",
           "#B6E880",
           "#EBE5D9",
           "#EBE5D9",
           "#C9938B",
           "#8D8D8E",
           "#EBE5D9",
           "#A3AAA5",
           "#E95F85",
           "#EAAC55",
           "#B6E880",
           "#662C69",
           "#F3E18F",
           "#C66562",
           "#EBE5D9",
           "#8D8D8E",
           "#F3E18F",
           "#EBE5D9",
           "#A3AAA5",
           "#B6E880",
           "#B6E880",
           "#B6E880",
           "#662C69",
           "#EAAC55",
           "#B5A6C8",
           "#E95F85",
           "#99B7CF",
           "#5F4737",
           "#99B7CF",
           "#99B7CF",
           "#5F4737",
           "#C66562",
           "#57633C",
           "#EAAC55",
           "#F3E18F",
           "#99B7CF",
           "#B6E880",
           "#A3AAA5",
           "#E95F85",
           "#5F4737",
           "#F3E18F",
           "#8D8D8E",
           "#5F4737",
           "#662C69",
           "#662C69",
           "#B6E880",
           "#EBE5D9",
           "#EBE5D9",
           "#E95F85",
           "#C9938B",
           "#EBE5D9",
           "#662C69",
           "#B6E880",
           "#F3E18F",
           "#C66562",
           "#57633C",
           "#A3AAA5",
           "#C66562",
           "#EAAC55",
           "#F3E18F",
           "#8D8D8E",
           "#C66562",
           "#E95F85",
           "#8D8D8E",
           "#5F4737",
           "#662C69",
           "#5F4737",
           "#EAAC55",
           "#B5A6C8",
           "#662C69",
           "#F3E18F",
           "#F3E18F",
           "#662C69",
           "#7D7E7D",
           "#99B7CF",
           "#B5A6C8",
           "#E95F85",
           "#C66562",
           "#E95F85",
           "#99B7CF",
           "#EBE5D9",
           "#57633C",
           "#EAAC55",
           "#662C69",
           "#7D7E7D",
           "#C66562",
           "#EAAC55",
           "#7D7E7D",
           "#807E5B",
           "#B6E880",
           "#5F4737",
           "#99B7CF",
           "#A3AAA5",
           "#C66562",
           "#B5A6C8",
           "#C9938B",
           "#3B768C",
           "#F3E18F",
           "#662C69",
           "#E95F85",
           "#8D8D8E",
           "#EBE5D9",
           "#57633C",
           "white"
          ],
          "line": {
           "color": "rgb(0,0,0)",
           "width": 0.1
          }
         },
         "name": "",
         "parents": [
          "all/Fish and crustaceans, molluscs and other aquatic invertebrates",
          "all/Cereals",
          "all/Cereals",
          "all/Meat and edible meat offal",
          "all/Preparations of vegetables, fruit, nuts or other parts of plants",
          "all/Sugars and sugar confectionery",
          "all/Dairy produce; birds' eggs; natural honey; edible products of animal origin, not elsewhere specified or included",
          "all/Preparations of cereals, flour, starch or milk; pastrycooks' products",
          "all/Animal originated products; not elsewhere specified or included",
          "all/Animal or vegetable fats and oils and their cleavage products; prepared animal fats; animal or vegetable waxes",
          "all/Vegetables and certain roots and tubers; edible",
          "all/Fruit and nuts, edible; peel of citrus fruit or melons",
          "all/Animal originated products; not elsewhere specified or included",
          "all/Vegetables and certain roots and tubers; edible",
          "all/Oil seeds and oleaginous fruits; miscellaneous grains, seeds and fruit, industrial or medicinal plants; straw and fodder",
          "all/Preparations of cereals, flour, starch or milk; pastrycooks' products",
          "all/Animal originated products; not elsewhere specified or included",
          "all/Fish and crustaceans, molluscs and other aquatic invertebrates",
          "all/Animal or vegetable fats and oils and their cleavage products; prepared animal fats; animal or vegetable waxes",
          "all/Oil seeds and oleaginous fruits; miscellaneous grains, seeds and fruit, industrial or medicinal plants; straw and fodder",
          "all/Animals; live",
          "all/Lac; gums, resins and other vegetable saps and extracts",
          "all/Animal originated products; not elsewhere specified or included",
          "all/Oil seeds and oleaginous fruits; miscellaneous grains, seeds and fruit, industrial or medicinal plants; straw and fodder",
          "all/Preparations of vegetables, fruit, nuts or other parts of plants",
          "all/Coffee, tea, mate and spices",
          "all/Oil seeds and oleaginous fruits; miscellaneous grains, seeds and fruit, industrial or medicinal plants; straw and fodder",
          "all/Preparations of vegetables, fruit, nuts or other parts of plants",
          "all/Animals; live",
          "all/Preparations of vegetables, fruit, nuts or other parts of plants",
          "all/Sugars and sugar confectionery",
          "all/Sugars and sugar confectionery",
          "all/Products of the milling industry; malt, starches, inulin, wheat gluten",
          "all/Coffee, tea, mate and spices",
          "all/Cereals",
          "all/Preparations of vegetables, fruit, nuts or other parts of plants",
          "all/Fish and crustaceans, molluscs and other aquatic invertebrates",
          "all/Preparations of vegetables, fruit, nuts or other parts of plants",
          "all/Dairy produce; birds' eggs; natural honey; edible products of animal origin, not elsewhere specified or included",
          "all/Animal or vegetable fats and oils and their cleavage products; prepared animal fats; animal or vegetable waxes",
          "all/Preparations of vegetables, fruit, nuts or other parts of plants",
          "all/Oil seeds and oleaginous fruits; miscellaneous grains, seeds and fruit, industrial or medicinal plants; straw and fodder",
          "all/Fish and crustaceans, molluscs and other aquatic invertebrates",
          "all/Preparations of cereals, flour, starch or milk; pastrycooks' products",
          "all/Sugars and sugar confectionery",
          "all/Coffee, tea, mate and spices",
          "all/Fruit and nuts, edible; peel of citrus fruit or melons",
          "all/Sugars and sugar confectionery",
          "all/Fruit and nuts, edible; peel of citrus fruit or melons",
          "all/Lac; gums, resins and other vegetable saps and extracts",
          "all/Preparations of cereals, flour, starch or milk; pastrycooks' products",
          "all/Fish and crustaceans, molluscs and other aquatic invertebrates",
          "all/Meat, fish or crustaceans, molluscs or other aquatic invertebrates; preparations thereof",
          "all/Oil seeds and oleaginous fruits; miscellaneous grains, seeds and fruit, industrial or medicinal plants; straw and fodder",
          "all/Preparations of vegetables, fruit, nuts or other parts of plants",
          "all/Lac; gums, resins and other vegetable saps and extracts",
          "all/Cereals",
          "all/Cereals",
          "all/Preparations of cereals, flour, starch or milk; pastrycooks' products",
          "all/Preparations of cereals, flour, starch or milk; pastrycooks' products",
          "all/Animal or vegetable fats and oils and their cleavage products; prepared animal fats; animal or vegetable waxes",
          "all/Sugars and sugar confectionery",
          "all/Fruit and nuts, edible; peel of citrus fruit or melons",
          "all/Dairy produce; birds' eggs; natural honey; edible products of animal origin, not elsewhere specified or included",
          "all/Oil seeds and oleaginous fruits; miscellaneous grains, seeds and fruit, industrial or medicinal plants; straw and fodder",
          "all/Lac; gums, resins and other vegetable saps and extracts",
          "all/Vegetables and certain roots and tubers; edible",
          "all/Cereals",
          "all/Meat, fish or crustaceans, molluscs or other aquatic invertebrates; preparations thereof",
          "all/Fruit and nuts, edible; peel of citrus fruit or melons",
          "all/Preparations of cereals, flour, starch or milk; pastrycooks' products",
          "all/Fruit and nuts, edible; peel of citrus fruit or melons",
          "all/Coffee, tea, mate and spices",
          "all/Coffee, tea, mate and spices",
          "all/Fruit and nuts, edible; peel of citrus fruit or melons",
          "all/Lac; gums, resins and other vegetable saps and extracts",
          "all/Preparations of cereals, flour, starch or milk; pastrycooks' products",
          "all/Animal or vegetable fats and oils and their cleavage products; prepared animal fats; animal or vegetable waxes",
          "all/Preparations of vegetables, fruit, nuts or other parts of plants",
          "all/Products of the milling industry; malt, starches, inulin, wheat gluten",
          "all/Cereals",
          "all/Sugars and sugar confectionery",
          "all/Fruit and nuts, edible; peel of citrus fruit or melons",
          "all/Cereals",
          "all/Fish and crustaceans, molluscs and other aquatic invertebrates",
          "all/Lac; gums, resins and other vegetable saps and extracts",
          "all/Cereals",
          "all/Oil seeds and oleaginous fruits; miscellaneous grains, seeds and fruit, industrial or medicinal plants; straw and fodder",
          "all/Cereals",
          "all/Preparations of vegetables, fruit, nuts or other parts of plants",
          "all/Sugars and sugar confectionery",
          "all/Vegetables and certain roots and tubers; edible",
          "all/Coffee, tea, mate and spices",
          "all/Oil seeds and oleaginous fruits; miscellaneous grains, seeds and fruit, industrial or medicinal plants; straw and fodder",
          "all/Sugars and sugar confectionery",
          "all/Lac; gums, resins and other vegetable saps and extracts",
          "all/Coffee, tea, mate and spices",
          "all/Preparations of vegetables, fruit, nuts or other parts of plants",
          "all/Coffee, tea, mate and spices",
          "all/Animal or vegetable fats and oils and their cleavage products; prepared animal fats; animal or vegetable waxes",
          "all/Preparations of vegetables, fruit, nuts or other parts of plants",
          "all/Vegetables and certain roots and tubers; edible",
          "all/Cereals",
          "all/Preparations of cereals, flour, starch or milk; pastrycooks' products",
          "all/Lac; gums, resins and other vegetable saps and extracts",
          "all/Fish and crustaceans, molluscs and other aquatic invertebrates",
          "all/Animal or vegetable fats and oils and their cleavage products; prepared animal fats; animal or vegetable waxes",
          "all/Meat, fish or crustaceans, molluscs or other aquatic invertebrates; preparations thereof",
          "all/Preparations of cereals, flour, starch or milk; pastrycooks' products",
          "all/Cereals",
          "all/Animals; live",
          "all/Cereals",
          "all/Products of the milling industry; malt, starches, inulin, wheat gluten",
          "all/Sugars and sugar confectionery",
          "all/Cereals",
          "all/Sugars and sugar confectionery",
          "all/Fruit and nuts, edible; peel of citrus fruit or melons",
          "all/Fruit and nuts, edible; peel of citrus fruit or melons",
          "all/Lac; gums, resins and other vegetable saps and extracts",
          "all/Meat, fish or crustaceans, molluscs or other aquatic invertebrates; preparations thereof",
          "all/Preparations of vegetables, fruit, nuts or other parts of plants",
          "all/Fruit and nuts, edible; peel of citrus fruit or melons",
          "all/Coffee, tea, mate and spices",
          "all/Animals; live",
          "all/Preparations of vegetables, fruit, nuts or other parts of plants",
          "all/Animal originated products; not elsewhere specified or included",
          "all/Cereals",
          "all/Sugars and sugar confectionery",
          "all/Dairy produce; birds' eggs; natural honey; edible products of animal origin, not elsewhere specified or included",
          "all/Coffee, tea, mate and spices",
          "all/Dairy produce; birds' eggs; natural honey; edible products of animal origin, not elsewhere specified or included",
          "all/Products of the milling industry; malt, starches, inulin, wheat gluten",
          "all/Vegetables and certain roots and tubers; edible",
          "all/Coffee, tea, mate and spices",
          "all/Preparations of cereals, flour, starch or milk; pastrycooks' products",
          "all/Preparations of vegetables, fruit, nuts or other parts of plants",
          "all/Coffee, tea, mate and spices",
          "all/Fruit and nuts, edible; peel of citrus fruit or melons",
          "all/Meat and edible meat offal",
          "all/Cereals",
          "all/Meat, fish or crustaceans, molluscs or other aquatic invertebrates; preparations thereof",
          "all/Coffee, tea, mate and spices",
          "all/Oil seeds and oleaginous fruits; miscellaneous grains, seeds and fruit, industrial or medicinal plants; straw and fodder",
          "all/Preparations of vegetables, fruit, nuts or other parts of plants",
          "all/Animal or vegetable fats and oils and their cleavage products; prepared animal fats; animal or vegetable waxes",
          "all/Cereals",
          "all/Oil seeds and oleaginous fruits; miscellaneous grains, seeds and fruit, industrial or medicinal plants; straw and fodder",
          "all/Preparations of cereals, flour, starch or milk; pastrycooks' products",
          "all/Preparations of cereals, flour, starch or milk; pastrycooks' products",
          "all/Oil seeds and oleaginous fruits; miscellaneous grains, seeds and fruit, industrial or medicinal plants; straw and fodder",
          "all/Preparations of vegetables, fruit, nuts or other parts of plants",
          "all/Fruit and nuts, edible; peel of citrus fruit or melons",
          "all/Oil seeds and oleaginous fruits; miscellaneous grains, seeds and fruit, industrial or medicinal plants; straw and fodder",
          "all/Animal originated products; not elsewhere specified or included",
          "all/Preparations of cereals, flour, starch or milk; pastrycooks' products",
          "all/Meat, fish or crustaceans, molluscs or other aquatic invertebrates; preparations thereof",
          "all/Sugars and sugar confectionery",
          "all/Coffee, tea, mate and spices",
          "all/Fruit and nuts, edible; peel of citrus fruit or melons",
          "all/Animal originated products; not elsewhere specified or included",
          "all/Cereals",
          "all/Vegetables and certain roots and tubers; edible",
          "all/Animal or vegetable fats and oils and their cleavage products; prepared animal fats; animal or vegetable waxes",
          "all/Vegetables and certain roots and tubers; edible",
          "all/Animal originated products; not elsewhere specified or included",
          "all/Vegetables and certain roots and tubers; edible",
          "all/Sugars and sugar confectionery",
          "all/Sugars and sugar confectionery",
          "all/Oil seeds and oleaginous fruits; miscellaneous grains, seeds and fruit, industrial or medicinal plants; straw and fodder",
          "all/Lac; gums, resins and other vegetable saps and extracts",
          "all/Fish and crustaceans, molluscs and other aquatic invertebrates",
          "all/Cereals",
          "all/Animal originated products; not elsewhere specified or included",
          "all/Cereals",
          "all/Animal originated products; not elsewhere specified or included",
          "all/Fruit and nuts, edible; peel of citrus fruit or melons",
          "all/Dairy produce; birds' eggs; natural honey; edible products of animal origin, not elsewhere specified or included",
          "all/Cereals",
          "all/Animal originated products; not elsewhere specified or included",
          "all/Lac; gums, resins and other vegetable saps and extracts",
          "all/Coffee, tea, mate and spices",
          "all/Dairy produce; birds' eggs; natural honey; edible products of animal origin, not elsewhere specified or included",
          "all/Sugars and sugar confectionery",
          "all/Animal or vegetable fats and oils and their cleavage products; prepared animal fats; animal or vegetable waxes",
          "all/Fruit and nuts, edible; peel of citrus fruit or melons",
          "all/Preparations of vegetables, fruit, nuts or other parts of plants",
          "all/Preparations of cereals, flour, starch or milk; pastrycooks' products",
          "all/Sugars and sugar confectionery",
          "all/Vegetables and certain roots and tubers; edible",
          "all/Sugars and sugar confectionery",
          "all/Products of the milling industry; malt, starches, inulin, wheat gluten",
          "all/Meat and edible meat offal",
          "all/Animal originated products; not elsewhere specified or included",
          "all/Lac; gums, resins and other vegetable saps and extracts",
          "all/Products of the milling industry; malt, starches, inulin, wheat gluten",
          "all/Preparations of vegetables, fruit, nuts or other parts of plants",
          "all/Meat and edible meat offal",
          "all/Oil seeds and oleaginous fruits; miscellaneous grains, seeds and fruit, industrial or medicinal plants; straw and fodder",
          "all/Sugars and sugar confectionery",
          "all/Animal originated products; not elsewhere specified or included",
          "all/Preparations of cereals, flour, starch or milk; pastrycooks' products",
          "all/Meat, fish or crustaceans, molluscs or other aquatic invertebrates; preparations thereof",
          "all/Animal originated products; not elsewhere specified or included",
          "all/Animal originated products; not elsewhere specified or included",
          "all/Preparations of vegetables, fruit, nuts or other parts of plants",
          "all/Animal originated products; not elsewhere specified or included",
          "all/Coffee, tea, mate and spices",
          "all/Cereals",
          "all/Preparations of vegetables, fruit, nuts or other parts of plants",
          "all/Animals; live",
          "all/Meat and edible meat offal",
          "all/Sugars and sugar confectionery",
          "all/Preparations of vegetables, fruit, nuts or other parts of plants",
          "all/Meat and edible meat offal",
          "all/Animal originated products; not elsewhere specified or included",
          "all/Meat, fish or crustaceans, molluscs or other aquatic invertebrates; preparations thereof",
          "all/Sugars and sugar confectionery",
          "all/Cereals",
          "all/Products of the milling industry; malt, starches, inulin, wheat gluten",
          "all/Preparations of vegetables, fruit, nuts or other parts of plants",
          "all/Fruit and nuts, edible; peel of citrus fruit or melons",
          "all/Fruit and nuts, edible; peel of citrus fruit or melons",
          "all/Products of the milling industry; malt, starches, inulin, wheat gluten",
          "all/Lac; gums, resins and other vegetable saps and extracts",
          "all/Vegetables and certain roots and tubers; edible",
          "all/Vegetables and certain roots and tubers; edible",
          "all/Coffee, tea, mate and spices",
          "all/Cereals",
          "all/Animal originated products; not elsewhere specified or included",
          "all/Preparations of vegetables, fruit, nuts or other parts of plants",
          "all/Cereals",
          "all/Cereals",
          "all/Sugars and sugar confectionery",
          "all/Animal originated products; not elsewhere specified or included",
          "all/Fruit and nuts, edible; peel of citrus fruit or melons",
          "all/Preparations of cereals, flour, starch or milk; pastrycooks' products",
          "all/Oil seeds and oleaginous fruits; miscellaneous grains, seeds and fruit, industrial or medicinal plants; straw and fodder",
          "all/Oil seeds and oleaginous fruits; miscellaneous grains, seeds and fruit, industrial or medicinal plants; straw and fodder",
          "all/Sugars and sugar confectionery",
          "all/Vegetables and certain roots and tubers; edible",
          "all/Meat and edible meat offal",
          "all/Cereals",
          "all/Products of the milling industry; malt, starches, inulin, wheat gluten",
          "all/Oil seeds and oleaginous fruits; miscellaneous grains, seeds and fruit, industrial or medicinal plants; straw and fodder",
          "all/Oil seeds and oleaginous fruits; miscellaneous grains, seeds and fruit, industrial or medicinal plants; straw and fodder",
          "all/Animal or vegetable fats and oils and their cleavage products; prepared animal fats; animal or vegetable waxes",
          "all/Products of the milling industry; malt, starches, inulin, wheat gluten",
          "all/Dairy produce; birds' eggs; natural honey; edible products of animal origin, not elsewhere specified or included",
          "all/Coffee, tea, mate and spices",
          "all/Fruit and nuts, edible; peel of citrus fruit or melons",
          "all/Preparations of vegetables, fruit, nuts or other parts of plants",
          "all/Cereals",
          "all/Fruit and nuts, edible; peel of citrus fruit or melons",
          "all/Coffee, tea, mate and spices",
          "all/Preparations of vegetables, fruit, nuts or other parts of plants",
          "all/Preparations of vegetables, fruit, nuts or other parts of plants",
          "all/Meat and edible meat offal",
          "all/Meat, fish or crustaceans, molluscs or other aquatic invertebrates; preparations thereof",
          "all/Meat, fish or crustaceans, molluscs or other aquatic invertebrates; preparations thereof",
          "all/Lac; gums, resins and other vegetable saps and extracts",
          "all/Fruit and nuts, edible; peel of citrus fruit or melons",
          "all/Coffee, tea, mate and spices",
          "all/Oil seeds and oleaginous fruits; miscellaneous grains, seeds and fruit, industrial or medicinal plants; straw and fodder",
          "all/Sugars and sugar confectionery",
          "all/Cereals",
          "all/Preparations of cereals, flour, starch or milk; pastrycooks' products",
          "all/Animal or vegetable fats and oils and their cleavage products; prepared animal fats; animal or vegetable waxes",
          "all/Oil seeds and oleaginous fruits; miscellaneous grains, seeds and fruit, industrial or medicinal plants; straw and fodder",
          "all/Sugars and sugar confectionery",
          "all/Preparations of vegetables, fruit, nuts or other parts of plants",
          "all/Coffee, tea, mate and spices",
          "all/Cereals",
          "all/Vegetables and certain roots and tubers; edible",
          "all/Lac; gums, resins and other vegetable saps and extracts",
          "all/Preparations of cereals, flour, starch or milk; pastrycooks' products",
          "all/Animal or vegetable fats and oils and their cleavage products; prepared animal fats; animal or vegetable waxes",
          "all/Preparations of cereals, flour, starch or milk; pastrycooks' products",
          "all/Fish and crustaceans, molluscs and other aquatic invertebrates",
          "all/Products of the milling industry; malt, starches, inulin, wheat gluten",
          "all/Sugars and sugar confectionery",
          "all/Cereals",
          "all/Fruit and nuts, edible; peel of citrus fruit or melons",
          "all/Sugars and sugar confectionery",
          "all/Sugars and sugar confectionery",
          "all/Oil seeds and oleaginous fruits; miscellaneous grains, seeds and fruit, industrial or medicinal plants; straw and fodder",
          "all/Cereals",
          "all/Animal or vegetable fats and oils and their cleavage products; prepared animal fats; animal or vegetable waxes",
          "all/Vegetables and certain roots and tubers; edible",
          "all/Coffee, tea, mate and spices",
          "all/Cereals",
          "all/Cereals",
          "all/Meat, fish or crustaceans, molluscs or other aquatic invertebrates; preparations thereof",
          "all/Fruit and nuts, edible; peel of citrus fruit or melons",
          "all/Preparations of cereals, flour, starch or milk; pastrycooks' products",
          "all/Meat and edible meat offal",
          "all/Products of the milling industry; malt, starches, inulin, wheat gluten",
          "all/Oil seeds and oleaginous fruits; miscellaneous grains, seeds and fruit, industrial or medicinal plants; straw and fodder",
          "all/Preparations of vegetables, fruit, nuts or other parts of plants",
          "all/Sugars and sugar confectionery",
          "all/Vegetables and certain roots and tubers; edible",
          "all/Meat, fish or crustaceans, molluscs or other aquatic invertebrates; preparations thereof",
          "all/Cereals",
          "all/Fish and crustaceans, molluscs and other aquatic invertebrates",
          "all/Sugars and sugar confectionery",
          "all/Vegetables and certain roots and tubers; edible",
          "all/Preparations of vegetables, fruit, nuts or other parts of plants",
          "all/Cereals",
          "all/Fish and crustaceans, molluscs and other aquatic invertebrates",
          "all/Dairy produce; birds' eggs; natural honey; edible products of animal origin, not elsewhere specified or included",
          "all/Cereals",
          "all/Lac; gums, resins and other vegetable saps and extracts",
          "all/Preparations of vegetables, fruit, nuts or other parts of plants",
          "all/Lac; gums, resins and other vegetable saps and extracts",
          "all/Dairy produce; birds' eggs; natural honey; edible products of animal origin, not elsewhere specified or included",
          "all/Cereals",
          "all/Animal or vegetable fats and oils and their cleavage products; prepared animal fats; animal or vegetable waxes",
          "all/Lac; gums, resins and other vegetable saps and extracts",
          "all/Coffee, tea, mate and spices",
          "all/Oil seeds and oleaginous fruits; miscellaneous grains, seeds and fruit, industrial or medicinal plants; straw and fodder",
          "all/Cereals",
          "all/Preparations of cereals, flour, starch or milk; pastrycooks' products",
          "all/Sugars and sugar confectionery",
          "all/Preparations of vegetables, fruit, nuts or other parts of plants",
          "all/Preparations of cereals, flour, starch or milk; pastrycooks' products",
          "all/Sugars and sugar confectionery",
          "all/Preparations of vegetables, fruit, nuts or other parts of plants",
          "all/Lac; gums, resins and other vegetable saps and extracts",
          "all/Dairy produce; birds' eggs; natural honey; edible products of animal origin, not elsewhere specified or included",
          "all/Coffee, tea, mate and spices",
          "all/Coffee, tea, mate and spices",
          "all/Fish and crustaceans, molluscs and other aquatic invertebrates",
          "all/Oil seeds and oleaginous fruits; miscellaneous grains, seeds and fruit, industrial or medicinal plants; straw and fodder",
          "all/Cereals",
          "all/Animal originated products; not elsewhere specified or included",
          "all/Sugars and sugar confectionery",
          "all/Preparations of cereals, flour, starch or milk; pastrycooks' products",
          "all/Cereals",
          "all/Vegetables and certain roots and tubers; edible",
          "all/Preparations of vegetables, fruit, nuts or other parts of plants",
          "all/Preparations of cereals, flour, starch or milk; pastrycooks' products",
          "all/Oil seeds and oleaginous fruits; miscellaneous grains, seeds and fruit, industrial or medicinal plants; straw and fodder",
          "all/Lac; gums, resins and other vegetable saps and extracts",
          "all/Cereals",
          "all/Fish and crustaceans, molluscs and other aquatic invertebrates",
          "all/Oil seeds and oleaginous fruits; miscellaneous grains, seeds and fruit, industrial or medicinal plants; straw and fodder",
          "all/Coffee, tea, mate and spices",
          "all/Meat, fish or crustaceans, molluscs or other aquatic invertebrates; preparations thereof",
          "all/Products of the milling industry; malt, starches, inulin, wheat gluten",
          "all/Dairy produce; birds' eggs; natural honey; edible products of animal origin, not elsewhere specified or included",
          "all/Lac; gums, resins and other vegetable saps and extracts",
          "all/Preparations of cereals, flour, starch or milk; pastrycooks' products",
          "all/Meat, fish or crustaceans, molluscs or other aquatic invertebrates; preparations thereof",
          "all/Preparations of cereals, flour, starch or milk; pastrycooks' products",
          "all/Preparations of cereals, flour, starch or milk; pastrycooks' products",
          "all/Sugars and sugar confectionery",
          "all/Animal originated products; not elsewhere specified or included",
          "all/Products of the milling industry; malt, starches, inulin, wheat gluten",
          "all/Preparations of vegetables, fruit, nuts or other parts of plants",
          "all/Sugars and sugar confectionery",
          "all/Preparations of vegetables, fruit, nuts or other parts of plants",
          "all/Preparations of cereals, flour, starch or milk; pastrycooks' products",
          "all/Cereals",
          "all/Fish and crustaceans, molluscs and other aquatic invertebrates",
          "all/Sugars and sugar confectionery",
          "all/Products of the milling industry; malt, starches, inulin, wheat gluten",
          "all/Products of the milling industry; malt, starches, inulin, wheat gluten",
          "all/Preparations of cereals, flour, starch or milk; pastrycooks' products",
          "all/Dairy produce; birds' eggs; natural honey; edible products of animal origin, not elsewhere specified or included",
          "all/Animal or vegetable fats and oils and their cleavage products; prepared animal fats; animal or vegetable waxes",
          "all/Cereals",
          "all/Vegetables and certain roots and tubers; edible",
          "all/Fish and crustaceans, molluscs and other aquatic invertebrates",
          "all/Cereals",
          "all/Cereals",
          "all/Animal originated products; not elsewhere specified or included",
          "all/Fish and crustaceans, molluscs and other aquatic invertebrates",
          "all/Fruit and nuts, edible; peel of citrus fruit or melons",
          "all/Cereals",
          "all/Coffee, tea, mate and spices",
          "all/Cereals",
          "all/Preparations of vegetables, fruit, nuts or other parts of plants",
          "all/Fish and crustaceans, molluscs and other aquatic invertebrates",
          "all/Preparations of cereals, flour, starch or milk; pastrycooks' products",
          "all/Fruit and nuts, edible; peel of citrus fruit or melons",
          "all/Meat and edible meat offal",
          "all/Lac; gums, resins and other vegetable saps and extracts",
          "all/Fruit and nuts, edible; peel of citrus fruit or melons",
          "all/Products of the milling industry; malt, starches, inulin, wheat gluten",
          "all/Oil seeds and oleaginous fruits; miscellaneous grains, seeds and fruit, industrial or medicinal plants; straw and fodder",
          "all/Preparations of cereals, flour, starch or milk; pastrycooks' products",
          "all/Lac; gums, resins and other vegetable saps and extracts",
          "all/Cereals",
          "all/Preparations of vegetables, fruit, nuts or other parts of plants",
          "all/Vegetables and certain roots and tubers; edible",
          "all/Animals; live",
          "all/Cereals",
          "all/Meat and edible meat offal",
          "all/Animal originated products; not elsewhere specified or included",
          "all/Oil seeds and oleaginous fruits; miscellaneous grains, seeds and fruit, industrial or medicinal plants; straw and fodder",
          "all/Preparations of cereals, flour, starch or milk; pastrycooks' products",
          "all/Preparations of vegetables, fruit, nuts or other parts of plants",
          "all/Oil seeds and oleaginous fruits; miscellaneous grains, seeds and fruit, industrial or medicinal plants; straw and fodder",
          "all/Preparations of vegetables, fruit, nuts or other parts of plants",
          "all/Oil seeds and oleaginous fruits; miscellaneous grains, seeds and fruit, industrial or medicinal plants; straw and fodder",
          "all/Products of the milling industry; malt, starches, inulin, wheat gluten",
          "all/Meat, fish or crustaceans, molluscs or other aquatic invertebrates; preparations thereof",
          "all/Oil seeds and oleaginous fruits; miscellaneous grains, seeds and fruit, industrial or medicinal plants; straw and fodder",
          "all/Fruit and nuts, edible; peel of citrus fruit or melons",
          "all/Coffee, tea, mate and spices",
          "all/Sugars and sugar confectionery",
          "all/Fruit and nuts, edible; peel of citrus fruit or melons",
          "all/Vegetables and certain roots and tubers; edible",
          "all/Coffee, tea, mate and spices",
          "all/Sugars and sugar confectionery",
          "all/Preparations of cereals, flour, starch or milk; pastrycooks' products",
          "all/Cereals",
          "all/Coffee, tea, mate and spices",
          "all/Preparations of vegetables, fruit, nuts or other parts of plants",
          "all/Fruit and nuts, edible; peel of citrus fruit or melons",
          "all/Fish and crustaceans, molluscs and other aquatic invertebrates",
          "all/Coffee, tea, mate and spices",
          "all/Coffee, tea, mate and spices",
          "all/Preparations of vegetables, fruit, nuts or other parts of plants",
          "all/Animal originated products; not elsewhere specified or included",
          "all/Fish and crustaceans, molluscs and other aquatic invertebrates",
          "all/Preparations of vegetables, fruit, nuts or other parts of plants",
          "all/Oil seeds and oleaginous fruits; miscellaneous grains, seeds and fruit, industrial or medicinal plants; straw and fodder",
          "all/Oil seeds and oleaginous fruits; miscellaneous grains, seeds and fruit, industrial or medicinal plants; straw and fodder",
          "all/Lac; gums, resins and other vegetable saps and extracts",
          "all/Fruit and nuts, edible; peel of citrus fruit or melons",
          "all/Lac; gums, resins and other vegetable saps and extracts",
          "all/Sugars and sugar confectionery",
          "all/Coffee, tea, mate and spices",
          "all/Oil seeds and oleaginous fruits; miscellaneous grains, seeds and fruit, industrial or medicinal plants; straw and fodder",
          "all/Lac; gums, resins and other vegetable saps and extracts",
          "all/Preparations of cereals, flour, starch or milk; pastrycooks' products",
          "all/Fruit and nuts, edible; peel of citrus fruit or melons",
          "all/Preparations of cereals, flour, starch or milk; pastrycooks' products",
          "all/Lac; gums, resins and other vegetable saps and extracts",
          "all/Sugars and sugar confectionery",
          "all/Vegetables and certain roots and tubers; edible",
          "all/Fruit and nuts, edible; peel of citrus fruit or melons",
          "all/Animal originated products; not elsewhere specified or included",
          "all/Preparations of vegetables, fruit, nuts or other parts of plants",
          "all/Dairy produce; birds' eggs; natural honey; edible products of animal origin, not elsewhere specified or included",
          "all/Fruit and nuts, edible; peel of citrus fruit or melons",
          "all/Sugars and sugar confectionery",
          "all/Lac; gums, resins and other vegetable saps and extracts",
          "all/Preparations of vegetables, fruit, nuts or other parts of plants",
          "all/Vegetables and certain roots and tubers; edible",
          "all/Cereals",
          "all/Products of the milling industry; malt, starches, inulin, wheat gluten",
          "all/Preparations of vegetables, fruit, nuts or other parts of plants",
          "all/Vegetables and certain roots and tubers; edible",
          "all/Oil seeds and oleaginous fruits; miscellaneous grains, seeds and fruit, industrial or medicinal plants; straw and fodder",
          "all/Fruit and nuts, edible; peel of citrus fruit or melons",
          "all/Meat, fish or crustaceans, molluscs or other aquatic invertebrates; preparations thereof",
          "all/Fruit and nuts, edible; peel of citrus fruit or melons",
          "all/Animal originated products; not elsewhere specified or included",
          "all/Oil seeds and oleaginous fruits; miscellaneous grains, seeds and fruit, industrial or medicinal plants; straw and fodder",
          "all/Lac; gums, resins and other vegetable saps and extracts",
          "all/Sugars and sugar confectionery",
          "all/Coffee, tea, mate and spices",
          "all/Preparations of cereals, flour, starch or milk; pastrycooks' products",
          "all/Cereals",
          "all/Coffee, tea, mate and spices",
          "all/Dairy produce; birds' eggs; natural honey; edible products of animal origin, not elsewhere specified or included",
          "all/Cereals",
          "all/Oil seeds and oleaginous fruits; miscellaneous grains, seeds and fruit, industrial or medicinal plants; straw and fodder",
          "all/Vegetables and certain roots and tubers; edible",
          "all/Animal or vegetable fats and oils and their cleavage products; prepared animal fats; animal or vegetable waxes",
          "all/Fruit and nuts, edible; peel of citrus fruit or melons",
          "all/Cereals",
          "all/Lac; gums, resins and other vegetable saps and extracts",
          "all/Coffee, tea, mate and spices",
          "all/Fruit and nuts, edible; peel of citrus fruit or melons",
          "all/Preparations of cereals, flour, starch or milk; pastrycooks' products",
          "all/Vegetables and certain roots and tubers; edible",
          "all/Coffee, tea, mate and spices",
          "all/Coffee, tea, mate and spices",
          "all/Lac; gums, resins and other vegetable saps and extracts",
          "all/Products of the milling industry; malt, starches, inulin, wheat gluten",
          "all/Lac; gums, resins and other vegetable saps and extracts",
          "all/Sugars and sugar confectionery",
          "all/Preparations of vegetables, fruit, nuts or other parts of plants",
          "all/Preparations of cereals, flour, starch or milk; pastrycooks' products",
          "all/Vegetables and certain roots and tubers; edible",
          "all/Fish and crustaceans, molluscs and other aquatic invertebrates",
          "all/Lac; gums, resins and other vegetable saps and extracts",
          "all/Vegetables and certain roots and tubers; edible",
          "all/Cereals",
          "all/Products of the milling industry; malt, starches, inulin, wheat gluten",
          "all/Oil seeds and oleaginous fruits; miscellaneous grains, seeds and fruit, industrial or medicinal plants; straw and fodder",
          "all/Cereals",
          "all/Cereals",
          "all/Preparations of vegetables, fruit, nuts or other parts of plants",
          "all/Sugars and sugar confectionery",
          "all/Coffee, tea, mate and spices",
          "all/Vegetables and certain roots and tubers; edible",
          "all/Fish and crustaceans, molluscs and other aquatic invertebrates",
          "all/Lac; gums, resins and other vegetable saps and extracts",
          "all/Coffee, tea, mate and spices",
          "all/Animal or vegetable fats and oils and their cleavage products; prepared animal fats; animal or vegetable waxes",
          "all/Animals; live",
          "all/Preparations of cereals, flour, starch or milk; pastrycooks' products",
          "all/Vegetables and certain roots and tubers; edible",
          "all/Coffee, tea, mate and spices",
          "all/Meat and edible meat offal",
          "all/Preparations of vegetables, fruit, nuts or other parts of plants",
          "all/Sugars and sugar confectionery",
          "all/Preparations of cereals, flour, starch or milk; pastrycooks' products",
          "all/Cereals",
          "all/Preparations of cereals, flour, starch or milk; pastrycooks' products",
          "all/Vegetables and certain roots and tubers; edible",
          "all/Animals; live",
          "all/Meat, fish or crustaceans, molluscs or other aquatic invertebrates; preparations thereof",
          "all/Products of the milling industry; malt, starches, inulin, wheat gluten",
          "all/Oil seeds and oleaginous fruits; miscellaneous grains, seeds and fruit, industrial or medicinal plants; straw and fodder",
          "all/Cereals",
          "all/Cereals",
          "all/Products of the milling industry; malt, starches, inulin, wheat gluten",
          "all/Preparations of cereals, flour, starch or milk; pastrycooks' products",
          "all/Sugars and sugar confectionery",
          "all/Cereals",
          "all/Preparations of vegetables, fruit, nuts or other parts of plants",
          "all/Dairy produce; birds' eggs; natural honey; edible products of animal origin, not elsewhere specified or included",
          "all/Fruit and nuts, edible; peel of citrus fruit or melons",
          "all/Products of the milling industry; malt, starches, inulin, wheat gluten",
          "all/Coffee, tea, mate and spices",
          "all/Preparations of cereals, flour, starch or milk; pastrycooks' products",
          "all/Fruit and nuts, edible; peel of citrus fruit or melons",
          "all/Coffee, tea, mate and spices",
          "all/Cereals",
          "all/Meat and edible meat offal",
          "all/Animals; live",
          "all/Products of the milling industry; malt, starches, inulin, wheat gluten",
          "all/Preparations of vegetables, fruit, nuts or other parts of plants",
          "all/Coffee, tea, mate and spices",
          "all/Lac; gums, resins and other vegetable saps and extracts",
          "all/Sugars and sugar confectionery",
          "all/Coffee, tea, mate and spices",
          "all/Coffee, tea, mate and spices",
          "all/Animal or vegetable fats and oils and their cleavage products; prepared animal fats; animal or vegetable waxes",
          "all/Sugars and sugar confectionery",
          "all/Fish and crustaceans, molluscs and other aquatic invertebrates",
          "all/Coffee, tea, mate and spices",
          "all/Vegetables and certain roots and tubers; edible",
          "all/Animal or vegetable fats and oils and their cleavage products; prepared animal fats; animal or vegetable waxes",
          "all/Animal originated products; not elsewhere specified or included",
          "all/Vegetables and certain roots and tubers; edible",
          "all/Fruit and nuts, edible; peel of citrus fruit or melons",
          "all/Products of the milling industry; malt, starches, inulin, wheat gluten",
          "all/Oil seeds and oleaginous fruits; miscellaneous grains, seeds and fruit, industrial or medicinal plants; straw and fodder",
          "all/Fish and crustaceans, molluscs and other aquatic invertebrates",
          "all/Vegetables and certain roots and tubers; edible",
          "all/Animal or vegetable fats and oils and their cleavage products; prepared animal fats; animal or vegetable waxes",
          "all/Lac; gums, resins and other vegetable saps and extracts",
          "all/Animal or vegetable fats and oils and their cleavage products; prepared animal fats; animal or vegetable waxes",
          "all/Sugars and sugar confectionery",
          "all/Lac; gums, resins and other vegetable saps and extracts",
          "all/Preparations of vegetables, fruit, nuts or other parts of plants",
          "all/Sugars and sugar confectionery",
          "all/Fish and crustaceans, molluscs and other aquatic invertebrates",
          "all/Oil seeds and oleaginous fruits; miscellaneous grains, seeds and fruit, industrial or medicinal plants; straw and fodder",
          "all/Fruit and nuts, edible; peel of citrus fruit or melons",
          "all/Cereals",
          "all/Coffee, tea, mate and spices",
          "all/Preparations of cereals, flour, starch or milk; pastrycooks' products",
          "all/Preparations of cereals, flour, starch or milk; pastrycooks' products",
          "all/Meat, fish or crustaceans, molluscs or other aquatic invertebrates; preparations thereof",
          "all/Fish and crustaceans, molluscs and other aquatic invertebrates",
          "all/Animal originated products; not elsewhere specified or included",
          "all/Vegetables and certain roots and tubers; edible",
          "all/Animals; live",
          "all/Products of the milling industry; malt, starches, inulin, wheat gluten",
          "all/Oil seeds and oleaginous fruits; miscellaneous grains, seeds and fruit, industrial or medicinal plants; straw and fodder",
          "all/Preparations of cereals, flour, starch or milk; pastrycooks' products",
          "all/Preparations of vegetables, fruit, nuts or other parts of plants",
          "all/Oil seeds and oleaginous fruits; miscellaneous grains, seeds and fruit, industrial or medicinal plants; straw and fodder",
          "all/Vegetables and certain roots and tubers; edible",
          "all/Cereals",
          "all/Cereals",
          "all/Preparations of cereals, flour, starch or milk; pastrycooks' products",
          "all/Fish and crustaceans, molluscs and other aquatic invertebrates",
          "all/Oil seeds and oleaginous fruits; miscellaneous grains, seeds and fruit, industrial or medicinal plants; straw and fodder",
          "all/Coffee, tea, mate and spices",
          "all/Cereals",
          "all/Products of the milling industry; malt, starches, inulin, wheat gluten",
          "all/Lac; gums, resins and other vegetable saps and extracts",
          "all/Animal originated products; not elsewhere specified or included",
          "all/Sugars and sugar confectionery",
          "all/Fish and crustaceans, molluscs and other aquatic invertebrates",
          "all/Lac; gums, resins and other vegetable saps and extracts",
          "all/Fruit and nuts, edible; peel of citrus fruit or melons",
          "all/Coffee, tea, mate and spices",
          "all/Sugars and sugar confectionery",
          "all/Coffee, tea, mate and spices",
          "all/Preparations of cereals, flour, starch or milk; pastrycooks' products",
          "all/Animal or vegetable fats and oils and their cleavage products; prepared animal fats; animal or vegetable waxes",
          "all/Cereals",
          "all/Lac; gums, resins and other vegetable saps and extracts",
          "all/Vegetables and certain roots and tubers; edible",
          "all/Fruit and nuts, edible; peel of citrus fruit or melons",
          "all/Preparations of cereals, flour, starch or milk; pastrycooks' products",
          "all/Sugars and sugar confectionery",
          "all/Fish and crustaceans, molluscs and other aquatic invertebrates",
          "all/Lac; gums, resins and other vegetable saps and extracts",
          "all/Vegetables and certain roots and tubers; edible",
          "all/Oil seeds and oleaginous fruits; miscellaneous grains, seeds and fruit, industrial or medicinal plants; straw and fodder",
          "all/Cereals",
          "all/Sugars and sugar confectionery",
          "all/Cereals",
          "all/Meat and edible meat offal",
          "all/Meat and edible meat offal",
          "all/Oil seeds and oleaginous fruits; miscellaneous grains, seeds and fruit, industrial or medicinal plants; straw and fodder",
          "all/Fruit and nuts, edible; peel of citrus fruit or melons",
          "all/Preparations of cereals, flour, starch or milk; pastrycooks' products",
          "all/Preparations of vegetables, fruit, nuts or other parts of plants",
          "all/Meat and edible meat offal",
          "all/Animal originated products; not elsewhere specified or included",
          "all/Sugars and sugar confectionery",
          "all/Oil seeds and oleaginous fruits; miscellaneous grains, seeds and fruit, industrial or medicinal plants; straw and fodder",
          "all/Fruit and nuts, edible; peel of citrus fruit or melons",
          "all/Animal originated products; not elsewhere specified or included",
          "all/Dairy produce; birds' eggs; natural honey; edible products of animal origin, not elsewhere specified or included",
          "all/Oil seeds and oleaginous fruits; miscellaneous grains, seeds and fruit, industrial or medicinal plants; straw and fodder",
          "all/Animal or vegetable fats and oils and their cleavage products; prepared animal fats; animal or vegetable waxes",
          "all/Cereals",
          "all/Vegetables and certain roots and tubers; edible",
          "all/Preparations of vegetables, fruit, nuts or other parts of plants",
          "all/Preparations of cereals, flour, starch or milk; pastrycooks' products",
          "all/Fruit and nuts, edible; peel of citrus fruit or melons",
          "all/Sugars and sugar confectionery",
          "all/Cereals",
          "all/Coffee, tea, mate and spices",
          "all/Preparations of cereals, flour, starch or milk; pastrycooks' products",
          "all/Sugars and sugar confectionery",
          "all/Fruit and nuts, edible; peel of citrus fruit or melons",
          "all/Vegetables and certain roots and tubers; edible",
          "all/Lac; gums, resins and other vegetable saps and extracts",
          "all/Preparations of vegetables, fruit, nuts or other parts of plants",
          "all/Lac; gums, resins and other vegetable saps and extracts",
          "all/Preparations of cereals, flour, starch or milk; pastrycooks' products",
          "all/Fruit and nuts, edible; peel of citrus fruit or melons",
          "all/Preparations of cereals, flour, starch or milk; pastrycooks' products",
          "all/Sugars and sugar confectionery",
          "all/Coffee, tea, mate and spices",
          "all/Sugars and sugar confectionery",
          "all/Lac; gums, resins and other vegetable saps and extracts",
          "all/Lac; gums, resins and other vegetable saps and extracts",
          "all/Products of the milling industry; malt, starches, inulin, wheat gluten",
          "all/Coffee, tea, mate and spices",
          "all/Preparations of vegetables, fruit, nuts or other parts of plants",
          "all/Sugars and sugar confectionery",
          "all/Meat, fish or crustaceans, molluscs or other aquatic invertebrates; preparations thereof",
          "all/Vegetables and certain roots and tubers; edible",
          "all/Animal or vegetable fats and oils and their cleavage products; prepared animal fats; animal or vegetable waxes",
          "all/Sugars and sugar confectionery",
          "all/Animals; live",
          "all/Preparations of vegetables, fruit, nuts or other parts of plants",
          "all/Cereals",
          "all/Fruit and nuts, edible; peel of citrus fruit or melons",
          "all/Sugars and sugar confectionery",
          "all/Animal or vegetable fats and oils and their cleavage products; prepared animal fats; animal or vegetable waxes",
          "all/Sugars and sugar confectionery",
          "all/Dairy produce; birds' eggs; natural honey; edible products of animal origin, not elsewhere specified or included",
          "all/Fish and crustaceans, molluscs and other aquatic invertebrates",
          "all/Cereals",
          "all/Coffee, tea, mate and spices",
          "all/Meat, fish or crustaceans, molluscs or other aquatic invertebrates; preparations thereof",
          "all/Vegetables and certain roots and tubers; edible",
          "all/Preparations of cereals, flour, starch or milk; pastrycooks' products",
          "all/Cereals",
          "all/Sugars and sugar confectionery",
          "all/Oil seeds and oleaginous fruits; miscellaneous grains, seeds and fruit, industrial or medicinal plants; straw and fodder",
          "all/Fruit and nuts, edible; peel of citrus fruit or melons",
          "all/Coffee, tea, mate and spices",
          "all/Fruit and nuts, edible; peel of citrus fruit or melons",
          "all/Animals; live",
          "all/Fish and crustaceans, molluscs and other aquatic invertebrates",
          "all/Fruit and nuts, edible; peel of citrus fruit or melons",
          "all/Preparations of cereals, flour, starch or milk; pastrycooks' products",
          "all/Coffee, tea, mate and spices",
          "all/Cereals",
          "all/Meat and edible meat offal",
          "all/Cereals",
          "all/Coffee, tea, mate and spices",
          "all/Oil seeds and oleaginous fruits; miscellaneous grains, seeds and fruit, industrial or medicinal plants; straw and fodder",
          "all/Dairy produce; birds' eggs; natural honey; edible products of animal origin, not elsewhere specified or included",
          "all/Oil seeds and oleaginous fruits; miscellaneous grains, seeds and fruit, industrial or medicinal plants; straw and fodder",
          "all/Vegetables and certain roots and tubers; edible",
          "all/Preparations of vegetables, fruit, nuts or other parts of plants",
          "all/Coffee, tea, mate and spices",
          "all/Sugars and sugar confectionery",
          "all/Vegetables and certain roots and tubers; edible",
          "all/Cereals",
          "all/Cereals",
          "all/Coffee, tea, mate and spices",
          "all/Coffee, tea, mate and spices",
          "all/Cereals",
          "all/Preparations of cereals, flour, starch or milk; pastrycooks' products",
          "all/Cereals",
          "all/Preparations of cereals, flour, starch or milk; pastrycooks' products",
          "all/Preparations of vegetables, fruit, nuts or other parts of plants",
          "all/Cereals",
          "all/Oil seeds and oleaginous fruits; miscellaneous grains, seeds and fruit, industrial or medicinal plants; straw and fodder",
          "all/Cereals",
          "all/Dairy produce; birds' eggs; natural honey; edible products of animal origin, not elsewhere specified or included",
          "all/Oil seeds and oleaginous fruits; miscellaneous grains, seeds and fruit, industrial or medicinal plants; straw and fodder",
          "all/Fruit and nuts, edible; peel of citrus fruit or melons",
          "all/Animal originated products; not elsewhere specified or included",
          "all/Vegetables and certain roots and tubers; edible",
          "all/Fruit and nuts, edible; peel of citrus fruit or melons",
          "all/Animal originated products; not elsewhere specified or included",
          "all/Cereals",
          "all/Cereals",
          "all/Coffee, tea, mate and spices",
          "all/Coffee, tea, mate and spices",
          "all/Cereals",
          "all/Lac; gums, resins and other vegetable saps and extracts",
          "all/Cereals",
          "all/Coffee, tea, mate and spices",
          "all/Oil seeds and oleaginous fruits; miscellaneous grains, seeds and fruit, industrial or medicinal plants; straw and fodder",
          "all/Cereals",
          "all/Sugars and sugar confectionery",
          "all/Animal or vegetable fats and oils and their cleavage products; prepared animal fats; animal or vegetable waxes",
          "all/Preparations of vegetables, fruit, nuts or other parts of plants",
          "all/Animal or vegetable fats and oils and their cleavage products; prepared animal fats; animal or vegetable waxes",
          "all/Coffee, tea, mate and spices",
          "all/Products of the milling industry; malt, starches, inulin, wheat gluten",
          "all/Animals; live",
          "all/Animal or vegetable fats and oils and their cleavage products; prepared animal fats; animal or vegetable waxes",
          "all/Preparations of cereals, flour, starch or milk; pastrycooks' products",
          "all/Sugars and sugar confectionery",
          "all/Animal originated products; not elsewhere specified or included",
          "all/Meat, fish or crustaceans, molluscs or other aquatic invertebrates; preparations thereof",
          "all/Vegetables and certain roots and tubers; edible",
          "all/Animals; live",
          "all/Animal originated products; not elsewhere specified or included",
          "all/Coffee, tea, mate and spices",
          "all/Cereals",
          "all/Preparations of cereals, flour, starch or milk; pastrycooks' products",
          "all/Preparations of cereals, flour, starch or milk; pastrycooks' products",
          "all/Dairy produce; birds' eggs; natural honey; edible products of animal origin, not elsewhere specified or included",
          "all/Animal or vegetable fats and oils and their cleavage products; prepared animal fats; animal or vegetable waxes",
          "all/Fruit and nuts, edible; peel of citrus fruit or melons",
          "all/Preparations of cereals, flour, starch or milk; pastrycooks' products",
          "all/Oil seeds and oleaginous fruits; miscellaneous grains, seeds and fruit, industrial or medicinal plants; straw and fodder",
          "all/Fruit and nuts, edible; peel of citrus fruit or melons",
          "all/Cereals",
          "all/Fruit and nuts, edible; peel of citrus fruit or melons",
          "all/Fruit and nuts, edible; peel of citrus fruit or melons",
          "all/Animal originated products; not elsewhere specified or included",
          "all/Meat and edible meat offal",
          "all/Cereals",
          "all/Vegetables and certain roots and tubers; edible",
          "all/Products of the milling industry; malt, starches, inulin, wheat gluten",
          "all/Sugars and sugar confectionery",
          "all/Fish and crustaceans, molluscs and other aquatic invertebrates",
          "all/Preparations of vegetables, fruit, nuts or other parts of plants",
          "all/Preparations of cereals, flour, starch or milk; pastrycooks' products",
          "all/Preparations of vegetables, fruit, nuts or other parts of plants",
          "all/Vegetables and certain roots and tubers; edible",
          "all/Dairy produce; birds' eggs; natural honey; edible products of animal origin, not elsewhere specified or included",
          "all/Oil seeds and oleaginous fruits; miscellaneous grains, seeds and fruit, industrial or medicinal plants; straw and fodder",
          "all/Dairy produce; birds' eggs; natural honey; edible products of animal origin, not elsewhere specified or included",
          "all/Cereals",
          "all/Coffee, tea, mate and spices",
          "all/Vegetables and certain roots and tubers; edible",
          "all/Oil seeds and oleaginous fruits; miscellaneous grains, seeds and fruit, industrial or medicinal plants; straw and fodder",
          "all/Preparations of cereals, flour, starch or milk; pastrycooks' products",
          "all/Cereals",
          "all/Coffee, tea, mate and spices",
          "all/Oil seeds and oleaginous fruits; miscellaneous grains, seeds and fruit, industrial or medicinal plants; straw and fodder",
          "all/Cereals",
          "all/Fruit and nuts, edible; peel of citrus fruit or melons",
          "all/Animal or vegetable fats and oils and their cleavage products; prepared animal fats; animal or vegetable waxes",
          "all/Oil seeds and oleaginous fruits; miscellaneous grains, seeds and fruit, industrial or medicinal plants; straw and fodder",
          "all/Cereals",
          "all/Animal originated products; not elsewhere specified or included",
          "all/Preparations of vegetables, fruit, nuts or other parts of plants",
          "all/Fruit and nuts, edible; peel of citrus fruit or melons",
          "all/Cereals",
          "all/Coffee, tea, mate and spices",
          "all/Fruit and nuts, edible; peel of citrus fruit or melons",
          "all/Animal originated products; not elsewhere specified or included",
          "all/Animal originated products; not elsewhere specified or included",
          "all/Lac; gums, resins and other vegetable saps and extracts",
          "all/Cereals",
          "all/Oil seeds and oleaginous fruits; miscellaneous grains, seeds and fruit, industrial or medicinal plants; straw and fodder",
          "all/Oil seeds and oleaginous fruits; miscellaneous grains, seeds and fruit, industrial or medicinal plants; straw and fodder",
          "all/Preparations of cereals, flour, starch or milk; pastrycooks' products",
          "all/Products of the milling industry; malt, starches, inulin, wheat gluten",
          "all/Meat and edible meat offal",
          "all/Animal originated products; not elsewhere specified or included",
          "all/Lac; gums, resins and other vegetable saps and extracts",
          "all/Fish and crustaceans, molluscs and other aquatic invertebrates",
          "all/Fruit and nuts, edible; peel of citrus fruit or melons",
          "all/Sugars and sugar confectionery",
          "all/Fruit and nuts, edible; peel of citrus fruit or melons",
          "all/Animal or vegetable fats and oils and their cleavage products; prepared animal fats; animal or vegetable waxes",
          "all/Vegetables and certain roots and tubers; edible",
          "all/Products of the milling industry; malt, starches, inulin, wheat gluten",
          "all/Animal or vegetable fats and oils and their cleavage products; prepared animal fats; animal or vegetable waxes",
          "all/Oil seeds and oleaginous fruits; miscellaneous grains, seeds and fruit, industrial or medicinal plants; straw and fodder",
          "all/Oil seeds and oleaginous fruits; miscellaneous grains, seeds and fruit, industrial or medicinal plants; straw and fodder",
          "all/Preparations of cereals, flour, starch or milk; pastrycooks' products",
          "all/Fruit and nuts, edible; peel of citrus fruit or melons",
          "all/Animal originated products; not elsewhere specified or included",
          "all/Preparations of vegetables, fruit, nuts or other parts of plants",
          "all/Coffee, tea, mate and spices",
          "all/Preparations of cereals, flour, starch or milk; pastrycooks' products",
          "all/Fruit and nuts, edible; peel of citrus fruit or melons",
          "all/Sugars and sugar confectionery",
          "all/Sugars and sugar confectionery",
          "all/Dairy produce; birds' eggs; natural honey; edible products of animal origin, not elsewhere specified or included",
          "all/Preparations of vegetables, fruit, nuts or other parts of plants",
          "all/Coffee, tea, mate and spices",
          "all/Dairy produce; birds' eggs; natural honey; edible products of animal origin, not elsewhere specified or included",
          "all/Animal originated products; not elsewhere specified or included",
          "all/Dairy produce; birds' eggs; natural honey; edible products of animal origin, not elsewhere specified or included",
          "all/Animal originated products; not elsewhere specified or included",
          "all/Preparations of vegetables, fruit, nuts or other parts of plants",
          "all/Animal or vegetable fats and oils and their cleavage products; prepared animal fats; animal or vegetable waxes",
          "all/Oil seeds and oleaginous fruits; miscellaneous grains, seeds and fruit, industrial or medicinal plants; straw and fodder",
          "all/Sugars and sugar confectionery",
          "all/Fruit and nuts, edible; peel of citrus fruit or melons",
          "all/Lac; gums, resins and other vegetable saps and extracts",
          "all/Sugars and sugar confectionery",
          "all/Oil seeds and oleaginous fruits; miscellaneous grains, seeds and fruit, industrial or medicinal plants; straw and fodder",
          "all/Preparations of vegetables, fruit, nuts or other parts of plants",
          "all/Animal originated products; not elsewhere specified or included",
          "all/Fish and crustaceans, molluscs and other aquatic invertebrates",
          "all/Animal or vegetable fats and oils and their cleavage products; prepared animal fats; animal or vegetable waxes",
          "all/Cereals",
          "all/Vegetables and certain roots and tubers; edible",
          "all/Preparations of vegetables, fruit, nuts or other parts of plants",
          "all/Animal originated products; not elsewhere specified or included",
          "all/Dairy produce; birds' eggs; natural honey; edible products of animal origin, not elsewhere specified or included",
          "all/Coffee, tea, mate and spices",
          "all/Lac; gums, resins and other vegetable saps and extracts",
          "all/Coffee, tea, mate and spices",
          "all/Lac; gums, resins and other vegetable saps and extracts",
          "all/Meat and edible meat offal",
          "all/Meat and edible meat offal",
          "all/Oil seeds and oleaginous fruits; miscellaneous grains, seeds and fruit, industrial or medicinal plants; straw and fodder",
          "all/Cereals",
          "all/Sugars and sugar confectionery",
          "all/Animal or vegetable fats and oils and their cleavage products; prepared animal fats; animal or vegetable waxes",
          "all/Sugars and sugar confectionery",
          "all/Animal originated products; not elsewhere specified or included",
          "all/Animal or vegetable fats and oils and their cleavage products; prepared animal fats; animal or vegetable waxes",
          "all/Animal or vegetable fats and oils and their cleavage products; prepared animal fats; animal or vegetable waxes",
          "all/Fish and crustaceans, molluscs and other aquatic invertebrates",
          "all/Sugars and sugar confectionery",
          "all/Vegetables and certain roots and tubers; edible",
          "all/Oil seeds and oleaginous fruits; miscellaneous grains, seeds and fruit, industrial or medicinal plants; straw and fodder",
          "all/Preparations of cereals, flour, starch or milk; pastrycooks' products",
          "all/Coffee, tea, mate and spices",
          "all/Sugars and sugar confectionery",
          "all/Animal or vegetable fats and oils and their cleavage products; prepared animal fats; animal or vegetable waxes",
          "all/Sugars and sugar confectionery",
          "all/Preparations of cereals, flour, starch or milk; pastrycooks' products",
          "all/Preparations of vegetables, fruit, nuts or other parts of plants",
          "all/Animal or vegetable fats and oils and their cleavage products; prepared animal fats; animal or vegetable waxes",
          "all/Sugars and sugar confectionery",
          "all/Cereals",
          "all/Preparations of cereals, flour, starch or milk; pastrycooks' products",
          "all/Coffee, tea, mate and spices",
          "all/Dairy produce; birds' eggs; natural honey; edible products of animal origin, not elsewhere specified or included",
          "all/Coffee, tea, mate and spices",
          "all/Products of the milling industry; malt, starches, inulin, wheat gluten",
          "all/Animal or vegetable fats and oils and their cleavage products; prepared animal fats; animal or vegetable waxes",
          "all/Oil seeds and oleaginous fruits; miscellaneous grains, seeds and fruit, industrial or medicinal plants; straw and fodder",
          "all/Animal originated products; not elsewhere specified or included",
          "all/Fish and crustaceans, molluscs and other aquatic invertebrates",
          "all/Animal or vegetable fats and oils and their cleavage products; prepared animal fats; animal or vegetable waxes",
          "all/Cereals",
          "all/Cereals",
          "all/Oil seeds and oleaginous fruits; miscellaneous grains, seeds and fruit, industrial or medicinal plants; straw and fodder",
          "all/Preparations of vegetables, fruit, nuts or other parts of plants",
          "all/Sugars and sugar confectionery",
          "all/Preparations of vegetables, fruit, nuts or other parts of plants",
          "all/Sugars and sugar confectionery",
          "all/Preparations of cereals, flour, starch or milk; pastrycooks' products",
          "all/Sugars and sugar confectionery",
          "all/Preparations of vegetables, fruit, nuts or other parts of plants",
          "all/Sugars and sugar confectionery",
          "all/Vegetables and certain roots and tubers; edible",
          "all/Cereals",
          "all/Fish and crustaceans, molluscs and other aquatic invertebrates",
          "all/Preparations of cereals, flour, starch or milk; pastrycooks' products",
          "all/Cereals",
          "all/Sugars and sugar confectionery",
          "all/Sugars and sugar confectionery",
          "all/Meat and edible meat offal",
          "all/Products of the milling industry; malt, starches, inulin, wheat gluten",
          "all/Sugars and sugar confectionery",
          "all/Fish and crustaceans, molluscs and other aquatic invertebrates",
          "all/Preparations of vegetables, fruit, nuts or other parts of plants",
          "all/Animal or vegetable fats and oils and their cleavage products; prepared animal fats; animal or vegetable waxes",
          "all/Cereals",
          "all/Preparations of cereals, flour, starch or milk; pastrycooks' products",
          "all/Oil seeds and oleaginous fruits; miscellaneous grains, seeds and fruit, industrial or medicinal plants; straw and fodder",
          "all/Fruit and nuts, edible; peel of citrus fruit or melons",
          "all/Sugars and sugar confectionery",
          "all/Products of the milling industry; malt, starches, inulin, wheat gluten",
          "all/Oil seeds and oleaginous fruits; miscellaneous grains, seeds and fruit, industrial or medicinal plants; straw and fodder",
          "all/Sugars and sugar confectionery",
          "all/Fish and crustaceans, molluscs and other aquatic invertebrates",
          "all/Cereals",
          "all/Cereals",
          "all/Cereals",
          "all/Preparations of cereals, flour, starch or milk; pastrycooks' products",
          "all/Animal or vegetable fats and oils and their cleavage products; prepared animal fats; animal or vegetable waxes",
          "all/Lac; gums, resins and other vegetable saps and extracts",
          "all/Preparations of vegetables, fruit, nuts or other parts of plants",
          "all/Dairy produce; birds' eggs; natural honey; edible products of animal origin, not elsewhere specified or included",
          "all/Coffee, tea, mate and spices",
          "all/Dairy produce; birds' eggs; natural honey; edible products of animal origin, not elsewhere specified or included",
          "all/Dairy produce; birds' eggs; natural honey; edible products of animal origin, not elsewhere specified or included",
          "all/Coffee, tea, mate and spices",
          "all/Fruit and nuts, edible; peel of citrus fruit or melons",
          "all/Vegetables and certain roots and tubers; edible",
          "all/Animal or vegetable fats and oils and their cleavage products; prepared animal fats; animal or vegetable waxes",
          "all/Oil seeds and oleaginous fruits; miscellaneous grains, seeds and fruit, industrial or medicinal plants; straw and fodder",
          "all/Dairy produce; birds' eggs; natural honey; edible products of animal origin, not elsewhere specified or included",
          "all/Cereals",
          "all/Fish and crustaceans, molluscs and other aquatic invertebrates",
          "all/Preparations of vegetables, fruit, nuts or other parts of plants",
          "all/Coffee, tea, mate and spices",
          "all/Oil seeds and oleaginous fruits; miscellaneous grains, seeds and fruit, industrial or medicinal plants; straw and fodder",
          "all/Products of the milling industry; malt, starches, inulin, wheat gluten",
          "all/Coffee, tea, mate and spices",
          "all/Preparations of cereals, flour, starch or milk; pastrycooks' products",
          "all/Preparations of cereals, flour, starch or milk; pastrycooks' products",
          "all/Cereals",
          "all/Sugars and sugar confectionery",
          "all/Sugars and sugar confectionery",
          "all/Preparations of vegetables, fruit, nuts or other parts of plants",
          "all/Meat and edible meat offal",
          "all/Sugars and sugar confectionery",
          "all/Preparations of cereals, flour, starch or milk; pastrycooks' products",
          "all/Cereals",
          "all/Oil seeds and oleaginous fruits; miscellaneous grains, seeds and fruit, industrial or medicinal plants; straw and fodder",
          "all/Fruit and nuts, edible; peel of citrus fruit or melons",
          "all/Vegetables and certain roots and tubers; edible",
          "all/Fish and crustaceans, molluscs and other aquatic invertebrates",
          "all/Fruit and nuts, edible; peel of citrus fruit or melons",
          "all/Animal or vegetable fats and oils and their cleavage products; prepared animal fats; animal or vegetable waxes",
          "all/Oil seeds and oleaginous fruits; miscellaneous grains, seeds and fruit, industrial or medicinal plants; straw and fodder",
          "all/Products of the milling industry; malt, starches, inulin, wheat gluten",
          "all/Fruit and nuts, edible; peel of citrus fruit or melons",
          "all/Preparations of vegetables, fruit, nuts or other parts of plants",
          "all/Products of the milling industry; malt, starches, inulin, wheat gluten",
          "all/Coffee, tea, mate and spices",
          "all/Preparations of cereals, flour, starch or milk; pastrycooks' products",
          "all/Coffee, tea, mate and spices",
          "all/Animal or vegetable fats and oils and their cleavage products; prepared animal fats; animal or vegetable waxes",
          "all/Lac; gums, resins and other vegetable saps and extracts",
          "all/Preparations of cereals, flour, starch or milk; pastrycooks' products",
          "all/Oil seeds and oleaginous fruits; miscellaneous grains, seeds and fruit, industrial or medicinal plants; straw and fodder",
          "all/Oil seeds and oleaginous fruits; miscellaneous grains, seeds and fruit, industrial or medicinal plants; straw and fodder",
          "all/Preparations of cereals, flour, starch or milk; pastrycooks' products",
          "all/Animal originated products; not elsewhere specified or included",
          "all/Dairy produce; birds' eggs; natural honey; edible products of animal origin, not elsewhere specified or included",
          "all/Lac; gums, resins and other vegetable saps and extracts",
          "all/Preparations of vegetables, fruit, nuts or other parts of plants",
          "all/Fruit and nuts, edible; peel of citrus fruit or melons",
          "all/Preparations of vegetables, fruit, nuts or other parts of plants",
          "all/Dairy produce; birds' eggs; natural honey; edible products of animal origin, not elsewhere specified or included",
          "all/Sugars and sugar confectionery",
          "all/Vegetables and certain roots and tubers; edible",
          "all/Animal or vegetable fats and oils and their cleavage products; prepared animal fats; animal or vegetable waxes",
          "all/Preparations of cereals, flour, starch or milk; pastrycooks' products",
          "all/Animal originated products; not elsewhere specified or included",
          "all/Fruit and nuts, edible; peel of citrus fruit or melons",
          "all",
          "all",
          "all",
          "all",
          "all",
          "all",
          "all",
          "all",
          "all",
          "all",
          "all",
          "all",
          "all",
          "all",
          "all",
          "all",
          "all",
          ""
         ],
         "type": "treemap",
         "values": [
          28488685,
          10504542,
          35410993,
          2165,
          172707,
          3533912,
          931621,
          26643,
          25612,
          23260,
          52689,
          2911647,
          7464,
          6774356,
          28086,
          163167,
          471723,
          854068,
          4187,
          723077,
          196,
          127418,
          2754756,
          21668,
          5138090,
          365232,
          6252313,
          169201,
          798939,
          165231,
          884082,
          298875,
          1873,
          285081,
          2441839,
          290329,
          1419203,
          151458,
          102642,
          6893,
          207991,
          773967,
          362404,
          415686,
          2754658,
          429817,
          33852499,
          1013045,
          95302,
          6047,
          9837,
          1051687,
          1520980,
          75823,
          5041111,
          28425,
          11482983,
          386457,
          5525621,
          229227,
          7412,
          293369,
          1835,
          136146,
          8802069,
          951174,
          47626,
          760286,
          7904685,
          2391326,
          58865,
          341708,
          3107,
          845678,
          13247,
          5590899,
          877809,
          237721,
          164201,
          15055359,
          13463942,
          44307,
          550313,
          56234,
          43767,
          145587,
          1725128,
          41612,
          911742,
          382569,
          1463257,
          65993,
          2437,
          19935,
          650293,
          584,
          149011,
          10565283,
          383977,
          850,
          7866,
          7170,
          123621239,
          273599,
          8974,
          28644,
          79332514,
          422939,
          330006,
          9367560,
          505764,
          13711935,
          2532,
          200024,
          153198,
          302928,
          4407391,
          1012643,
          586858,
          20542,
          350401,
          671683,
          252310,
          142867,
          4526,
          560519,
          247343,
          86711,
          1920,
          93354,
          9692,
          112071,
          8948,
          1622334,
          1829,
          16887,
          205141,
          666382,
          295360,
          4783673,
          1546,
          9343,
          17485,
          28416,
          399,
          32814210,
          261457,
          162,
          596357,
          24650,
          495977,
          50004125,
          36516,
          6418,
          213795,
          11533,
          198088,
          10195520,
          1459557,
          6297614,
          29878,
          40559,
          2534,
          162398,
          731852,
          148885,
          50597,
          11356,
          5339945,
          13916,
          376404,
          71452,
          1396,
          1003011,
          6389287,
          28142,
          926484,
          386773,
          2355,
          237745,
          610,
          1594,
          751202,
          12507,
          772604,
          660183,
          229970,
          115687,
          1648258,
          56353,
          469298,
          27013919,
          204,
          20588,
          145576,
          804835,
          75851,
          537,
          12268814,
          2002,
          94141,
          7792,
          721070,
          2189,
          425,
          47464,
          4846,
          1383021,
          9960,
          1052,
          60921,
          25507,
          609728,
          11883597,
          975,
          5621,
          1313077,
          5382834,
          28849,
          7071,
          7584,
          14858791,
          3058,
          125385,
          80525,
          49837796,
          2428,
          35183,
          17528,
          37716,
          2433565,
          317469,
          59141,
          8627,
          647308,
          262443,
          1377347,
          64126,
          133110,
          579845,
          15447,
          432575,
          110524,
          9209168,
          780065,
          1173,
          3636221,
          9377,
          662,
          32257,
          912645,
          343033,
          2986886,
          134405,
          45692,
          37264,
          38894499,
          70433,
          2266617,
          34251,
          34983,
          14035496,
          217286,
          186283,
          4825876,
          252688,
          65375,
          152520337,
          1591745,
          281,
          40980,
          73291816,
          57622,
          2031,
          49606,
          485,
          75817,
          2832349,
          185203,
          44913,
          3275145,
          617,
          964953,
          163237,
          1199216,
          24607,
          38307,
          5193136,
          26960,
          12982,
          2633830,
          1356,
          315042,
          110549,
          109840,
          302981,
          6669494,
          997,
          3357,
          392,
          8751835,
          15841089,
          3513393,
          18316,
          934,
          30203,
          376222,
          11317091,
          305838,
          855852,
          536655,
          285050,
          8899,
          95665,
          589847,
          5267512,
          35530,
          3404,
          904,
          1435431,
          219371,
          554821,
          2629550,
          379,
          15520598,
          243536,
          17414952,
          23647,
          50672,
          6371580,
          201037,
          16184,
          4178066,
          191665,
          693667,
          2174,
          6780512,
          48935258,
          766,
          378270,
          3303,
          4703,
          866292,
          71503,
          261349,
          1456758,
          17871,
          460705,
          4955,
          115348,
          1992814,
          251,
          40213,
          1902483,
          7662,
          112841,
          126291,
          731756,
          2691,
          141923,
          130312,
          699796,
          22495,
          19038084,
          61394,
          3715697,
          187043,
          59488,
          1348,
          12611640,
          57777278,
          1635079,
          28791690,
          3507,
          20147953,
          135176,
          13613553,
          1381531,
          117676,
          21239691,
          6830,
          21341,
          3441,
          26696,
          51065230,
          45665,
          5081574,
          8172,
          1027289,
          543,
          392617,
          103588907,
          73975,
          154421,
          325894,
          169780308,
          15162,
          368046,
          10569,
          94854,
          484885,
          113359,
          17751,
          1302,
          7155,
          1333105,
          1955,
          52438,
          363959,
          53008325,
          888925,
          12627,
          962,
          99219,
          70971,
          21147,
          606822,
          66584,
          36332724,
          89778665,
          77151,
          32467,
          1019452,
          5549,
          4077595,
          23432,
          24633644,
          8004125,
          1362961,
          6198761,
          52399,
          527508,
          18734,
          9896,
          3083591,
          13805383,
          491134,
          14711,
          6925,
          91374,
          66236825,
          1456930,
          93998,
          97017,
          10810,
          6555,
          278520,
          148518,
          516180,
          18886,
          17101263,
          20298,
          33201,
          778,
          1874544,
          53980337,
          1736170,
          1129064,
          91005,
          221,
          84774,
          11115,
          568460,
          131005,
          4399722,
          210337,
          12654515,
          25119397,
          146296,
          195,
          41190,
          3667846,
          304212,
          80972,
          61571,
          99736,
          80426,
          108568,
          1324758,
          33111,
          293346,
          390356,
          1493,
          100609,
          5481,
          3195934,
          2148238,
          4045643,
          25881,
          16868,
          247717,
          548,
          1801612,
          2905723,
          13282661,
          833735,
          89529,
          622013,
          4949180,
          3507919,
          959522,
          20536,
          17033,
          230325,
          1406238,
          1210,
          23349357,
          62394,
          21668,
          253867,
          23376,
          162573,
          170741,
          673622,
          58288,
          109370,
          183445,
          223,
          3336675,
          127265956,
          216669,
          50129,
          149187,
          85196463,
          107091,
          13338950,
          84175180,
          425,
          18661,
          4448161,
          63346,
          166888,
          633073,
          16501516,
          56572,
          933642,
          457709,
          14317,
          53303,
          25717,
          1310567,
          11048004,
          1788,
          62444,
          12439538,
          1417130,
          2373,
          165586,
          2428426,
          40592,
          12208566,
          251084,
          89959,
          147429,
          15369847,
          2888,
          161463,
          16275,
          952,
          757878,
          230161,
          980,
          10919634,
          99217,
          24408,
          88350487,
          7237,
          13199,
          342437,
          456510,
          12316111,
          105615,
          15345054,
          9096,
          11937,
          3660524,
          77579,
          50033,
          10587666,
          329610,
          48497603,
          6587678,
          78245,
          19387281,
          21180,
          42526,
          5551250,
          373388,
          42727,
          1979446,
          3455078,
          2427963,
          4498721,
          4341594,
          4282,
          281215,
          128361,
          1252770,
          5428,
          804814,
          34630,
          34654,
          2370,
          26904,
          48926,
          1620606,
          10152,
          9408,
          37689,
          595185,
          443042,
          10538967,
          14655793,
          370649,
          332779,
          19347,
          403806,
          523433,
          10681,
          154558,
          721575,
          1776,
          2757377,
          15081,
          2997888,
          177767,
          341932,
          71229212,
          212604,
          268204,
          10784164,
          17813,
          209454,
          74624007,
          394,
          348733,
          112062,
          2895932,
          448596,
          7535,
          3118,
          170458,
          1128554,
          127129,
          121430,
          808129,
          22104,
          3785462,
          7477,
          153991,
          85605,
          120732,
          223720,
          887459,
          1065254,
          1416691,
          71556,
          14020,
          4658079,
          308243,
          120492164,
          272813,
          169944,
          241,
          3092923,
          7907,
          65888,
          5289546,
          251866,
          526498,
          1833,
          2728,
          405109,
          295211,
          473760,
          6527,
          36134,
          752890,
          21053,
          61767,
          1743726,
          1988,
          371846,
          62592,
          29419,
          12706696,
          202550,
          283227,
          98257,
          4526374,
          40540,
          1214863,
          256445,
          52270,
          1491,
          61736886,
          24027109,
          786883,
          352071,
          96902,
          76293,
          12604505,
          100952,
          262710,
          11495641,
          7065148,
          10336107,
          338255,
          10520948,
          2293942,
          4662688,
          582710,
          1309086,
          184,
          3270649,
          23603043,
          432342,
          39166,
          1757335,
          67945,
          1009910,
          407660,
          43762,
          304280,
          1276666,
          19832,
          82489,
          7383,
          996370,
          48471,
          769851,
          24218,
          10020,
          132319,
          3923212,
          18747,
          2196806,
          1340888,
          9579,
          16755,
          30663,
          5752979,
          297319,
          1024,
          39010,
          65621543,
          3061446,
          4680757,
          581751,
          210325,
          9964318,
          3028,
          6704,
          15197066,
          3064972,
          12010,
          6511514,
          259657,
          136727,
          6573582,
          18032,
          108873,
          184,
          42191,
          59601,
          2605,
          6760451,
          1676,
          107907,
          2076860,
          45170,
          19152601,
          153926,
          33327,
          121608,
          28176,
          14242,
          94334,
          24111521,
          3091,
          1956,
          40545,
          50735027,
          1836118,
          9284217,
          77136,
          6694716,
          126441,
          2155744,
          48267,
          17911,
          256948,
          107100,
          153741945,
          169309,
          458,
          194473,
          83306,
          1966294,
          139163,
          16370,
          11364,
          1810,
          1953,
          11470,
          1072596,
          153890,
          5597,
          8700,
          22188,
          29368388,
          48745,
          2621205,
          1910010,
          826537,
          2166,
          1980412,
          79840,
          42382,
          20628,
          285660,
          35904,
          16979,
          36717,
          35195,
          3563602,
          19637551,
          160405,
          105204,
          1178106,
          79279,
          154686,
          13010832,
          1875,
          1777991,
          4572719,
          8494778,
          186965,
          715417,
          766151,
          63838,
          2069833,
          674035,
          8458,
          44400,
          20715,
          2563482,
          3275,
          981365,
          6032,
          2096293,
          6501,
          20481,
          272403,
          123946,
          1511791,
          8455,
          338558,
          25936,
          104,
          15603,
          74567,
          10252,
          26008,
          138817,
          138370,
          122052368,
          88556,
          4616152,
          86091,
          690322,
          2190395,
          9542,
          2258,
          496117,
          208977,
          40946,
          4385681,
          381244057,
          128180,
          215111,
          45321,
          43085,
          15965,
          212422,
          385204,
          136098,
          5218,
          5111,
          9695264,
          160742372,
          1277,
          8860832,
          573101,
          4281039,
          9356556,
          104236,
          1793932,
          69676,
          968,
          25354,
          414806,
          172425,
          1078,
          326398,
          252648,
          1544710,
          2648504,
          315782,
          9536893,
          128922,
          2600453,
          367261,
          197,
          1354,
          1731229,
          9777,
          544,
          501305,
          91561,
          7057,
          75485,
          302642,
          262520,
          22692,
          1996850,
          617,
          1828857,
          872915,
          727188,
          81788,
          63721,
          24499,
          930416,
          626067,
          169300,
          796245,
          2966,
          13767,
          6632787,
          522727,
          591212,
          16280,
          13618722,
          1763282,
          553530,
          117320,
          656,
          7568538,
          6378,
          6900391,
          15709,
          136971,
          231847,
          77811,
          2109115,
          257148,
          547943,
          4548,
          1308361,
          16293321,
          637482,
          1130719,
          86406,
          39118,
          1106,
          471858,
          42280,
          19804601,
          20308,
          45554,
          85362,
          24388570,
          967,
          16022,
          21722,
          601777,
          87102542,
          62349990,
          8918864,
          2259378847,
          126684742,
          33379626,
          398216289,
          491407048,
          43037538,
          339933595,
          26249655,
          294894789,
          80839351,
          62837294,
          37526611,
          153122936,
          312763391,
          4818643108
         ]
        }
       ],
       "layout": {
        "legend": {
         "tracegroupgap": 0
        },
        "margin": {
         "b": 0,
         "l": 0,
         "r": 0,
         "t": 50
        },
        "template": {
         "data": {
          "bar": [
           {
            "error_x": {
             "color": "#2a3f5f"
            },
            "error_y": {
             "color": "#2a3f5f"
            },
            "marker": {
             "line": {
              "color": "#E5ECF6",
              "width": 0.5
             },
             "pattern": {
              "fillmode": "overlay",
              "size": 10,
              "solidity": 0.2
             }
            },
            "type": "bar"
           }
          ],
          "barpolar": [
           {
            "marker": {
             "line": {
              "color": "#E5ECF6",
              "width": 0.5
             },
             "pattern": {
              "fillmode": "overlay",
              "size": 10,
              "solidity": 0.2
             }
            },
            "type": "barpolar"
           }
          ],
          "carpet": [
           {
            "aaxis": {
             "endlinecolor": "#2a3f5f",
             "gridcolor": "white",
             "linecolor": "white",
             "minorgridcolor": "white",
             "startlinecolor": "#2a3f5f"
            },
            "baxis": {
             "endlinecolor": "#2a3f5f",
             "gridcolor": "white",
             "linecolor": "white",
             "minorgridcolor": "white",
             "startlinecolor": "#2a3f5f"
            },
            "type": "carpet"
           }
          ],
          "choropleth": [
           {
            "colorbar": {
             "outlinewidth": 0,
             "ticks": ""
            },
            "type": "choropleth"
           }
          ],
          "contour": [
           {
            "colorbar": {
             "outlinewidth": 0,
             "ticks": ""
            },
            "colorscale": [
             [
              0,
              "#0d0887"
             ],
             [
              0.1111111111111111,
              "#46039f"
             ],
             [
              0.2222222222222222,
              "#7201a8"
             ],
             [
              0.3333333333333333,
              "#9c179e"
             ],
             [
              0.4444444444444444,
              "#bd3786"
             ],
             [
              0.5555555555555556,
              "#d8576b"
             ],
             [
              0.6666666666666666,
              "#ed7953"
             ],
             [
              0.7777777777777778,
              "#fb9f3a"
             ],
             [
              0.8888888888888888,
              "#fdca26"
             ],
             [
              1,
              "#f0f921"
             ]
            ],
            "type": "contour"
           }
          ],
          "contourcarpet": [
           {
            "colorbar": {
             "outlinewidth": 0,
             "ticks": ""
            },
            "type": "contourcarpet"
           }
          ],
          "heatmap": [
           {
            "colorbar": {
             "outlinewidth": 0,
             "ticks": ""
            },
            "colorscale": [
             [
              0,
              "#0d0887"
             ],
             [
              0.1111111111111111,
              "#46039f"
             ],
             [
              0.2222222222222222,
              "#7201a8"
             ],
             [
              0.3333333333333333,
              "#9c179e"
             ],
             [
              0.4444444444444444,
              "#bd3786"
             ],
             [
              0.5555555555555556,
              "#d8576b"
             ],
             [
              0.6666666666666666,
              "#ed7953"
             ],
             [
              0.7777777777777778,
              "#fb9f3a"
             ],
             [
              0.8888888888888888,
              "#fdca26"
             ],
             [
              1,
              "#f0f921"
             ]
            ],
            "type": "heatmap"
           }
          ],
          "heatmapgl": [
           {
            "colorbar": {
             "outlinewidth": 0,
             "ticks": ""
            },
            "colorscale": [
             [
              0,
              "#0d0887"
             ],
             [
              0.1111111111111111,
              "#46039f"
             ],
             [
              0.2222222222222222,
              "#7201a8"
             ],
             [
              0.3333333333333333,
              "#9c179e"
             ],
             [
              0.4444444444444444,
              "#bd3786"
             ],
             [
              0.5555555555555556,
              "#d8576b"
             ],
             [
              0.6666666666666666,
              "#ed7953"
             ],
             [
              0.7777777777777778,
              "#fb9f3a"
             ],
             [
              0.8888888888888888,
              "#fdca26"
             ],
             [
              1,
              "#f0f921"
             ]
            ],
            "type": "heatmapgl"
           }
          ],
          "histogram": [
           {
            "marker": {
             "pattern": {
              "fillmode": "overlay",
              "size": 10,
              "solidity": 0.2
             }
            },
            "type": "histogram"
           }
          ],
          "histogram2d": [
           {
            "colorbar": {
             "outlinewidth": 0,
             "ticks": ""
            },
            "colorscale": [
             [
              0,
              "#0d0887"
             ],
             [
              0.1111111111111111,
              "#46039f"
             ],
             [
              0.2222222222222222,
              "#7201a8"
             ],
             [
              0.3333333333333333,
              "#9c179e"
             ],
             [
              0.4444444444444444,
              "#bd3786"
             ],
             [
              0.5555555555555556,
              "#d8576b"
             ],
             [
              0.6666666666666666,
              "#ed7953"
             ],
             [
              0.7777777777777778,
              "#fb9f3a"
             ],
             [
              0.8888888888888888,
              "#fdca26"
             ],
             [
              1,
              "#f0f921"
             ]
            ],
            "type": "histogram2d"
           }
          ],
          "histogram2dcontour": [
           {
            "colorbar": {
             "outlinewidth": 0,
             "ticks": ""
            },
            "colorscale": [
             [
              0,
              "#0d0887"
             ],
             [
              0.1111111111111111,
              "#46039f"
             ],
             [
              0.2222222222222222,
              "#7201a8"
             ],
             [
              0.3333333333333333,
              "#9c179e"
             ],
             [
              0.4444444444444444,
              "#bd3786"
             ],
             [
              0.5555555555555556,
              "#d8576b"
             ],
             [
              0.6666666666666666,
              "#ed7953"
             ],
             [
              0.7777777777777778,
              "#fb9f3a"
             ],
             [
              0.8888888888888888,
              "#fdca26"
             ],
             [
              1,
              "#f0f921"
             ]
            ],
            "type": "histogram2dcontour"
           }
          ],
          "mesh3d": [
           {
            "colorbar": {
             "outlinewidth": 0,
             "ticks": ""
            },
            "type": "mesh3d"
           }
          ],
          "parcoords": [
           {
            "line": {
             "colorbar": {
              "outlinewidth": 0,
              "ticks": ""
             }
            },
            "type": "parcoords"
           }
          ],
          "pie": [
           {
            "automargin": true,
            "type": "pie"
           }
          ],
          "scatter": [
           {
            "fillpattern": {
             "fillmode": "overlay",
             "size": 10,
             "solidity": 0.2
            },
            "type": "scatter"
           }
          ],
          "scatter3d": [
           {
            "line": {
             "colorbar": {
              "outlinewidth": 0,
              "ticks": ""
             }
            },
            "marker": {
             "colorbar": {
              "outlinewidth": 0,
              "ticks": ""
             }
            },
            "type": "scatter3d"
           }
          ],
          "scattercarpet": [
           {
            "marker": {
             "colorbar": {
              "outlinewidth": 0,
              "ticks": ""
             }
            },
            "type": "scattercarpet"
           }
          ],
          "scattergeo": [
           {
            "marker": {
             "colorbar": {
              "outlinewidth": 0,
              "ticks": ""
             }
            },
            "type": "scattergeo"
           }
          ],
          "scattergl": [
           {
            "marker": {
             "colorbar": {
              "outlinewidth": 0,
              "ticks": ""
             }
            },
            "type": "scattergl"
           }
          ],
          "scattermapbox": [
           {
            "marker": {
             "colorbar": {
              "outlinewidth": 0,
              "ticks": ""
             }
            },
            "type": "scattermapbox"
           }
          ],
          "scatterpolar": [
           {
            "marker": {
             "colorbar": {
              "outlinewidth": 0,
              "ticks": ""
             }
            },
            "type": "scatterpolar"
           }
          ],
          "scatterpolargl": [
           {
            "marker": {
             "colorbar": {
              "outlinewidth": 0,
              "ticks": ""
             }
            },
            "type": "scatterpolargl"
           }
          ],
          "scatterternary": [
           {
            "marker": {
             "colorbar": {
              "outlinewidth": 0,
              "ticks": ""
             }
            },
            "type": "scatterternary"
           }
          ],
          "surface": [
           {
            "colorbar": {
             "outlinewidth": 0,
             "ticks": ""
            },
            "colorscale": [
             [
              0,
              "#0d0887"
             ],
             [
              0.1111111111111111,
              "#46039f"
             ],
             [
              0.2222222222222222,
              "#7201a8"
             ],
             [
              0.3333333333333333,
              "#9c179e"
             ],
             [
              0.4444444444444444,
              "#bd3786"
             ],
             [
              0.5555555555555556,
              "#d8576b"
             ],
             [
              0.6666666666666666,
              "#ed7953"
             ],
             [
              0.7777777777777778,
              "#fb9f3a"
             ],
             [
              0.8888888888888888,
              "#fdca26"
             ],
             [
              1,
              "#f0f921"
             ]
            ],
            "type": "surface"
           }
          ],
          "table": [
           {
            "cells": {
             "fill": {
              "color": "#EBF0F8"
             },
             "line": {
              "color": "white"
             }
            },
            "header": {
             "fill": {
              "color": "#C8D4E3"
             },
             "line": {
              "color": "white"
             }
            },
            "type": "table"
           }
          ]
         },
         "layout": {
          "annotationdefaults": {
           "arrowcolor": "#2a3f5f",
           "arrowhead": 0,
           "arrowwidth": 1
          },
          "autotypenumbers": "strict",
          "coloraxis": {
           "colorbar": {
            "outlinewidth": 0,
            "ticks": ""
           }
          },
          "colorscale": {
           "diverging": [
            [
             0,
             "#8e0152"
            ],
            [
             0.1,
             "#c51b7d"
            ],
            [
             0.2,
             "#de77ae"
            ],
            [
             0.3,
             "#f1b6da"
            ],
            [
             0.4,
             "#fde0ef"
            ],
            [
             0.5,
             "#f7f7f7"
            ],
            [
             0.6,
             "#e6f5d0"
            ],
            [
             0.7,
             "#b8e186"
            ],
            [
             0.8,
             "#7fbc41"
            ],
            [
             0.9,
             "#4d9221"
            ],
            [
             1,
             "#276419"
            ]
           ],
           "sequential": [
            [
             0,
             "#0d0887"
            ],
            [
             0.1111111111111111,
             "#46039f"
            ],
            [
             0.2222222222222222,
             "#7201a8"
            ],
            [
             0.3333333333333333,
             "#9c179e"
            ],
            [
             0.4444444444444444,
             "#bd3786"
            ],
            [
             0.5555555555555556,
             "#d8576b"
            ],
            [
             0.6666666666666666,
             "#ed7953"
            ],
            [
             0.7777777777777778,
             "#fb9f3a"
            ],
            [
             0.8888888888888888,
             "#fdca26"
            ],
            [
             1,
             "#f0f921"
            ]
           ],
           "sequentialminus": [
            [
             0,
             "#0d0887"
            ],
            [
             0.1111111111111111,
             "#46039f"
            ],
            [
             0.2222222222222222,
             "#7201a8"
            ],
            [
             0.3333333333333333,
             "#9c179e"
            ],
            [
             0.4444444444444444,
             "#bd3786"
            ],
            [
             0.5555555555555556,
             "#d8576b"
            ],
            [
             0.6666666666666666,
             "#ed7953"
            ],
            [
             0.7777777777777778,
             "#fb9f3a"
            ],
            [
             0.8888888888888888,
             "#fdca26"
            ],
            [
             1,
             "#f0f921"
            ]
           ]
          },
          "colorway": [
           "#636efa",
           "#EF553B",
           "#00cc96",
           "#ab63fa",
           "#FFA15A",
           "#19d3f3",
           "#FF6692",
           "#B6E880",
           "#FF97FF",
           "#FECB52"
          ],
          "font": {
           "color": "#2a3f5f"
          },
          "geo": {
           "bgcolor": "white",
           "lakecolor": "white",
           "landcolor": "#E5ECF6",
           "showlakes": true,
           "showland": true,
           "subunitcolor": "white"
          },
          "hoverlabel": {
           "align": "left"
          },
          "hovermode": "closest",
          "mapbox": {
           "style": "light"
          },
          "paper_bgcolor": "white",
          "plot_bgcolor": "#E5ECF6",
          "polar": {
           "angularaxis": {
            "gridcolor": "white",
            "linecolor": "white",
            "ticks": ""
           },
           "bgcolor": "#E5ECF6",
           "radialaxis": {
            "gridcolor": "white",
            "linecolor": "white",
            "ticks": ""
           }
          },
          "scene": {
           "xaxis": {
            "backgroundcolor": "#E5ECF6",
            "gridcolor": "white",
            "gridwidth": 2,
            "linecolor": "white",
            "showbackground": true,
            "ticks": "",
            "zerolinecolor": "white"
           },
           "yaxis": {
            "backgroundcolor": "#E5ECF6",
            "gridcolor": "white",
            "gridwidth": 2,
            "linecolor": "white",
            "showbackground": true,
            "ticks": "",
            "zerolinecolor": "white"
           },
           "zaxis": {
            "backgroundcolor": "#E5ECF6",
            "gridcolor": "white",
            "gridwidth": 2,
            "linecolor": "white",
            "showbackground": true,
            "ticks": "",
            "zerolinecolor": "white"
           }
          },
          "shapedefaults": {
           "line": {
            "color": "#2a3f5f"
           }
          },
          "ternary": {
           "aaxis": {
            "gridcolor": "white",
            "linecolor": "white",
            "ticks": ""
           },
           "baxis": {
            "gridcolor": "white",
            "linecolor": "white",
            "ticks": ""
           },
           "bgcolor": "#E5ECF6",
           "caxis": {
            "gridcolor": "white",
            "linecolor": "white",
            "ticks": ""
           }
          },
          "title": {
           "x": 0.05
          },
          "xaxis": {
           "automargin": true,
           "gridcolor": "white",
           "linecolor": "white",
           "ticks": "",
           "title": {
            "standoff": 15
           },
           "zerolinecolor": "white",
           "zerolinewidth": 2
          },
          "yaxis": {
           "automargin": true,
           "gridcolor": "white",
           "linecolor": "white",
           "ticks": "",
           "title": {
            "standoff": 15
           },
           "zerolinecolor": "white",
           "zerolinewidth": 2
          }
         }
        },
        "title": {
         "text": "Exports by Commodity and Partner in 2021"
        }
       }
      }
     },
     "metadata": {},
     "output_type": "display_data"
    },
    {
     "data": {
      "text/plain": [
       "(None, None)"
      ]
     },
     "execution_count": 177,
     "metadata": {},
     "output_type": "execute_result"
    }
   ],
   "source": [
    "commodity_charts(\"586\")"
   ]
  },
  {
   "cell_type": "code",
   "execution_count": 128,
   "metadata": {},
   "outputs": [
    {
     "name": "stdout",
     "output_type": "stream",
     "text": [
      "<Response [200]>\n",
      "length is 1691\n"
     ]
    },
    {
     "data": {
      "text/html": [
       "<div>\n",
       "<style scoped>\n",
       "    .dataframe tbody tr th:only-of-type {\n",
       "        vertical-align: middle;\n",
       "    }\n",
       "\n",
       "    .dataframe tbody tr th {\n",
       "        vertical-align: top;\n",
       "    }\n",
       "\n",
       "    .dataframe thead th {\n",
       "        text-align: right;\n",
       "    }\n",
       "</style>\n",
       "<table border=\"1\" class=\"dataframe\">\n",
       "  <thead>\n",
       "    <tr style=\"text-align: right;\">\n",
       "      <th></th>\n",
       "      <th>pfCode</th>\n",
       "      <th>yr</th>\n",
       "      <th>period</th>\n",
       "      <th>periodDesc</th>\n",
       "      <th>aggrLevel</th>\n",
       "      <th>IsLeaf</th>\n",
       "      <th>rgCode</th>\n",
       "      <th>rgDesc</th>\n",
       "      <th>rtCode</th>\n",
       "      <th>rtTitle</th>\n",
       "      <th>...</th>\n",
       "      <th>qtAltCode</th>\n",
       "      <th>qtAltDesc</th>\n",
       "      <th>TradeQuantity</th>\n",
       "      <th>AltQuantity</th>\n",
       "      <th>NetWeight</th>\n",
       "      <th>GrossWeight</th>\n",
       "      <th>TradeValue</th>\n",
       "      <th>CIFValue</th>\n",
       "      <th>FOBValue</th>\n",
       "      <th>estCode</th>\n",
       "    </tr>\n",
       "  </thead>\n",
       "  <tbody>\n",
       "    <tr>\n",
       "      <th>0</th>\n",
       "      <td>H5</td>\n",
       "      <td>2021</td>\n",
       "      <td>2021</td>\n",
       "      <td>2021</td>\n",
       "      <td>2</td>\n",
       "      <td>0</td>\n",
       "      <td>1</td>\n",
       "      <td>Import</td>\n",
       "      <td>586</td>\n",
       "      <td>Pakistan</td>\n",
       "      <td>...</td>\n",
       "      <td>None</td>\n",
       "      <td></td>\n",
       "      <td>0</td>\n",
       "      <td>None</td>\n",
       "      <td>NaN</td>\n",
       "      <td>None</td>\n",
       "      <td>28524264</td>\n",
       "      <td>None</td>\n",
       "      <td>None</td>\n",
       "      <td>0</td>\n",
       "    </tr>\n",
       "    <tr>\n",
       "      <th>1</th>\n",
       "      <td>H5</td>\n",
       "      <td>2021</td>\n",
       "      <td>2021</td>\n",
       "      <td>2021</td>\n",
       "      <td>2</td>\n",
       "      <td>0</td>\n",
       "      <td>2</td>\n",
       "      <td>Export</td>\n",
       "      <td>586</td>\n",
       "      <td>Pakistan</td>\n",
       "      <td>...</td>\n",
       "      <td>None</td>\n",
       "      <td></td>\n",
       "      <td>0</td>\n",
       "      <td>None</td>\n",
       "      <td>NaN</td>\n",
       "      <td>None</td>\n",
       "      <td>8918871</td>\n",
       "      <td>None</td>\n",
       "      <td>None</td>\n",
       "      <td>0</td>\n",
       "    </tr>\n",
       "    <tr>\n",
       "      <th>2</th>\n",
       "      <td>H5</td>\n",
       "      <td>2021</td>\n",
       "      <td>2021</td>\n",
       "      <td>2021</td>\n",
       "      <td>2</td>\n",
       "      <td>0</td>\n",
       "      <td>1</td>\n",
       "      <td>Import</td>\n",
       "      <td>586</td>\n",
       "      <td>Pakistan</td>\n",
       "      <td>...</td>\n",
       "      <td>None</td>\n",
       "      <td></td>\n",
       "      <td>0</td>\n",
       "      <td>None</td>\n",
       "      <td>0.0</td>\n",
       "      <td>None</td>\n",
       "      <td>3129633</td>\n",
       "      <td>None</td>\n",
       "      <td>None</td>\n",
       "      <td>0</td>\n",
       "    </tr>\n",
       "    <tr>\n",
       "      <th>3</th>\n",
       "      <td>H5</td>\n",
       "      <td>2021</td>\n",
       "      <td>2021</td>\n",
       "      <td>2021</td>\n",
       "      <td>2</td>\n",
       "      <td>0</td>\n",
       "      <td>2</td>\n",
       "      <td>Export</td>\n",
       "      <td>586</td>\n",
       "      <td>Pakistan</td>\n",
       "      <td>...</td>\n",
       "      <td>None</td>\n",
       "      <td></td>\n",
       "      <td>0</td>\n",
       "      <td>None</td>\n",
       "      <td>0.0</td>\n",
       "      <td>None</td>\n",
       "      <td>339933606</td>\n",
       "      <td>None</td>\n",
       "      <td>None</td>\n",
       "      <td>0</td>\n",
       "    </tr>\n",
       "    <tr>\n",
       "      <th>4</th>\n",
       "      <td>H5</td>\n",
       "      <td>2021</td>\n",
       "      <td>2021</td>\n",
       "      <td>2021</td>\n",
       "      <td>2</td>\n",
       "      <td>0</td>\n",
       "      <td>1</td>\n",
       "      <td>Import</td>\n",
       "      <td>586</td>\n",
       "      <td>Pakistan</td>\n",
       "      <td>...</td>\n",
       "      <td>None</td>\n",
       "      <td></td>\n",
       "      <td>0</td>\n",
       "      <td>None</td>\n",
       "      <td>0.0</td>\n",
       "      <td>None</td>\n",
       "      <td>86904406</td>\n",
       "      <td>None</td>\n",
       "      <td>None</td>\n",
       "      <td>0</td>\n",
       "    </tr>\n",
       "    <tr>\n",
       "      <th>...</th>\n",
       "      <td>...</td>\n",
       "      <td>...</td>\n",
       "      <td>...</td>\n",
       "      <td>...</td>\n",
       "      <td>...</td>\n",
       "      <td>...</td>\n",
       "      <td>...</td>\n",
       "      <td>...</td>\n",
       "      <td>...</td>\n",
       "      <td>...</td>\n",
       "      <td>...</td>\n",
       "      <td>...</td>\n",
       "      <td>...</td>\n",
       "      <td>...</td>\n",
       "      <td>...</td>\n",
       "      <td>...</td>\n",
       "      <td>...</td>\n",
       "      <td>...</td>\n",
       "      <td>...</td>\n",
       "      <td>...</td>\n",
       "      <td>...</td>\n",
       "    </tr>\n",
       "    <tr>\n",
       "      <th>1686</th>\n",
       "      <td>H5</td>\n",
       "      <td>2021</td>\n",
       "      <td>2021</td>\n",
       "      <td>2021</td>\n",
       "      <td>2</td>\n",
       "      <td>0</td>\n",
       "      <td>2</td>\n",
       "      <td>Export</td>\n",
       "      <td>586</td>\n",
       "      <td>Pakistan</td>\n",
       "      <td>...</td>\n",
       "      <td>None</td>\n",
       "      <td></td>\n",
       "      <td>0</td>\n",
       "      <td>None</td>\n",
       "      <td>0.0</td>\n",
       "      <td>None</td>\n",
       "      <td>3785462</td>\n",
       "      <td>None</td>\n",
       "      <td>None</td>\n",
       "      <td>0</td>\n",
       "    </tr>\n",
       "    <tr>\n",
       "      <th>1687</th>\n",
       "      <td>H5</td>\n",
       "      <td>2021</td>\n",
       "      <td>2021</td>\n",
       "      <td>2021</td>\n",
       "      <td>2</td>\n",
       "      <td>0</td>\n",
       "      <td>1</td>\n",
       "      <td>Import</td>\n",
       "      <td>586</td>\n",
       "      <td>Pakistan</td>\n",
       "      <td>...</td>\n",
       "      <td>None</td>\n",
       "      <td></td>\n",
       "      <td>0</td>\n",
       "      <td>None</td>\n",
       "      <td>0.0</td>\n",
       "      <td>None</td>\n",
       "      <td>914</td>\n",
       "      <td>None</td>\n",
       "      <td>None</td>\n",
       "      <td>0</td>\n",
       "    </tr>\n",
       "    <tr>\n",
       "      <th>1688</th>\n",
       "      <td>H5</td>\n",
       "      <td>2021</td>\n",
       "      <td>2021</td>\n",
       "      <td>2021</td>\n",
       "      <td>2</td>\n",
       "      <td>0</td>\n",
       "      <td>2</td>\n",
       "      <td>Export</td>\n",
       "      <td>586</td>\n",
       "      <td>Pakistan</td>\n",
       "      <td>...</td>\n",
       "      <td>None</td>\n",
       "      <td></td>\n",
       "      <td>0</td>\n",
       "      <td>None</td>\n",
       "      <td>0.0</td>\n",
       "      <td>None</td>\n",
       "      <td>32467</td>\n",
       "      <td>None</td>\n",
       "      <td>None</td>\n",
       "      <td>0</td>\n",
       "    </tr>\n",
       "    <tr>\n",
       "      <th>1689</th>\n",
       "      <td>H5</td>\n",
       "      <td>2021</td>\n",
       "      <td>2021</td>\n",
       "      <td>2021</td>\n",
       "      <td>2</td>\n",
       "      <td>0</td>\n",
       "      <td>2</td>\n",
       "      <td>Export</td>\n",
       "      <td>586</td>\n",
       "      <td>Pakistan</td>\n",
       "      <td>...</td>\n",
       "      <td>None</td>\n",
       "      <td></td>\n",
       "      <td>0</td>\n",
       "      <td>None</td>\n",
       "      <td>0.0</td>\n",
       "      <td>None</td>\n",
       "      <td>28791690</td>\n",
       "      <td>None</td>\n",
       "      <td>None</td>\n",
       "      <td>4</td>\n",
       "    </tr>\n",
       "    <tr>\n",
       "      <th>1690</th>\n",
       "      <td>H5</td>\n",
       "      <td>2021</td>\n",
       "      <td>2021</td>\n",
       "      <td>2021</td>\n",
       "      <td>2</td>\n",
       "      <td>0</td>\n",
       "      <td>1</td>\n",
       "      <td>Import</td>\n",
       "      <td>586</td>\n",
       "      <td>Pakistan</td>\n",
       "      <td>...</td>\n",
       "      <td>None</td>\n",
       "      <td></td>\n",
       "      <td>0</td>\n",
       "      <td>None</td>\n",
       "      <td>0.0</td>\n",
       "      <td>None</td>\n",
       "      <td>235</td>\n",
       "      <td>None</td>\n",
       "      <td>None</td>\n",
       "      <td>0</td>\n",
       "    </tr>\n",
       "  </tbody>\n",
       "</table>\n",
       "<p>1691 rows × 35 columns</p>\n",
       "</div>"
      ],
      "text/plain": [
       "     pfCode    yr  period periodDesc  aggrLevel  IsLeaf  rgCode  rgDesc  \\\n",
       "0        H5  2021    2021       2021          2       0       1  Import   \n",
       "1        H5  2021    2021       2021          2       0       2  Export   \n",
       "2        H5  2021    2021       2021          2       0       1  Import   \n",
       "3        H5  2021    2021       2021          2       0       2  Export   \n",
       "4        H5  2021    2021       2021          2       0       1  Import   \n",
       "...     ...   ...     ...        ...        ...     ...     ...     ...   \n",
       "1686     H5  2021    2021       2021          2       0       2  Export   \n",
       "1687     H5  2021    2021       2021          2       0       1  Import   \n",
       "1688     H5  2021    2021       2021          2       0       2  Export   \n",
       "1689     H5  2021    2021       2021          2       0       2  Export   \n",
       "1690     H5  2021    2021       2021          2       0       1  Import   \n",
       "\n",
       "      rtCode   rtTitle  ... qtAltCode  qtAltDesc TradeQuantity AltQuantity  \\\n",
       "0        586  Pakistan  ...      None                        0        None   \n",
       "1        586  Pakistan  ...      None                        0        None   \n",
       "2        586  Pakistan  ...      None                        0        None   \n",
       "3        586  Pakistan  ...      None                        0        None   \n",
       "4        586  Pakistan  ...      None                        0        None   \n",
       "...      ...       ...  ...       ...        ...           ...         ...   \n",
       "1686     586  Pakistan  ...      None                        0        None   \n",
       "1687     586  Pakistan  ...      None                        0        None   \n",
       "1688     586  Pakistan  ...      None                        0        None   \n",
       "1689     586  Pakistan  ...      None                        0        None   \n",
       "1690     586  Pakistan  ...      None                        0        None   \n",
       "\n",
       "     NetWeight GrossWeight TradeValue CIFValue FOBValue estCode  \n",
       "0          NaN        None   28524264     None     None       0  \n",
       "1          NaN        None    8918871     None     None       0  \n",
       "2          0.0        None    3129633     None     None       0  \n",
       "3          0.0        None  339933606     None     None       0  \n",
       "4          0.0        None   86904406     None     None       0  \n",
       "...        ...         ...        ...      ...      ...     ...  \n",
       "1686       0.0        None    3785462     None     None       0  \n",
       "1687       0.0        None        914     None     None       0  \n",
       "1688       0.0        None      32467     None     None       0  \n",
       "1689       0.0        None   28791690     None     None       4  \n",
       "1690       0.0        None        235     None     None       0  \n",
       "\n",
       "[1691 rows x 35 columns]"
      ]
     },
     "execution_count": 128,
     "metadata": {},
     "output_type": "execute_result"
    }
   ],
   "source": [
    "z = get_comtrade_data(ie_url)\n",
    "z\n",
    "# z.to_csv('allscratch.csv', index=False)"
   ]
  },
  {
   "cell_type": "code",
   "execution_count": 129,
   "metadata": {},
   "outputs": [
    {
     "data": {
      "text/html": [
       "<div>\n",
       "<style scoped>\n",
       "    .dataframe tbody tr th:only-of-type {\n",
       "        vertical-align: middle;\n",
       "    }\n",
       "\n",
       "    .dataframe tbody tr th {\n",
       "        vertical-align: top;\n",
       "    }\n",
       "\n",
       "    .dataframe thead th {\n",
       "        text-align: right;\n",
       "    }\n",
       "</style>\n",
       "<table border=\"1\" class=\"dataframe\">\n",
       "  <thead>\n",
       "    <tr style=\"text-align: right;\">\n",
       "      <th></th>\n",
       "      <th>pfCode</th>\n",
       "      <th>yr</th>\n",
       "      <th>period</th>\n",
       "      <th>periodDesc</th>\n",
       "      <th>aggrLevel</th>\n",
       "      <th>IsLeaf</th>\n",
       "      <th>rgCode</th>\n",
       "      <th>rgDesc</th>\n",
       "      <th>rtCode</th>\n",
       "      <th>rtTitle</th>\n",
       "      <th>...</th>\n",
       "      <th>qtAltCode</th>\n",
       "      <th>qtAltDesc</th>\n",
       "      <th>TradeQuantity</th>\n",
       "      <th>AltQuantity</th>\n",
       "      <th>NetWeight</th>\n",
       "      <th>GrossWeight</th>\n",
       "      <th>TradeValue</th>\n",
       "      <th>CIFValue</th>\n",
       "      <th>FOBValue</th>\n",
       "      <th>estCode</th>\n",
       "    </tr>\n",
       "  </thead>\n",
       "  <tbody>\n",
       "    <tr>\n",
       "      <th>46</th>\n",
       "      <td>H5</td>\n",
       "      <td>2021</td>\n",
       "      <td>2021</td>\n",
       "      <td>2021</td>\n",
       "      <td>2</td>\n",
       "      <td>0</td>\n",
       "      <td>1</td>\n",
       "      <td>Import</td>\n",
       "      <td>586</td>\n",
       "      <td>Pakistan</td>\n",
       "      <td>...</td>\n",
       "      <td>None</td>\n",
       "      <td></td>\n",
       "      <td>0</td>\n",
       "      <td>None</td>\n",
       "      <td>0.0</td>\n",
       "      <td>None</td>\n",
       "      <td>468605</td>\n",
       "      <td>None</td>\n",
       "      <td>None</td>\n",
       "      <td>0</td>\n",
       "    </tr>\n",
       "    <tr>\n",
       "      <th>51</th>\n",
       "      <td>H5</td>\n",
       "      <td>2021</td>\n",
       "      <td>2021</td>\n",
       "      <td>2021</td>\n",
       "      <td>2</td>\n",
       "      <td>0</td>\n",
       "      <td>1</td>\n",
       "      <td>Import</td>\n",
       "      <td>586</td>\n",
       "      <td>Pakistan</td>\n",
       "      <td>...</td>\n",
       "      <td>None</td>\n",
       "      <td></td>\n",
       "      <td>0</td>\n",
       "      <td>None</td>\n",
       "      <td>0.0</td>\n",
       "      <td>None</td>\n",
       "      <td>774</td>\n",
       "      <td>None</td>\n",
       "      <td>None</td>\n",
       "      <td>0</td>\n",
       "    </tr>\n",
       "    <tr>\n",
       "      <th>54</th>\n",
       "      <td>H5</td>\n",
       "      <td>2021</td>\n",
       "      <td>2021</td>\n",
       "      <td>2021</td>\n",
       "      <td>2</td>\n",
       "      <td>0</td>\n",
       "      <td>1</td>\n",
       "      <td>Import</td>\n",
       "      <td>586</td>\n",
       "      <td>Pakistan</td>\n",
       "      <td>...</td>\n",
       "      <td>None</td>\n",
       "      <td></td>\n",
       "      <td>0</td>\n",
       "      <td>None</td>\n",
       "      <td>0.0</td>\n",
       "      <td>None</td>\n",
       "      <td>35794</td>\n",
       "      <td>None</td>\n",
       "      <td>None</td>\n",
       "      <td>0</td>\n",
       "    </tr>\n",
       "    <tr>\n",
       "      <th>56</th>\n",
       "      <td>H5</td>\n",
       "      <td>2021</td>\n",
       "      <td>2021</td>\n",
       "      <td>2021</td>\n",
       "      <td>2</td>\n",
       "      <td>0</td>\n",
       "      <td>1</td>\n",
       "      <td>Import</td>\n",
       "      <td>586</td>\n",
       "      <td>Pakistan</td>\n",
       "      <td>...</td>\n",
       "      <td>None</td>\n",
       "      <td></td>\n",
       "      <td>0</td>\n",
       "      <td>None</td>\n",
       "      <td>0.0</td>\n",
       "      <td>None</td>\n",
       "      <td>4701985</td>\n",
       "      <td>None</td>\n",
       "      <td>None</td>\n",
       "      <td>0</td>\n",
       "    </tr>\n",
       "    <tr>\n",
       "      <th>59</th>\n",
       "      <td>H5</td>\n",
       "      <td>2021</td>\n",
       "      <td>2021</td>\n",
       "      <td>2021</td>\n",
       "      <td>2</td>\n",
       "      <td>0</td>\n",
       "      <td>1</td>\n",
       "      <td>Import</td>\n",
       "      <td>586</td>\n",
       "      <td>Pakistan</td>\n",
       "      <td>...</td>\n",
       "      <td>None</td>\n",
       "      <td></td>\n",
       "      <td>0</td>\n",
       "      <td>None</td>\n",
       "      <td>0.0</td>\n",
       "      <td>None</td>\n",
       "      <td>139411685</td>\n",
       "      <td>None</td>\n",
       "      <td>None</td>\n",
       "      <td>0</td>\n",
       "    </tr>\n",
       "    <tr>\n",
       "      <th>...</th>\n",
       "      <td>...</td>\n",
       "      <td>...</td>\n",
       "      <td>...</td>\n",
       "      <td>...</td>\n",
       "      <td>...</td>\n",
       "      <td>...</td>\n",
       "      <td>...</td>\n",
       "      <td>...</td>\n",
       "      <td>...</td>\n",
       "      <td>...</td>\n",
       "      <td>...</td>\n",
       "      <td>...</td>\n",
       "      <td>...</td>\n",
       "      <td>...</td>\n",
       "      <td>...</td>\n",
       "      <td>...</td>\n",
       "      <td>...</td>\n",
       "      <td>...</td>\n",
       "      <td>...</td>\n",
       "      <td>...</td>\n",
       "      <td>...</td>\n",
       "    </tr>\n",
       "    <tr>\n",
       "      <th>1673</th>\n",
       "      <td>H5</td>\n",
       "      <td>2021</td>\n",
       "      <td>2021</td>\n",
       "      <td>2021</td>\n",
       "      <td>2</td>\n",
       "      <td>0</td>\n",
       "      <td>1</td>\n",
       "      <td>Import</td>\n",
       "      <td>586</td>\n",
       "      <td>Pakistan</td>\n",
       "      <td>...</td>\n",
       "      <td>None</td>\n",
       "      <td></td>\n",
       "      <td>0</td>\n",
       "      <td>None</td>\n",
       "      <td>0.0</td>\n",
       "      <td>None</td>\n",
       "      <td>13721</td>\n",
       "      <td>None</td>\n",
       "      <td>None</td>\n",
       "      <td>0</td>\n",
       "    </tr>\n",
       "    <tr>\n",
       "      <th>1675</th>\n",
       "      <td>H5</td>\n",
       "      <td>2021</td>\n",
       "      <td>2021</td>\n",
       "      <td>2021</td>\n",
       "      <td>2</td>\n",
       "      <td>0</td>\n",
       "      <td>1</td>\n",
       "      <td>Import</td>\n",
       "      <td>586</td>\n",
       "      <td>Pakistan</td>\n",
       "      <td>...</td>\n",
       "      <td>None</td>\n",
       "      <td></td>\n",
       "      <td>0</td>\n",
       "      <td>None</td>\n",
       "      <td>0.0</td>\n",
       "      <td>None</td>\n",
       "      <td>58219</td>\n",
       "      <td>None</td>\n",
       "      <td>None</td>\n",
       "      <td>0</td>\n",
       "    </tr>\n",
       "    <tr>\n",
       "      <th>1678</th>\n",
       "      <td>H5</td>\n",
       "      <td>2021</td>\n",
       "      <td>2021</td>\n",
       "      <td>2021</td>\n",
       "      <td>2</td>\n",
       "      <td>0</td>\n",
       "      <td>1</td>\n",
       "      <td>Import</td>\n",
       "      <td>586</td>\n",
       "      <td>Pakistan</td>\n",
       "      <td>...</td>\n",
       "      <td>None</td>\n",
       "      <td></td>\n",
       "      <td>0</td>\n",
       "      <td>None</td>\n",
       "      <td>0.0</td>\n",
       "      <td>None</td>\n",
       "      <td>941</td>\n",
       "      <td>None</td>\n",
       "      <td>None</td>\n",
       "      <td>0</td>\n",
       "    </tr>\n",
       "    <tr>\n",
       "      <th>1687</th>\n",
       "      <td>H5</td>\n",
       "      <td>2021</td>\n",
       "      <td>2021</td>\n",
       "      <td>2021</td>\n",
       "      <td>2</td>\n",
       "      <td>0</td>\n",
       "      <td>1</td>\n",
       "      <td>Import</td>\n",
       "      <td>586</td>\n",
       "      <td>Pakistan</td>\n",
       "      <td>...</td>\n",
       "      <td>None</td>\n",
       "      <td></td>\n",
       "      <td>0</td>\n",
       "      <td>None</td>\n",
       "      <td>0.0</td>\n",
       "      <td>None</td>\n",
       "      <td>914</td>\n",
       "      <td>None</td>\n",
       "      <td>None</td>\n",
       "      <td>0</td>\n",
       "    </tr>\n",
       "    <tr>\n",
       "      <th>1690</th>\n",
       "      <td>H5</td>\n",
       "      <td>2021</td>\n",
       "      <td>2021</td>\n",
       "      <td>2021</td>\n",
       "      <td>2</td>\n",
       "      <td>0</td>\n",
       "      <td>1</td>\n",
       "      <td>Import</td>\n",
       "      <td>586</td>\n",
       "      <td>Pakistan</td>\n",
       "      <td>...</td>\n",
       "      <td>None</td>\n",
       "      <td></td>\n",
       "      <td>0</td>\n",
       "      <td>None</td>\n",
       "      <td>0.0</td>\n",
       "      <td>None</td>\n",
       "      <td>235</td>\n",
       "      <td>None</td>\n",
       "      <td>None</td>\n",
       "      <td>0</td>\n",
       "    </tr>\n",
       "  </tbody>\n",
       "</table>\n",
       "<p>651 rows × 35 columns</p>\n",
       "</div>"
      ],
      "text/plain": [
       "     pfCode    yr  period periodDesc  aggrLevel  IsLeaf  rgCode  rgDesc  \\\n",
       "46       H5  2021    2021       2021          2       0       1  Import   \n",
       "51       H5  2021    2021       2021          2       0       1  Import   \n",
       "54       H5  2021    2021       2021          2       0       1  Import   \n",
       "56       H5  2021    2021       2021          2       0       1  Import   \n",
       "59       H5  2021    2021       2021          2       0       1  Import   \n",
       "...     ...   ...     ...        ...        ...     ...     ...     ...   \n",
       "1673     H5  2021    2021       2021          2       0       1  Import   \n",
       "1675     H5  2021    2021       2021          2       0       1  Import   \n",
       "1678     H5  2021    2021       2021          2       0       1  Import   \n",
       "1687     H5  2021    2021       2021          2       0       1  Import   \n",
       "1690     H5  2021    2021       2021          2       0       1  Import   \n",
       "\n",
       "      rtCode   rtTitle  ... qtAltCode  qtAltDesc TradeQuantity AltQuantity  \\\n",
       "46       586  Pakistan  ...      None                        0        None   \n",
       "51       586  Pakistan  ...      None                        0        None   \n",
       "54       586  Pakistan  ...      None                        0        None   \n",
       "56       586  Pakistan  ...      None                        0        None   \n",
       "59       586  Pakistan  ...      None                        0        None   \n",
       "...      ...       ...  ...       ...        ...           ...         ...   \n",
       "1673     586  Pakistan  ...      None                        0        None   \n",
       "1675     586  Pakistan  ...      None                        0        None   \n",
       "1678     586  Pakistan  ...      None                        0        None   \n",
       "1687     586  Pakistan  ...      None                        0        None   \n",
       "1690     586  Pakistan  ...      None                        0        None   \n",
       "\n",
       "     NetWeight GrossWeight TradeValue CIFValue FOBValue estCode  \n",
       "46         0.0        None     468605     None     None       0  \n",
       "51         0.0        None        774     None     None       0  \n",
       "54         0.0        None      35794     None     None       0  \n",
       "56         0.0        None    4701985     None     None       0  \n",
       "59         0.0        None  139411685     None     None       0  \n",
       "...        ...         ...        ...      ...      ...     ...  \n",
       "1673       0.0        None      13721     None     None       0  \n",
       "1675       0.0        None      58219     None     None       0  \n",
       "1678       0.0        None        941     None     None       0  \n",
       "1687       0.0        None        914     None     None       0  \n",
       "1690       0.0        None        235     None     None       0  \n",
       "\n",
       "[651 rows x 35 columns]"
      ]
     },
     "execution_count": 129,
     "metadata": {},
     "output_type": "execute_result"
    }
   ],
   "source": [
    "# return all columns whre rgDesc matches Import exactly\n",
    "imports = z[z['rgDesc'].str.match('Import')]\n",
    "imports = imports[imports['ptTitle'].str.match('World') == False]\n",
    "imports\n",
    "# export imports to csv\n",
    "# imports.to_csv('importsscratch.csv', index=False)\n",
    "# imports where ptTitle does not match World\n"
   ]
  },
  {
   "cell_type": "code",
   "execution_count": 153,
   "metadata": {},
   "outputs": [],
   "source": [
    "z\n",
    "# return unique values of z[cmdDescE]\n",
    "z['cmdDescE'].unique()"
   ]
  },
  {
   "cell_type": "code",
   "execution_count": 130,
   "metadata": {},
   "outputs": [
    {
     "data": {
      "application/vnd.plotly.v1+json": {
       "config": {
        "plotlyServerURL": "https://plot.ly"
       },
       "data": [
        {
         "branchvalues": "total",
         "customdata": [
          [
           "12"
          ],
          [
           "15"
          ],
          [
           "17"
          ],
          [
           "12"
          ],
          [
           "15"
          ],
          [
           "12"
          ],
          [
           "04"
          ],
          [
           "15"
          ],
          [
           "04"
          ],
          [
           "19"
          ],
          [
           "20"
          ],
          [
           "19"
          ],
          [
           "20"
          ],
          [
           "20"
          ],
          [
           "13"
          ],
          [
           "07"
          ],
          [
           "17"
          ],
          [
           "09"
          ],
          [
           "10"
          ],
          [
           "11"
          ],
          [
           "07"
          ],
          [
           "03"
          ],
          [
           "15"
          ],
          [
           "10"
          ],
          [
           "12"
          ],
          [
           "09"
          ],
          [
           "04"
          ],
          [
           "09"
          ],
          [
           "17"
          ],
          [
           "07"
          ],
          [
           "19"
          ],
          [
           "09"
          ],
          [
           "09"
          ],
          [
           "12"
          ],
          [
           "09"
          ],
          [
           "11"
          ],
          [
           "13"
          ],
          [
           "10"
          ],
          [
           "08"
          ],
          [
           "07"
          ],
          [
           "15"
          ],
          [
           "12"
          ],
          [
           "09"
          ],
          [
           "10"
          ],
          [
           "08"
          ],
          [
           "15"
          ],
          [
           "08"
          ],
          [
           "08"
          ],
          [
           "04"
          ],
          [
           "04"
          ],
          [
           "03"
          ],
          [
           "03"
          ],
          [
           "02"
          ],
          [
           "17"
          ],
          [
           "02"
          ],
          [
           "10"
          ],
          [
           "15"
          ],
          [
           "19"
          ],
          [
           "08"
          ],
          [
           "19"
          ],
          [
           "19"
          ],
          [
           "10"
          ],
          [
           "20"
          ],
          [
           "01"
          ],
          [
           "13"
          ],
          [
           "13"
          ],
          [
           "01"
          ],
          [
           "07"
          ],
          [
           "01"
          ],
          [
           "08"
          ],
          [
           "15"
          ],
          [
           "05"
          ],
          [
           "04"
          ],
          [
           "09"
          ],
          [
           "10"
          ],
          [
           "12"
          ],
          [
           "02"
          ],
          [
           "10"
          ],
          [
           "12"
          ],
          [
           "09"
          ],
          [
           "12"
          ],
          [
           "07"
          ],
          [
           "04"
          ],
          [
           "15"
          ],
          [
           "10"
          ],
          [
           "13"
          ],
          [
           "19"
          ],
          [
           "09"
          ],
          [
           "15"
          ],
          [
           "09"
          ],
          [
           "15"
          ],
          [
           "03"
          ],
          [
           "15"
          ],
          [
           "13"
          ],
          [
           "05"
          ],
          [
           "03"
          ],
          [
           "10"
          ],
          [
           "05"
          ],
          [
           "01"
          ],
          [
           "01"
          ],
          [
           "16"
          ],
          [
           "15"
          ],
          [
           "15"
          ],
          [
           "17"
          ],
          [
           "09"
          ],
          [
           "20"
          ],
          [
           "11"
          ],
          [
           "04"
          ],
          [
           "08"
          ],
          [
           "09"
          ],
          [
           "08"
          ],
          [
           "05"
          ],
          [
           "17"
          ],
          [
           "05"
          ],
          [
           "11"
          ],
          [
           "05"
          ],
          [
           "13"
          ],
          [
           "19"
          ],
          [
           "05"
          ],
          [
           "10"
          ],
          [
           "13"
          ],
          [
           "01"
          ],
          [
           "20"
          ],
          [
           "07"
          ],
          [
           "09"
          ],
          [
           "20"
          ],
          [
           "04"
          ],
          [
           "12"
          ],
          [
           "07"
          ],
          [
           "11"
          ],
          [
           "20"
          ],
          [
           "05"
          ],
          [
           "19"
          ],
          [
           "03"
          ],
          [
           "20"
          ],
          [
           "19"
          ],
          [
           "09"
          ],
          [
           "17"
          ],
          [
           "07"
          ],
          [
           "13"
          ],
          [
           "05"
          ],
          [
           "12"
          ],
          [
           "04"
          ],
          [
           "12"
          ],
          [
           "08"
          ],
          [
           "09"
          ],
          [
           "20"
          ],
          [
           "12"
          ],
          [
           "05"
          ],
          [
           "19"
          ],
          [
           "15"
          ],
          [
           "08"
          ],
          [
           "04"
          ],
          [
           "09"
          ],
          [
           "05"
          ],
          [
           "08"
          ],
          [
           "15"
          ],
          [
           "15"
          ],
          [
           "01"
          ],
          [
           "12"
          ],
          [
           "07"
          ],
          [
           "19"
          ],
          [
           "07"
          ],
          [
           "19"
          ],
          [
           "20"
          ],
          [
           "19"
          ],
          [
           "12"
          ],
          [
           "10"
          ],
          [
           "07"
          ],
          [
           "20"
          ],
          [
           "09"
          ],
          [
           "05"
          ],
          [
           "02"
          ],
          [
           "17"
          ],
          [
           "16"
          ],
          [
           "07"
          ],
          [
           "08"
          ],
          [
           "19"
          ],
          [
           "12"
          ],
          [
           "13"
          ],
          [
           "04"
          ],
          [
           "08"
          ],
          [
           "17"
          ],
          [
           "08"
          ],
          [
           "15"
          ],
          [
           "15"
          ],
          [
           "12"
          ],
          [
           "13"
          ],
          [
           "17"
          ],
          [
           "12"
          ],
          [
           "13"
          ],
          [
           "09"
          ],
          [
           "07"
          ],
          [
           "15"
          ],
          [
           "05"
          ],
          [
           "10"
          ],
          [
           "12"
          ],
          [
           "20"
          ],
          [
           "09"
          ],
          [
           "12"
          ],
          [
           "16"
          ],
          [
           "08"
          ],
          [
           "09"
          ],
          [
           "15"
          ],
          [
           "11"
          ],
          [
           "17"
          ],
          [
           "09"
          ],
          [
           "08"
          ],
          [
           "09"
          ],
          [
           "08"
          ],
          [
           "09"
          ],
          [
           "07"
          ],
          [
           "04"
          ],
          [
           "20"
          ],
          [
           "04"
          ],
          [
           "12"
          ],
          [
           "09"
          ],
          [
           "17"
          ],
          [
           "10"
          ],
          [
           "12"
          ],
          [
           "07"
          ],
          [
           "12"
          ],
          [
           "16"
          ],
          [
           "13"
          ],
          [
           "02"
          ],
          [
           "11"
          ],
          [
           "20"
          ],
          [
           "12"
          ],
          [
           "15"
          ],
          [
           "07"
          ],
          [
           "15"
          ],
          [
           "09"
          ],
          [
           "02"
          ],
          [
           "12"
          ],
          [
           "19"
          ],
          [
           "15"
          ],
          [
           "15"
          ],
          [
           "04"
          ],
          [
           "15"
          ],
          [
           "11"
          ],
          [
           "02"
          ],
          [
           "09"
          ],
          [
           "13"
          ],
          [
           "09"
          ],
          [
           "20"
          ],
          [
           "01"
          ],
          [
           "15"
          ],
          [
           "19"
          ],
          [
           "13"
          ],
          [
           "09"
          ],
          [
           "20"
          ],
          [
           "08"
          ],
          [
           "08"
          ],
          [
           "01"
          ],
          [
           "12"
          ],
          [
           "16"
          ],
          [
           "19"
          ],
          [
           "07"
          ],
          [
           "04"
          ],
          [
           "12"
          ],
          [
           "20"
          ],
          [
           "20"
          ],
          [
           "09"
          ],
          [
           "05"
          ],
          [
           "17"
          ],
          [
           "16"
          ],
          [
           "17"
          ],
          [
           "08"
          ],
          [
           "07"
          ],
          [
           "17"
          ],
          [
           "13"
          ],
          [
           "15"
          ],
          [
           "04"
          ],
          [
           "11"
          ],
          [
           "01"
          ],
          [
           "01"
          ],
          [
           "13"
          ],
          [
           "20"
          ],
          [
           "13"
          ],
          [
           "01"
          ],
          [
           "10"
          ],
          [
           "07"
          ],
          [
           "13"
          ],
          [
           "12"
          ],
          [
           "10"
          ],
          [
           "01"
          ],
          [
           "09"
          ],
          [
           "08"
          ],
          [
           "10"
          ],
          [
           "12"
          ],
          [
           "13"
          ],
          [
           "05"
          ],
          [
           "12"
          ],
          [
           "05"
          ],
          [
           "13"
          ],
          [
           "05"
          ],
          [
           "11"
          ],
          [
           "12"
          ],
          [
           "07"
          ],
          [
           "01"
          ],
          [
           "20"
          ],
          [
           "05"
          ],
          [
           "10"
          ],
          [
           "07"
          ],
          [
           "11"
          ],
          [
           "05"
          ],
          [
           "09"
          ],
          [
           "10"
          ],
          [
           "10"
          ],
          [
           "17"
          ],
          [
           "20"
          ],
          [
           "13"
          ],
          [
           "15"
          ],
          [
           "13"
          ],
          [
           "04"
          ],
          [
           "20"
          ],
          [
           "02"
          ],
          [
           "01"
          ],
          [
           "04"
          ],
          [
           "11"
          ],
          [
           "01"
          ],
          [
           "15"
          ],
          [
           "11"
          ],
          [
           "17"
          ],
          [
           "17"
          ],
          [
           "19"
          ],
          [
           "08"
          ],
          [
           "07"
          ],
          [
           "08"
          ],
          [
           "16"
          ],
          [
           "10"
          ],
          [
           "01"
          ],
          [
           "05"
          ],
          [
           "05"
          ],
          [
           "07"
          ],
          [
           "11"
          ],
          [
           "11"
          ],
          [
           "05"
          ],
          [
           "16"
          ],
          [
           "15"
          ],
          [
           "15"
          ],
          [
           "13"
          ],
          [
           "08"
          ],
          [
           "01"
          ],
          [
           "12"
          ],
          [
           "20"
          ],
          [
           "12"
          ],
          [
           "17"
          ],
          [
           "04"
          ],
          [
           "02"
          ],
          [
           "09"
          ],
          [
           "04"
          ],
          [
           "10"
          ],
          [
           "01"
          ],
          [
           "20"
          ],
          [
           "04"
          ],
          [
           "12"
          ],
          [
           "07"
          ],
          [
           "01"
          ],
          [
           "15"
          ],
          [
           "17"
          ],
          [
           "04"
          ],
          [
           "17"
          ],
          [
           "19"
          ],
          [
           "15"
          ],
          [
           "09"
          ],
          [
           "20"
          ],
          [
           "11"
          ],
          [
           "20"
          ],
          [
           "15"
          ],
          [
           "05"
          ],
          [
           "19"
          ],
          [
           "11"
          ],
          [
           "01"
          ],
          [
           "12"
          ],
          [
           "09"
          ],
          [
           "04"
          ],
          [
           "08"
          ],
          [
           "08"
          ],
          [
           "01"
          ],
          [
           "13"
          ],
          [
           "08"
          ],
          [
           "15"
          ],
          [
           "12"
          ],
          [
           "17"
          ],
          [
           "08"
          ],
          [
           "19"
          ],
          [
           "02"
          ],
          [
           "17"
          ],
          [
           "01"
          ],
          [
           "02"
          ],
          [
           "04"
          ],
          [
           "15"
          ],
          [
           "09"
          ],
          [
           "07"
          ],
          [
           "01"
          ],
          [
           "10"
          ],
          [
           "16"
          ],
          [
           "12"
          ],
          [
           "08"
          ],
          [
           "19"
          ],
          [
           "07"
          ],
          [
           "09"
          ],
          [
           "09"
          ],
          [
           "05"
          ],
          [
           "17"
          ],
          [
           "19"
          ],
          [
           "12"
          ],
          [
           "17"
          ],
          [
           "19"
          ],
          [
           "08"
          ],
          [
           "04"
          ],
          [
           "01"
          ],
          [
           "11"
          ],
          [
           "09"
          ],
          [
           "12"
          ],
          [
           "08"
          ],
          [
           "01"
          ],
          [
           "13"
          ],
          [
           "07"
          ],
          [
           "19"
          ],
          [
           "13"
          ],
          [
           "17"
          ],
          [
           "19"
          ],
          [
           "11"
          ],
          [
           "19"
          ],
          [
           "19"
          ],
          [
           "19"
          ],
          [
           "19"
          ],
          [
           "13"
          ],
          [
           "13"
          ],
          [
           "08"
          ],
          [
           "13"
          ],
          [
           "10"
          ],
          [
           "04"
          ],
          [
           "02"
          ],
          [
           "12"
          ],
          [
           "20"
          ],
          [
           "13"
          ],
          [
           "01"
          ],
          [
           "13"
          ],
          [
           "08"
          ],
          [
           "04"
          ],
          [
           "01"
          ],
          [
           "04"
          ],
          [
           "17"
          ],
          [
           "02"
          ],
          [
           "20"
          ],
          [
           "13"
          ],
          [
           "15"
          ],
          [
           "09"
          ],
          [
           "19"
          ],
          [
           "04"
          ],
          [
           "07"
          ],
          [
           "03"
          ],
          [
           "10"
          ],
          [
           "01"
          ],
          [
           "08"
          ],
          [
           "01"
          ],
          [
           "12"
          ],
          [
           "16"
          ],
          [
           "19"
          ],
          [
           "07"
          ],
          [
           "04"
          ],
          [
           "03"
          ],
          [
           "11"
          ],
          [
           "17"
          ],
          [
           "19"
          ],
          [
           "15"
          ],
          [
           "15"
          ],
          [
           "09"
          ],
          [
           "13"
          ],
          [
           "07"
          ],
          [
           "08"
          ],
          [
           "05"
          ],
          [
           "15"
          ],
          [
           "13"
          ],
          [
           "12"
          ],
          [
           "20"
          ],
          [
           "15"
          ],
          [
           "09"
          ],
          [
           "15"
          ],
          [
           "20"
          ],
          [
           "01"
          ],
          [
           "04"
          ],
          [
           "12"
          ],
          [
           "04"
          ],
          [
           "16"
          ],
          [
           "19"
          ],
          [
           "12"
          ],
          [
           "17"
          ],
          [
           "15"
          ],
          [
           "12"
          ],
          [
           "12"
          ],
          [
           "09"
          ],
          [
           "12"
          ],
          [
           "10"
          ],
          [
           "09"
          ],
          [
           "13"
          ],
          [
           "19"
          ],
          [
           "20"
          ],
          [
           "20"
          ],
          [
           "12"
          ],
          [
           "07"
          ],
          [
           "17"
          ],
          [
           "12"
          ],
          [
           "20"
          ],
          [
           "12"
          ],
          [
           "15"
          ],
          [
           "15"
          ],
          [
           "13"
          ],
          [
           "08"
          ],
          [
           "15"
          ],
          [
           "20"
          ],
          [
           "08"
          ],
          [
           "17"
          ],
          [
           "10"
          ],
          [
           "17"
          ],
          [
           "09"
          ],
          [
           "05"
          ],
          [
           "10"
          ],
          [
           "20"
          ],
          [
           "19"
          ],
          [
           "08"
          ],
          [
           "11"
          ],
          [
           "07"
          ],
          [
           "01"
          ],
          [
           "12"
          ],
          [
           "03"
          ],
          [
           "15"
          ],
          [
           "13"
          ],
          [
           "03"
          ],
          [
           "12"
          ],
          [
           "02"
          ],
          [
           "12"
          ],
          [
           "05"
          ],
          [
           "04"
          ],
          [
           "12"
          ],
          [
           "07"
          ],
          [
           "19"
          ],
          [
           "11"
          ],
          [
           "02"
          ],
          [
           "11"
          ],
          [
           "20"
          ],
          [
           "09"
          ],
          [
           "15"
          ],
          [
           "11"
          ],
          [
           "01"
          ],
          [
           "02"
          ],
          [
           "09"
          ],
          [
           "05"
          ],
          [
           "04"
          ],
          [
           "13"
          ],
          [
           "04"
          ],
          [
           "04"
          ],
          [
           "19"
          ],
          [
           "01"
          ],
          [
           "19"
          ],
          [
           "09"
          ],
          [
           "08"
          ],
          [
           "09"
          ],
          [
           "02"
          ],
          [
           "20"
          ],
          [
           "19"
          ],
          [
           "12"
          ],
          [
           "15"
          ],
          [
           "10"
          ],
          [
           "12"
          ],
          [
           "09"
          ],
          [
           "20"
          ],
          [
           "19"
          ],
          [
           "19"
          ],
          [
           "07"
          ],
          [
           "12"
          ],
          [
           "01"
          ],
          [
           "02"
          ],
          [
           "15"
          ],
          [
           "07"
          ],
          [
           "08"
          ],
          [
           "12"
          ],
          [
           "11"
          ],
          [
           "07"
          ],
          [
           "20"
          ],
          [
           "12"
          ],
          [
           "15"
          ],
          [
           "12"
          ],
          [
           "13"
          ],
          [
           "20"
          ],
          [
           "20"
          ],
          [
           "03"
          ],
          [
           "01"
          ],
          [
           "09"
          ],
          [
           "17"
          ],
          [
           "04"
          ],
          [
           "12"
          ],
          [
           "04"
          ],
          [
           "17"
          ],
          [
           "19"
          ],
          [
           "11"
          ],
          [
           "07"
          ],
          [
           "12"
          ],
          [
           "20"
          ],
          [
           "07"
          ],
          [
           "04"
          ],
          [
           "07"
          ],
          [
           "17"
          ],
          [
           "09"
          ],
          [
           "19"
          ],
          [
           "15"
          ],
          [
           "05"
          ],
          [
           "17"
          ],
          [
           "19"
          ],
          [
           "17"
          ],
          [
           "11"
          ],
          [
           "09"
          ],
          [
           "03"
          ],
          [
           "12"
          ],
          [
           "08"
          ],
          [
           "08"
          ],
          [
           "01"
          ],
          [
           "19"
          ],
          [
           "17"
          ],
          [
           "17"
          ],
          [
           "01"
          ],
          [
           "13"
          ],
          [
           "09"
          ],
          [
           "08"
          ],
          [
           "07"
          ],
          [
           "10"
          ],
          [
           "07"
          ],
          [
           "09"
          ],
          [
           "19"
          ],
          [
           "07"
          ],
          [
           "17"
          ],
          [
           "07"
          ],
          [
           "19"
          ],
          [
           "12"
          ],
          [
           "03"
          ],
          [
           "07"
          ],
          [
           "12"
          ],
          [
           "11"
          ],
          [
           "15"
          ],
          [
           "12"
          ],
          [
           "20"
          ],
          [
           "04"
          ],
          [
           "12"
          ],
          [
           "11"
          ],
          [
           "10"
          ],
          [
           "13"
          ],
          [
           "17"
          ],
          [
           "05"
          ],
          [
           "15"
          ],
          [
           "05"
          ],
          [
           "01"
          ],
          [
           "10"
          ],
          [
           "09"
          ],
          [
           "04"
          ],
          [
           "03"
          ],
          [
           "08"
          ],
          [
           "13"
          ],
          [
           "02"
          ],
          [
           "16"
          ],
          [
           "12"
          ],
          [
           "19"
          ],
          [
           "20"
          ],
          [
           "11"
          ],
          [
           "17"
          ],
          [
           "07"
          ],
          [
           "(?)"
          ]
         ],
         "domain": {
          "x": [
           0,
           1
          ],
          "y": [
           0,
           1
          ]
         },
         "hovertemplate": "labels=%{label}<br>TradeValue=%{value}<br>parent=%{parent}<br>id=%{id}<br>cmdCode=%{customdata[0]}<extra></extra>",
         "ids": [
          "all/Oil seeds and oleaginous fruits; miscellaneous grains, seeds and fruit, industrial or medicinal plants; straw and fodder/Spain",
          "all/Animal or vegetable fats and oils and their cleavage products; prepared animal fats; animal or vegetable waxes/Dominican Rep.",
          "all/Sugars and sugar confectionery/United Arab Emirates",
          "all/Oil seeds and oleaginous fruits; miscellaneous grains, seeds and fruit, industrial or medicinal plants; straw and fodder/Slovenia",
          "all/Animal or vegetable fats and oils and their cleavage products; prepared animal fats; animal or vegetable waxes/Philippines",
          "all/Oil seeds and oleaginous fruits; miscellaneous grains, seeds and fruit, industrial or medicinal plants; straw and fodder/Argentina",
          "all/Dairy produce; birds' eggs; natural honey; edible products of animal origin, not elsewhere specified or included/Bahrain",
          "all/Animal or vegetable fats and oils and their cleavage products; prepared animal fats; animal or vegetable waxes/Indonesia",
          "all/Dairy produce; birds' eggs; natural honey; edible products of animal origin, not elsewhere specified or included/Uruguay",
          "all/Preparations of cereals, flour, starch or milk; pastrycooks' products/Portugal",
          "all/Preparations of vegetables, fruit, nuts or other parts of plants/Greece",
          "all/Preparations of cereals, flour, starch or milk; pastrycooks' products/Greece",
          "all/Preparations of vegetables, fruit, nuts or other parts of plants/Colombia",
          "all/Preparations of vegetables, fruit, nuts or other parts of plants/Brazil",
          "all/Lac; gums, resins and other vegetable saps and extracts/Germany",
          "all/Vegetables and certain roots and tubers; edible/Ethiopia",
          "all/Sugars and sugar confectionery/Iran",
          "all/Coffee, tea, mate and spices/China",
          "all/Cereals/Other Europe, nes",
          "all/Products of the milling industry; malt, starches, inulin, wheat gluten/Italy",
          "all/Vegetables and certain roots and tubers; edible/Denmark",
          "all/Fish and crustaceans, molluscs and other aquatic invertebrates/Malaysia",
          "all/Animal or vegetable fats and oils and their cleavage products; prepared animal fats; animal or vegetable waxes/Morocco",
          "all/Cereals/Lebanon",
          "all/Oil seeds and oleaginous fruits; miscellaneous grains, seeds and fruit, industrial or medicinal plants; straw and fodder/Latvia",
          "all/Coffee, tea, mate and spices/Kenya",
          "all/Dairy produce; birds' eggs; natural honey; edible products of animal origin, not elsewhere specified or included/Netherlands",
          "all/Coffee, tea, mate and spices/Russian Federation",
          "all/Sugars and sugar confectionery/Netherlands",
          "all/Vegetables and certain roots and tubers; edible/Afghanistan",
          "all/Preparations of cereals, flour, starch or milk; pastrycooks' products/United Arab Emirates",
          "all/Coffee, tea, mate and spices/Bulgaria",
          "all/Coffee, tea, mate and spices/Norway",
          "all/Oil seeds and oleaginous fruits; miscellaneous grains, seeds and fruit, industrial or medicinal plants; straw and fodder/Sri Lanka",
          "all/Coffee, tea, mate and spices/Turkey",
          "all/Products of the milling industry; malt, starches, inulin, wheat gluten/Belarus",
          "all/Lac; gums, resins and other vegetable saps and extracts/Japan",
          "all/Cereals/Saudi Arabia",
          "all/Fruit and nuts, edible; peel of citrus fruit or melons/Zimbabwe",
          "all/Vegetables and certain roots and tubers; edible/United Arab Emirates",
          "all/Animal or vegetable fats and oils and their cleavage products; prepared animal fats; animal or vegetable waxes/USA",
          "all/Oil seeds and oleaginous fruits; miscellaneous grains, seeds and fruit, industrial or medicinal plants; straw and fodder/United Arab Emirates",
          "all/Coffee, tea, mate and spices/Costa Rica",
          "all/Cereals/Turkey",
          "all/Fruit and nuts, edible; peel of citrus fruit or melons/Australia",
          "all/Animal or vegetable fats and oils and their cleavage products; prepared animal fats; animal or vegetable waxes/Spain",
          "all/Fruit and nuts, edible; peel of citrus fruit or melons/Malaysia",
          "all/Fruit and nuts, edible; peel of citrus fruit or melons/Albania",
          "all/Dairy produce; birds' eggs; natural honey; edible products of animal origin, not elsewhere specified or included/Japan",
          "all/Dairy produce; birds' eggs; natural honey; edible products of animal origin, not elsewhere specified or included/Norway",
          "all/Fish and crustaceans, molluscs and other aquatic invertebrates/Viet Nam",
          "all/Fish and crustaceans, molluscs and other aquatic invertebrates/Other Europe, nes",
          "all/Meat and edible meat offal/Spain",
          "all/Sugars and sugar confectionery/Indonesia",
          "all/Meat and edible meat offal/Germany",
          "all/Cereals/Russian Federation",
          "all/Animal or vegetable fats and oils and their cleavage products; prepared animal fats; animal or vegetable waxes/Turkey",
          "all/Preparations of cereals, flour, starch or milk; pastrycooks' products/Thailand",
          "all/Fruit and nuts, edible; peel of citrus fruit or melons/China",
          "all/Preparations of cereals, flour, starch or milk; pastrycooks' products/Other Europe, nes",
          "all/Preparations of cereals, flour, starch or milk; pastrycooks' products/China, Hong Kong SAR",
          "all/Cereals/Indonesia",
          "all/Preparations of vegetables, fruit, nuts or other parts of plants/Oman",
          "all/Animals; live/Solomon Isds",
          "all/Lac; gums, resins and other vegetable saps and extracts/Denmark",
          "all/Lac; gums, resins and other vegetable saps and extracts/Indonesia",
          "all/Animals; live/United Arab Emirates",
          "all/Vegetables and certain roots and tubers; edible/Malaysia",
          "all/Animals; live/Viet Nam",
          "all/Fruit and nuts, edible; peel of citrus fruit or melons/Heard Island and McDonald Islands",
          "all/Animal or vegetable fats and oils and their cleavage products; prepared animal fats; animal or vegetable waxes/Portugal",
          "all/Animal originated products; not elsewhere specified or included/Uruguay",
          "all/Dairy produce; birds' eggs; natural honey; edible products of animal origin, not elsewhere specified or included/Malaysia",
          "all/Coffee, tea, mate and spices/Bahrain",
          "all/Cereals/Turkmenistan",
          "all/Oil seeds and oleaginous fruits; miscellaneous grains, seeds and fruit, industrial or medicinal plants; straw and fodder/Germany",
          "all/Meat and edible meat offal/Australia",
          "all/Cereals/Chile",
          "all/Oil seeds and oleaginous fruits; miscellaneous grains, seeds and fruit, industrial or medicinal plants; straw and fodder/Russian Federation",
          "all/Coffee, tea, mate and spices/Ethiopia",
          "all/Oil seeds and oleaginous fruits; miscellaneous grains, seeds and fruit, industrial or medicinal plants; straw and fodder/Poland",
          "all/Vegetables and certain roots and tubers; edible/Netherlands",
          "all/Dairy produce; birds' eggs; natural honey; edible products of animal origin, not elsewhere specified or included/Turkey",
          "all/Animal or vegetable fats and oils and their cleavage products; prepared animal fats; animal or vegetable waxes/Belgium",
          "all/Cereals/China",
          "all/Lac; gums, resins and other vegetable saps and extracts/Austria",
          "all/Preparations of cereals, flour, starch or milk; pastrycooks' products/Spain",
          "all/Coffee, tea, mate and spices/Ecuador",
          "all/Animal or vegetable fats and oils and their cleavage products; prepared animal fats; animal or vegetable waxes/United Kingdom",
          "all/Coffee, tea, mate and spices/Madagascar",
          "all/Animal or vegetable fats and oils and their cleavage products; prepared animal fats; animal or vegetable waxes/Sweden",
          "all/Fish and crustaceans, molluscs and other aquatic invertebrates/Thailand",
          "all/Animal or vegetable fats and oils and their cleavage products; prepared animal fats; animal or vegetable waxes/Switzerland",
          "all/Lac; gums, resins and other vegetable saps and extracts/Egypt",
          "all/Animal originated products; not elsewhere specified or included/Canada",
          "all/Fish and crustaceans, molluscs and other aquatic invertebrates/Colombia",
          "all/Cereals/Ukraine",
          "all/Animal originated products; not elsewhere specified or included/Italy",
          "all/Animals; live/Philippines",
          "all/Animals; live/Netherlands",
          "all/Meat, fish or crustaceans, molluscs or other aquatic invertebrates; preparations thereof/United Arab Emirates",
          "all/Animal or vegetable fats and oils and their cleavage products; prepared animal fats; animal or vegetable waxes/Iran",
          "all/Animal or vegetable fats and oils and their cleavage products; prepared animal fats; animal or vegetable waxes/Norway",
          "all/Sugars and sugar confectionery/Afghanistan",
          "all/Coffee, tea, mate and spices/Other Europe, nes",
          "all/Preparations of vegetables, fruit, nuts or other parts of plants/Italy",
          "all/Products of the milling industry; malt, starches, inulin, wheat gluten/Iran",
          "all/Dairy produce; birds' eggs; natural honey; edible products of animal origin, not elsewhere specified or included/Other Europe, nes",
          "all/Fruit and nuts, edible; peel of citrus fruit or melons/Viet Nam",
          "all/Coffee, tea, mate and spices/Uganda",
          "all/Fruit and nuts, edible; peel of citrus fruit or melons/Ecuador",
          "all/Animal originated products; not elsewhere specified or included/United Rep. of Tanzania",
          "all/Sugars and sugar confectionery/Denmark",
          "all/Animal originated products; not elsewhere specified or included/Denmark",
          "all/Products of the milling industry; malt, starches, inulin, wheat gluten/Netherlands",
          "all/Animal originated products; not elsewhere specified or included/Cyprus",
          "all/Lac; gums, resins and other vegetable saps and extracts/Viet Nam",
          "all/Preparations of cereals, flour, starch or milk; pastrycooks' products/Austria",
          "all/Animal originated products; not elsewhere specified or included/Indonesia",
          "all/Cereals/Italy",
          "all/Lac; gums, resins and other vegetable saps and extracts/Spain",
          "all/Animals; live/Other Europe, nes",
          "all/Preparations of vegetables, fruit, nuts or other parts of plants/Eswatini",
          "all/Vegetables and certain roots and tubers; edible/United Rep. of Tanzania",
          "all/Coffee, tea, mate and spices/Germany",
          "all/Preparations of vegetables, fruit, nuts or other parts of plants/Iran",
          "all/Dairy produce; birds' eggs; natural honey; edible products of animal origin, not elsewhere specified or included/Australia",
          "all/Oil seeds and oleaginous fruits; miscellaneous grains, seeds and fruit, industrial or medicinal plants; straw and fodder/Iran",
          "all/Vegetables and certain roots and tubers; edible/N. Mariana Isds",
          "all/Products of the milling industry; malt, starches, inulin, wheat gluten/Jordan",
          "all/Preparations of vegetables, fruit, nuts or other parts of plants/Indonesia",
          "all/Animal originated products; not elsewhere specified or included/Kenya",
          "all/Preparations of cereals, flour, starch or milk; pastrycooks' products/Italy",
          "all/Fish and crustaceans, molluscs and other aquatic invertebrates/Egypt",
          "all/Preparations of vegetables, fruit, nuts or other parts of plants/Afghanistan",
          "all/Preparations of cereals, flour, starch or milk; pastrycooks' products/Belarus",
          "all/Coffee, tea, mate and spices/Bhutan",
          "all/Sugars and sugar confectionery/USA",
          "all/Vegetables and certain roots and tubers; edible/Turkey",
          "all/Lac; gums, resins and other vegetable saps and extracts/Chile",
          "all/Animal originated products; not elsewhere specified or included/Other Europe, nes",
          "all/Oil seeds and oleaginous fruits; miscellaneous grains, seeds and fruit, industrial or medicinal plants; straw and fodder/Afghanistan",
          "all/Dairy produce; birds' eggs; natural honey; edible products of animal origin, not elsewhere specified or included/Ukraine",
          "all/Oil seeds and oleaginous fruits; miscellaneous grains, seeds and fruit, industrial or medicinal plants; straw and fodder/Morocco",
          "all/Fruit and nuts, edible; peel of citrus fruit or melons/Chile",
          "all/Coffee, tea, mate and spices/Australia",
          "all/Preparations of vegetables, fruit, nuts or other parts of plants/Jordan",
          "all/Oil seeds and oleaginous fruits; miscellaneous grains, seeds and fruit, industrial or medicinal plants; straw and fodder/Serbia",
          "all/Animal originated products; not elsewhere specified or included/Morocco",
          "all/Preparations of cereals, flour, starch or milk; pastrycooks' products/Eswatini",
          "all/Animal or vegetable fats and oils and their cleavage products; prepared animal fats; animal or vegetable waxes/Estonia",
          "all/Fruit and nuts, edible; peel of citrus fruit or melons/Saudi Arabia",
          "all/Dairy produce; birds' eggs; natural honey; edible products of animal origin, not elsewhere specified or included/Germany",
          "all/Coffee, tea, mate and spices/Malaysia",
          "all/Animal originated products; not elsewhere specified or included/Turkmenistan",
          "all/Fruit and nuts, edible; peel of citrus fruit or melons/Madagascar",
          "all/Animal or vegetable fats and oils and their cleavage products; prepared animal fats; animal or vegetable waxes/Uruguay",
          "all/Animal or vegetable fats and oils and their cleavage products; prepared animal fats; animal or vegetable waxes/Rep. of Korea",
          "all/Animals; live/Qatar",
          "all/Oil seeds and oleaginous fruits; miscellaneous grains, seeds and fruit, industrial or medicinal plants; straw and fodder/Namibia",
          "all/Vegetables and certain roots and tubers; edible/Antigua and Barbuda",
          "all/Preparations of cereals, flour, starch or milk; pastrycooks' products/Poland",
          "all/Vegetables and certain roots and tubers; edible/USA",
          "all/Preparations of cereals, flour, starch or milk; pastrycooks' products/Argentina",
          "all/Preparations of vegetables, fruit, nuts or other parts of plants/Other Europe, nes",
          "all/Preparations of cereals, flour, starch or milk; pastrycooks' products/Indonesia",
          "all/Oil seeds and oleaginous fruits; miscellaneous grains, seeds and fruit, industrial or medicinal plants; straw and fodder/Bulgaria",
          "all/Cereals/Bulgaria",
          "all/Vegetables and certain roots and tubers; edible/Algeria",
          "all/Preparations of vegetables, fruit, nuts or other parts of plants/Netherlands",
          "all/Coffee, tea, mate and spices/Italy",
          "all/Animal originated products; not elsewhere specified or included/Turkey",
          "all/Meat and edible meat offal/Albania",
          "all/Sugars and sugar confectionery/United Kingdom",
          "all/Meat, fish or crustaceans, molluscs or other aquatic invertebrates; preparations thereof/Viet Nam",
          "all/Vegetables and certain roots and tubers; edible/Barbados",
          "all/Fruit and nuts, edible; peel of citrus fruit or melons/Costa Rica",
          "all/Preparations of cereals, flour, starch or milk; pastrycooks' products/Switzerland",
          "all/Oil seeds and oleaginous fruits; miscellaneous grains, seeds and fruit, industrial or medicinal plants; straw and fodder/Bolivia (Plurinational State of)",
          "all/Lac; gums, resins and other vegetable saps and extracts/Sri Lanka",
          "all/Dairy produce; birds' eggs; natural honey; edible products of animal origin, not elsewhere specified or included/Belarus",
          "all/Fruit and nuts, edible; peel of citrus fruit or melons/Thailand",
          "all/Sugars and sugar confectionery/Austria",
          "all/Fruit and nuts, edible; peel of citrus fruit or melons/Egypt",
          "all/Animal or vegetable fats and oils and their cleavage products; prepared animal fats; animal or vegetable waxes/Mexico",
          "all/Animal or vegetable fats and oils and their cleavage products; prepared animal fats; animal or vegetable waxes/Argentina",
          "all/Oil seeds and oleaginous fruits; miscellaneous grains, seeds and fruit, industrial or medicinal plants; straw and fodder/Egypt",
          "all/Lac; gums, resins and other vegetable saps and extracts/Mexico",
          "all/Sugars and sugar confectionery/Greece",
          "all/Oil seeds and oleaginous fruits; miscellaneous grains, seeds and fruit, industrial or medicinal plants; straw and fodder/Ukraine",
          "all/Lac; gums, resins and other vegetable saps and extracts/Belgium",
          "all/Coffee, tea, mate and spices/Nepal",
          "all/Vegetables and certain roots and tubers; edible/Madagascar",
          "all/Animal or vegetable fats and oils and their cleavage products; prepared animal fats; animal or vegetable waxes/India",
          "all/Animal originated products; not elsewhere specified or included/Czechia",
          "all/Cereals/Uzbekistan",
          "all/Oil seeds and oleaginous fruits; miscellaneous grains, seeds and fruit, industrial or medicinal plants; straw and fodder/Cameroon",
          "all/Preparations of vegetables, fruit, nuts or other parts of plants/Viet Nam",
          "all/Coffee, tea, mate and spices/Syria",
          "all/Oil seeds and oleaginous fruits; miscellaneous grains, seeds and fruit, industrial or medicinal plants; straw and fodder/Philippines",
          "all/Meat, fish or crustaceans, molluscs or other aquatic invertebrates; preparations thereof/Iran",
          "all/Fruit and nuts, edible; peel of citrus fruit or melons/Iran",
          "all/Coffee, tea, mate and spices/United Kingdom",
          "all/Animal or vegetable fats and oils and their cleavage products; prepared animal fats; animal or vegetable waxes/New Zealand",
          "all/Products of the milling industry; malt, starches, inulin, wheat gluten/Other Europe, nes",
          "all/Sugars and sugar confectionery/Japan",
          "all/Coffee, tea, mate and spices/USA",
          "all/Fruit and nuts, edible; peel of citrus fruit or melons/Iraq",
          "all/Coffee, tea, mate and spices/Myanmar",
          "all/Fruit and nuts, edible; peel of citrus fruit or melons/Antigua and Barbuda",
          "all/Coffee, tea, mate and spices/Spain",
          "all/Vegetables and certain roots and tubers; edible/Australia",
          "all/Dairy produce; birds' eggs; natural honey; edible products of animal origin, not elsewhere specified or included/Spain",
          "all/Preparations of vegetables, fruit, nuts or other parts of plants/Chile",
          "all/Dairy produce; birds' eggs; natural honey; edible products of animal origin, not elsewhere specified or included/Afghanistan",
          "all/Oil seeds and oleaginous fruits; miscellaneous grains, seeds and fruit, industrial or medicinal plants; straw and fodder/Jordan",
          "all/Coffee, tea, mate and spices/Singapore",
          "all/Sugars and sugar confectionery/Saudi Arabia",
          "all/Cereals/Brazil",
          "all/Oil seeds and oleaginous fruits; miscellaneous grains, seeds and fruit, industrial or medicinal plants; straw and fodder/Paraguay",
          "all/Vegetables and certain roots and tubers; edible/Rep. of Moldova",
          "all/Oil seeds and oleaginous fruits; miscellaneous grains, seeds and fruit, industrial or medicinal plants; straw and fodder/Albania",
          "all/Meat, fish or crustaceans, molluscs or other aquatic invertebrates; preparations thereof/Turkey",
          "all/Lac; gums, resins and other vegetable saps and extracts/United Arab Emirates",
          "all/Meat and edible meat offal/Malaysia",
          "all/Products of the milling industry; malt, starches, inulin, wheat gluten/Denmark",
          "all/Preparations of vegetables, fruit, nuts or other parts of plants/Spain",
          "all/Oil seeds and oleaginous fruits; miscellaneous grains, seeds and fruit, industrial or medicinal plants; straw and fodder/China",
          "all/Animal or vegetable fats and oils and their cleavage products; prepared animal fats; animal or vegetable waxes/Italy",
          "all/Vegetables and certain roots and tubers; edible/Other Europe, nes",
          "all/Animal or vegetable fats and oils and their cleavage products; prepared animal fats; animal or vegetable waxes/Brazil",
          "all/Coffee, tea, mate and spices/Japan",
          "all/Meat and edible meat offal/Zambia",
          "all/Oil seeds and oleaginous fruits; miscellaneous grains, seeds and fruit, industrial or medicinal plants; straw and fodder/Italy",
          "all/Preparations of cereals, flour, starch or milk; pastrycooks' products/Netherlands",
          "all/Animal or vegetable fats and oils and their cleavage products; prepared animal fats; animal or vegetable waxes/Other Europe, nes",
          "all/Animal or vegetable fats and oils and their cleavage products; prepared animal fats; animal or vegetable waxes/Bulgaria",
          "all/Dairy produce; birds' eggs; natural honey; edible products of animal origin, not elsewhere specified or included/Uganda",
          "all/Animal or vegetable fats and oils and their cleavage products; prepared animal fats; animal or vegetable waxes/Oman",
          "all/Products of the milling industry; malt, starches, inulin, wheat gluten/Belgium",
          "all/Meat and edible meat offal/Norway",
          "all/Coffee, tea, mate and spices/Mexico",
          "all/Lac; gums, resins and other vegetable saps and extracts/Other Europe, nes",
          "all/Coffee, tea, mate and spices/Colombia",
          "all/Preparations of vegetables, fruit, nuts or other parts of plants/United Arab Emirates",
          "all/Animals; live/Malaysia",
          "all/Animal or vegetable fats and oils and their cleavage products; prepared animal fats; animal or vegetable waxes/Malaysia",
          "all/Preparations of cereals, flour, starch or milk; pastrycooks' products/Equatorial Guinea",
          "all/Lac; gums, resins and other vegetable saps and extracts/United Rep. of Tanzania",
          "all/Coffee, tea, mate and spices/United Rep. of Tanzania",
          "all/Preparations of vegetables, fruit, nuts or other parts of plants/Egypt",
          "all/Fruit and nuts, edible; peel of citrus fruit or melons/Turkey",
          "all/Fruit and nuts, edible; peel of citrus fruit or melons/Spain",
          "all/Animals; live/China",
          "all/Oil seeds and oleaginous fruits; miscellaneous grains, seeds and fruit, industrial or medicinal plants; straw and fodder/Bangladesh",
          "all/Meat, fish or crustaceans, molluscs or other aquatic invertebrates; preparations thereof/Thailand",
          "all/Preparations of cereals, flour, starch or milk; pastrycooks' products/Denmark",
          "all/Vegetables and certain roots and tubers; edible/Montenegro",
          "all/Dairy produce; birds' eggs; natural honey; edible products of animal origin, not elsewhere specified or included/Denmark",
          "all/Oil seeds and oleaginous fruits; miscellaneous grains, seeds and fruit, industrial or medicinal plants; straw and fodder/Madagascar",
          "all/Preparations of vegetables, fruit, nuts or other parts of plants/Bahrain",
          "all/Preparations of vegetables, fruit, nuts or other parts of plants/Switzerland",
          "all/Coffee, tea, mate and spices/Sierra Leone",
          "all/Animal originated products; not elsewhere specified or included/Iran",
          "all/Sugars and sugar confectionery/Slovakia",
          "all/Meat, fish or crustaceans, molluscs or other aquatic invertebrates; preparations thereof/Australia",
          "all/Sugars and sugar confectionery/Jordan",
          "all/Fruit and nuts, edible; peel of citrus fruit or melons/Argentina",
          "all/Vegetables and certain roots and tubers; edible/Bulgaria",
          "all/Sugars and sugar confectionery/India",
          "all/Lac; gums, resins and other vegetable saps and extracts/Afghanistan",
          "all/Animal or vegetable fats and oils and their cleavage products; prepared animal fats; animal or vegetable waxes/Canada",
          "all/Dairy produce; birds' eggs; natural honey; edible products of animal origin, not elsewhere specified or included/Saudi Arabia",
          "all/Products of the milling industry; malt, starches, inulin, wheat gluten/United Arab Emirates",
          "all/Animals; live/USA",
          "all/Animals; live/Rep. of Korea",
          "all/Lac; gums, resins and other vegetable saps and extracts/Rep. of Korea",
          "all/Preparations of vegetables, fruit, nuts or other parts of plants/Germany",
          "all/Lac; gums, resins and other vegetable saps and extracts/Chad",
          "all/Animals; live/Germany",
          "all/Cereals/Romania",
          "all/Vegetables and certain roots and tubers; edible/Morocco",
          "all/Lac; gums, resins and other vegetable saps and extracts/Greece",
          "all/Oil seeds and oleaginous fruits; miscellaneous grains, seeds and fruit, industrial or medicinal plants; straw and fodder/Viet Nam",
          "all/Cereals/Mexico",
          "all/Animals; live/Lebanon",
          "all/Coffee, tea, mate and spices/Kazakhstan",
          "all/Fruit and nuts, edible; peel of citrus fruit or melons/Afghanistan",
          "all/Cereals/Germany",
          "all/Oil seeds and oleaginous fruits; miscellaneous grains, seeds and fruit, industrial or medicinal plants; straw and fodder/United Rep. of Tanzania",
          "all/Lac; gums, resins and other vegetable saps and extracts/Turkey",
          "all/Animal originated products; not elsewhere specified or included/Colombia",
          "all/Oil seeds and oleaginous fruits; miscellaneous grains, seeds and fruit, industrial or medicinal plants; straw and fodder/Central African Rep.",
          "all/Animal originated products; not elsewhere specified or included/Spain",
          "all/Lac; gums, resins and other vegetable saps and extracts/Eswatini",
          "all/Animal originated products; not elsewhere specified or included/USA",
          "all/Products of the milling industry; malt, starches, inulin, wheat gluten/USA",
          "all/Oil seeds and oleaginous fruits; miscellaneous grains, seeds and fruit, industrial or medicinal plants; straw and fodder/Australia",
          "all/Vegetables and certain roots and tubers; edible/Romania",
          "all/Animals; live/Bulgaria",
          "all/Preparations of vegetables, fruit, nuts or other parts of plants/China",
          "all/Animal originated products; not elsewhere specified or included/Rep. of Korea",
          "all/Cereals/Hungary",
          "all/Vegetables and certain roots and tubers; edible/Uganda",
          "all/Products of the milling industry; malt, starches, inulin, wheat gluten/India",
          "all/Animal originated products; not elsewhere specified or included/Brazil",
          "all/Coffee, tea, mate and spices/Argentina",
          "all/Cereals/Peru",
          "all/Cereals/Iran",
          "all/Sugars and sugar confectionery/Ireland",
          "all/Preparations of vegetables, fruit, nuts or other parts of plants/Other Asia, nes",
          "all/Lac; gums, resins and other vegetable saps and extracts/Italy",
          "all/Animal or vegetable fats and oils and their cleavage products; prepared animal fats; animal or vegetable waxes/Qatar",
          "all/Lac; gums, resins and other vegetable saps and extracts/Thailand",
          "all/Dairy produce; birds' eggs; natural honey; edible products of animal origin, not elsewhere specified or included/USA",
          "all/Preparations of vegetables, fruit, nuts or other parts of plants/Ukraine",
          "all/Meat and edible meat offal/Turkey",
          "all/Animals; live/Other Asia, nes",
          "all/Dairy produce; birds' eggs; natural honey; edible products of animal origin, not elsewhere specified or included/United Kingdom",
          "all/Products of the milling industry; malt, starches, inulin, wheat gluten/Spain",
          "all/Animals; live/New Zealand",
          "all/Animal or vegetable fats and oils and their cleavage products; prepared animal fats; animal or vegetable waxes/Singapore",
          "all/Products of the milling industry; malt, starches, inulin, wheat gluten/Saudi Arabia",
          "all/Sugars and sugar confectionery/Rep. of Korea",
          "all/Sugars and sugar confectionery/Philippines",
          "all/Preparations of cereals, flour, starch or milk; pastrycooks' products/Philippines",
          "all/Fruit and nuts, edible; peel of citrus fruit or melons/Uzbekistan",
          "all/Vegetables and certain roots and tubers; edible/Syria",
          "all/Fruit and nuts, edible; peel of citrus fruit or melons/United Arab Emirates",
          "all/Meat, fish or crustaceans, molluscs or other aquatic invertebrates; preparations thereof/Malaysia",
          "all/Cereals/Canada",
          "all/Animals; live/Czechia",
          "all/Animal originated products; not elsewhere specified or included/Japan",
          "all/Animal originated products; not elsewhere specified or included/Germany",
          "all/Vegetables and certain roots and tubers; edible/Canada",
          "all/Products of the milling industry; malt, starches, inulin, wheat gluten/Japan",
          "all/Products of the milling industry; malt, starches, inulin, wheat gluten/Chile",
          "all/Animal originated products; not elsewhere specified or included/Ireland",
          "all/Meat, fish or crustaceans, molluscs or other aquatic invertebrates; preparations thereof/China",
          "all/Animal or vegetable fats and oils and their cleavage products; prepared animal fats; animal or vegetable waxes/Egypt",
          "all/Animal or vegetable fats and oils and their cleavage products; prepared animal fats; animal or vegetable waxes/France",
          "all/Lac; gums, resins and other vegetable saps and extracts/Iran",
          "all/Fruit and nuts, edible; peel of citrus fruit or melons/Belgium",
          "all/Animals; live/Japan",
          "all/Oil seeds and oleaginous fruits; miscellaneous grains, seeds and fruit, industrial or medicinal plants; straw and fodder/Hungary",
          "all/Preparations of vegetables, fruit, nuts or other parts of plants/Australia",
          "all/Oil seeds and oleaginous fruits; miscellaneous grains, seeds and fruit, industrial or medicinal plants; straw and fodder/Nigeria",
          "all/Sugars and sugar confectionery/Canada",
          "all/Dairy produce; birds' eggs; natural honey; edible products of animal origin, not elsewhere specified or included/Hungary",
          "all/Meat and edible meat offal/Iran",
          "all/Coffee, tea, mate and spices/Afghanistan",
          "all/Dairy produce; birds' eggs; natural honey; edible products of animal origin, not elsewhere specified or included/Canada",
          "all/Cereals/USA",
          "all/Animals; live/Argentina",
          "all/Preparations of vegetables, fruit, nuts or other parts of plants/Ecuador",
          "all/Dairy produce; birds' eggs; natural honey; edible products of animal origin, not elsewhere specified or included/New Zealand",
          "all/Oil seeds and oleaginous fruits; miscellaneous grains, seeds and fruit, industrial or medicinal plants; straw and fodder/Turkey",
          "all/Vegetables and certain roots and tubers; edible/Albania",
          "all/Animals; live/Cyprus",
          "all/Animal or vegetable fats and oils and their cleavage products; prepared animal fats; animal or vegetable waxes/Paraguay",
          "all/Sugars and sugar confectionery/Spain",
          "all/Dairy produce; birds' eggs; natural honey; edible products of animal origin, not elsewhere specified or included/Oman",
          "all/Sugars and sugar confectionery/Algeria",
          "all/Preparations of cereals, flour, starch or milk; pastrycooks' products/Chile",
          "all/Animal or vegetable fats and oils and their cleavage products; prepared animal fats; animal or vegetable waxes/Other Asia, nes",
          "all/Coffee, tea, mate and spices/Papua New Guinea",
          "all/Preparations of vegetables, fruit, nuts or other parts of plants/Saudi Arabia",
          "all/Products of the milling industry; malt, starches, inulin, wheat gluten/Philippines",
          "all/Preparations of vegetables, fruit, nuts or other parts of plants/Philippines",
          "all/Animal or vegetable fats and oils and their cleavage products; prepared animal fats; animal or vegetable waxes/Thailand",
          "all/Animal originated products; not elsewhere specified or included/Iraq",
          "all/Preparations of cereals, flour, starch or milk; pastrycooks' products/China",
          "all/Products of the milling industry; malt, starches, inulin, wheat gluten/United Kingdom",
          "all/Animals; live/Suriname",
          "all/Oil seeds and oleaginous fruits; miscellaneous grains, seeds and fruit, industrial or medicinal plants; straw and fodder/Chile",
          "all/Coffee, tea, mate and spices/Saudi Arabia",
          "all/Dairy produce; birds' eggs; natural honey; edible products of animal origin, not elsewhere specified or included/Switzerland",
          "all/Fruit and nuts, edible; peel of citrus fruit or melons/Ukraine",
          "all/Fruit and nuts, edible; peel of citrus fruit or melons/Mozambique",
          "all/Animals; live/Saudi Arabia",
          "all/Lac; gums, resins and other vegetable saps and extracts/Malaysia",
          "all/Fruit and nuts, edible; peel of citrus fruit or melons/Mexico",
          "all/Animal or vegetable fats and oils and their cleavage products; prepared animal fats; animal or vegetable waxes/Jordan",
          "all/Oil seeds and oleaginous fruits; miscellaneous grains, seeds and fruit, industrial or medicinal plants; straw and fodder/Belgium",
          "all/Sugars and sugar confectionery/Belgium",
          "all/Fruit and nuts, edible; peel of citrus fruit or melons/Singapore",
          "all/Preparations of cereals, flour, starch or milk; pastrycooks' products/Montenegro",
          "all/Meat and edible meat offal/Uruguay",
          "all/Sugars and sugar confectionery/Viet Nam",
          "all/Animals; live/United Kingdom",
          "all/Meat and edible meat offal/United Arab Emirates",
          "all/Dairy produce; birds' eggs; natural honey; edible products of animal origin, not elsewhere specified or included/Lithuania",
          "all/Animal or vegetable fats and oils and their cleavage products; prepared animal fats; animal or vegetable waxes/Germany",
          "all/Coffee, tea, mate and spices/Brazil",
          "all/Vegetables and certain roots and tubers; edible/Kenya",
          "all/Animals; live/Spain",
          "all/Cereals/Rep. of Korea",
          "all/Meat, fish or crustaceans, molluscs or other aquatic invertebrates; preparations thereof/Jordan",
          "all/Oil seeds and oleaginous fruits; miscellaneous grains, seeds and fruit, industrial or medicinal plants; straw and fodder/Netherlands",
          "all/Fruit and nuts, edible; peel of citrus fruit or melons/Netherlands",
          "all/Preparations of cereals, flour, starch or milk; pastrycooks' products/Egypt",
          "all/Vegetables and certain roots and tubers; edible/Myanmar",
          "all/Coffee, tea, mate and spices/Malawi",
          "all/Coffee, tea, mate and spices/Burundi",
          "all/Animal originated products; not elsewhere specified or included/France",
          "all/Sugars and sugar confectionery/Brazil",
          "all/Preparations of cereals, flour, starch or milk; pastrycooks' products/Brazil",
          "all/Oil seeds and oleaginous fruits; miscellaneous grains, seeds and fruit, industrial or medicinal plants; straw and fodder/South Africa",
          "all/Sugars and sugar confectionery/Egypt",
          "all/Preparations of cereals, flour, starch or milk; pastrycooks' products/Bangladesh",
          "all/Fruit and nuts, edible; peel of citrus fruit or melons/Philippines",
          "all/Dairy produce; birds' eggs; natural honey; edible products of animal origin, not elsewhere specified or included/Austria",
          "all/Animals; live/France",
          "all/Products of the milling industry; malt, starches, inulin, wheat gluten/Sri Lanka",
          "all/Coffee, tea, mate and spices/Egypt",
          "all/Oil seeds and oleaginous fruits; miscellaneous grains, seeds and fruit, industrial or medicinal plants; straw and fodder/India",
          "all/Fruit and nuts, edible; peel of citrus fruit or melons/Sri Lanka",
          "all/Animals; live/Sri Lanka",
          "all/Lac; gums, resins and other vegetable saps and extracts/Uzbekistan",
          "all/Vegetables and certain roots and tubers; edible/France",
          "all/Preparations of cereals, flour, starch or milk; pastrycooks' products/Rep. of Korea",
          "all/Lac; gums, resins and other vegetable saps and extracts/Portugal",
          "all/Sugars and sugar confectionery/Germany",
          "all/Preparations of cereals, flour, starch or milk; pastrycooks' products/Czechia",
          "all/Products of the milling industry; malt, starches, inulin, wheat gluten/Slovakia",
          "all/Preparations of cereals, flour, starch or milk; pastrycooks' products/Saudi Arabia",
          "all/Preparations of cereals, flour, starch or milk; pastrycooks' products/Malaysia",
          "all/Preparations of cereals, flour, starch or milk; pastrycooks' products/Viet Nam",
          "all/Preparations of cereals, flour, starch or milk; pastrycooks' products/Jordan",
          "all/Lac; gums, resins and other vegetable saps and extracts/Netherlands",
          "all/Lac; gums, resins and other vegetable saps and extracts/United Kingdom",
          "all/Fruit and nuts, edible; peel of citrus fruit or melons/USA",
          "all/Lac; gums, resins and other vegetable saps and extracts/Switzerland",
          "all/Cereals/Afghanistan",
          "all/Dairy produce; birds' eggs; natural honey; edible products of animal origin, not elsewhere specified or included/United Arab Emirates",
          "all/Meat and edible meat offal/New Zealand",
          "all/Oil seeds and oleaginous fruits; miscellaneous grains, seeds and fruit, industrial or medicinal plants; straw and fodder/Mexico",
          "all/Preparations of vegetables, fruit, nuts or other parts of plants/Turkey",
          "all/Lac; gums, resins and other vegetable saps and extracts/Kenya",
          "all/Animals; live/Oman",
          "all/Lac; gums, resins and other vegetable saps and extracts/Brazil",
          "all/Fruit and nuts, edible; peel of citrus fruit or melons/Marshall Isds",
          "all/Dairy produce; birds' eggs; natural honey; edible products of animal origin, not elsewhere specified or included/Iran",
          "all/Animals; live/Belgium",
          "all/Dairy produce; birds' eggs; natural honey; edible products of animal origin, not elsewhere specified or included/Thailand",
          "all/Sugars and sugar confectionery/Italy",
          "all/Meat and edible meat offal/China",
          "all/Preparations of vegetables, fruit, nuts or other parts of plants/United Kingdom",
          "all/Lac; gums, resins and other vegetable saps and extracts/China",
          "all/Animal or vegetable fats and oils and their cleavage products; prepared animal fats; animal or vegetable waxes/China",
          "all/Coffee, tea, mate and spices/Other Asia, nes",
          "all/Preparations of cereals, flour, starch or milk; pastrycooks' products/Ireland",
          "all/Dairy produce; birds' eggs; natural honey; edible products of animal origin, not elsewhere specified or included/Belgium",
          "all/Vegetables and certain roots and tubers; edible/Singapore",
          "all/Fish and crustaceans, molluscs and other aquatic invertebrates/United Arab Emirates",
          "all/Cereals/France",
          "all/Animals; live/Bahrain",
          "all/Fruit and nuts, edible; peel of citrus fruit or melons/United Kingdom",
          "all/Animals; live/Serbia",
          "all/Oil seeds and oleaginous fruits; miscellaneous grains, seeds and fruit, industrial or medicinal plants; straw and fodder/Switzerland",
          "all/Meat, fish or crustaceans, molluscs or other aquatic invertebrates; preparations thereof/Egypt",
          "all/Preparations of cereals, flour, starch or milk; pastrycooks' products/Australia",
          "all/Vegetables and certain roots and tubers; edible/Brazil",
          "all/Dairy produce; birds' eggs; natural honey; edible products of animal origin, not elsewhere specified or included/Egypt",
          "all/Fish and crustaceans, molluscs and other aquatic invertebrates/USA",
          "all/Products of the milling industry; malt, starches, inulin, wheat gluten/Canada",
          "all/Sugars and sugar confectionery/Turkey",
          "all/Preparations of cereals, flour, starch or milk; pastrycooks' products/Turkey",
          "all/Animal or vegetable fats and oils and their cleavage products; prepared animal fats; animal or vegetable waxes/Sri Lanka",
          "all/Animal or vegetable fats and oils and their cleavage products; prepared animal fats; animal or vegetable waxes/Denmark",
          "all/Coffee, tea, mate and spices/Thailand",
          "all/Lac; gums, resins and other vegetable saps and extracts/Sudan",
          "all/Vegetables and certain roots and tubers; edible/Sudan",
          "all/Fruit and nuts, edible; peel of citrus fruit or melons/Brazil",
          "all/Animal originated products; not elsewhere specified or included/China",
          "all/Animal or vegetable fats and oils and their cleavage products; prepared animal fats; animal or vegetable waxes/Eswatini",
          "all/Lac; gums, resins and other vegetable saps and extracts/Philippines",
          "all/Oil seeds and oleaginous fruits; miscellaneous grains, seeds and fruit, industrial or medicinal plants; straw and fodder/Rep. of Korea",
          "all/Preparations of vegetables, fruit, nuts or other parts of plants/Japan",
          "all/Animal or vegetable fats and oils and their cleavage products; prepared animal fats; animal or vegetable waxes/Lebanon",
          "all/Coffee, tea, mate and spices/Guatemala",
          "all/Animal or vegetable fats and oils and their cleavage products; prepared animal fats; animal or vegetable waxes/Netherlands",
          "all/Preparations of vegetables, fruit, nuts or other parts of plants/Portugal",
          "all/Animals; live/Kuwait",
          "all/Dairy produce; birds' eggs; natural honey; edible products of animal origin, not elsewhere specified or included/Portugal",
          "all/Oil seeds and oleaginous fruits; miscellaneous grains, seeds and fruit, industrial or medicinal plants; straw and fodder/Uzbekistan",
          "all/Dairy produce; birds' eggs; natural honey; edible products of animal origin, not elsewhere specified or included/Ireland",
          "all/Meat, fish or crustaceans, molluscs or other aquatic invertebrates; preparations thereof/Saudi Arabia",
          "all/Preparations of cereals, flour, starch or milk; pastrycooks' products/India",
          "all/Oil seeds and oleaginous fruits; miscellaneous grains, seeds and fruit, industrial or medicinal plants; straw and fodder/Other Europe, nes",
          "all/Sugars and sugar confectionery/Other Europe, nes",
          "all/Animal or vegetable fats and oils and their cleavage products; prepared animal fats; animal or vegetable waxes/Panama",
          "all/Oil seeds and oleaginous fruits; miscellaneous grains, seeds and fruit, industrial or medicinal plants; straw and fodder/Myanmar",
          "all/Oil seeds and oleaginous fruits; miscellaneous grains, seeds and fruit, industrial or medicinal plants; straw and fodder/Kenya",
          "all/Coffee, tea, mate and spices/Viet Nam",
          "all/Oil seeds and oleaginous fruits; miscellaneous grains, seeds and fruit, industrial or medicinal plants; straw and fodder/Other Asia, nes",
          "all/Cereals/Argentina",
          "all/Coffee, tea, mate and spices/Iran",
          "all/Lac; gums, resins and other vegetable saps and extracts/Nigeria",
          "all/Preparations of cereals, flour, starch or milk; pastrycooks' products/Germany",
          "all/Preparations of vegetables, fruit, nuts or other parts of plants/Mexico",
          "all/Preparations of vegetables, fruit, nuts or other parts of plants/Malaysia",
          "all/Oil seeds and oleaginous fruits; miscellaneous grains, seeds and fruit, industrial or medicinal plants; straw and fodder/Montenegro",
          "all/Vegetables and certain roots and tubers; edible/Italy",
          "all/Sugars and sugar confectionery/France",
          "all/Oil seeds and oleaginous fruits; miscellaneous grains, seeds and fruit, industrial or medicinal plants; straw and fodder/New Zealand",
          "all/Preparations of vegetables, fruit, nuts or other parts of plants/Thailand",
          "all/Oil seeds and oleaginous fruits; miscellaneous grains, seeds and fruit, industrial or medicinal plants; straw and fodder/USA",
          "all/Animal or vegetable fats and oils and their cleavage products; prepared animal fats; animal or vegetable waxes/Saudi Arabia",
          "all/Animal or vegetable fats and oils and their cleavage products; prepared animal fats; animal or vegetable waxes/Tunisia",
          "all/Lac; gums, resins and other vegetable saps and extracts/Mali",
          "all/Fruit and nuts, edible; peel of citrus fruit or melons/Indonesia",
          "all/Animal or vegetable fats and oils and their cleavage products; prepared animal fats; animal or vegetable waxes/United Arab Emirates",
          "all/Preparations of vegetables, fruit, nuts or other parts of plants/China, Hong Kong SAR",
          "all/Fruit and nuts, edible; peel of citrus fruit or melons/Jordan",
          "all/Sugars and sugar confectionery/Slovenia",
          "all/Cereals/Australia",
          "all/Sugars and sugar confectionery/Bahamas",
          "all/Coffee, tea, mate and spices/Nigeria",
          "all/Animal originated products; not elsewhere specified or included/Netherlands",
          "all/Cereals/Thailand",
          "all/Preparations of vegetables, fruit, nuts or other parts of plants/Canada",
          "all/Preparations of cereals, flour, starch or milk; pastrycooks' products/Other Asia, nes",
          "all/Fruit and nuts, edible; peel of citrus fruit or melons/Kenya",
          "all/Products of the milling industry; malt, starches, inulin, wheat gluten/Turkey",
          "all/Vegetables and certain roots and tubers; edible/Iran",
          "all/Animals; live/Ireland",
          "all/Oil seeds and oleaginous fruits; miscellaneous grains, seeds and fruit, industrial or medicinal plants; straw and fodder/Algeria",
          "all/Fish and crustaceans, molluscs and other aquatic invertebrates/Norway",
          "all/Animal or vegetable fats and oils and their cleavage products; prepared animal fats; animal or vegetable waxes/Japan",
          "all/Lac; gums, resins and other vegetable saps and extracts/USA",
          "all/Fish and crustaceans, molluscs and other aquatic invertebrates/Iran",
          "all/Oil seeds and oleaginous fruits; miscellaneous grains, seeds and fruit, industrial or medicinal plants; straw and fodder/Japan",
          "all/Meat and edible meat offal/Saudi Arabia",
          "all/Oil seeds and oleaginous fruits; miscellaneous grains, seeds and fruit, industrial or medicinal plants; straw and fodder/Brazil",
          "all/Animal originated products; not elsewhere specified or included/Belgium",
          "all/Dairy produce; birds' eggs; natural honey; edible products of animal origin, not elsewhere specified or included/France",
          "all/Oil seeds and oleaginous fruits; miscellaneous grains, seeds and fruit, industrial or medicinal plants; straw and fodder/Malaysia",
          "all/Vegetables and certain roots and tubers; edible/Sierra Leone",
          "all/Preparations of cereals, flour, starch or milk; pastrycooks' products/Singapore",
          "all/Products of the milling industry; malt, starches, inulin, wheat gluten/France",
          "all/Meat and edible meat offal/South Africa",
          "all/Products of the milling industry; malt, starches, inulin, wheat gluten/Germany",
          "all/Preparations of vegetables, fruit, nuts or other parts of plants/Rep. of Korea",
          "all/Coffee, tea, mate and spices/United Arab Emirates",
          "all/Animal or vegetable fats and oils and their cleavage products; prepared animal fats; animal or vegetable waxes/Bahrain",
          "all/Products of the milling industry; malt, starches, inulin, wheat gluten/Ukraine",
          "all/Animals; live/Egypt",
          "all/Meat and edible meat offal/United Kingdom",
          "all/Coffee, tea, mate and spices/Sri Lanka",
          "all/Animal originated products; not elsewhere specified or included/Austria",
          "all/Dairy produce; birds' eggs; natural honey; edible products of animal origin, not elsewhere specified or included/Czechia",
          "all/Lac; gums, resins and other vegetable saps and extracts/India",
          "all/Dairy produce; birds' eggs; natural honey; edible products of animal origin, not elsewhere specified or included/Poland",
          "all/Dairy produce; birds' eggs; natural honey; edible products of animal origin, not elsewhere specified or included/Philippines",
          "all/Preparations of cereals, flour, starch or milk; pastrycooks' products/New Zealand",
          "all/Animals; live/Afghanistan",
          "all/Preparations of cereals, flour, starch or milk; pastrycooks' products/Uzbekistan",
          "all/Coffee, tea, mate and spices/Canada",
          "all/Fruit and nuts, edible; peel of citrus fruit or melons/Myanmar",
          "all/Coffee, tea, mate and spices/Yemen",
          "all/Meat and edible meat offal/Jordan",
          "all/Preparations of vegetables, fruit, nuts or other parts of plants/USA",
          "all/Preparations of cereals, flour, starch or milk; pastrycooks' products/Lithuania",
          "all/Oil seeds and oleaginous fruits; miscellaneous grains, seeds and fruit, industrial or medicinal plants; straw and fodder/Belize",
          "all/Animal or vegetable fats and oils and their cleavage products; prepared animal fats; animal or vegetable waxes/Kuwait",
          "all/Cereals/United Arab Emirates",
          "all/Oil seeds and oleaginous fruits; miscellaneous grains, seeds and fruit, industrial or medicinal plants; straw and fodder/Nepal",
          "all/Coffee, tea, mate and spices/Montenegro",
          "all/Preparations of vegetables, fruit, nuts or other parts of plants/Belgium",
          "all/Preparations of cereals, flour, starch or milk; pastrycooks' products/Iran",
          "all/Preparations of cereals, flour, starch or milk; pastrycooks' products/Canada",
          "all/Vegetables and certain roots and tubers; edible/Poland",
          "all/Oil seeds and oleaginous fruits; miscellaneous grains, seeds and fruit, industrial or medicinal plants; straw and fodder/Ecuador",
          "all/Animals; live/Guyana",
          "all/Meat and edible meat offal/Egypt",
          "all/Animal or vegetable fats and oils and their cleavage products; prepared animal fats; animal or vegetable waxes/Ghana",
          "all/Vegetables and certain roots and tubers; edible/Argentina",
          "all/Fruit and nuts, edible; peel of citrus fruit or melons/South Africa",
          "all/Oil seeds and oleaginous fruits; miscellaneous grains, seeds and fruit, industrial or medicinal plants; straw and fodder/El Salvador",
          "all/Products of the milling industry; malt, starches, inulin, wheat gluten/Malaysia",
          "all/Vegetables and certain roots and tubers; edible/Russian Federation",
          "all/Preparations of vegetables, fruit, nuts or other parts of plants/France",
          "all/Oil seeds and oleaginous fruits; miscellaneous grains, seeds and fruit, industrial or medicinal plants; straw and fodder/Sierra Leone",
          "all/Animal or vegetable fats and oils and their cleavage products; prepared animal fats; animal or vegetable waxes/Australia",
          "all/Oil seeds and oleaginous fruits; miscellaneous grains, seeds and fruit, industrial or medicinal plants; straw and fodder/France",
          "all/Lac; gums, resins and other vegetable saps and extracts/Saudi Arabia",
          "all/Preparations of vegetables, fruit, nuts or other parts of plants/Poland",
          "all/Preparations of vegetables, fruit, nuts or other parts of plants/New Zealand",
          "all/Fish and crustaceans, molluscs and other aquatic invertebrates/Sri Lanka",
          "all/Animals; live/Indonesia",
          "all/Coffee, tea, mate and spices/Niger",
          "all/Sugars and sugar confectionery/Oman",
          "all/Dairy produce; birds' eggs; natural honey; edible products of animal origin, not elsewhere specified or included/China",
          "all/Oil seeds and oleaginous fruits; miscellaneous grains, seeds and fruit, industrial or medicinal plants; straw and fodder/United Kingdom",
          "all/Dairy produce; birds' eggs; natural honey; edible products of animal origin, not elsewhere specified or included/Italy",
          "all/Sugars and sugar confectionery/Thailand",
          "all/Preparations of cereals, flour, starch or milk; pastrycooks' products/Sri Lanka",
          "all/Products of the milling industry; malt, starches, inulin, wheat gluten/Thailand",
          "all/Vegetables and certain roots and tubers; edible/China",
          "all/Oil seeds and oleaginous fruits; miscellaneous grains, seeds and fruit, industrial or medicinal plants; straw and fodder/Indonesia",
          "all/Preparations of vegetables, fruit, nuts or other parts of plants/Peru",
          "all/Vegetables and certain roots and tubers; edible/Austria",
          "all/Dairy produce; birds' eggs; natural honey; edible products of animal origin, not elsewhere specified or included/Sweden",
          "all/Vegetables and certain roots and tubers; edible/Uzbekistan",
          "all/Sugars and sugar confectionery/China",
          "all/Coffee, tea, mate and spices/Bangladesh",
          "all/Preparations of cereals, flour, starch or milk; pastrycooks' products/United Kingdom",
          "all/Animal or vegetable fats and oils and their cleavage products; prepared animal fats; animal or vegetable waxes/Viet Nam",
          "all/Animal originated products; not elsewhere specified or included/Australia",
          "all/Sugars and sugar confectionery/Malaysia",
          "all/Preparations of cereals, flour, starch or milk; pastrycooks' products/Belgium",
          "all/Sugars and sugar confectionery/Poland",
          "all/Products of the milling industry; malt, starches, inulin, wheat gluten/Poland",
          "all/Coffee, tea, mate and spices/Indonesia",
          "all/Fish and crustaceans, molluscs and other aquatic invertebrates/Indonesia",
          "all/Oil seeds and oleaginous fruits; miscellaneous grains, seeds and fruit, industrial or medicinal plants; straw and fodder/Peru",
          "all/Fruit and nuts, edible; peel of citrus fruit or melons/Peru",
          "all/Fruit and nuts, edible; peel of citrus fruit or melons/Italy",
          "all/Animals; live/Guinea",
          "all/Preparations of cereals, flour, starch or milk; pastrycooks' products/Oman",
          "all/Sugars and sugar confectionery/Nicaragua",
          "all/Sugars and sugar confectionery/New Zealand",
          "all/Animals; live/Jordan",
          "all/Lac; gums, resins and other vegetable saps and extracts/Nepal",
          "all/Coffee, tea, mate and spices/Kiribati",
          "all/Fruit and nuts, edible; peel of citrus fruit or melons/Montenegro",
          "all/Vegetables and certain roots and tubers; edible/Mexico",
          "all/Cereals/Japan",
          "all/Vegetables and certain roots and tubers; edible/Germany",
          "all/Coffee, tea, mate and spices/Rwanda",
          "all/Preparations of cereals, flour, starch or milk; pastrycooks' products/France",
          "all/Vegetables and certain roots and tubers; edible/Ukraine",
          "all/Sugars and sugar confectionery/Ukraine",
          "all/Vegetables and certain roots and tubers; edible/Belgium",
          "all/Preparations of cereals, flour, starch or milk; pastrycooks' products/USA",
          "all/Oil seeds and oleaginous fruits; miscellaneous grains, seeds and fruit, industrial or medicinal plants; straw and fodder/Canada",
          "all/Fish and crustaceans, molluscs and other aquatic invertebrates/China",
          "all/Vegetables and certain roots and tubers; edible/Thailand",
          "all/Oil seeds and oleaginous fruits; miscellaneous grains, seeds and fruit, industrial or medicinal plants; straw and fodder/Thailand",
          "all/Products of the milling industry; malt, starches, inulin, wheat gluten/China",
          "all/Animal or vegetable fats and oils and their cleavage products; prepared animal fats; animal or vegetable waxes/China, Hong Kong SAR",
          "all/Oil seeds and oleaginous fruits; miscellaneous grains, seeds and fruit, industrial or medicinal plants; straw and fodder/Sweden",
          "all/Preparations of vegetables, fruit, nuts or other parts of plants/Sri Lanka",
          "all/Dairy produce; birds' eggs; natural honey; edible products of animal origin, not elsewhere specified or included/Sri Lanka",
          "all/Oil seeds and oleaginous fruits; miscellaneous grains, seeds and fruit, industrial or medicinal plants; straw and fodder/Denmark",
          "all/Products of the milling industry; malt, starches, inulin, wheat gluten/Egypt",
          "all/Cereals/South Africa",
          "all/Lac; gums, resins and other vegetable saps and extracts/France",
          "all/Sugars and sugar confectionery/Bahrain",
          "all/Animal originated products; not elsewhere specified or included/Afghanistan",
          "all/Animal or vegetable fats and oils and their cleavage products; prepared animal fats; animal or vegetable waxes",
          "all/Animal originated products; not elsewhere specified or included",
          "all/Animals; live",
          "all/Cereals",
          "all/Coffee, tea, mate and spices",
          "all/Dairy produce; birds' eggs; natural honey; edible products of animal origin, not elsewhere specified or included",
          "all/Fish and crustaceans, molluscs and other aquatic invertebrates",
          "all/Fruit and nuts, edible; peel of citrus fruit or melons",
          "all/Lac; gums, resins and other vegetable saps and extracts",
          "all/Meat and edible meat offal",
          "all/Meat, fish or crustaceans, molluscs or other aquatic invertebrates; preparations thereof",
          "all/Oil seeds and oleaginous fruits; miscellaneous grains, seeds and fruit, industrial or medicinal plants; straw and fodder",
          "all/Preparations of cereals, flour, starch or milk; pastrycooks' products",
          "all/Preparations of vegetables, fruit, nuts or other parts of plants",
          "all/Products of the milling industry; malt, starches, inulin, wheat gluten",
          "all/Sugars and sugar confectionery",
          "all/Vegetables and certain roots and tubers; edible",
          "all"
         ],
         "labels": [
          "Spain",
          "Dominican Rep.",
          "United Arab Emirates",
          "Slovenia",
          "Philippines",
          "Argentina",
          "Bahrain",
          "Indonesia",
          "Uruguay",
          "Portugal",
          "Greece",
          "Greece",
          "Colombia",
          "Brazil",
          "Germany",
          "Ethiopia",
          "Iran",
          "China",
          "Other Europe, nes",
          "Italy",
          "Denmark",
          "Malaysia",
          "Morocco",
          "Lebanon",
          "Latvia",
          "Kenya",
          "Netherlands",
          "Russian Federation",
          "Netherlands",
          "Afghanistan",
          "United Arab Emirates",
          "Bulgaria",
          "Norway",
          "Sri Lanka",
          "Turkey",
          "Belarus",
          "Japan",
          "Saudi Arabia",
          "Zimbabwe",
          "United Arab Emirates",
          "USA",
          "United Arab Emirates",
          "Costa Rica",
          "Turkey",
          "Australia",
          "Spain",
          "Malaysia",
          "Albania",
          "Japan",
          "Norway",
          "Viet Nam",
          "Other Europe, nes",
          "Spain",
          "Indonesia",
          "Germany",
          "Russian Federation",
          "Turkey",
          "Thailand",
          "China",
          "Other Europe, nes",
          "China, Hong Kong SAR",
          "Indonesia",
          "Oman",
          "Solomon Isds",
          "Denmark",
          "Indonesia",
          "United Arab Emirates",
          "Malaysia",
          "Viet Nam",
          "Heard Island and McDonald Islands",
          "Portugal",
          "Uruguay",
          "Malaysia",
          "Bahrain",
          "Turkmenistan",
          "Germany",
          "Australia",
          "Chile",
          "Russian Federation",
          "Ethiopia",
          "Poland",
          "Netherlands",
          "Turkey",
          "Belgium",
          "China",
          "Austria",
          "Spain",
          "Ecuador",
          "United Kingdom",
          "Madagascar",
          "Sweden",
          "Thailand",
          "Switzerland",
          "Egypt",
          "Canada",
          "Colombia",
          "Ukraine",
          "Italy",
          "Philippines",
          "Netherlands",
          "United Arab Emirates",
          "Iran",
          "Norway",
          "Afghanistan",
          "Other Europe, nes",
          "Italy",
          "Iran",
          "Other Europe, nes",
          "Viet Nam",
          "Uganda",
          "Ecuador",
          "United Rep. of Tanzania",
          "Denmark",
          "Denmark",
          "Netherlands",
          "Cyprus",
          "Viet Nam",
          "Austria",
          "Indonesia",
          "Italy",
          "Spain",
          "Other Europe, nes",
          "Eswatini",
          "United Rep. of Tanzania",
          "Germany",
          "Iran",
          "Australia",
          "Iran",
          "N. Mariana Isds",
          "Jordan",
          "Indonesia",
          "Kenya",
          "Italy",
          "Egypt",
          "Afghanistan",
          "Belarus",
          "Bhutan",
          "USA",
          "Turkey",
          "Chile",
          "Other Europe, nes",
          "Afghanistan",
          "Ukraine",
          "Morocco",
          "Chile",
          "Australia",
          "Jordan",
          "Serbia",
          "Morocco",
          "Eswatini",
          "Estonia",
          "Saudi Arabia",
          "Germany",
          "Malaysia",
          "Turkmenistan",
          "Madagascar",
          "Uruguay",
          "Rep. of Korea",
          "Qatar",
          "Namibia",
          "Antigua and Barbuda",
          "Poland",
          "USA",
          "Argentina",
          "Other Europe, nes",
          "Indonesia",
          "Bulgaria",
          "Bulgaria",
          "Algeria",
          "Netherlands",
          "Italy",
          "Turkey",
          "Albania",
          "United Kingdom",
          "Viet Nam",
          "Barbados",
          "Costa Rica",
          "Switzerland",
          "Bolivia (Plurinational State of)",
          "Sri Lanka",
          "Belarus",
          "Thailand",
          "Austria",
          "Egypt",
          "Mexico",
          "Argentina",
          "Egypt",
          "Mexico",
          "Greece",
          "Ukraine",
          "Belgium",
          "Nepal",
          "Madagascar",
          "India",
          "Czechia",
          "Uzbekistan",
          "Cameroon",
          "Viet Nam",
          "Syria",
          "Philippines",
          "Iran",
          "Iran",
          "United Kingdom",
          "New Zealand",
          "Other Europe, nes",
          "Japan",
          "USA",
          "Iraq",
          "Myanmar",
          "Antigua and Barbuda",
          "Spain",
          "Australia",
          "Spain",
          "Chile",
          "Afghanistan",
          "Jordan",
          "Singapore",
          "Saudi Arabia",
          "Brazil",
          "Paraguay",
          "Rep. of Moldova",
          "Albania",
          "Turkey",
          "United Arab Emirates",
          "Malaysia",
          "Denmark",
          "Spain",
          "China",
          "Italy",
          "Other Europe, nes",
          "Brazil",
          "Japan",
          "Zambia",
          "Italy",
          "Netherlands",
          "Other Europe, nes",
          "Bulgaria",
          "Uganda",
          "Oman",
          "Belgium",
          "Norway",
          "Mexico",
          "Other Europe, nes",
          "Colombia",
          "United Arab Emirates",
          "Malaysia",
          "Malaysia",
          "Equatorial Guinea",
          "United Rep. of Tanzania",
          "United Rep. of Tanzania",
          "Egypt",
          "Turkey",
          "Spain",
          "China",
          "Bangladesh",
          "Thailand",
          "Denmark",
          "Montenegro",
          "Denmark",
          "Madagascar",
          "Bahrain",
          "Switzerland",
          "Sierra Leone",
          "Iran",
          "Slovakia",
          "Australia",
          "Jordan",
          "Argentina",
          "Bulgaria",
          "India",
          "Afghanistan",
          "Canada",
          "Saudi Arabia",
          "United Arab Emirates",
          "USA",
          "Rep. of Korea",
          "Rep. of Korea",
          "Germany",
          "Chad",
          "Germany",
          "Romania",
          "Morocco",
          "Greece",
          "Viet Nam",
          "Mexico",
          "Lebanon",
          "Kazakhstan",
          "Afghanistan",
          "Germany",
          "United Rep. of Tanzania",
          "Turkey",
          "Colombia",
          "Central African Rep.",
          "Spain",
          "Eswatini",
          "USA",
          "USA",
          "Australia",
          "Romania",
          "Bulgaria",
          "China",
          "Rep. of Korea",
          "Hungary",
          "Uganda",
          "India",
          "Brazil",
          "Argentina",
          "Peru",
          "Iran",
          "Ireland",
          "Other Asia, nes",
          "Italy",
          "Qatar",
          "Thailand",
          "USA",
          "Ukraine",
          "Turkey",
          "Other Asia, nes",
          "United Kingdom",
          "Spain",
          "New Zealand",
          "Singapore",
          "Saudi Arabia",
          "Rep. of Korea",
          "Philippines",
          "Philippines",
          "Uzbekistan",
          "Syria",
          "United Arab Emirates",
          "Malaysia",
          "Canada",
          "Czechia",
          "Japan",
          "Germany",
          "Canada",
          "Japan",
          "Chile",
          "Ireland",
          "China",
          "Egypt",
          "France",
          "Iran",
          "Belgium",
          "Japan",
          "Hungary",
          "Australia",
          "Nigeria",
          "Canada",
          "Hungary",
          "Iran",
          "Afghanistan",
          "Canada",
          "USA",
          "Argentina",
          "Ecuador",
          "New Zealand",
          "Turkey",
          "Albania",
          "Cyprus",
          "Paraguay",
          "Spain",
          "Oman",
          "Algeria",
          "Chile",
          "Other Asia, nes",
          "Papua New Guinea",
          "Saudi Arabia",
          "Philippines",
          "Philippines",
          "Thailand",
          "Iraq",
          "China",
          "United Kingdom",
          "Suriname",
          "Chile",
          "Saudi Arabia",
          "Switzerland",
          "Ukraine",
          "Mozambique",
          "Saudi Arabia",
          "Malaysia",
          "Mexico",
          "Jordan",
          "Belgium",
          "Belgium",
          "Singapore",
          "Montenegro",
          "Uruguay",
          "Viet Nam",
          "United Kingdom",
          "United Arab Emirates",
          "Lithuania",
          "Germany",
          "Brazil",
          "Kenya",
          "Spain",
          "Rep. of Korea",
          "Jordan",
          "Netherlands",
          "Netherlands",
          "Egypt",
          "Myanmar",
          "Malawi",
          "Burundi",
          "France",
          "Brazil",
          "Brazil",
          "South Africa",
          "Egypt",
          "Bangladesh",
          "Philippines",
          "Austria",
          "France",
          "Sri Lanka",
          "Egypt",
          "India",
          "Sri Lanka",
          "Sri Lanka",
          "Uzbekistan",
          "France",
          "Rep. of Korea",
          "Portugal",
          "Germany",
          "Czechia",
          "Slovakia",
          "Saudi Arabia",
          "Malaysia",
          "Viet Nam",
          "Jordan",
          "Netherlands",
          "United Kingdom",
          "USA",
          "Switzerland",
          "Afghanistan",
          "United Arab Emirates",
          "New Zealand",
          "Mexico",
          "Turkey",
          "Kenya",
          "Oman",
          "Brazil",
          "Marshall Isds",
          "Iran",
          "Belgium",
          "Thailand",
          "Italy",
          "China",
          "United Kingdom",
          "China",
          "China",
          "Other Asia, nes",
          "Ireland",
          "Belgium",
          "Singapore",
          "United Arab Emirates",
          "France",
          "Bahrain",
          "United Kingdom",
          "Serbia",
          "Switzerland",
          "Egypt",
          "Australia",
          "Brazil",
          "Egypt",
          "USA",
          "Canada",
          "Turkey",
          "Turkey",
          "Sri Lanka",
          "Denmark",
          "Thailand",
          "Sudan",
          "Sudan",
          "Brazil",
          "China",
          "Eswatini",
          "Philippines",
          "Rep. of Korea",
          "Japan",
          "Lebanon",
          "Guatemala",
          "Netherlands",
          "Portugal",
          "Kuwait",
          "Portugal",
          "Uzbekistan",
          "Ireland",
          "Saudi Arabia",
          "India",
          "Other Europe, nes",
          "Other Europe, nes",
          "Panama",
          "Myanmar",
          "Kenya",
          "Viet Nam",
          "Other Asia, nes",
          "Argentina",
          "Iran",
          "Nigeria",
          "Germany",
          "Mexico",
          "Malaysia",
          "Montenegro",
          "Italy",
          "France",
          "New Zealand",
          "Thailand",
          "USA",
          "Saudi Arabia",
          "Tunisia",
          "Mali",
          "Indonesia",
          "United Arab Emirates",
          "China, Hong Kong SAR",
          "Jordan",
          "Slovenia",
          "Australia",
          "Bahamas",
          "Nigeria",
          "Netherlands",
          "Thailand",
          "Canada",
          "Other Asia, nes",
          "Kenya",
          "Turkey",
          "Iran",
          "Ireland",
          "Algeria",
          "Norway",
          "Japan",
          "USA",
          "Iran",
          "Japan",
          "Saudi Arabia",
          "Brazil",
          "Belgium",
          "France",
          "Malaysia",
          "Sierra Leone",
          "Singapore",
          "France",
          "South Africa",
          "Germany",
          "Rep. of Korea",
          "United Arab Emirates",
          "Bahrain",
          "Ukraine",
          "Egypt",
          "United Kingdom",
          "Sri Lanka",
          "Austria",
          "Czechia",
          "India",
          "Poland",
          "Philippines",
          "New Zealand",
          "Afghanistan",
          "Uzbekistan",
          "Canada",
          "Myanmar",
          "Yemen",
          "Jordan",
          "USA",
          "Lithuania",
          "Belize",
          "Kuwait",
          "United Arab Emirates",
          "Nepal",
          "Montenegro",
          "Belgium",
          "Iran",
          "Canada",
          "Poland",
          "Ecuador",
          "Guyana",
          "Egypt",
          "Ghana",
          "Argentina",
          "South Africa",
          "El Salvador",
          "Malaysia",
          "Russian Federation",
          "France",
          "Sierra Leone",
          "Australia",
          "France",
          "Saudi Arabia",
          "Poland",
          "New Zealand",
          "Sri Lanka",
          "Indonesia",
          "Niger",
          "Oman",
          "China",
          "United Kingdom",
          "Italy",
          "Thailand",
          "Sri Lanka",
          "Thailand",
          "China",
          "Indonesia",
          "Peru",
          "Austria",
          "Sweden",
          "Uzbekistan",
          "China",
          "Bangladesh",
          "United Kingdom",
          "Viet Nam",
          "Australia",
          "Malaysia",
          "Belgium",
          "Poland",
          "Poland",
          "Indonesia",
          "Indonesia",
          "Peru",
          "Peru",
          "Italy",
          "Guinea",
          "Oman",
          "Nicaragua",
          "New Zealand",
          "Jordan",
          "Nepal",
          "Kiribati",
          "Montenegro",
          "Mexico",
          "Japan",
          "Germany",
          "Rwanda",
          "France",
          "Ukraine",
          "Ukraine",
          "Belgium",
          "USA",
          "Canada",
          "China",
          "Thailand",
          "Thailand",
          "China",
          "China, Hong Kong SAR",
          "Sweden",
          "Sri Lanka",
          "Sri Lanka",
          "Denmark",
          "Egypt",
          "South Africa",
          "France",
          "Bahrain",
          "Afghanistan",
          "Animal or vegetable fats and oils and their cleavage products; prepared animal fats; animal or vegetable waxes",
          "Animal originated products; not elsewhere specified or included",
          "Animals; live",
          "Cereals",
          "Coffee, tea, mate and spices",
          "Dairy produce; birds' eggs; natural honey; edible products of animal origin, not elsewhere specified or included",
          "Fish and crustaceans, molluscs and other aquatic invertebrates",
          "Fruit and nuts, edible; peel of citrus fruit or melons",
          "Lac; gums, resins and other vegetable saps and extracts",
          "Meat and edible meat offal",
          "Meat, fish or crustaceans, molluscs or other aquatic invertebrates; preparations thereof",
          "Oil seeds and oleaginous fruits; miscellaneous grains, seeds and fruit, industrial or medicinal plants; straw and fodder",
          "Preparations of cereals, flour, starch or milk; pastrycooks' products",
          "Preparations of vegetables, fruit, nuts or other parts of plants",
          "Products of the milling industry; malt, starches, inulin, wheat gluten",
          "Sugars and sugar confectionery",
          "Vegetables and certain roots and tubers; edible",
          "all"
         ],
         "marker": {
          "colors": [
           "#636efa",
           "#EF553B",
           "#00cc96",
           "#636efa",
           "#EF553B",
           "#636efa",
           "#ab63fa",
           "#EF553B",
           "#ab63fa",
           "#FFA15A",
           "#19d3f3",
           "#FFA15A",
           "#19d3f3",
           "#19d3f3",
           "#FF6692",
           "#B6E880",
           "#00cc96",
           "#FF97FF",
           "#FECB52",
           "#636efa",
           "#B6E880",
           "#EF553B",
           "#EF553B",
           "#FECB52",
           "#636efa",
           "#FF97FF",
           "#ab63fa",
           "#FF97FF",
           "#00cc96",
           "#B6E880",
           "#FFA15A",
           "#FF97FF",
           "#FF97FF",
           "#636efa",
           "#FF97FF",
           "#636efa",
           "#FF6692",
           "#FECB52",
           "#00cc96",
           "#B6E880",
           "#EF553B",
           "#636efa",
           "#FF97FF",
           "#FECB52",
           "#00cc96",
           "#EF553B",
           "#00cc96",
           "#00cc96",
           "#ab63fa",
           "#ab63fa",
           "#EF553B",
           "#EF553B",
           "#ab63fa",
           "#00cc96",
           "#ab63fa",
           "#FECB52",
           "#EF553B",
           "#FFA15A",
           "#00cc96",
           "#FFA15A",
           "#FFA15A",
           "#FECB52",
           "#19d3f3",
           "#FFA15A",
           "#FF6692",
           "#FF6692",
           "#FFA15A",
           "#B6E880",
           "#FFA15A",
           "#00cc96",
           "#EF553B",
           "#19d3f3",
           "#ab63fa",
           "#FF97FF",
           "#FECB52",
           "#636efa",
           "#ab63fa",
           "#FECB52",
           "#636efa",
           "#FF97FF",
           "#636efa",
           "#B6E880",
           "#ab63fa",
           "#EF553B",
           "#FECB52",
           "#FF6692",
           "#FFA15A",
           "#FF97FF",
           "#EF553B",
           "#FF97FF",
           "#EF553B",
           "#EF553B",
           "#EF553B",
           "#FF6692",
           "#19d3f3",
           "#EF553B",
           "#FECB52",
           "#19d3f3",
           "#FFA15A",
           "#FFA15A",
           "#FF6692",
           "#EF553B",
           "#EF553B",
           "#00cc96",
           "#FF97FF",
           "#19d3f3",
           "#636efa",
           "#ab63fa",
           "#00cc96",
           "#FF97FF",
           "#00cc96",
           "#19d3f3",
           "#00cc96",
           "#19d3f3",
           "#636efa",
           "#19d3f3",
           "#FF6692",
           "#FFA15A",
           "#19d3f3",
           "#FECB52",
           "#FF6692",
           "#FFA15A",
           "#19d3f3",
           "#B6E880",
           "#FF97FF",
           "#19d3f3",
           "#ab63fa",
           "#636efa",
           "#B6E880",
           "#636efa",
           "#19d3f3",
           "#19d3f3",
           "#FFA15A",
           "#EF553B",
           "#19d3f3",
           "#FFA15A",
           "#FF97FF",
           "#00cc96",
           "#B6E880",
           "#FF6692",
           "#19d3f3",
           "#636efa",
           "#ab63fa",
           "#636efa",
           "#00cc96",
           "#FF97FF",
           "#19d3f3",
           "#636efa",
           "#19d3f3",
           "#FFA15A",
           "#EF553B",
           "#00cc96",
           "#ab63fa",
           "#FF97FF",
           "#19d3f3",
           "#00cc96",
           "#EF553B",
           "#EF553B",
           "#FFA15A",
           "#636efa",
           "#B6E880",
           "#FFA15A",
           "#B6E880",
           "#FFA15A",
           "#19d3f3",
           "#FFA15A",
           "#636efa",
           "#FECB52",
           "#B6E880",
           "#19d3f3",
           "#FF97FF",
           "#19d3f3",
           "#ab63fa",
           "#00cc96",
           "#FF6692",
           "#B6E880",
           "#00cc96",
           "#FFA15A",
           "#636efa",
           "#FF6692",
           "#ab63fa",
           "#00cc96",
           "#00cc96",
           "#00cc96",
           "#EF553B",
           "#EF553B",
           "#636efa",
           "#FF6692",
           "#00cc96",
           "#636efa",
           "#FF6692",
           "#FF97FF",
           "#B6E880",
           "#EF553B",
           "#19d3f3",
           "#FECB52",
           "#636efa",
           "#19d3f3",
           "#FF97FF",
           "#636efa",
           "#FF6692",
           "#00cc96",
           "#FF97FF",
           "#EF553B",
           "#636efa",
           "#00cc96",
           "#FF97FF",
           "#00cc96",
           "#FF97FF",
           "#00cc96",
           "#FF97FF",
           "#B6E880",
           "#ab63fa",
           "#19d3f3",
           "#ab63fa",
           "#636efa",
           "#FF97FF",
           "#00cc96",
           "#FECB52",
           "#636efa",
           "#B6E880",
           "#636efa",
           "#FF6692",
           "#FF6692",
           "#ab63fa",
           "#636efa",
           "#19d3f3",
           "#636efa",
           "#EF553B",
           "#B6E880",
           "#EF553B",
           "#FF97FF",
           "#ab63fa",
           "#636efa",
           "#FFA15A",
           "#EF553B",
           "#EF553B",
           "#ab63fa",
           "#EF553B",
           "#636efa",
           "#ab63fa",
           "#FF97FF",
           "#FF6692",
           "#FF97FF",
           "#19d3f3",
           "#FFA15A",
           "#EF553B",
           "#FFA15A",
           "#FF6692",
           "#FF97FF",
           "#19d3f3",
           "#00cc96",
           "#00cc96",
           "#FFA15A",
           "#636efa",
           "#FF6692",
           "#FFA15A",
           "#B6E880",
           "#ab63fa",
           "#636efa",
           "#19d3f3",
           "#19d3f3",
           "#FF97FF",
           "#19d3f3",
           "#00cc96",
           "#FF6692",
           "#00cc96",
           "#00cc96",
           "#B6E880",
           "#00cc96",
           "#FF6692",
           "#EF553B",
           "#ab63fa",
           "#636efa",
           "#FFA15A",
           "#FFA15A",
           "#FF6692",
           "#19d3f3",
           "#FF6692",
           "#FFA15A",
           "#FECB52",
           "#B6E880",
           "#FF6692",
           "#636efa",
           "#FECB52",
           "#FFA15A",
           "#FF97FF",
           "#00cc96",
           "#FECB52",
           "#636efa",
           "#FF6692",
           "#19d3f3",
           "#636efa",
           "#19d3f3",
           "#FF6692",
           "#19d3f3",
           "#636efa",
           "#636efa",
           "#B6E880",
           "#FFA15A",
           "#19d3f3",
           "#19d3f3",
           "#FECB52",
           "#B6E880",
           "#636efa",
           "#19d3f3",
           "#FF97FF",
           "#FECB52",
           "#FECB52",
           "#00cc96",
           "#19d3f3",
           "#FF6692",
           "#EF553B",
           "#FF6692",
           "#ab63fa",
           "#19d3f3",
           "#ab63fa",
           "#FFA15A",
           "#ab63fa",
           "#636efa",
           "#FFA15A",
           "#EF553B",
           "#636efa",
           "#00cc96",
           "#00cc96",
           "#FFA15A",
           "#00cc96",
           "#B6E880",
           "#00cc96",
           "#FF6692",
           "#FECB52",
           "#FFA15A",
           "#19d3f3",
           "#19d3f3",
           "#B6E880",
           "#636efa",
           "#636efa",
           "#19d3f3",
           "#FF6692",
           "#EF553B",
           "#EF553B",
           "#FF6692",
           "#00cc96",
           "#FFA15A",
           "#636efa",
           "#19d3f3",
           "#636efa",
           "#00cc96",
           "#ab63fa",
           "#ab63fa",
           "#FF97FF",
           "#ab63fa",
           "#FECB52",
           "#FFA15A",
           "#19d3f3",
           "#ab63fa",
           "#636efa",
           "#B6E880",
           "#FFA15A",
           "#EF553B",
           "#00cc96",
           "#ab63fa",
           "#00cc96",
           "#FFA15A",
           "#EF553B",
           "#FF97FF",
           "#19d3f3",
           "#636efa",
           "#19d3f3",
           "#EF553B",
           "#19d3f3",
           "#FFA15A",
           "#636efa",
           "#FFA15A",
           "#636efa",
           "#FF97FF",
           "#ab63fa",
           "#00cc96",
           "#00cc96",
           "#FFA15A",
           "#FF6692",
           "#00cc96",
           "#EF553B",
           "#636efa",
           "#00cc96",
           "#00cc96",
           "#FFA15A",
           "#ab63fa",
           "#00cc96",
           "#FFA15A",
           "#ab63fa",
           "#ab63fa",
           "#EF553B",
           "#FF97FF",
           "#B6E880",
           "#FFA15A",
           "#FECB52",
           "#FF6692",
           "#636efa",
           "#00cc96",
           "#FFA15A",
           "#B6E880",
           "#FF97FF",
           "#FF97FF",
           "#19d3f3",
           "#00cc96",
           "#FFA15A",
           "#636efa",
           "#00cc96",
           "#FFA15A",
           "#00cc96",
           "#ab63fa",
           "#FFA15A",
           "#636efa",
           "#FF97FF",
           "#636efa",
           "#00cc96",
           "#FFA15A",
           "#FF6692",
           "#B6E880",
           "#FFA15A",
           "#FF6692",
           "#00cc96",
           "#FFA15A",
           "#636efa",
           "#FFA15A",
           "#FFA15A",
           "#FFA15A",
           "#FFA15A",
           "#FF6692",
           "#FF6692",
           "#00cc96",
           "#FF6692",
           "#FECB52",
           "#ab63fa",
           "#ab63fa",
           "#636efa",
           "#19d3f3",
           "#FF6692",
           "#FFA15A",
           "#FF6692",
           "#00cc96",
           "#ab63fa",
           "#FFA15A",
           "#ab63fa",
           "#00cc96",
           "#ab63fa",
           "#19d3f3",
           "#FF6692",
           "#EF553B",
           "#FF97FF",
           "#FFA15A",
           "#ab63fa",
           "#B6E880",
           "#EF553B",
           "#FECB52",
           "#FFA15A",
           "#00cc96",
           "#FFA15A",
           "#636efa",
           "#FF6692",
           "#FFA15A",
           "#B6E880",
           "#ab63fa",
           "#EF553B",
           "#636efa",
           "#00cc96",
           "#FFA15A",
           "#EF553B",
           "#EF553B",
           "#FF97FF",
           "#FF6692",
           "#B6E880",
           "#00cc96",
           "#19d3f3",
           "#EF553B",
           "#FF6692",
           "#636efa",
           "#19d3f3",
           "#EF553B",
           "#FF97FF",
           "#EF553B",
           "#19d3f3",
           "#FFA15A",
           "#ab63fa",
           "#636efa",
           "#ab63fa",
           "#FF6692",
           "#FFA15A",
           "#636efa",
           "#00cc96",
           "#EF553B",
           "#636efa",
           "#636efa",
           "#FF97FF",
           "#636efa",
           "#FECB52",
           "#FF97FF",
           "#FF6692",
           "#FFA15A",
           "#19d3f3",
           "#19d3f3",
           "#636efa",
           "#B6E880",
           "#00cc96",
           "#636efa",
           "#19d3f3",
           "#636efa",
           "#EF553B",
           "#EF553B",
           "#FF6692",
           "#00cc96",
           "#EF553B",
           "#19d3f3",
           "#00cc96",
           "#00cc96",
           "#FECB52",
           "#00cc96",
           "#FF97FF",
           "#19d3f3",
           "#FECB52",
           "#19d3f3",
           "#FFA15A",
           "#00cc96",
           "#636efa",
           "#B6E880",
           "#FFA15A",
           "#636efa",
           "#EF553B",
           "#EF553B",
           "#FF6692",
           "#EF553B",
           "#636efa",
           "#ab63fa",
           "#636efa",
           "#19d3f3",
           "#ab63fa",
           "#636efa",
           "#B6E880",
           "#FFA15A",
           "#636efa",
           "#ab63fa",
           "#636efa",
           "#19d3f3",
           "#FF97FF",
           "#EF553B",
           "#636efa",
           "#FFA15A",
           "#ab63fa",
           "#FF97FF",
           "#19d3f3",
           "#ab63fa",
           "#FF6692",
           "#ab63fa",
           "#ab63fa",
           "#FFA15A",
           "#FFA15A",
           "#FFA15A",
           "#FF97FF",
           "#00cc96",
           "#FF97FF",
           "#ab63fa",
           "#19d3f3",
           "#FFA15A",
           "#636efa",
           "#EF553B",
           "#FECB52",
           "#636efa",
           "#FF97FF",
           "#19d3f3",
           "#FFA15A",
           "#FFA15A",
           "#B6E880",
           "#636efa",
           "#FFA15A",
           "#ab63fa",
           "#EF553B",
           "#B6E880",
           "#00cc96",
           "#636efa",
           "#636efa",
           "#B6E880",
           "#19d3f3",
           "#636efa",
           "#EF553B",
           "#636efa",
           "#FF6692",
           "#19d3f3",
           "#19d3f3",
           "#EF553B",
           "#FFA15A",
           "#FF97FF",
           "#00cc96",
           "#ab63fa",
           "#636efa",
           "#ab63fa",
           "#00cc96",
           "#FFA15A",
           "#636efa",
           "#B6E880",
           "#636efa",
           "#19d3f3",
           "#B6E880",
           "#ab63fa",
           "#B6E880",
           "#00cc96",
           "#FF97FF",
           "#FFA15A",
           "#EF553B",
           "#19d3f3",
           "#00cc96",
           "#FFA15A",
           "#00cc96",
           "#636efa",
           "#FF97FF",
           "#EF553B",
           "#636efa",
           "#00cc96",
           "#00cc96",
           "#FFA15A",
           "#FFA15A",
           "#00cc96",
           "#00cc96",
           "#FFA15A",
           "#FF6692",
           "#FF97FF",
           "#00cc96",
           "#B6E880",
           "#FECB52",
           "#B6E880",
           "#FF97FF",
           "#FFA15A",
           "#B6E880",
           "#00cc96",
           "#B6E880",
           "#FFA15A",
           "#636efa",
           "#EF553B",
           "#B6E880",
           "#636efa",
           "#636efa",
           "#EF553B",
           "#636efa",
           "#19d3f3",
           "#ab63fa",
           "#636efa",
           "#636efa",
           "#FECB52",
           "#FF6692",
           "#00cc96",
           "#19d3f3",
           "#EF553B",
           "#19d3f3",
           "#FFA15A",
           "#FECB52",
           "#FF97FF",
           "#ab63fa",
           "#EF553B",
           "#00cc96",
           "#FF6692",
           "#ab63fa",
           "#FF6692",
           "#636efa",
           "#FFA15A",
           "#19d3f3",
           "#636efa",
           "#00cc96",
           "#B6E880",
           "#B6E880"
          ],
          "line": {
           "color": "rgb(0,0,0)",
           "width": 0.1
          }
         },
         "name": "",
         "parents": [
          "all/Oil seeds and oleaginous fruits; miscellaneous grains, seeds and fruit, industrial or medicinal plants; straw and fodder",
          "all/Animal or vegetable fats and oils and their cleavage products; prepared animal fats; animal or vegetable waxes",
          "all/Sugars and sugar confectionery",
          "all/Oil seeds and oleaginous fruits; miscellaneous grains, seeds and fruit, industrial or medicinal plants; straw and fodder",
          "all/Animal or vegetable fats and oils and their cleavage products; prepared animal fats; animal or vegetable waxes",
          "all/Oil seeds and oleaginous fruits; miscellaneous grains, seeds and fruit, industrial or medicinal plants; straw and fodder",
          "all/Dairy produce; birds' eggs; natural honey; edible products of animal origin, not elsewhere specified or included",
          "all/Animal or vegetable fats and oils and their cleavage products; prepared animal fats; animal or vegetable waxes",
          "all/Dairy produce; birds' eggs; natural honey; edible products of animal origin, not elsewhere specified or included",
          "all/Preparations of cereals, flour, starch or milk; pastrycooks' products",
          "all/Preparations of vegetables, fruit, nuts or other parts of plants",
          "all/Preparations of cereals, flour, starch or milk; pastrycooks' products",
          "all/Preparations of vegetables, fruit, nuts or other parts of plants",
          "all/Preparations of vegetables, fruit, nuts or other parts of plants",
          "all/Lac; gums, resins and other vegetable saps and extracts",
          "all/Vegetables and certain roots and tubers; edible",
          "all/Sugars and sugar confectionery",
          "all/Coffee, tea, mate and spices",
          "all/Cereals",
          "all/Products of the milling industry; malt, starches, inulin, wheat gluten",
          "all/Vegetables and certain roots and tubers; edible",
          "all/Fish and crustaceans, molluscs and other aquatic invertebrates",
          "all/Animal or vegetable fats and oils and their cleavage products; prepared animal fats; animal or vegetable waxes",
          "all/Cereals",
          "all/Oil seeds and oleaginous fruits; miscellaneous grains, seeds and fruit, industrial or medicinal plants; straw and fodder",
          "all/Coffee, tea, mate and spices",
          "all/Dairy produce; birds' eggs; natural honey; edible products of animal origin, not elsewhere specified or included",
          "all/Coffee, tea, mate and spices",
          "all/Sugars and sugar confectionery",
          "all/Vegetables and certain roots and tubers; edible",
          "all/Preparations of cereals, flour, starch or milk; pastrycooks' products",
          "all/Coffee, tea, mate and spices",
          "all/Coffee, tea, mate and spices",
          "all/Oil seeds and oleaginous fruits; miscellaneous grains, seeds and fruit, industrial or medicinal plants; straw and fodder",
          "all/Coffee, tea, mate and spices",
          "all/Products of the milling industry; malt, starches, inulin, wheat gluten",
          "all/Lac; gums, resins and other vegetable saps and extracts",
          "all/Cereals",
          "all/Fruit and nuts, edible; peel of citrus fruit or melons",
          "all/Vegetables and certain roots and tubers; edible",
          "all/Animal or vegetable fats and oils and their cleavage products; prepared animal fats; animal or vegetable waxes",
          "all/Oil seeds and oleaginous fruits; miscellaneous grains, seeds and fruit, industrial or medicinal plants; straw and fodder",
          "all/Coffee, tea, mate and spices",
          "all/Cereals",
          "all/Fruit and nuts, edible; peel of citrus fruit or melons",
          "all/Animal or vegetable fats and oils and their cleavage products; prepared animal fats; animal or vegetable waxes",
          "all/Fruit and nuts, edible; peel of citrus fruit or melons",
          "all/Fruit and nuts, edible; peel of citrus fruit or melons",
          "all/Dairy produce; birds' eggs; natural honey; edible products of animal origin, not elsewhere specified or included",
          "all/Dairy produce; birds' eggs; natural honey; edible products of animal origin, not elsewhere specified or included",
          "all/Fish and crustaceans, molluscs and other aquatic invertebrates",
          "all/Fish and crustaceans, molluscs and other aquatic invertebrates",
          "all/Meat and edible meat offal",
          "all/Sugars and sugar confectionery",
          "all/Meat and edible meat offal",
          "all/Cereals",
          "all/Animal or vegetable fats and oils and their cleavage products; prepared animal fats; animal or vegetable waxes",
          "all/Preparations of cereals, flour, starch or milk; pastrycooks' products",
          "all/Fruit and nuts, edible; peel of citrus fruit or melons",
          "all/Preparations of cereals, flour, starch or milk; pastrycooks' products",
          "all/Preparations of cereals, flour, starch or milk; pastrycooks' products",
          "all/Cereals",
          "all/Preparations of vegetables, fruit, nuts or other parts of plants",
          "all/Animals; live",
          "all/Lac; gums, resins and other vegetable saps and extracts",
          "all/Lac; gums, resins and other vegetable saps and extracts",
          "all/Animals; live",
          "all/Vegetables and certain roots and tubers; edible",
          "all/Animals; live",
          "all/Fruit and nuts, edible; peel of citrus fruit or melons",
          "all/Animal or vegetable fats and oils and their cleavage products; prepared animal fats; animal or vegetable waxes",
          "all/Animal originated products; not elsewhere specified or included",
          "all/Dairy produce; birds' eggs; natural honey; edible products of animal origin, not elsewhere specified or included",
          "all/Coffee, tea, mate and spices",
          "all/Cereals",
          "all/Oil seeds and oleaginous fruits; miscellaneous grains, seeds and fruit, industrial or medicinal plants; straw and fodder",
          "all/Meat and edible meat offal",
          "all/Cereals",
          "all/Oil seeds and oleaginous fruits; miscellaneous grains, seeds and fruit, industrial or medicinal plants; straw and fodder",
          "all/Coffee, tea, mate and spices",
          "all/Oil seeds and oleaginous fruits; miscellaneous grains, seeds and fruit, industrial or medicinal plants; straw and fodder",
          "all/Vegetables and certain roots and tubers; edible",
          "all/Dairy produce; birds' eggs; natural honey; edible products of animal origin, not elsewhere specified or included",
          "all/Animal or vegetable fats and oils and their cleavage products; prepared animal fats; animal or vegetable waxes",
          "all/Cereals",
          "all/Lac; gums, resins and other vegetable saps and extracts",
          "all/Preparations of cereals, flour, starch or milk; pastrycooks' products",
          "all/Coffee, tea, mate and spices",
          "all/Animal or vegetable fats and oils and their cleavage products; prepared animal fats; animal or vegetable waxes",
          "all/Coffee, tea, mate and spices",
          "all/Animal or vegetable fats and oils and their cleavage products; prepared animal fats; animal or vegetable waxes",
          "all/Fish and crustaceans, molluscs and other aquatic invertebrates",
          "all/Animal or vegetable fats and oils and their cleavage products; prepared animal fats; animal or vegetable waxes",
          "all/Lac; gums, resins and other vegetable saps and extracts",
          "all/Animal originated products; not elsewhere specified or included",
          "all/Fish and crustaceans, molluscs and other aquatic invertebrates",
          "all/Cereals",
          "all/Animal originated products; not elsewhere specified or included",
          "all/Animals; live",
          "all/Animals; live",
          "all/Meat, fish or crustaceans, molluscs or other aquatic invertebrates; preparations thereof",
          "all/Animal or vegetable fats and oils and their cleavage products; prepared animal fats; animal or vegetable waxes",
          "all/Animal or vegetable fats and oils and their cleavage products; prepared animal fats; animal or vegetable waxes",
          "all/Sugars and sugar confectionery",
          "all/Coffee, tea, mate and spices",
          "all/Preparations of vegetables, fruit, nuts or other parts of plants",
          "all/Products of the milling industry; malt, starches, inulin, wheat gluten",
          "all/Dairy produce; birds' eggs; natural honey; edible products of animal origin, not elsewhere specified or included",
          "all/Fruit and nuts, edible; peel of citrus fruit or melons",
          "all/Coffee, tea, mate and spices",
          "all/Fruit and nuts, edible; peel of citrus fruit or melons",
          "all/Animal originated products; not elsewhere specified or included",
          "all/Sugars and sugar confectionery",
          "all/Animal originated products; not elsewhere specified or included",
          "all/Products of the milling industry; malt, starches, inulin, wheat gluten",
          "all/Animal originated products; not elsewhere specified or included",
          "all/Lac; gums, resins and other vegetable saps and extracts",
          "all/Preparations of cereals, flour, starch or milk; pastrycooks' products",
          "all/Animal originated products; not elsewhere specified or included",
          "all/Cereals",
          "all/Lac; gums, resins and other vegetable saps and extracts",
          "all/Animals; live",
          "all/Preparations of vegetables, fruit, nuts or other parts of plants",
          "all/Vegetables and certain roots and tubers; edible",
          "all/Coffee, tea, mate and spices",
          "all/Preparations of vegetables, fruit, nuts or other parts of plants",
          "all/Dairy produce; birds' eggs; natural honey; edible products of animal origin, not elsewhere specified or included",
          "all/Oil seeds and oleaginous fruits; miscellaneous grains, seeds and fruit, industrial or medicinal plants; straw and fodder",
          "all/Vegetables and certain roots and tubers; edible",
          "all/Products of the milling industry; malt, starches, inulin, wheat gluten",
          "all/Preparations of vegetables, fruit, nuts or other parts of plants",
          "all/Animal originated products; not elsewhere specified or included",
          "all/Preparations of cereals, flour, starch or milk; pastrycooks' products",
          "all/Fish and crustaceans, molluscs and other aquatic invertebrates",
          "all/Preparations of vegetables, fruit, nuts or other parts of plants",
          "all/Preparations of cereals, flour, starch or milk; pastrycooks' products",
          "all/Coffee, tea, mate and spices",
          "all/Sugars and sugar confectionery",
          "all/Vegetables and certain roots and tubers; edible",
          "all/Lac; gums, resins and other vegetable saps and extracts",
          "all/Animal originated products; not elsewhere specified or included",
          "all/Oil seeds and oleaginous fruits; miscellaneous grains, seeds and fruit, industrial or medicinal plants; straw and fodder",
          "all/Dairy produce; birds' eggs; natural honey; edible products of animal origin, not elsewhere specified or included",
          "all/Oil seeds and oleaginous fruits; miscellaneous grains, seeds and fruit, industrial or medicinal plants; straw and fodder",
          "all/Fruit and nuts, edible; peel of citrus fruit or melons",
          "all/Coffee, tea, mate and spices",
          "all/Preparations of vegetables, fruit, nuts or other parts of plants",
          "all/Oil seeds and oleaginous fruits; miscellaneous grains, seeds and fruit, industrial or medicinal plants; straw and fodder",
          "all/Animal originated products; not elsewhere specified or included",
          "all/Preparations of cereals, flour, starch or milk; pastrycooks' products",
          "all/Animal or vegetable fats and oils and their cleavage products; prepared animal fats; animal or vegetable waxes",
          "all/Fruit and nuts, edible; peel of citrus fruit or melons",
          "all/Dairy produce; birds' eggs; natural honey; edible products of animal origin, not elsewhere specified or included",
          "all/Coffee, tea, mate and spices",
          "all/Animal originated products; not elsewhere specified or included",
          "all/Fruit and nuts, edible; peel of citrus fruit or melons",
          "all/Animal or vegetable fats and oils and their cleavage products; prepared animal fats; animal or vegetable waxes",
          "all/Animal or vegetable fats and oils and their cleavage products; prepared animal fats; animal or vegetable waxes",
          "all/Animals; live",
          "all/Oil seeds and oleaginous fruits; miscellaneous grains, seeds and fruit, industrial or medicinal plants; straw and fodder",
          "all/Vegetables and certain roots and tubers; edible",
          "all/Preparations of cereals, flour, starch or milk; pastrycooks' products",
          "all/Vegetables and certain roots and tubers; edible",
          "all/Preparations of cereals, flour, starch or milk; pastrycooks' products",
          "all/Preparations of vegetables, fruit, nuts or other parts of plants",
          "all/Preparations of cereals, flour, starch or milk; pastrycooks' products",
          "all/Oil seeds and oleaginous fruits; miscellaneous grains, seeds and fruit, industrial or medicinal plants; straw and fodder",
          "all/Cereals",
          "all/Vegetables and certain roots and tubers; edible",
          "all/Preparations of vegetables, fruit, nuts or other parts of plants",
          "all/Coffee, tea, mate and spices",
          "all/Animal originated products; not elsewhere specified or included",
          "all/Meat and edible meat offal",
          "all/Sugars and sugar confectionery",
          "all/Meat, fish or crustaceans, molluscs or other aquatic invertebrates; preparations thereof",
          "all/Vegetables and certain roots and tubers; edible",
          "all/Fruit and nuts, edible; peel of citrus fruit or melons",
          "all/Preparations of cereals, flour, starch or milk; pastrycooks' products",
          "all/Oil seeds and oleaginous fruits; miscellaneous grains, seeds and fruit, industrial or medicinal plants; straw and fodder",
          "all/Lac; gums, resins and other vegetable saps and extracts",
          "all/Dairy produce; birds' eggs; natural honey; edible products of animal origin, not elsewhere specified or included",
          "all/Fruit and nuts, edible; peel of citrus fruit or melons",
          "all/Sugars and sugar confectionery",
          "all/Fruit and nuts, edible; peel of citrus fruit or melons",
          "all/Animal or vegetable fats and oils and their cleavage products; prepared animal fats; animal or vegetable waxes",
          "all/Animal or vegetable fats and oils and their cleavage products; prepared animal fats; animal or vegetable waxes",
          "all/Oil seeds and oleaginous fruits; miscellaneous grains, seeds and fruit, industrial or medicinal plants; straw and fodder",
          "all/Lac; gums, resins and other vegetable saps and extracts",
          "all/Sugars and sugar confectionery",
          "all/Oil seeds and oleaginous fruits; miscellaneous grains, seeds and fruit, industrial or medicinal plants; straw and fodder",
          "all/Lac; gums, resins and other vegetable saps and extracts",
          "all/Coffee, tea, mate and spices",
          "all/Vegetables and certain roots and tubers; edible",
          "all/Animal or vegetable fats and oils and their cleavage products; prepared animal fats; animal or vegetable waxes",
          "all/Animal originated products; not elsewhere specified or included",
          "all/Cereals",
          "all/Oil seeds and oleaginous fruits; miscellaneous grains, seeds and fruit, industrial or medicinal plants; straw and fodder",
          "all/Preparations of vegetables, fruit, nuts or other parts of plants",
          "all/Coffee, tea, mate and spices",
          "all/Oil seeds and oleaginous fruits; miscellaneous grains, seeds and fruit, industrial or medicinal plants; straw and fodder",
          "all/Meat, fish or crustaceans, molluscs or other aquatic invertebrates; preparations thereof",
          "all/Fruit and nuts, edible; peel of citrus fruit or melons",
          "all/Coffee, tea, mate and spices",
          "all/Animal or vegetable fats and oils and their cleavage products; prepared animal fats; animal or vegetable waxes",
          "all/Products of the milling industry; malt, starches, inulin, wheat gluten",
          "all/Sugars and sugar confectionery",
          "all/Coffee, tea, mate and spices",
          "all/Fruit and nuts, edible; peel of citrus fruit or melons",
          "all/Coffee, tea, mate and spices",
          "all/Fruit and nuts, edible; peel of citrus fruit or melons",
          "all/Coffee, tea, mate and spices",
          "all/Vegetables and certain roots and tubers; edible",
          "all/Dairy produce; birds' eggs; natural honey; edible products of animal origin, not elsewhere specified or included",
          "all/Preparations of vegetables, fruit, nuts or other parts of plants",
          "all/Dairy produce; birds' eggs; natural honey; edible products of animal origin, not elsewhere specified or included",
          "all/Oil seeds and oleaginous fruits; miscellaneous grains, seeds and fruit, industrial or medicinal plants; straw and fodder",
          "all/Coffee, tea, mate and spices",
          "all/Sugars and sugar confectionery",
          "all/Cereals",
          "all/Oil seeds and oleaginous fruits; miscellaneous grains, seeds and fruit, industrial or medicinal plants; straw and fodder",
          "all/Vegetables and certain roots and tubers; edible",
          "all/Oil seeds and oleaginous fruits; miscellaneous grains, seeds and fruit, industrial or medicinal plants; straw and fodder",
          "all/Meat, fish or crustaceans, molluscs or other aquatic invertebrates; preparations thereof",
          "all/Lac; gums, resins and other vegetable saps and extracts",
          "all/Meat and edible meat offal",
          "all/Products of the milling industry; malt, starches, inulin, wheat gluten",
          "all/Preparations of vegetables, fruit, nuts or other parts of plants",
          "all/Oil seeds and oleaginous fruits; miscellaneous grains, seeds and fruit, industrial or medicinal plants; straw and fodder",
          "all/Animal or vegetable fats and oils and their cleavage products; prepared animal fats; animal or vegetable waxes",
          "all/Vegetables and certain roots and tubers; edible",
          "all/Animal or vegetable fats and oils and their cleavage products; prepared animal fats; animal or vegetable waxes",
          "all/Coffee, tea, mate and spices",
          "all/Meat and edible meat offal",
          "all/Oil seeds and oleaginous fruits; miscellaneous grains, seeds and fruit, industrial or medicinal plants; straw and fodder",
          "all/Preparations of cereals, flour, starch or milk; pastrycooks' products",
          "all/Animal or vegetable fats and oils and their cleavage products; prepared animal fats; animal or vegetable waxes",
          "all/Animal or vegetable fats and oils and their cleavage products; prepared animal fats; animal or vegetable waxes",
          "all/Dairy produce; birds' eggs; natural honey; edible products of animal origin, not elsewhere specified or included",
          "all/Animal or vegetable fats and oils and their cleavage products; prepared animal fats; animal or vegetable waxes",
          "all/Products of the milling industry; malt, starches, inulin, wheat gluten",
          "all/Meat and edible meat offal",
          "all/Coffee, tea, mate and spices",
          "all/Lac; gums, resins and other vegetable saps and extracts",
          "all/Coffee, tea, mate and spices",
          "all/Preparations of vegetables, fruit, nuts or other parts of plants",
          "all/Animals; live",
          "all/Animal or vegetable fats and oils and their cleavage products; prepared animal fats; animal or vegetable waxes",
          "all/Preparations of cereals, flour, starch or milk; pastrycooks' products",
          "all/Lac; gums, resins and other vegetable saps and extracts",
          "all/Coffee, tea, mate and spices",
          "all/Preparations of vegetables, fruit, nuts or other parts of plants",
          "all/Fruit and nuts, edible; peel of citrus fruit or melons",
          "all/Fruit and nuts, edible; peel of citrus fruit or melons",
          "all/Animals; live",
          "all/Oil seeds and oleaginous fruits; miscellaneous grains, seeds and fruit, industrial or medicinal plants; straw and fodder",
          "all/Meat, fish or crustaceans, molluscs or other aquatic invertebrates; preparations thereof",
          "all/Preparations of cereals, flour, starch or milk; pastrycooks' products",
          "all/Vegetables and certain roots and tubers; edible",
          "all/Dairy produce; birds' eggs; natural honey; edible products of animal origin, not elsewhere specified or included",
          "all/Oil seeds and oleaginous fruits; miscellaneous grains, seeds and fruit, industrial or medicinal plants; straw and fodder",
          "all/Preparations of vegetables, fruit, nuts or other parts of plants",
          "all/Preparations of vegetables, fruit, nuts or other parts of plants",
          "all/Coffee, tea, mate and spices",
          "all/Animal originated products; not elsewhere specified or included",
          "all/Sugars and sugar confectionery",
          "all/Meat, fish or crustaceans, molluscs or other aquatic invertebrates; preparations thereof",
          "all/Sugars and sugar confectionery",
          "all/Fruit and nuts, edible; peel of citrus fruit or melons",
          "all/Vegetables and certain roots and tubers; edible",
          "all/Sugars and sugar confectionery",
          "all/Lac; gums, resins and other vegetable saps and extracts",
          "all/Animal or vegetable fats and oils and their cleavage products; prepared animal fats; animal or vegetable waxes",
          "all/Dairy produce; birds' eggs; natural honey; edible products of animal origin, not elsewhere specified or included",
          "all/Products of the milling industry; malt, starches, inulin, wheat gluten",
          "all/Animals; live",
          "all/Animals; live",
          "all/Lac; gums, resins and other vegetable saps and extracts",
          "all/Preparations of vegetables, fruit, nuts or other parts of plants",
          "all/Lac; gums, resins and other vegetable saps and extracts",
          "all/Animals; live",
          "all/Cereals",
          "all/Vegetables and certain roots and tubers; edible",
          "all/Lac; gums, resins and other vegetable saps and extracts",
          "all/Oil seeds and oleaginous fruits; miscellaneous grains, seeds and fruit, industrial or medicinal plants; straw and fodder",
          "all/Cereals",
          "all/Animals; live",
          "all/Coffee, tea, mate and spices",
          "all/Fruit and nuts, edible; peel of citrus fruit or melons",
          "all/Cereals",
          "all/Oil seeds and oleaginous fruits; miscellaneous grains, seeds and fruit, industrial or medicinal plants; straw and fodder",
          "all/Lac; gums, resins and other vegetable saps and extracts",
          "all/Animal originated products; not elsewhere specified or included",
          "all/Oil seeds and oleaginous fruits; miscellaneous grains, seeds and fruit, industrial or medicinal plants; straw and fodder",
          "all/Animal originated products; not elsewhere specified or included",
          "all/Lac; gums, resins and other vegetable saps and extracts",
          "all/Animal originated products; not elsewhere specified or included",
          "all/Products of the milling industry; malt, starches, inulin, wheat gluten",
          "all/Oil seeds and oleaginous fruits; miscellaneous grains, seeds and fruit, industrial or medicinal plants; straw and fodder",
          "all/Vegetables and certain roots and tubers; edible",
          "all/Animals; live",
          "all/Preparations of vegetables, fruit, nuts or other parts of plants",
          "all/Animal originated products; not elsewhere specified or included",
          "all/Cereals",
          "all/Vegetables and certain roots and tubers; edible",
          "all/Products of the milling industry; malt, starches, inulin, wheat gluten",
          "all/Animal originated products; not elsewhere specified or included",
          "all/Coffee, tea, mate and spices",
          "all/Cereals",
          "all/Cereals",
          "all/Sugars and sugar confectionery",
          "all/Preparations of vegetables, fruit, nuts or other parts of plants",
          "all/Lac; gums, resins and other vegetable saps and extracts",
          "all/Animal or vegetable fats and oils and their cleavage products; prepared animal fats; animal or vegetable waxes",
          "all/Lac; gums, resins and other vegetable saps and extracts",
          "all/Dairy produce; birds' eggs; natural honey; edible products of animal origin, not elsewhere specified or included",
          "all/Preparations of vegetables, fruit, nuts or other parts of plants",
          "all/Meat and edible meat offal",
          "all/Animals; live",
          "all/Dairy produce; birds' eggs; natural honey; edible products of animal origin, not elsewhere specified or included",
          "all/Products of the milling industry; malt, starches, inulin, wheat gluten",
          "all/Animals; live",
          "all/Animal or vegetable fats and oils and their cleavage products; prepared animal fats; animal or vegetable waxes",
          "all/Products of the milling industry; malt, starches, inulin, wheat gluten",
          "all/Sugars and sugar confectionery",
          "all/Sugars and sugar confectionery",
          "all/Preparations of cereals, flour, starch or milk; pastrycooks' products",
          "all/Fruit and nuts, edible; peel of citrus fruit or melons",
          "all/Vegetables and certain roots and tubers; edible",
          "all/Fruit and nuts, edible; peel of citrus fruit or melons",
          "all/Meat, fish or crustaceans, molluscs or other aquatic invertebrates; preparations thereof",
          "all/Cereals",
          "all/Animals; live",
          "all/Animal originated products; not elsewhere specified or included",
          "all/Animal originated products; not elsewhere specified or included",
          "all/Vegetables and certain roots and tubers; edible",
          "all/Products of the milling industry; malt, starches, inulin, wheat gluten",
          "all/Products of the milling industry; malt, starches, inulin, wheat gluten",
          "all/Animal originated products; not elsewhere specified or included",
          "all/Meat, fish or crustaceans, molluscs or other aquatic invertebrates; preparations thereof",
          "all/Animal or vegetable fats and oils and their cleavage products; prepared animal fats; animal or vegetable waxes",
          "all/Animal or vegetable fats and oils and their cleavage products; prepared animal fats; animal or vegetable waxes",
          "all/Lac; gums, resins and other vegetable saps and extracts",
          "all/Fruit and nuts, edible; peel of citrus fruit or melons",
          "all/Animals; live",
          "all/Oil seeds and oleaginous fruits; miscellaneous grains, seeds and fruit, industrial or medicinal plants; straw and fodder",
          "all/Preparations of vegetables, fruit, nuts or other parts of plants",
          "all/Oil seeds and oleaginous fruits; miscellaneous grains, seeds and fruit, industrial or medicinal plants; straw and fodder",
          "all/Sugars and sugar confectionery",
          "all/Dairy produce; birds' eggs; natural honey; edible products of animal origin, not elsewhere specified or included",
          "all/Meat and edible meat offal",
          "all/Coffee, tea, mate and spices",
          "all/Dairy produce; birds' eggs; natural honey; edible products of animal origin, not elsewhere specified or included",
          "all/Cereals",
          "all/Animals; live",
          "all/Preparations of vegetables, fruit, nuts or other parts of plants",
          "all/Dairy produce; birds' eggs; natural honey; edible products of animal origin, not elsewhere specified or included",
          "all/Oil seeds and oleaginous fruits; miscellaneous grains, seeds and fruit, industrial or medicinal plants; straw and fodder",
          "all/Vegetables and certain roots and tubers; edible",
          "all/Animals; live",
          "all/Animal or vegetable fats and oils and their cleavage products; prepared animal fats; animal or vegetable waxes",
          "all/Sugars and sugar confectionery",
          "all/Dairy produce; birds' eggs; natural honey; edible products of animal origin, not elsewhere specified or included",
          "all/Sugars and sugar confectionery",
          "all/Preparations of cereals, flour, starch or milk; pastrycooks' products",
          "all/Animal or vegetable fats and oils and their cleavage products; prepared animal fats; animal or vegetable waxes",
          "all/Coffee, tea, mate and spices",
          "all/Preparations of vegetables, fruit, nuts or other parts of plants",
          "all/Products of the milling industry; malt, starches, inulin, wheat gluten",
          "all/Preparations of vegetables, fruit, nuts or other parts of plants",
          "all/Animal or vegetable fats and oils and their cleavage products; prepared animal fats; animal or vegetable waxes",
          "all/Animal originated products; not elsewhere specified or included",
          "all/Preparations of cereals, flour, starch or milk; pastrycooks' products",
          "all/Products of the milling industry; malt, starches, inulin, wheat gluten",
          "all/Animals; live",
          "all/Oil seeds and oleaginous fruits; miscellaneous grains, seeds and fruit, industrial or medicinal plants; straw and fodder",
          "all/Coffee, tea, mate and spices",
          "all/Dairy produce; birds' eggs; natural honey; edible products of animal origin, not elsewhere specified or included",
          "all/Fruit and nuts, edible; peel of citrus fruit or melons",
          "all/Fruit and nuts, edible; peel of citrus fruit or melons",
          "all/Animals; live",
          "all/Lac; gums, resins and other vegetable saps and extracts",
          "all/Fruit and nuts, edible; peel of citrus fruit or melons",
          "all/Animal or vegetable fats and oils and their cleavage products; prepared animal fats; animal or vegetable waxes",
          "all/Oil seeds and oleaginous fruits; miscellaneous grains, seeds and fruit, industrial or medicinal plants; straw and fodder",
          "all/Sugars and sugar confectionery",
          "all/Fruit and nuts, edible; peel of citrus fruit or melons",
          "all/Preparations of cereals, flour, starch or milk; pastrycooks' products",
          "all/Meat and edible meat offal",
          "all/Sugars and sugar confectionery",
          "all/Animals; live",
          "all/Meat and edible meat offal",
          "all/Dairy produce; birds' eggs; natural honey; edible products of animal origin, not elsewhere specified or included",
          "all/Animal or vegetable fats and oils and their cleavage products; prepared animal fats; animal or vegetable waxes",
          "all/Coffee, tea, mate and spices",
          "all/Vegetables and certain roots and tubers; edible",
          "all/Animals; live",
          "all/Cereals",
          "all/Meat, fish or crustaceans, molluscs or other aquatic invertebrates; preparations thereof",
          "all/Oil seeds and oleaginous fruits; miscellaneous grains, seeds and fruit, industrial or medicinal plants; straw and fodder",
          "all/Fruit and nuts, edible; peel of citrus fruit or melons",
          "all/Preparations of cereals, flour, starch or milk; pastrycooks' products",
          "all/Vegetables and certain roots and tubers; edible",
          "all/Coffee, tea, mate and spices",
          "all/Coffee, tea, mate and spices",
          "all/Animal originated products; not elsewhere specified or included",
          "all/Sugars and sugar confectionery",
          "all/Preparations of cereals, flour, starch or milk; pastrycooks' products",
          "all/Oil seeds and oleaginous fruits; miscellaneous grains, seeds and fruit, industrial or medicinal plants; straw and fodder",
          "all/Sugars and sugar confectionery",
          "all/Preparations of cereals, flour, starch or milk; pastrycooks' products",
          "all/Fruit and nuts, edible; peel of citrus fruit or melons",
          "all/Dairy produce; birds' eggs; natural honey; edible products of animal origin, not elsewhere specified or included",
          "all/Animals; live",
          "all/Products of the milling industry; malt, starches, inulin, wheat gluten",
          "all/Coffee, tea, mate and spices",
          "all/Oil seeds and oleaginous fruits; miscellaneous grains, seeds and fruit, industrial or medicinal plants; straw and fodder",
          "all/Fruit and nuts, edible; peel of citrus fruit or melons",
          "all/Animals; live",
          "all/Lac; gums, resins and other vegetable saps and extracts",
          "all/Vegetables and certain roots and tubers; edible",
          "all/Preparations of cereals, flour, starch or milk; pastrycooks' products",
          "all/Lac; gums, resins and other vegetable saps and extracts",
          "all/Sugars and sugar confectionery",
          "all/Preparations of cereals, flour, starch or milk; pastrycooks' products",
          "all/Products of the milling industry; malt, starches, inulin, wheat gluten",
          "all/Preparations of cereals, flour, starch or milk; pastrycooks' products",
          "all/Preparations of cereals, flour, starch or milk; pastrycooks' products",
          "all/Preparations of cereals, flour, starch or milk; pastrycooks' products",
          "all/Preparations of cereals, flour, starch or milk; pastrycooks' products",
          "all/Lac; gums, resins and other vegetable saps and extracts",
          "all/Lac; gums, resins and other vegetable saps and extracts",
          "all/Fruit and nuts, edible; peel of citrus fruit or melons",
          "all/Lac; gums, resins and other vegetable saps and extracts",
          "all/Cereals",
          "all/Dairy produce; birds' eggs; natural honey; edible products of animal origin, not elsewhere specified or included",
          "all/Meat and edible meat offal",
          "all/Oil seeds and oleaginous fruits; miscellaneous grains, seeds and fruit, industrial or medicinal plants; straw and fodder",
          "all/Preparations of vegetables, fruit, nuts or other parts of plants",
          "all/Lac; gums, resins and other vegetable saps and extracts",
          "all/Animals; live",
          "all/Lac; gums, resins and other vegetable saps and extracts",
          "all/Fruit and nuts, edible; peel of citrus fruit or melons",
          "all/Dairy produce; birds' eggs; natural honey; edible products of animal origin, not elsewhere specified or included",
          "all/Animals; live",
          "all/Dairy produce; birds' eggs; natural honey; edible products of animal origin, not elsewhere specified or included",
          "all/Sugars and sugar confectionery",
          "all/Meat and edible meat offal",
          "all/Preparations of vegetables, fruit, nuts or other parts of plants",
          "all/Lac; gums, resins and other vegetable saps and extracts",
          "all/Animal or vegetable fats and oils and their cleavage products; prepared animal fats; animal or vegetable waxes",
          "all/Coffee, tea, mate and spices",
          "all/Preparations of cereals, flour, starch or milk; pastrycooks' products",
          "all/Dairy produce; birds' eggs; natural honey; edible products of animal origin, not elsewhere specified or included",
          "all/Vegetables and certain roots and tubers; edible",
          "all/Fish and crustaceans, molluscs and other aquatic invertebrates",
          "all/Cereals",
          "all/Animals; live",
          "all/Fruit and nuts, edible; peel of citrus fruit or melons",
          "all/Animals; live",
          "all/Oil seeds and oleaginous fruits; miscellaneous grains, seeds and fruit, industrial or medicinal plants; straw and fodder",
          "all/Meat, fish or crustaceans, molluscs or other aquatic invertebrates; preparations thereof",
          "all/Preparations of cereals, flour, starch or milk; pastrycooks' products",
          "all/Vegetables and certain roots and tubers; edible",
          "all/Dairy produce; birds' eggs; natural honey; edible products of animal origin, not elsewhere specified or included",
          "all/Fish and crustaceans, molluscs and other aquatic invertebrates",
          "all/Products of the milling industry; malt, starches, inulin, wheat gluten",
          "all/Sugars and sugar confectionery",
          "all/Preparations of cereals, flour, starch or milk; pastrycooks' products",
          "all/Animal or vegetable fats and oils and their cleavage products; prepared animal fats; animal or vegetable waxes",
          "all/Animal or vegetable fats and oils and their cleavage products; prepared animal fats; animal or vegetable waxes",
          "all/Coffee, tea, mate and spices",
          "all/Lac; gums, resins and other vegetable saps and extracts",
          "all/Vegetables and certain roots and tubers; edible",
          "all/Fruit and nuts, edible; peel of citrus fruit or melons",
          "all/Animal originated products; not elsewhere specified or included",
          "all/Animal or vegetable fats and oils and their cleavage products; prepared animal fats; animal or vegetable waxes",
          "all/Lac; gums, resins and other vegetable saps and extracts",
          "all/Oil seeds and oleaginous fruits; miscellaneous grains, seeds and fruit, industrial or medicinal plants; straw and fodder",
          "all/Preparations of vegetables, fruit, nuts or other parts of plants",
          "all/Animal or vegetable fats and oils and their cleavage products; prepared animal fats; animal or vegetable waxes",
          "all/Coffee, tea, mate and spices",
          "all/Animal or vegetable fats and oils and their cleavage products; prepared animal fats; animal or vegetable waxes",
          "all/Preparations of vegetables, fruit, nuts or other parts of plants",
          "all/Animals; live",
          "all/Dairy produce; birds' eggs; natural honey; edible products of animal origin, not elsewhere specified or included",
          "all/Oil seeds and oleaginous fruits; miscellaneous grains, seeds and fruit, industrial or medicinal plants; straw and fodder",
          "all/Dairy produce; birds' eggs; natural honey; edible products of animal origin, not elsewhere specified or included",
          "all/Meat, fish or crustaceans, molluscs or other aquatic invertebrates; preparations thereof",
          "all/Preparations of cereals, flour, starch or milk; pastrycooks' products",
          "all/Oil seeds and oleaginous fruits; miscellaneous grains, seeds and fruit, industrial or medicinal plants; straw and fodder",
          "all/Sugars and sugar confectionery",
          "all/Animal or vegetable fats and oils and their cleavage products; prepared animal fats; animal or vegetable waxes",
          "all/Oil seeds and oleaginous fruits; miscellaneous grains, seeds and fruit, industrial or medicinal plants; straw and fodder",
          "all/Oil seeds and oleaginous fruits; miscellaneous grains, seeds and fruit, industrial or medicinal plants; straw and fodder",
          "all/Coffee, tea, mate and spices",
          "all/Oil seeds and oleaginous fruits; miscellaneous grains, seeds and fruit, industrial or medicinal plants; straw and fodder",
          "all/Cereals",
          "all/Coffee, tea, mate and spices",
          "all/Lac; gums, resins and other vegetable saps and extracts",
          "all/Preparations of cereals, flour, starch or milk; pastrycooks' products",
          "all/Preparations of vegetables, fruit, nuts or other parts of plants",
          "all/Preparations of vegetables, fruit, nuts or other parts of plants",
          "all/Oil seeds and oleaginous fruits; miscellaneous grains, seeds and fruit, industrial or medicinal plants; straw and fodder",
          "all/Vegetables and certain roots and tubers; edible",
          "all/Sugars and sugar confectionery",
          "all/Oil seeds and oleaginous fruits; miscellaneous grains, seeds and fruit, industrial or medicinal plants; straw and fodder",
          "all/Preparations of vegetables, fruit, nuts or other parts of plants",
          "all/Oil seeds and oleaginous fruits; miscellaneous grains, seeds and fruit, industrial or medicinal plants; straw and fodder",
          "all/Animal or vegetable fats and oils and their cleavage products; prepared animal fats; animal or vegetable waxes",
          "all/Animal or vegetable fats and oils and their cleavage products; prepared animal fats; animal or vegetable waxes",
          "all/Lac; gums, resins and other vegetable saps and extracts",
          "all/Fruit and nuts, edible; peel of citrus fruit or melons",
          "all/Animal or vegetable fats and oils and their cleavage products; prepared animal fats; animal or vegetable waxes",
          "all/Preparations of vegetables, fruit, nuts or other parts of plants",
          "all/Fruit and nuts, edible; peel of citrus fruit or melons",
          "all/Sugars and sugar confectionery",
          "all/Cereals",
          "all/Sugars and sugar confectionery",
          "all/Coffee, tea, mate and spices",
          "all/Animal originated products; not elsewhere specified or included",
          "all/Cereals",
          "all/Preparations of vegetables, fruit, nuts or other parts of plants",
          "all/Preparations of cereals, flour, starch or milk; pastrycooks' products",
          "all/Fruit and nuts, edible; peel of citrus fruit or melons",
          "all/Products of the milling industry; malt, starches, inulin, wheat gluten",
          "all/Vegetables and certain roots and tubers; edible",
          "all/Animals; live",
          "all/Oil seeds and oleaginous fruits; miscellaneous grains, seeds and fruit, industrial or medicinal plants; straw and fodder",
          "all/Fish and crustaceans, molluscs and other aquatic invertebrates",
          "all/Animal or vegetable fats and oils and their cleavage products; prepared animal fats; animal or vegetable waxes",
          "all/Lac; gums, resins and other vegetable saps and extracts",
          "all/Fish and crustaceans, molluscs and other aquatic invertebrates",
          "all/Oil seeds and oleaginous fruits; miscellaneous grains, seeds and fruit, industrial or medicinal plants; straw and fodder",
          "all/Meat and edible meat offal",
          "all/Oil seeds and oleaginous fruits; miscellaneous grains, seeds and fruit, industrial or medicinal plants; straw and fodder",
          "all/Animal originated products; not elsewhere specified or included",
          "all/Dairy produce; birds' eggs; natural honey; edible products of animal origin, not elsewhere specified or included",
          "all/Oil seeds and oleaginous fruits; miscellaneous grains, seeds and fruit, industrial or medicinal plants; straw and fodder",
          "all/Vegetables and certain roots and tubers; edible",
          "all/Preparations of cereals, flour, starch or milk; pastrycooks' products",
          "all/Products of the milling industry; malt, starches, inulin, wheat gluten",
          "all/Meat and edible meat offal",
          "all/Products of the milling industry; malt, starches, inulin, wheat gluten",
          "all/Preparations of vegetables, fruit, nuts or other parts of plants",
          "all/Coffee, tea, mate and spices",
          "all/Animal or vegetable fats and oils and their cleavage products; prepared animal fats; animal or vegetable waxes",
          "all/Products of the milling industry; malt, starches, inulin, wheat gluten",
          "all/Animals; live",
          "all/Meat and edible meat offal",
          "all/Coffee, tea, mate and spices",
          "all/Animal originated products; not elsewhere specified or included",
          "all/Dairy produce; birds' eggs; natural honey; edible products of animal origin, not elsewhere specified or included",
          "all/Lac; gums, resins and other vegetable saps and extracts",
          "all/Dairy produce; birds' eggs; natural honey; edible products of animal origin, not elsewhere specified or included",
          "all/Dairy produce; birds' eggs; natural honey; edible products of animal origin, not elsewhere specified or included",
          "all/Preparations of cereals, flour, starch or milk; pastrycooks' products",
          "all/Animals; live",
          "all/Preparations of cereals, flour, starch or milk; pastrycooks' products",
          "all/Coffee, tea, mate and spices",
          "all/Fruit and nuts, edible; peel of citrus fruit or melons",
          "all/Coffee, tea, mate and spices",
          "all/Meat and edible meat offal",
          "all/Preparations of vegetables, fruit, nuts or other parts of plants",
          "all/Preparations of cereals, flour, starch or milk; pastrycooks' products",
          "all/Oil seeds and oleaginous fruits; miscellaneous grains, seeds and fruit, industrial or medicinal plants; straw and fodder",
          "all/Animal or vegetable fats and oils and their cleavage products; prepared animal fats; animal or vegetable waxes",
          "all/Cereals",
          "all/Oil seeds and oleaginous fruits; miscellaneous grains, seeds and fruit, industrial or medicinal plants; straw and fodder",
          "all/Coffee, tea, mate and spices",
          "all/Preparations of vegetables, fruit, nuts or other parts of plants",
          "all/Preparations of cereals, flour, starch or milk; pastrycooks' products",
          "all/Preparations of cereals, flour, starch or milk; pastrycooks' products",
          "all/Vegetables and certain roots and tubers; edible",
          "all/Oil seeds and oleaginous fruits; miscellaneous grains, seeds and fruit, industrial or medicinal plants; straw and fodder",
          "all/Animals; live",
          "all/Meat and edible meat offal",
          "all/Animal or vegetable fats and oils and their cleavage products; prepared animal fats; animal or vegetable waxes",
          "all/Vegetables and certain roots and tubers; edible",
          "all/Fruit and nuts, edible; peel of citrus fruit or melons",
          "all/Oil seeds and oleaginous fruits; miscellaneous grains, seeds and fruit, industrial or medicinal plants; straw and fodder",
          "all/Products of the milling industry; malt, starches, inulin, wheat gluten",
          "all/Vegetables and certain roots and tubers; edible",
          "all/Preparations of vegetables, fruit, nuts or other parts of plants",
          "all/Oil seeds and oleaginous fruits; miscellaneous grains, seeds and fruit, industrial or medicinal plants; straw and fodder",
          "all/Animal or vegetable fats and oils and their cleavage products; prepared animal fats; animal or vegetable waxes",
          "all/Oil seeds and oleaginous fruits; miscellaneous grains, seeds and fruit, industrial or medicinal plants; straw and fodder",
          "all/Lac; gums, resins and other vegetable saps and extracts",
          "all/Preparations of vegetables, fruit, nuts or other parts of plants",
          "all/Preparations of vegetables, fruit, nuts or other parts of plants",
          "all/Fish and crustaceans, molluscs and other aquatic invertebrates",
          "all/Animals; live",
          "all/Coffee, tea, mate and spices",
          "all/Sugars and sugar confectionery",
          "all/Dairy produce; birds' eggs; natural honey; edible products of animal origin, not elsewhere specified or included",
          "all/Oil seeds and oleaginous fruits; miscellaneous grains, seeds and fruit, industrial or medicinal plants; straw and fodder",
          "all/Dairy produce; birds' eggs; natural honey; edible products of animal origin, not elsewhere specified or included",
          "all/Sugars and sugar confectionery",
          "all/Preparations of cereals, flour, starch or milk; pastrycooks' products",
          "all/Products of the milling industry; malt, starches, inulin, wheat gluten",
          "all/Vegetables and certain roots and tubers; edible",
          "all/Oil seeds and oleaginous fruits; miscellaneous grains, seeds and fruit, industrial or medicinal plants; straw and fodder",
          "all/Preparations of vegetables, fruit, nuts or other parts of plants",
          "all/Vegetables and certain roots and tubers; edible",
          "all/Dairy produce; birds' eggs; natural honey; edible products of animal origin, not elsewhere specified or included",
          "all/Vegetables and certain roots and tubers; edible",
          "all/Sugars and sugar confectionery",
          "all/Coffee, tea, mate and spices",
          "all/Preparations of cereals, flour, starch or milk; pastrycooks' products",
          "all/Animal or vegetable fats and oils and their cleavage products; prepared animal fats; animal or vegetable waxes",
          "all/Animal originated products; not elsewhere specified or included",
          "all/Sugars and sugar confectionery",
          "all/Preparations of cereals, flour, starch or milk; pastrycooks' products",
          "all/Sugars and sugar confectionery",
          "all/Products of the milling industry; malt, starches, inulin, wheat gluten",
          "all/Coffee, tea, mate and spices",
          "all/Fish and crustaceans, molluscs and other aquatic invertebrates",
          "all/Oil seeds and oleaginous fruits; miscellaneous grains, seeds and fruit, industrial or medicinal plants; straw and fodder",
          "all/Fruit and nuts, edible; peel of citrus fruit or melons",
          "all/Fruit and nuts, edible; peel of citrus fruit or melons",
          "all/Animals; live",
          "all/Preparations of cereals, flour, starch or milk; pastrycooks' products",
          "all/Sugars and sugar confectionery",
          "all/Sugars and sugar confectionery",
          "all/Animals; live",
          "all/Lac; gums, resins and other vegetable saps and extracts",
          "all/Coffee, tea, mate and spices",
          "all/Fruit and nuts, edible; peel of citrus fruit or melons",
          "all/Vegetables and certain roots and tubers; edible",
          "all/Cereals",
          "all/Vegetables and certain roots and tubers; edible",
          "all/Coffee, tea, mate and spices",
          "all/Preparations of cereals, flour, starch or milk; pastrycooks' products",
          "all/Vegetables and certain roots and tubers; edible",
          "all/Sugars and sugar confectionery",
          "all/Vegetables and certain roots and tubers; edible",
          "all/Preparations of cereals, flour, starch or milk; pastrycooks' products",
          "all/Oil seeds and oleaginous fruits; miscellaneous grains, seeds and fruit, industrial or medicinal plants; straw and fodder",
          "all/Fish and crustaceans, molluscs and other aquatic invertebrates",
          "all/Vegetables and certain roots and tubers; edible",
          "all/Oil seeds and oleaginous fruits; miscellaneous grains, seeds and fruit, industrial or medicinal plants; straw and fodder",
          "all/Products of the milling industry; malt, starches, inulin, wheat gluten",
          "all/Animal or vegetable fats and oils and their cleavage products; prepared animal fats; animal or vegetable waxes",
          "all/Oil seeds and oleaginous fruits; miscellaneous grains, seeds and fruit, industrial or medicinal plants; straw and fodder",
          "all/Preparations of vegetables, fruit, nuts or other parts of plants",
          "all/Dairy produce; birds' eggs; natural honey; edible products of animal origin, not elsewhere specified or included",
          "all/Oil seeds and oleaginous fruits; miscellaneous grains, seeds and fruit, industrial or medicinal plants; straw and fodder",
          "all/Products of the milling industry; malt, starches, inulin, wheat gluten",
          "all/Cereals",
          "all/Lac; gums, resins and other vegetable saps and extracts",
          "all/Sugars and sugar confectionery",
          "all/Animal originated products; not elsewhere specified or included",
          "all",
          "all",
          "all",
          "all",
          "all",
          "all",
          "all",
          "all",
          "all",
          "all",
          "all",
          "all",
          "all",
          "all",
          "all",
          "all",
          "all",
          ""
         ],
         "type": "treemap",
         "values": [
          320857,
          3988,
          194047598,
          45436,
          1742620,
          815481,
          18830,
          3028144726,
          670136,
          144379,
          625623,
          133548,
          62258,
          85356,
          2342519,
          6404946,
          217278,
          103659009,
          17044,
          15637,
          33010,
          542,
          648,
          3,
          114518,
          496385921,
          3669659,
          42998,
          2836171,
          118623313,
          1907389,
          13610,
          1967,
          1440840,
          4580735,
          86769,
          8186,
          81,
          2804,
          23933,
          244687,
          330555,
          10859,
          1098767,
          631323,
          10646937,
          3169176,
          10004,
          28,
          543760,
          8198703,
          12259,
          47861,
          539084,
          155179,
          150117919,
          1332210,
          9245501,
          8895966,
          25719921,
          102,
          846324,
          6049,
          7601,
          2329251,
          3015822,
          56312,
          319125,
          13078,
          9496,
          11978,
          38845,
          187645,
          589,
          11625,
          2326069,
          12857,
          1950,
          1006,
          919674,
          689,
          11501115,
          8346990,
          107229,
          41119067,
          81035,
          1959630,
          108,
          321764,
          2487523,
          444190,
          131031,
          2307496,
          17868,
          581719,
          924,
          477854607,
          168217,
          27609,
          2981128,
          272683,
          199032,
          17664,
          774,
          4760,
          107407,
          17997,
          1540828,
          3410065,
          15092995,
          26127,
          26817,
          150070,
          3227,
          3339309,
          8497,
          22697,
          5191,
          5109,
          484424,
          4269608,
          44837,
          335,
          5632162,
          3440,
          555568,
          166073,
          531467,
          111498,
          12746,
          1262303,
          6554,
          937474,
          110,
          468605,
          1316503,
          16036,
          8928280,
          12433714,
          775143,
          48599,
          4701985,
          1868915,
          58400,
          146466,
          153320,
          20,
          169,
          6313,
          2321,
          28855,
          1070721,
          11358281,
          1471465,
          53463,
          165342,
          21018,
          96,
          303,
          94650,
          6970,
          880974,
          38133142,
          94887,
          121454,
          8544195,
          37552,
          91801762,
          174905,
          3092870,
          281785,
          4157,
          142071,
          671766,
          65914,
          4198,
          581,
          2473588,
          413,
          360302,
          292218,
          746536,
          21745,
          10979,
          2889,
          52664483,
          20190995,
          34197,
          5746,
          205480215,
          5877,
          1096076,
          62689,
          21010,
          7125,
          9037,
          1709413,
          105518,
          136760,
          439143,
          1209,
          29142412,
          2291,
          300170,
          44226,
          423,
          37979,
          1217464,
          364250,
          5465,
          21843,
          252227232,
          478940,
          9912,
          12160,
          354712,
          37122,
          783756,
          15914119,
          15799,
          126042,
          322,
          2143,
          111178,
          167176,
          3278449,
          4455369,
          20759203,
          1812280,
          36330,
          8154435,
          20,
          235,
          1189430,
          35765886,
          86749,
          154961,
          842,
          1189099,
          976196,
          1723,
          142653,
          925154,
          112642,
          369277,
          37870,
          443760353,
          3929,
          315196,
          7079853,
          4140702,
          759261,
          16093,
          6514,
          536155,
          37910,
          16165,
          71847282,
          2712009,
          18125,
          2219,
          45790,
          445184,
          85798,
          220496,
          23936,
          990,
          59812,
          4143177,
          6595,
          35794,
          653827,
          940817,
          163221,
          16467173,
          2887,
          211008,
          6490,
          154129,
          225470,
          18032294,
          19516,
          1139,
          2349809,
          7881,
          204424,
          10491,
          139411685,
          9584387,
          227416,
          158006,
          66941,
          766713,
          85589,
          187,
          1768042,
          6252,
          79518713,
          1498946,
          12091,
          11318818,
          21543,
          198,
          14872747,
          25493,
          21451,
          183424,
          1451,
          572125,
          662,
          320,
          800773,
          33840,
          99534,
          17639939,
          344720,
          54441,
          599,
          2268108,
          13071,
          1032706,
          1516197,
          1126,
          635,
          15639,
          4273325,
          13721,
          9490,
          31749,
          1322323,
          395864,
          49,
          1029275,
          226065,
          104191412,
          3474,
          365284,
          16004,
          21039,
          4181,
          83188,
          104712,
          18871,
          21353,
          328896,
          697070,
          55128,
          717,
          180340,
          190203,
          2240182,
          731282,
          34533101,
          539987,
          57837,
          584304,
          2380418,
          258,
          2548,
          34732841,
          353572,
          29212,
          334576,
          48186,
          1562605,
          52,
          403,
          6385,
          5584485,
          615293,
          43183,
          1518960,
          159934,
          8290,
          1020191,
          37310,
          45759,
          13683,
          8092,
          2259,
          101249,
          4860,
          44817,
          73436,
          47284,
          9684,
          4761,
          34753,
          104988,
          3461467,
          1422022,
          382025,
          509706,
          16129205,
          8640067,
          249865,
          290,
          118538,
          428005,
          7144,
          630918,
          86378,
          542172,
          9800858,
          14013,
          27686,
          166684,
          2824643,
          7894,
          12664,
          810915,
          1247068,
          2443970,
          476328,
          1417954,
          149173,
          4580826,
          763,
          10886,
          23279,
          2491355,
          3634,
          6276039,
          68505,
          41879,
          4498080,
          16063284,
          946,
          26099,
          108,
          153477,
          8404572,
          1021,
          1259193,
          143670,
          417307,
          419107,
          964380,
          78657,
          44287,
          559687,
          18127,
          2161156,
          292552,
          191,
          3432446,
          23299,
          145944,
          3311111,
          2887171,
          1141,
          5319448,
          3544063,
          1899732,
          106350,
          18819261,
          11940,
          8,
          4776,
          11514,
          113162,
          453215,
          16413024,
          136595,
          578,
          6755,
          1355076,
          683415,
          214741,
          7224,
          37541237,
          105003,
          1691642,
          37573,
          366710,
          798,
          62128,
          1942269,
          7895,
          365483,
          19833428,
          384271,
          11939,
          56228,
          3576,
          58219,
          4252297,
          12820,
          362780,
          205330,
          1588620,
          2219,
          7450,
          12528,
          53290418,
          261679,
          16725193,
          12922965,
          1131345,
          2283895,
          582982,
          1299253,
          220235,
          88037,
          3699316,
          2836840,
          5454562,
          430942818,
          2643605,
          483258,
          412760,
          11403359,
          1391617,
          248,
          27265,
          52330,
          976115,
          704,
          946031,
          273035,
          35793706,
          290423,
          3460,
          340246,
          368778,
          22769300,
          2943,
          84178,
          473514,
          2135,
          815472,
          2338,
          715661,
          11654,
          912724741,
          17577,
          8400351,
          9860278,
          2021,
          8911004,
          128370,
          4002,
          480682,
          51,
          592804,
          138,
          1226185,
          1785,
          15114,
          1771594,
          8477,
          116608,
          25613,
          2947809,
          2011,
          970828,
          135237,
          941,
          49734,
          19317,
          914,
          385853,
          585871,
          75598,
          1249950,
          425956,
          14760027,
          957136,
          1087051,
          1317737,
          224998,
          1040795,
          118,
          960,
          107237,
          43875,
          5532,
          11455150,
          5456,
          51,
          213446,
          129361359,
          1440844,
          25077,
          195484,
          794542,
          2218,
          416,
          61300,
          16614,
          976,
          55815,
          38900,
          158146,
          41130,
          150509,
          344990,
          72299,
          690763,
          71050315,
          7207019,
          9684,
          80248,
          8969713,
          17533594,
          12841489,
          607251,
          2013236,
          57479,
          108563,
          1822090,
          1010576,
          65028,
          577908,
          16992130,
          26969,
          276393,
          7798,
          164285,
          13770,
          802528,
          33578,
          1960315,
          1360,
          21736,
          6593,
          1059381,
          390158,
          992,
          835500,
          34272773,
          467721,
          17032282,
          3,
          118608,
          430617,
          239272433,
          14848,
          1908640,
          17326572,
          3013459,
          97,
          3,
          3628,
          1524,
          103785,
          550264,
          3525,
          2213760,
          42381,
          152421,
          3602545270,
          5263329,
          28524244,
          930742332,
          844936994,
          86904387,
          8984780,
          215894710,
          25189180,
          3129625,
          1991677,
          1979194038,
          144082704,
          45703935,
          16290386,
          242877730,
          943816604,
          9126071925
         ]
        }
       ],
       "layout": {
        "legend": {
         "tracegroupgap": 0
        },
        "margin": {
         "b": 0,
         "l": 0,
         "r": 0,
         "t": 50
        },
        "template": {
         "data": {
          "bar": [
           {
            "error_x": {
             "color": "#2a3f5f"
            },
            "error_y": {
             "color": "#2a3f5f"
            },
            "marker": {
             "line": {
              "color": "#E5ECF6",
              "width": 0.5
             },
             "pattern": {
              "fillmode": "overlay",
              "size": 10,
              "solidity": 0.2
             }
            },
            "type": "bar"
           }
          ],
          "barpolar": [
           {
            "marker": {
             "line": {
              "color": "#E5ECF6",
              "width": 0.5
             },
             "pattern": {
              "fillmode": "overlay",
              "size": 10,
              "solidity": 0.2
             }
            },
            "type": "barpolar"
           }
          ],
          "carpet": [
           {
            "aaxis": {
             "endlinecolor": "#2a3f5f",
             "gridcolor": "white",
             "linecolor": "white",
             "minorgridcolor": "white",
             "startlinecolor": "#2a3f5f"
            },
            "baxis": {
             "endlinecolor": "#2a3f5f",
             "gridcolor": "white",
             "linecolor": "white",
             "minorgridcolor": "white",
             "startlinecolor": "#2a3f5f"
            },
            "type": "carpet"
           }
          ],
          "choropleth": [
           {
            "colorbar": {
             "outlinewidth": 0,
             "ticks": ""
            },
            "type": "choropleth"
           }
          ],
          "contour": [
           {
            "colorbar": {
             "outlinewidth": 0,
             "ticks": ""
            },
            "colorscale": [
             [
              0,
              "#0d0887"
             ],
             [
              0.1111111111111111,
              "#46039f"
             ],
             [
              0.2222222222222222,
              "#7201a8"
             ],
             [
              0.3333333333333333,
              "#9c179e"
             ],
             [
              0.4444444444444444,
              "#bd3786"
             ],
             [
              0.5555555555555556,
              "#d8576b"
             ],
             [
              0.6666666666666666,
              "#ed7953"
             ],
             [
              0.7777777777777778,
              "#fb9f3a"
             ],
             [
              0.8888888888888888,
              "#fdca26"
             ],
             [
              1,
              "#f0f921"
             ]
            ],
            "type": "contour"
           }
          ],
          "contourcarpet": [
           {
            "colorbar": {
             "outlinewidth": 0,
             "ticks": ""
            },
            "type": "contourcarpet"
           }
          ],
          "heatmap": [
           {
            "colorbar": {
             "outlinewidth": 0,
             "ticks": ""
            },
            "colorscale": [
             [
              0,
              "#0d0887"
             ],
             [
              0.1111111111111111,
              "#46039f"
             ],
             [
              0.2222222222222222,
              "#7201a8"
             ],
             [
              0.3333333333333333,
              "#9c179e"
             ],
             [
              0.4444444444444444,
              "#bd3786"
             ],
             [
              0.5555555555555556,
              "#d8576b"
             ],
             [
              0.6666666666666666,
              "#ed7953"
             ],
             [
              0.7777777777777778,
              "#fb9f3a"
             ],
             [
              0.8888888888888888,
              "#fdca26"
             ],
             [
              1,
              "#f0f921"
             ]
            ],
            "type": "heatmap"
           }
          ],
          "heatmapgl": [
           {
            "colorbar": {
             "outlinewidth": 0,
             "ticks": ""
            },
            "colorscale": [
             [
              0,
              "#0d0887"
             ],
             [
              0.1111111111111111,
              "#46039f"
             ],
             [
              0.2222222222222222,
              "#7201a8"
             ],
             [
              0.3333333333333333,
              "#9c179e"
             ],
             [
              0.4444444444444444,
              "#bd3786"
             ],
             [
              0.5555555555555556,
              "#d8576b"
             ],
             [
              0.6666666666666666,
              "#ed7953"
             ],
             [
              0.7777777777777778,
              "#fb9f3a"
             ],
             [
              0.8888888888888888,
              "#fdca26"
             ],
             [
              1,
              "#f0f921"
             ]
            ],
            "type": "heatmapgl"
           }
          ],
          "histogram": [
           {
            "marker": {
             "pattern": {
              "fillmode": "overlay",
              "size": 10,
              "solidity": 0.2
             }
            },
            "type": "histogram"
           }
          ],
          "histogram2d": [
           {
            "colorbar": {
             "outlinewidth": 0,
             "ticks": ""
            },
            "colorscale": [
             [
              0,
              "#0d0887"
             ],
             [
              0.1111111111111111,
              "#46039f"
             ],
             [
              0.2222222222222222,
              "#7201a8"
             ],
             [
              0.3333333333333333,
              "#9c179e"
             ],
             [
              0.4444444444444444,
              "#bd3786"
             ],
             [
              0.5555555555555556,
              "#d8576b"
             ],
             [
              0.6666666666666666,
              "#ed7953"
             ],
             [
              0.7777777777777778,
              "#fb9f3a"
             ],
             [
              0.8888888888888888,
              "#fdca26"
             ],
             [
              1,
              "#f0f921"
             ]
            ],
            "type": "histogram2d"
           }
          ],
          "histogram2dcontour": [
           {
            "colorbar": {
             "outlinewidth": 0,
             "ticks": ""
            },
            "colorscale": [
             [
              0,
              "#0d0887"
             ],
             [
              0.1111111111111111,
              "#46039f"
             ],
             [
              0.2222222222222222,
              "#7201a8"
             ],
             [
              0.3333333333333333,
              "#9c179e"
             ],
             [
              0.4444444444444444,
              "#bd3786"
             ],
             [
              0.5555555555555556,
              "#d8576b"
             ],
             [
              0.6666666666666666,
              "#ed7953"
             ],
             [
              0.7777777777777778,
              "#fb9f3a"
             ],
             [
              0.8888888888888888,
              "#fdca26"
             ],
             [
              1,
              "#f0f921"
             ]
            ],
            "type": "histogram2dcontour"
           }
          ],
          "mesh3d": [
           {
            "colorbar": {
             "outlinewidth": 0,
             "ticks": ""
            },
            "type": "mesh3d"
           }
          ],
          "parcoords": [
           {
            "line": {
             "colorbar": {
              "outlinewidth": 0,
              "ticks": ""
             }
            },
            "type": "parcoords"
           }
          ],
          "pie": [
           {
            "automargin": true,
            "type": "pie"
           }
          ],
          "scatter": [
           {
            "fillpattern": {
             "fillmode": "overlay",
             "size": 10,
             "solidity": 0.2
            },
            "type": "scatter"
           }
          ],
          "scatter3d": [
           {
            "line": {
             "colorbar": {
              "outlinewidth": 0,
              "ticks": ""
             }
            },
            "marker": {
             "colorbar": {
              "outlinewidth": 0,
              "ticks": ""
             }
            },
            "type": "scatter3d"
           }
          ],
          "scattercarpet": [
           {
            "marker": {
             "colorbar": {
              "outlinewidth": 0,
              "ticks": ""
             }
            },
            "type": "scattercarpet"
           }
          ],
          "scattergeo": [
           {
            "marker": {
             "colorbar": {
              "outlinewidth": 0,
              "ticks": ""
             }
            },
            "type": "scattergeo"
           }
          ],
          "scattergl": [
           {
            "marker": {
             "colorbar": {
              "outlinewidth": 0,
              "ticks": ""
             }
            },
            "type": "scattergl"
           }
          ],
          "scattermapbox": [
           {
            "marker": {
             "colorbar": {
              "outlinewidth": 0,
              "ticks": ""
             }
            },
            "type": "scattermapbox"
           }
          ],
          "scatterpolar": [
           {
            "marker": {
             "colorbar": {
              "outlinewidth": 0,
              "ticks": ""
             }
            },
            "type": "scatterpolar"
           }
          ],
          "scatterpolargl": [
           {
            "marker": {
             "colorbar": {
              "outlinewidth": 0,
              "ticks": ""
             }
            },
            "type": "scatterpolargl"
           }
          ],
          "scatterternary": [
           {
            "marker": {
             "colorbar": {
              "outlinewidth": 0,
              "ticks": ""
             }
            },
            "type": "scatterternary"
           }
          ],
          "surface": [
           {
            "colorbar": {
             "outlinewidth": 0,
             "ticks": ""
            },
            "colorscale": [
             [
              0,
              "#0d0887"
             ],
             [
              0.1111111111111111,
              "#46039f"
             ],
             [
              0.2222222222222222,
              "#7201a8"
             ],
             [
              0.3333333333333333,
              "#9c179e"
             ],
             [
              0.4444444444444444,
              "#bd3786"
             ],
             [
              0.5555555555555556,
              "#d8576b"
             ],
             [
              0.6666666666666666,
              "#ed7953"
             ],
             [
              0.7777777777777778,
              "#fb9f3a"
             ],
             [
              0.8888888888888888,
              "#fdca26"
             ],
             [
              1,
              "#f0f921"
             ]
            ],
            "type": "surface"
           }
          ],
          "table": [
           {
            "cells": {
             "fill": {
              "color": "#EBF0F8"
             },
             "line": {
              "color": "white"
             }
            },
            "header": {
             "fill": {
              "color": "#C8D4E3"
             },
             "line": {
              "color": "white"
             }
            },
            "type": "table"
           }
          ]
         },
         "layout": {
          "annotationdefaults": {
           "arrowcolor": "#2a3f5f",
           "arrowhead": 0,
           "arrowwidth": 1
          },
          "autotypenumbers": "strict",
          "coloraxis": {
           "colorbar": {
            "outlinewidth": 0,
            "ticks": ""
           }
          },
          "colorscale": {
           "diverging": [
            [
             0,
             "#8e0152"
            ],
            [
             0.1,
             "#c51b7d"
            ],
            [
             0.2,
             "#de77ae"
            ],
            [
             0.3,
             "#f1b6da"
            ],
            [
             0.4,
             "#fde0ef"
            ],
            [
             0.5,
             "#f7f7f7"
            ],
            [
             0.6,
             "#e6f5d0"
            ],
            [
             0.7,
             "#b8e186"
            ],
            [
             0.8,
             "#7fbc41"
            ],
            [
             0.9,
             "#4d9221"
            ],
            [
             1,
             "#276419"
            ]
           ],
           "sequential": [
            [
             0,
             "#0d0887"
            ],
            [
             0.1111111111111111,
             "#46039f"
            ],
            [
             0.2222222222222222,
             "#7201a8"
            ],
            [
             0.3333333333333333,
             "#9c179e"
            ],
            [
             0.4444444444444444,
             "#bd3786"
            ],
            [
             0.5555555555555556,
             "#d8576b"
            ],
            [
             0.6666666666666666,
             "#ed7953"
            ],
            [
             0.7777777777777778,
             "#fb9f3a"
            ],
            [
             0.8888888888888888,
             "#fdca26"
            ],
            [
             1,
             "#f0f921"
            ]
           ],
           "sequentialminus": [
            [
             0,
             "#0d0887"
            ],
            [
             0.1111111111111111,
             "#46039f"
            ],
            [
             0.2222222222222222,
             "#7201a8"
            ],
            [
             0.3333333333333333,
             "#9c179e"
            ],
            [
             0.4444444444444444,
             "#bd3786"
            ],
            [
             0.5555555555555556,
             "#d8576b"
            ],
            [
             0.6666666666666666,
             "#ed7953"
            ],
            [
             0.7777777777777778,
             "#fb9f3a"
            ],
            [
             0.8888888888888888,
             "#fdca26"
            ],
            [
             1,
             "#f0f921"
            ]
           ]
          },
          "colorway": [
           "#636efa",
           "#EF553B",
           "#00cc96",
           "#ab63fa",
           "#FFA15A",
           "#19d3f3",
           "#FF6692",
           "#B6E880",
           "#FF97FF",
           "#FECB52"
          ],
          "font": {
           "color": "#2a3f5f"
          },
          "geo": {
           "bgcolor": "white",
           "lakecolor": "white",
           "landcolor": "#E5ECF6",
           "showlakes": true,
           "showland": true,
           "subunitcolor": "white"
          },
          "hoverlabel": {
           "align": "left"
          },
          "hovermode": "closest",
          "mapbox": {
           "style": "light"
          },
          "paper_bgcolor": "white",
          "plot_bgcolor": "#E5ECF6",
          "polar": {
           "angularaxis": {
            "gridcolor": "white",
            "linecolor": "white",
            "ticks": ""
           },
           "bgcolor": "#E5ECF6",
           "radialaxis": {
            "gridcolor": "white",
            "linecolor": "white",
            "ticks": ""
           }
          },
          "scene": {
           "xaxis": {
            "backgroundcolor": "#E5ECF6",
            "gridcolor": "white",
            "gridwidth": 2,
            "linecolor": "white",
            "showbackground": true,
            "ticks": "",
            "zerolinecolor": "white"
           },
           "yaxis": {
            "backgroundcolor": "#E5ECF6",
            "gridcolor": "white",
            "gridwidth": 2,
            "linecolor": "white",
            "showbackground": true,
            "ticks": "",
            "zerolinecolor": "white"
           },
           "zaxis": {
            "backgroundcolor": "#E5ECF6",
            "gridcolor": "white",
            "gridwidth": 2,
            "linecolor": "white",
            "showbackground": true,
            "ticks": "",
            "zerolinecolor": "white"
           }
          },
          "shapedefaults": {
           "line": {
            "color": "#2a3f5f"
           }
          },
          "ternary": {
           "aaxis": {
            "gridcolor": "white",
            "linecolor": "white",
            "ticks": ""
           },
           "baxis": {
            "gridcolor": "white",
            "linecolor": "white",
            "ticks": ""
           },
           "bgcolor": "#E5ECF6",
           "caxis": {
            "gridcolor": "white",
            "linecolor": "white",
            "ticks": ""
           }
          },
          "title": {
           "x": 0.05
          },
          "xaxis": {
           "automargin": true,
           "gridcolor": "white",
           "linecolor": "white",
           "ticks": "",
           "title": {
            "standoff": 15
           },
           "zerolinecolor": "white",
           "zerolinewidth": 2
          },
          "yaxis": {
           "automargin": true,
           "gridcolor": "white",
           "linecolor": "white",
           "ticks": "",
           "title": {
            "standoff": 15
           },
           "zerolinecolor": "white",
           "zerolinewidth": 2
          }
         }
        },
        "title": {
         "text": "Imports by Commodity and Partner"
        }
       }
      }
     },
     "metadata": {},
     "output_type": "display_data"
    }
   ],
   "source": [
    "fig = px.treemap(imports, path=[px.Constant(\"all\"), \"cmdDescE\", 'ptTitle'], \n",
    "                 values='TradeValue', color='cmdCode')\n",
    "fig.update_layout(margin = dict(t=50, l=0, r=0, b=0))\n",
    "fig.update_layout(title_text='Imports by Commodity and Partner')\n",
    "# remove outline color\n",
    "fig.update_traces(marker_line_color='rgb(0,0,0)', marker_line_width=.1)\n",
    "fig.show()\n"
   ]
  },
  {
   "cell_type": "code",
   "execution_count": null,
   "metadata": {},
   "outputs": [],
   "source": []
  }
 ],
 "metadata": {
  "kernelspec": {
   "display_name": "Python 3.10.6 ('geo')",
   "language": "python",
   "name": "python3"
  },
  "language_info": {
   "codemirror_mode": {
    "name": "ipython",
    "version": 3
   },
   "file_extension": ".py",
   "mimetype": "text/x-python",
   "name": "python",
   "nbconvert_exporter": "python",
   "pygments_lexer": "ipython3",
   "version": "3.10.6"
  },
  "orig_nbformat": 4,
  "vscode": {
   "interpreter": {
    "hash": "ce408d48c041f753076dbaea90f671b6d136b2c04f48a62e0a991cf8ef98bfb1"
   }
  }
 },
 "nbformat": 4,
 "nbformat_minor": 2
}
