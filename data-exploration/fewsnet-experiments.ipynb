{
 "cells": [
  {
   "cell_type": "code",
   "execution_count": 1,
   "metadata": {},
   "outputs": [],
   "source": [
    "import geopandas as gpd\n",
    "import pandas as pd\n",
    "from requests.auth import HTTPBasicAuth\n",
    "import requests\n",
    "import json"
   ]
  },
  {
   "cell_type": "code",
   "execution_count": null,
   "metadata": {},
   "outputs": [],
   "source": [
    "# make geopandas dataframe from assets/data/FEWS_NET_LH_World.zip\n",
    "fewsnet_all = gpd.read_file(\"../assets/data/FEWS_NET_LH_World.zip\")\n",
    "fewsnet_all = fewsnet_all.to_crs(epsg=4326)\n",
    "fewsnet_all.head(1)"
   ]
  },
  {
   "cell_type": "code",
   "execution_count": 10,
   "metadata": {},
   "outputs": [],
   "source": [
    "et_url = \"https://fdw.fews.net/api/marketpricefacts.json?country_code=ET\"\n"
   ]
  },
  {
   "cell_type": "code",
   "execution_count": 5,
   "metadata": {},
   "outputs": [
    {
     "data": {
      "text/plain": [
       "200"
      ]
     },
     "execution_count": 5,
     "metadata": {},
     "output_type": "execute_result"
    }
   ],
   "source": [
    "auth = HTTPBasicAuth(\"username\", \"password\")\n",
    "response = requests.get(et_url)\n",
    "response.status_code"
   ]
  },
  {
   "cell_type": "code",
   "execution_count": 6,
   "metadata": {},
   "outputs": [],
   "source": [
    "# mpf = pd.read_csv(response.text)\n",
    "mpf = pd.read_json(response.text)"
   ]
  },
  {
   "cell_type": "code",
   "execution_count": 18,
   "metadata": {},
   "outputs": [],
   "source": [
    "username = None\n",
    "password = None\n",
    "def get_fewsnet_data(url):\n",
    "    if username and password:\n",
    "        auth = HTTPBasicAuth(username, password)\n",
    "    else:\n",
    "        auth = None\n",
    "    response = requests.get(url, auth=auth)\n",
    "    return pd.read_json(response.text)\n",
    "et_ipcphase = get_fewsnet_data(\"https://fdw.fews.net/api/ipcphase.json?country_code=ET\")"
   ]
  },
  {
   "cell_type": "code",
   "execution_count": 13,
   "metadata": {},
   "outputs": [],
   "source": [
    "get_fewsnet_data(et_url)"
   ]
  },
  {
   "cell_type": "code",
   "execution_count": 19,
   "metadata": {},
   "outputs": [],
   "source": [
    "et_ipcphase = get_fewsnet_data(\"https://fdw.fews.net/api/ipcphase.json?country_code=ET\")"
   ]
  },
  {
   "cell_type": "code",
   "execution_count": 24,
   "metadata": {},
   "outputs": [
    {
     "name": "stdout",
     "output_type": "stream",
     "text": [
      "<class 'pandas.core.frame.DataFrame'>\n",
      "RangeIndex: 77415 entries, 0 to 77414\n",
      "Data columns (total 38 columns):\n",
      " #   Column                          Non-Null Count  Dtype         \n",
      "---  ------                          --------------  -----         \n",
      " 0   source_organization             77415 non-null  object        \n",
      " 1   source_document                 77415 non-null  object        \n",
      " 2   country                         77415 non-null  object        \n",
      " 3   country_code                    77415 non-null  object        \n",
      " 4   geographic_group                77415 non-null  object        \n",
      " 5   fewsnet_region                  77415 non-null  object        \n",
      " 6   geographic_unit_full_name       77415 non-null  object        \n",
      " 7   geographic_unit_name            77415 non-null  object        \n",
      " 8   unit_type                       77415 non-null  object        \n",
      " 9   fnid                            77415 non-null  object        \n",
      " 10  classification_scale            77415 non-null  object        \n",
      " 11  scenario_name                   77415 non-null  object        \n",
      " 12  preference_rating               77415 non-null  int64         \n",
      " 13  is_allowing_for_assistance      77415 non-null  bool          \n",
      " 14  start_date                      77415 non-null  object        \n",
      " 15  period_date                     77415 non-null  object        \n",
      " 16  status                          77415 non-null  object        \n",
      " 17  value                           77415 non-null  int64         \n",
      " 18  description                     77415 non-null  object        \n",
      " 19  id                              77415 non-null  int64         \n",
      " 20  datacollectionperiod            77415 non-null  int64         \n",
      " 21  datacollection                  77415 non-null  int64         \n",
      " 22  scenario                        77415 non-null  object        \n",
      " 23  geographic_unit                 77415 non-null  int64         \n",
      " 24  datasourceorganization          77415 non-null  int64         \n",
      " 25  datasourcedocument              77415 non-null  int64         \n",
      " 26  dataseries                      77415 non-null  int64         \n",
      " 27  dataseries_name                 77415 non-null  object        \n",
      " 28  specialization_type             77415 non-null  object        \n",
      " 29  dataseries_specialization_type  77415 non-null  object        \n",
      " 30  data_usage_policy               77415 non-null  object        \n",
      " 31  created                         77415 non-null  object        \n",
      " 32  modified                        77415 non-null  datetime64[ns]\n",
      " 33  status_changed                  77415 non-null  object        \n",
      " 34  collection_status               77415 non-null  object        \n",
      " 35  collection_status_changed       77415 non-null  object        \n",
      " 36  collection_schedule             77415 non-null  object        \n",
      " 37  collection_date                 77415 non-null  object        \n",
      "dtypes: bool(1), datetime64[ns](1), int64(9), object(27)\n",
      "memory usage: 21.9+ MB\n"
     ]
    }
   ],
   "source": [
    "# print information on pandas data frame\n",
    "et_ipcphase.info()"
   ]
  },
  {
   "cell_type": "code",
   "execution_count": null,
   "metadata": {},
   "outputs": [],
   "source": []
  }
 ],
 "metadata": {
  "kernelspec": {
   "display_name": "Python 3.10.6 ('geo')",
   "language": "python",
   "name": "python3"
  },
  "language_info": {
   "codemirror_mode": {
    "name": "ipython",
    "version": 3
   },
   "file_extension": ".py",
   "mimetype": "text/x-python",
   "name": "python",
   "nbconvert_exporter": "python",
   "pygments_lexer": "ipython3",
   "version": "3.10.6"
  },
  "orig_nbformat": 4,
  "vscode": {
   "interpreter": {
    "hash": "ce408d48c041f753076dbaea90f671b6d136b2c04f48a62e0a991cf8ef98bfb1"
   }
  }
 },
 "nbformat": 4,
 "nbformat_minor": 2
}
