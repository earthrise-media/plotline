{
 "cells": [
  {
   "cell_type": "code",
   "execution_count": 14,
   "metadata": {},
   "outputs": [],
   "source": [
    "# general imports\n",
    "import cmath\n",
    "import numpy as np\n",
    "import pandas as pd\n",
    "import streamlit as st\n",
    "import requests\n",
    "import geopandas as gpd\n",
    "from datetime import date\n",
    "import groclient\n",
    "import geopandas as gpd"
   ]
  },
  {
   "cell_type": "markdown",
   "metadata": {},
   "source": [
    "# Gro Intelligence\n",
    "Gro Intelligence offers many paid tools for analysis of food security related topics. \n",
    "[Documentation on API here](https://developers.gro-intelligence.com/index.html) "
   ]
  },
  {
   "cell_type": "code",
   "execution_count": 19,
   "metadata": {},
   "outputs": [],
   "source": [
    "# ToDo - will be easier with more documentation"
   ]
  },
  {
   "cell_type": "markdown",
   "metadata": {},
   "source": [
    "# Famine Early Warning System (FEWS)"
   ]
  },
  {
   "cell_type": "code",
   "execution_count": 18,
   "metadata": {},
   "outputs": [
    {
     "data": {
      "text/html": [
       "<div>\n",
       "<style scoped>\n",
       "    .dataframe tbody tr th:only-of-type {\n",
       "        vertical-align: middle;\n",
       "    }\n",
       "\n",
       "    .dataframe tbody tr th {\n",
       "        vertical-align: top;\n",
       "    }\n",
       "\n",
       "    .dataframe thead th {\n",
       "        text-align: right;\n",
       "    }\n",
       "</style>\n",
       "<table border=\"1\" class=\"dataframe\">\n",
       "  <thead>\n",
       "    <tr style=\"text-align: right;\">\n",
       "      <th></th>\n",
       "      <th>id</th>\n",
       "      <th>classification_scale</th>\n",
       "      <th>collection_date</th>\n",
       "      <th>country_code</th>\n",
       "      <th>datasourcedocument</th>\n",
       "      <th>datasourceorganization</th>\n",
       "      <th>is_allowing_for_assistance</th>\n",
       "      <th>period_date</th>\n",
       "      <th>scenario</th>\n",
       "      <th>start_date</th>\n",
       "      <th>unit_type</th>\n",
       "      <th>value</th>\n",
       "      <th>geometry</th>\n",
       "    </tr>\n",
       "  </thead>\n",
       "  <tbody>\n",
       "    <tr>\n",
       "      <th>0</th>\n",
       "      <td>0</td>\n",
       "      <td>IPC 3.0</td>\n",
       "      <td>2022-05-01</td>\n",
       "      <td>CM</td>\n",
       "      <td>6536</td>\n",
       "      <td>2026</td>\n",
       "      <td>False</td>\n",
       "      <td>2022-05-31</td>\n",
       "      <td>ML1</td>\n",
       "      <td>2022-05-01</td>\n",
       "      <td>fsc_admin_lhz</td>\n",
       "      <td>1</td>\n",
       "      <td>POLYGON ((9.88436 2.22968, 9.88184 2.23220, 9....</td>\n",
       "    </tr>\n",
       "    <tr>\n",
       "      <th>1</th>\n",
       "      <td>1</td>\n",
       "      <td>IPC 3.0</td>\n",
       "      <td>2022-05-01</td>\n",
       "      <td>CM</td>\n",
       "      <td>6536</td>\n",
       "      <td>2026</td>\n",
       "      <td>False</td>\n",
       "      <td>2022-05-31</td>\n",
       "      <td>ML1</td>\n",
       "      <td>2022-05-01</td>\n",
       "      <td>fsc_admin_lhz</td>\n",
       "      <td>2</td>\n",
       "      <td>MULTIPOLYGON (((15.13318 4.10569, 15.13798 4.0...</td>\n",
       "    </tr>\n",
       "    <tr>\n",
       "      <th>2</th>\n",
       "      <td>2</td>\n",
       "      <td>IPC 3.0</td>\n",
       "      <td>2022-05-01</td>\n",
       "      <td>CM</td>\n",
       "      <td>6536</td>\n",
       "      <td>2026</td>\n",
       "      <td>False</td>\n",
       "      <td>2022-05-31</td>\n",
       "      <td>ML1</td>\n",
       "      <td>2022-05-01</td>\n",
       "      <td>fsc_admin_lhz</td>\n",
       "      <td>3</td>\n",
       "      <td>MULTIPOLYGON (((9.47588 4.36309, 9.47229 4.363...</td>\n",
       "    </tr>\n",
       "    <tr>\n",
       "      <th>3</th>\n",
       "      <td>3</td>\n",
       "      <td>IPC 3.0</td>\n",
       "      <td>2022-05-01</td>\n",
       "      <td>CM</td>\n",
       "      <td>6536</td>\n",
       "      <td>2026</td>\n",
       "      <td>False</td>\n",
       "      <td>2022-09-30</td>\n",
       "      <td>ML2</td>\n",
       "      <td>2022-06-01</td>\n",
       "      <td>fsc_admin_lhz</td>\n",
       "      <td>1</td>\n",
       "      <td>POLYGON ((9.88436 2.22968, 9.88184 2.23220, 9....</td>\n",
       "    </tr>\n",
       "    <tr>\n",
       "      <th>4</th>\n",
       "      <td>4</td>\n",
       "      <td>IPC 3.0</td>\n",
       "      <td>2022-05-01</td>\n",
       "      <td>CM</td>\n",
       "      <td>6536</td>\n",
       "      <td>2026</td>\n",
       "      <td>False</td>\n",
       "      <td>2022-09-30</td>\n",
       "      <td>ML2</td>\n",
       "      <td>2022-06-01</td>\n",
       "      <td>fsc_admin_lhz</td>\n",
       "      <td>2</td>\n",
       "      <td>MULTIPOLYGON (((9.03586 4.26520, 9.04562 4.263...</td>\n",
       "    </tr>\n",
       "    <tr>\n",
       "      <th>5</th>\n",
       "      <td>5</td>\n",
       "      <td>IPC 3.0</td>\n",
       "      <td>2022-05-01</td>\n",
       "      <td>CM</td>\n",
       "      <td>6536</td>\n",
       "      <td>2026</td>\n",
       "      <td>False</td>\n",
       "      <td>2022-09-30</td>\n",
       "      <td>ML2</td>\n",
       "      <td>2022-06-01</td>\n",
       "      <td>fsc_admin_lhz</td>\n",
       "      <td>3</td>\n",
       "      <td>MULTIPOLYGON (((8.96811 4.30481, 8.96344 4.295...</td>\n",
       "    </tr>\n",
       "  </tbody>\n",
       "</table>\n",
       "</div>"
      ],
      "text/plain": [
       "  id classification_scale collection_date country_code  datasourcedocument  \\\n",
       "0  0              IPC 3.0      2022-05-01           CM                6536   \n",
       "1  1              IPC 3.0      2022-05-01           CM                6536   \n",
       "2  2              IPC 3.0      2022-05-01           CM                6536   \n",
       "3  3              IPC 3.0      2022-05-01           CM                6536   \n",
       "4  4              IPC 3.0      2022-05-01           CM                6536   \n",
       "5  5              IPC 3.0      2022-05-01           CM                6536   \n",
       "\n",
       "   datasourceorganization  is_allowing_for_assistance period_date scenario  \\\n",
       "0                    2026                       False  2022-05-31      ML1   \n",
       "1                    2026                       False  2022-05-31      ML1   \n",
       "2                    2026                       False  2022-05-31      ML1   \n",
       "3                    2026                       False  2022-09-30      ML2   \n",
       "4                    2026                       False  2022-09-30      ML2   \n",
       "5                    2026                       False  2022-09-30      ML2   \n",
       "\n",
       "   start_date      unit_type  value  \\\n",
       "0  2022-05-01  fsc_admin_lhz      1   \n",
       "1  2022-05-01  fsc_admin_lhz      2   \n",
       "2  2022-05-01  fsc_admin_lhz      3   \n",
       "3  2022-06-01  fsc_admin_lhz      1   \n",
       "4  2022-06-01  fsc_admin_lhz      2   \n",
       "5  2022-06-01  fsc_admin_lhz      3   \n",
       "\n",
       "                                            geometry  \n",
       "0  POLYGON ((9.88436 2.22968, 9.88184 2.23220, 9....  \n",
       "1  MULTIPOLYGON (((15.13318 4.10569, 15.13798 4.0...  \n",
       "2  MULTIPOLYGON (((9.47588 4.36309, 9.47229 4.363...  \n",
       "3  POLYGON ((9.88436 2.22968, 9.88184 2.23220, 9....  \n",
       "4  MULTIPOLYGON (((9.03586 4.26520, 9.04562 4.263...  \n",
       "5  MULTIPOLYGON (((8.96811 4.30481, 8.96344 4.295...  "
      ]
     },
     "execution_count": 18,
     "metadata": {},
     "output_type": "execute_result"
    }
   ],
   "source": [
    "fews_url = \"https://fdw.fews.net/api/ipcphasemap/?country_code=CM&collection_date=2022-05-01&format=geojson\"\n",
    "gdf = gpd.read_file(fews_url)\n",
    "gdf"
   ]
  },
  {
   "cell_type": "markdown",
   "metadata": {},
   "source": [
    "I can't find documentation on the FEWS API and they are not accepting new account submissions\n",
    "\n",
    "Find mapbox tileset of data linked in our doc here: \"highestroad.6ph459qs\""
   ]
  },
  {
   "cell_type": "markdown",
   "metadata": {},
   "source": [
    "image.png"
   ]
  }
 ],
 "metadata": {
  "kernelspec": {
   "display_name": "Python 3.10.4 ('food-security')",
   "language": "python",
   "name": "python3"
  },
  "language_info": {
   "codemirror_mode": {
    "name": "ipython",
    "version": 3
   },
   "file_extension": ".py",
   "mimetype": "text/x-python",
   "name": "python",
   "nbconvert_exporter": "python",
   "pygments_lexer": "ipython3",
   "version": "3.10.4"
  },
  "orig_nbformat": 4,
  "vscode": {
   "interpreter": {
    "hash": "80d14d1fb741077bd42a5b4187c7db14fd15f042564cfa5e7db6942dfa41f05d"
   }
  }
 },
 "nbformat": 4,
 "nbformat_minor": 2
}
